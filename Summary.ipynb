{
 "cells": [
  {
   "cell_type": "markdown",
   "id": "f279841a-aeda-432f-8806-bb65094e3272",
   "metadata": {},
   "source": [
    "# Wykrywanie społeczności w sieciach"
   ]
  },
  {
   "cell_type": "markdown",
   "id": "97998c37-560b-473f-9932-b9eb4d212083",
   "metadata": {},
   "source": [
    "**Dominika Szydło** i **Oliwier Kaszyca**"
   ]
  },
  {
   "cell_type": "markdown",
   "id": "43aba3df-3132-475f-a45f-bf4ef7922fa7",
   "metadata": {},
   "source": [
    "---"
   ]
  },
  {
   "cell_type": "code",
   "execution_count": 9,
   "id": "7032d21f-226c-47eb-a9cd-834534b78b89",
   "metadata": {},
   "outputs": [],
   "source": [
    "import pandas as pd\n",
    "from pathlib import Path\n",
    "from gensim.models import Word2Vec"
   ]
  },
  {
   "cell_type": "code",
   "execution_count": 8,
   "id": "3e304a76-22e0-4077-9a7d-21fc7a7d0b68",
   "metadata": {},
   "outputs": [],
   "source": [
    "DATA_PATH = Path(\"data\")\n",
    "EMBBEDDINGS_PATH = Path(\"embbeddings\")"
   ]
  },
  {
   "cell_type": "markdown",
   "id": "ad5c87b7-70a4-4ed6-8cd3-573f51fc8426",
   "metadata": {},
   "source": [
    "---"
   ]
  },
  {
   "cell_type": "markdown",
   "id": "00132649-60cc-4dcd-94ff-0adaf1a4744d",
   "metadata": {},
   "source": [
    "# Opis problemu"
   ]
  },
  {
   "cell_type": "markdown",
   "id": "5a529427-ca64-400c-9a21-b889a0499818",
   "metadata": {},
   "source": [
    "## Typ problemu\n",
    "\n",
    "Rozważany problem to klasyfikacja wierzchołków w grafie reprezentującym sieć społecznościową. \n"
   ]
  },
  {
   "cell_type": "markdown",
   "id": "29f55167-564b-48ba-9a78-f19b362f9683",
   "metadata": {},
   "source": [
    "## Zbiór danych\n"
   ]
  },
  {
   "cell_type": "markdown",
   "id": "63214320-08d7-4cee-bd11-3354749d32fb",
   "metadata": {},
   "source": [
    "Badania przeprowadzono na zmodyfikowanej sieci *email-Eu-core* składającym się z 986 wierzchołków, przyporządkowanych do 42 grup. Wizualizację badanej sieci przedstawiono poniżej."
   ]
  },
  {
   "cell_type": "markdown",
   "id": "e8304a6e-ead3-4506-928a-9d4c0815495e",
   "metadata": {},
   "source": [
    "![Network](images/network.png)"
   ]
  },
  {
   "cell_type": "markdown",
   "id": "277d6d3e-c715-4f9c-82f3-f9010f8d8964",
   "metadata": {},
   "source": [
    "### Dane wejściowe"
   ]
  },
  {
   "cell_type": "markdown",
   "id": "cf7314dc-e513-47e4-b923-15e069089b9a",
   "metadata": {},
   "source": [
    "Danymi wejściowymi będzie informacja o pracowniku, reprezentowana jako wektor wygenerowany przez metodę [`node2vec`](https://github.com/aditya-grover/node2vec) ($X$) oraz informacja o przynależności do działu ($Y$).\n"
   ]
  },
  {
   "cell_type": "code",
   "execution_count": 7,
   "id": "4c162499-8ce7-467d-ade4-83bb12b6853c",
   "metadata": {},
   "outputs": [
    {
     "data": {
      "text/html": [
       "<div>\n",
       "<style scoped>\n",
       "    .dataframe tbody tr th:only-of-type {\n",
       "        vertical-align: middle;\n",
       "    }\n",
       "\n",
       "    .dataframe tbody tr th {\n",
       "        vertical-align: top;\n",
       "    }\n",
       "\n",
       "    .dataframe thead th {\n",
       "        text-align: right;\n",
       "    }\n",
       "</style>\n",
       "<table border=\"1\" class=\"dataframe\">\n",
       "  <thead>\n",
       "    <tr style=\"text-align: right;\">\n",
       "      <th></th>\n",
       "      <th>user_id</th>\n",
       "      <th>department_id</th>\n",
       "      <th>embbedding_id</th>\n",
       "    </tr>\n",
       "  </thead>\n",
       "  <tbody>\n",
       "    <tr>\n",
       "      <th>0</th>\n",
       "      <td>0</td>\n",
       "      <td>1</td>\n",
       "      <td>266</td>\n",
       "    </tr>\n",
       "    <tr>\n",
       "      <th>1</th>\n",
       "      <td>1</td>\n",
       "      <td>1</td>\n",
       "      <td>215</td>\n",
       "    </tr>\n",
       "    <tr>\n",
       "      <th>2</th>\n",
       "      <td>2</td>\n",
       "      <td>21</td>\n",
       "      <td>60</td>\n",
       "    </tr>\n",
       "    <tr>\n",
       "      <th>3</th>\n",
       "      <td>3</td>\n",
       "      <td>21</td>\n",
       "      <td>128</td>\n",
       "    </tr>\n",
       "    <tr>\n",
       "      <th>4</th>\n",
       "      <td>4</td>\n",
       "      <td>21</td>\n",
       "      <td>63</td>\n",
       "    </tr>\n",
       "    <tr>\n",
       "      <th>...</th>\n",
       "      <td>...</td>\n",
       "      <td>...</td>\n",
       "      <td>...</td>\n",
       "    </tr>\n",
       "    <tr>\n",
       "      <th>981</th>\n",
       "      <td>1000</td>\n",
       "      <td>4</td>\n",
       "      <td>759</td>\n",
       "    </tr>\n",
       "    <tr>\n",
       "      <th>982</th>\n",
       "      <td>1001</td>\n",
       "      <td>21</td>\n",
       "      <td>674</td>\n",
       "    </tr>\n",
       "    <tr>\n",
       "      <th>983</th>\n",
       "      <td>1002</td>\n",
       "      <td>1</td>\n",
       "      <td>924</td>\n",
       "    </tr>\n",
       "    <tr>\n",
       "      <th>984</th>\n",
       "      <td>1003</td>\n",
       "      <td>6</td>\n",
       "      <td>974</td>\n",
       "    </tr>\n",
       "    <tr>\n",
       "      <th>985</th>\n",
       "      <td>1004</td>\n",
       "      <td>22</td>\n",
       "      <td>927</td>\n",
       "    </tr>\n",
       "  </tbody>\n",
       "</table>\n",
       "<p>986 rows × 3 columns</p>\n",
       "</div>"
      ],
      "text/plain": [
       "     user_id  department_id  embbedding_id\n",
       "0          0              1            266\n",
       "1          1              1            215\n",
       "2          2             21             60\n",
       "3          3             21            128\n",
       "4          4             21             63\n",
       "..       ...            ...            ...\n",
       "981     1000              4            759\n",
       "982     1001             21            674\n",
       "983     1002              1            924\n",
       "984     1003              6            974\n",
       "985     1004             22            927\n",
       "\n",
       "[986 rows x 3 columns]"
      ]
     },
     "execution_count": 7,
     "metadata": {},
     "output_type": "execute_result"
    }
   ],
   "source": [
    "pd.read_csv(DATA_PATH / \"train_data.tsv\", sep=\" \")"
   ]
  },
  {
   "cell_type": "code",
   "execution_count": 12,
   "id": "e8379bc4-423a-4d49-ac2c-aac9659d7efc",
   "metadata": {},
   "outputs": [
    {
     "data": {
      "text/plain": [
       "array([ 0.02225889,  0.19447829, -0.09200738, -0.27720863,  0.03538975,\n",
       "        0.22662188,  0.18581073, -0.0903049 ,  0.12872799,  0.00794893,\n",
       "        0.28711984, -0.17070821, -0.2333458 ,  0.24912564, -0.2353019 ,\n",
       "        0.03209164,  0.12682602, -0.04706044, -0.0633488 , -0.28577852,\n",
       "       -0.13404648,  0.21503699, -0.00330228,  0.01003238,  0.30007756,\n",
       "       -0.00545652,  0.23217416,  0.2720985 , -0.33044073,  0.2142734 ,\n",
       "       -0.10560817, -0.36481318,  0.12313964, -0.10946704,  0.19214727,\n",
       "        0.12820779,  0.02071633, -0.10759116,  0.03678202,  0.08680518,\n",
       "        0.33808035, -0.03600693, -0.02475484, -0.09358548, -0.20100296,\n",
       "        0.18724719,  0.26912943, -0.06421999,  0.06172297,  0.06551058,\n",
       "       -0.13186899, -0.09475884, -0.05098552,  0.17380567, -0.03078185,\n",
       "       -0.17430164, -0.15307337,  0.0892554 , -0.33101523,  0.08577861,\n",
       "       -0.08642791,  0.2687027 , -0.12943153, -0.16547027], dtype=float32)"
      ]
     },
     "execution_count": 12,
     "metadata": {},
     "output_type": "execute_result"
    }
   ],
   "source": [
    "model = Word2Vec.load(str(EMBBEDDINGS_PATH / \"graph.model\"))\n",
    "model.wv[0]"
   ]
  },
  {
   "cell_type": "markdown",
   "id": "573656ce-966f-43ad-a072-248036c22e5a",
   "metadata": {},
   "source": [
    "### Dane wejściowe"
   ]
  },
  {
   "cell_type": "markdown",
   "id": "737d7281-1d63-4771-a7be-ba8aab74416e",
   "metadata": {},
   "source": [
    "Jako dane wyjściowe traktujemy parę $(n, c)$, gdzie $n$ to ID pracownika (wierzchołka), a $c$ to jego przynależność do działu (klasy)."
   ]
  },
  {
   "cell_type": "markdown",
   "id": "360d16d9-766a-42c4-a06f-89640c3d6945",
   "metadata": {},
   "source": [
    "## Hipoteza badawcza"
   ]
  },
  {
   "cell_type": "markdown",
   "id": "e6a39a40-ad3a-462d-801c-a2ecf606df96",
   "metadata": {},
   "source": [
    "TODO"
   ]
  },
  {
   "cell_type": "markdown",
   "id": "110a8dc6-9244-4027-85e9-b04d0ee27a2e",
   "metadata": {},
   "source": [
    "# Opis wybranych modeli"
   ]
  },
  {
   "cell_type": "markdown",
   "id": "002da2a1-c763-4aa6-9872-e36af0819f83",
   "metadata": {},
   "source": [
    "## Graph Attention Network (GAT)"
   ]
  },
  {
   "cell_type": "markdown",
   "id": "361258bf-ee8c-44fc-bc7c-c91546112ab4",
   "metadata": {},
   "source": [
    "TODO"
   ]
  },
  {
   "cell_type": "markdown",
   "id": "95289889-94ae-4215-bbb9-313a34ae93d3",
   "metadata": {},
   "source": [
    "## Graph Convolutional Network (GCN) "
   ]
  },
  {
   "cell_type": "markdown",
   "id": "3253a15d-980b-40a6-a871-ced2631bd457",
   "metadata": {},
   "source": [
    "TODO"
   ]
  },
  {
   "cell_type": "markdown",
   "id": "e582917d-84ae-4eed-af36-33e89a2e81cc",
   "metadata": {},
   "source": [
    "# Eksperymenty"
   ]
  },
  {
   "cell_type": "markdown",
   "id": "24ecb246-7814-4b3e-8932-0daacb48c89b",
   "metadata": {},
   "source": [
    "TODO"
   ]
  },
  {
   "cell_type": "markdown",
   "id": "d3c7ee55-e7f5-4747-b7cb-21f92738abd7",
   "metadata": {},
   "source": [
    "# Opis rezultatów"
   ]
  },
  {
   "cell_type": "markdown",
   "id": "28a07371-47bb-462f-8c48-d3a239035aa9",
   "metadata": {},
   "source": [
    "TODO"
   ]
  }
 ],
 "metadata": {
  "kernelspec": {
   "display_name": "Python 3 (ipykernel)",
   "language": "python",
   "name": "python3"
  },
  "language_info": {
   "codemirror_mode": {
    "name": "ipython",
    "version": 3
   },
   "file_extension": ".py",
   "mimetype": "text/x-python",
   "name": "python",
   "nbconvert_exporter": "python",
   "pygments_lexer": "ipython3",
   "version": "3.9.13"
  }
 },
 "nbformat": 4,
 "nbformat_minor": 5
}
