{
 "cells": [
  {
   "cell_type": "markdown",
   "id": "d54d0903-c3ae-43e3-970f-4d15e316b66d",
   "metadata": {},
   "source": [
    "# Implementacja sieci GCN"
   ]
  },
  {
   "cell_type": "code",
   "execution_count": 1,
   "id": "50311a2c-0930-4bb8-a1cb-9bc648c6d2d2",
   "metadata": {},
   "outputs": [],
   "source": [
    "%load_ext autoreload\n",
    "%autoreload 2"
   ]
  },
  {
   "cell_type": "code",
   "execution_count": null,
   "id": "0390d1a5-5c58-46f5-85dd-9759b55dac71",
   "metadata": {},
   "outputs": [],
   "source": [
    "import matplotlib.pyplot as plt\n",
    "import torch\n",
    "from torch import nn\n",
    "from torch_geometric.nn import GCNConv\n",
    "\n",
    "from torch_geometric.utils.convert import from_networkx\n",
    "\n",
    "from src.trainer import get_default_trainer\n",
    "from src.utils import evaluate_embeddings\n",
    "from src.supervised import SupervisedNodeClassificationGNN\n",
    "from src.dataset import EmailEUCore\n",
    "from src.dataloader import GraphData\n",
    "\n",
    "import networkx as nx\n",
    "import pandas as pd\n",
    "from pathlib import Path\n",
    "from gensim.models import KeyedVectors\n"
   ]
  },
  {
   "cell_type": "code",
   "execution_count": null,
   "id": "37138ec1-c6a4-4ac7-9a24-9a344f29e81e",
   "metadata": {},
   "outputs": [],
   "source": [
    "EMBBEDDINGS_PATH = Path(\"embbeddings\")\n",
    "DATA_PATH = Path(\"data\")\n",
    "LOG_DIR = Path(\"logs\")\n",
    "RESULTS_DIR = Path(\"results\")\n",
    "RANDOM_STATE = 345"
   ]
  },
  {
   "cell_type": "code",
   "execution_count": null,
   "id": "637e17a9-cc8a-498d-a510-cfd4f8fe0e05",
   "metadata": {},
   "outputs": [],
   "source": [
    "%load_ext tensorboard\n",
    "%tensorboard --logdir $LOG_DIR"
   ]
  },
  {
   "cell_type": "code",
   "execution_count": null,
   "id": "258511d3-f326-4d47-92ca-a889a4b12b13",
   "metadata": {},
   "outputs": [],
   "source": [
    "class GCNModel(nn.Module):\n",
    "    def __init__(\n",
    "        self,\n",
    "        in_dim: int,\n",
    "        hidden_dim: int,\n",
    "        out_dim: int\n",
    "    ):\n",
    "        super().__init__()\n",
    "        self.conv1 = GCNConv(in_dim, hidden_dim)\n",
    "        self.act1 = nn.ReLU()\n",
    "        self.conv2 = GCNConv(hidden_dim, out_dim)\n",
    "        self.act2 = nn.ReLU()\n",
    "\n",
    "    def forward(self, x, edge_index):\n",
    "        z = self.act1(self.conv1(x, edge_index))\n",
    "        z = self.act2(self.conv2(z, edge_index))\n",
    "        return z"
   ]
  },
  {
   "cell_type": "code",
   "execution_count": null,
   "id": "26670024-4f66-480f-9021-5c03aa80c271",
   "metadata": {},
   "outputs": [],
   "source": [
    "def evaluate_gcn(trainer, model):\n",
    "    test_data = trainer.test(model=model, datamodule=datamodule, verbose=False)[0]\n",
    "    auc_score = test_data[\"test/auc\"]\n",
    "    f1_score = test_data[\"test/f1\"]\n",
    "    \n",
    "    print(f\"Test f1 score: {f1_score}\")\n",
    "    \n",
    "    z, y = trainer.predict(model=model, datamodule=datamodule)[0]\n",
    "    fig, data = evaluate_embeddings(z=z, y=y, random_state=RANDOM_STATE)\n",
    "    fig.suptitle(f\"GCN - test AUC: {auc_score * 100.:.2f} [%]\")\n",
    "    plt.show()\n",
    "    \n",
    "    data[\"f1_test\"] = f1_score\n",
    "    data[\"auc_test\"] = auc_score\n",
    "    \n",
    "    return data"
   ]
  },
  {
   "cell_type": "markdown",
   "id": "53e3ab2f-c9d1-4d0b-867f-d6d582648dd7",
   "metadata": {},
   "source": [
    "# Eksperymenty"
   ]
  },
  {
   "cell_type": "markdown",
   "id": "5129c12e-e9f3-48bc-ba8d-1d969103619a",
   "metadata": {},
   "source": [
    " ## Wektory o rozmiarze 128"
   ]
  },
  {
   "cell_type": "code",
   "execution_count": 3,
   "id": "23f09699-7aa3-4bb3-b54b-e8a08db2a0c0",
   "metadata": {},
   "outputs": [],
   "source": [
    "hparams = {\n",
    "    \"num_epochs\": 400,\n",
    "    \"hidden_dim\":  64,\n",
    "    \"emb_dim\": 128,\n",
    "    \"lr\": 3e-2,\n",
    "    \"model_name\": \"Supervised_GCN_128\"\n",
    "}"
   ]
  },
  {
   "cell_type": "code",
   "execution_count": null,
   "id": "d2ae986f-10b8-4631-91e1-247c84e3f8a7",
   "metadata": {},
   "outputs": [],
   "source": [
    "datamodule = GraphData(\n",
    "    root_path=f\"dataset_{hparams['emb_dim']}\",\n",
    "    graph_path=DATA_PATH / 'network.gpickle',\n",
    "    dataset_path=DATA_PATH / f\"train_data_{hparams['emb_dim']}.tsv\",\n",
    "    embbeddings_path=EMBBEDDINGS_PATH / f\"embbeddings_{hparams['emb_dim']}.graphvectors\",\n",
    "    random_state=RANDOM_STATE\n",
    ")"
   ]
  },
  {
   "cell_type": "code",
   "execution_count": null,
   "id": "05d1d9ec-1dd0-441a-b9ec-dbb8381595c9",
   "metadata": {},
   "outputs": [],
   "source": [
    "def train_gcn():\n",
    "    gnn = GCNModel(\n",
    "        in_dim=datamodule.num_node_features,\n",
    "        hidden_dim=hparams[\"hidden_dim\"],\n",
    "        out_dim=hparams[\"emb_dim\"],\n",
    "    )\n",
    "    \n",
    "    model=SupervisedNodeClassificationGNN(\n",
    "        gnn=gnn, \n",
    "        emb_dim=hparams[\"emb_dim\"],\n",
    "        num_classes=datamodule.num_classes,\n",
    "        lr=hparams[\"lr\"]\n",
    "    )\n",
    "\n",
    "    trainer = get_default_trainer(\n",
    "        num_epochs=hparams[\"num_epochs\"],\n",
    "        model_name=hparams[\"model_name\"],\n",
    "    )\n",
    "    \n",
    "    trainer.fit(model=model, datamodule=datamodule)\n",
    "    return trainer, model\n",
    "    "
   ]
  },
  {
   "cell_type": "code",
   "execution_count": null,
   "id": "aa7937a9-4be2-4c68-8f83-a72a147f5d82",
   "metadata": {
    "tags": []
   },
   "outputs": [],
   "source": [
    "trainer, model = train_gcn()"
   ]
  },
  {
   "cell_type": "code",
   "execution_count": null,
   "id": "62253d3c-68fe-4e35-912f-1979f3015cf0",
   "metadata": {},
   "outputs": [],
   "source": [
    "evaluate_gcn(trainer, model)"
   ]
  },
  {
   "cell_type": "markdown",
   "id": "4ef5fe62-b975-4c35-9e68-b5f97d0c7265",
   "metadata": {},
   "source": [
    "## Wektory o rozmiarze 64"
   ]
  },
  {
   "cell_type": "code",
   "execution_count": null,
   "id": "d58ad8fe-1e23-4ff2-92ca-9d2c07a9f657",
   "metadata": {},
   "outputs": [],
   "source": [
    "hparams = {\n",
    "    \"num_epochs\": 200,\n",
    "    \"hidden_dim\":  128,\n",
    "    \"emb_dim\": 64,\n",
    "    \"lr\": 5e-2,\n",
    "    \"model_name\": \"Supervised_GCN_64\"\n",
    "}"
   ]
  },
  {
   "cell_type": "code",
   "execution_count": null,
   "id": "f230dfb0-f191-4a4e-99ad-43df5a18f1c4",
   "metadata": {},
   "outputs": [],
   "source": [
    "datamodule = GraphData(\n",
    "    root_path=f\"dataset_{hparams['emb_dim']}\",\n",
    "    graph_path=DATA_PATH / 'network.gpickle',\n",
    "    dataset_path=DATA_PATH / f\"train_data_{hparams['emb_dim']}.tsv\",\n",
    "    embbeddings_path=EMBBEDDINGS_PATH / f\"embbeddings_{hparams['emb_dim']}.graphvectors\",\n",
    "    random_state=RANDOM_STATE\n",
    ")"
   ]
  },
  {
   "cell_type": "code",
   "execution_count": null,
   "id": "aab16630-c17d-4ba5-b847-eb27b5a195dc",
   "metadata": {},
   "outputs": [],
   "source": [
    "def train_gcn():\n",
    "    gnn = GCNModel(\n",
    "        in_dim=datamodule.num_node_features,\n",
    "        hidden_dim=hparams[\"hidden_dim\"],\n",
    "        out_dim=hparams[\"emb_dim\"],\n",
    "    )\n",
    "    \n",
    "    model=SupervisedNodeClassificationGNN(\n",
    "        gnn=gnn, \n",
    "        emb_dim=hparams[\"emb_dim\"],\n",
    "        num_classes=datamodule.num_classes,\n",
    "        lr=hparams[\"lr\"]\n",
    "    )\n",
    "\n",
    "    trainer = get_default_trainer(\n",
    "        num_epochs=hparams[\"num_epochs\"],\n",
    "        model_name=hparams[\"model_name\"],\n",
    "    )\n",
    "    \n",
    "    trainer.fit(model=model, datamodule=datamodule)\n",
    "    return trainer, model\n",
    "    "
   ]
  },
  {
   "cell_type": "code",
   "execution_count": null,
   "id": "3e55da41-66b8-4a69-8e3b-9053cfbf3b5a",
   "metadata": {},
   "outputs": [],
   "source": [
    "trainer, model = train_gcn()"
   ]
  },
  {
   "cell_type": "code",
   "execution_count": null,
   "id": "7bbd41ec-1d7a-4362-8c9a-1d174c2d5dbf",
   "metadata": {},
   "outputs": [],
   "source": [
    "data = evaluate_gcn(trainer, model)"
   ]
  },
  {
   "cell_type": "markdown",
   "id": "58a28cbc-2367-4d89-b73f-87ea4b55d67f",
   "metadata": {},
   "source": [
    "## Eksperymenty"
   ]
  },
  {
   "cell_type": "code",
   "execution_count": null,
   "id": "963b643e-7212-46de-8f7e-01c3de613ed8",
   "metadata": {
    "tags": []
   },
   "outputs": [],
   "source": [
    "results_dict_exp = {\n",
    "    \"model_name\": [],\n",
    "    \"f1_test\": [],\n",
    "    \"auc_test\": [],\n",
    "    \"silhoute\": [],\n",
    "    \"davies-bouldin\": []  \n",
    "}\n",
    "\n",
    "\n",
    "hidden_dims =  [64, 128, 256, 512]\n",
    "for hidden_dim in hidden_dims:\n",
    "    for _ in range(10):\n",
    "        hparams = {\n",
    "            \"num_epochs\": 200,\n",
    "            \"hidden_dim\":  hidden_dim,\n",
    "            \"emb_dim\": 64,\n",
    "            \"lr\": 2e-2,\n",
    "            \"model_name\": f\"GCN_64_hd_{hidden_dim}\"\n",
    "        }\n",
    "        datamodule = GraphData(\n",
    "            root_path=f\"dataset_{hparams['emb_dim']}\",\n",
    "            graph_path=DATA_PATH / 'network.gpickle',\n",
    "            dataset_path=DATA_PATH / f\"train_data_{hparams['emb_dim']}.tsv\",\n",
    "            embbeddings_path=EMBBEDDINGS_PATH / f\"embbeddings_{hparams['emb_dim']}.graphvectors\",\n",
    "            random_state=RANDOM_STATE\n",
    "        )\n",
    "\n",
    "        gnn = GCNModel(\n",
    "            in_dim=datamodule.num_node_features,\n",
    "            hidden_dim=hparams[\"hidden_dim\"],\n",
    "            out_dim=hparams[\"emb_dim\"],\n",
    "        )\n",
    "\n",
    "        model=SupervisedNodeClassificationGNN(\n",
    "            gnn=gnn, \n",
    "            emb_dim=hparams[\"emb_dim\"],\n",
    "            num_classes=datamodule.num_classes,\n",
    "            lr=hparams[\"lr\"]\n",
    "        )\n",
    "\n",
    "        trainer = get_default_trainer(\n",
    "            num_epochs=hparams[\"num_epochs\"],\n",
    "            model_name=hparams[\"model_name\"],\n",
    "        )\n",
    "\n",
    "        trainer.fit(model=model, datamodule=datamodule)\n",
    "        data = evaluate_gcn(trainer, model)\n",
    "\n",
    "        results_dict_exp[\"model_name\"].append(hparams[\"model_name\"])\n",
    "        results_dict_exp[\"f1_test\"].append(data[\"f1_test\"])\n",
    "        results_dict_exp[\"auc_test\"].append(data[\"auc_test\"])\n",
    "        results_dict_exp[\"silhoute\"].append(data[\"silhoute\"])\n",
    "        results_dict_exp[\"davies-bouldin\"].append(data[\"davies-bouldin\"])\n",
    "        \n",
    "results_df_exp = pd.DataFrame(results_dict_exp)\n",
    "results_df_exp.to_csv(RESULTS_DIR / \"gcn_experiment_hidden_dim.csv\", index=False)"
   ]
  },
  {
   "cell_type": "markdown",
   "id": "a4cf039c-7ae0-4d18-86e7-71766a475692",
   "metadata": {},
   "source": [
    "## Wpływ rozmiaru wektora reprezentacji"
   ]
  },
  {
   "cell_type": "code",
   "execution_count": null,
   "id": "6d786151-f0a9-41bb-9320-792f9adb2de4",
   "metadata": {
    "tags": []
   },
   "outputs": [],
   "source": [
    "hparams = {\n",
    "    \"num_epochs\": 400,\n",
    "    \"lr\": 2e-2,\n",
    "    \"hidden_dim\": 32\n",
    "}\n",
    "results_dict_exp = {\n",
    "    \"model_name\": [],\n",
    "    \"f1_test\": [],\n",
    "    \"auc_test\": [],\n",
    "    \"silhoute\": [],\n",
    "    \"davies-bouldin\": []  \n",
    "}\n",
    "\n",
    "embbeding_dims = [2, 4, 8, 16, 32]\n",
    "for embb_dim in embbeding_dims:\n",
    "    hparams[\"model_name\"] = f\"Supervised_GCN_{embb_dim}\"\n",
    "    for _ in range(10):\n",
    "        datamodule = GraphData(\n",
    "            root_path=f\"dataset_{embb_dim}\",\n",
    "            graph_path=DATA_PATH / 'network.gpickle',\n",
    "            dataset_path=DATA_PATH / f\"train_data_{embb_dim}.tsv\",\n",
    "            embbeddings_path=EMBBEDDINGS_PATH / f\"embbeddings_{embb_dim}.graphvectors\",\n",
    "            random_state=RANDOM_STATE\n",
    "        )\n",
    "\n",
    "        gnn = GCNModel(\n",
    "            in_dim=datamodule.num_node_features,\n",
    "            hidden_dim=hparams[\"hidden_dim\"],\n",
    "            out_dim=embb_dim,\n",
    "        )\n",
    "\n",
    "        model=SupervisedNodeClassificationGNN(\n",
    "            gnn=gnn, \n",
    "            emb_dim=embb_dim,\n",
    "            num_classes=datamodule.num_classes,\n",
    "            lr=hparams[\"lr\"]\n",
    "        )\n",
    "\n",
    "        trainer = get_default_trainer(\n",
    "            num_epochs=hparams[\"num_epochs\"],\n",
    "            model_name=hparams[\"model_name\"],\n",
    "        )\n",
    "\n",
    "        trainer.fit(model=model, datamodule=datamodule)\n",
    "        data = evaluate_gcn(trainer, model)\n",
    "        \n",
    "        results_dict_exp[\"model_name\"].append(hparams[\"model_name\"])\n",
    "        results_dict_exp[\"f1_test\"].append(data[\"f1_test\"])\n",
    "        results_dict_exp[\"auc_test\"].append(data[\"auc_test\"])\n",
    "        results_dict_exp[\"silhoute\"].append(data[\"silhoute\"])\n",
    "        results_dict_exp[\"davies-bouldin\"].append(data[\"davies-bouldin\"])\n",
    "        "
   ]
  },
  {
   "cell_type": "code",
   "execution_count": null,
   "id": "414bfa7d-68e5-44cb-adf9-3d688891fa00",
   "metadata": {},
   "outputs": [],
   "source": [
    "results_df = pd.DataFrame(results_dict_exp)\n",
    "results_df.to_csv(RESULTS_DIR / \"gcn_stats_embbeddings.csv\", index=False)"
   ]
  },
  {
   "cell_type": "markdown",
   "id": "dbb3db53-978b-4492-beb6-5f011a2f4727",
   "metadata": {
    "tags": []
   },
   "source": [
    "## Zebranie ostatecznych wyników"
   ]
  },
  {
   "cell_type": "code",
   "execution_count": null,
   "id": "d4ff0c17-2159-4d8c-b616-2bb02d4ae713",
   "metadata": {},
   "outputs": [],
   "source": [
    "params = [\n",
    "    {\n",
    "        \"num_epochs\": 200,\n",
    "        \"hidden_dim\":  128,\n",
    "        \"emb_dim\": 64,\n",
    "        \"lr\": 5e-2,\n",
    "        \"model_name\": \"Supervised_GCN_64\"\n",
    "    },\n",
    "    {\n",
    "        \"num_epochs\": 400,\n",
    "        \"hidden_dim\":  64,\n",
    "        \"emb_dim\": 128,\n",
    "        \"lr\": 3e-2,\n",
    "        \"model_name\": \"Supervised_GCN_128\"\n",
    "    },\n",
    "    \n",
    "]"
   ]
  },
  {
   "cell_type": "code",
   "execution_count": null,
   "id": "c2b6fa3c-79b6-4bfb-9d4d-68f4a5a227f0",
   "metadata": {},
   "outputs": [],
   "source": [
    "results_dict = {\n",
    "    \"model_name\": [],\n",
    "    \"f1_test\": [],\n",
    "    \"auc_test\": [],\n",
    "    \"silhoute\": [],\n",
    "    \"davies-bouldin\": []  \n",
    "}\n",
    "\n",
    "for hparams in params:\n",
    "    for _ in range(10):\n",
    "        datamodule = GraphData(\n",
    "            root_path=f\"dataset_{hparams['emb_dim']}\",\n",
    "            graph_path=DATA_PATH / 'network.gpickle',\n",
    "            dataset_path=DATA_PATH / f\"train_data_{hparams['emb_dim']}.tsv\",\n",
    "            embbeddings_path=EMBBEDDINGS_PATH / f\"embbeddings_{hparams['emb_dim']}.graphvectors\",\n",
    "            random_state=RANDOM_STATE\n",
    "        )\n",
    "\n",
    "        gnn = GCNModel(\n",
    "            in_dim=datamodule.num_node_features,\n",
    "            hidden_dim=hparams[\"hidden_dim\"],\n",
    "            out_dim=hparams[\"emb_dim\"],\n",
    "        )\n",
    "\n",
    "        model=SupervisedNodeClassificationGNN(\n",
    "            gnn=gnn, \n",
    "            emb_dim=hparams[\"emb_dim\"],\n",
    "            num_classes=datamodule.num_classes,\n",
    "            lr=hparams[\"lr\"]\n",
    "        )\n",
    "\n",
    "        trainer = get_default_trainer(\n",
    "            num_epochs=hparams[\"num_epochs\"],\n",
    "            model_name=hparams[\"model_name\"],\n",
    "        )\n",
    "\n",
    "        trainer.fit(model=model, datamodule=datamodule)\n",
    "        data = evaluate_gcn(trainer, model)\n",
    "        \n",
    "        results_dict[\"model_name\"].append(hparams[\"model_name\"])\n",
    "        results_dict[\"f1_test\"].append(data[\"f1_test\"])\n",
    "        results_dict[\"auc_test\"].append(data[\"auc_test\"])\n",
    "        results_dict[\"silhoute\"].append(data[\"silhoute\"])\n",
    "        results_dict[\"davies-bouldin\"].append(data[\"davies-bouldin\"])"
   ]
  },
  {
   "cell_type": "code",
   "execution_count": null,
   "id": "7b5c0018-4938-46ca-b5b8-60b1c442e32d",
   "metadata": {},
   "outputs": [],
   "source": [
    "results_dict"
   ]
  },
  {
   "cell_type": "code",
   "execution_count": null,
   "id": "5de0be55-b870-490f-88b8-7955defc6d6f",
   "metadata": {},
   "outputs": [],
   "source": [
    "results_df = pd.DataFrame(results_dict)\n",
    "results_df.to_csv(RESULTS_DIR / \"gcn_stats.csv\", index=False)"
   ]
  },
  {
   "cell_type": "code",
   "execution_count": null,
   "id": "ddf08359-740d-48e4-aac5-faad4cb7b640",
   "metadata": {},
   "outputs": [],
   "source": []
  }
 ],
 "metadata": {
  "kernelspec": {
   "display_name": "Python 3 (ipykernel)",
   "language": "python",
   "name": "python3"
  },
  "language_info": {
   "codemirror_mode": {
    "name": "ipython",
    "version": 3
   },
   "file_extension": ".py",
   "mimetype": "text/x-python",
   "name": "python",
   "nbconvert_exporter": "python",
   "pygments_lexer": "ipython3",
   "version": "3.9.13"
  },
  "widgets": {
   "application/vnd.jupyter.widget-state+json": {
    "state": {},
    "version_major": 2,
    "version_minor": 0
   }
  }
 },
 "nbformat": 4,
 "nbformat_minor": 5
}
