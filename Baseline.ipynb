{
 "cells": [
  {
   "cell_type": "markdown",
   "id": "001d16a8-1356-4827-a1cc-a58dea41c309",
   "metadata": {},
   "source": [
    "# Baseline"
   ]
  },
  {
   "cell_type": "code",
   "execution_count": 1,
   "id": "78ee317e-2747-4c9e-985a-b6f71149570a",
   "metadata": {},
   "outputs": [],
   "source": [
    "import torch\n",
    "import torch.nn as nn\n",
    "import torch.nn.functional as F\n",
    "\n",
    "from torch.utils.data import Dataset, DataLoader, Subset\n",
    "from sklearn.model_selection import train_test_split\n",
    "from gensim.models import KeyedVectors\n",
    "from torch.utils.tensorboard import SummaryWriter\n",
    "\n",
    "import numpy as np\n",
    "\n",
    "from sklearn.metrics import roc_auc_score, f1_score\n",
    "\n",
    "from pathlib import Path\n",
    "from typing import Tuple\n",
    "import pandas as pd\n",
    "\n",
    "from tqdm import tqdm\n",
    "from functools import partial\n",
    "\n",
    "tqdm = partial(tqdm, position=0, leave=True)\n",
    "device = torch.device('cuda' if torch.cuda.is_available() else 'cpu')"
   ]
  },
  {
   "cell_type": "code",
   "execution_count": 2,
   "id": "d5adc3ea-d914-4e37-9c8b-4ba585d637cb",
   "metadata": {},
   "outputs": [],
   "source": [
    "EMBBEDDINGS_PATH = Path(\"embbeddings\")\n",
    "DATA_PATH = Path(\"data\")\n",
    "LOG_DIR = Path(\"logs\")\n",
    "RESULTS_DIR = Path(\"results\")\n",
    "CHECKPOINTS_DATA = Path(\"checkpoints\")\n",
    "RANDOM_STATE = 345\n",
    "\n",
    "NUM_CLASSES = 37\n",
    "\n",
    "CHECKPOINTS_DATA.mkdir(exist_ok=True)"
   ]
  },
  {
   "cell_type": "code",
   "execution_count": 3,
   "id": "c85c2c06-8c00-41b3-b144-a73a9c2da6ce",
   "metadata": {},
   "outputs": [
    {
     "data": {
      "text/plain": [
       "Reusing TensorBoard on port 6006 (pid 5822), started 1:52:27 ago. (Use '!kill 5822' to kill it.)"
      ]
     },
     "metadata": {},
     "output_type": "display_data"
    },
    {
     "data": {
      "text/html": [
       "\n",
       "      <iframe id=\"tensorboard-frame-b5ee7c63101523cf\" width=\"100%\" height=\"800\" frameborder=\"0\">\n",
       "      </iframe>\n",
       "      <script>\n",
       "        (function() {\n",
       "          const frame = document.getElementById(\"tensorboard-frame-b5ee7c63101523cf\");\n",
       "          const url = new URL(\"/\", window.location);\n",
       "          const port = 6006;\n",
       "          if (port) {\n",
       "            url.port = port;\n",
       "          }\n",
       "          frame.src = url;\n",
       "        })();\n",
       "      </script>\n",
       "    "
      ],
      "text/plain": [
       "<IPython.core.display.HTML object>"
      ]
     },
     "metadata": {},
     "output_type": "display_data"
    }
   ],
   "source": [
    "%load_ext tensorboard\n",
    "%tensorboard --logdir $LOG_DIR"
   ]
  },
  {
   "cell_type": "code",
   "execution_count": 4,
   "id": "f4b9e3a5-9113-4ea1-b72f-17d4ef2c71e3",
   "metadata": {},
   "outputs": [],
   "source": [
    "tensorboard_writer = SummaryWriter(LOG_DIR)"
   ]
  },
  {
   "cell_type": "markdown",
   "id": "d03f52f9-77a9-4434-9ec3-b1c6c7ef8a8f",
   "metadata": {},
   "source": [
    "## Przygotowanie zbioru i datasetu"
   ]
  },
  {
   "cell_type": "code",
   "execution_count": 5,
   "id": "1e10a2fc-8de7-4b01-8622-1bc8650d14cd",
   "metadata": {},
   "outputs": [],
   "source": [
    "class EmailSimpleDataset(Dataset):\n",
    "    \"\"\"Face Landmarks dataset.\"\"\"\n",
    "\n",
    "    def __init__(\n",
    "        self,\n",
    "        embbedings_size: int,\n",
    "    ):\n",
    "        \"\"\"\n",
    "        Args:\n",
    "            df (string): DataFrame with network data\n",
    "        \"\"\"\n",
    "        \n",
    "        if embbedings_size != 64 and embbedings_size != 128:\n",
    "            raise ValueError(\"Only embbedings with size 64 and 128 are implemented!\")\n",
    "    \n",
    "        self.df = pd.read_csv(DATA_PATH / f\"train_data_{embbedings_size}.tsv\", sep=\" \")\n",
    "        self.embbeddings = KeyedVectors.load_word2vec_format(\n",
    "            EMBBEDDINGS_PATH / f\"embbeddings_{embbedings_size}.graphvectors\",\n",
    "            binary=False\n",
    "        )\n",
    "\n",
    "    def __len__(self):\n",
    "        return len(self.df)\n",
    "\n",
    "    def __getitem__(self, idx):\n",
    "        if torch.is_tensor(idx):\n",
    "            idx = idx.tolist()\n",
    "\n",
    "        embbedding_id = self.df.iloc[idx].embbedding_id\n",
    "        embbedding = self.embbeddings[embbedding_id] \n",
    "        \n",
    "        department = self.df.iloc[idx].department_id\n",
    "        embbedding = torch.from_numpy(embbedding)\n",
    "        return (embbedding, int(department))"
   ]
  },
  {
   "cell_type": "code",
   "execution_count": 31,
   "id": "78032550-dc3c-4dc3-b833-6a6369332668",
   "metadata": {},
   "outputs": [],
   "source": [
    "class Baseline(nn.Module):\n",
    "    def __init__(\n",
    "        self,\n",
    "        in_dim: int,\n",
    "        hidden_dim: int,\n",
    "        num_classes: int,\n",
    "        name: str = \"baseline\"\n",
    "    ):\n",
    "        super().__init__()\n",
    "        self.name = name\n",
    "        self.linear1 = nn.Linear(in_dim, hidden_dim)\n",
    "        self.relu = nn.ReLU()\n",
    "        self.linear2 = nn.Linear(hidden_dim, num_classes)\n",
    "        self.soft = nn.Softmax(dim=1)\n",
    "\n",
    "    def predict(self, x):\n",
    "        with torch.no_grad():\n",
    "            return self(x).argmax(dim=1)\n",
    "\n",
    "    def forward(self, x):\n",
    "        x = self.relu(self.linear1(x))\n",
    "        x = self.soft(self.linear2(x))\n",
    "        return x"
   ]
  },
  {
   "cell_type": "code",
   "execution_count": 7,
   "id": "064f67ba-ae50-478e-99ca-5555860a31ab",
   "metadata": {},
   "outputs": [],
   "source": [
    "def prepare_dataset(\n",
    "    embbeddings_size: int,\n",
    "    split_val: float = 0.5,\n",
    "    batch_size: int = 8\n",
    ") -> Tuple[DataLoader, DataLoader, Subset, Subset]:\n",
    "\n",
    "    dataset = EmailSimpleDataset(embbeddings_size)\n",
    "    df = dataset.df\n",
    "    train_ids, test_ids = train_test_split(\n",
    "        np.arange(len(dataset)),\n",
    "        stratify=np.array(dataset.df.department_id),\n",
    "        test_size=split_val,\n",
    "        random_state=RANDOM_STATE\n",
    "    )\n",
    "    test_ids, val_ids = train_test_split(\n",
    "        test_ids,\n",
    "        stratify=np.array([df.iloc[y][\"department_id\"] for y in test_ids]),\n",
    "        test_size=0.5,\n",
    "        random_state=RANDOM_STATE\n",
    "    )\n",
    "    \n",
    "    \n",
    "    train_ds, test_ds = Subset(dataset, train_ids), Subset(dataset, test_ids)\n",
    "    val_ds = Subset(dataset, val_ids)\n",
    "    \n",
    "    train_dl = DataLoader(train_ds, batch_size=batch_size, shuffle=True, pin_memory=True)\n",
    "    val_dl = DataLoader(val_ds, batch_size=batch_size, pin_memory=True)\n",
    "    test_dl = DataLoader(val_ds, batch_size=batch_size, pin_memory=True)\n",
    "    \n",
    "    return train_dl, test_dl, val_dl"
   ]
  },
  {
   "cell_type": "code",
   "execution_count": 8,
   "id": "cb5517b5-85a7-4a03-9611-4150d450a466",
   "metadata": {},
   "outputs": [],
   "source": [
    "def validate(\n",
    "    model: torch.nn.Module, \n",
    "    loss_fn: torch.nn.CrossEntropyLoss, \n",
    "    dataloader: DataLoader\n",
    ") -> Tuple[torch.Tensor, torch.Tensor, np.array]:\n",
    "    loss = 0\n",
    "    all_vals = 0\n",
    "    aucs = 0\n",
    "    target = []\n",
    "    preds = []\n",
    "    preds_vec = []\n",
    "    \n",
    "    for X_batch, y_batch in dataloader:\n",
    "        y_pred = model(X_batch.to(device))\n",
    "        all_vals += len(y_pred)\n",
    "        loss += loss_fn(y_pred, y_batch.to(device)).sum()\n",
    "        target.extend(y_batch.cpu().numpy())\n",
    "        preds.extend(torch.argmax(y_pred, dim=1).cpu().numpy())\n",
    "        preds_vec.append(y_pred.squeeze().cpu().numpy())\n",
    "    return (\n",
    "        loss / all_vals,\n",
    "        f1_score(target, preds, average=\"weighted\"),\n",
    "        roc_auc_score(y_true=target, y_score=np.concatenate(preds_vec, axis=0), multi_class=\"ovr\")\n",
    "    )"
   ]
  },
  {
   "cell_type": "code",
   "execution_count": 9,
   "id": "16c94a4b-8fa1-422b-8ed6-60973c7578ad",
   "metadata": {},
   "outputs": [],
   "source": [
    "def fit(\n",
    "    model: torch.nn.Module,\n",
    "    optimiser: torch.optim.Optimizer, \n",
    "    loss_fn: torch.nn.CrossEntropyLoss, \n",
    "    train_dl: DataLoader, \n",
    "    val_dl: DataLoader, \n",
    "    print_metrics: str = True,\n",
    "    epochs: int = 10\n",
    "):\n",
    "    prev_f1 = 0\n",
    "    for epoch in tqdm(range(epochs)):\n",
    "        best = False\n",
    "        for X_batch, y_batch in tqdm(train_dl):\n",
    "            y_pred = model(X_batch.to(device))\n",
    "            loss = loss_fn(y_pred, y_batch.to(device))\n",
    "            loss.backward()\n",
    "            optimiser.step()\n",
    "            optimiser.zero_grad()\n",
    "\n",
    "        if print_metrics: \n",
    "            model.eval()\n",
    "            with torch.no_grad():\n",
    "                \n",
    "                train_loss, train_f1, train_auc = validate(\n",
    "                  model=model, loss_fn=loss_fn, dataloader=train_dl\n",
    "                ) \n",
    "                val_loss, val_f1, val_auc = validate(\n",
    "                  model=model, loss_fn=loss_fn, dataloader=val_dl\n",
    "                )\n",
    "                \n",
    "                tensorboard_writer.add_scalars(\n",
    "                    main_tag=f'{model.name}_loss', \n",
    "                    tag_scalar_dict={\n",
    "                        'train': train_loss,\n",
    "                        'dev': val_loss\n",
    "                    }, \n",
    "                    global_step=epoch+1\n",
    "                )\n",
    "                \n",
    "                tensorboard_writer.add_scalars(\n",
    "                    main_tag=f'{model.name}_auc', \n",
    "                    tag_scalar_dict={\n",
    "                        'train': train_auc,\n",
    "                        'dev': val_auc\n",
    "                    }, \n",
    "                    global_step=epoch+1\n",
    "                )\n",
    "                \n",
    "                tensorboard_writer.add_scalars(\n",
    "                    main_tag=f'{model.name}_f1', \n",
    "                    tag_scalar_dict={\n",
    "                        'train': train_f1,\n",
    "                        'dev': val_f1\n",
    "                    }, \n",
    "                    global_step=epoch+1\n",
    "                )\n",
    "                if prev_f1 < val_f1:\n",
    "                    best = True\n",
    "                    prev_f1 = val_f1\n",
    "                    torch.save(model.state_dict(), CHECKPOINTS_DATA / f\"{model.name}.pt\")\n",
    "\n",
    "                print(\n",
    "                  f\"Epoch {epoch}:  (best: {best})\"\n",
    "                  f\"train loss = {train_loss:.3f} (auc: {train_auc:.3f} f1: {train_f1:.3f}), \"\n",
    "                  f\"validation loss = {val_loss:.3f} (auc: {val_auc:.3f} f1: {val_f1:.3f})\"\n",
    "                )\n",
    "    return model"
   ]
  },
  {
   "cell_type": "markdown",
   "id": "b20d80c6-bc1f-48fb-9297-b10de0d0e7bd",
   "metadata": {},
   "source": [
    "## Baseline dla wektorów osadzeń o rozmiarze 64"
   ]
  },
  {
   "cell_type": "code",
   "execution_count": 17,
   "id": "95c6ee3d-e6b7-41a9-892a-25d9d2521f8c",
   "metadata": {},
   "outputs": [],
   "source": [
    "hparams = {\n",
    "    \"num_epochs\": 20,\n",
    "    \"hidden_dim\":  32,\n",
    "    \"emb_dim\": 64,\n",
    "    \"lr\": 1e-2,\n",
    "    \"model_name\": \"Baseline_64\"\n",
    "}"
   ]
  },
  {
   "cell_type": "code",
   "execution_count": 18,
   "id": "14ab5bc0-c1d8-4084-9059-1980ca313fe7",
   "metadata": {
    "tags": []
   },
   "outputs": [
    {
     "name": "stderr",
     "output_type": "stream",
     "text": [
      "100%|██████████████████████████████████████████| 16/16 [00:00<00:00, 134.36it/s]\n",
      "  5%|██▏                                         | 1/20 [00:00<00:06,  3.17it/s]"
     ]
    },
    {
     "name": "stdout",
     "output_type": "stream",
     "text": [
      "Epoch 0:  (best: True)train loss = 0.114 (auc: 0.851 f1: 0.100), validation loss = 0.115 (auc: 0.838 f1: 0.094)\n"
     ]
    },
    {
     "name": "stderr",
     "output_type": "stream",
     "text": [
      "100%|██████████████████████████████████████████| 16/16 [00:00<00:00, 150.80it/s]\n",
      " 10%|████▍                                       | 2/20 [00:00<00:05,  3.43it/s]"
     ]
    },
    {
     "name": "stdout",
     "output_type": "stream",
     "text": [
      "Epoch 1:  (best: True)train loss = 0.108 (auc: 0.842 f1: 0.264), validation loss = 0.109 (auc: 0.851 f1: 0.225)\n"
     ]
    },
    {
     "name": "stderr",
     "output_type": "stream",
     "text": [
      "100%|██████████████████████████████████████████| 16/16 [00:00<00:00, 118.65it/s]\n",
      " 15%|██████▌                                     | 3/20 [00:00<00:05,  3.35it/s]"
     ]
    },
    {
     "name": "stdout",
     "output_type": "stream",
     "text": [
      "Epoch 2:  (best: True)train loss = 0.103 (auc: 0.856 f1: 0.432), validation loss = 0.104 (auc: 0.862 f1: 0.411)\n"
     ]
    },
    {
     "name": "stderr",
     "output_type": "stream",
     "text": [
      "100%|██████████████████████████████████████████| 16/16 [00:00<00:00, 157.99it/s]\n",
      " 20%|████████▊                                   | 4/20 [00:01<00:04,  3.48it/s]"
     ]
    },
    {
     "name": "stdout",
     "output_type": "stream",
     "text": [
      "Epoch 3:  (best: True)train loss = 0.102 (auc: 0.851 f1: 0.432), validation loss = 0.103 (auc: 0.856 f1: 0.413)\n"
     ]
    },
    {
     "name": "stderr",
     "output_type": "stream",
     "text": [
      "100%|██████████████████████████████████████████| 16/16 [00:00<00:00, 164.13it/s]\n",
      " 25%|███████████                                 | 5/20 [00:01<00:04,  3.55it/s]"
     ]
    },
    {
     "name": "stdout",
     "output_type": "stream",
     "text": [
      "Epoch 4:  (best: True)train loss = 0.101 (auc: 0.853 f1: 0.452), validation loss = 0.102 (auc: 0.860 f1: 0.419)\n"
     ]
    },
    {
     "name": "stderr",
     "output_type": "stream",
     "text": [
      "100%|██████████████████████████████████████████| 16/16 [00:00<00:00, 150.15it/s]\n",
      " 30%|█████████████▏                              | 6/20 [00:01<00:03,  3.55it/s]"
     ]
    },
    {
     "name": "stdout",
     "output_type": "stream",
     "text": [
      "Epoch 5:  (best: True)train loss = 0.100 (auc: 0.869 f1: 0.532), validation loss = 0.101 (auc: 0.874 f1: 0.510)\n"
     ]
    },
    {
     "name": "stderr",
     "output_type": "stream",
     "text": [
      "100%|██████████████████████████████████████████| 16/16 [00:00<00:00, 158.64it/s]\n",
      " 35%|███████████████▍                            | 7/20 [00:01<00:03,  3.62it/s]"
     ]
    },
    {
     "name": "stdout",
     "output_type": "stream",
     "text": [
      "Epoch 6:  (best: True)train loss = 0.099 (auc: 0.874 f1: 0.558), validation loss = 0.100 (auc: 0.875 f1: 0.535)\n"
     ]
    },
    {
     "name": "stderr",
     "output_type": "stream",
     "text": [
      "100%|██████████████████████████████████████████| 16/16 [00:00<00:00, 163.35it/s]\n",
      " 40%|█████████████████▌                          | 8/20 [00:02<00:03,  3.69it/s]"
     ]
    },
    {
     "name": "stdout",
     "output_type": "stream",
     "text": [
      "Epoch 7:  (best: False)train loss = 0.098 (auc: 0.881 f1: 0.564), validation loss = 0.100 (auc: 0.885 f1: 0.527)\n"
     ]
    },
    {
     "name": "stderr",
     "output_type": "stream",
     "text": [
      "100%|██████████████████████████████████████████| 16/16 [00:00<00:00, 167.14it/s]\n",
      " 45%|███████████████████▊                        | 9/20 [00:02<00:02,  3.75it/s]"
     ]
    },
    {
     "name": "stdout",
     "output_type": "stream",
     "text": [
      "Epoch 8:  (best: False)train loss = 0.098 (auc: 0.880 f1: 0.562), validation loss = 0.099 (auc: 0.882 f1: 0.530)\n"
     ]
    },
    {
     "name": "stderr",
     "output_type": "stream",
     "text": [
      "100%|██████████████████████████████████████████| 16/16 [00:00<00:00, 160.78it/s]\n",
      " 50%|█████████████████████▌                     | 10/20 [00:02<00:02,  3.63it/s]"
     ]
    },
    {
     "name": "stdout",
     "output_type": "stream",
     "text": [
      "Epoch 9:  (best: True)train loss = 0.097 (auc: 0.886 f1: 0.588), validation loss = 0.099 (auc: 0.888 f1: 0.538)\n"
     ]
    },
    {
     "name": "stderr",
     "output_type": "stream",
     "text": [
      "100%|██████████████████████████████████████████| 16/16 [00:00<00:00, 148.58it/s]\n",
      " 55%|███████████████████████▋                   | 11/20 [00:03<00:02,  3.62it/s]"
     ]
    },
    {
     "name": "stdout",
     "output_type": "stream",
     "text": [
      "Epoch 10:  (best: True)train loss = 0.097 (auc: 0.889 f1: 0.593), validation loss = 0.099 (auc: 0.892 f1: 0.540)\n"
     ]
    },
    {
     "name": "stderr",
     "output_type": "stream",
     "text": [
      "100%|██████████████████████████████████████████| 16/16 [00:00<00:00, 161.84it/s]\n",
      " 60%|█████████████████████████▊                 | 12/20 [00:03<00:02,  3.69it/s]"
     ]
    },
    {
     "name": "stdout",
     "output_type": "stream",
     "text": [
      "Epoch 11:  (best: True)train loss = 0.096 (auc: 0.898 f1: 0.642), validation loss = 0.099 (auc: 0.896 f1: 0.594)\n"
     ]
    },
    {
     "name": "stderr",
     "output_type": "stream",
     "text": [
      "100%|██████████████████████████████████████████| 16/16 [00:00<00:00, 163.53it/s]\n",
      " 65%|███████████████████████████▉               | 13/20 [00:03<00:01,  3.76it/s]"
     ]
    },
    {
     "name": "stdout",
     "output_type": "stream",
     "text": [
      "Epoch 12:  (best: False)train loss = 0.096 (auc: 0.898 f1: 0.630), validation loss = 0.098 (auc: 0.896 f1: 0.574)\n"
     ]
    },
    {
     "name": "stderr",
     "output_type": "stream",
     "text": [
      "100%|██████████████████████████████████████████| 16/16 [00:00<00:00, 167.96it/s]\n",
      " 70%|██████████████████████████████             | 14/20 [00:03<00:01,  3.82it/s]"
     ]
    },
    {
     "name": "stdout",
     "output_type": "stream",
     "text": [
      "Epoch 13:  (best: False)train loss = 0.096 (auc: 0.899 f1: 0.639), validation loss = 0.098 (auc: 0.897 f1: 0.591)\n"
     ]
    },
    {
     "name": "stderr",
     "output_type": "stream",
     "text": [
      "100%|██████████████████████████████████████████| 16/16 [00:00<00:00, 164.40it/s]\n",
      " 75%|████████████████████████████████▎          | 15/20 [00:04<00:01,  3.85it/s]"
     ]
    },
    {
     "name": "stdout",
     "output_type": "stream",
     "text": [
      "Epoch 14:  (best: False)train loss = 0.096 (auc: 0.900 f1: 0.641), validation loss = 0.098 (auc: 0.898 f1: 0.590)\n"
     ]
    },
    {
     "name": "stderr",
     "output_type": "stream",
     "text": [
      "100%|██████████████████████████████████████████| 16/16 [00:00<00:00, 168.05it/s]\n",
      " 80%|██████████████████████████████████▍        | 16/20 [00:04<00:01,  3.84it/s]"
     ]
    },
    {
     "name": "stdout",
     "output_type": "stream",
     "text": [
      "Epoch 15:  (best: False)train loss = 0.096 (auc: 0.901 f1: 0.637), validation loss = 0.098 (auc: 0.897 f1: 0.588)\n"
     ]
    },
    {
     "name": "stderr",
     "output_type": "stream",
     "text": [
      "100%|██████████████████████████████████████████| 16/16 [00:00<00:00, 148.92it/s]\n",
      " 85%|████████████████████████████████████▌      | 17/20 [00:04<00:00,  3.76it/s]"
     ]
    },
    {
     "name": "stdout",
     "output_type": "stream",
     "text": [
      "Epoch 16:  (best: False)train loss = 0.096 (auc: 0.902 f1: 0.636), validation loss = 0.098 (auc: 0.898 f1: 0.586)\n"
     ]
    },
    {
     "name": "stderr",
     "output_type": "stream",
     "text": [
      "100%|██████████████████████████████████████████| 16/16 [00:00<00:00, 161.09it/s]\n",
      " 90%|██████████████████████████████████████▋    | 18/20 [00:04<00:00,  3.78it/s]"
     ]
    },
    {
     "name": "stdout",
     "output_type": "stream",
     "text": [
      "Epoch 17:  (best: False)train loss = 0.096 (auc: 0.902 f1: 0.635), validation loss = 0.098 (auc: 0.897 f1: 0.582)\n"
     ]
    },
    {
     "name": "stderr",
     "output_type": "stream",
     "text": [
      "100%|██████████████████████████████████████████| 16/16 [00:00<00:00, 160.96it/s]\n",
      " 95%|████████████████████████████████████████▊  | 19/20 [00:05<00:00,  3.76it/s]"
     ]
    },
    {
     "name": "stdout",
     "output_type": "stream",
     "text": [
      "Epoch 18:  (best: True)train loss = 0.096 (auc: 0.909 f1: 0.676), validation loss = 0.098 (auc: 0.900 f1: 0.608)\n"
     ]
    },
    {
     "name": "stderr",
     "output_type": "stream",
     "text": [
      "100%|██████████████████████████████████████████| 16/16 [00:00<00:00, 160.32it/s]\n",
      "100%|███████████████████████████████████████████| 20/20 [00:05<00:00,  3.68it/s]"
     ]
    },
    {
     "name": "stdout",
     "output_type": "stream",
     "text": [
      "Epoch 19:  (best: False)train loss = 0.095 (auc: 0.905 f1: 0.663), validation loss = 0.098 (auc: 0.901 f1: 0.586)\n"
     ]
    },
    {
     "name": "stderr",
     "output_type": "stream",
     "text": [
      "\n"
     ]
    }
   ],
   "source": [
    "train_dl, test_dl, val_dl = prepare_dataset(\n",
    "    embbeddings_size=64,\n",
    "    split_val=0.5,\n",
    "    batch_size=32\n",
    ")\n",
    "\n",
    "baseline = Baseline(\n",
    "    in_dim=hparams[\"emb_dim\"],\n",
    "    hidden_dim=hparams[\"hidden_dim\"],\n",
    "    num_classes=NUM_CLASSES,\n",
    "    name=hparams[\"model_name\"]\n",
    "    \n",
    ").to(device)\n",
    "\n",
    "optimiser = torch.optim.Adam(baseline.parameters(), lr=hparams[\"lr\"])\n",
    "loss_func = torch.nn.CrossEntropyLoss()\n",
    "\n",
    "baseline = fit(\n",
    "    baseline,\n",
    "    optimiser,\n",
    "    loss_func,\n",
    "    train_dl,\n",
    "    test_dl,\n",
    "    epochs=hparams[\"num_epochs\"],\n",
    "    print_metrics=True\n",
    ")"
   ]
  },
  {
   "cell_type": "code",
   "execution_count": 19,
   "id": "e12978a3-97a4-4135-abbf-b99e822747af",
   "metadata": {},
   "outputs": [],
   "source": [
    "with torch.no_grad():\n",
    "    test_loss, test_f1, test_auc = validate(baseline, loss_func, test_dl)"
   ]
  },
  {
   "cell_type": "code",
   "execution_count": 20,
   "id": "cb87d4bb-925b-46e5-b975-56e257dd84fe",
   "metadata": {},
   "outputs": [
    {
     "name": "stdout",
     "output_type": "stream",
     "text": [
      "\n",
      "          Test loss: 0.09814397245645523,\n",
      "          Test F1: 0.586444934334713,\n",
      "          Test AUC: 0.9008375183180345\n",
      "      \n"
     ]
    }
   ],
   "source": [
    "print(f\"\"\"\n",
    "          Test loss: {test_loss},\n",
    "          Test F1: {test_f1},\n",
    "          Test AUC: {test_auc}\n",
    "      \"\"\")"
   ]
  },
  {
   "cell_type": "markdown",
   "id": "3445695c-1900-4e65-8db9-3587e9a6f9b1",
   "metadata": {},
   "source": [
    "## Baseline dla wektorów osadzeń o rozmiarze 128"
   ]
  },
  {
   "cell_type": "code",
   "execution_count": 27,
   "id": "9410d33a-d90a-451c-8984-49a5ed4f46e7",
   "metadata": {},
   "outputs": [],
   "source": [
    "hparams = {\n",
    "    \"num_epochs\": 30,\n",
    "    \"hidden_dim\":  32,\n",
    "    \"emb_dim\": 128,\n",
    "    \"lr\": 5e-3,\n",
    "    \"model_name\": \"Baseline_128\"\n",
    "}"
   ]
  },
  {
   "cell_type": "code",
   "execution_count": 28,
   "id": "84525679-84cd-4773-9ad1-93216e4080b9",
   "metadata": {},
   "outputs": [
    {
     "name": "stderr",
     "output_type": "stream",
     "text": [
      "100%|██████████████████████████████████████████| 16/16 [00:00<00:00, 157.20it/s]\n",
      "  3%|█▍                                          | 1/30 [00:00<00:07,  3.78it/s]"
     ]
    },
    {
     "name": "stdout",
     "output_type": "stream",
     "text": [
      "Epoch 0:  (best: True)train loss = 0.117 (auc: 0.891 f1: 0.194), validation loss = 0.117 (auc: 0.824 f1: 0.175)\n"
     ]
    },
    {
     "name": "stderr",
     "output_type": "stream",
     "text": [
      "100%|██████████████████████████████████████████| 16/16 [00:00<00:00, 158.40it/s]\n",
      "  7%|██▉                                         | 2/30 [00:00<00:07,  3.76it/s]"
     ]
    },
    {
     "name": "stdout",
     "output_type": "stream",
     "text": [
      "Epoch 1:  (best: False)train loss = 0.111 (auc: 0.802 f1: 0.153), validation loss = 0.112 (auc: 0.794 f1: 0.148)\n"
     ]
    },
    {
     "name": "stderr",
     "output_type": "stream",
     "text": [
      "100%|██████████████████████████████████████████| 16/16 [00:00<00:00, 154.74it/s]\n",
      " 10%|████▍                                       | 3/30 [00:00<00:07,  3.73it/s]"
     ]
    },
    {
     "name": "stdout",
     "output_type": "stream",
     "text": [
      "Epoch 2:  (best: True)train loss = 0.108 (auc: 0.803 f1: 0.294), validation loss = 0.109 (auc: 0.801 f1: 0.271)\n"
     ]
    },
    {
     "name": "stderr",
     "output_type": "stream",
     "text": [
      "100%|██████████████████████████████████████████| 16/16 [00:00<00:00, 145.73it/s]\n",
      " 13%|█████▊                                      | 4/30 [00:01<00:07,  3.68it/s]"
     ]
    },
    {
     "name": "stdout",
     "output_type": "stream",
     "text": [
      "Epoch 3:  (best: True)train loss = 0.105 (auc: 0.819 f1: 0.359), validation loss = 0.106 (auc: 0.829 f1: 0.337)\n"
     ]
    },
    {
     "name": "stderr",
     "output_type": "stream",
     "text": [
      "100%|██████████████████████████████████████████| 16/16 [00:00<00:00, 158.45it/s]\n",
      " 17%|███████▎                                    | 5/30 [00:01<00:06,  3.69it/s]"
     ]
    },
    {
     "name": "stdout",
     "output_type": "stream",
     "text": [
      "Epoch 4:  (best: False)train loss = 0.104 (auc: 0.831 f1: 0.352), validation loss = 0.105 (auc: 0.843 f1: 0.328)\n"
     ]
    },
    {
     "name": "stderr",
     "output_type": "stream",
     "text": [
      "100%|██████████████████████████████████████████| 16/16 [00:00<00:00, 165.22it/s]\n",
      " 20%|████████▊                                   | 6/30 [00:01<00:06,  3.72it/s]"
     ]
    },
    {
     "name": "stdout",
     "output_type": "stream",
     "text": [
      "Epoch 5:  (best: False)train loss = 0.103 (auc: 0.831 f1: 0.353), validation loss = 0.105 (auc: 0.844 f1: 0.325)\n"
     ]
    },
    {
     "name": "stderr",
     "output_type": "stream",
     "text": [
      "100%|██████████████████████████████████████████| 16/16 [00:00<00:00, 157.46it/s]\n",
      " 23%|██████████▎                                 | 7/30 [00:01<00:06,  3.74it/s]"
     ]
    },
    {
     "name": "stdout",
     "output_type": "stream",
     "text": [
      "Epoch 6:  (best: True)train loss = 0.103 (auc: 0.837 f1: 0.414), validation loss = 0.104 (auc: 0.848 f1: 0.379)\n"
     ]
    },
    {
     "name": "stderr",
     "output_type": "stream",
     "text": [
      "100%|██████████████████████████████████████████| 16/16 [00:00<00:00, 163.58it/s]\n",
      " 27%|███████████▋                                | 8/30 [00:02<00:05,  3.78it/s]"
     ]
    },
    {
     "name": "stdout",
     "output_type": "stream",
     "text": [
      "Epoch 7:  (best: True)train loss = 0.101 (auc: 0.847 f1: 0.425), validation loss = 0.103 (auc: 0.857 f1: 0.400)\n"
     ]
    },
    {
     "name": "stderr",
     "output_type": "stream",
     "text": [
      "100%|██████████████████████████████████████████| 16/16 [00:00<00:00, 168.06it/s]\n",
      " 30%|█████████████▏                              | 9/30 [00:02<00:05,  3.82it/s]"
     ]
    },
    {
     "name": "stdout",
     "output_type": "stream",
     "text": [
      "Epoch 8:  (best: True)train loss = 0.101 (auc: 0.855 f1: 0.479), validation loss = 0.102 (auc: 0.868 f1: 0.453)\n"
     ]
    },
    {
     "name": "stderr",
     "output_type": "stream",
     "text": [
      "100%|██████████████████████████████████████████| 16/16 [00:00<00:00, 160.07it/s]\n",
      " 33%|██████████████▎                            | 10/30 [00:02<00:05,  3.80it/s]"
     ]
    },
    {
     "name": "stdout",
     "output_type": "stream",
     "text": [
      "Epoch 9:  (best: True)train loss = 0.100 (auc: 0.861 f1: 0.486), validation loss = 0.102 (auc: 0.870 f1: 0.456)\n"
     ]
    },
    {
     "name": "stderr",
     "output_type": "stream",
     "text": [
      "100%|██████████████████████████████████████████| 16/16 [00:00<00:00, 154.37it/s]\n",
      " 37%|███████████████▊                           | 11/30 [00:02<00:05,  3.74it/s]"
     ]
    },
    {
     "name": "stdout",
     "output_type": "stream",
     "text": [
      "Epoch 10:  (best: True)train loss = 0.100 (auc: 0.867 f1: 0.486), validation loss = 0.101 (auc: 0.875 f1: 0.456)\n"
     ]
    },
    {
     "name": "stderr",
     "output_type": "stream",
     "text": [
      "100%|██████████████████████████████████████████| 16/16 [00:00<00:00, 158.52it/s]\n",
      " 40%|█████████████████▏                         | 12/30 [00:03<00:04,  3.75it/s]"
     ]
    },
    {
     "name": "stdout",
     "output_type": "stream",
     "text": [
      "Epoch 11:  (best: False)train loss = 0.100 (auc: 0.869 f1: 0.484), validation loss = 0.101 (auc: 0.877 f1: 0.454)\n"
     ]
    },
    {
     "name": "stderr",
     "output_type": "stream",
     "text": [
      "100%|██████████████████████████████████████████| 16/16 [00:00<00:00, 161.13it/s]\n",
      " 43%|██████████████████▋                        | 13/30 [00:03<00:04,  3.76it/s]"
     ]
    },
    {
     "name": "stdout",
     "output_type": "stream",
     "text": [
      "Epoch 12:  (best: False)train loss = 0.099 (auc: 0.872 f1: 0.483), validation loss = 0.101 (auc: 0.878 f1: 0.454)\n"
     ]
    },
    {
     "name": "stderr",
     "output_type": "stream",
     "text": [
      "100%|██████████████████████████████████████████| 16/16 [00:00<00:00, 156.68it/s]\n",
      " 47%|████████████████████                       | 14/30 [00:03<00:04,  3.72it/s]"
     ]
    },
    {
     "name": "stdout",
     "output_type": "stream",
     "text": [
      "Epoch 13:  (best: True)train loss = 0.099 (auc: 0.880 f1: 0.555), validation loss = 0.101 (auc: 0.885 f1: 0.511)\n"
     ]
    },
    {
     "name": "stderr",
     "output_type": "stream",
     "text": [
      "100%|██████████████████████████████████████████| 16/16 [00:00<00:00, 151.00it/s]\n",
      " 50%|█████████████████████▌                     | 15/30 [00:04<00:04,  3.68it/s]"
     ]
    },
    {
     "name": "stdout",
     "output_type": "stream",
     "text": [
      "Epoch 14:  (best: True)train loss = 0.099 (auc: 0.884 f1: 0.583), validation loss = 0.100 (auc: 0.888 f1: 0.530)\n"
     ]
    },
    {
     "name": "stderr",
     "output_type": "stream",
     "text": [
      "100%|██████████████████████████████████████████| 16/16 [00:00<00:00, 155.87it/s]\n",
      " 53%|██████████████████████▉                    | 16/30 [00:04<00:03,  3.66it/s]"
     ]
    },
    {
     "name": "stdout",
     "output_type": "stream",
     "text": [
      "Epoch 15:  (best: True)train loss = 0.098 (auc: 0.886 f1: 0.586), validation loss = 0.100 (auc: 0.889 f1: 0.544)\n"
     ]
    },
    {
     "name": "stderr",
     "output_type": "stream",
     "text": [
      "100%|██████████████████████████████████████████| 16/16 [00:00<00:00, 157.79it/s]\n",
      " 57%|████████████████████████▎                  | 17/30 [00:04<00:03,  3.67it/s]"
     ]
    },
    {
     "name": "stdout",
     "output_type": "stream",
     "text": [
      "Epoch 16:  (best: True)train loss = 0.097 (auc: 0.888 f1: 0.630), validation loss = 0.100 (auc: 0.894 f1: 0.579)\n"
     ]
    },
    {
     "name": "stderr",
     "output_type": "stream",
     "text": [
      "100%|██████████████████████████████████████████| 16/16 [00:00<00:00, 156.74it/s]\n",
      " 60%|█████████████████████████▊                 | 18/30 [00:04<00:03,  3.69it/s]"
     ]
    },
    {
     "name": "stdout",
     "output_type": "stream",
     "text": [
      "Epoch 17:  (best: False)train loss = 0.097 (auc: 0.890 f1: 0.624), validation loss = 0.099 (auc: 0.894 f1: 0.568)\n"
     ]
    },
    {
     "name": "stderr",
     "output_type": "stream",
     "text": [
      "100%|██████████████████████████████████████████| 16/16 [00:00<00:00, 160.23it/s]\n",
      " 63%|███████████████████████████▏               | 19/30 [00:05<00:02,  3.71it/s]"
     ]
    },
    {
     "name": "stdout",
     "output_type": "stream",
     "text": [
      "Epoch 18:  (best: True)train loss = 0.096 (auc: 0.893 f1: 0.647), validation loss = 0.099 (auc: 0.896 f1: 0.586)\n"
     ]
    },
    {
     "name": "stderr",
     "output_type": "stream",
     "text": [
      "100%|██████████████████████████████████████████| 16/16 [00:00<00:00, 160.93it/s]\n",
      " 67%|████████████████████████████▋              | 20/30 [00:05<00:02,  3.73it/s]"
     ]
    },
    {
     "name": "stdout",
     "output_type": "stream",
     "text": [
      "Epoch 19:  (best: True)train loss = 0.096 (auc: 0.895 f1: 0.653), validation loss = 0.099 (auc: 0.896 f1: 0.593)\n"
     ]
    },
    {
     "name": "stderr",
     "output_type": "stream",
     "text": [
      "100%|██████████████████████████████████████████| 16/16 [00:00<00:00, 156.02it/s]\n",
      " 70%|██████████████████████████████             | 21/30 [00:05<00:02,  3.73it/s]"
     ]
    },
    {
     "name": "stdout",
     "output_type": "stream",
     "text": [
      "Epoch 20:  (best: False)train loss = 0.096 (auc: 0.897 f1: 0.654), validation loss = 0.099 (auc: 0.897 f1: 0.593)\n"
     ]
    },
    {
     "name": "stderr",
     "output_type": "stream",
     "text": [
      "100%|██████████████████████████████████████████| 16/16 [00:00<00:00, 161.69it/s]\n",
      " 73%|███████████████████████████████▌           | 22/30 [00:05<00:02,  3.75it/s]"
     ]
    },
    {
     "name": "stdout",
     "output_type": "stream",
     "text": [
      "Epoch 21:  (best: False)train loss = 0.096 (auc: 0.899 f1: 0.656), validation loss = 0.099 (auc: 0.896 f1: 0.592)\n"
     ]
    },
    {
     "name": "stderr",
     "output_type": "stream",
     "text": [
      "100%|██████████████████████████████████████████| 16/16 [00:00<00:00, 161.47it/s]\n",
      " 77%|████████████████████████████████▉          | 23/30 [00:06<00:01,  3.76it/s]"
     ]
    },
    {
     "name": "stdout",
     "output_type": "stream",
     "text": [
      "Epoch 22:  (best: True)train loss = 0.096 (auc: 0.900 f1: 0.658), validation loss = 0.099 (auc: 0.893 f1: 0.595)\n"
     ]
    },
    {
     "name": "stderr",
     "output_type": "stream",
     "text": [
      "100%|██████████████████████████████████████████| 16/16 [00:00<00:00, 161.72it/s]\n",
      " 80%|██████████████████████████████████▍        | 24/30 [00:06<00:01,  3.73it/s]"
     ]
    },
    {
     "name": "stdout",
     "output_type": "stream",
     "text": [
      "Epoch 23:  (best: True)train loss = 0.097 (auc: 0.901 f1: 0.656), validation loss = 0.099 (auc: 0.892 f1: 0.597)\n"
     ]
    },
    {
     "name": "stderr",
     "output_type": "stream",
     "text": [
      "100%|██████████████████████████████████████████| 16/16 [00:00<00:00, 150.96it/s]\n",
      " 83%|███████████████████████████████████▊       | 25/30 [00:06<00:01,  3.69it/s]"
     ]
    },
    {
     "name": "stdout",
     "output_type": "stream",
     "text": [
      "Epoch 24:  (best: False)train loss = 0.095 (auc: 0.901 f1: 0.653), validation loss = 0.099 (auc: 0.893 f1: 0.594)\n"
     ]
    },
    {
     "name": "stderr",
     "output_type": "stream",
     "text": [
      "100%|██████████████████████████████████████████| 16/16 [00:00<00:00, 156.59it/s]\n",
      " 87%|█████████████████████████████████████▎     | 26/30 [00:06<00:01,  3.71it/s]"
     ]
    },
    {
     "name": "stdout",
     "output_type": "stream",
     "text": [
      "Epoch 25:  (best: True)train loss = 0.095 (auc: 0.902 f1: 0.655), validation loss = 0.099 (auc: 0.891 f1: 0.597)\n"
     ]
    },
    {
     "name": "stderr",
     "output_type": "stream",
     "text": [
      "100%|██████████████████████████████████████████| 16/16 [00:00<00:00, 165.22it/s]\n",
      " 90%|██████████████████████████████████████▋    | 27/30 [00:07<00:00,  3.76it/s]"
     ]
    },
    {
     "name": "stdout",
     "output_type": "stream",
     "text": [
      "Epoch 26:  (best: False)train loss = 0.095 (auc: 0.903 f1: 0.655), validation loss = 0.098 (auc: 0.892 f1: 0.593)\n"
     ]
    },
    {
     "name": "stderr",
     "output_type": "stream",
     "text": [
      "100%|██████████████████████████████████████████| 16/16 [00:00<00:00, 163.54it/s]\n",
      " 93%|████████████████████████████████████████▏  | 28/30 [00:07<00:00,  3.78it/s]"
     ]
    },
    {
     "name": "stdout",
     "output_type": "stream",
     "text": [
      "Epoch 27:  (best: False)train loss = 0.096 (auc: 0.903 f1: 0.654), validation loss = 0.098 (auc: 0.891 f1: 0.596)\n"
     ]
    },
    {
     "name": "stderr",
     "output_type": "stream",
     "text": [
      "100%|██████████████████████████████████████████| 16/16 [00:00<00:00, 168.77it/s]\n",
      " 97%|█████████████████████████████████████████▌ | 29/30 [00:07<00:00,  3.82it/s]"
     ]
    },
    {
     "name": "stdout",
     "output_type": "stream",
     "text": [
      "Epoch 28:  (best: False)train loss = 0.095 (auc: 0.903 f1: 0.654), validation loss = 0.098 (auc: 0.891 f1: 0.593)\n"
     ]
    },
    {
     "name": "stderr",
     "output_type": "stream",
     "text": [
      "100%|██████████████████████████████████████████| 16/16 [00:00<00:00, 169.70it/s]\n",
      "100%|███████████████████████████████████████████| 30/30 [00:08<00:00,  3.75it/s]"
     ]
    },
    {
     "name": "stdout",
     "output_type": "stream",
     "text": [
      "Epoch 29:  (best: False)train loss = 0.096 (auc: 0.903 f1: 0.653), validation loss = 0.098 (auc: 0.891 f1: 0.593)\n"
     ]
    },
    {
     "name": "stderr",
     "output_type": "stream",
     "text": [
      "\n"
     ]
    }
   ],
   "source": [
    "train_dl, test_dl, val_dl = prepare_dataset(\n",
    "    embbeddings_size=128,\n",
    "    split_val=0.5,\n",
    "    batch_size=32\n",
    ")\n",
    "\n",
    "baseline = Baseline(\n",
    "    in_dim=hparams[\"emb_dim\"],\n",
    "    hidden_dim=hparams[\"hidden_dim\"],\n",
    "    num_classes=NUM_CLASSES,\n",
    "    name=hparams[\"model_name\"]\n",
    "    \n",
    ").to(device)\n",
    "\n",
    "optimiser = torch.optim.Adam(baseline.parameters(), lr=hparams[\"lr\"])\n",
    "loss_func = torch.nn.CrossEntropyLoss()\n",
    "\n",
    "baseline = fit(\n",
    "    baseline,\n",
    "    optimiser,\n",
    "    loss_func,\n",
    "    train_dl,\n",
    "    test_dl,\n",
    "    epochs=hparams[\"num_epochs\"],\n",
    "    print_metrics=True\n",
    ")"
   ]
  },
  {
   "cell_type": "code",
   "execution_count": 29,
   "id": "bf249933-c196-4c24-9a67-3e73c590af20",
   "metadata": {},
   "outputs": [],
   "source": [
    "with torch.no_grad():\n",
    "    test_loss, test_f1, test_auc = validate(baseline, loss_func, test_dl)"
   ]
  },
  {
   "cell_type": "code",
   "execution_count": 30,
   "id": "9c19c84c-1fdd-4700-a367-b75a5fd4d60b",
   "metadata": {},
   "outputs": [
    {
     "name": "stdout",
     "output_type": "stream",
     "text": [
      "\n",
      "          Test loss: 0.09844127297401428,\n",
      "          Test F1: 0.5930532099677123,\n",
      "          Test AUC: 0.8906585195034016\n",
      "      \n"
     ]
    }
   ],
   "source": [
    "print(f\"\"\"\n",
    "          Test loss: {test_loss},\n",
    "          Test F1: {test_f1},\n",
    "          Test AUC: {test_auc}\n",
    "      \"\"\")"
   ]
  },
  {
   "cell_type": "code",
   "execution_count": 32,
   "id": "866f8729-9289-4c9a-8c53-bc8f4964f197",
   "metadata": {
    "collapsed": true,
    "jupyter": {
     "outputs_hidden": true
    },
    "tags": []
   },
   "outputs": [
    {
     "name": "stderr",
     "output_type": "stream",
     "text": [
      "100%|██████████████████████████████████████████| 16/16 [00:00<00:00, 143.58it/s]\n",
      "  5%|██▏                                         | 1/20 [00:00<00:06,  3.02it/s]"
     ]
    },
    {
     "name": "stdout",
     "output_type": "stream",
     "text": [
      "Epoch 0:  (best: True)train loss = 0.115 (auc: 0.849 f1: 0.194), validation loss = 0.115 (auc: 0.836 f1: 0.171)\n"
     ]
    },
    {
     "name": "stderr",
     "output_type": "stream",
     "text": [
      "100%|██████████████████████████████████████████| 16/16 [00:00<00:00, 154.50it/s]\n",
      " 10%|████▍                                       | 2/20 [00:00<00:05,  3.24it/s]"
     ]
    },
    {
     "name": "stdout",
     "output_type": "stream",
     "text": [
      "Epoch 1:  (best: True)train loss = 0.107 (auc: 0.844 f1: 0.387), validation loss = 0.108 (auc: 0.846 f1: 0.355)\n"
     ]
    },
    {
     "name": "stderr",
     "output_type": "stream",
     "text": [
      "100%|██████████████████████████████████████████| 16/16 [00:00<00:00, 160.47it/s]\n",
      " 15%|██████▌                                     | 3/20 [00:00<00:04,  3.46it/s]"
     ]
    },
    {
     "name": "stdout",
     "output_type": "stream",
     "text": [
      "Epoch 2:  (best: True)train loss = 0.102 (auc: 0.864 f1: 0.431), validation loss = 0.103 (auc: 0.874 f1: 0.419)\n"
     ]
    },
    {
     "name": "stderr",
     "output_type": "stream",
     "text": [
      "100%|██████████████████████████████████████████| 16/16 [00:00<00:00, 155.20it/s]\n",
      " 20%|████████▊                                   | 4/20 [00:01<00:04,  3.54it/s]"
     ]
    },
    {
     "name": "stdout",
     "output_type": "stream",
     "text": [
      "Epoch 3:  (best: True)train loss = 0.101 (auc: 0.857 f1: 0.469), validation loss = 0.102 (auc: 0.864 f1: 0.444)\n"
     ]
    },
    {
     "name": "stderr",
     "output_type": "stream",
     "text": [
      "100%|██████████████████████████████████████████| 16/16 [00:00<00:00, 149.62it/s]\n",
      " 25%|███████████                                 | 5/20 [00:01<00:04,  3.55it/s]"
     ]
    },
    {
     "name": "stdout",
     "output_type": "stream",
     "text": [
      "Epoch 4:  (best: False)train loss = 0.100 (auc: 0.859 f1: 0.481), validation loss = 0.102 (auc: 0.869 f1: 0.444)\n"
     ]
    },
    {
     "name": "stderr",
     "output_type": "stream",
     "text": [
      "100%|██████████████████████████████████████████| 16/16 [00:00<00:00, 160.95it/s]\n",
      " 30%|█████████████▏                              | 6/20 [00:01<00:03,  3.58it/s]"
     ]
    },
    {
     "name": "stdout",
     "output_type": "stream",
     "text": [
      "Epoch 5:  (best: True)train loss = 0.099 (auc: 0.872 f1: 0.549), validation loss = 0.101 (auc: 0.876 f1: 0.520)\n"
     ]
    },
    {
     "name": "stderr",
     "output_type": "stream",
     "text": [
      "100%|██████████████████████████████████████████| 16/16 [00:00<00:00, 151.37it/s]\n",
      " 35%|███████████████▍                            | 7/20 [00:01<00:03,  3.57it/s]"
     ]
    },
    {
     "name": "stdout",
     "output_type": "stream",
     "text": [
      "Epoch 6:  (best: True)train loss = 0.098 (auc: 0.878 f1: 0.551), validation loss = 0.100 (auc: 0.883 f1: 0.521)\n"
     ]
    },
    {
     "name": "stderr",
     "output_type": "stream",
     "text": [
      "100%|██████████████████████████████████████████| 16/16 [00:00<00:00, 151.16it/s]\n",
      " 40%|█████████████████▌                          | 8/20 [00:02<00:03,  3.61it/s]"
     ]
    },
    {
     "name": "stdout",
     "output_type": "stream",
     "text": [
      "Epoch 7:  (best: True)train loss = 0.098 (auc: 0.880 f1: 0.562), validation loss = 0.100 (auc: 0.885 f1: 0.522)\n"
     ]
    },
    {
     "name": "stderr",
     "output_type": "stream",
     "text": [
      "100%|██████████████████████████████████████████| 16/16 [00:00<00:00, 158.58it/s]\n",
      " 45%|███████████████████▊                        | 9/20 [00:02<00:03,  3.65it/s]"
     ]
    },
    {
     "name": "stdout",
     "output_type": "stream",
     "text": [
      "Epoch 8:  (best: True)train loss = 0.097 (auc: 0.888 f1: 0.571), validation loss = 0.099 (auc: 0.891 f1: 0.550)\n"
     ]
    },
    {
     "name": "stderr",
     "output_type": "stream",
     "text": [
      "100%|██████████████████████████████████████████| 16/16 [00:00<00:00, 156.82it/s]\n",
      " 50%|█████████████████████▌                     | 10/20 [00:02<00:02,  3.66it/s]"
     ]
    },
    {
     "name": "stdout",
     "output_type": "stream",
     "text": [
      "Epoch 9:  (best: True)train loss = 0.097 (auc: 0.891 f1: 0.604), validation loss = 0.099 (auc: 0.895 f1: 0.560)\n"
     ]
    },
    {
     "name": "stderr",
     "output_type": "stream",
     "text": [
      "100%|██████████████████████████████████████████| 16/16 [00:00<00:00, 162.15it/s]\n",
      " 55%|███████████████████████▋                   | 11/20 [00:03<00:02,  3.71it/s]"
     ]
    },
    {
     "name": "stdout",
     "output_type": "stream",
     "text": [
      "Epoch 10:  (best: True)train loss = 0.096 (auc: 0.896 f1: 0.640), validation loss = 0.099 (auc: 0.899 f1: 0.587)\n"
     ]
    },
    {
     "name": "stderr",
     "output_type": "stream",
     "text": [
      "100%|██████████████████████████████████████████| 16/16 [00:00<00:00, 153.36it/s]\n",
      " 60%|█████████████████████████▊                 | 12/20 [00:03<00:02,  3.72it/s]"
     ]
    },
    {
     "name": "stdout",
     "output_type": "stream",
     "text": [
      "Epoch 11:  (best: False)train loss = 0.096 (auc: 0.895 f1: 0.610), validation loss = 0.099 (auc: 0.899 f1: 0.555)\n"
     ]
    },
    {
     "name": "stderr",
     "output_type": "stream",
     "text": [
      "100%|██████████████████████████████████████████| 16/16 [00:00<00:00, 157.22it/s]\n",
      " 65%|███████████████████████████▉               | 13/20 [00:03<00:01,  3.73it/s]"
     ]
    },
    {
     "name": "stdout",
     "output_type": "stream",
     "text": [
      "Epoch 12:  (best: False)train loss = 0.096 (auc: 0.901 f1: 0.637), validation loss = 0.098 (auc: 0.902 f1: 0.578)\n"
     ]
    },
    {
     "name": "stderr",
     "output_type": "stream",
     "text": [
      "100%|██████████████████████████████████████████| 16/16 [00:00<00:00, 131.76it/s]\n",
      " 70%|██████████████████████████████             | 14/20 [00:03<00:01,  3.64it/s]"
     ]
    },
    {
     "name": "stdout",
     "output_type": "stream",
     "text": [
      "Epoch 13:  (best: True)train loss = 0.096 (auc: 0.905 f1: 0.650), validation loss = 0.098 (auc: 0.904 f1: 0.601)\n"
     ]
    },
    {
     "name": "stderr",
     "output_type": "stream",
     "text": [
      "100%|██████████████████████████████████████████| 16/16 [00:00<00:00, 154.58it/s]\n",
      " 75%|████████████████████████████████▎          | 15/20 [00:04<00:01,  3.65it/s]"
     ]
    },
    {
     "name": "stdout",
     "output_type": "stream",
     "text": [
      "Epoch 14:  (best: True)train loss = 0.096 (auc: 0.907 f1: 0.651), validation loss = 0.098 (auc: 0.905 f1: 0.606)\n"
     ]
    },
    {
     "name": "stderr",
     "output_type": "stream",
     "text": [
      "100%|██████████████████████████████████████████| 16/16 [00:00<00:00, 154.09it/s]\n",
      " 80%|██████████████████████████████████▍        | 16/20 [00:04<00:01,  3.66it/s]"
     ]
    },
    {
     "name": "stdout",
     "output_type": "stream",
     "text": [
      "Epoch 15:  (best: True)train loss = 0.096 (auc: 0.908 f1: 0.680), validation loss = 0.098 (auc: 0.907 f1: 0.615)\n"
     ]
    },
    {
     "name": "stderr",
     "output_type": "stream",
     "text": [
      "100%|██████████████████████████████████████████| 16/16 [00:00<00:00, 156.22it/s]\n",
      " 85%|████████████████████████████████████▌      | 17/20 [00:04<00:00,  3.67it/s]"
     ]
    },
    {
     "name": "stdout",
     "output_type": "stream",
     "text": [
      "Epoch 16:  (best: False)train loss = 0.096 (auc: 0.907 f1: 0.677), validation loss = 0.098 (auc: 0.902 f1: 0.604)\n"
     ]
    },
    {
     "name": "stderr",
     "output_type": "stream",
     "text": [
      "100%|██████████████████████████████████████████| 16/16 [00:00<00:00, 157.08it/s]\n",
      " 90%|██████████████████████████████████████▋    | 18/20 [00:04<00:00,  3.66it/s]"
     ]
    },
    {
     "name": "stdout",
     "output_type": "stream",
     "text": [
      "Epoch 17:  (best: False)train loss = 0.095 (auc: 0.912 f1: 0.680), validation loss = 0.098 (auc: 0.908 f1: 0.609)\n"
     ]
    },
    {
     "name": "stderr",
     "output_type": "stream",
     "text": [
      "100%|██████████████████████████████████████████| 16/16 [00:00<00:00, 157.17it/s]\n",
      " 95%|████████████████████████████████████████▊  | 19/20 [00:05<00:00,  3.68it/s]"
     ]
    },
    {
     "name": "stdout",
     "output_type": "stream",
     "text": [
      "Epoch 18:  (best: False)train loss = 0.095 (auc: 0.915 f1: 0.681), validation loss = 0.098 (auc: 0.910 f1: 0.607)\n"
     ]
    },
    {
     "name": "stderr",
     "output_type": "stream",
     "text": [
      "100%|██████████████████████████████████████████| 16/16 [00:00<00:00, 152.60it/s]\n",
      "100%|███████████████████████████████████████████| 20/20 [00:05<00:00,  3.62it/s]\n"
     ]
    },
    {
     "name": "stdout",
     "output_type": "stream",
     "text": [
      "Epoch 19:  (best: False)train loss = 0.095 (auc: 0.915 f1: 0.682), validation loss = 0.098 (auc: 0.908 f1: 0.612)\n"
     ]
    },
    {
     "name": "stderr",
     "output_type": "stream",
     "text": [
      "100%|██████████████████████████████████████████| 16/16 [00:00<00:00, 147.43it/s]\n",
      "  5%|██▏                                         | 1/20 [00:00<00:05,  3.60it/s]"
     ]
    },
    {
     "name": "stdout",
     "output_type": "stream",
     "text": [
      "Epoch 0:  (best: True)train loss = 0.114 (auc: 0.802 f1: 0.076), validation loss = 0.114 (auc: 0.791 f1: 0.071)\n"
     ]
    },
    {
     "name": "stderr",
     "output_type": "stream",
     "text": [
      "100%|██████████████████████████████████████████| 16/16 [00:00<00:00, 151.89it/s]\n",
      " 10%|████▍                                       | 2/20 [00:00<00:05,  3.58it/s]"
     ]
    },
    {
     "name": "stdout",
     "output_type": "stream",
     "text": [
      "Epoch 1:  (best: True)train loss = 0.108 (auc: 0.802 f1: 0.300), validation loss = 0.110 (auc: 0.803 f1: 0.253)\n"
     ]
    },
    {
     "name": "stderr",
     "output_type": "stream",
     "text": [
      "100%|██████████████████████████████████████████| 16/16 [00:00<00:00, 137.35it/s]\n",
      " 15%|██████▌                                     | 3/20 [00:00<00:04,  3.55it/s]"
     ]
    },
    {
     "name": "stdout",
     "output_type": "stream",
     "text": [
      "Epoch 2:  (best: True)train loss = 0.103 (auc: 0.853 f1: 0.428), validation loss = 0.104 (auc: 0.861 f1: 0.403)\n"
     ]
    },
    {
     "name": "stderr",
     "output_type": "stream",
     "text": [
      "100%|██████████████████████████████████████████| 16/16 [00:00<00:00, 152.36it/s]\n",
      " 20%|████████▊                                   | 4/20 [00:01<00:04,  3.62it/s]"
     ]
    },
    {
     "name": "stdout",
     "output_type": "stream",
     "text": [
      "Epoch 3:  (best: True)train loss = 0.101 (auc: 0.868 f1: 0.514), validation loss = 0.102 (auc: 0.872 f1: 0.475)\n"
     ]
    },
    {
     "name": "stderr",
     "output_type": "stream",
     "text": [
      "100%|██████████████████████████████████████████| 16/16 [00:00<00:00, 153.81it/s]\n",
      " 25%|███████████                                 | 5/20 [00:01<00:04,  3.65it/s]"
     ]
    },
    {
     "name": "stdout",
     "output_type": "stream",
     "text": [
      "Epoch 4:  (best: True)train loss = 0.099 (auc: 0.878 f1: 0.540), validation loss = 0.100 (auc: 0.882 f1: 0.510)\n"
     ]
    },
    {
     "name": "stderr",
     "output_type": "stream",
     "text": [
      "100%|██████████████████████████████████████████| 16/16 [00:00<00:00, 162.52it/s]\n",
      " 30%|█████████████▏                              | 6/20 [00:01<00:03,  3.72it/s]"
     ]
    },
    {
     "name": "stdout",
     "output_type": "stream",
     "text": [
      "Epoch 5:  (best: False)train loss = 0.098 (auc: 0.877 f1: 0.535), validation loss = 0.100 (auc: 0.883 f1: 0.502)\n"
     ]
    },
    {
     "name": "stderr",
     "output_type": "stream",
     "text": [
      "100%|██████████████████████████████████████████| 16/16 [00:00<00:00, 161.36it/s]\n",
      " 35%|███████████████▍                            | 7/20 [00:01<00:03,  3.69it/s]"
     ]
    },
    {
     "name": "stdout",
     "output_type": "stream",
     "text": [
      "Epoch 6:  (best: True)train loss = 0.098 (auc: 0.882 f1: 0.583), validation loss = 0.099 (auc: 0.883 f1: 0.548)\n"
     ]
    },
    {
     "name": "stderr",
     "output_type": "stream",
     "text": [
      "100%|██████████████████████████████████████████| 16/16 [00:00<00:00, 157.96it/s]\n",
      " 40%|█████████████████▌                          | 8/20 [00:02<00:03,  3.74it/s]"
     ]
    },
    {
     "name": "stdout",
     "output_type": "stream",
     "text": [
      "Epoch 7:  (best: True)train loss = 0.098 (auc: 0.885 f1: 0.589), validation loss = 0.099 (auc: 0.885 f1: 0.566)\n"
     ]
    },
    {
     "name": "stderr",
     "output_type": "stream",
     "text": [
      "100%|██████████████████████████████████████████| 16/16 [00:00<00:00, 167.24it/s]\n",
      " 45%|███████████████████▊                        | 9/20 [00:02<00:02,  3.79it/s]"
     ]
    },
    {
     "name": "stdout",
     "output_type": "stream",
     "text": [
      "Epoch 8:  (best: False)train loss = 0.097 (auc: 0.890 f1: 0.596), validation loss = 0.099 (auc: 0.889 f1: 0.563)\n"
     ]
    },
    {
     "name": "stderr",
     "output_type": "stream",
     "text": [
      "100%|██████████████████████████████████████████| 16/16 [00:00<00:00, 160.62it/s]\n",
      " 50%|█████████████████████▌                     | 10/20 [00:02<00:02,  3.74it/s]"
     ]
    },
    {
     "name": "stdout",
     "output_type": "stream",
     "text": [
      "Epoch 9:  (best: True)train loss = 0.097 (auc: 0.892 f1: 0.609), validation loss = 0.099 (auc: 0.892 f1: 0.570)\n"
     ]
    },
    {
     "name": "stderr",
     "output_type": "stream",
     "text": [
      "100%|██████████████████████████████████████████| 16/16 [00:00<00:00, 144.72it/s]\n",
      " 55%|███████████████████████▋                   | 11/20 [00:02<00:02,  3.68it/s]"
     ]
    },
    {
     "name": "stdout",
     "output_type": "stream",
     "text": [
      "Epoch 10:  (best: True)train loss = 0.096 (auc: 0.896 f1: 0.635), validation loss = 0.099 (auc: 0.896 f1: 0.601)\n"
     ]
    },
    {
     "name": "stderr",
     "output_type": "stream",
     "text": [
      "100%|██████████████████████████████████████████| 16/16 [00:00<00:00, 166.33it/s]\n",
      " 60%|█████████████████████████▊                 | 12/20 [00:03<00:02,  3.71it/s]"
     ]
    },
    {
     "name": "stdout",
     "output_type": "stream",
     "text": [
      "Epoch 11:  (best: False)train loss = 0.096 (auc: 0.901 f1: 0.648), validation loss = 0.098 (auc: 0.896 f1: 0.598)\n"
     ]
    },
    {
     "name": "stderr",
     "output_type": "stream",
     "text": [
      "100%|██████████████████████████████████████████| 16/16 [00:00<00:00, 162.27it/s]\n",
      " 65%|███████████████████████████▉               | 13/20 [00:03<00:01,  3.76it/s]"
     ]
    },
    {
     "name": "stdout",
     "output_type": "stream",
     "text": [
      "Epoch 12:  (best: True)train loss = 0.096 (auc: 0.905 f1: 0.678), validation loss = 0.098 (auc: 0.895 f1: 0.617)\n"
     ]
    },
    {
     "name": "stderr",
     "output_type": "stream",
     "text": [
      "100%|██████████████████████████████████████████| 16/16 [00:00<00:00, 167.61it/s]\n",
      " 70%|██████████████████████████████             | 14/20 [00:03<00:01,  3.79it/s]"
     ]
    },
    {
     "name": "stdout",
     "output_type": "stream",
     "text": [
      "Epoch 13:  (best: False)train loss = 0.095 (auc: 0.905 f1: 0.661), validation loss = 0.098 (auc: 0.894 f1: 0.603)\n"
     ]
    },
    {
     "name": "stderr",
     "output_type": "stream",
     "text": [
      "100%|██████████████████████████████████████████| 16/16 [00:00<00:00, 166.09it/s]\n",
      " 75%|████████████████████████████████▎          | 15/20 [00:04<00:01,  3.81it/s]"
     ]
    },
    {
     "name": "stdout",
     "output_type": "stream",
     "text": [
      "Epoch 14:  (best: False)train loss = 0.095 (auc: 0.908 f1: 0.670), validation loss = 0.098 (auc: 0.894 f1: 0.610)\n"
     ]
    },
    {
     "name": "stderr",
     "output_type": "stream",
     "text": [
      "100%|██████████████████████████████████████████| 16/16 [00:00<00:00, 165.58it/s]\n",
      " 80%|██████████████████████████████████▍        | 16/20 [00:04<00:01,  3.79it/s]"
     ]
    },
    {
     "name": "stdout",
     "output_type": "stream",
     "text": [
      "Epoch 15:  (best: False)train loss = 0.095 (auc: 0.909 f1: 0.668), validation loss = 0.098 (auc: 0.894 f1: 0.602)\n"
     ]
    },
    {
     "name": "stderr",
     "output_type": "stream",
     "text": [
      "100%|██████████████████████████████████████████| 16/16 [00:00<00:00, 164.83it/s]\n",
      " 85%|████████████████████████████████████▌      | 17/20 [00:04<00:00,  3.82it/s]"
     ]
    },
    {
     "name": "stdout",
     "output_type": "stream",
     "text": [
      "Epoch 16:  (best: True)train loss = 0.095 (auc: 0.909 f1: 0.705), validation loss = 0.098 (auc: 0.894 f1: 0.620)\n"
     ]
    },
    {
     "name": "stderr",
     "output_type": "stream",
     "text": [
      "100%|██████████████████████████████████████████| 16/16 [00:00<00:00, 167.70it/s]\n",
      " 90%|██████████████████████████████████████▋    | 18/20 [00:04<00:00,  3.79it/s]"
     ]
    },
    {
     "name": "stdout",
     "output_type": "stream",
     "text": [
      "Epoch 17:  (best: False)train loss = 0.095 (auc: 0.912 f1: 0.701), validation loss = 0.098 (auc: 0.894 f1: 0.612)\n"
     ]
    },
    {
     "name": "stderr",
     "output_type": "stream",
     "text": [
      "100%|██████████████████████████████████████████| 16/16 [00:00<00:00, 156.50it/s]\n",
      " 95%|████████████████████████████████████████▊  | 19/20 [00:05<00:00,  3.79it/s]"
     ]
    },
    {
     "name": "stdout",
     "output_type": "stream",
     "text": [
      "Epoch 18:  (best: True)train loss = 0.094 (auc: 0.911 f1: 0.699), validation loss = 0.098 (auc: 0.894 f1: 0.626)\n"
     ]
    },
    {
     "name": "stderr",
     "output_type": "stream",
     "text": [
      "100%|██████████████████████████████████████████| 16/16 [00:00<00:00, 146.57it/s]\n",
      "100%|███████████████████████████████████████████| 20/20 [00:05<00:00,  3.73it/s]\n"
     ]
    },
    {
     "name": "stdout",
     "output_type": "stream",
     "text": [
      "Epoch 19:  (best: False)train loss = 0.094 (auc: 0.916 f1: 0.705), validation loss = 0.098 (auc: 0.895 f1: 0.618)\n"
     ]
    },
    {
     "name": "stderr",
     "output_type": "stream",
     "text": [
      "100%|██████████████████████████████████████████| 16/16 [00:00<00:00, 152.09it/s]\n",
      "  5%|██▏                                         | 1/20 [00:00<00:05,  3.70it/s]"
     ]
    },
    {
     "name": "stdout",
     "output_type": "stream",
     "text": [
      "Epoch 0:  (best: True)train loss = 0.114 (auc: 0.848 f1: 0.114), validation loss = 0.115 (auc: 0.841 f1: 0.099)\n"
     ]
    },
    {
     "name": "stderr",
     "output_type": "stream",
     "text": [
      "100%|██████████████████████████████████████████| 16/16 [00:00<00:00, 156.70it/s]\n",
      " 10%|████▍                                       | 2/20 [00:00<00:04,  3.65it/s]"
     ]
    },
    {
     "name": "stdout",
     "output_type": "stream",
     "text": [
      "Epoch 1:  (best: True)train loss = 0.108 (auc: 0.846 f1: 0.297), validation loss = 0.108 (auc: 0.852 f1: 0.271)\n"
     ]
    },
    {
     "name": "stderr",
     "output_type": "stream",
     "text": [
      "100%|██████████████████████████████████████████| 16/16 [00:00<00:00, 163.07it/s]\n",
      " 15%|██████▌                                     | 3/20 [00:00<00:04,  3.72it/s]"
     ]
    },
    {
     "name": "stdout",
     "output_type": "stream",
     "text": [
      "Epoch 2:  (best: True)train loss = 0.103 (auc: 0.865 f1: 0.462), validation loss = 0.104 (auc: 0.866 f1: 0.421)\n"
     ]
    },
    {
     "name": "stderr",
     "output_type": "stream",
     "text": [
      "100%|██████████████████████████████████████████| 16/16 [00:00<00:00, 157.51it/s]\n",
      " 20%|████████▊                                   | 4/20 [00:01<00:04,  3.76it/s]"
     ]
    },
    {
     "name": "stdout",
     "output_type": "stream",
     "text": [
      "Epoch 3:  (best: True)train loss = 0.101 (auc: 0.874 f1: 0.494), validation loss = 0.101 (auc: 0.874 f1: 0.470)\n"
     ]
    },
    {
     "name": "stderr",
     "output_type": "stream",
     "text": [
      "100%|██████████████████████████████████████████| 16/16 [00:00<00:00, 163.24it/s]\n",
      " 25%|███████████                                 | 5/20 [00:01<00:03,  3.82it/s]"
     ]
    },
    {
     "name": "stdout",
     "output_type": "stream",
     "text": [
      "Epoch 4:  (best: True)train loss = 0.099 (auc: 0.878 f1: 0.540), validation loss = 0.100 (auc: 0.875 f1: 0.511)\n"
     ]
    },
    {
     "name": "stderr",
     "output_type": "stream",
     "text": [
      "100%|██████████████████████████████████████████| 16/16 [00:00<00:00, 170.43it/s]\n",
      " 30%|█████████████▏                              | 6/20 [00:01<00:03,  3.87it/s]"
     ]
    },
    {
     "name": "stdout",
     "output_type": "stream",
     "text": [
      "Epoch 5:  (best: True)train loss = 0.098 (auc: 0.881 f1: 0.547), validation loss = 0.100 (auc: 0.878 f1: 0.514)\n"
     ]
    },
    {
     "name": "stderr",
     "output_type": "stream",
     "text": [
      "100%|██████████████████████████████████████████| 16/16 [00:00<00:00, 155.39it/s]\n",
      " 35%|███████████████▍                            | 7/20 [00:01<00:03,  3.81it/s]"
     ]
    },
    {
     "name": "stdout",
     "output_type": "stream",
     "text": [
      "Epoch 6:  (best: True)train loss = 0.098 (auc: 0.888 f1: 0.556), validation loss = 0.100 (auc: 0.887 f1: 0.520)\n"
     ]
    },
    {
     "name": "stderr",
     "output_type": "stream",
     "text": [
      "100%|██████████████████████████████████████████| 16/16 [00:00<00:00, 156.94it/s]\n",
      " 40%|█████████████████▌                          | 8/20 [00:02<00:03,  3.78it/s]"
     ]
    },
    {
     "name": "stdout",
     "output_type": "stream",
     "text": [
      "Epoch 7:  (best: True)train loss = 0.098 (auc: 0.893 f1: 0.600), validation loss = 0.099 (auc: 0.894 f1: 0.567)\n"
     ]
    },
    {
     "name": "stderr",
     "output_type": "stream",
     "text": [
      "100%|██████████████████████████████████████████| 16/16 [00:00<00:00, 166.93it/s]\n",
      " 45%|███████████████████▊                        | 9/20 [00:02<00:02,  3.82it/s]"
     ]
    },
    {
     "name": "stdout",
     "output_type": "stream",
     "text": [
      "Epoch 8:  (best: True)train loss = 0.097 (auc: 0.895 f1: 0.610), validation loss = 0.099 (auc: 0.895 f1: 0.588)\n"
     ]
    },
    {
     "name": "stderr",
     "output_type": "stream",
     "text": [
      "100%|██████████████████████████████████████████| 16/16 [00:00<00:00, 157.67it/s]\n",
      " 50%|█████████████████████▌                     | 10/20 [00:02<00:02,  3.78it/s]"
     ]
    },
    {
     "name": "stdout",
     "output_type": "stream",
     "text": [
      "Epoch 9:  (best: True)train loss = 0.097 (auc: 0.900 f1: 0.630), validation loss = 0.098 (auc: 0.899 f1: 0.594)\n"
     ]
    },
    {
     "name": "stderr",
     "output_type": "stream",
     "text": [
      "100%|██████████████████████████████████████████| 16/16 [00:00<00:00, 161.90it/s]\n",
      " 55%|███████████████████████▋                   | 11/20 [00:02<00:02,  3.78it/s]"
     ]
    },
    {
     "name": "stdout",
     "output_type": "stream",
     "text": [
      "Epoch 10:  (best: True)train loss = 0.096 (auc: 0.903 f1: 0.670), validation loss = 0.098 (auc: 0.900 f1: 0.622)\n"
     ]
    },
    {
     "name": "stderr",
     "output_type": "stream",
     "text": [
      "100%|██████████████████████████████████████████| 16/16 [00:00<00:00, 165.15it/s]\n",
      " 60%|█████████████████████████▊                 | 12/20 [00:03<00:02,  3.79it/s]"
     ]
    },
    {
     "name": "stdout",
     "output_type": "stream",
     "text": [
      "Epoch 11:  (best: True)train loss = 0.096 (auc: 0.905 f1: 0.677), validation loss = 0.098 (auc: 0.901 f1: 0.624)\n"
     ]
    },
    {
     "name": "stderr",
     "output_type": "stream",
     "text": [
      "100%|██████████████████████████████████████████| 16/16 [00:00<00:00, 158.56it/s]\n",
      " 65%|███████████████████████████▉               | 13/20 [00:03<00:01,  3.79it/s]"
     ]
    },
    {
     "name": "stdout",
     "output_type": "stream",
     "text": [
      "Epoch 12:  (best: True)train loss = 0.095 (auc: 0.905 f1: 0.691), validation loss = 0.098 (auc: 0.893 f1: 0.634)\n"
     ]
    },
    {
     "name": "stderr",
     "output_type": "stream",
     "text": [
      "100%|██████████████████████████████████████████| 16/16 [00:00<00:00, 165.80it/s]\n",
      " 70%|██████████████████████████████             | 14/20 [00:03<00:01,  3.80it/s]"
     ]
    },
    {
     "name": "stdout",
     "output_type": "stream",
     "text": [
      "Epoch 13:  (best: False)train loss = 0.095 (auc: 0.908 f1: 0.695), validation loss = 0.098 (auc: 0.899 f1: 0.616)\n"
     ]
    },
    {
     "name": "stderr",
     "output_type": "stream",
     "text": [
      "100%|██████████████████████████████████████████| 16/16 [00:00<00:00, 155.66it/s]\n",
      " 75%|████████████████████████████████▎          | 15/20 [00:03<00:01,  3.76it/s]"
     ]
    },
    {
     "name": "stdout",
     "output_type": "stream",
     "text": [
      "Epoch 14:  (best: False)train loss = 0.095 (auc: 0.908 f1: 0.688), validation loss = 0.098 (auc: 0.893 f1: 0.608)\n"
     ]
    },
    {
     "name": "stderr",
     "output_type": "stream",
     "text": [
      "100%|██████████████████████████████████████████| 16/16 [00:00<00:00, 161.83it/s]\n",
      " 80%|██████████████████████████████████▍        | 16/20 [00:04<00:01,  3.77it/s]"
     ]
    },
    {
     "name": "stdout",
     "output_type": "stream",
     "text": [
      "Epoch 15:  (best: True)train loss = 0.095 (auc: 0.911 f1: 0.713), validation loss = 0.098 (auc: 0.894 f1: 0.639)\n"
     ]
    },
    {
     "name": "stderr",
     "output_type": "stream",
     "text": [
      "100%|██████████████████████████████████████████| 16/16 [00:00<00:00, 166.31it/s]\n",
      " 85%|████████████████████████████████████▌      | 17/20 [00:04<00:00,  3.78it/s]"
     ]
    },
    {
     "name": "stdout",
     "output_type": "stream",
     "text": [
      "Epoch 16:  (best: False)train loss = 0.095 (auc: 0.914 f1: 0.708), validation loss = 0.097 (auc: 0.899 f1: 0.634)\n"
     ]
    },
    {
     "name": "stderr",
     "output_type": "stream",
     "text": [
      "100%|██████████████████████████████████████████| 16/16 [00:00<00:00, 126.88it/s]\n",
      " 90%|██████████████████████████████████████▋    | 18/20 [00:04<00:00,  3.49it/s]"
     ]
    },
    {
     "name": "stdout",
     "output_type": "stream",
     "text": [
      "Epoch 17:  (best: False)train loss = 0.094 (auc: 0.917 f1: 0.716), validation loss = 0.097 (auc: 0.898 f1: 0.631)\n"
     ]
    },
    {
     "name": "stderr",
     "output_type": "stream",
     "text": [
      "100%|██████████████████████████████████████████| 16/16 [00:00<00:00, 149.85it/s]\n",
      " 95%|████████████████████████████████████████▊  | 19/20 [00:05<00:00,  3.51it/s]"
     ]
    },
    {
     "name": "stdout",
     "output_type": "stream",
     "text": [
      "Epoch 18:  (best: False)train loss = 0.094 (auc: 0.920 f1: 0.725), validation loss = 0.098 (auc: 0.894 f1: 0.636)\n"
     ]
    },
    {
     "name": "stderr",
     "output_type": "stream",
     "text": [
      "100%|██████████████████████████████████████████| 16/16 [00:00<00:00, 159.96it/s]\n",
      "100%|███████████████████████████████████████████| 20/20 [00:05<00:00,  3.72it/s]\n"
     ]
    },
    {
     "name": "stdout",
     "output_type": "stream",
     "text": [
      "Epoch 19:  (best: False)train loss = 0.094 (auc: 0.920 f1: 0.724), validation loss = 0.097 (auc: 0.897 f1: 0.634)\n"
     ]
    },
    {
     "name": "stderr",
     "output_type": "stream",
     "text": [
      "100%|██████████████████████████████████████████| 16/16 [00:00<00:00, 172.66it/s]\n",
      "  5%|██▏                                         | 1/20 [00:00<00:04,  3.99it/s]"
     ]
    },
    {
     "name": "stdout",
     "output_type": "stream",
     "text": [
      "Epoch 0:  (best: True)train loss = 0.114 (auc: 0.846 f1: 0.122), validation loss = 0.114 (auc: 0.844 f1: 0.110)\n"
     ]
    },
    {
     "name": "stderr",
     "output_type": "stream",
     "text": [
      "100%|██████████████████████████████████████████| 16/16 [00:00<00:00, 167.86it/s]\n",
      " 10%|████▍                                       | 2/20 [00:00<00:04,  3.66it/s]"
     ]
    },
    {
     "name": "stdout",
     "output_type": "stream",
     "text": [
      "Epoch 1:  (best: True)train loss = 0.109 (auc: 0.821 f1: 0.223), validation loss = 0.109 (auc: 0.834 f1: 0.242)\n"
     ]
    },
    {
     "name": "stderr",
     "output_type": "stream",
     "text": [
      "100%|██████████████████████████████████████████| 16/16 [00:00<00:00, 125.98it/s]\n",
      " 15%|██████▌                                     | 3/20 [00:00<00:04,  3.45it/s]"
     ]
    },
    {
     "name": "stdout",
     "output_type": "stream",
     "text": [
      "Epoch 2:  (best: True)train loss = 0.103 (auc: 0.841 f1: 0.453), validation loss = 0.104 (auc: 0.848 f1: 0.441)\n"
     ]
    },
    {
     "name": "stderr",
     "output_type": "stream",
     "text": [
      "100%|██████████████████████████████████████████| 16/16 [00:00<00:00, 153.39it/s]\n",
      " 20%|████████▊                                   | 4/20 [00:01<00:04,  3.54it/s]"
     ]
    },
    {
     "name": "stdout",
     "output_type": "stream",
     "text": [
      "Epoch 3:  (best: True)train loss = 0.101 (auc: 0.854 f1: 0.522), validation loss = 0.102 (auc: 0.854 f1: 0.486)\n"
     ]
    },
    {
     "name": "stderr",
     "output_type": "stream",
     "text": [
      "100%|██████████████████████████████████████████| 16/16 [00:00<00:00, 161.65it/s]\n",
      " 25%|███████████                                 | 5/20 [00:01<00:04,  3.64it/s]"
     ]
    },
    {
     "name": "stdout",
     "output_type": "stream",
     "text": [
      "Epoch 4:  (best: True)train loss = 0.099 (auc: 0.867 f1: 0.536), validation loss = 0.101 (auc: 0.869 f1: 0.504)\n"
     ]
    },
    {
     "name": "stderr",
     "output_type": "stream",
     "text": [
      "100%|██████████████████████████████████████████| 16/16 [00:00<00:00, 150.55it/s]\n",
      " 30%|█████████████▏                              | 6/20 [00:01<00:03,  3.61it/s]"
     ]
    },
    {
     "name": "stdout",
     "output_type": "stream",
     "text": [
      "Epoch 5:  (best: True)train loss = 0.098 (auc: 0.877 f1: 0.553), validation loss = 0.100 (auc: 0.880 f1: 0.514)\n"
     ]
    },
    {
     "name": "stderr",
     "output_type": "stream",
     "text": [
      "100%|██████████████████████████████████████████| 16/16 [00:00<00:00, 149.36it/s]\n",
      " 35%|███████████████▍                            | 7/20 [00:01<00:03,  3.61it/s]"
     ]
    },
    {
     "name": "stdout",
     "output_type": "stream",
     "text": [
      "Epoch 6:  (best: True)train loss = 0.098 (auc: 0.879 f1: 0.577), validation loss = 0.099 (auc: 0.883 f1: 0.541)\n"
     ]
    },
    {
     "name": "stderr",
     "output_type": "stream",
     "text": [
      "100%|██████████████████████████████████████████| 16/16 [00:00<00:00, 149.15it/s]\n",
      " 40%|█████████████████▌                          | 8/20 [00:02<00:03,  3.60it/s]"
     ]
    },
    {
     "name": "stdout",
     "output_type": "stream",
     "text": [
      "Epoch 7:  (best: True)train loss = 0.097 (auc: 0.886 f1: 0.628), validation loss = 0.099 (auc: 0.888 f1: 0.585)\n"
     ]
    },
    {
     "name": "stderr",
     "output_type": "stream",
     "text": [
      "100%|██████████████████████████████████████████| 16/16 [00:00<00:00, 160.36it/s]\n",
      " 45%|███████████████████▊                        | 9/20 [00:02<00:03,  3.65it/s]"
     ]
    },
    {
     "name": "stdout",
     "output_type": "stream",
     "text": [
      "Epoch 8:  (best: False)train loss = 0.097 (auc: 0.887 f1: 0.632), validation loss = 0.099 (auc: 0.887 f1: 0.579)\n"
     ]
    },
    {
     "name": "stderr",
     "output_type": "stream",
     "text": [
      "100%|██████████████████████████████████████████| 16/16 [00:00<00:00, 165.59it/s]\n",
      " 50%|█████████████████████▌                     | 10/20 [00:02<00:02,  3.73it/s]"
     ]
    },
    {
     "name": "stdout",
     "output_type": "stream",
     "text": [
      "Epoch 9:  (best: True)train loss = 0.096 (auc: 0.891 f1: 0.639), validation loss = 0.098 (auc: 0.890 f1: 0.588)\n"
     ]
    },
    {
     "name": "stderr",
     "output_type": "stream",
     "text": [
      "100%|██████████████████████████████████████████| 16/16 [00:00<00:00, 162.69it/s]\n",
      " 55%|███████████████████████▋                   | 11/20 [00:02<00:02,  3.78it/s]"
     ]
    },
    {
     "name": "stdout",
     "output_type": "stream",
     "text": [
      "Epoch 10:  (best: True)train loss = 0.096 (auc: 0.895 f1: 0.644), validation loss = 0.098 (auc: 0.894 f1: 0.604)\n"
     ]
    },
    {
     "name": "stderr",
     "output_type": "stream",
     "text": [
      "100%|██████████████████████████████████████████| 16/16 [00:00<00:00, 138.53it/s]\n",
      " 60%|█████████████████████████▊                 | 12/20 [00:03<00:02,  3.64it/s]"
     ]
    },
    {
     "name": "stdout",
     "output_type": "stream",
     "text": [
      "Epoch 11:  (best: True)train loss = 0.096 (auc: 0.896 f1: 0.653), validation loss = 0.098 (auc: 0.892 f1: 0.614)\n"
     ]
    },
    {
     "name": "stderr",
     "output_type": "stream",
     "text": [
      "100%|██████████████████████████████████████████| 16/16 [00:00<00:00, 155.82it/s]\n",
      " 65%|███████████████████████████▉               | 13/20 [00:03<00:01,  3.66it/s]"
     ]
    },
    {
     "name": "stdout",
     "output_type": "stream",
     "text": [
      "Epoch 12:  (best: False)train loss = 0.096 (auc: 0.897 f1: 0.649), validation loss = 0.098 (auc: 0.893 f1: 0.606)\n"
     ]
    },
    {
     "name": "stderr",
     "output_type": "stream",
     "text": [
      "100%|██████████████████████████████████████████| 16/16 [00:00<00:00, 163.43it/s]\n",
      " 70%|██████████████████████████████             | 14/20 [00:03<00:01,  3.69it/s]"
     ]
    },
    {
     "name": "stdout",
     "output_type": "stream",
     "text": [
      "Epoch 13:  (best: False)train loss = 0.096 (auc: 0.900 f1: 0.653), validation loss = 0.098 (auc: 0.894 f1: 0.609)\n"
     ]
    },
    {
     "name": "stderr",
     "output_type": "stream",
     "text": [
      "100%|██████████████████████████████████████████| 16/16 [00:00<00:00, 166.80it/s]\n",
      " 75%|████████████████████████████████▎          | 15/20 [00:04<00:01,  3.74it/s]"
     ]
    },
    {
     "name": "stdout",
     "output_type": "stream",
     "text": [
      "Epoch 14:  (best: True)train loss = 0.095 (auc: 0.900 f1: 0.684), validation loss = 0.098 (auc: 0.895 f1: 0.633)\n"
     ]
    },
    {
     "name": "stderr",
     "output_type": "stream",
     "text": [
      "100%|██████████████████████████████████████████| 16/16 [00:00<00:00, 163.32it/s]\n",
      " 80%|██████████████████████████████████▍        | 16/20 [00:04<00:01,  3.77it/s]"
     ]
    },
    {
     "name": "stdout",
     "output_type": "stream",
     "text": [
      "Epoch 15:  (best: False)train loss = 0.095 (auc: 0.902 f1: 0.680), validation loss = 0.098 (auc: 0.895 f1: 0.622)\n"
     ]
    },
    {
     "name": "stderr",
     "output_type": "stream",
     "text": [
      "100%|██████████████████████████████████████████| 16/16 [00:00<00:00, 161.97it/s]\n",
      " 85%|████████████████████████████████████▌      | 17/20 [00:04<00:00,  3.79it/s]"
     ]
    },
    {
     "name": "stdout",
     "output_type": "stream",
     "text": [
      "Epoch 16:  (best: False)train loss = 0.095 (auc: 0.904 f1: 0.684), validation loss = 0.098 (auc: 0.898 f1: 0.621)\n"
     ]
    },
    {
     "name": "stderr",
     "output_type": "stream",
     "text": [
      "100%|██████████████████████████████████████████| 16/16 [00:00<00:00, 165.66it/s]\n",
      " 90%|██████████████████████████████████████▋    | 18/20 [00:04<00:00,  3.78it/s]"
     ]
    },
    {
     "name": "stdout",
     "output_type": "stream",
     "text": [
      "Epoch 17:  (best: False)train loss = 0.095 (auc: 0.905 f1: 0.684), validation loss = 0.098 (auc: 0.898 f1: 0.616)\n"
     ]
    },
    {
     "name": "stderr",
     "output_type": "stream",
     "text": [
      "100%|██████████████████████████████████████████| 16/16 [00:00<00:00, 164.87it/s]\n",
      " 95%|████████████████████████████████████████▊  | 19/20 [00:05<00:00,  3.81it/s]"
     ]
    },
    {
     "name": "stdout",
     "output_type": "stream",
     "text": [
      "Epoch 18:  (best: False)train loss = 0.095 (auc: 0.907 f1: 0.697), validation loss = 0.098 (auc: 0.896 f1: 0.621)\n"
     ]
    },
    {
     "name": "stderr",
     "output_type": "stream",
     "text": [
      "100%|██████████████████████████████████████████| 16/16 [00:00<00:00, 163.68it/s]\n",
      "100%|███████████████████████████████████████████| 20/20 [00:05<00:00,  3.71it/s]\n"
     ]
    },
    {
     "name": "stdout",
     "output_type": "stream",
     "text": [
      "Epoch 19:  (best: False)train loss = 0.094 (auc: 0.906 f1: 0.691), validation loss = 0.098 (auc: 0.897 f1: 0.624)\n"
     ]
    },
    {
     "name": "stderr",
     "output_type": "stream",
     "text": [
      "100%|██████████████████████████████████████████| 16/16 [00:00<00:00, 163.98it/s]\n",
      "  5%|██▏                                         | 1/20 [00:00<00:04,  3.88it/s]"
     ]
    },
    {
     "name": "stdout",
     "output_type": "stream",
     "text": [
      "Epoch 0:  (best: True)train loss = 0.114 (auc: 0.842 f1: 0.175), validation loss = 0.115 (auc: 0.832 f1: 0.168)\n"
     ]
    },
    {
     "name": "stderr",
     "output_type": "stream",
     "text": [
      "100%|██████████████████████████████████████████| 16/16 [00:00<00:00, 167.44it/s]\n",
      " 10%|████▍                                       | 2/20 [00:00<00:04,  3.90it/s]"
     ]
    },
    {
     "name": "stdout",
     "output_type": "stream",
     "text": [
      "Epoch 1:  (best: True)train loss = 0.108 (auc: 0.846 f1: 0.325), validation loss = 0.108 (auc: 0.858 f1: 0.295)\n"
     ]
    },
    {
     "name": "stderr",
     "output_type": "stream",
     "text": [
      "100%|██████████████████████████████████████████| 16/16 [00:00<00:00, 166.56it/s]\n",
      " 15%|██████▌                                     | 3/20 [00:00<00:04,  3.91it/s]"
     ]
    },
    {
     "name": "stdout",
     "output_type": "stream",
     "text": [
      "Epoch 2:  (best: True)train loss = 0.104 (auc: 0.868 f1: 0.417), validation loss = 0.104 (auc: 0.880 f1: 0.398)\n"
     ]
    },
    {
     "name": "stderr",
     "output_type": "stream",
     "text": [
      "100%|██████████████████████████████████████████| 16/16 [00:00<00:00, 171.15it/s]\n",
      " 20%|████████▊                                   | 4/20 [00:01<00:04,  3.94it/s]"
     ]
    },
    {
     "name": "stdout",
     "output_type": "stream",
     "text": [
      "Epoch 3:  (best: True)train loss = 0.101 (auc: 0.871 f1: 0.482), validation loss = 0.102 (auc: 0.878 f1: 0.449)\n"
     ]
    },
    {
     "name": "stderr",
     "output_type": "stream",
     "text": [
      "100%|██████████████████████████████████████████| 16/16 [00:00<00:00, 167.11it/s]\n",
      " 25%|███████████                                 | 5/20 [00:01<00:03,  3.92it/s]"
     ]
    },
    {
     "name": "stdout",
     "output_type": "stream",
     "text": [
      "Epoch 4:  (best: True)train loss = 0.100 (auc: 0.873 f1: 0.500), validation loss = 0.101 (auc: 0.878 f1: 0.463)\n"
     ]
    },
    {
     "name": "stderr",
     "output_type": "stream",
     "text": [
      "100%|██████████████████████████████████████████| 16/16 [00:00<00:00, 169.10it/s]\n",
      " 30%|█████████████▏                              | 6/20 [00:01<00:03,  3.94it/s]"
     ]
    },
    {
     "name": "stdout",
     "output_type": "stream",
     "text": [
      "Epoch 5:  (best: False)train loss = 0.100 (auc: 0.874 f1: 0.507), validation loss = 0.101 (auc: 0.878 f1: 0.461)\n"
     ]
    },
    {
     "name": "stderr",
     "output_type": "stream",
     "text": [
      "100%|██████████████████████████████████████████| 16/16 [00:00<00:00, 173.49it/s]\n",
      " 35%|███████████████▍                            | 7/20 [00:01<00:03,  3.95it/s]"
     ]
    },
    {
     "name": "stdout",
     "output_type": "stream",
     "text": [
      "Epoch 6:  (best: True)train loss = 0.099 (auc: 0.875 f1: 0.508), validation loss = 0.101 (auc: 0.878 f1: 0.472)\n"
     ]
    },
    {
     "name": "stderr",
     "output_type": "stream",
     "text": [
      "100%|██████████████████████████████████████████| 16/16 [00:00<00:00, 168.52it/s]\n",
      " 40%|█████████████████▌                          | 8/20 [00:02<00:03,  3.94it/s]"
     ]
    },
    {
     "name": "stdout",
     "output_type": "stream",
     "text": [
      "Epoch 7:  (best: True)train loss = 0.098 (auc: 0.880 f1: 0.552), validation loss = 0.100 (auc: 0.886 f1: 0.520)\n"
     ]
    },
    {
     "name": "stderr",
     "output_type": "stream",
     "text": [
      "100%|██████████████████████████████████████████| 16/16 [00:00<00:00, 165.76it/s]\n",
      " 45%|███████████████████▊                        | 9/20 [00:02<00:02,  3.91it/s]"
     ]
    },
    {
     "name": "stdout",
     "output_type": "stream",
     "text": [
      "Epoch 8:  (best: False)train loss = 0.098 (auc: 0.882 f1: 0.547), validation loss = 0.100 (auc: 0.887 f1: 0.518)\n"
     ]
    },
    {
     "name": "stderr",
     "output_type": "stream",
     "text": [
      "100%|██████████████████████████████████████████| 16/16 [00:00<00:00, 166.65it/s]\n",
      " 50%|█████████████████████▌                     | 10/20 [00:02<00:02,  3.87it/s]"
     ]
    },
    {
     "name": "stdout",
     "output_type": "stream",
     "text": [
      "Epoch 9:  (best: False)train loss = 0.098 (auc: 0.883 f1: 0.545), validation loss = 0.100 (auc: 0.887 f1: 0.513)\n"
     ]
    },
    {
     "name": "stderr",
     "output_type": "stream",
     "text": [
      "100%|██████████████████████████████████████████| 16/16 [00:00<00:00, 169.15it/s]\n",
      " 55%|███████████████████████▋                   | 11/20 [00:02<00:02,  3.88it/s]"
     ]
    },
    {
     "name": "stdout",
     "output_type": "stream",
     "text": [
      "Epoch 10:  (best: True)train loss = 0.098 (auc: 0.885 f1: 0.583), validation loss = 0.099 (auc: 0.890 f1: 0.549)\n"
     ]
    },
    {
     "name": "stderr",
     "output_type": "stream",
     "text": [
      "100%|██████████████████████████████████████████| 16/16 [00:00<00:00, 165.56it/s]\n",
      " 60%|█████████████████████████▊                 | 12/20 [00:03<00:02,  3.88it/s]"
     ]
    },
    {
     "name": "stdout",
     "output_type": "stream",
     "text": [
      "Epoch 11:  (best: False)train loss = 0.098 (auc: 0.886 f1: 0.588), validation loss = 0.099 (auc: 0.889 f1: 0.549)\n"
     ]
    },
    {
     "name": "stderr",
     "output_type": "stream",
     "text": [
      "100%|██████████████████████████████████████████| 16/16 [00:00<00:00, 165.22it/s]\n",
      " 65%|███████████████████████████▉               | 13/20 [00:03<00:01,  3.89it/s]"
     ]
    },
    {
     "name": "stdout",
     "output_type": "stream",
     "text": [
      "Epoch 12:  (best: False)train loss = 0.097 (auc: 0.887 f1: 0.593), validation loss = 0.099 (auc: 0.887 f1: 0.544)\n"
     ]
    },
    {
     "name": "stderr",
     "output_type": "stream",
     "text": [
      "100%|██████████████████████████████████████████| 16/16 [00:00<00:00, 157.73it/s]\n",
      " 70%|██████████████████████████████             | 14/20 [00:03<00:01,  3.85it/s]"
     ]
    },
    {
     "name": "stdout",
     "output_type": "stream",
     "text": [
      "Epoch 13:  (best: True)train loss = 0.096 (auc: 0.889 f1: 0.633), validation loss = 0.099 (auc: 0.885 f1: 0.590)\n"
     ]
    },
    {
     "name": "stderr",
     "output_type": "stream",
     "text": [
      "100%|██████████████████████████████████████████| 16/16 [00:00<00:00, 164.42it/s]\n",
      " 75%|████████████████████████████████▎          | 15/20 [00:03<00:01,  3.87it/s]"
     ]
    },
    {
     "name": "stdout",
     "output_type": "stream",
     "text": [
      "Epoch 14:  (best: False)train loss = 0.097 (auc: 0.891 f1: 0.619), validation loss = 0.099 (auc: 0.887 f1: 0.569)\n"
     ]
    },
    {
     "name": "stderr",
     "output_type": "stream",
     "text": [
      "100%|██████████████████████████████████████████| 16/16 [00:00<00:00, 161.53it/s]\n",
      " 80%|██████████████████████████████████▍        | 16/20 [00:04<00:01,  3.87it/s]"
     ]
    },
    {
     "name": "stdout",
     "output_type": "stream",
     "text": [
      "Epoch 15:  (best: False)train loss = 0.097 (auc: 0.892 f1: 0.622), validation loss = 0.099 (auc: 0.887 f1: 0.569)\n"
     ]
    },
    {
     "name": "stderr",
     "output_type": "stream",
     "text": [
      "100%|██████████████████████████████████████████| 16/16 [00:00<00:00, 171.75it/s]\n",
      " 85%|████████████████████████████████████▌      | 17/20 [00:04<00:00,  3.91it/s]"
     ]
    },
    {
     "name": "stdout",
     "output_type": "stream",
     "text": [
      "Epoch 16:  (best: False)train loss = 0.096 (auc: 0.893 f1: 0.628), validation loss = 0.099 (auc: 0.885 f1: 0.566)\n"
     ]
    },
    {
     "name": "stderr",
     "output_type": "stream",
     "text": [
      "100%|██████████████████████████████████████████| 16/16 [00:00<00:00, 172.96it/s]\n",
      " 90%|██████████████████████████████████████▋    | 18/20 [00:04<00:00,  3.89it/s]"
     ]
    },
    {
     "name": "stdout",
     "output_type": "stream",
     "text": [
      "Epoch 17:  (best: False)train loss = 0.096 (auc: 0.893 f1: 0.622), validation loss = 0.099 (auc: 0.885 f1: 0.566)\n"
     ]
    },
    {
     "name": "stderr",
     "output_type": "stream",
     "text": [
      "100%|██████████████████████████████████████████| 16/16 [00:00<00:00, 171.52it/s]\n",
      " 95%|████████████████████████████████████████▊  | 19/20 [00:04<00:00,  3.88it/s]"
     ]
    },
    {
     "name": "stdout",
     "output_type": "stream",
     "text": [
      "Epoch 18:  (best: False)train loss = 0.097 (auc: 0.894 f1: 0.624), validation loss = 0.099 (auc: 0.885 f1: 0.565)\n"
     ]
    },
    {
     "name": "stderr",
     "output_type": "stream",
     "text": [
      "100%|██████████████████████████████████████████| 16/16 [00:00<00:00, 167.68it/s]\n",
      "100%|███████████████████████████████████████████| 20/20 [00:05<00:00,  3.90it/s]\n"
     ]
    },
    {
     "name": "stdout",
     "output_type": "stream",
     "text": [
      "Epoch 19:  (best: True)train loss = 0.096 (auc: 0.897 f1: 0.646), validation loss = 0.098 (auc: 0.884 f1: 0.594)\n"
     ]
    },
    {
     "name": "stderr",
     "output_type": "stream",
     "text": [
      "100%|██████████████████████████████████████████| 16/16 [00:00<00:00, 168.82it/s]\n",
      "  5%|██▏                                         | 1/20 [00:00<00:04,  4.02it/s]"
     ]
    },
    {
     "name": "stdout",
     "output_type": "stream",
     "text": [
      "Epoch 0:  (best: True)train loss = 0.114 (auc: 0.861 f1: 0.092), validation loss = 0.115 (auc: 0.843 f1: 0.097)\n"
     ]
    },
    {
     "name": "stderr",
     "output_type": "stream",
     "text": [
      "100%|██████████████████████████████████████████| 16/16 [00:00<00:00, 167.48it/s]\n",
      " 10%|████▍                                       | 2/20 [00:00<00:04,  3.99it/s]"
     ]
    },
    {
     "name": "stdout",
     "output_type": "stream",
     "text": [
      "Epoch 1:  (best: True)train loss = 0.109 (auc: 0.818 f1: 0.315), validation loss = 0.109 (auc: 0.813 f1: 0.275)\n"
     ]
    },
    {
     "name": "stderr",
     "output_type": "stream",
     "text": [
      "100%|██████████████████████████████████████████| 16/16 [00:00<00:00, 171.63it/s]\n",
      " 15%|██████▌                                     | 3/20 [00:00<00:04,  3.99it/s]"
     ]
    },
    {
     "name": "stdout",
     "output_type": "stream",
     "text": [
      "Epoch 2:  (best: True)train loss = 0.102 (auc: 0.864 f1: 0.463), validation loss = 0.103 (auc: 0.862 f1: 0.446)\n"
     ]
    },
    {
     "name": "stderr",
     "output_type": "stream",
     "text": [
      "100%|██████████████████████████████████████████| 16/16 [00:00<00:00, 165.84it/s]\n",
      " 20%|████████▊                                   | 4/20 [00:01<00:04,  3.95it/s]"
     ]
    },
    {
     "name": "stdout",
     "output_type": "stream",
     "text": [
      "Epoch 3:  (best: True)train loss = 0.100 (auc: 0.869 f1: 0.503), validation loss = 0.101 (auc: 0.870 f1: 0.495)\n"
     ]
    },
    {
     "name": "stderr",
     "output_type": "stream",
     "text": [
      "100%|██████████████████████████████████████████| 16/16 [00:00<00:00, 172.56it/s]\n",
      " 25%|███████████                                 | 5/20 [00:01<00:03,  3.95it/s]"
     ]
    },
    {
     "name": "stdout",
     "output_type": "stream",
     "text": [
      "Epoch 4:  (best: True)train loss = 0.099 (auc: 0.874 f1: 0.545), validation loss = 0.100 (auc: 0.871 f1: 0.512)\n"
     ]
    },
    {
     "name": "stderr",
     "output_type": "stream",
     "text": [
      "100%|██████████████████████████████████████████| 16/16 [00:00<00:00, 173.09it/s]\n",
      " 30%|█████████████▏                              | 6/20 [00:01<00:03,  3.97it/s]"
     ]
    },
    {
     "name": "stdout",
     "output_type": "stream",
     "text": [
      "Epoch 5:  (best: True)train loss = 0.099 (auc: 0.882 f1: 0.558), validation loss = 0.100 (auc: 0.878 f1: 0.513)\n"
     ]
    },
    {
     "name": "stderr",
     "output_type": "stream",
     "text": [
      "100%|██████████████████████████████████████████| 16/16 [00:00<00:00, 173.33it/s]\n",
      " 35%|███████████████▍                            | 7/20 [00:01<00:03,  3.98it/s]"
     ]
    },
    {
     "name": "stdout",
     "output_type": "stream",
     "text": [
      "Epoch 6:  (best: True)train loss = 0.098 (auc: 0.885 f1: 0.580), validation loss = 0.099 (auc: 0.881 f1: 0.548)\n"
     ]
    },
    {
     "name": "stderr",
     "output_type": "stream",
     "text": [
      "100%|██████████████████████████████████████████| 16/16 [00:00<00:00, 173.71it/s]\n",
      " 40%|█████████████████▌                          | 8/20 [00:02<00:03,  3.96it/s]"
     ]
    },
    {
     "name": "stdout",
     "output_type": "stream",
     "text": [
      "Epoch 7:  (best: True)train loss = 0.097 (auc: 0.890 f1: 0.600), validation loss = 0.099 (auc: 0.888 f1: 0.570)\n"
     ]
    },
    {
     "name": "stderr",
     "output_type": "stream",
     "text": [
      "100%|██████████████████████████████████████████| 16/16 [00:00<00:00, 169.59it/s]\n",
      " 45%|███████████████████▊                        | 9/20 [00:02<00:02,  3.95it/s]"
     ]
    },
    {
     "name": "stdout",
     "output_type": "stream",
     "text": [
      "Epoch 8:  (best: True)train loss = 0.097 (auc: 0.897 f1: 0.602), validation loss = 0.099 (auc: 0.895 f1: 0.572)\n"
     ]
    },
    {
     "name": "stderr",
     "output_type": "stream",
     "text": [
      "100%|██████████████████████████████████████████| 16/16 [00:00<00:00, 163.70it/s]\n",
      " 50%|█████████████████████▌                     | 10/20 [00:02<00:02,  3.92it/s]"
     ]
    },
    {
     "name": "stdout",
     "output_type": "stream",
     "text": [
      "Epoch 9:  (best: False)train loss = 0.097 (auc: 0.898 f1: 0.606), validation loss = 0.099 (auc: 0.894 f1: 0.567)\n"
     ]
    },
    {
     "name": "stderr",
     "output_type": "stream",
     "text": [
      "100%|██████████████████████████████████████████| 16/16 [00:00<00:00, 170.94it/s]\n",
      " 55%|███████████████████████▋                   | 11/20 [00:02<00:02,  3.94it/s]"
     ]
    },
    {
     "name": "stdout",
     "output_type": "stream",
     "text": [
      "Epoch 10:  (best: True)train loss = 0.096 (auc: 0.902 f1: 0.637), validation loss = 0.099 (auc: 0.894 f1: 0.589)\n"
     ]
    },
    {
     "name": "stderr",
     "output_type": "stream",
     "text": [
      "100%|██████████████████████████████████████████| 16/16 [00:00<00:00, 169.02it/s]\n",
      " 60%|█████████████████████████▊                 | 12/20 [00:03<00:02,  3.93it/s]"
     ]
    },
    {
     "name": "stdout",
     "output_type": "stream",
     "text": [
      "Epoch 11:  (best: True)train loss = 0.096 (auc: 0.903 f1: 0.657), validation loss = 0.098 (auc: 0.892 f1: 0.612)\n"
     ]
    },
    {
     "name": "stderr",
     "output_type": "stream",
     "text": [
      "100%|██████████████████████████████████████████| 16/16 [00:00<00:00, 172.83it/s]\n",
      " 65%|███████████████████████████▉               | 13/20 [00:03<00:01,  3.93it/s]"
     ]
    },
    {
     "name": "stdout",
     "output_type": "stream",
     "text": [
      "Epoch 12:  (best: False)train loss = 0.095 (auc: 0.904 f1: 0.657), validation loss = 0.098 (auc: 0.894 f1: 0.610)\n"
     ]
    },
    {
     "name": "stderr",
     "output_type": "stream",
     "text": [
      "100%|██████████████████████████████████████████| 16/16 [00:00<00:00, 164.04it/s]\n",
      " 70%|██████████████████████████████             | 14/20 [00:03<00:01,  3.89it/s]"
     ]
    },
    {
     "name": "stdout",
     "output_type": "stream",
     "text": [
      "Epoch 13:  (best: False)train loss = 0.096 (auc: 0.904 f1: 0.654), validation loss = 0.098 (auc: 0.893 f1: 0.610)\n"
     ]
    },
    {
     "name": "stderr",
     "output_type": "stream",
     "text": [
      "100%|██████████████████████████████████████████| 16/16 [00:00<00:00, 167.40it/s]\n",
      " 75%|████████████████████████████████▎          | 15/20 [00:03<00:01,  3.90it/s]"
     ]
    },
    {
     "name": "stdout",
     "output_type": "stream",
     "text": [
      "Epoch 14:  (best: False)train loss = 0.095 (auc: 0.905 f1: 0.656), validation loss = 0.098 (auc: 0.895 f1: 0.600)\n"
     ]
    },
    {
     "name": "stderr",
     "output_type": "stream",
     "text": [
      "100%|██████████████████████████████████████████| 16/16 [00:00<00:00, 168.28it/s]\n",
      " 80%|██████████████████████████████████▍        | 16/20 [00:04<00:01,  3.89it/s]"
     ]
    },
    {
     "name": "stdout",
     "output_type": "stream",
     "text": [
      "Epoch 15:  (best: False)train loss = 0.096 (auc: 0.909 f1: 0.657), validation loss = 0.098 (auc: 0.894 f1: 0.606)\n"
     ]
    },
    {
     "name": "stderr",
     "output_type": "stream",
     "text": [
      "100%|██████████████████████████████████████████| 16/16 [00:00<00:00, 168.08it/s]\n",
      " 85%|████████████████████████████████████▌      | 17/20 [00:04<00:00,  3.89it/s]"
     ]
    },
    {
     "name": "stdout",
     "output_type": "stream",
     "text": [
      "Epoch 16:  (best: False)train loss = 0.096 (auc: 0.907 f1: 0.653), validation loss = 0.098 (auc: 0.896 f1: 0.591)\n"
     ]
    },
    {
     "name": "stderr",
     "output_type": "stream",
     "text": [
      "100%|██████████████████████████████████████████| 16/16 [00:00<00:00, 163.43it/s]\n",
      " 90%|██████████████████████████████████████▋    | 18/20 [00:04<00:00,  3.88it/s]"
     ]
    },
    {
     "name": "stdout",
     "output_type": "stream",
     "text": [
      "Epoch 17:  (best: False)train loss = 0.095 (auc: 0.908 f1: 0.654), validation loss = 0.098 (auc: 0.895 f1: 0.599)\n"
     ]
    },
    {
     "name": "stderr",
     "output_type": "stream",
     "text": [
      "100%|██████████████████████████████████████████| 16/16 [00:00<00:00, 170.31it/s]\n",
      " 95%|████████████████████████████████████████▊  | 19/20 [00:04<00:00,  3.90it/s]"
     ]
    },
    {
     "name": "stdout",
     "output_type": "stream",
     "text": [
      "Epoch 18:  (best: False)train loss = 0.096 (auc: 0.909 f1: 0.654), validation loss = 0.098 (auc: 0.896 f1: 0.604)\n"
     ]
    },
    {
     "name": "stderr",
     "output_type": "stream",
     "text": [
      "100%|██████████████████████████████████████████| 16/16 [00:00<00:00, 169.66it/s]\n",
      "100%|███████████████████████████████████████████| 20/20 [00:05<00:00,  3.92it/s]\n"
     ]
    },
    {
     "name": "stdout",
     "output_type": "stream",
     "text": [
      "Epoch 19:  (best: False)train loss = 0.095 (auc: 0.909 f1: 0.652), validation loss = 0.098 (auc: 0.897 f1: 0.602)\n"
     ]
    },
    {
     "name": "stderr",
     "output_type": "stream",
     "text": [
      "100%|██████████████████████████████████████████| 16/16 [00:00<00:00, 157.01it/s]\n",
      "  5%|██▏                                         | 1/20 [00:00<00:05,  3.63it/s]"
     ]
    },
    {
     "name": "stdout",
     "output_type": "stream",
     "text": [
      "Epoch 0:  (best: True)train loss = 0.115 (auc: 0.895 f1: 0.225), validation loss = 0.115 (auc: 0.877 f1: 0.170)\n"
     ]
    },
    {
     "name": "stderr",
     "output_type": "stream",
     "text": [
      "100%|██████████████████████████████████████████| 16/16 [00:00<00:00, 147.64it/s]\n",
      " 10%|████▍                                       | 2/20 [00:00<00:04,  3.68it/s]"
     ]
    },
    {
     "name": "stdout",
     "output_type": "stream",
     "text": [
      "Epoch 1:  (best: True)train loss = 0.108 (auc: 0.855 f1: 0.302), validation loss = 0.109 (auc: 0.860 f1: 0.281)\n"
     ]
    },
    {
     "name": "stderr",
     "output_type": "stream",
     "text": [
      "100%|██████████████████████████████████████████| 16/16 [00:00<00:00, 171.77it/s]\n",
      " 15%|██████▌                                     | 3/20 [00:00<00:04,  3.81it/s]"
     ]
    },
    {
     "name": "stdout",
     "output_type": "stream",
     "text": [
      "Epoch 2:  (best: True)train loss = 0.102 (auc: 0.878 f1: 0.437), validation loss = 0.103 (auc: 0.879 f1: 0.417)\n"
     ]
    },
    {
     "name": "stderr",
     "output_type": "stream",
     "text": [
      "100%|██████████████████████████████████████████| 16/16 [00:00<00:00, 152.27it/s]\n",
      " 20%|████████▊                                   | 4/20 [00:01<00:04,  3.77it/s]"
     ]
    },
    {
     "name": "stdout",
     "output_type": "stream",
     "text": [
      "Epoch 3:  (best: True)train loss = 0.100 (auc: 0.881 f1: 0.534), validation loss = 0.101 (auc: 0.882 f1: 0.510)\n"
     ]
    },
    {
     "name": "stderr",
     "output_type": "stream",
     "text": [
      "100%|██████████████████████████████████████████| 16/16 [00:00<00:00, 160.29it/s]\n",
      " 25%|███████████                                 | 5/20 [00:01<00:03,  3.78it/s]"
     ]
    },
    {
     "name": "stdout",
     "output_type": "stream",
     "text": [
      "Epoch 4:  (best: True)train loss = 0.099 (auc: 0.884 f1: 0.541), validation loss = 0.100 (auc: 0.883 f1: 0.514)\n"
     ]
    },
    {
     "name": "stderr",
     "output_type": "stream",
     "text": [
      "100%|██████████████████████████████████████████| 16/16 [00:00<00:00, 167.46it/s]\n",
      " 30%|█████████████▏                              | 6/20 [00:01<00:03,  3.77it/s]"
     ]
    },
    {
     "name": "stdout",
     "output_type": "stream",
     "text": [
      "Epoch 5:  (best: False)train loss = 0.098 (auc: 0.883 f1: 0.548), validation loss = 0.100 (auc: 0.882 f1: 0.508)\n"
     ]
    },
    {
     "name": "stderr",
     "output_type": "stream",
     "text": [
      "100%|██████████████████████████████████████████| 16/16 [00:00<00:00, 145.95it/s]\n",
      " 35%|███████████████▍                            | 7/20 [00:01<00:03,  3.70it/s]"
     ]
    },
    {
     "name": "stdout",
     "output_type": "stream",
     "text": [
      "Epoch 6:  (best: True)train loss = 0.098 (auc: 0.890 f1: 0.561), validation loss = 0.100 (auc: 0.888 f1: 0.522)\n"
     ]
    },
    {
     "name": "stderr",
     "output_type": "stream",
     "text": [
      "100%|██████████████████████████████████████████| 16/16 [00:00<00:00, 167.47it/s]\n",
      " 40%|█████████████████▌                          | 8/20 [00:02<00:03,  3.67it/s]"
     ]
    },
    {
     "name": "stdout",
     "output_type": "stream",
     "text": [
      "Epoch 7:  (best: True)train loss = 0.098 (auc: 0.893 f1: 0.602), validation loss = 0.099 (auc: 0.889 f1: 0.552)\n"
     ]
    },
    {
     "name": "stderr",
     "output_type": "stream",
     "text": [
      "100%|██████████████████████████████████████████| 16/16 [00:00<00:00, 155.20it/s]\n",
      " 45%|███████████████████▊                        | 9/20 [00:02<00:02,  3.68it/s]"
     ]
    },
    {
     "name": "stdout",
     "output_type": "stream",
     "text": [
      "Epoch 8:  (best: True)train loss = 0.097 (auc: 0.898 f1: 0.626), validation loss = 0.099 (auc: 0.896 f1: 0.580)\n"
     ]
    },
    {
     "name": "stderr",
     "output_type": "stream",
     "text": [
      "100%|██████████████████████████████████████████| 16/16 [00:00<00:00, 168.02it/s]\n",
      " 50%|█████████████████████▌                     | 10/20 [00:02<00:02,  3.75it/s]"
     ]
    },
    {
     "name": "stdout",
     "output_type": "stream",
     "text": [
      "Epoch 9:  (best: True)train loss = 0.096 (auc: 0.901 f1: 0.637), validation loss = 0.099 (auc: 0.896 f1: 0.586)\n"
     ]
    },
    {
     "name": "stderr",
     "output_type": "stream",
     "text": [
      "100%|██████████████████████████████████████████| 16/16 [00:00<00:00, 150.28it/s]\n",
      " 55%|███████████████████████▋                   | 11/20 [00:02<00:02,  3.69it/s]"
     ]
    },
    {
     "name": "stdout",
     "output_type": "stream",
     "text": [
      "Epoch 10:  (best: False)train loss = 0.096 (auc: 0.902 f1: 0.634), validation loss = 0.098 (auc: 0.892 f1: 0.582)\n"
     ]
    },
    {
     "name": "stderr",
     "output_type": "stream",
     "text": [
      "100%|██████████████████████████████████████████| 16/16 [00:00<00:00, 165.26it/s]\n",
      " 60%|█████████████████████████▊                 | 12/20 [00:03<00:02,  3.72it/s]"
     ]
    },
    {
     "name": "stdout",
     "output_type": "stream",
     "text": [
      "Epoch 11:  (best: True)train loss = 0.096 (auc: 0.901 f1: 0.643), validation loss = 0.098 (auc: 0.887 f1: 0.591)\n"
     ]
    },
    {
     "name": "stderr",
     "output_type": "stream",
     "text": [
      "100%|██████████████████████████████████████████| 16/16 [00:00<00:00, 157.20it/s]\n",
      " 65%|███████████████████████████▉               | 13/20 [00:03<00:01,  3.72it/s]"
     ]
    },
    {
     "name": "stdout",
     "output_type": "stream",
     "text": [
      "Epoch 12:  (best: False)train loss = 0.096 (auc: 0.902 f1: 0.637), validation loss = 0.098 (auc: 0.889 f1: 0.585)\n"
     ]
    },
    {
     "name": "stderr",
     "output_type": "stream",
     "text": [
      "100%|██████████████████████████████████████████| 16/16 [00:00<00:00, 167.60it/s]\n",
      " 70%|██████████████████████████████             | 14/20 [00:03<00:01,  3.77it/s]"
     ]
    },
    {
     "name": "stdout",
     "output_type": "stream",
     "text": [
      "Epoch 13:  (best: False)train loss = 0.096 (auc: 0.904 f1: 0.640), validation loss = 0.098 (auc: 0.889 f1: 0.588)\n"
     ]
    },
    {
     "name": "stderr",
     "output_type": "stream",
     "text": [
      "100%|██████████████████████████████████████████| 16/16 [00:00<00:00, 145.95it/s]\n",
      " 75%|████████████████████████████████▎          | 15/20 [00:04<00:01,  3.71it/s]"
     ]
    },
    {
     "name": "stdout",
     "output_type": "stream",
     "text": [
      "Epoch 14:  (best: False)train loss = 0.096 (auc: 0.905 f1: 0.637), validation loss = 0.098 (auc: 0.891 f1: 0.585)\n"
     ]
    },
    {
     "name": "stderr",
     "output_type": "stream",
     "text": [
      "100%|██████████████████████████████████████████| 16/16 [00:00<00:00, 156.36it/s]\n",
      " 80%|██████████████████████████████████▍        | 16/20 [00:04<00:01,  3.71it/s]"
     ]
    },
    {
     "name": "stdout",
     "output_type": "stream",
     "text": [
      "Epoch 15:  (best: False)train loss = 0.096 (auc: 0.906 f1: 0.638), validation loss = 0.098 (auc: 0.891 f1: 0.581)\n"
     ]
    },
    {
     "name": "stderr",
     "output_type": "stream",
     "text": [
      "100%|██████████████████████████████████████████| 16/16 [00:00<00:00, 160.23it/s]\n",
      " 85%|████████████████████████████████████▌      | 17/20 [00:04<00:00,  3.70it/s]"
     ]
    },
    {
     "name": "stdout",
     "output_type": "stream",
     "text": [
      "Epoch 16:  (best: True)train loss = 0.095 (auc: 0.907 f1: 0.674), validation loss = 0.098 (auc: 0.892 f1: 0.597)\n"
     ]
    },
    {
     "name": "stderr",
     "output_type": "stream",
     "text": [
      "100%|██████████████████████████████████████████| 16/16 [00:00<00:00, 164.74it/s]\n",
      " 90%|██████████████████████████████████████▋    | 18/20 [00:04<00:00,  3.72it/s]"
     ]
    },
    {
     "name": "stdout",
     "output_type": "stream",
     "text": [
      "Epoch 17:  (best: False)train loss = 0.095 (auc: 0.907 f1: 0.669), validation loss = 0.098 (auc: 0.890 f1: 0.593)\n"
     ]
    },
    {
     "name": "stderr",
     "output_type": "stream",
     "text": [
      "100%|██████████████████████████████████████████| 16/16 [00:00<00:00, 133.91it/s]\n",
      " 95%|████████████████████████████████████████▊  | 19/20 [00:05<00:00,  3.60it/s]"
     ]
    },
    {
     "name": "stdout",
     "output_type": "stream",
     "text": [
      "Epoch 18:  (best: False)train loss = 0.095 (auc: 0.910 f1: 0.671), validation loss = 0.099 (auc: 0.892 f1: 0.589)\n"
     ]
    },
    {
     "name": "stderr",
     "output_type": "stream",
     "text": [
      "100%|██████████████████████████████████████████| 16/16 [00:00<00:00, 155.91it/s]\n",
      "100%|███████████████████████████████████████████| 20/20 [00:05<00:00,  3.67it/s]\n"
     ]
    },
    {
     "name": "stdout",
     "output_type": "stream",
     "text": [
      "Epoch 19:  (best: False)train loss = 0.095 (auc: 0.910 f1: 0.669), validation loss = 0.098 (auc: 0.889 f1: 0.584)\n"
     ]
    },
    {
     "name": "stderr",
     "output_type": "stream",
     "text": [
      "100%|██████████████████████████████████████████| 16/16 [00:00<00:00, 121.12it/s]\n",
      "  5%|██▏                                         | 1/20 [00:00<00:05,  3.32it/s]"
     ]
    },
    {
     "name": "stdout",
     "output_type": "stream",
     "text": [
      "Epoch 0:  (best: True)train loss = 0.114 (auc: 0.839 f1: 0.095), validation loss = 0.114 (auc: 0.824 f1: 0.061)\n"
     ]
    },
    {
     "name": "stderr",
     "output_type": "stream",
     "text": [
      "100%|██████████████████████████████████████████| 16/16 [00:00<00:00, 162.18it/s]\n",
      " 10%|████▍                                       | 2/20 [00:00<00:05,  3.51it/s]"
     ]
    },
    {
     "name": "stdout",
     "output_type": "stream",
     "text": [
      "Epoch 1:  (best: True)train loss = 0.110 (auc: 0.798 f1: 0.235), validation loss = 0.110 (auc: 0.794 f1: 0.199)\n"
     ]
    },
    {
     "name": "stderr",
     "output_type": "stream",
     "text": [
      "100%|██████████████████████████████████████████| 16/16 [00:00<00:00, 151.03it/s]\n",
      " 15%|██████▌                                     | 3/20 [00:00<00:04,  3.52it/s]"
     ]
    },
    {
     "name": "stdout",
     "output_type": "stream",
     "text": [
      "Epoch 2:  (best: True)train loss = 0.106 (auc: 0.837 f1: 0.335), validation loss = 0.106 (auc: 0.848 f1: 0.317)\n"
     ]
    },
    {
     "name": "stderr",
     "output_type": "stream",
     "text": [
      "100%|██████████████████████████████████████████| 16/16 [00:00<00:00, 152.03it/s]\n",
      " 20%|████████▊                                   | 4/20 [00:01<00:04,  3.54it/s]"
     ]
    },
    {
     "name": "stdout",
     "output_type": "stream",
     "text": [
      "Epoch 3:  (best: True)train loss = 0.103 (auc: 0.846 f1: 0.399), validation loss = 0.104 (auc: 0.854 f1: 0.377)\n"
     ]
    },
    {
     "name": "stderr",
     "output_type": "stream",
     "text": [
      "100%|██████████████████████████████████████████| 16/16 [00:00<00:00, 146.16it/s]\n",
      " 25%|███████████                                 | 5/20 [00:01<00:04,  3.53it/s]"
     ]
    },
    {
     "name": "stdout",
     "output_type": "stream",
     "text": [
      "Epoch 4:  (best: True)train loss = 0.101 (auc: 0.856 f1: 0.478), validation loss = 0.103 (auc: 0.866 f1: 0.444)\n"
     ]
    },
    {
     "name": "stderr",
     "output_type": "stream",
     "text": [
      "100%|██████████████████████████████████████████| 16/16 [00:00<00:00, 152.02it/s]\n",
      " 30%|█████████████▏                              | 6/20 [00:01<00:03,  3.52it/s]"
     ]
    },
    {
     "name": "stdout",
     "output_type": "stream",
     "text": [
      "Epoch 5:  (best: True)train loss = 0.099 (auc: 0.880 f1: 0.544), validation loss = 0.101 (auc: 0.884 f1: 0.515)\n"
     ]
    },
    {
     "name": "stderr",
     "output_type": "stream",
     "text": [
      "100%|██████████████████████████████████████████| 16/16 [00:00<00:00, 148.86it/s]\n",
      " 35%|███████████████▍                            | 7/20 [00:01<00:03,  3.56it/s]"
     ]
    },
    {
     "name": "stdout",
     "output_type": "stream",
     "text": [
      "Epoch 6:  (best: False)train loss = 0.098 (auc: 0.880 f1: 0.547), validation loss = 0.100 (auc: 0.884 f1: 0.512)\n"
     ]
    },
    {
     "name": "stderr",
     "output_type": "stream",
     "text": [
      "100%|██████████████████████████████████████████| 16/16 [00:00<00:00, 164.97it/s]\n",
      " 40%|█████████████████▌                          | 8/20 [00:02<00:03,  3.61it/s]"
     ]
    },
    {
     "name": "stdout",
     "output_type": "stream",
     "text": [
      "Epoch 7:  (best: True)train loss = 0.097 (auc: 0.885 f1: 0.595), validation loss = 0.099 (auc: 0.888 f1: 0.553)\n"
     ]
    },
    {
     "name": "stderr",
     "output_type": "stream",
     "text": [
      "100%|██████████████████████████████████████████| 16/16 [00:00<00:00, 149.58it/s]\n",
      " 45%|███████████████████▊                        | 9/20 [00:02<00:03,  3.57it/s]"
     ]
    },
    {
     "name": "stdout",
     "output_type": "stream",
     "text": [
      "Epoch 8:  (best: True)train loss = 0.097 (auc: 0.897 f1: 0.610), validation loss = 0.099 (auc: 0.896 f1: 0.568)\n"
     ]
    },
    {
     "name": "stderr",
     "output_type": "stream",
     "text": [
      "100%|██████████████████████████████████████████| 16/16 [00:00<00:00, 139.82it/s]\n",
      " 50%|█████████████████████▌                     | 10/20 [00:02<00:02,  3.56it/s]"
     ]
    },
    {
     "name": "stdout",
     "output_type": "stream",
     "text": [
      "Epoch 9:  (best: True)train loss = 0.096 (auc: 0.900 f1: 0.637), validation loss = 0.099 (auc: 0.899 f1: 0.588)\n"
     ]
    },
    {
     "name": "stderr",
     "output_type": "stream",
     "text": [
      "100%|██████████████████████████████████████████| 16/16 [00:00<00:00, 158.56it/s]\n",
      " 55%|███████████████████████▋                   | 11/20 [00:03<00:02,  3.63it/s]"
     ]
    },
    {
     "name": "stdout",
     "output_type": "stream",
     "text": [
      "Epoch 10:  (best: True)train loss = 0.096 (auc: 0.904 f1: 0.636), validation loss = 0.098 (auc: 0.902 f1: 0.595)\n"
     ]
    },
    {
     "name": "stderr",
     "output_type": "stream",
     "text": [
      "100%|██████████████████████████████████████████| 16/16 [00:00<00:00, 157.30it/s]\n",
      " 60%|█████████████████████████▊                 | 12/20 [00:03<00:02,  3.66it/s]"
     ]
    },
    {
     "name": "stdout",
     "output_type": "stream",
     "text": [
      "Epoch 11:  (best: True)train loss = 0.096 (auc: 0.902 f1: 0.652), validation loss = 0.098 (auc: 0.898 f1: 0.601)\n"
     ]
    },
    {
     "name": "stderr",
     "output_type": "stream",
     "text": [
      "100%|██████████████████████████████████████████| 16/16 [00:00<00:00, 156.21it/s]\n",
      " 65%|███████████████████████████▉               | 13/20 [00:03<00:01,  3.71it/s]"
     ]
    },
    {
     "name": "stdout",
     "output_type": "stream",
     "text": [
      "Epoch 12:  (best: False)train loss = 0.096 (auc: 0.905 f1: 0.653), validation loss = 0.098 (auc: 0.903 f1: 0.600)\n"
     ]
    },
    {
     "name": "stderr",
     "output_type": "stream",
     "text": [
      "100%|██████████████████████████████████████████| 16/16 [00:00<00:00, 169.78it/s]\n",
      " 70%|██████████████████████████████             | 14/20 [00:03<00:01,  3.76it/s]"
     ]
    },
    {
     "name": "stdout",
     "output_type": "stream",
     "text": [
      "Epoch 13:  (best: True)train loss = 0.096 (auc: 0.909 f1: 0.655), validation loss = 0.098 (auc: 0.904 f1: 0.614)\n"
     ]
    },
    {
     "name": "stderr",
     "output_type": "stream",
     "text": [
      "100%|██████████████████████████████████████████| 16/16 [00:00<00:00, 166.39it/s]\n",
      " 75%|████████████████████████████████▎          | 15/20 [00:04<00:01,  3.74it/s]"
     ]
    },
    {
     "name": "stdout",
     "output_type": "stream",
     "text": [
      "Epoch 14:  (best: False)train loss = 0.096 (auc: 0.911 f1: 0.653), validation loss = 0.098 (auc: 0.904 f1: 0.605)\n"
     ]
    },
    {
     "name": "stderr",
     "output_type": "stream",
     "text": [
      "100%|██████████████████████████████████████████| 16/16 [00:00<00:00, 157.06it/s]\n",
      " 80%|██████████████████████████████████▍        | 16/20 [00:04<00:01,  3.73it/s]"
     ]
    },
    {
     "name": "stdout",
     "output_type": "stream",
     "text": [
      "Epoch 15:  (best: False)train loss = 0.096 (auc: 0.910 f1: 0.650), validation loss = 0.098 (auc: 0.904 f1: 0.599)\n"
     ]
    },
    {
     "name": "stderr",
     "output_type": "stream",
     "text": [
      "100%|██████████████████████████████████████████| 16/16 [00:00<00:00, 159.96it/s]\n",
      " 85%|████████████████████████████████████▌      | 17/20 [00:04<00:00,  3.74it/s]"
     ]
    },
    {
     "name": "stdout",
     "output_type": "stream",
     "text": [
      "Epoch 16:  (best: False)train loss = 0.096 (auc: 0.912 f1: 0.652), validation loss = 0.098 (auc: 0.904 f1: 0.600)\n"
     ]
    },
    {
     "name": "stderr",
     "output_type": "stream",
     "text": [
      "100%|██████████████████████████████████████████| 16/16 [00:00<00:00, 163.50it/s]\n",
      " 90%|██████████████████████████████████████▋    | 18/20 [00:04<00:00,  3.77it/s]"
     ]
    },
    {
     "name": "stdout",
     "output_type": "stream",
     "text": [
      "Epoch 17:  (best: False)train loss = 0.095 (auc: 0.912 f1: 0.653), validation loss = 0.098 (auc: 0.902 f1: 0.594)\n"
     ]
    },
    {
     "name": "stderr",
     "output_type": "stream",
     "text": [
      "100%|██████████████████████████████████████████| 16/16 [00:00<00:00, 169.62it/s]\n",
      " 95%|████████████████████████████████████████▊  | 19/20 [00:05<00:00,  3.82it/s]"
     ]
    },
    {
     "name": "stdout",
     "output_type": "stream",
     "text": [
      "Epoch 18:  (best: False)train loss = 0.095 (auc: 0.913 f1: 0.660), validation loss = 0.098 (auc: 0.902 f1: 0.606)\n"
     ]
    },
    {
     "name": "stderr",
     "output_type": "stream",
     "text": [
      "100%|██████████████████████████████████████████| 16/16 [00:00<00:00, 169.73it/s]\n",
      "100%|███████████████████████████████████████████| 20/20 [00:05<00:00,  3.67it/s]\n"
     ]
    },
    {
     "name": "stdout",
     "output_type": "stream",
     "text": [
      "Epoch 19:  (best: False)train loss = 0.095 (auc: 0.911 f1: 0.653), validation loss = 0.098 (auc: 0.899 f1: 0.594)\n"
     ]
    },
    {
     "name": "stderr",
     "output_type": "stream",
     "text": [
      "100%|██████████████████████████████████████████| 16/16 [00:00<00:00, 168.10it/s]\n",
      "  5%|██▏                                         | 1/20 [00:00<00:04,  3.98it/s]"
     ]
    },
    {
     "name": "stdout",
     "output_type": "stream",
     "text": [
      "Epoch 0:  (best: True)train loss = 0.114 (auc: 0.851 f1: 0.126), validation loss = 0.114 (auc: 0.859 f1: 0.111)\n"
     ]
    },
    {
     "name": "stderr",
     "output_type": "stream",
     "text": [
      "100%|██████████████████████████████████████████| 16/16 [00:00<00:00, 170.12it/s]\n",
      " 10%|████▍                                       | 2/20 [00:00<00:04,  3.89it/s]"
     ]
    },
    {
     "name": "stdout",
     "output_type": "stream",
     "text": [
      "Epoch 1:  (best: True)train loss = 0.107 (auc: 0.836 f1: 0.347), validation loss = 0.108 (auc: 0.841 f1: 0.315)\n"
     ]
    },
    {
     "name": "stderr",
     "output_type": "stream",
     "text": [
      "100%|██████████████████████████████████████████| 16/16 [00:00<00:00, 166.91it/s]\n",
      " 15%|██████▌                                     | 3/20 [00:00<00:04,  3.93it/s]"
     ]
    },
    {
     "name": "stdout",
     "output_type": "stream",
     "text": [
      "Epoch 2:  (best: True)train loss = 0.103 (auc: 0.857 f1: 0.439), validation loss = 0.104 (auc: 0.861 f1: 0.406)\n"
     ]
    },
    {
     "name": "stderr",
     "output_type": "stream",
     "text": [
      "100%|██████████████████████████████████████████| 16/16 [00:00<00:00, 175.92it/s]\n",
      " 20%|████████▊                                   | 4/20 [00:01<00:04,  3.96it/s]"
     ]
    },
    {
     "name": "stdout",
     "output_type": "stream",
     "text": [
      "Epoch 3:  (best: True)train loss = 0.101 (auc: 0.859 f1: 0.486), validation loss = 0.102 (auc: 0.863 f1: 0.458)\n"
     ]
    },
    {
     "name": "stderr",
     "output_type": "stream",
     "text": [
      "100%|██████████████████████████████████████████| 16/16 [00:00<00:00, 174.78it/s]\n",
      " 25%|███████████                                 | 5/20 [00:01<00:03,  3.98it/s]"
     ]
    },
    {
     "name": "stdout",
     "output_type": "stream",
     "text": [
      "Epoch 4:  (best: True)train loss = 0.099 (auc: 0.865 f1: 0.514), validation loss = 0.101 (auc: 0.866 f1: 0.491)\n"
     ]
    },
    {
     "name": "stderr",
     "output_type": "stream",
     "text": [
      "100%|██████████████████████████████████████████| 16/16 [00:00<00:00, 170.24it/s]\n",
      " 30%|█████████████▏                              | 6/20 [00:01<00:03,  3.99it/s]"
     ]
    },
    {
     "name": "stdout",
     "output_type": "stream",
     "text": [
      "Epoch 5:  (best: True)train loss = 0.099 (auc: 0.867 f1: 0.546), validation loss = 0.100 (auc: 0.868 f1: 0.504)\n"
     ]
    },
    {
     "name": "stderr",
     "output_type": "stream",
     "text": [
      "100%|██████████████████████████████████████████| 16/16 [00:00<00:00, 168.28it/s]\n",
      " 35%|███████████████▍                            | 7/20 [00:01<00:03,  3.97it/s]"
     ]
    },
    {
     "name": "stdout",
     "output_type": "stream",
     "text": [
      "Epoch 6:  (best: True)train loss = 0.099 (auc: 0.871 f1: 0.538), validation loss = 0.100 (auc: 0.872 f1: 0.507)\n"
     ]
    },
    {
     "name": "stderr",
     "output_type": "stream",
     "text": [
      "100%|██████████████████████████████████████████| 16/16 [00:00<00:00, 162.04it/s]\n",
      " 40%|█████████████████▌                          | 8/20 [00:02<00:03,  3.96it/s]"
     ]
    },
    {
     "name": "stdout",
     "output_type": "stream",
     "text": [
      "Epoch 7:  (best: True)train loss = 0.099 (auc: 0.874 f1: 0.540), validation loss = 0.100 (auc: 0.874 f1: 0.511)\n"
     ]
    },
    {
     "name": "stderr",
     "output_type": "stream",
     "text": [
      "100%|██████████████████████████████████████████| 16/16 [00:00<00:00, 170.72it/s]\n",
      " 45%|███████████████████▊                        | 9/20 [00:02<00:02,  3.98it/s]"
     ]
    },
    {
     "name": "stdout",
     "output_type": "stream",
     "text": [
      "Epoch 8:  (best: False)train loss = 0.099 (auc: 0.878 f1: 0.540), validation loss = 0.100 (auc: 0.878 f1: 0.508)\n"
     ]
    },
    {
     "name": "stderr",
     "output_type": "stream",
     "text": [
      "100%|██████████████████████████████████████████| 16/16 [00:00<00:00, 166.84it/s]\n",
      " 50%|█████████████████████▌                     | 10/20 [00:02<00:02,  3.95it/s]"
     ]
    },
    {
     "name": "stdout",
     "output_type": "stream",
     "text": [
      "Epoch 9:  (best: True)train loss = 0.097 (auc: 0.885 f1: 0.600), validation loss = 0.099 (auc: 0.885 f1: 0.560)\n"
     ]
    },
    {
     "name": "stderr",
     "output_type": "stream",
     "text": [
      "100%|██████████████████████████████████████████| 16/16 [00:00<00:00, 163.34it/s]\n",
      " 55%|███████████████████████▋                   | 11/20 [00:02<00:02,  3.91it/s]"
     ]
    },
    {
     "name": "stdout",
     "output_type": "stream",
     "text": [
      "Epoch 10:  (best: True)train loss = 0.097 (auc: 0.887 f1: 0.626), validation loss = 0.099 (auc: 0.887 f1: 0.568)\n"
     ]
    },
    {
     "name": "stderr",
     "output_type": "stream",
     "text": [
      "100%|██████████████████████████████████████████| 16/16 [00:00<00:00, 158.06it/s]\n",
      " 60%|█████████████████████████▊                 | 12/20 [00:03<00:02,  3.88it/s]"
     ]
    },
    {
     "name": "stdout",
     "output_type": "stream",
     "text": [
      "Epoch 11:  (best: True)train loss = 0.097 (auc: 0.891 f1: 0.630), validation loss = 0.098 (auc: 0.892 f1: 0.576)\n"
     ]
    },
    {
     "name": "stderr",
     "output_type": "stream",
     "text": [
      "100%|██████████████████████████████████████████| 16/16 [00:00<00:00, 164.90it/s]\n",
      " 65%|███████████████████████████▉               | 13/20 [00:03<00:01,  3.83it/s]"
     ]
    },
    {
     "name": "stdout",
     "output_type": "stream",
     "text": [
      "Epoch 12:  (best: True)train loss = 0.096 (auc: 0.890 f1: 0.648), validation loss = 0.099 (auc: 0.890 f1: 0.596)\n"
     ]
    },
    {
     "name": "stderr",
     "output_type": "stream",
     "text": [
      "100%|██████████████████████████████████████████| 16/16 [00:00<00:00, 158.53it/s]\n",
      " 70%|██████████████████████████████             | 14/20 [00:03<00:01,  3.80it/s]"
     ]
    },
    {
     "name": "stdout",
     "output_type": "stream",
     "text": [
      "Epoch 13:  (best: False)train loss = 0.096 (auc: 0.895 f1: 0.639), validation loss = 0.098 (auc: 0.895 f1: 0.592)\n"
     ]
    },
    {
     "name": "stderr",
     "output_type": "stream",
     "text": [
      "100%|██████████████████████████████████████████| 16/16 [00:00<00:00, 162.48it/s]\n",
      " 75%|████████████████████████████████▎          | 15/20 [00:03<00:01,  3.82it/s]"
     ]
    },
    {
     "name": "stdout",
     "output_type": "stream",
     "text": [
      "Epoch 14:  (best: False)train loss = 0.096 (auc: 0.897 f1: 0.640), validation loss = 0.098 (auc: 0.897 f1: 0.582)\n"
     ]
    },
    {
     "name": "stderr",
     "output_type": "stream",
     "text": [
      "100%|██████████████████████████████████████████| 16/16 [00:00<00:00, 170.27it/s]\n",
      " 80%|██████████████████████████████████▍        | 16/20 [00:04<00:01,  3.86it/s]"
     ]
    },
    {
     "name": "stdout",
     "output_type": "stream",
     "text": [
      "Epoch 15:  (best: False)train loss = 0.096 (auc: 0.897 f1: 0.646), validation loss = 0.098 (auc: 0.895 f1: 0.580)\n"
     ]
    },
    {
     "name": "stderr",
     "output_type": "stream",
     "text": [
      "100%|██████████████████████████████████████████| 16/16 [00:00<00:00, 166.56it/s]\n",
      " 85%|████████████████████████████████████▌      | 17/20 [00:04<00:00,  3.87it/s]"
     ]
    },
    {
     "name": "stdout",
     "output_type": "stream",
     "text": [
      "Epoch 16:  (best: True)train loss = 0.096 (auc: 0.900 f1: 0.665), validation loss = 0.098 (auc: 0.896 f1: 0.598)\n"
     ]
    },
    {
     "name": "stderr",
     "output_type": "stream",
     "text": [
      "100%|██████████████████████████████████████████| 16/16 [00:00<00:00, 170.00it/s]\n",
      " 90%|██████████████████████████████████████▋    | 18/20 [00:04<00:00,  3.80it/s]"
     ]
    },
    {
     "name": "stdout",
     "output_type": "stream",
     "text": [
      "Epoch 17:  (best: True)train loss = 0.095 (auc: 0.906 f1: 0.692), validation loss = 0.098 (auc: 0.901 f1: 0.612)\n"
     ]
    },
    {
     "name": "stderr",
     "output_type": "stream",
     "text": [
      "100%|██████████████████████████████████████████| 16/16 [00:00<00:00, 153.64it/s]\n",
      " 95%|████████████████████████████████████████▊  | 19/20 [00:04<00:00,  3.79it/s]"
     ]
    },
    {
     "name": "stdout",
     "output_type": "stream",
     "text": [
      "Epoch 18:  (best: False)train loss = 0.095 (auc: 0.904 f1: 0.680), validation loss = 0.098 (auc: 0.896 f1: 0.597)\n"
     ]
    },
    {
     "name": "stderr",
     "output_type": "stream",
     "text": [
      "100%|██████████████████████████████████████████| 16/16 [00:00<00:00, 163.48it/s]\n",
      "100%|███████████████████████████████████████████| 20/20 [00:05<00:00,  3.88it/s]\n"
     ]
    },
    {
     "name": "stdout",
     "output_type": "stream",
     "text": [
      "Epoch 19:  (best: False)train loss = 0.095 (auc: 0.908 f1: 0.691), validation loss = 0.099 (auc: 0.900 f1: 0.608)\n"
     ]
    },
    {
     "name": "stderr",
     "output_type": "stream",
     "text": [
      "100%|██████████████████████████████████████████| 16/16 [00:00<00:00, 170.22it/s]\n",
      "  5%|██▏                                         | 1/20 [00:00<00:04,  3.92it/s]"
     ]
    },
    {
     "name": "stdout",
     "output_type": "stream",
     "text": [
      "Epoch 0:  (best: True)train loss = 0.114 (auc: 0.823 f1: 0.075), validation loss = 0.115 (auc: 0.807 f1: 0.079)\n"
     ]
    },
    {
     "name": "stderr",
     "output_type": "stream",
     "text": [
      "100%|██████████████████████████████████████████| 16/16 [00:00<00:00, 155.81it/s]\n",
      " 10%|████▍                                       | 2/20 [00:00<00:04,  3.82it/s]"
     ]
    },
    {
     "name": "stdout",
     "output_type": "stream",
     "text": [
      "Epoch 1:  (best: True)train loss = 0.108 (auc: 0.822 f1: 0.270), validation loss = 0.109 (auc: 0.821 f1: 0.231)\n"
     ]
    },
    {
     "name": "stderr",
     "output_type": "stream",
     "text": [
      "100%|██████████████████████████████████████████| 16/16 [00:00<00:00, 168.59it/s]\n",
      " 15%|██████▌                                     | 3/20 [00:00<00:04,  3.85it/s]"
     ]
    },
    {
     "name": "stdout",
     "output_type": "stream",
     "text": [
      "Epoch 2:  (best: True)train loss = 0.104 (auc: 0.858 f1: 0.398), validation loss = 0.104 (auc: 0.854 f1: 0.385)\n"
     ]
    },
    {
     "name": "stderr",
     "output_type": "stream",
     "text": [
      "100%|██████████████████████████████████████████| 16/16 [00:00<00:00, 168.77it/s]\n",
      " 20%|████████▊                                   | 4/20 [00:01<00:04,  3.86it/s]"
     ]
    },
    {
     "name": "stdout",
     "output_type": "stream",
     "text": [
      "Epoch 3:  (best: True)train loss = 0.101 (auc: 0.859 f1: 0.466), validation loss = 0.102 (auc: 0.855 f1: 0.464)\n"
     ]
    },
    {
     "name": "stderr",
     "output_type": "stream",
     "text": [
      "100%|██████████████████████████████████████████| 16/16 [00:00<00:00, 172.09it/s]\n",
      " 25%|███████████                                 | 5/20 [00:01<00:03,  3.90it/s]"
     ]
    },
    {
     "name": "stdout",
     "output_type": "stream",
     "text": [
      "Epoch 4:  (best: True)train loss = 0.099 (auc: 0.878 f1: 0.549), validation loss = 0.100 (auc: 0.878 f1: 0.518)\n"
     ]
    },
    {
     "name": "stderr",
     "output_type": "stream",
     "text": [
      "100%|██████████████████████████████████████████| 16/16 [00:00<00:00, 155.31it/s]\n",
      " 30%|█████████████▏                              | 6/20 [00:01<00:03,  3.84it/s]"
     ]
    },
    {
     "name": "stdout",
     "output_type": "stream",
     "text": [
      "Epoch 5:  (best: True)train loss = 0.098 (auc: 0.884 f1: 0.582), validation loss = 0.099 (auc: 0.886 f1: 0.548)\n"
     ]
    },
    {
     "name": "stderr",
     "output_type": "stream",
     "text": [
      "100%|██████████████████████████████████████████| 16/16 [00:00<00:00, 162.91it/s]\n",
      " 35%|███████████████▍                            | 7/20 [00:01<00:03,  3.83it/s]"
     ]
    },
    {
     "name": "stdout",
     "output_type": "stream",
     "text": [
      "Epoch 6:  (best: True)train loss = 0.097 (auc: 0.890 f1: 0.622), validation loss = 0.099 (auc: 0.892 f1: 0.575)\n"
     ]
    },
    {
     "name": "stderr",
     "output_type": "stream",
     "text": [
      "100%|██████████████████████████████████████████| 16/16 [00:00<00:00, 170.93it/s]\n",
      " 40%|█████████████████▌                          | 8/20 [00:02<00:03,  3.87it/s]"
     ]
    },
    {
     "name": "stdout",
     "output_type": "stream",
     "text": [
      "Epoch 7:  (best: True)train loss = 0.097 (auc: 0.894 f1: 0.631), validation loss = 0.099 (auc: 0.896 f1: 0.586)\n"
     ]
    },
    {
     "name": "stderr",
     "output_type": "stream",
     "text": [
      "100%|██████████████████████████████████████████| 16/16 [00:00<00:00, 162.42it/s]\n",
      " 45%|███████████████████▊                        | 9/20 [00:02<00:02,  3.88it/s]"
     ]
    },
    {
     "name": "stdout",
     "output_type": "stream",
     "text": [
      "Epoch 8:  (best: True)train loss = 0.096 (auc: 0.893 f1: 0.639), validation loss = 0.098 (auc: 0.892 f1: 0.594)\n"
     ]
    },
    {
     "name": "stderr",
     "output_type": "stream",
     "text": [
      "100%|██████████████████████████████████████████| 16/16 [00:00<00:00, 170.55it/s]\n",
      " 50%|█████████████████████▌                     | 10/20 [00:02<00:02,  3.91it/s]"
     ]
    },
    {
     "name": "stdout",
     "output_type": "stream",
     "text": [
      "Epoch 9:  (best: False)train loss = 0.096 (auc: 0.895 f1: 0.637), validation loss = 0.098 (auc: 0.896 f1: 0.589)\n"
     ]
    },
    {
     "name": "stderr",
     "output_type": "stream",
     "text": [
      "100%|██████████████████████████████████████████| 16/16 [00:00<00:00, 167.04it/s]\n",
      " 55%|███████████████████████▋                   | 11/20 [00:02<00:02,  3.91it/s]"
     ]
    },
    {
     "name": "stdout",
     "output_type": "stream",
     "text": [
      "Epoch 10:  (best: False)train loss = 0.096 (auc: 0.901 f1: 0.640), validation loss = 0.098 (auc: 0.900 f1: 0.589)\n"
     ]
    },
    {
     "name": "stderr",
     "output_type": "stream",
     "text": [
      "100%|██████████████████████████████████████████| 16/16 [00:00<00:00, 164.61it/s]\n",
      " 60%|█████████████████████████▊                 | 12/20 [00:03<00:02,  3.86it/s]"
     ]
    },
    {
     "name": "stdout",
     "output_type": "stream",
     "text": [
      "Epoch 11:  (best: False)train loss = 0.096 (auc: 0.901 f1: 0.641), validation loss = 0.098 (auc: 0.899 f1: 0.588)\n"
     ]
    },
    {
     "name": "stderr",
     "output_type": "stream",
     "text": [
      "100%|██████████████████████████████████████████| 16/16 [00:00<00:00, 168.28it/s]\n",
      " 65%|███████████████████████████▉               | 13/20 [00:03<00:01,  3.89it/s]"
     ]
    },
    {
     "name": "stdout",
     "output_type": "stream",
     "text": [
      "Epoch 12:  (best: False)train loss = 0.096 (auc: 0.901 f1: 0.641), validation loss = 0.098 (auc: 0.898 f1: 0.581)\n"
     ]
    },
    {
     "name": "stderr",
     "output_type": "stream",
     "text": [
      "100%|██████████████████████████████████████████| 16/16 [00:00<00:00, 171.15it/s]\n",
      " 70%|██████████████████████████████             | 14/20 [00:03<00:01,  3.89it/s]"
     ]
    },
    {
     "name": "stdout",
     "output_type": "stream",
     "text": [
      "Epoch 13:  (best: True)train loss = 0.096 (auc: 0.905 f1: 0.663), validation loss = 0.098 (auc: 0.901 f1: 0.604)\n"
     ]
    },
    {
     "name": "stderr",
     "output_type": "stream",
     "text": [
      "100%|██████████████████████████████████████████| 16/16 [00:00<00:00, 161.75it/s]\n",
      " 75%|████████████████████████████████▎          | 15/20 [00:03<00:01,  3.87it/s]"
     ]
    },
    {
     "name": "stdout",
     "output_type": "stream",
     "text": [
      "Epoch 14:  (best: True)train loss = 0.095 (auc: 0.907 f1: 0.705), validation loss = 0.098 (auc: 0.900 f1: 0.625)\n"
     ]
    },
    {
     "name": "stderr",
     "output_type": "stream",
     "text": [
      "100%|██████████████████████████████████████████| 16/16 [00:00<00:00, 170.89it/s]\n",
      " 80%|██████████████████████████████████▍        | 16/20 [00:04<00:01,  3.88it/s]"
     ]
    },
    {
     "name": "stdout",
     "output_type": "stream",
     "text": [
      "Epoch 15:  (best: False)train loss = 0.095 (auc: 0.907 f1: 0.688), validation loss = 0.098 (auc: 0.903 f1: 0.622)\n"
     ]
    },
    {
     "name": "stderr",
     "output_type": "stream",
     "text": [
      "100%|██████████████████████████████████████████| 16/16 [00:00<00:00, 168.82it/s]\n",
      " 85%|████████████████████████████████████▌      | 17/20 [00:04<00:00,  3.90it/s]"
     ]
    },
    {
     "name": "stdout",
     "output_type": "stream",
     "text": [
      "Epoch 16:  (best: False)train loss = 0.094 (auc: 0.910 f1: 0.692), validation loss = 0.098 (auc: 0.899 f1: 0.611)\n"
     ]
    },
    {
     "name": "stderr",
     "output_type": "stream",
     "text": [
      "100%|██████████████████████████████████████████| 16/16 [00:00<00:00, 171.83it/s]\n",
      " 90%|██████████████████████████████████████▋    | 18/20 [00:04<00:00,  3.93it/s]"
     ]
    },
    {
     "name": "stdout",
     "output_type": "stream",
     "text": [
      "Epoch 17:  (best: False)train loss = 0.094 (auc: 0.912 f1: 0.694), validation loss = 0.098 (auc: 0.902 f1: 0.615)\n"
     ]
    },
    {
     "name": "stderr",
     "output_type": "stream",
     "text": [
      "100%|██████████████████████████████████████████| 16/16 [00:00<00:00, 168.52it/s]\n",
      " 95%|████████████████████████████████████████▊  | 19/20 [00:04<00:00,  3.94it/s]"
     ]
    },
    {
     "name": "stdout",
     "output_type": "stream",
     "text": [
      "Epoch 18:  (best: False)train loss = 0.095 (auc: 0.911 f1: 0.697), validation loss = 0.098 (auc: 0.901 f1: 0.618)\n"
     ]
    },
    {
     "name": "stderr",
     "output_type": "stream",
     "text": [
      "100%|██████████████████████████████████████████| 16/16 [00:00<00:00, 169.52it/s]\n",
      "100%|███████████████████████████████████████████| 20/20 [00:05<00:00,  3.89it/s]\n"
     ]
    },
    {
     "name": "stdout",
     "output_type": "stream",
     "text": [
      "Epoch 19:  (best: False)train loss = 0.094 (auc: 0.909 f1: 0.689), validation loss = 0.098 (auc: 0.900 f1: 0.615)\n"
     ]
    },
    {
     "name": "stderr",
     "output_type": "stream",
     "text": [
      "100%|██████████████████████████████████████████| 16/16 [00:00<00:00, 165.84it/s]\n",
      "  5%|██▏                                         | 1/20 [00:00<00:04,  3.94it/s]"
     ]
    },
    {
     "name": "stdout",
     "output_type": "stream",
     "text": [
      "Epoch 0:  (best: True)train loss = 0.113 (auc: 0.844 f1: 0.163), validation loss = 0.114 (auc: 0.814 f1: 0.150)\n"
     ]
    },
    {
     "name": "stderr",
     "output_type": "stream",
     "text": [
      "100%|██████████████████████████████████████████| 16/16 [00:00<00:00, 168.76it/s]\n",
      " 10%|████▍                                       | 2/20 [00:00<00:04,  3.94it/s]"
     ]
    },
    {
     "name": "stdout",
     "output_type": "stream",
     "text": [
      "Epoch 1:  (best: True)train loss = 0.107 (auc: 0.847 f1: 0.368), validation loss = 0.108 (auc: 0.852 f1: 0.318)\n"
     ]
    },
    {
     "name": "stderr",
     "output_type": "stream",
     "text": [
      "100%|██████████████████████████████████████████| 16/16 [00:00<00:00, 168.76it/s]\n",
      " 15%|██████▌                                     | 3/20 [00:00<00:04,  3.94it/s]"
     ]
    },
    {
     "name": "stdout",
     "output_type": "stream",
     "text": [
      "Epoch 2:  (best: True)train loss = 0.103 (auc: 0.836 f1: 0.388), validation loss = 0.104 (auc: 0.851 f1: 0.359)\n"
     ]
    },
    {
     "name": "stderr",
     "output_type": "stream",
     "text": [
      "100%|██████████████████████████████████████████| 16/16 [00:00<00:00, 162.34it/s]\n",
      " 20%|████████▊                                   | 4/20 [00:01<00:04,  3.74it/s]"
     ]
    },
    {
     "name": "stdout",
     "output_type": "stream",
     "text": [
      "Epoch 3:  (best: True)train loss = 0.102 (auc: 0.848 f1: 0.465), validation loss = 0.103 (auc: 0.865 f1: 0.430)\n"
     ]
    },
    {
     "name": "stderr",
     "output_type": "stream",
     "text": [
      "100%|██████████████████████████████████████████| 16/16 [00:00<00:00, 162.44it/s]\n",
      " 25%|███████████                                 | 5/20 [00:01<00:03,  3.77it/s]"
     ]
    },
    {
     "name": "stdout",
     "output_type": "stream",
     "text": [
      "Epoch 4:  (best: True)train loss = 0.100 (auc: 0.862 f1: 0.518), validation loss = 0.101 (auc: 0.873 f1: 0.477)\n"
     ]
    },
    {
     "name": "stderr",
     "output_type": "stream",
     "text": [
      "100%|██████████████████████████████████████████| 16/16 [00:00<00:00, 161.50it/s]\n",
      " 30%|█████████████▏                              | 6/20 [00:01<00:03,  3.76it/s]"
     ]
    },
    {
     "name": "stdout",
     "output_type": "stream",
     "text": [
      "Epoch 5:  (best: True)train loss = 0.098 (auc: 0.875 f1: 0.564), validation loss = 0.100 (auc: 0.887 f1: 0.532)\n"
     ]
    },
    {
     "name": "stderr",
     "output_type": "stream",
     "text": [
      "100%|██████████████████████████████████████████| 16/16 [00:00<00:00, 149.41it/s]\n",
      " 35%|███████████████▍                            | 7/20 [00:01<00:03,  3.71it/s]"
     ]
    },
    {
     "name": "stdout",
     "output_type": "stream",
     "text": [
      "Epoch 6:  (best: True)train loss = 0.098 (auc: 0.878 f1: 0.573), validation loss = 0.099 (auc: 0.888 f1: 0.538)\n"
     ]
    },
    {
     "name": "stderr",
     "output_type": "stream",
     "text": [
      "100%|██████████████████████████████████████████| 16/16 [00:00<00:00, 161.68it/s]\n",
      " 40%|█████████████████▌                          | 8/20 [00:02<00:03,  3.72it/s]"
     ]
    },
    {
     "name": "stdout",
     "output_type": "stream",
     "text": [
      "Epoch 7:  (best: True)train loss = 0.097 (auc: 0.888 f1: 0.607), validation loss = 0.099 (auc: 0.900 f1: 0.577)\n"
     ]
    },
    {
     "name": "stderr",
     "output_type": "stream",
     "text": [
      "100%|██████████████████████████████████████████| 16/16 [00:00<00:00, 131.81it/s]\n",
      " 45%|███████████████████▊                        | 9/20 [00:02<00:03,  3.63it/s]"
     ]
    },
    {
     "name": "stdout",
     "output_type": "stream",
     "text": [
      "Epoch 8:  (best: True)train loss = 0.096 (auc: 0.895 f1: 0.651), validation loss = 0.099 (auc: 0.900 f1: 0.588)\n"
     ]
    },
    {
     "name": "stderr",
     "output_type": "stream",
     "text": [
      "100%|██████████████████████████████████████████| 16/16 [00:00<00:00, 158.29it/s]\n",
      " 50%|█████████████████████▌                     | 10/20 [00:02<00:02,  3.66it/s]"
     ]
    },
    {
     "name": "stdout",
     "output_type": "stream",
     "text": [
      "Epoch 9:  (best: True)train loss = 0.096 (auc: 0.897 f1: 0.650), validation loss = 0.099 (auc: 0.896 f1: 0.594)\n"
     ]
    },
    {
     "name": "stderr",
     "output_type": "stream",
     "text": [
      "100%|██████████████████████████████████████████| 16/16 [00:00<00:00, 164.18it/s]\n",
      " 55%|███████████████████████▋                   | 11/20 [00:02<00:02,  3.67it/s]"
     ]
    },
    {
     "name": "stdout",
     "output_type": "stream",
     "text": [
      "Epoch 10:  (best: False)train loss = 0.096 (auc: 0.898 f1: 0.661), validation loss = 0.099 (auc: 0.895 f1: 0.584)\n"
     ]
    },
    {
     "name": "stderr",
     "output_type": "stream",
     "text": [
      "100%|██████████████████████████████████████████| 16/16 [00:00<00:00, 160.24it/s]\n",
      " 60%|█████████████████████████▊                 | 12/20 [00:03<00:02,  3.70it/s]"
     ]
    },
    {
     "name": "stdout",
     "output_type": "stream",
     "text": [
      "Epoch 11:  (best: False)train loss = 0.096 (auc: 0.903 f1: 0.665), validation loss = 0.098 (auc: 0.897 f1: 0.592)\n"
     ]
    },
    {
     "name": "stderr",
     "output_type": "stream",
     "text": [
      "100%|██████████████████████████████████████████| 16/16 [00:00<00:00, 155.75it/s]\n",
      " 65%|███████████████████████████▉               | 13/20 [00:03<00:01,  3.70it/s]"
     ]
    },
    {
     "name": "stdout",
     "output_type": "stream",
     "text": [
      "Epoch 12:  (best: False)train loss = 0.096 (auc: 0.906 f1: 0.673), validation loss = 0.098 (auc: 0.901 f1: 0.593)\n"
     ]
    },
    {
     "name": "stderr",
     "output_type": "stream",
     "text": [
      "100%|██████████████████████████████████████████| 16/16 [00:00<00:00, 151.81it/s]\n",
      " 70%|██████████████████████████████             | 14/20 [00:03<00:01,  3.67it/s]"
     ]
    },
    {
     "name": "stdout",
     "output_type": "stream",
     "text": [
      "Epoch 13:  (best: True)train loss = 0.095 (auc: 0.909 f1: 0.680), validation loss = 0.098 (auc: 0.901 f1: 0.605)\n"
     ]
    },
    {
     "name": "stderr",
     "output_type": "stream",
     "text": [
      "100%|██████████████████████████████████████████| 16/16 [00:00<00:00, 156.47it/s]\n",
      " 75%|████████████████████████████████▎          | 15/20 [00:04<00:01,  3.66it/s]"
     ]
    },
    {
     "name": "stdout",
     "output_type": "stream",
     "text": [
      "Epoch 14:  (best: True)train loss = 0.095 (auc: 0.914 f1: 0.696), validation loss = 0.098 (auc: 0.906 f1: 0.609)\n"
     ]
    },
    {
     "name": "stderr",
     "output_type": "stream",
     "text": [
      "100%|██████████████████████████████████████████| 16/16 [00:00<00:00, 132.00it/s]\n",
      " 80%|██████████████████████████████████▍        | 16/20 [00:04<00:01,  3.40it/s]"
     ]
    },
    {
     "name": "stdout",
     "output_type": "stream",
     "text": [
      "Epoch 15:  (best: True)train loss = 0.094 (auc: 0.913 f1: 0.713), validation loss = 0.098 (auc: 0.902 f1: 0.616)\n"
     ]
    },
    {
     "name": "stderr",
     "output_type": "stream",
     "text": [
      "100%|██████████████████████████████████████████| 16/16 [00:00<00:00, 135.88it/s]\n",
      " 85%|████████████████████████████████████▌      | 17/20 [00:04<00:00,  3.43it/s]"
     ]
    },
    {
     "name": "stdout",
     "output_type": "stream",
     "text": [
      "Epoch 16:  (best: False)train loss = 0.094 (auc: 0.909 f1: 0.719), validation loss = 0.098 (auc: 0.897 f1: 0.614)\n"
     ]
    },
    {
     "name": "stderr",
     "output_type": "stream",
     "text": [
      "100%|██████████████████████████████████████████| 16/16 [00:00<00:00, 167.36it/s]\n",
      " 90%|██████████████████████████████████████▋    | 18/20 [00:04<00:00,  3.54it/s]"
     ]
    },
    {
     "name": "stdout",
     "output_type": "stream",
     "text": [
      "Epoch 17:  (best: False)train loss = 0.094 (auc: 0.913 f1: 0.717), validation loss = 0.098 (auc: 0.898 f1: 0.611)\n"
     ]
    },
    {
     "name": "stderr",
     "output_type": "stream",
     "text": [
      "100%|██████████████████████████████████████████| 16/16 [00:00<00:00, 163.79it/s]\n",
      " 95%|████████████████████████████████████████▊  | 19/20 [00:05<00:00,  3.60it/s]"
     ]
    },
    {
     "name": "stdout",
     "output_type": "stream",
     "text": [
      "Epoch 18:  (best: True)train loss = 0.094 (auc: 0.914 f1: 0.719), validation loss = 0.098 (auc: 0.900 f1: 0.631)\n"
     ]
    },
    {
     "name": "stderr",
     "output_type": "stream",
     "text": [
      "100%|██████████████████████████████████████████| 16/16 [00:00<00:00, 151.23it/s]\n",
      "100%|███████████████████████████████████████████| 20/20 [00:05<00:00,  3.65it/s]\n"
     ]
    },
    {
     "name": "stdout",
     "output_type": "stream",
     "text": [
      "Epoch 19:  (best: False)train loss = 0.094 (auc: 0.916 f1: 0.715), validation loss = 0.098 (auc: 0.900 f1: 0.621)\n"
     ]
    },
    {
     "name": "stderr",
     "output_type": "stream",
     "text": [
      "100%|██████████████████████████████████████████| 16/16 [00:00<00:00, 156.83it/s]\n",
      "  5%|██▏                                         | 1/20 [00:00<00:05,  3.71it/s]"
     ]
    },
    {
     "name": "stdout",
     "output_type": "stream",
     "text": [
      "Epoch 0:  (best: True)train loss = 0.113 (auc: 0.862 f1: 0.145), validation loss = 0.114 (auc: 0.849 f1: 0.137)\n"
     ]
    },
    {
     "name": "stderr",
     "output_type": "stream",
     "text": [
      "100%|██████████████████████████████████████████| 16/16 [00:00<00:00, 153.37it/s]\n",
      " 10%|████▍                                       | 2/20 [00:00<00:04,  3.69it/s]"
     ]
    },
    {
     "name": "stdout",
     "output_type": "stream",
     "text": [
      "Epoch 1:  (best: True)train loss = 0.106 (auc: 0.839 f1: 0.407), validation loss = 0.107 (auc: 0.840 f1: 0.382)\n"
     ]
    },
    {
     "name": "stderr",
     "output_type": "stream",
     "text": [
      "100%|██████████████████████████████████████████| 16/16 [00:00<00:00, 156.15it/s]\n",
      " 15%|██████▌                                     | 3/20 [00:00<00:04,  3.69it/s]"
     ]
    },
    {
     "name": "stdout",
     "output_type": "stream",
     "text": [
      "Epoch 2:  (best: True)train loss = 0.101 (auc: 0.865 f1: 0.478), validation loss = 0.102 (auc: 0.874 f1: 0.457)\n"
     ]
    },
    {
     "name": "stderr",
     "output_type": "stream",
     "text": [
      "100%|██████████████████████████████████████████| 16/16 [00:00<00:00, 156.00it/s]\n",
      " 20%|████████▊                                   | 4/20 [00:01<00:04,  3.68it/s]"
     ]
    },
    {
     "name": "stdout",
     "output_type": "stream",
     "text": [
      "Epoch 3:  (best: True)train loss = 0.099 (auc: 0.867 f1: 0.551), validation loss = 0.100 (auc: 0.875 f1: 0.519)\n"
     ]
    },
    {
     "name": "stderr",
     "output_type": "stream",
     "text": [
      "100%|██████████████████████████████████████████| 16/16 [00:00<00:00, 153.99it/s]\n",
      " 25%|███████████                                 | 5/20 [00:01<00:04,  3.68it/s]"
     ]
    },
    {
     "name": "stdout",
     "output_type": "stream",
     "text": [
      "Epoch 4:  (best: False)train loss = 0.099 (auc: 0.873 f1: 0.545), validation loss = 0.100 (auc: 0.881 f1: 0.507)\n"
     ]
    },
    {
     "name": "stderr",
     "output_type": "stream",
     "text": [
      "100%|██████████████████████████████████████████| 16/16 [00:00<00:00, 161.95it/s]\n",
      " 30%|█████████████▏                              | 6/20 [00:01<00:03,  3.72it/s]"
     ]
    },
    {
     "name": "stdout",
     "output_type": "stream",
     "text": [
      "Epoch 5:  (best: False)train loss = 0.098 (auc: 0.871 f1: 0.547), validation loss = 0.099 (auc: 0.877 f1: 0.518)\n"
     ]
    },
    {
     "name": "stderr",
     "output_type": "stream",
     "text": [
      "100%|██████████████████████████████████████████| 16/16 [00:00<00:00, 160.57it/s]\n",
      " 35%|███████████████▍                            | 7/20 [00:01<00:03,  3.65it/s]"
     ]
    },
    {
     "name": "stdout",
     "output_type": "stream",
     "text": [
      "Epoch 6:  (best: False)train loss = 0.098 (auc: 0.875 f1: 0.552), validation loss = 0.099 (auc: 0.881 f1: 0.513)\n"
     ]
    },
    {
     "name": "stderr",
     "output_type": "stream",
     "text": [
      "100%|██████████████████████████████████████████| 16/16 [00:00<00:00, 151.45it/s]\n",
      " 40%|█████████████████▌                          | 8/20 [00:02<00:03,  3.66it/s]"
     ]
    },
    {
     "name": "stdout",
     "output_type": "stream",
     "text": [
      "Epoch 7:  (best: True)train loss = 0.098 (auc: 0.882 f1: 0.593), validation loss = 0.099 (auc: 0.885 f1: 0.558)\n"
     ]
    },
    {
     "name": "stderr",
     "output_type": "stream",
     "text": [
      "100%|██████████████████████████████████████████| 16/16 [00:00<00:00, 157.74it/s]\n",
      " 45%|███████████████████▊                        | 9/20 [00:02<00:02,  3.68it/s]"
     ]
    },
    {
     "name": "stdout",
     "output_type": "stream",
     "text": [
      "Epoch 8:  (best: True)train loss = 0.097 (auc: 0.886 f1: 0.616), validation loss = 0.099 (auc: 0.887 f1: 0.559)\n"
     ]
    },
    {
     "name": "stderr",
     "output_type": "stream",
     "text": [
      "100%|██████████████████████████████████████████| 16/16 [00:00<00:00, 164.31it/s]\n",
      " 50%|█████████████████████▌                     | 10/20 [00:02<00:02,  3.70it/s]"
     ]
    },
    {
     "name": "stdout",
     "output_type": "stream",
     "text": [
      "Epoch 9:  (best: True)train loss = 0.096 (auc: 0.894 f1: 0.659), validation loss = 0.099 (auc: 0.888 f1: 0.603)\n"
     ]
    },
    {
     "name": "stderr",
     "output_type": "stream",
     "text": [
      "100%|██████████████████████████████████████████| 16/16 [00:00<00:00, 134.79it/s]\n",
      " 55%|███████████████████████▋                   | 11/20 [00:02<00:02,  3.63it/s]"
     ]
    },
    {
     "name": "stdout",
     "output_type": "stream",
     "text": [
      "Epoch 10:  (best: False)train loss = 0.096 (auc: 0.894 f1: 0.654), validation loss = 0.099 (auc: 0.891 f1: 0.587)\n"
     ]
    },
    {
     "name": "stderr",
     "output_type": "stream",
     "text": [
      "100%|██████████████████████████████████████████| 16/16 [00:00<00:00, 166.51it/s]\n",
      " 60%|█████████████████████████▊                 | 12/20 [00:03<00:02,  3.70it/s]"
     ]
    },
    {
     "name": "stdout",
     "output_type": "stream",
     "text": [
      "Epoch 11:  (best: False)train loss = 0.096 (auc: 0.900 f1: 0.651), validation loss = 0.098 (auc: 0.893 f1: 0.589)\n"
     ]
    },
    {
     "name": "stderr",
     "output_type": "stream",
     "text": [
      "100%|██████████████████████████████████████████| 16/16 [00:00<00:00, 165.90it/s]\n",
      " 65%|███████████████████████████▉               | 13/20 [00:03<00:01,  3.74it/s]"
     ]
    },
    {
     "name": "stdout",
     "output_type": "stream",
     "text": [
      "Epoch 12:  (best: True)train loss = 0.095 (auc: 0.905 f1: 0.699), validation loss = 0.098 (auc: 0.897 f1: 0.624)\n"
     ]
    },
    {
     "name": "stderr",
     "output_type": "stream",
     "text": [
      "100%|██████████████████████████████████████████| 16/16 [00:00<00:00, 168.37it/s]\n",
      " 70%|██████████████████████████████             | 14/20 [00:03<00:01,  3.78it/s]"
     ]
    },
    {
     "name": "stdout",
     "output_type": "stream",
     "text": [
      "Epoch 13:  (best: False)train loss = 0.095 (auc: 0.909 f1: 0.705), validation loss = 0.098 (auc: 0.897 f1: 0.624)\n"
     ]
    },
    {
     "name": "stderr",
     "output_type": "stream",
     "text": [
      "100%|██████████████████████████████████████████| 16/16 [00:00<00:00, 153.02it/s]\n",
      " 75%|████████████████████████████████▎          | 15/20 [00:04<00:01,  3.73it/s]"
     ]
    },
    {
     "name": "stdout",
     "output_type": "stream",
     "text": [
      "Epoch 14:  (best: True)train loss = 0.095 (auc: 0.913 f1: 0.713), validation loss = 0.098 (auc: 0.899 f1: 0.627)\n"
     ]
    },
    {
     "name": "stderr",
     "output_type": "stream",
     "text": [
      "100%|██████████████████████████████████████████| 16/16 [00:00<00:00, 155.85it/s]\n",
      " 80%|██████████████████████████████████▍        | 16/20 [00:04<00:01,  3.72it/s]"
     ]
    },
    {
     "name": "stdout",
     "output_type": "stream",
     "text": [
      "Epoch 15:  (best: False)train loss = 0.094 (auc: 0.913 f1: 0.707), validation loss = 0.098 (auc: 0.899 f1: 0.624)\n"
     ]
    },
    {
     "name": "stderr",
     "output_type": "stream",
     "text": [
      "100%|██████████████████████████████████████████| 16/16 [00:00<00:00, 160.88it/s]\n",
      " 85%|████████████████████████████████████▌      | 17/20 [00:04<00:00,  3.75it/s]"
     ]
    },
    {
     "name": "stdout",
     "output_type": "stream",
     "text": [
      "Epoch 16:  (best: False)train loss = 0.094 (auc: 0.914 f1: 0.707), validation loss = 0.098 (auc: 0.897 f1: 0.618)\n"
     ]
    },
    {
     "name": "stderr",
     "output_type": "stream",
     "text": [
      "100%|██████████████████████████████████████████| 16/16 [00:00<00:00, 169.88it/s]\n",
      " 90%|██████████████████████████████████████▋    | 18/20 [00:04<00:00,  3.79it/s]"
     ]
    },
    {
     "name": "stdout",
     "output_type": "stream",
     "text": [
      "Epoch 17:  (best: False)train loss = 0.094 (auc: 0.913 f1: 0.708), validation loss = 0.098 (auc: 0.895 f1: 0.614)\n"
     ]
    },
    {
     "name": "stderr",
     "output_type": "stream",
     "text": [
      "100%|██████████████████████████████████████████| 16/16 [00:00<00:00, 167.42it/s]\n",
      " 95%|████████████████████████████████████████▊  | 19/20 [00:05<00:00,  3.82it/s]"
     ]
    },
    {
     "name": "stdout",
     "output_type": "stream",
     "text": [
      "Epoch 18:  (best: False)train loss = 0.094 (auc: 0.915 f1: 0.709), validation loss = 0.098 (auc: 0.896 f1: 0.613)\n"
     ]
    },
    {
     "name": "stderr",
     "output_type": "stream",
     "text": [
      "100%|██████████████████████████████████████████| 16/16 [00:00<00:00, 169.18it/s]\n",
      "100%|███████████████████████████████████████████| 20/20 [00:05<00:00,  3.73it/s]\n"
     ]
    },
    {
     "name": "stdout",
     "output_type": "stream",
     "text": [
      "Epoch 19:  (best: False)train loss = 0.094 (auc: 0.919 f1: 0.717), validation loss = 0.098 (auc: 0.899 f1: 0.618)\n"
     ]
    },
    {
     "name": "stderr",
     "output_type": "stream",
     "text": [
      "100%|██████████████████████████████████████████| 16/16 [00:00<00:00, 171.40it/s]\n",
      "  5%|██▏                                         | 1/20 [00:00<00:04,  3.98it/s]"
     ]
    },
    {
     "name": "stdout",
     "output_type": "stream",
     "text": [
      "Epoch 0:  (best: True)train loss = 0.113 (auc: 0.831 f1: 0.200), validation loss = 0.114 (auc: 0.834 f1: 0.158)\n"
     ]
    },
    {
     "name": "stderr",
     "output_type": "stream",
     "text": [
      "100%|██████████████████████████████████████████| 16/16 [00:00<00:00, 168.10it/s]\n",
      " 10%|████▍                                       | 2/20 [00:00<00:04,  3.83it/s]"
     ]
    },
    {
     "name": "stdout",
     "output_type": "stream",
     "text": [
      "Epoch 1:  (best: True)train loss = 0.108 (auc: 0.796 f1: 0.258), validation loss = 0.108 (auc: 0.792 f1: 0.233)\n"
     ]
    },
    {
     "name": "stderr",
     "output_type": "stream",
     "text": [
      "100%|██████████████████████████████████████████| 16/16 [00:00<00:00, 162.22it/s]\n",
      " 15%|██████▌                                     | 3/20 [00:00<00:04,  3.81it/s]"
     ]
    },
    {
     "name": "stdout",
     "output_type": "stream",
     "text": [
      "Epoch 2:  (best: True)train loss = 0.103 (auc: 0.848 f1: 0.467), validation loss = 0.104 (auc: 0.850 f1: 0.424)\n"
     ]
    },
    {
     "name": "stderr",
     "output_type": "stream",
     "text": [
      "100%|██████████████████████████████████████████| 16/16 [00:00<00:00, 167.81it/s]\n",
      " 20%|████████▊                                   | 4/20 [00:01<00:04,  3.85it/s]"
     ]
    },
    {
     "name": "stdout",
     "output_type": "stream",
     "text": [
      "Epoch 3:  (best: True)train loss = 0.100 (auc: 0.860 f1: 0.499), validation loss = 0.101 (auc: 0.861 f1: 0.472)\n"
     ]
    },
    {
     "name": "stderr",
     "output_type": "stream",
     "text": [
      "100%|██████████████████████████████████████████| 16/16 [00:00<00:00, 166.65it/s]\n",
      " 25%|███████████                                 | 5/20 [00:01<00:03,  3.82it/s]"
     ]
    },
    {
     "name": "stdout",
     "output_type": "stream",
     "text": [
      "Epoch 4:  (best: True)train loss = 0.099 (auc: 0.868 f1: 0.580), validation loss = 0.100 (auc: 0.866 f1: 0.538)\n"
     ]
    },
    {
     "name": "stderr",
     "output_type": "stream",
     "text": [
      "100%|██████████████████████████████████████████| 16/16 [00:00<00:00, 161.46it/s]\n",
      " 30%|█████████████▏                              | 6/20 [00:01<00:03,  3.81it/s]"
     ]
    },
    {
     "name": "stdout",
     "output_type": "stream",
     "text": [
      "Epoch 5:  (best: True)train loss = 0.098 (auc: 0.876 f1: 0.581), validation loss = 0.099 (auc: 0.874 f1: 0.541)\n"
     ]
    },
    {
     "name": "stderr",
     "output_type": "stream",
     "text": [
      "100%|██████████████████████████████████████████| 16/16 [00:00<00:00, 160.22it/s]\n",
      " 35%|███████████████▍                            | 7/20 [00:01<00:03,  3.81it/s]"
     ]
    },
    {
     "name": "stdout",
     "output_type": "stream",
     "text": [
      "Epoch 6:  (best: False)train loss = 0.097 (auc: 0.882 f1: 0.579), validation loss = 0.099 (auc: 0.880 f1: 0.530)\n"
     ]
    },
    {
     "name": "stderr",
     "output_type": "stream",
     "text": [
      "100%|██████████████████████████████████████████| 16/16 [00:00<00:00, 154.30it/s]\n",
      " 40%|█████████████████▌                          | 8/20 [00:02<00:03,  3.77it/s]"
     ]
    },
    {
     "name": "stdout",
     "output_type": "stream",
     "text": [
      "Epoch 7:  (best: True)train loss = 0.097 (auc: 0.885 f1: 0.595), validation loss = 0.099 (auc: 0.883 f1: 0.562)\n"
     ]
    },
    {
     "name": "stderr",
     "output_type": "stream",
     "text": [
      "100%|██████████████████████████████████████████| 16/16 [00:00<00:00, 168.20it/s]\n",
      " 45%|███████████████████▊                        | 9/20 [00:02<00:02,  3.79it/s]"
     ]
    },
    {
     "name": "stdout",
     "output_type": "stream",
     "text": [
      "Epoch 8:  (best: True)train loss = 0.096 (auc: 0.891 f1: 0.635), validation loss = 0.099 (auc: 0.884 f1: 0.573)\n"
     ]
    },
    {
     "name": "stderr",
     "output_type": "stream",
     "text": [
      "100%|██████████████████████████████████████████| 16/16 [00:00<00:00, 167.12it/s]\n",
      " 50%|█████████████████████▌                     | 10/20 [00:02<00:02,  3.82it/s]"
     ]
    },
    {
     "name": "stdout",
     "output_type": "stream",
     "text": [
      "Epoch 9:  (best: True)train loss = 0.096 (auc: 0.898 f1: 0.651), validation loss = 0.098 (auc: 0.886 f1: 0.602)\n"
     ]
    },
    {
     "name": "stderr",
     "output_type": "stream",
     "text": [
      "100%|██████████████████████████████████████████| 16/16 [00:00<00:00, 166.30it/s]\n",
      " 55%|███████████████████████▋                   | 11/20 [00:02<00:02,  3.82it/s]"
     ]
    },
    {
     "name": "stdout",
     "output_type": "stream",
     "text": [
      "Epoch 10:  (best: True)train loss = 0.095 (auc: 0.902 f1: 0.685), validation loss = 0.098 (auc: 0.887 f1: 0.623)\n"
     ]
    },
    {
     "name": "stderr",
     "output_type": "stream",
     "text": [
      "100%|██████████████████████████████████████████| 16/16 [00:00<00:00, 153.26it/s]\n",
      " 60%|█████████████████████████▊                 | 12/20 [00:03<00:02,  3.81it/s]"
     ]
    },
    {
     "name": "stdout",
     "output_type": "stream",
     "text": [
      "Epoch 11:  (best: True)train loss = 0.095 (auc: 0.906 f1: 0.683), validation loss = 0.098 (auc: 0.886 f1: 0.629)\n"
     ]
    },
    {
     "name": "stderr",
     "output_type": "stream",
     "text": [
      "100%|██████████████████████████████████████████| 16/16 [00:00<00:00, 167.64it/s]\n",
      " 65%|███████████████████████████▉               | 13/20 [00:03<00:01,  3.85it/s]"
     ]
    },
    {
     "name": "stdout",
     "output_type": "stream",
     "text": [
      "Epoch 12:  (best: True)train loss = 0.095 (auc: 0.908 f1: 0.692), validation loss = 0.098 (auc: 0.887 f1: 0.634)\n"
     ]
    },
    {
     "name": "stderr",
     "output_type": "stream",
     "text": [
      "100%|██████████████████████████████████████████| 16/16 [00:00<00:00, 156.53it/s]\n",
      " 70%|██████████████████████████████             | 14/20 [00:03<00:01,  3.83it/s]"
     ]
    },
    {
     "name": "stdout",
     "output_type": "stream",
     "text": [
      "Epoch 13:  (best: False)train loss = 0.095 (auc: 0.913 f1: 0.696), validation loss = 0.098 (auc: 0.888 f1: 0.619)\n"
     ]
    },
    {
     "name": "stderr",
     "output_type": "stream",
     "text": [
      "100%|██████████████████████████████████████████| 16/16 [00:00<00:00, 173.12it/s]\n",
      " 75%|████████████████████████████████▎          | 15/20 [00:03<00:01,  3.83it/s]"
     ]
    },
    {
     "name": "stdout",
     "output_type": "stream",
     "text": [
      "Epoch 14:  (best: True)train loss = 0.094 (auc: 0.915 f1: 0.722), validation loss = 0.098 (auc: 0.888 f1: 0.642)\n"
     ]
    },
    {
     "name": "stderr",
     "output_type": "stream",
     "text": [
      "100%|██████████████████████████████████████████| 16/16 [00:00<00:00, 155.73it/s]\n",
      " 80%|██████████████████████████████████▍        | 16/20 [00:04<00:01,  3.78it/s]"
     ]
    },
    {
     "name": "stdout",
     "output_type": "stream",
     "text": [
      "Epoch 15:  (best: False)train loss = 0.094 (auc: 0.916 f1: 0.722), validation loss = 0.098 (auc: 0.882 f1: 0.637)\n"
     ]
    },
    {
     "name": "stderr",
     "output_type": "stream",
     "text": [
      "100%|██████████████████████████████████████████| 16/16 [00:00<00:00, 151.91it/s]\n",
      " 85%|████████████████████████████████████▌      | 17/20 [00:04<00:00,  3.77it/s]"
     ]
    },
    {
     "name": "stdout",
     "output_type": "stream",
     "text": [
      "Epoch 16:  (best: True)train loss = 0.094 (auc: 0.916 f1: 0.732), validation loss = 0.098 (auc: 0.888 f1: 0.647)\n"
     ]
    },
    {
     "name": "stderr",
     "output_type": "stream",
     "text": [
      "100%|██████████████████████████████████████████| 16/16 [00:00<00:00, 147.93it/s]\n",
      " 90%|██████████████████████████████████████▋    | 18/20 [00:04<00:00,  3.75it/s]"
     ]
    },
    {
     "name": "stdout",
     "output_type": "stream",
     "text": [
      "Epoch 17:  (best: True)train loss = 0.094 (auc: 0.917 f1: 0.729), validation loss = 0.097 (auc: 0.884 f1: 0.649)\n"
     ]
    },
    {
     "name": "stderr",
     "output_type": "stream",
     "text": [
      "100%|██████████████████████████████████████████| 16/16 [00:00<00:00, 146.55it/s]\n",
      " 95%|████████████████████████████████████████▊  | 19/20 [00:05<00:00,  3.69it/s]"
     ]
    },
    {
     "name": "stdout",
     "output_type": "stream",
     "text": [
      "Epoch 18:  (best: True)train loss = 0.094 (auc: 0.917 f1: 0.727), validation loss = 0.097 (auc: 0.886 f1: 0.658)\n"
     ]
    },
    {
     "name": "stderr",
     "output_type": "stream",
     "text": [
      "100%|██████████████████████████████████████████| 16/16 [00:00<00:00, 164.98it/s]\n",
      "100%|███████████████████████████████████████████| 20/20 [00:05<00:00,  3.79it/s]\n"
     ]
    },
    {
     "name": "stdout",
     "output_type": "stream",
     "text": [
      "Epoch 19:  (best: False)train loss = 0.093 (auc: 0.918 f1: 0.744), validation loss = 0.097 (auc: 0.886 f1: 0.658)\n"
     ]
    },
    {
     "name": "stderr",
     "output_type": "stream",
     "text": [
      "100%|██████████████████████████████████████████| 16/16 [00:00<00:00, 167.14it/s]\n",
      "  5%|██▏                                         | 1/20 [00:00<00:04,  3.96it/s]"
     ]
    },
    {
     "name": "stdout",
     "output_type": "stream",
     "text": [
      "Epoch 0:  (best: True)train loss = 0.114 (auc: 0.868 f1: 0.159), validation loss = 0.114 (auc: 0.864 f1: 0.107)\n"
     ]
    },
    {
     "name": "stderr",
     "output_type": "stream",
     "text": [
      "100%|██████████████████████████████████████████| 16/16 [00:00<00:00, 169.67it/s]\n",
      " 10%|████▍                                       | 2/20 [00:00<00:04,  3.94it/s]"
     ]
    },
    {
     "name": "stdout",
     "output_type": "stream",
     "text": [
      "Epoch 1:  (best: True)train loss = 0.107 (auc: 0.835 f1: 0.315), validation loss = 0.107 (auc: 0.836 f1: 0.293)\n"
     ]
    },
    {
     "name": "stderr",
     "output_type": "stream",
     "text": [
      "100%|██████████████████████████████████████████| 16/16 [00:00<00:00, 172.00it/s]\n",
      " 15%|██████▌                                     | 3/20 [00:00<00:04,  3.87it/s]"
     ]
    },
    {
     "name": "stdout",
     "output_type": "stream",
     "text": [
      "Epoch 2:  (best: True)train loss = 0.103 (auc: 0.858 f1: 0.382), validation loss = 0.104 (auc: 0.867 f1: 0.359)\n"
     ]
    },
    {
     "name": "stderr",
     "output_type": "stream",
     "text": [
      "100%|██████████████████████████████████████████| 16/16 [00:00<00:00, 148.24it/s]\n",
      " 20%|████████▊                                   | 4/20 [00:01<00:04,  3.82it/s]"
     ]
    },
    {
     "name": "stdout",
     "output_type": "stream",
     "text": [
      "Epoch 3:  (best: True)train loss = 0.101 (auc: 0.865 f1: 0.505), validation loss = 0.102 (auc: 0.871 f1: 0.465)\n"
     ]
    },
    {
     "name": "stderr",
     "output_type": "stream",
     "text": [
      "100%|██████████████████████████████████████████| 16/16 [00:00<00:00, 141.25it/s]\n",
      " 25%|███████████                                 | 5/20 [00:01<00:03,  3.75it/s]"
     ]
    },
    {
     "name": "stdout",
     "output_type": "stream",
     "text": [
      "Epoch 4:  (best: True)train loss = 0.099 (auc: 0.875 f1: 0.542), validation loss = 0.100 (auc: 0.879 f1: 0.518)\n"
     ]
    },
    {
     "name": "stderr",
     "output_type": "stream",
     "text": [
      "100%|██████████████████████████████████████████| 16/16 [00:00<00:00, 145.09it/s]\n",
      " 30%|█████████████▏                              | 6/20 [00:01<00:03,  3.76it/s]"
     ]
    },
    {
     "name": "stdout",
     "output_type": "stream",
     "text": [
      "Epoch 5:  (best: False)train loss = 0.098 (auc: 0.876 f1: 0.545), validation loss = 0.100 (auc: 0.882 f1: 0.516)\n"
     ]
    },
    {
     "name": "stderr",
     "output_type": "stream",
     "text": [
      "100%|██████████████████████████████████████████| 16/16 [00:00<00:00, 172.62it/s]\n",
      " 35%|███████████████▍                            | 7/20 [00:01<00:03,  3.81it/s]"
     ]
    },
    {
     "name": "stdout",
     "output_type": "stream",
     "text": [
      "Epoch 6:  (best: True)train loss = 0.097 (auc: 0.882 f1: 0.576), validation loss = 0.099 (auc: 0.889 f1: 0.546)\n"
     ]
    },
    {
     "name": "stderr",
     "output_type": "stream",
     "text": [
      "100%|██████████████████████████████████████████| 16/16 [00:00<00:00, 164.82it/s]\n",
      " 40%|█████████████████▌                          | 8/20 [00:02<00:03,  3.85it/s]"
     ]
    },
    {
     "name": "stdout",
     "output_type": "stream",
     "text": [
      "Epoch 7:  (best: True)train loss = 0.097 (auc: 0.889 f1: 0.622), validation loss = 0.099 (auc: 0.894 f1: 0.577)\n"
     ]
    },
    {
     "name": "stderr",
     "output_type": "stream",
     "text": [
      "100%|██████████████████████████████████████████| 16/16 [00:00<00:00, 174.13it/s]\n",
      " 45%|███████████████████▊                        | 9/20 [00:02<00:02,  3.83it/s]"
     ]
    },
    {
     "name": "stdout",
     "output_type": "stream",
     "text": [
      "Epoch 8:  (best: True)train loss = 0.096 (auc: 0.897 f1: 0.663), validation loss = 0.099 (auc: 0.899 f1: 0.596)\n"
     ]
    },
    {
     "name": "stderr",
     "output_type": "stream",
     "text": [
      "100%|██████████████████████████████████████████| 16/16 [00:00<00:00, 150.72it/s]\n",
      " 50%|█████████████████████▌                     | 10/20 [00:02<00:02,  3.72it/s]"
     ]
    },
    {
     "name": "stdout",
     "output_type": "stream",
     "text": [
      "Epoch 9:  (best: True)train loss = 0.096 (auc: 0.905 f1: 0.668), validation loss = 0.098 (auc: 0.905 f1: 0.625)\n"
     ]
    },
    {
     "name": "stderr",
     "output_type": "stream",
     "text": [
      "100%|██████████████████████████████████████████| 16/16 [00:00<00:00, 172.07it/s]\n",
      " 55%|███████████████████████▋                   | 11/20 [00:02<00:02,  3.79it/s]"
     ]
    },
    {
     "name": "stdout",
     "output_type": "stream",
     "text": [
      "Epoch 10:  (best: True)train loss = 0.095 (auc: 0.907 f1: 0.679), validation loss = 0.098 (auc: 0.902 f1: 0.637)\n"
     ]
    },
    {
     "name": "stderr",
     "output_type": "stream",
     "text": [
      "100%|██████████████████████████████████████████| 16/16 [00:00<00:00, 167.32it/s]\n",
      " 60%|█████████████████████████▊                 | 12/20 [00:03<00:02,  3.66it/s]"
     ]
    },
    {
     "name": "stdout",
     "output_type": "stream",
     "text": [
      "Epoch 11:  (best: False)train loss = 0.095 (auc: 0.908 f1: 0.684), validation loss = 0.098 (auc: 0.903 f1: 0.624)\n"
     ]
    },
    {
     "name": "stderr",
     "output_type": "stream",
     "text": [
      "100%|██████████████████████████████████████████| 16/16 [00:00<00:00, 160.66it/s]\n",
      " 65%|███████████████████████████▉               | 13/20 [00:03<00:01,  3.72it/s]"
     ]
    },
    {
     "name": "stdout",
     "output_type": "stream",
     "text": [
      "Epoch 12:  (best: True)train loss = 0.095 (auc: 0.913 f1: 0.700), validation loss = 0.098 (auc: 0.905 f1: 0.640)\n"
     ]
    },
    {
     "name": "stderr",
     "output_type": "stream",
     "text": [
      "100%|██████████████████████████████████████████| 16/16 [00:00<00:00, 168.60it/s]\n",
      " 70%|██████████████████████████████             | 14/20 [00:03<00:01,  3.80it/s]"
     ]
    },
    {
     "name": "stdout",
     "output_type": "stream",
     "text": [
      "Epoch 13:  (best: False)train loss = 0.094 (auc: 0.913 f1: 0.737), validation loss = 0.098 (auc: 0.901 f1: 0.637)\n"
     ]
    },
    {
     "name": "stderr",
     "output_type": "stream",
     "text": [
      "100%|██████████████████████████████████████████| 16/16 [00:00<00:00, 172.33it/s]\n",
      " 75%|████████████████████████████████▎          | 15/20 [00:03<00:01,  3.86it/s]"
     ]
    },
    {
     "name": "stdout",
     "output_type": "stream",
     "text": [
      "Epoch 14:  (best: True)train loss = 0.094 (auc: 0.918 f1: 0.742), validation loss = 0.098 (auc: 0.905 f1: 0.660)\n"
     ]
    },
    {
     "name": "stderr",
     "output_type": "stream",
     "text": [
      "100%|██████████████████████████████████████████| 16/16 [00:00<00:00, 167.98it/s]\n",
      " 80%|██████████████████████████████████▍        | 16/20 [00:04<00:01,  3.89it/s]"
     ]
    },
    {
     "name": "stdout",
     "output_type": "stream",
     "text": [
      "Epoch 15:  (best: False)train loss = 0.093 (auc: 0.919 f1: 0.746), validation loss = 0.097 (auc: 0.905 f1: 0.660)\n"
     ]
    },
    {
     "name": "stderr",
     "output_type": "stream",
     "text": [
      "100%|██████████████████████████████████████████| 16/16 [00:00<00:00, 164.60it/s]\n",
      " 85%|████████████████████████████████████▌      | 17/20 [00:04<00:00,  3.86it/s]"
     ]
    },
    {
     "name": "stdout",
     "output_type": "stream",
     "text": [
      "Epoch 16:  (best: True)train loss = 0.093 (auc: 0.922 f1: 0.750), validation loss = 0.097 (auc: 0.909 f1: 0.668)\n"
     ]
    },
    {
     "name": "stderr",
     "output_type": "stream",
     "text": [
      "100%|██████████████████████████████████████████| 16/16 [00:00<00:00, 153.23it/s]\n",
      " 90%|██████████████████████████████████████▋    | 18/20 [00:04<00:00,  3.81it/s]"
     ]
    },
    {
     "name": "stdout",
     "output_type": "stream",
     "text": [
      "Epoch 17:  (best: False)train loss = 0.093 (auc: 0.923 f1: 0.749), validation loss = 0.097 (auc: 0.910 f1: 0.655)\n"
     ]
    },
    {
     "name": "stderr",
     "output_type": "stream",
     "text": [
      "100%|██████████████████████████████████████████| 16/16 [00:00<00:00, 166.14it/s]\n",
      " 95%|████████████████████████████████████████▊  | 19/20 [00:04<00:00,  3.83it/s]"
     ]
    },
    {
     "name": "stdout",
     "output_type": "stream",
     "text": [
      "Epoch 18:  (best: False)train loss = 0.093 (auc: 0.923 f1: 0.750), validation loss = 0.097 (auc: 0.909 f1: 0.661)\n"
     ]
    },
    {
     "name": "stderr",
     "output_type": "stream",
     "text": [
      "100%|██████████████████████████████████████████| 16/16 [00:00<00:00, 171.02it/s]\n",
      "100%|███████████████████████████████████████████| 20/20 [00:05<00:00,  3.81it/s]\n"
     ]
    },
    {
     "name": "stdout",
     "output_type": "stream",
     "text": [
      "Epoch 19:  (best: False)train loss = 0.093 (auc: 0.923 f1: 0.750), validation loss = 0.097 (auc: 0.909 f1: 0.660)\n"
     ]
    },
    {
     "name": "stderr",
     "output_type": "stream",
     "text": [
      "100%|██████████████████████████████████████████| 16/16 [00:00<00:00, 171.54it/s]\n",
      "  5%|██▏                                         | 1/20 [00:00<00:04,  4.05it/s]"
     ]
    },
    {
     "name": "stdout",
     "output_type": "stream",
     "text": [
      "Epoch 0:  (best: True)train loss = 0.114 (auc: 0.853 f1: 0.234), validation loss = 0.114 (auc: 0.847 f1: 0.179)\n"
     ]
    },
    {
     "name": "stderr",
     "output_type": "stream",
     "text": [
      "100%|██████████████████████████████████████████| 16/16 [00:00<00:00, 173.15it/s]\n",
      " 10%|████▍                                       | 2/20 [00:00<00:04,  4.02it/s]"
     ]
    },
    {
     "name": "stdout",
     "output_type": "stream",
     "text": [
      "Epoch 1:  (best: True)train loss = 0.105 (auc: 0.829 f1: 0.357), validation loss = 0.107 (auc: 0.840 f1: 0.351)\n"
     ]
    },
    {
     "name": "stderr",
     "output_type": "stream",
     "text": [
      "100%|██████████████████████████████████████████| 16/16 [00:00<00:00, 167.07it/s]\n",
      " 15%|██████▌                                     | 3/20 [00:00<00:04,  3.97it/s]"
     ]
    },
    {
     "name": "stdout",
     "output_type": "stream",
     "text": [
      "Epoch 2:  (best: True)train loss = 0.102 (auc: 0.832 f1: 0.452), validation loss = 0.103 (auc: 0.846 f1: 0.417)\n"
     ]
    },
    {
     "name": "stderr",
     "output_type": "stream",
     "text": [
      "100%|██████████████████████████████████████████| 16/16 [00:00<00:00, 167.31it/s]\n",
      " 20%|████████▊                                   | 4/20 [00:01<00:04,  3.93it/s]"
     ]
    },
    {
     "name": "stdout",
     "output_type": "stream",
     "text": [
      "Epoch 3:  (best: True)train loss = 0.100 (auc: 0.862 f1: 0.520), validation loss = 0.101 (auc: 0.869 f1: 0.507)\n"
     ]
    },
    {
     "name": "stderr",
     "output_type": "stream",
     "text": [
      "100%|██████████████████████████████████████████| 16/16 [00:00<00:00, 167.29it/s]\n",
      " 25%|███████████                                 | 5/20 [00:01<00:03,  3.93it/s]"
     ]
    },
    {
     "name": "stdout",
     "output_type": "stream",
     "text": [
      "Epoch 4:  (best: True)train loss = 0.099 (auc: 0.869 f1: 0.544), validation loss = 0.100 (auc: 0.876 f1: 0.517)\n"
     ]
    },
    {
     "name": "stderr",
     "output_type": "stream",
     "text": [
      "100%|██████████████████████████████████████████| 16/16 [00:00<00:00, 172.20it/s]\n",
      " 30%|█████████████▏                              | 6/20 [00:01<00:03,  3.95it/s]"
     ]
    },
    {
     "name": "stdout",
     "output_type": "stream",
     "text": [
      "Epoch 5:  (best: True)train loss = 0.098 (auc: 0.877 f1: 0.576), validation loss = 0.099 (auc: 0.885 f1: 0.546)\n"
     ]
    },
    {
     "name": "stderr",
     "output_type": "stream",
     "text": [
      "100%|██████████████████████████████████████████| 16/16 [00:00<00:00, 168.50it/s]\n",
      " 35%|███████████████▍                            | 7/20 [00:01<00:03,  3.93it/s]"
     ]
    },
    {
     "name": "stdout",
     "output_type": "stream",
     "text": [
      "Epoch 6:  (best: False)train loss = 0.098 (auc: 0.882 f1: 0.578), validation loss = 0.099 (auc: 0.892 f1: 0.541)\n"
     ]
    },
    {
     "name": "stderr",
     "output_type": "stream",
     "text": [
      "100%|██████████████████████████████████████████| 16/16 [00:00<00:00, 171.13it/s]\n",
      " 40%|█████████████████▌                          | 8/20 [00:02<00:03,  3.95it/s]"
     ]
    },
    {
     "name": "stdout",
     "output_type": "stream",
     "text": [
      "Epoch 7:  (best: False)train loss = 0.097 (auc: 0.887 f1: 0.581), validation loss = 0.099 (auc: 0.892 f1: 0.546)\n"
     ]
    },
    {
     "name": "stderr",
     "output_type": "stream",
     "text": [
      "100%|██████████████████████████████████████████| 16/16 [00:00<00:00, 172.30it/s]\n",
      " 45%|███████████████████▊                        | 9/20 [00:02<00:02,  3.93it/s]"
     ]
    },
    {
     "name": "stdout",
     "output_type": "stream",
     "text": [
      "Epoch 8:  (best: False)train loss = 0.097 (auc: 0.886 f1: 0.581), validation loss = 0.099 (auc: 0.891 f1: 0.543)\n"
     ]
    },
    {
     "name": "stderr",
     "output_type": "stream",
     "text": [
      "100%|██████████████████████████████████████████| 16/16 [00:00<00:00, 171.19it/s]\n",
      " 50%|█████████████████████▌                     | 10/20 [00:02<00:02,  3.95it/s]"
     ]
    },
    {
     "name": "stdout",
     "output_type": "stream",
     "text": [
      "Epoch 9:  (best: True)train loss = 0.097 (auc: 0.889 f1: 0.611), validation loss = 0.099 (auc: 0.895 f1: 0.564)\n"
     ]
    },
    {
     "name": "stderr",
     "output_type": "stream",
     "text": [
      "100%|██████████████████████████████████████████| 16/16 [00:00<00:00, 172.98it/s]\n",
      " 55%|███████████████████████▋                   | 11/20 [00:02<00:02,  3.96it/s]"
     ]
    },
    {
     "name": "stdout",
     "output_type": "stream",
     "text": [
      "Epoch 10:  (best: True)train loss = 0.097 (auc: 0.895 f1: 0.624), validation loss = 0.099 (auc: 0.896 f1: 0.575)\n"
     ]
    },
    {
     "name": "stderr",
     "output_type": "stream",
     "text": [
      "100%|██████████████████████████████████████████| 16/16 [00:00<00:00, 166.87it/s]\n",
      " 60%|█████████████████████████▊                 | 12/20 [00:03<00:02,  3.95it/s]"
     ]
    },
    {
     "name": "stdout",
     "output_type": "stream",
     "text": [
      "Epoch 11:  (best: True)train loss = 0.096 (auc: 0.899 f1: 0.646), validation loss = 0.099 (auc: 0.892 f1: 0.597)\n"
     ]
    },
    {
     "name": "stderr",
     "output_type": "stream",
     "text": [
      "100%|██████████████████████████████████████████| 16/16 [00:00<00:00, 163.68it/s]\n",
      " 65%|███████████████████████████▉               | 13/20 [00:03<00:01,  3.91it/s]"
     ]
    },
    {
     "name": "stdout",
     "output_type": "stream",
     "text": [
      "Epoch 12:  (best: True)train loss = 0.096 (auc: 0.899 f1: 0.644), validation loss = 0.098 (auc: 0.892 f1: 0.602)\n"
     ]
    },
    {
     "name": "stderr",
     "output_type": "stream",
     "text": [
      "100%|██████████████████████████████████████████| 16/16 [00:00<00:00, 172.64it/s]\n",
      " 70%|██████████████████████████████             | 14/20 [00:03<00:01,  3.94it/s]"
     ]
    },
    {
     "name": "stdout",
     "output_type": "stream",
     "text": [
      "Epoch 13:  (best: False)train loss = 0.096 (auc: 0.898 f1: 0.646), validation loss = 0.098 (auc: 0.886 f1: 0.602)\n"
     ]
    },
    {
     "name": "stderr",
     "output_type": "stream",
     "text": [
      "100%|██████████████████████████████████████████| 16/16 [00:00<00:00, 170.60it/s]\n",
      " 75%|████████████████████████████████▎          | 15/20 [00:03<00:01,  3.94it/s]"
     ]
    },
    {
     "name": "stdout",
     "output_type": "stream",
     "text": [
      "Epoch 14:  (best: True)train loss = 0.096 (auc: 0.903 f1: 0.647), validation loss = 0.098 (auc: 0.890 f1: 0.604)\n"
     ]
    },
    {
     "name": "stderr",
     "output_type": "stream",
     "text": [
      "100%|██████████████████████████████████████████| 16/16 [00:00<00:00, 171.48it/s]\n",
      " 80%|██████████████████████████████████▍        | 16/20 [00:04<00:01,  3.95it/s]"
     ]
    },
    {
     "name": "stdout",
     "output_type": "stream",
     "text": [
      "Epoch 15:  (best: True)train loss = 0.096 (auc: 0.905 f1: 0.664), validation loss = 0.098 (auc: 0.891 f1: 0.604)\n"
     ]
    },
    {
     "name": "stderr",
     "output_type": "stream",
     "text": [
      "100%|██████████████████████████████████████████| 16/16 [00:00<00:00, 161.57it/s]\n",
      " 85%|████████████████████████████████████▌      | 17/20 [00:04<00:00,  3.88it/s]"
     ]
    },
    {
     "name": "stdout",
     "output_type": "stream",
     "text": [
      "Epoch 16:  (best: False)train loss = 0.096 (auc: 0.891 f1: 0.658), validation loss = 0.099 (auc: 0.877 f1: 0.598)\n"
     ]
    },
    {
     "name": "stderr",
     "output_type": "stream",
     "text": [
      "100%|██████████████████████████████████████████| 16/16 [00:00<00:00, 165.98it/s]\n",
      " 90%|██████████████████████████████████████▋    | 18/20 [00:04<00:00,  3.89it/s]"
     ]
    },
    {
     "name": "stdout",
     "output_type": "stream",
     "text": [
      "Epoch 17:  (best: False)train loss = 0.095 (auc: 0.904 f1: 0.670), validation loss = 0.098 (auc: 0.892 f1: 0.596)\n"
     ]
    },
    {
     "name": "stderr",
     "output_type": "stream",
     "text": [
      "100%|██████████████████████████████████████████| 16/16 [00:00<00:00, 170.17it/s]\n",
      " 95%|████████████████████████████████████████▊  | 19/20 [00:04<00:00,  3.89it/s]"
     ]
    },
    {
     "name": "stdout",
     "output_type": "stream",
     "text": [
      "Epoch 18:  (best: True)train loss = 0.096 (auc: 0.907 f1: 0.680), validation loss = 0.098 (auc: 0.892 f1: 0.617)\n"
     ]
    },
    {
     "name": "stderr",
     "output_type": "stream",
     "text": [
      "100%|██████████████████████████████████████████| 16/16 [00:00<00:00, 168.75it/s]\n",
      "100%|███████████████████████████████████████████| 20/20 [00:05<00:00,  3.93it/s]\n"
     ]
    },
    {
     "name": "stdout",
     "output_type": "stream",
     "text": [
      "Epoch 19:  (best: True)train loss = 0.095 (auc: 0.917 f1: 0.710), validation loss = 0.098 (auc: 0.893 f1: 0.638)\n"
     ]
    },
    {
     "name": "stderr",
     "output_type": "stream",
     "text": [
      "100%|██████████████████████████████████████████| 16/16 [00:00<00:00, 170.36it/s]\n",
      "  5%|██▏                                         | 1/20 [00:00<00:04,  3.92it/s]"
     ]
    },
    {
     "name": "stdout",
     "output_type": "stream",
     "text": [
      "Epoch 0:  (best: True)train loss = 0.114 (auc: 0.837 f1: 0.148), validation loss = 0.114 (auc: 0.813 f1: 0.128)\n"
     ]
    },
    {
     "name": "stderr",
     "output_type": "stream",
     "text": [
      "100%|██████████████████████████████████████████| 16/16 [00:00<00:00, 172.74it/s]\n",
      " 10%|████▍                                       | 2/20 [00:00<00:04,  3.95it/s]"
     ]
    },
    {
     "name": "stdout",
     "output_type": "stream",
     "text": [
      "Epoch 1:  (best: True)train loss = 0.105 (auc: 0.825 f1: 0.342), validation loss = 0.106 (auc: 0.828 f1: 0.324)\n"
     ]
    },
    {
     "name": "stderr",
     "output_type": "stream",
     "text": [
      "100%|██████████████████████████████████████████| 16/16 [00:00<00:00, 170.58it/s]\n",
      " 15%|██████▌                                     | 3/20 [00:00<00:04,  3.93it/s]"
     ]
    },
    {
     "name": "stdout",
     "output_type": "stream",
     "text": [
      "Epoch 2:  (best: True)train loss = 0.101 (auc: 0.863 f1: 0.466), validation loss = 0.103 (auc: 0.863 f1: 0.448)\n"
     ]
    },
    {
     "name": "stderr",
     "output_type": "stream",
     "text": [
      "100%|██████████████████████████████████████████| 16/16 [00:00<00:00, 169.13it/s]\n",
      " 20%|████████▊                                   | 4/20 [00:01<00:04,  3.92it/s]"
     ]
    },
    {
     "name": "stdout",
     "output_type": "stream",
     "text": [
      "Epoch 3:  (best: True)train loss = 0.100 (auc: 0.860 f1: 0.509), validation loss = 0.101 (auc: 0.862 f1: 0.474)\n"
     ]
    },
    {
     "name": "stderr",
     "output_type": "stream",
     "text": [
      "100%|██████████████████████████████████████████| 16/16 [00:00<00:00, 168.08it/s]\n",
      " 25%|███████████                                 | 5/20 [00:01<00:03,  3.89it/s]"
     ]
    },
    {
     "name": "stdout",
     "output_type": "stream",
     "text": [
      "Epoch 4:  (best: True)train loss = 0.099 (auc: 0.863 f1: 0.513), validation loss = 0.101 (auc: 0.867 f1: 0.484)\n"
     ]
    },
    {
     "name": "stderr",
     "output_type": "stream",
     "text": [
      "100%|██████████████████████████████████████████| 16/16 [00:00<00:00, 158.45it/s]\n",
      " 30%|█████████████▏                              | 6/20 [00:01<00:03,  3.84it/s]"
     ]
    },
    {
     "name": "stdout",
     "output_type": "stream",
     "text": [
      "Epoch 5:  (best: False)train loss = 0.099 (auc: 0.871 f1: 0.508), validation loss = 0.100 (auc: 0.873 f1: 0.481)\n"
     ]
    },
    {
     "name": "stderr",
     "output_type": "stream",
     "text": [
      "100%|██████████████████████████████████████████| 16/16 [00:00<00:00, 163.60it/s]\n",
      " 35%|███████████████▍                            | 7/20 [00:01<00:03,  3.82it/s]"
     ]
    },
    {
     "name": "stdout",
     "output_type": "stream",
     "text": [
      "Epoch 6:  (best: True)train loss = 0.099 (auc: 0.876 f1: 0.553), validation loss = 0.100 (auc: 0.879 f1: 0.512)\n"
     ]
    },
    {
     "name": "stderr",
     "output_type": "stream",
     "text": [
      "100%|██████████████████████████████████████████| 16/16 [00:00<00:00, 170.16it/s]\n",
      " 40%|█████████████████▌                          | 8/20 [00:02<00:03,  3.87it/s]"
     ]
    },
    {
     "name": "stdout",
     "output_type": "stream",
     "text": [
      "Epoch 7:  (best: False)train loss = 0.098 (auc: 0.881 f1: 0.557), validation loss = 0.100 (auc: 0.884 f1: 0.510)\n"
     ]
    },
    {
     "name": "stderr",
     "output_type": "stream",
     "text": [
      "100%|██████████████████████████████████████████| 16/16 [00:00<00:00, 174.94it/s]\n",
      " 45%|███████████████████▊                        | 9/20 [00:02<00:02,  3.92it/s]"
     ]
    },
    {
     "name": "stdout",
     "output_type": "stream",
     "text": [
      "Epoch 8:  (best: True)train loss = 0.098 (auc: 0.889 f1: 0.594), validation loss = 0.100 (auc: 0.888 f1: 0.525)\n"
     ]
    },
    {
     "name": "stderr",
     "output_type": "stream",
     "text": [
      "100%|██████████████████████████████████████████| 16/16 [00:00<00:00, 173.62it/s]\n",
      " 50%|█████████████████████▌                     | 10/20 [00:02<00:02,  3.96it/s]"
     ]
    },
    {
     "name": "stdout",
     "output_type": "stream",
     "text": [
      "Epoch 9:  (best: True)train loss = 0.097 (auc: 0.898 f1: 0.624), validation loss = 0.100 (auc: 0.889 f1: 0.566)\n"
     ]
    },
    {
     "name": "stderr",
     "output_type": "stream",
     "text": [
      "100%|██████████████████████████████████████████| 16/16 [00:00<00:00, 174.49it/s]\n",
      " 55%|███████████████████████▋                   | 11/20 [00:02<00:02,  3.98it/s]"
     ]
    },
    {
     "name": "stdout",
     "output_type": "stream",
     "text": [
      "Epoch 10:  (best: False)train loss = 0.097 (auc: 0.894 f1: 0.605), validation loss = 0.100 (auc: 0.887 f1: 0.541)\n"
     ]
    },
    {
     "name": "stderr",
     "output_type": "stream",
     "text": [
      "100%|██████████████████████████████████████████| 16/16 [00:00<00:00, 170.49it/s]\n",
      " 60%|█████████████████████████▊                 | 12/20 [00:03<00:02,  3.98it/s]"
     ]
    },
    {
     "name": "stdout",
     "output_type": "stream",
     "text": [
      "Epoch 11:  (best: True)train loss = 0.096 (auc: 0.902 f1: 0.649), validation loss = 0.099 (auc: 0.888 f1: 0.579)\n"
     ]
    },
    {
     "name": "stderr",
     "output_type": "stream",
     "text": [
      "100%|██████████████████████████████████████████| 16/16 [00:00<00:00, 168.53it/s]\n",
      " 65%|███████████████████████████▉               | 13/20 [00:03<00:01,  3.97it/s]"
     ]
    },
    {
     "name": "stdout",
     "output_type": "stream",
     "text": [
      "Epoch 12:  (best: False)train loss = 0.096 (auc: 0.902 f1: 0.650), validation loss = 0.099 (auc: 0.881 f1: 0.575)\n"
     ]
    },
    {
     "name": "stderr",
     "output_type": "stream",
     "text": [
      "100%|██████████████████████████████████████████| 16/16 [00:00<00:00, 171.99it/s]\n",
      " 70%|██████████████████████████████             | 14/20 [00:03<00:01,  3.99it/s]"
     ]
    },
    {
     "name": "stdout",
     "output_type": "stream",
     "text": [
      "Epoch 13:  (best: True)train loss = 0.096 (auc: 0.909 f1: 0.670), validation loss = 0.099 (auc: 0.889 f1: 0.597)\n"
     ]
    },
    {
     "name": "stderr",
     "output_type": "stream",
     "text": [
      "100%|██████████████████████████████████████████| 16/16 [00:00<00:00, 166.94it/s]\n",
      " 75%|████████████████████████████████▎          | 15/20 [00:03<00:01,  3.95it/s]"
     ]
    },
    {
     "name": "stdout",
     "output_type": "stream",
     "text": [
      "Epoch 14:  (best: True)train loss = 0.095 (auc: 0.907 f1: 0.674), validation loss = 0.098 (auc: 0.883 f1: 0.604)\n"
     ]
    },
    {
     "name": "stderr",
     "output_type": "stream",
     "text": [
      "100%|██████████████████████████████████████████| 16/16 [00:00<00:00, 172.39it/s]\n",
      " 80%|██████████████████████████████████▍        | 16/20 [00:04<00:01,  3.96it/s]"
     ]
    },
    {
     "name": "stdout",
     "output_type": "stream",
     "text": [
      "Epoch 15:  (best: False)train loss = 0.095 (auc: 0.910 f1: 0.682), validation loss = 0.098 (auc: 0.889 f1: 0.598)\n"
     ]
    },
    {
     "name": "stderr",
     "output_type": "stream",
     "text": [
      "100%|██████████████████████████████████████████| 16/16 [00:00<00:00, 171.60it/s]\n",
      " 85%|████████████████████████████████████▌      | 17/20 [00:04<00:00,  3.97it/s]"
     ]
    },
    {
     "name": "stdout",
     "output_type": "stream",
     "text": [
      "Epoch 16:  (best: False)train loss = 0.095 (auc: 0.913 f1: 0.683), validation loss = 0.098 (auc: 0.891 f1: 0.593)\n"
     ]
    },
    {
     "name": "stderr",
     "output_type": "stream",
     "text": [
      "100%|██████████████████████████████████████████| 16/16 [00:00<00:00, 166.19it/s]\n",
      " 90%|██████████████████████████████████████▋    | 18/20 [00:04<00:00,  3.94it/s]"
     ]
    },
    {
     "name": "stdout",
     "output_type": "stream",
     "text": [
      "Epoch 17:  (best: False)train loss = 0.095 (auc: 0.913 f1: 0.686), validation loss = 0.098 (auc: 0.886 f1: 0.597)\n"
     ]
    },
    {
     "name": "stderr",
     "output_type": "stream",
     "text": [
      "100%|██████████████████████████████████████████| 16/16 [00:00<00:00, 170.86it/s]\n",
      " 95%|████████████████████████████████████████▊  | 19/20 [00:04<00:00,  3.95it/s]"
     ]
    },
    {
     "name": "stdout",
     "output_type": "stream",
     "text": [
      "Epoch 18:  (best: False)train loss = 0.095 (auc: 0.915 f1: 0.686), validation loss = 0.098 (auc: 0.887 f1: 0.598)\n"
     ]
    },
    {
     "name": "stderr",
     "output_type": "stream",
     "text": [
      "100%|██████████████████████████████████████████| 16/16 [00:00<00:00, 162.15it/s]\n",
      "100%|███████████████████████████████████████████| 20/20 [00:05<00:00,  3.93it/s]\n"
     ]
    },
    {
     "name": "stdout",
     "output_type": "stream",
     "text": [
      "Epoch 19:  (best: False)train loss = 0.095 (auc: 0.916 f1: 0.685), validation loss = 0.098 (auc: 0.888 f1: 0.598)\n"
     ]
    },
    {
     "name": "stderr",
     "output_type": "stream",
     "text": [
      "100%|██████████████████████████████████████████| 16/16 [00:00<00:00, 165.48it/s]\n",
      "  5%|██▏                                         | 1/20 [00:00<00:04,  3.87it/s]"
     ]
    },
    {
     "name": "stdout",
     "output_type": "stream",
     "text": [
      "Epoch 0:  (best: True)train loss = 0.114 (auc: 0.848 f1: 0.262), validation loss = 0.114 (auc: 0.826 f1: 0.237)\n"
     ]
    },
    {
     "name": "stderr",
     "output_type": "stream",
     "text": [
      "100%|██████████████████████████████████████████| 16/16 [00:00<00:00, 167.94it/s]\n",
      " 10%|████▍                                       | 2/20 [00:00<00:04,  3.90it/s]"
     ]
    },
    {
     "name": "stdout",
     "output_type": "stream",
     "text": [
      "Epoch 1:  (best: True)train loss = 0.105 (auc: 0.840 f1: 0.384), validation loss = 0.106 (auc: 0.838 f1: 0.349)\n"
     ]
    },
    {
     "name": "stderr",
     "output_type": "stream",
     "text": [
      "100%|██████████████████████████████████████████| 16/16 [00:00<00:00, 168.72it/s]\n",
      " 15%|██████▌                                     | 3/20 [00:00<00:04,  3.88it/s]"
     ]
    },
    {
     "name": "stdout",
     "output_type": "stream",
     "text": [
      "Epoch 2:  (best: True)train loss = 0.101 (auc: 0.850 f1: 0.465), validation loss = 0.102 (auc: 0.851 f1: 0.433)\n"
     ]
    },
    {
     "name": "stderr",
     "output_type": "stream",
     "text": [
      "100%|██████████████████████████████████████████| 16/16 [00:00<00:00, 167.45it/s]\n",
      " 20%|████████▊                                   | 4/20 [00:01<00:04,  3.89it/s]"
     ]
    },
    {
     "name": "stdout",
     "output_type": "stream",
     "text": [
      "Epoch 3:  (best: True)train loss = 0.100 (auc: 0.859 f1: 0.531), validation loss = 0.101 (auc: 0.863 f1: 0.505)\n"
     ]
    },
    {
     "name": "stderr",
     "output_type": "stream",
     "text": [
      "100%|██████████████████████████████████████████| 16/16 [00:00<00:00, 169.56it/s]\n",
      " 25%|███████████                                 | 5/20 [00:01<00:03,  3.89it/s]"
     ]
    },
    {
     "name": "stdout",
     "output_type": "stream",
     "text": [
      "Epoch 4:  (best: True)train loss = 0.099 (auc: 0.866 f1: 0.563), validation loss = 0.100 (auc: 0.870 f1: 0.531)\n"
     ]
    },
    {
     "name": "stderr",
     "output_type": "stream",
     "text": [
      "100%|██████████████████████████████████████████| 16/16 [00:00<00:00, 169.23it/s]\n",
      " 30%|█████████████▏                              | 6/20 [00:01<00:03,  3.90it/s]"
     ]
    },
    {
     "name": "stdout",
     "output_type": "stream",
     "text": [
      "Epoch 5:  (best: True)train loss = 0.098 (auc: 0.881 f1: 0.578), validation loss = 0.099 (auc: 0.887 f1: 0.549)\n"
     ]
    },
    {
     "name": "stderr",
     "output_type": "stream",
     "text": [
      "100%|██████████████████████████████████████████| 16/16 [00:00<00:00, 169.02it/s]\n",
      " 35%|███████████████▍                            | 7/20 [00:01<00:03,  3.89it/s]"
     ]
    },
    {
     "name": "stdout",
     "output_type": "stream",
     "text": [
      "Epoch 6:  (best: False)train loss = 0.098 (auc: 0.885 f1: 0.588), validation loss = 0.099 (auc: 0.892 f1: 0.545)\n"
     ]
    },
    {
     "name": "stderr",
     "output_type": "stream",
     "text": [
      "100%|██████████████████████████████████████████| 16/16 [00:00<00:00, 169.76it/s]\n",
      " 40%|█████████████████▌                          | 8/20 [00:02<00:03,  3.90it/s]"
     ]
    },
    {
     "name": "stdout",
     "output_type": "stream",
     "text": [
      "Epoch 7:  (best: True)train loss = 0.097 (auc: 0.892 f1: 0.612), validation loss = 0.098 (auc: 0.895 f1: 0.582)\n"
     ]
    },
    {
     "name": "stderr",
     "output_type": "stream",
     "text": [
      "100%|██████████████████████████████████████████| 16/16 [00:00<00:00, 169.14it/s]\n",
      " 45%|███████████████████▊                        | 9/20 [00:02<00:02,  3.90it/s]"
     ]
    },
    {
     "name": "stdout",
     "output_type": "stream",
     "text": [
      "Epoch 8:  (best: True)train loss = 0.096 (auc: 0.898 f1: 0.660), validation loss = 0.098 (auc: 0.899 f1: 0.627)\n"
     ]
    },
    {
     "name": "stderr",
     "output_type": "stream",
     "text": [
      "100%|██████████████████████████████████████████| 16/16 [00:00<00:00, 167.95it/s]\n",
      " 50%|█████████████████████▌                     | 10/20 [00:02<00:02,  3.90it/s]"
     ]
    },
    {
     "name": "stdout",
     "output_type": "stream",
     "text": [
      "Epoch 9:  (best: False)train loss = 0.096 (auc: 0.902 f1: 0.660), validation loss = 0.098 (auc: 0.901 f1: 0.621)\n"
     ]
    },
    {
     "name": "stderr",
     "output_type": "stream",
     "text": [
      "100%|██████████████████████████████████████████| 16/16 [00:00<00:00, 166.80it/s]\n",
      " 55%|███████████████████████▋                   | 11/20 [00:02<00:02,  3.89it/s]"
     ]
    },
    {
     "name": "stdout",
     "output_type": "stream",
     "text": [
      "Epoch 10:  (best: False)train loss = 0.096 (auc: 0.904 f1: 0.668), validation loss = 0.098 (auc: 0.901 f1: 0.622)\n"
     ]
    },
    {
     "name": "stderr",
     "output_type": "stream",
     "text": [
      "100%|██████████████████████████████████████████| 16/16 [00:00<00:00, 161.77it/s]\n",
      " 60%|█████████████████████████▊                 | 12/20 [00:03<00:02,  3.88it/s]"
     ]
    },
    {
     "name": "stdout",
     "output_type": "stream",
     "text": [
      "Epoch 11:  (best: True)train loss = 0.095 (auc: 0.907 f1: 0.685), validation loss = 0.098 (auc: 0.902 f1: 0.635)\n"
     ]
    },
    {
     "name": "stderr",
     "output_type": "stream",
     "text": [
      "100%|██████████████████████████████████████████| 16/16 [00:00<00:00, 165.26it/s]\n",
      " 65%|███████████████████████████▉               | 13/20 [00:03<00:01,  3.88it/s]"
     ]
    },
    {
     "name": "stdout",
     "output_type": "stream",
     "text": [
      "Epoch 12:  (best: True)train loss = 0.094 (auc: 0.911 f1: 0.704), validation loss = 0.098 (auc: 0.901 f1: 0.644)\n"
     ]
    },
    {
     "name": "stderr",
     "output_type": "stream",
     "text": [
      "100%|██████████████████████████████████████████| 16/16 [00:00<00:00, 165.49it/s]\n",
      " 70%|██████████████████████████████             | 14/20 [00:03<00:01,  3.87it/s]"
     ]
    },
    {
     "name": "stdout",
     "output_type": "stream",
     "text": [
      "Epoch 13:  (best: False)train loss = 0.095 (auc: 0.912 f1: 0.704), validation loss = 0.098 (auc: 0.898 f1: 0.629)\n"
     ]
    },
    {
     "name": "stderr",
     "output_type": "stream",
     "text": [
      "100%|██████████████████████████████████████████| 16/16 [00:00<00:00, 168.04it/s]\n",
      " 75%|████████████████████████████████▎          | 15/20 [00:03<00:01,  3.89it/s]"
     ]
    },
    {
     "name": "stdout",
     "output_type": "stream",
     "text": [
      "Epoch 14:  (best: True)train loss = 0.094 (auc: 0.915 f1: 0.718), validation loss = 0.098 (auc: 0.902 f1: 0.645)\n"
     ]
    },
    {
     "name": "stderr",
     "output_type": "stream",
     "text": [
      "100%|██████████████████████████████████████████| 16/16 [00:00<00:00, 169.32it/s]\n",
      " 80%|██████████████████████████████████▍        | 16/20 [00:04<00:01,  3.91it/s]"
     ]
    },
    {
     "name": "stdout",
     "output_type": "stream",
     "text": [
      "Epoch 15:  (best: True)train loss = 0.094 (auc: 0.917 f1: 0.719), validation loss = 0.097 (auc: 0.899 f1: 0.645)\n"
     ]
    },
    {
     "name": "stderr",
     "output_type": "stream",
     "text": [
      "100%|██████████████████████████████████████████| 16/16 [00:00<00:00, 167.41it/s]\n",
      " 85%|████████████████████████████████████▌      | 17/20 [00:04<00:00,  3.91it/s]"
     ]
    },
    {
     "name": "stdout",
     "output_type": "stream",
     "text": [
      "Epoch 16:  (best: True)train loss = 0.094 (auc: 0.918 f1: 0.729), validation loss = 0.097 (auc: 0.900 f1: 0.653)\n"
     ]
    },
    {
     "name": "stderr",
     "output_type": "stream",
     "text": [
      "100%|██████████████████████████████████████████| 16/16 [00:00<00:00, 165.72it/s]\n",
      " 90%|██████████████████████████████████████▋    | 18/20 [00:04<00:00,  3.90it/s]"
     ]
    },
    {
     "name": "stdout",
     "output_type": "stream",
     "text": [
      "Epoch 17:  (best: False)train loss = 0.094 (auc: 0.919 f1: 0.742), validation loss = 0.097 (auc: 0.898 f1: 0.646)\n"
     ]
    },
    {
     "name": "stderr",
     "output_type": "stream",
     "text": [
      "100%|██████████████████████████████████████████| 16/16 [00:00<00:00, 165.46it/s]\n",
      " 95%|████████████████████████████████████████▊  | 19/20 [00:04<00:00,  3.89it/s]"
     ]
    },
    {
     "name": "stdout",
     "output_type": "stream",
     "text": [
      "Epoch 18:  (best: True)train loss = 0.094 (auc: 0.921 f1: 0.765), validation loss = 0.097 (auc: 0.902 f1: 0.653)\n"
     ]
    },
    {
     "name": "stderr",
     "output_type": "stream",
     "text": [
      "100%|██████████████████████████████████████████| 16/16 [00:00<00:00, 164.50it/s]\n",
      "100%|███████████████████████████████████████████| 20/20 [00:05<00:00,  3.89it/s]\n"
     ]
    },
    {
     "name": "stdout",
     "output_type": "stream",
     "text": [
      "Epoch 19:  (best: True)train loss = 0.093 (auc: 0.926 f1: 0.765), validation loss = 0.097 (auc: 0.900 f1: 0.670)\n"
     ]
    },
    {
     "name": "stderr",
     "output_type": "stream",
     "text": [
      "100%|██████████████████████████████████████████| 16/16 [00:00<00:00, 170.47it/s]\n",
      "  5%|██▏                                         | 1/20 [00:00<00:04,  3.90it/s]"
     ]
    },
    {
     "name": "stdout",
     "output_type": "stream",
     "text": [
      "Epoch 0:  (best: True)train loss = 0.113 (auc: 0.855 f1: 0.101), validation loss = 0.113 (auc: 0.842 f1: 0.091)\n"
     ]
    },
    {
     "name": "stderr",
     "output_type": "stream",
     "text": [
      "100%|██████████████████████████████████████████| 16/16 [00:00<00:00, 169.72it/s]\n",
      " 10%|████▍                                       | 2/20 [00:00<00:04,  3.92it/s]"
     ]
    },
    {
     "name": "stdout",
     "output_type": "stream",
     "text": [
      "Epoch 1:  (best: True)train loss = 0.106 (auc: 0.858 f1: 0.331), validation loss = 0.108 (auc: 0.867 f1: 0.317)\n"
     ]
    },
    {
     "name": "stderr",
     "output_type": "stream",
     "text": [
      "100%|██████████████████████████████████████████| 16/16 [00:00<00:00, 169.20it/s]\n",
      " 15%|██████▌                                     | 3/20 [00:00<00:04,  3.86it/s]"
     ]
    },
    {
     "name": "stdout",
     "output_type": "stream",
     "text": [
      "Epoch 2:  (best: True)train loss = 0.102 (auc: 0.865 f1: 0.438), validation loss = 0.104 (auc: 0.877 f1: 0.403)\n"
     ]
    },
    {
     "name": "stderr",
     "output_type": "stream",
     "text": [
      "100%|██████████████████████████████████████████| 16/16 [00:00<00:00, 167.12it/s]\n",
      " 20%|████████▊                                   | 4/20 [00:01<00:04,  3.87it/s]"
     ]
    },
    {
     "name": "stdout",
     "output_type": "stream",
     "text": [
      "Epoch 3:  (best: True)train loss = 0.101 (auc: 0.865 f1: 0.468), validation loss = 0.102 (auc: 0.879 f1: 0.436)\n"
     ]
    },
    {
     "name": "stderr",
     "output_type": "stream",
     "text": [
      "100%|██████████████████████████████████████████| 16/16 [00:00<00:00, 166.37it/s]\n",
      " 25%|███████████                                 | 5/20 [00:01<00:03,  3.82it/s]"
     ]
    },
    {
     "name": "stdout",
     "output_type": "stream",
     "text": [
      "Epoch 4:  (best: True)train loss = 0.099 (auc: 0.875 f1: 0.541), validation loss = 0.101 (auc: 0.885 f1: 0.507)\n"
     ]
    },
    {
     "name": "stderr",
     "output_type": "stream",
     "text": [
      "100%|██████████████████████████████████████████| 16/16 [00:00<00:00, 163.69it/s]\n",
      " 30%|█████████████▏                              | 6/20 [00:01<00:03,  3.82it/s]"
     ]
    },
    {
     "name": "stdout",
     "output_type": "stream",
     "text": [
      "Epoch 5:  (best: True)train loss = 0.099 (auc: 0.877 f1: 0.558), validation loss = 0.100 (auc: 0.884 f1: 0.517)\n"
     ]
    },
    {
     "name": "stderr",
     "output_type": "stream",
     "text": [
      "100%|██████████████████████████████████████████| 16/16 [00:00<00:00, 166.57it/s]\n",
      " 35%|███████████████▍                            | 7/20 [00:01<00:03,  3.84it/s]"
     ]
    },
    {
     "name": "stdout",
     "output_type": "stream",
     "text": [
      "Epoch 6:  (best: False)train loss = 0.099 (auc: 0.873 f1: 0.547), validation loss = 0.100 (auc: 0.878 f1: 0.517)\n"
     ]
    },
    {
     "name": "stderr",
     "output_type": "stream",
     "text": [
      "100%|██████████████████████████████████████████| 16/16 [00:00<00:00, 164.36it/s]\n",
      " 40%|█████████████████▌                          | 8/20 [00:02<00:03,  3.85it/s]"
     ]
    },
    {
     "name": "stdout",
     "output_type": "stream",
     "text": [
      "Epoch 7:  (best: True)train loss = 0.098 (auc: 0.877 f1: 0.582), validation loss = 0.099 (auc: 0.881 f1: 0.542)\n"
     ]
    },
    {
     "name": "stderr",
     "output_type": "stream",
     "text": [
      "100%|██████████████████████████████████████████| 16/16 [00:00<00:00, 167.41it/s]\n",
      " 45%|███████████████████▊                        | 9/20 [00:02<00:02,  3.85it/s]"
     ]
    },
    {
     "name": "stdout",
     "output_type": "stream",
     "text": [
      "Epoch 8:  (best: False)train loss = 0.098 (auc: 0.880 f1: 0.577), validation loss = 0.099 (auc: 0.883 f1: 0.539)\n"
     ]
    },
    {
     "name": "stderr",
     "output_type": "stream",
     "text": [
      "100%|██████████████████████████████████████████| 16/16 [00:00<00:00, 171.40it/s]\n",
      " 50%|█████████████████████▌                     | 10/20 [00:02<00:02,  3.89it/s]"
     ]
    },
    {
     "name": "stdout",
     "output_type": "stream",
     "text": [
      "Epoch 9:  (best: False)train loss = 0.097 (auc: 0.881 f1: 0.581), validation loss = 0.099 (auc: 0.882 f1: 0.541)\n"
     ]
    },
    {
     "name": "stderr",
     "output_type": "stream",
     "text": [
      "100%|██████████████████████████████████████████| 16/16 [00:00<00:00, 166.85it/s]\n",
      " 55%|███████████████████████▋                   | 11/20 [00:02<00:02,  3.89it/s]"
     ]
    },
    {
     "name": "stdout",
     "output_type": "stream",
     "text": [
      "Epoch 10:  (best: True)train loss = 0.097 (auc: 0.884 f1: 0.609), validation loss = 0.099 (auc: 0.884 f1: 0.569)\n"
     ]
    },
    {
     "name": "stderr",
     "output_type": "stream",
     "text": [
      "100%|██████████████████████████████████████████| 16/16 [00:00<00:00, 169.05it/s]\n",
      " 60%|█████████████████████████▊                 | 12/20 [00:03<00:02,  3.90it/s]"
     ]
    },
    {
     "name": "stdout",
     "output_type": "stream",
     "text": [
      "Epoch 11:  (best: True)train loss = 0.097 (auc: 0.888 f1: 0.640), validation loss = 0.099 (auc: 0.888 f1: 0.591)\n"
     ]
    },
    {
     "name": "stderr",
     "output_type": "stream",
     "text": [
      "100%|██████████████████████████████████████████| 16/16 [00:00<00:00, 168.99it/s]\n",
      " 65%|███████████████████████████▉               | 13/20 [00:03<00:01,  3.92it/s]"
     ]
    },
    {
     "name": "stdout",
     "output_type": "stream",
     "text": [
      "Epoch 12:  (best: False)train loss = 0.097 (auc: 0.893 f1: 0.636), validation loss = 0.099 (auc: 0.891 f1: 0.584)\n"
     ]
    },
    {
     "name": "stderr",
     "output_type": "stream",
     "text": [
      "100%|██████████████████████████████████████████| 16/16 [00:00<00:00, 168.99it/s]\n",
      " 70%|██████████████████████████████             | 14/20 [00:03<00:01,  3.92it/s]"
     ]
    },
    {
     "name": "stdout",
     "output_type": "stream",
     "text": [
      "Epoch 13:  (best: True)train loss = 0.096 (auc: 0.897 f1: 0.643), validation loss = 0.099 (auc: 0.893 f1: 0.594)\n"
     ]
    },
    {
     "name": "stderr",
     "output_type": "stream",
     "text": [
      "100%|██████████████████████████████████████████| 16/16 [00:00<00:00, 169.53it/s]\n",
      " 75%|████████████████████████████████▎          | 15/20 [00:03<00:01,  3.92it/s]"
     ]
    },
    {
     "name": "stdout",
     "output_type": "stream",
     "text": [
      "Epoch 14:  (best: True)train loss = 0.096 (auc: 0.901 f1: 0.662), validation loss = 0.098 (auc: 0.897 f1: 0.606)\n"
     ]
    },
    {
     "name": "stderr",
     "output_type": "stream",
     "text": [
      "100%|██████████████████████████████████████████| 16/16 [00:00<00:00, 165.54it/s]\n",
      " 80%|██████████████████████████████████▍        | 16/20 [00:04<00:01,  3.91it/s]"
     ]
    },
    {
     "name": "stdout",
     "output_type": "stream",
     "text": [
      "Epoch 15:  (best: True)train loss = 0.095 (auc: 0.904 f1: 0.662), validation loss = 0.098 (auc: 0.895 f1: 0.610)\n"
     ]
    },
    {
     "name": "stderr",
     "output_type": "stream",
     "text": [
      "100%|██████████████████████████████████████████| 16/16 [00:00<00:00, 169.84it/s]\n",
      " 85%|████████████████████████████████████▌      | 17/20 [00:04<00:00,  3.91it/s]"
     ]
    },
    {
     "name": "stdout",
     "output_type": "stream",
     "text": [
      "Epoch 16:  (best: False)train loss = 0.096 (auc: 0.904 f1: 0.662), validation loss = 0.098 (auc: 0.894 f1: 0.609)\n"
     ]
    },
    {
     "name": "stderr",
     "output_type": "stream",
     "text": [
      "100%|██████████████████████████████████████████| 16/16 [00:00<00:00, 162.44it/s]\n",
      " 90%|██████████████████████████████████████▋    | 18/20 [00:04<00:00,  3.90it/s]"
     ]
    },
    {
     "name": "stdout",
     "output_type": "stream",
     "text": [
      "Epoch 17:  (best: False)train loss = 0.095 (auc: 0.904 f1: 0.661), validation loss = 0.098 (auc: 0.894 f1: 0.608)\n"
     ]
    },
    {
     "name": "stderr",
     "output_type": "stream",
     "text": [
      "100%|██████████████████████████████████████████| 16/16 [00:00<00:00, 168.93it/s]\n",
      " 95%|████████████████████████████████████████▊  | 19/20 [00:04<00:00,  3.90it/s]"
     ]
    },
    {
     "name": "stdout",
     "output_type": "stream",
     "text": [
      "Epoch 18:  (best: True)train loss = 0.095 (auc: 0.908 f1: 0.710), validation loss = 0.099 (auc: 0.893 f1: 0.622)\n"
     ]
    },
    {
     "name": "stderr",
     "output_type": "stream",
     "text": [
      "100%|██████████████████████████████████████████| 16/16 [00:00<00:00, 161.35it/s]\n",
      "100%|███████████████████████████████████████████| 20/20 [00:05<00:00,  3.88it/s]\n"
     ]
    },
    {
     "name": "stdout",
     "output_type": "stream",
     "text": [
      "Epoch 19:  (best: True)train loss = 0.095 (auc: 0.910 f1: 0.695), validation loss = 0.098 (auc: 0.894 f1: 0.628)\n"
     ]
    },
    {
     "name": "stderr",
     "output_type": "stream",
     "text": [
      "100%|██████████████████████████████████████████| 16/16 [00:00<00:00, 167.82it/s]\n",
      "  5%|██▏                                         | 1/20 [00:00<00:04,  3.91it/s]"
     ]
    },
    {
     "name": "stdout",
     "output_type": "stream",
     "text": [
      "Epoch 0:  (best: True)train loss = 0.112 (auc: 0.844 f1: 0.199), validation loss = 0.113 (auc: 0.841 f1: 0.165)\n"
     ]
    },
    {
     "name": "stderr",
     "output_type": "stream",
     "text": [
      "100%|██████████████████████████████████████████| 16/16 [00:00<00:00, 171.16it/s]\n",
      " 10%|████▍                                       | 2/20 [00:00<00:04,  3.93it/s]"
     ]
    },
    {
     "name": "stdout",
     "output_type": "stream",
     "text": [
      "Epoch 1:  (best: True)train loss = 0.107 (auc: 0.804 f1: 0.272), validation loss = 0.108 (auc: 0.807 f1: 0.242)\n"
     ]
    },
    {
     "name": "stderr",
     "output_type": "stream",
     "text": [
      "100%|██████████████████████████████████████████| 16/16 [00:00<00:00, 168.62it/s]\n",
      " 15%|██████▌                                     | 3/20 [00:00<00:04,  3.92it/s]"
     ]
    },
    {
     "name": "stdout",
     "output_type": "stream",
     "text": [
      "Epoch 2:  (best: True)train loss = 0.103 (auc: 0.840 f1: 0.407), validation loss = 0.105 (auc: 0.841 f1: 0.385)\n"
     ]
    },
    {
     "name": "stderr",
     "output_type": "stream",
     "text": [
      "100%|██████████████████████████████████████████| 16/16 [00:00<00:00, 168.96it/s]\n",
      " 20%|████████▊                                   | 4/20 [00:01<00:04,  3.93it/s]"
     ]
    },
    {
     "name": "stdout",
     "output_type": "stream",
     "text": [
      "Epoch 3:  (best: True)train loss = 0.101 (auc: 0.866 f1: 0.500), validation loss = 0.102 (auc: 0.865 f1: 0.466)\n"
     ]
    },
    {
     "name": "stderr",
     "output_type": "stream",
     "text": [
      "100%|██████████████████████████████████████████| 16/16 [00:00<00:00, 166.89it/s]\n",
      " 25%|███████████                                 | 5/20 [00:01<00:03,  3.91it/s]"
     ]
    },
    {
     "name": "stdout",
     "output_type": "stream",
     "text": [
      "Epoch 4:  (best: True)train loss = 0.099 (auc: 0.877 f1: 0.544), validation loss = 0.100 (auc: 0.879 f1: 0.513)\n"
     ]
    },
    {
     "name": "stderr",
     "output_type": "stream",
     "text": [
      "100%|██████████████████████████████████████████| 16/16 [00:00<00:00, 170.32it/s]\n",
      " 30%|█████████████▏                              | 6/20 [00:01<00:03,  3.91it/s]"
     ]
    },
    {
     "name": "stdout",
     "output_type": "stream",
     "text": [
      "Epoch 5:  (best: True)train loss = 0.098 (auc: 0.880 f1: 0.593), validation loss = 0.099 (auc: 0.882 f1: 0.560)\n"
     ]
    },
    {
     "name": "stderr",
     "output_type": "stream",
     "text": [
      "100%|██████████████████████████████████████████| 16/16 [00:00<00:00, 169.00it/s]\n",
      " 35%|███████████████▍                            | 7/20 [00:01<00:03,  3.91it/s]"
     ]
    },
    {
     "name": "stdout",
     "output_type": "stream",
     "text": [
      "Epoch 6:  (best: True)train loss = 0.097 (auc: 0.887 f1: 0.595), validation loss = 0.099 (auc: 0.888 f1: 0.565)\n"
     ]
    },
    {
     "name": "stderr",
     "output_type": "stream",
     "text": [
      "100%|██████████████████████████████████████████| 16/16 [00:00<00:00, 165.80it/s]\n",
      " 40%|█████████████████▌                          | 8/20 [00:02<00:03,  3.90it/s]"
     ]
    },
    {
     "name": "stdout",
     "output_type": "stream",
     "text": [
      "Epoch 7:  (best: False)train loss = 0.097 (auc: 0.894 f1: 0.597), validation loss = 0.099 (auc: 0.896 f1: 0.560)\n"
     ]
    },
    {
     "name": "stderr",
     "output_type": "stream",
     "text": [
      "100%|██████████████████████████████████████████| 16/16 [00:00<00:00, 167.65it/s]\n",
      " 45%|███████████████████▊                        | 9/20 [00:02<00:02,  3.88it/s]"
     ]
    },
    {
     "name": "stdout",
     "output_type": "stream",
     "text": [
      "Epoch 8:  (best: True)train loss = 0.097 (auc: 0.895 f1: 0.618), validation loss = 0.099 (auc: 0.897 f1: 0.577)\n"
     ]
    },
    {
     "name": "stderr",
     "output_type": "stream",
     "text": [
      "100%|██████████████████████████████████████████| 16/16 [00:00<00:00, 168.40it/s]\n",
      " 50%|█████████████████████▌                     | 10/20 [00:02<00:02,  3.90it/s]"
     ]
    },
    {
     "name": "stdout",
     "output_type": "stream",
     "text": [
      "Epoch 9:  (best: True)train loss = 0.097 (auc: 0.899 f1: 0.630), validation loss = 0.099 (auc: 0.896 f1: 0.578)\n"
     ]
    },
    {
     "name": "stderr",
     "output_type": "stream",
     "text": [
      "100%|██████████████████████████████████████████| 16/16 [00:00<00:00, 165.13it/s]\n",
      " 55%|███████████████████████▋                   | 11/20 [00:02<00:02,  3.88it/s]"
     ]
    },
    {
     "name": "stdout",
     "output_type": "stream",
     "text": [
      "Epoch 10:  (best: True)train loss = 0.096 (auc: 0.904 f1: 0.671), validation loss = 0.099 (auc: 0.898 f1: 0.615)\n"
     ]
    },
    {
     "name": "stderr",
     "output_type": "stream",
     "text": [
      "100%|██████████████████████████████████████████| 16/16 [00:00<00:00, 168.42it/s]\n",
      " 60%|█████████████████████████▊                 | 12/20 [00:03<00:02,  3.90it/s]"
     ]
    },
    {
     "name": "stdout",
     "output_type": "stream",
     "text": [
      "Epoch 11:  (best: False)train loss = 0.096 (auc: 0.903 f1: 0.661), validation loss = 0.098 (auc: 0.897 f1: 0.600)\n"
     ]
    },
    {
     "name": "stderr",
     "output_type": "stream",
     "text": [
      "100%|██████████████████████████████████████████| 16/16 [00:00<00:00, 169.05it/s]\n",
      " 65%|███████████████████████████▉               | 13/20 [00:03<00:01,  3.90it/s]"
     ]
    },
    {
     "name": "stdout",
     "output_type": "stream",
     "text": [
      "Epoch 12:  (best: True)train loss = 0.095 (auc: 0.911 f1: 0.675), validation loss = 0.098 (auc: 0.896 f1: 0.618)\n"
     ]
    },
    {
     "name": "stderr",
     "output_type": "stream",
     "text": [
      "100%|██████████████████████████████████████████| 16/16 [00:00<00:00, 165.90it/s]\n",
      " 70%|██████████████████████████████             | 14/20 [00:03<00:01,  3.91it/s]"
     ]
    },
    {
     "name": "stdout",
     "output_type": "stream",
     "text": [
      "Epoch 13:  (best: True)train loss = 0.095 (auc: 0.911 f1: 0.694), validation loss = 0.098 (auc: 0.900 f1: 0.624)\n"
     ]
    },
    {
     "name": "stderr",
     "output_type": "stream",
     "text": [
      "100%|██████████████████████████████████████████| 16/16 [00:00<00:00, 144.08it/s]\n",
      " 75%|████████████████████████████████▎          | 15/20 [00:03<00:01,  3.82it/s]"
     ]
    },
    {
     "name": "stdout",
     "output_type": "stream",
     "text": [
      "Epoch 14:  (best: True)train loss = 0.095 (auc: 0.915 f1: 0.703), validation loss = 0.098 (auc: 0.900 f1: 0.633)\n"
     ]
    },
    {
     "name": "stderr",
     "output_type": "stream",
     "text": [
      "100%|██████████████████████████████████████████| 16/16 [00:00<00:00, 163.36it/s]\n",
      " 80%|██████████████████████████████████▍        | 16/20 [00:04<00:01,  3.83it/s]"
     ]
    },
    {
     "name": "stdout",
     "output_type": "stream",
     "text": [
      "Epoch 15:  (best: True)train loss = 0.095 (auc: 0.916 f1: 0.709), validation loss = 0.098 (auc: 0.899 f1: 0.645)\n"
     ]
    },
    {
     "name": "stderr",
     "output_type": "stream",
     "text": [
      "100%|██████████████████████████████████████████| 16/16 [00:00<00:00, 170.16it/s]\n",
      " 85%|████████████████████████████████████▌      | 17/20 [00:04<00:00,  3.87it/s]"
     ]
    },
    {
     "name": "stdout",
     "output_type": "stream",
     "text": [
      "Epoch 16:  (best: False)train loss = 0.095 (auc: 0.914 f1: 0.701), validation loss = 0.098 (auc: 0.899 f1: 0.617)\n"
     ]
    },
    {
     "name": "stderr",
     "output_type": "stream",
     "text": [
      "100%|██████████████████████████████████████████| 16/16 [00:00<00:00, 166.73it/s]\n",
      " 90%|██████████████████████████████████████▋    | 18/20 [00:04<00:00,  3.89it/s]"
     ]
    },
    {
     "name": "stdout",
     "output_type": "stream",
     "text": [
      "Epoch 17:  (best: False)train loss = 0.094 (auc: 0.916 f1: 0.708), validation loss = 0.098 (auc: 0.900 f1: 0.636)\n"
     ]
    },
    {
     "name": "stderr",
     "output_type": "stream",
     "text": [
      "100%|██████████████████████████████████████████| 16/16 [00:00<00:00, 162.73it/s]\n",
      " 95%|████████████████████████████████████████▊  | 19/20 [00:04<00:00,  3.87it/s]"
     ]
    },
    {
     "name": "stdout",
     "output_type": "stream",
     "text": [
      "Epoch 18:  (best: False)train loss = 0.095 (auc: 0.917 f1: 0.711), validation loss = 0.097 (auc: 0.898 f1: 0.638)\n"
     ]
    },
    {
     "name": "stderr",
     "output_type": "stream",
     "text": [
      "100%|██████████████████████████████████████████| 16/16 [00:00<00:00, 164.23it/s]\n",
      "100%|███████████████████████████████████████████| 20/20 [00:05<00:00,  3.89it/s]\n"
     ]
    },
    {
     "name": "stdout",
     "output_type": "stream",
     "text": [
      "Epoch 19:  (best: False)train loss = 0.094 (auc: 0.917 f1: 0.713), validation loss = 0.097 (auc: 0.896 f1: 0.634)\n"
     ]
    },
    {
     "name": "stderr",
     "output_type": "stream",
     "text": [
      "100%|██████████████████████████████████████████| 16/16 [00:00<00:00, 168.73it/s]\n",
      "  5%|██▏                                         | 1/20 [00:00<00:04,  3.83it/s]"
     ]
    },
    {
     "name": "stdout",
     "output_type": "stream",
     "text": [
      "Epoch 0:  (best: True)train loss = 0.113 (auc: 0.853 f1: 0.144), validation loss = 0.114 (auc: 0.853 f1: 0.126)\n"
     ]
    },
    {
     "name": "stderr",
     "output_type": "stream",
     "text": [
      "100%|██████████████████████████████████████████| 16/16 [00:00<00:00, 162.26it/s]\n",
      " 10%|████▍                                       | 2/20 [00:00<00:04,  3.76it/s]"
     ]
    },
    {
     "name": "stdout",
     "output_type": "stream",
     "text": [
      "Epoch 1:  (best: True)train loss = 0.106 (auc: 0.820 f1: 0.445), validation loss = 0.107 (auc: 0.827 f1: 0.378)\n"
     ]
    },
    {
     "name": "stderr",
     "output_type": "stream",
     "text": [
      "100%|██████████████████████████████████████████| 16/16 [00:00<00:00, 169.36it/s]\n",
      " 15%|██████▌                                     | 3/20 [00:00<00:04,  3.83it/s]"
     ]
    },
    {
     "name": "stdout",
     "output_type": "stream",
     "text": [
      "Epoch 2:  (best: True)train loss = 0.100 (auc: 0.861 f1: 0.501), validation loss = 0.102 (auc: 0.873 f1: 0.483)\n"
     ]
    },
    {
     "name": "stderr",
     "output_type": "stream",
     "text": [
      "100%|██████████████████████████████████████████| 16/16 [00:00<00:00, 164.31it/s]\n",
      " 20%|████████▊                                   | 4/20 [00:01<00:04,  3.84it/s]"
     ]
    },
    {
     "name": "stdout",
     "output_type": "stream",
     "text": [
      "Epoch 3:  (best: True)train loss = 0.100 (auc: 0.860 f1: 0.543), validation loss = 0.100 (auc: 0.868 f1: 0.511)\n"
     ]
    },
    {
     "name": "stderr",
     "output_type": "stream",
     "text": [
      "100%|██████████████████████████████████████████| 16/16 [00:00<00:00, 168.70it/s]\n",
      " 25%|███████████                                 | 5/20 [00:01<00:03,  3.86it/s]"
     ]
    },
    {
     "name": "stdout",
     "output_type": "stream",
     "text": [
      "Epoch 4:  (best: True)train loss = 0.099 (auc: 0.867 f1: 0.545), validation loss = 0.100 (auc: 0.874 f1: 0.518)\n"
     ]
    },
    {
     "name": "stderr",
     "output_type": "stream",
     "text": [
      "100%|██████████████████████████████████████████| 16/16 [00:00<00:00, 169.76it/s]\n",
      " 30%|█████████████▏                              | 6/20 [00:01<00:03,  3.88it/s]"
     ]
    },
    {
     "name": "stdout",
     "output_type": "stream",
     "text": [
      "Epoch 5:  (best: False)train loss = 0.098 (auc: 0.870 f1: 0.544), validation loss = 0.100 (auc: 0.876 f1: 0.517)\n"
     ]
    },
    {
     "name": "stderr",
     "output_type": "stream",
     "text": [
      "100%|██████████████████████████████████████████| 16/16 [00:00<00:00, 169.25it/s]\n",
      " 35%|███████████████▍                            | 7/20 [00:01<00:03,  3.89it/s]"
     ]
    },
    {
     "name": "stdout",
     "output_type": "stream",
     "text": [
      "Epoch 6:  (best: True)train loss = 0.098 (auc: 0.878 f1: 0.578), validation loss = 0.099 (auc: 0.883 f1: 0.555)\n"
     ]
    },
    {
     "name": "stderr",
     "output_type": "stream",
     "text": [
      "100%|██████████████████████████████████████████| 16/16 [00:00<00:00, 167.97it/s]\n",
      " 40%|█████████████████▌                          | 8/20 [00:02<00:03,  3.89it/s]"
     ]
    },
    {
     "name": "stdout",
     "output_type": "stream",
     "text": [
      "Epoch 7:  (best: False)train loss = 0.097 (auc: 0.880 f1: 0.561), validation loss = 0.099 (auc: 0.885 f1: 0.539)\n"
     ]
    },
    {
     "name": "stderr",
     "output_type": "stream",
     "text": [
      "100%|██████████████████████████████████████████| 16/16 [00:00<00:00, 170.18it/s]\n",
      " 45%|███████████████████▊                        | 9/20 [00:02<00:02,  3.90it/s]"
     ]
    },
    {
     "name": "stdout",
     "output_type": "stream",
     "text": [
      "Epoch 8:  (best: False)train loss = 0.097 (auc: 0.882 f1: 0.559), validation loss = 0.099 (auc: 0.886 f1: 0.535)\n"
     ]
    },
    {
     "name": "stderr",
     "output_type": "stream",
     "text": [
      "100%|██████████████████████████████████████████| 16/16 [00:00<00:00, 168.91it/s]\n",
      " 50%|█████████████████████▌                     | 10/20 [00:02<00:02,  3.91it/s]"
     ]
    },
    {
     "name": "stdout",
     "output_type": "stream",
     "text": [
      "Epoch 9:  (best: False)train loss = 0.098 (auc: 0.884 f1: 0.569), validation loss = 0.099 (auc: 0.888 f1: 0.540)\n"
     ]
    },
    {
     "name": "stderr",
     "output_type": "stream",
     "text": [
      "100%|██████████████████████████████████████████| 16/16 [00:00<00:00, 170.04it/s]\n",
      " 55%|███████████████████████▋                   | 11/20 [00:02<00:02,  3.90it/s]"
     ]
    },
    {
     "name": "stdout",
     "output_type": "stream",
     "text": [
      "Epoch 10:  (best: True)train loss = 0.097 (auc: 0.889 f1: 0.606), validation loss = 0.099 (auc: 0.885 f1: 0.574)\n"
     ]
    },
    {
     "name": "stderr",
     "output_type": "stream",
     "text": [
      "100%|██████████████████████████████████████████| 16/16 [00:00<00:00, 167.97it/s]\n",
      " 60%|█████████████████████████▊                 | 12/20 [00:03<00:02,  3.90it/s]"
     ]
    },
    {
     "name": "stdout",
     "output_type": "stream",
     "text": [
      "Epoch 11:  (best: False)train loss = 0.097 (auc: 0.887 f1: 0.604), validation loss = 0.099 (auc: 0.881 f1: 0.570)\n"
     ]
    },
    {
     "name": "stderr",
     "output_type": "stream",
     "text": [
      "100%|██████████████████████████████████████████| 16/16 [00:00<00:00, 170.07it/s]\n",
      " 65%|███████████████████████████▉               | 13/20 [00:03<00:01,  3.90it/s]"
     ]
    },
    {
     "name": "stdout",
     "output_type": "stream",
     "text": [
      "Epoch 12:  (best: True)train loss = 0.096 (auc: 0.892 f1: 0.667), validation loss = 0.098 (auc: 0.883 f1: 0.614)\n"
     ]
    },
    {
     "name": "stderr",
     "output_type": "stream",
     "text": [
      "100%|██████████████████████████████████████████| 16/16 [00:00<00:00, 168.41it/s]\n",
      " 70%|██████████████████████████████             | 14/20 [00:03<00:01,  3.90it/s]"
     ]
    },
    {
     "name": "stdout",
     "output_type": "stream",
     "text": [
      "Epoch 13:  (best: False)train loss = 0.096 (auc: 0.900 f1: 0.663), validation loss = 0.098 (auc: 0.890 f1: 0.610)\n"
     ]
    },
    {
     "name": "stderr",
     "output_type": "stream",
     "text": [
      "100%|██████████████████████████████████████████| 16/16 [00:00<00:00, 169.45it/s]\n",
      " 75%|████████████████████████████████▎          | 15/20 [00:03<00:01,  3.91it/s]"
     ]
    },
    {
     "name": "stdout",
     "output_type": "stream",
     "text": [
      "Epoch 14:  (best: False)train loss = 0.095 (auc: 0.904 f1: 0.666), validation loss = 0.098 (auc: 0.888 f1: 0.613)\n"
     ]
    },
    {
     "name": "stderr",
     "output_type": "stream",
     "text": [
      "100%|██████████████████████████████████████████| 16/16 [00:00<00:00, 167.68it/s]\n",
      " 80%|██████████████████████████████████▍        | 16/20 [00:04<00:01,  3.92it/s]"
     ]
    },
    {
     "name": "stdout",
     "output_type": "stream",
     "text": [
      "Epoch 15:  (best: False)train loss = 0.096 (auc: 0.903 f1: 0.667), validation loss = 0.098 (auc: 0.891 f1: 0.609)\n"
     ]
    },
    {
     "name": "stderr",
     "output_type": "stream",
     "text": [
      "100%|██████████████████████████████████████████| 16/16 [00:00<00:00, 169.00it/s]\n",
      " 85%|████████████████████████████████████▌      | 17/20 [00:04<00:00,  3.92it/s]"
     ]
    },
    {
     "name": "stdout",
     "output_type": "stream",
     "text": [
      "Epoch 16:  (best: False)train loss = 0.095 (auc: 0.902 f1: 0.664), validation loss = 0.098 (auc: 0.891 f1: 0.610)\n"
     ]
    },
    {
     "name": "stderr",
     "output_type": "stream",
     "text": [
      "100%|██████████████████████████████████████████| 16/16 [00:00<00:00, 168.20it/s]\n",
      " 90%|██████████████████████████████████████▋    | 18/20 [00:04<00:00,  3.91it/s]"
     ]
    },
    {
     "name": "stdout",
     "output_type": "stream",
     "text": [
      "Epoch 17:  (best: True)train loss = 0.095 (auc: 0.907 f1: 0.694), validation loss = 0.098 (auc: 0.892 f1: 0.618)\n"
     ]
    },
    {
     "name": "stderr",
     "output_type": "stream",
     "text": [
      "100%|██████████████████████████████████████████| 16/16 [00:00<00:00, 168.82it/s]\n",
      " 95%|████████████████████████████████████████▊  | 19/20 [00:04<00:00,  3.93it/s]"
     ]
    },
    {
     "name": "stdout",
     "output_type": "stream",
     "text": [
      "Epoch 18:  (best: False)train loss = 0.095 (auc: 0.910 f1: 0.697), validation loss = 0.098 (auc: 0.890 f1: 0.616)\n"
     ]
    },
    {
     "name": "stderr",
     "output_type": "stream",
     "text": [
      "100%|██████████████████████████████████████████| 16/16 [00:00<00:00, 153.12it/s]\n",
      "100%|███████████████████████████████████████████| 20/20 [00:05<00:00,  3.89it/s]\n"
     ]
    },
    {
     "name": "stdout",
     "output_type": "stream",
     "text": [
      "Epoch 19:  (best: True)train loss = 0.095 (auc: 0.917 f1: 0.707), validation loss = 0.098 (auc: 0.893 f1: 0.625)\n"
     ]
    }
   ],
   "source": [
    "data = {\n",
    "    \"test_auc\": [],\n",
    "    \"test_f1\": [],\n",
    "    \"model_name\": [],\n",
    "}\n",
    "\n",
    "hparams = {\n",
    "    \"num_epochs\": 20,\n",
    "    \"hidden_dim\":  32,\n",
    "    \"lr\": 1e-2,\n",
    "}\n",
    "    \n",
    "for embbeding_size in [64, 128]:\n",
    "    \n",
    "    hparams[\"model_name\"] = f\"Baseline_{embbeding_size}\"\n",
    "    hparams[\"emb_dim\"] = embbeding_size\n",
    "    \n",
    "    for _ in range(10):\n",
    "        train_dl, test_dl, val_dl = prepare_dataset(\n",
    "            embbeddings_size=embbeding_size,\n",
    "            split_val=0.5,\n",
    "            batch_size=32\n",
    "        )\n",
    "\n",
    "        baseline = Baseline(\n",
    "            in_dim=hparams[\"emb_dim\"],\n",
    "            hidden_dim=hparams[\"hidden_dim\"],\n",
    "            num_classes=NUM_CLASSES,\n",
    "            name=hparams[\"model_name\"]\n",
    "\n",
    "        ).to(device)\n",
    "\n",
    "        optimiser = torch.optim.Adam(baseline.parameters(), lr=hparams[\"lr\"])\n",
    "        loss_func = torch.nn.CrossEntropyLoss()\n",
    "\n",
    "        baseline = fit(\n",
    "            baseline,\n",
    "            optimiser,\n",
    "            loss_func,\n",
    "            train_dl,\n",
    "            test_dl,\n",
    "            epochs=hparams[\"num_epochs\"],\n",
    "            print_metrics=True\n",
    "        )\n",
    "        with torch.no_grad():\n",
    "            test_loss, test_f1, test_auc = validate(baseline, loss_func, test_dl)\n",
    "        data[\"test_f1\"].append(test_f1)\n",
    "        data[\"test_auc\"].append(test_auc)\n",
    "        data[\"model_name\"].append(hparams[\"model_name\"])\n"
   ]
  },
  {
   "cell_type": "code",
   "execution_count": 33,
   "id": "b7b7937e-7393-4ad6-85f4-0736cd93a12b",
   "metadata": {},
   "outputs": [],
   "source": [
    "pd.DataFrame(data).to_csv(RESULTS_DIR / \"baseline_stats.csv\", index=False)"
   ]
  }
 ],
 "metadata": {
  "kernelspec": {
   "display_name": "Python 3 (ipykernel)",
   "language": "python",
   "name": "python3"
  },
  "language_info": {
   "codemirror_mode": {
    "name": "ipython",
    "version": 3
   },
   "file_extension": ".py",
   "mimetype": "text/x-python",
   "name": "python",
   "nbconvert_exporter": "python",
   "pygments_lexer": "ipython3",
   "version": "3.10.8"
  },
  "widgets": {
   "application/vnd.jupyter.widget-state+json": {
    "state": {},
    "version_major": 2,
    "version_minor": 0
   }
  }
 },
 "nbformat": 4,
 "nbformat_minor": 5
}
