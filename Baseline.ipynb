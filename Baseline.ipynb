{
 "cells": [
  {
   "cell_type": "markdown",
   "id": "001d16a8-1356-4827-a1cc-a58dea41c309",
   "metadata": {},
   "source": [
    "# Baseline"
   ]
  },
  {
   "cell_type": "code",
   "execution_count": 1,
   "id": "78ee317e-2747-4c9e-985a-b6f71149570a",
   "metadata": {},
   "outputs": [],
   "source": [
    "import torch\n",
    "import torch.nn as nn\n",
    "import torch.nn.functional as F\n",
    "\n",
    "from torch.utils.data import Dataset, DataLoader, Subset\n",
    "from sklearn.model_selection import train_test_split\n",
    "from gensim.models import KeyedVectors\n",
    "from torch.utils.tensorboard import SummaryWriter\n",
    "\n",
    "import numpy as np\n",
    "\n",
    "from sklearn.metrics import roc_auc_score, f1_score\n",
    "\n",
    "from pathlib import Path\n",
    "from typing import Tuple\n",
    "import pandas as pd\n",
    "\n",
    "from tqdm import tqdm\n",
    "from functools import partial\n",
    "\n",
    "tqdm = partial(tqdm, position=0, leave=True)\n",
    "device = torch.device('cuda' if torch.cuda.is_available() else 'cpu')"
   ]
  },
  {
   "cell_type": "code",
   "execution_count": 2,
   "id": "d5adc3ea-d914-4e37-9c8b-4ba585d637cb",
   "metadata": {},
   "outputs": [],
   "source": [
    "EMBBEDDINGS_PATH = Path(\"embbeddings\")\n",
    "DATA_PATH = Path(\"data\")\n",
    "LOG_DIR = Path(\"logs\")\n",
    "RESULTS_DIR = Path(\"results\")\n",
    "CHECKPOINTS_DATA = Path(\"checkpoints\")\n",
    "RANDOM_STATE = 345\n",
    "\n",
    "NUM_CLASSES = 37\n",
    "\n",
    "CHECKPOINTS_DATA.mkdir(exist_ok=True)"
   ]
  },
  {
   "cell_type": "code",
   "execution_count": 3,
   "id": "c85c2c06-8c00-41b3-b144-a73a9c2da6ce",
   "metadata": {},
   "outputs": [
    {
     "data": {
      "text/plain": [
       "Reusing TensorBoard on port 6006 (pid 10411), started 2:38:17 ago. (Use '!kill 10411' to kill it.)"
      ]
     },
     "metadata": {},
     "output_type": "display_data"
    },
    {
     "data": {
      "text/html": [
       "\n",
       "      <iframe id=\"tensorboard-frame-b00bcf5447f56155\" width=\"100%\" height=\"800\" frameborder=\"0\">\n",
       "      </iframe>\n",
       "      <script>\n",
       "        (function() {\n",
       "          const frame = document.getElementById(\"tensorboard-frame-b00bcf5447f56155\");\n",
       "          const url = new URL(\"/\", window.location);\n",
       "          const port = 6006;\n",
       "          if (port) {\n",
       "            url.port = port;\n",
       "          }\n",
       "          frame.src = url;\n",
       "        })();\n",
       "      </script>\n",
       "    "
      ],
      "text/plain": [
       "<IPython.core.display.HTML object>"
      ]
     },
     "metadata": {},
     "output_type": "display_data"
    }
   ],
   "source": [
    "%load_ext tensorboard\n",
    "%tensorboard --logdir $LOG_DIR"
   ]
  },
  {
   "cell_type": "code",
   "execution_count": 4,
   "id": "f4b9e3a5-9113-4ea1-b72f-17d4ef2c71e3",
   "metadata": {},
   "outputs": [],
   "source": [
    "tensorboard_writer = SummaryWriter(LOG_DIR)"
   ]
  },
  {
   "cell_type": "markdown",
   "id": "d03f52f9-77a9-4434-9ec3-b1c6c7ef8a8f",
   "metadata": {},
   "source": [
    "## Przygotowanie zbioru i datasetu"
   ]
  },
  {
   "cell_type": "code",
   "execution_count": 11,
   "id": "1e10a2fc-8de7-4b01-8622-1bc8650d14cd",
   "metadata": {},
   "outputs": [],
   "source": [
    "class EmailSimpleDataset(Dataset):\n",
    "    \"\"\"Face Landmarks dataset.\"\"\"\n",
    "\n",
    "    def __init__(\n",
    "        self,\n",
    "        embbedings_size: int,\n",
    "    ):\n",
    "        \"\"\"\n",
    "        Args:\n",
    "            df (string): DataFrame with network data\n",
    "        \"\"\"\n",
    "\n",
    "        self.df = pd.read_csv(DATA_PATH / f\"train_data_{embbedings_size}.tsv\", sep=\" \")\n",
    "        self.embbeddings = KeyedVectors.load_word2vec_format(\n",
    "            EMBBEDDINGS_PATH / f\"embbeddings_{embbedings_size}.graphvectors\",\n",
    "            binary=False\n",
    "        )\n",
    "\n",
    "    def __len__(self):\n",
    "        return len(self.df)\n",
    "\n",
    "    def __getitem__(self, idx):\n",
    "        if torch.is_tensor(idx):\n",
    "            idx = idx.tolist()\n",
    "\n",
    "        embbedding_id = self.df.iloc[idx].embbedding_id\n",
    "        embbedding = self.embbeddings[embbedding_id] \n",
    "        \n",
    "        department = self.df.iloc[idx].department_id\n",
    "        embbedding = torch.from_numpy(embbedding)\n",
    "        return (embbedding, int(department))"
   ]
  },
  {
   "cell_type": "code",
   "execution_count": 6,
   "id": "78032550-dc3c-4dc3-b833-6a6369332668",
   "metadata": {},
   "outputs": [],
   "source": [
    "class Baseline(nn.Module):\n",
    "    def __init__(\n",
    "        self,\n",
    "        in_dim: int,\n",
    "        hidden_dim: int,\n",
    "        num_classes: int,\n",
    "        name: str = \"baseline\"\n",
    "    ):\n",
    "        super().__init__()\n",
    "        self.name = name\n",
    "        self.linear1 = nn.Linear(in_dim, hidden_dim)\n",
    "        self.relu = nn.ReLU()\n",
    "        self.linear2 = nn.Linear(hidden_dim, num_classes)\n",
    "        self.soft = nn.Softmax(dim=1)\n",
    "\n",
    "    def predict(self, x):\n",
    "        with torch.no_grad():\n",
    "            return self(x).argmax(dim=1)\n",
    "\n",
    "    def forward(self, x):\n",
    "        x = self.relu(self.linear1(x))\n",
    "        x = self.soft(self.linear2(x))\n",
    "        return x"
   ]
  },
  {
   "cell_type": "code",
   "execution_count": 7,
   "id": "064f67ba-ae50-478e-99ca-5555860a31ab",
   "metadata": {},
   "outputs": [],
   "source": [
    "def prepare_dataset(\n",
    "    embbeddings_size: int,\n",
    "    split_val: float = 0.5,\n",
    "    batch_size: int = 8\n",
    ") -> Tuple[DataLoader, DataLoader, Subset, Subset]:\n",
    "\n",
    "    dataset = EmailSimpleDataset(embbeddings_size)\n",
    "    df = dataset.df\n",
    "    train_ids, test_ids = train_test_split(\n",
    "        np.arange(len(dataset)),\n",
    "        stratify=np.array(dataset.df.department_id),\n",
    "        test_size=split_val,\n",
    "        random_state=RANDOM_STATE\n",
    "    )\n",
    "    test_ids, val_ids = train_test_split(\n",
    "        test_ids,\n",
    "        stratify=np.array([df.iloc[y][\"department_id\"] for y in test_ids]),\n",
    "        test_size=0.5,\n",
    "        random_state=RANDOM_STATE\n",
    "    )\n",
    "    \n",
    "    \n",
    "    train_ds, test_ds = Subset(dataset, train_ids), Subset(dataset, test_ids)\n",
    "    val_ds = Subset(dataset, val_ids)\n",
    "    \n",
    "    train_dl = DataLoader(train_ds, batch_size=batch_size, shuffle=True, pin_memory=True)\n",
    "    val_dl = DataLoader(val_ds, batch_size=batch_size, pin_memory=True)\n",
    "    test_dl = DataLoader(val_ds, batch_size=batch_size, pin_memory=True)\n",
    "    \n",
    "    return train_dl, test_dl, val_dl"
   ]
  },
  {
   "cell_type": "code",
   "execution_count": 8,
   "id": "cb5517b5-85a7-4a03-9611-4150d450a466",
   "metadata": {},
   "outputs": [],
   "source": [
    "def validate(\n",
    "    model: torch.nn.Module, \n",
    "    loss_fn: torch.nn.CrossEntropyLoss, \n",
    "    dataloader: DataLoader\n",
    ") -> Tuple[torch.Tensor, torch.Tensor, np.array]:\n",
    "    loss = 0\n",
    "    all_vals = 0\n",
    "    aucs = 0\n",
    "    target = []\n",
    "    preds = []\n",
    "    preds_vec = []\n",
    "    \n",
    "    for X_batch, y_batch in dataloader:\n",
    "        y_pred = model(X_batch.to(device))\n",
    "        all_vals += len(y_pred)\n",
    "        loss += loss_fn(y_pred, y_batch.to(device)).sum()\n",
    "        target.extend(y_batch.cpu().numpy())\n",
    "        preds.extend(torch.argmax(y_pred, dim=1).cpu().numpy())\n",
    "        preds_vec.append(y_pred.squeeze().cpu().numpy())\n",
    "    return (\n",
    "        loss / all_vals,\n",
    "        f1_score(target, preds, average=\"weighted\"),\n",
    "        roc_auc_score(y_true=target, y_score=np.concatenate(preds_vec, axis=0), multi_class=\"ovr\")\n",
    "    )"
   ]
  },
  {
   "cell_type": "code",
   "execution_count": 9,
   "id": "16c94a4b-8fa1-422b-8ed6-60973c7578ad",
   "metadata": {},
   "outputs": [],
   "source": [
    "def fit(\n",
    "    model: torch.nn.Module,\n",
    "    optimiser: torch.optim.Optimizer, \n",
    "    loss_fn: torch.nn.CrossEntropyLoss, \n",
    "    train_dl: DataLoader, \n",
    "    val_dl: DataLoader, \n",
    "    print_metrics: str = True,\n",
    "    epochs: int = 10\n",
    "):\n",
    "    prev_f1 = 0\n",
    "    for epoch in tqdm(range(epochs)):\n",
    "        best = False\n",
    "        for X_batch, y_batch in tqdm(train_dl):\n",
    "            y_pred = model(X_batch.to(device))\n",
    "            loss = loss_fn(y_pred, y_batch.to(device))\n",
    "            loss.backward()\n",
    "            optimiser.step()\n",
    "            optimiser.zero_grad()\n",
    "\n",
    "        if print_metrics: \n",
    "            model.eval()\n",
    "            with torch.no_grad():\n",
    "                \n",
    "                train_loss, train_f1, train_auc = validate(\n",
    "                  model=model, loss_fn=loss_fn, dataloader=train_dl\n",
    "                ) \n",
    "                val_loss, val_f1, val_auc = validate(\n",
    "                  model=model, loss_fn=loss_fn, dataloader=val_dl\n",
    "                )\n",
    "                \n",
    "                tensorboard_writer.add_scalars(\n",
    "                    main_tag=f'{model.name}_loss', \n",
    "                    tag_scalar_dict={\n",
    "                        'train': train_loss,\n",
    "                        'dev': val_loss\n",
    "                    }, \n",
    "                    global_step=epoch+1\n",
    "                )\n",
    "                \n",
    "                tensorboard_writer.add_scalars(\n",
    "                    main_tag=f'{model.name}_auc', \n",
    "                    tag_scalar_dict={\n",
    "                        'train': train_auc,\n",
    "                        'dev': val_auc\n",
    "                    }, \n",
    "                    global_step=epoch+1\n",
    "                )\n",
    "                \n",
    "                tensorboard_writer.add_scalars(\n",
    "                    main_tag=f'{model.name}_f1', \n",
    "                    tag_scalar_dict={\n",
    "                        'train': train_f1,\n",
    "                        'dev': val_f1\n",
    "                    }, \n",
    "                    global_step=epoch+1\n",
    "                )\n",
    "                if prev_f1 < val_f1:\n",
    "                    best = True\n",
    "                    prev_f1 = val_f1\n",
    "                    torch.save(model.state_dict(), CHECKPOINTS_DATA / f\"{model.name}.pt\")\n",
    "\n",
    "                print(\n",
    "                  f\"Epoch {epoch}:  (best: {best})\"\n",
    "                  f\"train loss = {train_loss:.3f} (auc: {train_auc:.3f} f1: {train_f1:.3f}), \"\n",
    "                  f\"validation loss = {val_loss:.3f} (auc: {val_auc:.3f} f1: {val_f1:.3f})\"\n",
    "                )\n",
    "    return model"
   ]
  },
  {
   "cell_type": "markdown",
   "id": "b20d80c6-bc1f-48fb-9297-b10de0d0e7bd",
   "metadata": {},
   "source": [
    "## Baseline dla wektorów osadzeń o rozmiarze 64"
   ]
  },
  {
   "cell_type": "code",
   "execution_count": 17,
   "id": "95c6ee3d-e6b7-41a9-892a-25d9d2521f8c",
   "metadata": {},
   "outputs": [],
   "source": [
    "hparams = {\n",
    "    \"num_epochs\": 20,\n",
    "    \"hidden_dim\":  32,\n",
    "    \"emb_dim\": 64,\n",
    "    \"lr\": 1e-2,\n",
    "    \"model_name\": \"Baseline_64\"\n",
    "}"
   ]
  },
  {
   "cell_type": "code",
   "execution_count": 18,
   "id": "14ab5bc0-c1d8-4084-9059-1980ca313fe7",
   "metadata": {
    "tags": []
   },
   "outputs": [
    {
     "name": "stderr",
     "output_type": "stream",
     "text": [
      "100%|██████████████████████████████████████████| 16/16 [00:00<00:00, 134.36it/s]\n",
      "  5%|██▏                                         | 1/20 [00:00<00:06,  3.17it/s]"
     ]
    },
    {
     "name": "stdout",
     "output_type": "stream",
     "text": [
      "Epoch 0:  (best: True)train loss = 0.114 (auc: 0.851 f1: 0.100), validation loss = 0.115 (auc: 0.838 f1: 0.094)\n"
     ]
    },
    {
     "name": "stderr",
     "output_type": "stream",
     "text": [
      "100%|██████████████████████████████████████████| 16/16 [00:00<00:00, 150.80it/s]\n",
      " 10%|████▍                                       | 2/20 [00:00<00:05,  3.43it/s]"
     ]
    },
    {
     "name": "stdout",
     "output_type": "stream",
     "text": [
      "Epoch 1:  (best: True)train loss = 0.108 (auc: 0.842 f1: 0.264), validation loss = 0.109 (auc: 0.851 f1: 0.225)\n"
     ]
    },
    {
     "name": "stderr",
     "output_type": "stream",
     "text": [
      "100%|██████████████████████████████████████████| 16/16 [00:00<00:00, 118.65it/s]\n",
      " 15%|██████▌                                     | 3/20 [00:00<00:05,  3.35it/s]"
     ]
    },
    {
     "name": "stdout",
     "output_type": "stream",
     "text": [
      "Epoch 2:  (best: True)train loss = 0.103 (auc: 0.856 f1: 0.432), validation loss = 0.104 (auc: 0.862 f1: 0.411)\n"
     ]
    },
    {
     "name": "stderr",
     "output_type": "stream",
     "text": [
      "100%|██████████████████████████████████████████| 16/16 [00:00<00:00, 157.99it/s]\n",
      " 20%|████████▊                                   | 4/20 [00:01<00:04,  3.48it/s]"
     ]
    },
    {
     "name": "stdout",
     "output_type": "stream",
     "text": [
      "Epoch 3:  (best: True)train loss = 0.102 (auc: 0.851 f1: 0.432), validation loss = 0.103 (auc: 0.856 f1: 0.413)\n"
     ]
    },
    {
     "name": "stderr",
     "output_type": "stream",
     "text": [
      "100%|██████████████████████████████████████████| 16/16 [00:00<00:00, 164.13it/s]\n",
      " 25%|███████████                                 | 5/20 [00:01<00:04,  3.55it/s]"
     ]
    },
    {
     "name": "stdout",
     "output_type": "stream",
     "text": [
      "Epoch 4:  (best: True)train loss = 0.101 (auc: 0.853 f1: 0.452), validation loss = 0.102 (auc: 0.860 f1: 0.419)\n"
     ]
    },
    {
     "name": "stderr",
     "output_type": "stream",
     "text": [
      "100%|██████████████████████████████████████████| 16/16 [00:00<00:00, 150.15it/s]\n",
      " 30%|█████████████▏                              | 6/20 [00:01<00:03,  3.55it/s]"
     ]
    },
    {
     "name": "stdout",
     "output_type": "stream",
     "text": [
      "Epoch 5:  (best: True)train loss = 0.100 (auc: 0.869 f1: 0.532), validation loss = 0.101 (auc: 0.874 f1: 0.510)\n"
     ]
    },
    {
     "name": "stderr",
     "output_type": "stream",
     "text": [
      "100%|██████████████████████████████████████████| 16/16 [00:00<00:00, 158.64it/s]\n",
      " 35%|███████████████▍                            | 7/20 [00:01<00:03,  3.62it/s]"
     ]
    },
    {
     "name": "stdout",
     "output_type": "stream",
     "text": [
      "Epoch 6:  (best: True)train loss = 0.099 (auc: 0.874 f1: 0.558), validation loss = 0.100 (auc: 0.875 f1: 0.535)\n"
     ]
    },
    {
     "name": "stderr",
     "output_type": "stream",
     "text": [
      "100%|██████████████████████████████████████████| 16/16 [00:00<00:00, 163.35it/s]\n",
      " 40%|█████████████████▌                          | 8/20 [00:02<00:03,  3.69it/s]"
     ]
    },
    {
     "name": "stdout",
     "output_type": "stream",
     "text": [
      "Epoch 7:  (best: False)train loss = 0.098 (auc: 0.881 f1: 0.564), validation loss = 0.100 (auc: 0.885 f1: 0.527)\n"
     ]
    },
    {
     "name": "stderr",
     "output_type": "stream",
     "text": [
      "100%|██████████████████████████████████████████| 16/16 [00:00<00:00, 167.14it/s]\n",
      " 45%|███████████████████▊                        | 9/20 [00:02<00:02,  3.75it/s]"
     ]
    },
    {
     "name": "stdout",
     "output_type": "stream",
     "text": [
      "Epoch 8:  (best: False)train loss = 0.098 (auc: 0.880 f1: 0.562), validation loss = 0.099 (auc: 0.882 f1: 0.530)\n"
     ]
    },
    {
     "name": "stderr",
     "output_type": "stream",
     "text": [
      "100%|██████████████████████████████████████████| 16/16 [00:00<00:00, 160.78it/s]\n",
      " 50%|█████████████████████▌                     | 10/20 [00:02<00:02,  3.63it/s]"
     ]
    },
    {
     "name": "stdout",
     "output_type": "stream",
     "text": [
      "Epoch 9:  (best: True)train loss = 0.097 (auc: 0.886 f1: 0.588), validation loss = 0.099 (auc: 0.888 f1: 0.538)\n"
     ]
    },
    {
     "name": "stderr",
     "output_type": "stream",
     "text": [
      "100%|██████████████████████████████████████████| 16/16 [00:00<00:00, 148.58it/s]\n",
      " 55%|███████████████████████▋                   | 11/20 [00:03<00:02,  3.62it/s]"
     ]
    },
    {
     "name": "stdout",
     "output_type": "stream",
     "text": [
      "Epoch 10:  (best: True)train loss = 0.097 (auc: 0.889 f1: 0.593), validation loss = 0.099 (auc: 0.892 f1: 0.540)\n"
     ]
    },
    {
     "name": "stderr",
     "output_type": "stream",
     "text": [
      "100%|██████████████████████████████████████████| 16/16 [00:00<00:00, 161.84it/s]\n",
      " 60%|█████████████████████████▊                 | 12/20 [00:03<00:02,  3.69it/s]"
     ]
    },
    {
     "name": "stdout",
     "output_type": "stream",
     "text": [
      "Epoch 11:  (best: True)train loss = 0.096 (auc: 0.898 f1: 0.642), validation loss = 0.099 (auc: 0.896 f1: 0.594)\n"
     ]
    },
    {
     "name": "stderr",
     "output_type": "stream",
     "text": [
      "100%|██████████████████████████████████████████| 16/16 [00:00<00:00, 163.53it/s]\n",
      " 65%|███████████████████████████▉               | 13/20 [00:03<00:01,  3.76it/s]"
     ]
    },
    {
     "name": "stdout",
     "output_type": "stream",
     "text": [
      "Epoch 12:  (best: False)train loss = 0.096 (auc: 0.898 f1: 0.630), validation loss = 0.098 (auc: 0.896 f1: 0.574)\n"
     ]
    },
    {
     "name": "stderr",
     "output_type": "stream",
     "text": [
      "100%|██████████████████████████████████████████| 16/16 [00:00<00:00, 167.96it/s]\n",
      " 70%|██████████████████████████████             | 14/20 [00:03<00:01,  3.82it/s]"
     ]
    },
    {
     "name": "stdout",
     "output_type": "stream",
     "text": [
      "Epoch 13:  (best: False)train loss = 0.096 (auc: 0.899 f1: 0.639), validation loss = 0.098 (auc: 0.897 f1: 0.591)\n"
     ]
    },
    {
     "name": "stderr",
     "output_type": "stream",
     "text": [
      "100%|██████████████████████████████████████████| 16/16 [00:00<00:00, 164.40it/s]\n",
      " 75%|████████████████████████████████▎          | 15/20 [00:04<00:01,  3.85it/s]"
     ]
    },
    {
     "name": "stdout",
     "output_type": "stream",
     "text": [
      "Epoch 14:  (best: False)train loss = 0.096 (auc: 0.900 f1: 0.641), validation loss = 0.098 (auc: 0.898 f1: 0.590)\n"
     ]
    },
    {
     "name": "stderr",
     "output_type": "stream",
     "text": [
      "100%|██████████████████████████████████████████| 16/16 [00:00<00:00, 168.05it/s]\n",
      " 80%|██████████████████████████████████▍        | 16/20 [00:04<00:01,  3.84it/s]"
     ]
    },
    {
     "name": "stdout",
     "output_type": "stream",
     "text": [
      "Epoch 15:  (best: False)train loss = 0.096 (auc: 0.901 f1: 0.637), validation loss = 0.098 (auc: 0.897 f1: 0.588)\n"
     ]
    },
    {
     "name": "stderr",
     "output_type": "stream",
     "text": [
      "100%|██████████████████████████████████████████| 16/16 [00:00<00:00, 148.92it/s]\n",
      " 85%|████████████████████████████████████▌      | 17/20 [00:04<00:00,  3.76it/s]"
     ]
    },
    {
     "name": "stdout",
     "output_type": "stream",
     "text": [
      "Epoch 16:  (best: False)train loss = 0.096 (auc: 0.902 f1: 0.636), validation loss = 0.098 (auc: 0.898 f1: 0.586)\n"
     ]
    },
    {
     "name": "stderr",
     "output_type": "stream",
     "text": [
      "100%|██████████████████████████████████████████| 16/16 [00:00<00:00, 161.09it/s]\n",
      " 90%|██████████████████████████████████████▋    | 18/20 [00:04<00:00,  3.78it/s]"
     ]
    },
    {
     "name": "stdout",
     "output_type": "stream",
     "text": [
      "Epoch 17:  (best: False)train loss = 0.096 (auc: 0.902 f1: 0.635), validation loss = 0.098 (auc: 0.897 f1: 0.582)\n"
     ]
    },
    {
     "name": "stderr",
     "output_type": "stream",
     "text": [
      "100%|██████████████████████████████████████████| 16/16 [00:00<00:00, 160.96it/s]\n",
      " 95%|████████████████████████████████████████▊  | 19/20 [00:05<00:00,  3.76it/s]"
     ]
    },
    {
     "name": "stdout",
     "output_type": "stream",
     "text": [
      "Epoch 18:  (best: True)train loss = 0.096 (auc: 0.909 f1: 0.676), validation loss = 0.098 (auc: 0.900 f1: 0.608)\n"
     ]
    },
    {
     "name": "stderr",
     "output_type": "stream",
     "text": [
      "100%|██████████████████████████████████████████| 16/16 [00:00<00:00, 160.32it/s]\n",
      "100%|███████████████████████████████████████████| 20/20 [00:05<00:00,  3.68it/s]"
     ]
    },
    {
     "name": "stdout",
     "output_type": "stream",
     "text": [
      "Epoch 19:  (best: False)train loss = 0.095 (auc: 0.905 f1: 0.663), validation loss = 0.098 (auc: 0.901 f1: 0.586)\n"
     ]
    },
    {
     "name": "stderr",
     "output_type": "stream",
     "text": [
      "\n"
     ]
    }
   ],
   "source": [
    "train_dl, test_dl, val_dl = prepare_dataset(\n",
    "    embbeddings_size=64,\n",
    "    split_val=0.5,\n",
    "    batch_size=32\n",
    ")\n",
    "\n",
    "baseline = Baseline(\n",
    "    in_dim=hparams[\"emb_dim\"],\n",
    "    hidden_dim=hparams[\"hidden_dim\"],\n",
    "    num_classes=NUM_CLASSES,\n",
    "    name=hparams[\"model_name\"]\n",
    "    \n",
    ").to(device)\n",
    "\n",
    "optimiser = torch.optim.Adam(baseline.parameters(), lr=hparams[\"lr\"])\n",
    "loss_func = torch.nn.CrossEntropyLoss()\n",
    "\n",
    "baseline = fit(\n",
    "    baseline,\n",
    "    optimiser,\n",
    "    loss_func,\n",
    "    train_dl,\n",
    "    test_dl,\n",
    "    epochs=hparams[\"num_epochs\"],\n",
    "    print_metrics=True\n",
    ")"
   ]
  },
  {
   "cell_type": "code",
   "execution_count": 19,
   "id": "e12978a3-97a4-4135-abbf-b99e822747af",
   "metadata": {},
   "outputs": [],
   "source": [
    "with torch.no_grad():\n",
    "    test_loss, test_f1, test_auc = validate(baseline, loss_func, test_dl)"
   ]
  },
  {
   "cell_type": "code",
   "execution_count": 20,
   "id": "cb87d4bb-925b-46e5-b975-56e257dd84fe",
   "metadata": {},
   "outputs": [
    {
     "name": "stdout",
     "output_type": "stream",
     "text": [
      "\n",
      "          Test loss: 0.09814397245645523,\n",
      "          Test F1: 0.586444934334713,\n",
      "          Test AUC: 0.9008375183180345\n",
      "      \n"
     ]
    }
   ],
   "source": [
    "print(f\"\"\"\n",
    "          Test loss: {test_loss},\n",
    "          Test F1: {test_f1},\n",
    "          Test AUC: {test_auc}\n",
    "      \"\"\")"
   ]
  },
  {
   "cell_type": "markdown",
   "id": "3445695c-1900-4e65-8db9-3587e9a6f9b1",
   "metadata": {},
   "source": [
    "## Baseline dla wektorów osadzeń o rozmiarze 128"
   ]
  },
  {
   "cell_type": "code",
   "execution_count": 27,
   "id": "9410d33a-d90a-451c-8984-49a5ed4f46e7",
   "metadata": {},
   "outputs": [],
   "source": [
    "hparams = {\n",
    "    \"num_epochs\": 30,\n",
    "    \"hidden_dim\":  32,\n",
    "    \"emb_dim\": 128,\n",
    "    \"lr\": 5e-3,\n",
    "    \"model_name\": \"Baseline_128\"\n",
    "}"
   ]
  },
  {
   "cell_type": "code",
   "execution_count": 28,
   "id": "84525679-84cd-4773-9ad1-93216e4080b9",
   "metadata": {},
   "outputs": [
    {
     "name": "stderr",
     "output_type": "stream",
     "text": [
      "100%|██████████████████████████████████████████| 16/16 [00:00<00:00, 157.20it/s]\n",
      "  3%|█▍                                          | 1/30 [00:00<00:07,  3.78it/s]"
     ]
    },
    {
     "name": "stdout",
     "output_type": "stream",
     "text": [
      "Epoch 0:  (best: True)train loss = 0.117 (auc: 0.891 f1: 0.194), validation loss = 0.117 (auc: 0.824 f1: 0.175)\n"
     ]
    },
    {
     "name": "stderr",
     "output_type": "stream",
     "text": [
      "100%|██████████████████████████████████████████| 16/16 [00:00<00:00, 158.40it/s]\n",
      "  7%|██▉                                         | 2/30 [00:00<00:07,  3.76it/s]"
     ]
    },
    {
     "name": "stdout",
     "output_type": "stream",
     "text": [
      "Epoch 1:  (best: False)train loss = 0.111 (auc: 0.802 f1: 0.153), validation loss = 0.112 (auc: 0.794 f1: 0.148)\n"
     ]
    },
    {
     "name": "stderr",
     "output_type": "stream",
     "text": [
      "100%|██████████████████████████████████████████| 16/16 [00:00<00:00, 154.74it/s]\n",
      " 10%|████▍                                       | 3/30 [00:00<00:07,  3.73it/s]"
     ]
    },
    {
     "name": "stdout",
     "output_type": "stream",
     "text": [
      "Epoch 2:  (best: True)train loss = 0.108 (auc: 0.803 f1: 0.294), validation loss = 0.109 (auc: 0.801 f1: 0.271)\n"
     ]
    },
    {
     "name": "stderr",
     "output_type": "stream",
     "text": [
      "100%|██████████████████████████████████████████| 16/16 [00:00<00:00, 145.73it/s]\n",
      " 13%|█████▊                                      | 4/30 [00:01<00:07,  3.68it/s]"
     ]
    },
    {
     "name": "stdout",
     "output_type": "stream",
     "text": [
      "Epoch 3:  (best: True)train loss = 0.105 (auc: 0.819 f1: 0.359), validation loss = 0.106 (auc: 0.829 f1: 0.337)\n"
     ]
    },
    {
     "name": "stderr",
     "output_type": "stream",
     "text": [
      "100%|██████████████████████████████████████████| 16/16 [00:00<00:00, 158.45it/s]\n",
      " 17%|███████▎                                    | 5/30 [00:01<00:06,  3.69it/s]"
     ]
    },
    {
     "name": "stdout",
     "output_type": "stream",
     "text": [
      "Epoch 4:  (best: False)train loss = 0.104 (auc: 0.831 f1: 0.352), validation loss = 0.105 (auc: 0.843 f1: 0.328)\n"
     ]
    },
    {
     "name": "stderr",
     "output_type": "stream",
     "text": [
      "100%|██████████████████████████████████████████| 16/16 [00:00<00:00, 165.22it/s]\n",
      " 20%|████████▊                                   | 6/30 [00:01<00:06,  3.72it/s]"
     ]
    },
    {
     "name": "stdout",
     "output_type": "stream",
     "text": [
      "Epoch 5:  (best: False)train loss = 0.103 (auc: 0.831 f1: 0.353), validation loss = 0.105 (auc: 0.844 f1: 0.325)\n"
     ]
    },
    {
     "name": "stderr",
     "output_type": "stream",
     "text": [
      "100%|██████████████████████████████████████████| 16/16 [00:00<00:00, 157.46it/s]\n",
      " 23%|██████████▎                                 | 7/30 [00:01<00:06,  3.74it/s]"
     ]
    },
    {
     "name": "stdout",
     "output_type": "stream",
     "text": [
      "Epoch 6:  (best: True)train loss = 0.103 (auc: 0.837 f1: 0.414), validation loss = 0.104 (auc: 0.848 f1: 0.379)\n"
     ]
    },
    {
     "name": "stderr",
     "output_type": "stream",
     "text": [
      "100%|██████████████████████████████████████████| 16/16 [00:00<00:00, 163.58it/s]\n",
      " 27%|███████████▋                                | 8/30 [00:02<00:05,  3.78it/s]"
     ]
    },
    {
     "name": "stdout",
     "output_type": "stream",
     "text": [
      "Epoch 7:  (best: True)train loss = 0.101 (auc: 0.847 f1: 0.425), validation loss = 0.103 (auc: 0.857 f1: 0.400)\n"
     ]
    },
    {
     "name": "stderr",
     "output_type": "stream",
     "text": [
      "100%|██████████████████████████████████████████| 16/16 [00:00<00:00, 168.06it/s]\n",
      " 30%|█████████████▏                              | 9/30 [00:02<00:05,  3.82it/s]"
     ]
    },
    {
     "name": "stdout",
     "output_type": "stream",
     "text": [
      "Epoch 8:  (best: True)train loss = 0.101 (auc: 0.855 f1: 0.479), validation loss = 0.102 (auc: 0.868 f1: 0.453)\n"
     ]
    },
    {
     "name": "stderr",
     "output_type": "stream",
     "text": [
      "100%|██████████████████████████████████████████| 16/16 [00:00<00:00, 160.07it/s]\n",
      " 33%|██████████████▎                            | 10/30 [00:02<00:05,  3.80it/s]"
     ]
    },
    {
     "name": "stdout",
     "output_type": "stream",
     "text": [
      "Epoch 9:  (best: True)train loss = 0.100 (auc: 0.861 f1: 0.486), validation loss = 0.102 (auc: 0.870 f1: 0.456)\n"
     ]
    },
    {
     "name": "stderr",
     "output_type": "stream",
     "text": [
      "100%|██████████████████████████████████████████| 16/16 [00:00<00:00, 154.37it/s]\n",
      " 37%|███████████████▊                           | 11/30 [00:02<00:05,  3.74it/s]"
     ]
    },
    {
     "name": "stdout",
     "output_type": "stream",
     "text": [
      "Epoch 10:  (best: True)train loss = 0.100 (auc: 0.867 f1: 0.486), validation loss = 0.101 (auc: 0.875 f1: 0.456)\n"
     ]
    },
    {
     "name": "stderr",
     "output_type": "stream",
     "text": [
      "100%|██████████████████████████████████████████| 16/16 [00:00<00:00, 158.52it/s]\n",
      " 40%|█████████████████▏                         | 12/30 [00:03<00:04,  3.75it/s]"
     ]
    },
    {
     "name": "stdout",
     "output_type": "stream",
     "text": [
      "Epoch 11:  (best: False)train loss = 0.100 (auc: 0.869 f1: 0.484), validation loss = 0.101 (auc: 0.877 f1: 0.454)\n"
     ]
    },
    {
     "name": "stderr",
     "output_type": "stream",
     "text": [
      "100%|██████████████████████████████████████████| 16/16 [00:00<00:00, 161.13it/s]\n",
      " 43%|██████████████████▋                        | 13/30 [00:03<00:04,  3.76it/s]"
     ]
    },
    {
     "name": "stdout",
     "output_type": "stream",
     "text": [
      "Epoch 12:  (best: False)train loss = 0.099 (auc: 0.872 f1: 0.483), validation loss = 0.101 (auc: 0.878 f1: 0.454)\n"
     ]
    },
    {
     "name": "stderr",
     "output_type": "stream",
     "text": [
      "100%|██████████████████████████████████████████| 16/16 [00:00<00:00, 156.68it/s]\n",
      " 47%|████████████████████                       | 14/30 [00:03<00:04,  3.72it/s]"
     ]
    },
    {
     "name": "stdout",
     "output_type": "stream",
     "text": [
      "Epoch 13:  (best: True)train loss = 0.099 (auc: 0.880 f1: 0.555), validation loss = 0.101 (auc: 0.885 f1: 0.511)\n"
     ]
    },
    {
     "name": "stderr",
     "output_type": "stream",
     "text": [
      "100%|██████████████████████████████████████████| 16/16 [00:00<00:00, 151.00it/s]\n",
      " 50%|█████████████████████▌                     | 15/30 [00:04<00:04,  3.68it/s]"
     ]
    },
    {
     "name": "stdout",
     "output_type": "stream",
     "text": [
      "Epoch 14:  (best: True)train loss = 0.099 (auc: 0.884 f1: 0.583), validation loss = 0.100 (auc: 0.888 f1: 0.530)\n"
     ]
    },
    {
     "name": "stderr",
     "output_type": "stream",
     "text": [
      "100%|██████████████████████████████████████████| 16/16 [00:00<00:00, 155.87it/s]\n",
      " 53%|██████████████████████▉                    | 16/30 [00:04<00:03,  3.66it/s]"
     ]
    },
    {
     "name": "stdout",
     "output_type": "stream",
     "text": [
      "Epoch 15:  (best: True)train loss = 0.098 (auc: 0.886 f1: 0.586), validation loss = 0.100 (auc: 0.889 f1: 0.544)\n"
     ]
    },
    {
     "name": "stderr",
     "output_type": "stream",
     "text": [
      "100%|██████████████████████████████████████████| 16/16 [00:00<00:00, 157.79it/s]\n",
      " 57%|████████████████████████▎                  | 17/30 [00:04<00:03,  3.67it/s]"
     ]
    },
    {
     "name": "stdout",
     "output_type": "stream",
     "text": [
      "Epoch 16:  (best: True)train loss = 0.097 (auc: 0.888 f1: 0.630), validation loss = 0.100 (auc: 0.894 f1: 0.579)\n"
     ]
    },
    {
     "name": "stderr",
     "output_type": "stream",
     "text": [
      "100%|██████████████████████████████████████████| 16/16 [00:00<00:00, 156.74it/s]\n",
      " 60%|█████████████████████████▊                 | 18/30 [00:04<00:03,  3.69it/s]"
     ]
    },
    {
     "name": "stdout",
     "output_type": "stream",
     "text": [
      "Epoch 17:  (best: False)train loss = 0.097 (auc: 0.890 f1: 0.624), validation loss = 0.099 (auc: 0.894 f1: 0.568)\n"
     ]
    },
    {
     "name": "stderr",
     "output_type": "stream",
     "text": [
      "100%|██████████████████████████████████████████| 16/16 [00:00<00:00, 160.23it/s]\n",
      " 63%|███████████████████████████▏               | 19/30 [00:05<00:02,  3.71it/s]"
     ]
    },
    {
     "name": "stdout",
     "output_type": "stream",
     "text": [
      "Epoch 18:  (best: True)train loss = 0.096 (auc: 0.893 f1: 0.647), validation loss = 0.099 (auc: 0.896 f1: 0.586)\n"
     ]
    },
    {
     "name": "stderr",
     "output_type": "stream",
     "text": [
      "100%|██████████████████████████████████████████| 16/16 [00:00<00:00, 160.93it/s]\n",
      " 67%|████████████████████████████▋              | 20/30 [00:05<00:02,  3.73it/s]"
     ]
    },
    {
     "name": "stdout",
     "output_type": "stream",
     "text": [
      "Epoch 19:  (best: True)train loss = 0.096 (auc: 0.895 f1: 0.653), validation loss = 0.099 (auc: 0.896 f1: 0.593)\n"
     ]
    },
    {
     "name": "stderr",
     "output_type": "stream",
     "text": [
      "100%|██████████████████████████████████████████| 16/16 [00:00<00:00, 156.02it/s]\n",
      " 70%|██████████████████████████████             | 21/30 [00:05<00:02,  3.73it/s]"
     ]
    },
    {
     "name": "stdout",
     "output_type": "stream",
     "text": [
      "Epoch 20:  (best: False)train loss = 0.096 (auc: 0.897 f1: 0.654), validation loss = 0.099 (auc: 0.897 f1: 0.593)\n"
     ]
    },
    {
     "name": "stderr",
     "output_type": "stream",
     "text": [
      "100%|██████████████████████████████████████████| 16/16 [00:00<00:00, 161.69it/s]\n",
      " 73%|███████████████████████████████▌           | 22/30 [00:05<00:02,  3.75it/s]"
     ]
    },
    {
     "name": "stdout",
     "output_type": "stream",
     "text": [
      "Epoch 21:  (best: False)train loss = 0.096 (auc: 0.899 f1: 0.656), validation loss = 0.099 (auc: 0.896 f1: 0.592)\n"
     ]
    },
    {
     "name": "stderr",
     "output_type": "stream",
     "text": [
      "100%|██████████████████████████████████████████| 16/16 [00:00<00:00, 161.47it/s]\n",
      " 77%|████████████████████████████████▉          | 23/30 [00:06<00:01,  3.76it/s]"
     ]
    },
    {
     "name": "stdout",
     "output_type": "stream",
     "text": [
      "Epoch 22:  (best: True)train loss = 0.096 (auc: 0.900 f1: 0.658), validation loss = 0.099 (auc: 0.893 f1: 0.595)\n"
     ]
    },
    {
     "name": "stderr",
     "output_type": "stream",
     "text": [
      "100%|██████████████████████████████████████████| 16/16 [00:00<00:00, 161.72it/s]\n",
      " 80%|██████████████████████████████████▍        | 24/30 [00:06<00:01,  3.73it/s]"
     ]
    },
    {
     "name": "stdout",
     "output_type": "stream",
     "text": [
      "Epoch 23:  (best: True)train loss = 0.097 (auc: 0.901 f1: 0.656), validation loss = 0.099 (auc: 0.892 f1: 0.597)\n"
     ]
    },
    {
     "name": "stderr",
     "output_type": "stream",
     "text": [
      "100%|██████████████████████████████████████████| 16/16 [00:00<00:00, 150.96it/s]\n",
      " 83%|███████████████████████████████████▊       | 25/30 [00:06<00:01,  3.69it/s]"
     ]
    },
    {
     "name": "stdout",
     "output_type": "stream",
     "text": [
      "Epoch 24:  (best: False)train loss = 0.095 (auc: 0.901 f1: 0.653), validation loss = 0.099 (auc: 0.893 f1: 0.594)\n"
     ]
    },
    {
     "name": "stderr",
     "output_type": "stream",
     "text": [
      "100%|██████████████████████████████████████████| 16/16 [00:00<00:00, 156.59it/s]\n",
      " 87%|█████████████████████████████████████▎     | 26/30 [00:06<00:01,  3.71it/s]"
     ]
    },
    {
     "name": "stdout",
     "output_type": "stream",
     "text": [
      "Epoch 25:  (best: True)train loss = 0.095 (auc: 0.902 f1: 0.655), validation loss = 0.099 (auc: 0.891 f1: 0.597)\n"
     ]
    },
    {
     "name": "stderr",
     "output_type": "stream",
     "text": [
      "100%|██████████████████████████████████████████| 16/16 [00:00<00:00, 165.22it/s]\n",
      " 90%|██████████████████████████████████████▋    | 27/30 [00:07<00:00,  3.76it/s]"
     ]
    },
    {
     "name": "stdout",
     "output_type": "stream",
     "text": [
      "Epoch 26:  (best: False)train loss = 0.095 (auc: 0.903 f1: 0.655), validation loss = 0.098 (auc: 0.892 f1: 0.593)\n"
     ]
    },
    {
     "name": "stderr",
     "output_type": "stream",
     "text": [
      "100%|██████████████████████████████████████████| 16/16 [00:00<00:00, 163.54it/s]\n",
      " 93%|████████████████████████████████████████▏  | 28/30 [00:07<00:00,  3.78it/s]"
     ]
    },
    {
     "name": "stdout",
     "output_type": "stream",
     "text": [
      "Epoch 27:  (best: False)train loss = 0.096 (auc: 0.903 f1: 0.654), validation loss = 0.098 (auc: 0.891 f1: 0.596)\n"
     ]
    },
    {
     "name": "stderr",
     "output_type": "stream",
     "text": [
      "100%|██████████████████████████████████████████| 16/16 [00:00<00:00, 168.77it/s]\n",
      " 97%|█████████████████████████████████████████▌ | 29/30 [00:07<00:00,  3.82it/s]"
     ]
    },
    {
     "name": "stdout",
     "output_type": "stream",
     "text": [
      "Epoch 28:  (best: False)train loss = 0.095 (auc: 0.903 f1: 0.654), validation loss = 0.098 (auc: 0.891 f1: 0.593)\n"
     ]
    },
    {
     "name": "stderr",
     "output_type": "stream",
     "text": [
      "100%|██████████████████████████████████████████| 16/16 [00:00<00:00, 169.70it/s]\n",
      "100%|███████████████████████████████████████████| 30/30 [00:08<00:00,  3.75it/s]"
     ]
    },
    {
     "name": "stdout",
     "output_type": "stream",
     "text": [
      "Epoch 29:  (best: False)train loss = 0.096 (auc: 0.903 f1: 0.653), validation loss = 0.098 (auc: 0.891 f1: 0.593)\n"
     ]
    },
    {
     "name": "stderr",
     "output_type": "stream",
     "text": [
      "\n"
     ]
    }
   ],
   "source": [
    "train_dl, test_dl, val_dl = prepare_dataset(\n",
    "    embbeddings_size=128,\n",
    "    split_val=0.5,\n",
    "    batch_size=32\n",
    ")\n",
    "\n",
    "baseline = Baseline(\n",
    "    in_dim=hparams[\"emb_dim\"],\n",
    "    hidden_dim=hparams[\"hidden_dim\"],\n",
    "    num_classes=NUM_CLASSES,\n",
    "    name=hparams[\"model_name\"]\n",
    "    \n",
    ").to(device)\n",
    "\n",
    "optimiser = torch.optim.Adam(baseline.parameters(), lr=hparams[\"lr\"])\n",
    "loss_func = torch.nn.CrossEntropyLoss()\n",
    "\n",
    "baseline = fit(\n",
    "    baseline,\n",
    "    optimiser,\n",
    "    loss_func,\n",
    "    train_dl,\n",
    "    test_dl,\n",
    "    epochs=hparams[\"num_epochs\"],\n",
    "    print_metrics=True\n",
    ")"
   ]
  },
  {
   "cell_type": "code",
   "execution_count": 29,
   "id": "bf249933-c196-4c24-9a67-3e73c590af20",
   "metadata": {},
   "outputs": [],
   "source": [
    "with torch.no_grad():\n",
    "    test_loss, test_f1, test_auc = validate(baseline, loss_func, test_dl)"
   ]
  },
  {
   "cell_type": "code",
   "execution_count": 30,
   "id": "9c19c84c-1fdd-4700-a367-b75a5fd4d60b",
   "metadata": {},
   "outputs": [
    {
     "name": "stdout",
     "output_type": "stream",
     "text": [
      "\n",
      "          Test loss: 0.09844127297401428,\n",
      "          Test F1: 0.5930532099677123,\n",
      "          Test AUC: 0.8906585195034016\n",
      "      \n"
     ]
    }
   ],
   "source": [
    "print(f\"\"\"\n",
    "          Test loss: {test_loss},\n",
    "          Test F1: {test_f1},\n",
    "          Test AUC: {test_auc}\n",
    "      \"\"\")"
   ]
  },
  {
   "cell_type": "code",
   "execution_count": 12,
   "id": "866f8729-9289-4c9a-8c53-bc8f4964f197",
   "metadata": {
    "collapsed": true,
    "jupyter": {
     "outputs_hidden": true
    },
    "tags": []
   },
   "outputs": [
    {
     "name": "stderr",
     "output_type": "stream",
     "text": [
      "  0%|                                                    | 0/16 [00:00<?, ?it/s]/tmp/ipykernel_6703/1109922492.py:30: UserWarning: The given NumPy array is not writable, and PyTorch does not support non-writable tensors. This means writing to this tensor will result in undefined behavior. You may want to copy the array to protect its data or make it writable before converting it to a tensor. This type of warning will be suppressed for the rest of this program. (Triggered internally at ../torch/csrc/utils/tensor_numpy.cpp:199.)\n",
      "  embbedding = torch.from_numpy(embbedding)\n",
      "100%|███████████████████████████████████████████| 16/16 [00:01<00:00, 14.08it/s]\n",
      "  3%|█▍                                          | 1/30 [00:01<00:38,  1.31s/it]"
     ]
    },
    {
     "name": "stdout",
     "output_type": "stream",
     "text": [
      "Epoch 0:  (best: True)train loss = 0.115 (auc: 0.542 f1: 0.051), validation loss = 0.115 (auc: 0.545 f1: 0.035)\n"
     ]
    },
    {
     "name": "stderr",
     "output_type": "stream",
     "text": [
      "100%|██████████████████████████████████████████| 16/16 [00:00<00:00, 160.56it/s]\n",
      "  7%|██▉                                         | 2/30 [00:01<00:19,  1.44it/s]"
     ]
    },
    {
     "name": "stdout",
     "output_type": "stream",
     "text": [
      "Epoch 1:  (best: True)train loss = 0.113 (auc: 0.756 f1: 0.082), validation loss = 0.114 (auc: 0.737 f1: 0.072)\n"
     ]
    },
    {
     "name": "stderr",
     "output_type": "stream",
     "text": [
      "100%|██████████████████████████████████████████| 16/16 [00:00<00:00, 161.87it/s]\n",
      " 10%|████▍                                       | 3/30 [00:01<00:13,  2.00it/s]"
     ]
    },
    {
     "name": "stdout",
     "output_type": "stream",
     "text": [
      "Epoch 2:  (best: True)train loss = 0.113 (auc: 0.756 f1: 0.085), validation loss = 0.113 (auc: 0.738 f1: 0.080)\n"
     ]
    },
    {
     "name": "stderr",
     "output_type": "stream",
     "text": [
      "100%|██████████████████████████████████████████| 16/16 [00:00<00:00, 160.44it/s]\n",
      " 13%|█████▊                                      | 4/30 [00:02<00:10,  2.43it/s]"
     ]
    },
    {
     "name": "stdout",
     "output_type": "stream",
     "text": [
      "Epoch 3:  (best: True)train loss = 0.112 (auc: 0.718 f1: 0.103), validation loss = 0.113 (auc: 0.700 f1: 0.096)\n"
     ]
    },
    {
     "name": "stderr",
     "output_type": "stream",
     "text": [
      "100%|██████████████████████████████████████████| 16/16 [00:00<00:00, 154.67it/s]\n",
      " 17%|███████▎                                    | 5/30 [00:02<00:09,  2.77it/s]"
     ]
    },
    {
     "name": "stdout",
     "output_type": "stream",
     "text": [
      "Epoch 4:  (best: True)train loss = 0.112 (auc: 0.672 f1: 0.121), validation loss = 0.112 (auc: 0.671 f1: 0.120)\n"
     ]
    },
    {
     "name": "stderr",
     "output_type": "stream",
     "text": [
      "100%|██████████████████████████████████████████| 16/16 [00:00<00:00, 140.29it/s]\n",
      " 20%|████████▊                                   | 6/30 [00:02<00:07,  3.00it/s]"
     ]
    },
    {
     "name": "stdout",
     "output_type": "stream",
     "text": [
      "Epoch 5:  (best: True)train loss = 0.112 (auc: 0.692 f1: 0.133), validation loss = 0.112 (auc: 0.688 f1: 0.124)\n"
     ]
    },
    {
     "name": "stderr",
     "output_type": "stream",
     "text": [
      "100%|██████████████████████████████████████████| 16/16 [00:00<00:00, 155.68it/s]\n",
      " 23%|██████████▎                                 | 7/30 [00:02<00:07,  3.21it/s]"
     ]
    },
    {
     "name": "stdout",
     "output_type": "stream",
     "text": [
      "Epoch 6:  (best: True)train loss = 0.112 (auc: 0.722 f1: 0.145), validation loss = 0.112 (auc: 0.715 f1: 0.136)\n"
     ]
    },
    {
     "name": "stderr",
     "output_type": "stream",
     "text": [
      "100%|██████████████████████████████████████████| 16/16 [00:00<00:00, 161.43it/s]\n",
      " 27%|███████████▋                                | 8/30 [00:03<00:06,  3.38it/s]"
     ]
    },
    {
     "name": "stdout",
     "output_type": "stream",
     "text": [
      "Epoch 7:  (best: True)train loss = 0.111 (auc: 0.714 f1: 0.151), validation loss = 0.112 (auc: 0.708 f1: 0.147)\n"
     ]
    },
    {
     "name": "stderr",
     "output_type": "stream",
     "text": [
      "100%|██████████████████████████████████████████| 16/16 [00:00<00:00, 162.36it/s]\n",
      " 30%|█████████████▏                              | 9/30 [00:03<00:06,  3.50it/s]"
     ]
    },
    {
     "name": "stdout",
     "output_type": "stream",
     "text": [
      "Epoch 8:  (best: False)train loss = 0.111 (auc: 0.725 f1: 0.148), validation loss = 0.111 (auc: 0.720 f1: 0.138)\n"
     ]
    },
    {
     "name": "stderr",
     "output_type": "stream",
     "text": [
      "100%|██████████████████████████████████████████| 16/16 [00:00<00:00, 152.66it/s]\n",
      " 33%|██████████████▎                            | 10/30 [00:03<00:05,  3.55it/s]"
     ]
    },
    {
     "name": "stdout",
     "output_type": "stream",
     "text": [
      "Epoch 9:  (best: False)train loss = 0.111 (auc: 0.719 f1: 0.144), validation loss = 0.111 (auc: 0.715 f1: 0.135)\n"
     ]
    },
    {
     "name": "stderr",
     "output_type": "stream",
     "text": [
      "100%|██████████████████████████████████████████| 16/16 [00:00<00:00, 153.82it/s]\n",
      " 37%|███████████████▊                           | 11/30 [00:04<00:05,  3.59it/s]"
     ]
    },
    {
     "name": "stdout",
     "output_type": "stream",
     "text": [
      "Epoch 10:  (best: False)train loss = 0.111 (auc: 0.698 f1: 0.152), validation loss = 0.111 (auc: 0.693 f1: 0.142)\n"
     ]
    },
    {
     "name": "stderr",
     "output_type": "stream",
     "text": [
      "100%|██████████████████████████████████████████| 16/16 [00:00<00:00, 138.97it/s]\n",
      " 40%|█████████████████▏                         | 12/30 [00:04<00:05,  3.59it/s]"
     ]
    },
    {
     "name": "stdout",
     "output_type": "stream",
     "text": [
      "Epoch 11:  (best: False)train loss = 0.111 (auc: 0.726 f1: 0.146), validation loss = 0.111 (auc: 0.719 f1: 0.137)\n"
     ]
    },
    {
     "name": "stderr",
     "output_type": "stream",
     "text": [
      "100%|██████████████████████████████████████████| 16/16 [00:00<00:00, 156.42it/s]\n",
      " 43%|██████████████████▋                        | 13/30 [00:04<00:04,  3.59it/s]"
     ]
    },
    {
     "name": "stdout",
     "output_type": "stream",
     "text": [
      "Epoch 12:  (best: False)train loss = 0.111 (auc: 0.721 f1: 0.149), validation loss = 0.111 (auc: 0.717 f1: 0.140)\n"
     ]
    },
    {
     "name": "stderr",
     "output_type": "stream",
     "text": [
      "100%|██████████████████████████████████████████| 16/16 [00:00<00:00, 147.16it/s]\n",
      " 47%|████████████████████                       | 14/30 [00:04<00:04,  3.60it/s]"
     ]
    },
    {
     "name": "stdout",
     "output_type": "stream",
     "text": [
      "Epoch 13:  (best: False)train loss = 0.111 (auc: 0.719 f1: 0.150), validation loss = 0.111 (auc: 0.716 f1: 0.139)\n"
     ]
    },
    {
     "name": "stderr",
     "output_type": "stream",
     "text": [
      "100%|██████████████████████████████████████████| 16/16 [00:00<00:00, 151.55it/s]\n",
      " 50%|█████████████████████▌                     | 15/30 [00:05<00:04,  3.60it/s]"
     ]
    },
    {
     "name": "stdout",
     "output_type": "stream",
     "text": [
      "Epoch 14:  (best: False)train loss = 0.111 (auc: 0.727 f1: 0.150), validation loss = 0.111 (auc: 0.720 f1: 0.142)\n"
     ]
    },
    {
     "name": "stderr",
     "output_type": "stream",
     "text": [
      "100%|██████████████████████████████████████████| 16/16 [00:00<00:00, 152.07it/s]\n",
      " 53%|██████████████████████▉                    | 16/30 [00:05<00:03,  3.62it/s]"
     ]
    },
    {
     "name": "stdout",
     "output_type": "stream",
     "text": [
      "Epoch 15:  (best: False)train loss = 0.111 (auc: 0.717 f1: 0.142), validation loss = 0.111 (auc: 0.714 f1: 0.136)\n"
     ]
    },
    {
     "name": "stderr",
     "output_type": "stream",
     "text": [
      "100%|██████████████████████████████████████████| 16/16 [00:00<00:00, 153.79it/s]\n",
      " 57%|████████████████████████▎                  | 17/30 [00:05<00:03,  3.62it/s]"
     ]
    },
    {
     "name": "stdout",
     "output_type": "stream",
     "text": [
      "Epoch 16:  (best: False)train loss = 0.111 (auc: 0.729 f1: 0.151), validation loss = 0.111 (auc: 0.723 f1: 0.143)\n"
     ]
    },
    {
     "name": "stderr",
     "output_type": "stream",
     "text": [
      "100%|██████████████████████████████████████████| 16/16 [00:00<00:00, 152.49it/s]\n",
      " 60%|█████████████████████████▊                 | 18/30 [00:05<00:03,  3.62it/s]"
     ]
    },
    {
     "name": "stdout",
     "output_type": "stream",
     "text": [
      "Epoch 17:  (best: False)train loss = 0.111 (auc: 0.716 f1: 0.147), validation loss = 0.111 (auc: 0.713 f1: 0.137)\n"
     ]
    },
    {
     "name": "stderr",
     "output_type": "stream",
     "text": [
      "100%|██████████████████████████████████████████| 16/16 [00:00<00:00, 147.33it/s]\n",
      " 63%|███████████████████████████▏               | 19/30 [00:06<00:03,  3.59it/s]"
     ]
    },
    {
     "name": "stdout",
     "output_type": "stream",
     "text": [
      "Epoch 18:  (best: False)train loss = 0.111 (auc: 0.720 f1: 0.142), validation loss = 0.111 (auc: 0.714 f1: 0.131)\n"
     ]
    },
    {
     "name": "stderr",
     "output_type": "stream",
     "text": [
      "100%|██████████████████████████████████████████| 16/16 [00:00<00:00, 155.79it/s]\n",
      " 67%|████████████████████████████▋              | 20/30 [00:06<00:02,  3.62it/s]"
     ]
    },
    {
     "name": "stdout",
     "output_type": "stream",
     "text": [
      "Epoch 19:  (best: False)train loss = 0.110 (auc: 0.723 f1: 0.148), validation loss = 0.111 (auc: 0.717 f1: 0.139)\n"
     ]
    },
    {
     "name": "stderr",
     "output_type": "stream",
     "text": [
      "100%|██████████████████████████████████████████| 16/16 [00:00<00:00, 152.98it/s]\n",
      " 70%|██████████████████████████████             | 21/30 [00:06<00:02,  3.63it/s]"
     ]
    },
    {
     "name": "stdout",
     "output_type": "stream",
     "text": [
      "Epoch 20:  (best: False)train loss = 0.111 (auc: 0.720 f1: 0.143), validation loss = 0.111 (auc: 0.714 f1: 0.133)\n"
     ]
    },
    {
     "name": "stderr",
     "output_type": "stream",
     "text": [
      "100%|██████████████████████████████████████████| 16/16 [00:00<00:00, 160.38it/s]\n",
      " 73%|███████████████████████████████▌           | 22/30 [00:07<00:02,  3.67it/s]"
     ]
    },
    {
     "name": "stdout",
     "output_type": "stream",
     "text": [
      "Epoch 21:  (best: False)train loss = 0.110 (auc: 0.712 f1: 0.150), validation loss = 0.111 (auc: 0.709 f1: 0.142)\n"
     ]
    },
    {
     "name": "stderr",
     "output_type": "stream",
     "text": [
      "100%|██████████████████████████████████████████| 16/16 [00:00<00:00, 160.31it/s]\n",
      " 77%|████████████████████████████████▉          | 23/30 [00:07<00:01,  3.70it/s]"
     ]
    },
    {
     "name": "stdout",
     "output_type": "stream",
     "text": [
      "Epoch 22:  (best: False)train loss = 0.111 (auc: 0.725 f1: 0.150), validation loss = 0.111 (auc: 0.719 f1: 0.141)\n"
     ]
    },
    {
     "name": "stderr",
     "output_type": "stream",
     "text": [
      "100%|██████████████████████████████████████████| 16/16 [00:00<00:00, 147.71it/s]\n",
      " 80%|██████████████████████████████████▍        | 24/30 [00:07<00:01,  3.66it/s]"
     ]
    },
    {
     "name": "stdout",
     "output_type": "stream",
     "text": [
      "Epoch 23:  (best: False)train loss = 0.111 (auc: 0.722 f1: 0.148), validation loss = 0.111 (auc: 0.716 f1: 0.139)\n"
     ]
    },
    {
     "name": "stderr",
     "output_type": "stream",
     "text": [
      "100%|██████████████████████████████████████████| 16/16 [00:00<00:00, 149.09it/s]\n",
      " 83%|███████████████████████████████████▊       | 25/30 [00:07<00:01,  3.60it/s]"
     ]
    },
    {
     "name": "stdout",
     "output_type": "stream",
     "text": [
      "Epoch 24:  (best: False)train loss = 0.111 (auc: 0.721 f1: 0.146), validation loss = 0.111 (auc: 0.715 f1: 0.136)\n"
     ]
    },
    {
     "name": "stderr",
     "output_type": "stream",
     "text": [
      "100%|██████████████████████████████████████████| 16/16 [00:00<00:00, 150.63it/s]\n",
      " 87%|█████████████████████████████████████▎     | 26/30 [00:08<00:01,  3.59it/s]"
     ]
    },
    {
     "name": "stdout",
     "output_type": "stream",
     "text": [
      "Epoch 25:  (best: False)train loss = 0.110 (auc: 0.720 f1: 0.150), validation loss = 0.111 (auc: 0.716 f1: 0.139)\n"
     ]
    },
    {
     "name": "stderr",
     "output_type": "stream",
     "text": [
      "100%|██████████████████████████████████████████| 16/16 [00:00<00:00, 167.62it/s]\n",
      " 90%|██████████████████████████████████████▋    | 27/30 [00:08<00:00,  3.66it/s]"
     ]
    },
    {
     "name": "stdout",
     "output_type": "stream",
     "text": [
      "Epoch 26:  (best: False)train loss = 0.111 (auc: 0.719 f1: 0.150), validation loss = 0.111 (auc: 0.715 f1: 0.140)\n"
     ]
    },
    {
     "name": "stderr",
     "output_type": "stream",
     "text": [
      "100%|██████████████████████████████████████████| 16/16 [00:00<00:00, 160.27it/s]\n",
      " 93%|████████████████████████████████████████▏  | 28/30 [00:08<00:00,  3.70it/s]"
     ]
    },
    {
     "name": "stdout",
     "output_type": "stream",
     "text": [
      "Epoch 27:  (best: False)train loss = 0.111 (auc: 0.723 f1: 0.149), validation loss = 0.111 (auc: 0.718 f1: 0.139)\n"
     ]
    },
    {
     "name": "stderr",
     "output_type": "stream",
     "text": [
      "100%|██████████████████████████████████████████| 16/16 [00:00<00:00, 169.31it/s]\n",
      " 97%|█████████████████████████████████████████▌ | 29/30 [00:08<00:00,  3.77it/s]"
     ]
    },
    {
     "name": "stdout",
     "output_type": "stream",
     "text": [
      "Epoch 28:  (best: False)train loss = 0.111 (auc: 0.723 f1: 0.148), validation loss = 0.111 (auc: 0.717 f1: 0.140)\n"
     ]
    },
    {
     "name": "stderr",
     "output_type": "stream",
     "text": [
      "100%|██████████████████████████████████████████| 16/16 [00:00<00:00, 163.95it/s]\n",
      "100%|███████████████████████████████████████████| 30/30 [00:09<00:00,  3.26it/s]\n"
     ]
    },
    {
     "name": "stdout",
     "output_type": "stream",
     "text": [
      "Epoch 29:  (best: False)train loss = 0.111 (auc: 0.718 f1: 0.145), validation loss = 0.111 (auc: 0.714 f1: 0.136)\n"
     ]
    },
    {
     "name": "stderr",
     "output_type": "stream",
     "text": [
      "100%|██████████████████████████████████████████| 16/16 [00:00<00:00, 153.45it/s]\n",
      "  3%|█▍                                          | 1/30 [00:00<00:07,  3.64it/s]"
     ]
    },
    {
     "name": "stdout",
     "output_type": "stream",
     "text": [
      "Epoch 0:  (best: True)train loss = 0.115 (auc: 0.745 f1: 0.091), validation loss = 0.115 (auc: 0.727 f1: 0.075)\n"
     ]
    },
    {
     "name": "stderr",
     "output_type": "stream",
     "text": [
      "100%|██████████████████████████████████████████| 16/16 [00:00<00:00, 152.39it/s]\n",
      "  7%|██▉                                         | 2/30 [00:00<00:07,  3.62it/s]"
     ]
    },
    {
     "name": "stdout",
     "output_type": "stream",
     "text": [
      "Epoch 1:  (best: False)train loss = 0.113 (auc: 0.767 f1: 0.083), validation loss = 0.114 (auc: 0.759 f1: 0.074)\n"
     ]
    },
    {
     "name": "stderr",
     "output_type": "stream",
     "text": [
      "100%|██████████████████████████████████████████| 16/16 [00:00<00:00, 150.92it/s]\n",
      " 10%|████▍                                       | 3/30 [00:00<00:07,  3.61it/s]"
     ]
    },
    {
     "name": "stdout",
     "output_type": "stream",
     "text": [
      "Epoch 2:  (best: True)train loss = 0.113 (auc: 0.728 f1: 0.092), validation loss = 0.113 (auc: 0.717 f1: 0.083)\n"
     ]
    },
    {
     "name": "stderr",
     "output_type": "stream",
     "text": [
      "100%|██████████████████████████████████████████| 16/16 [00:00<00:00, 166.54it/s]\n",
      " 13%|█████▊                                      | 4/30 [00:01<00:07,  3.66it/s]"
     ]
    },
    {
     "name": "stdout",
     "output_type": "stream",
     "text": [
      "Epoch 3:  (best: False)train loss = 0.113 (auc: 0.736 f1: 0.094), validation loss = 0.113 (auc: 0.718 f1: 0.083)\n"
     ]
    },
    {
     "name": "stderr",
     "output_type": "stream",
     "text": [
      "100%|██████████████████████████████████████████| 16/16 [00:00<00:00, 164.69it/s]\n",
      " 17%|███████▎                                    | 5/30 [00:01<00:06,  3.73it/s]"
     ]
    },
    {
     "name": "stdout",
     "output_type": "stream",
     "text": [
      "Epoch 4:  (best: True)train loss = 0.112 (auc: 0.736 f1: 0.108), validation loss = 0.113 (auc: 0.720 f1: 0.102)\n"
     ]
    },
    {
     "name": "stderr",
     "output_type": "stream",
     "text": [
      "100%|██████████████████████████████████████████| 16/16 [00:00<00:00, 168.89it/s]\n",
      " 20%|████████▊                                   | 6/30 [00:01<00:06,  3.80it/s]"
     ]
    },
    {
     "name": "stdout",
     "output_type": "stream",
     "text": [
      "Epoch 5:  (best: False)train loss = 0.112 (auc: 0.727 f1: 0.099), validation loss = 0.113 (auc: 0.715 f1: 0.099)\n"
     ]
    },
    {
     "name": "stderr",
     "output_type": "stream",
     "text": [
      "100%|██████████████████████████████████████████| 16/16 [00:00<00:00, 166.14it/s]\n",
      " 23%|██████████▎                                 | 7/30 [00:01<00:05,  3.84it/s]"
     ]
    },
    {
     "name": "stdout",
     "output_type": "stream",
     "text": [
      "Epoch 6:  (best: True)train loss = 0.112 (auc: 0.658 f1: 0.117), validation loss = 0.112 (auc: 0.657 f1: 0.117)\n"
     ]
    },
    {
     "name": "stderr",
     "output_type": "stream",
     "text": [
      "100%|██████████████████████████████████████████| 16/16 [00:00<00:00, 170.47it/s]\n",
      " 27%|███████████▋                                | 8/30 [00:02<00:05,  3.86it/s]"
     ]
    },
    {
     "name": "stdout",
     "output_type": "stream",
     "text": [
      "Epoch 7:  (best: True)train loss = 0.111 (auc: 0.615 f1: 0.156), validation loss = 0.112 (auc: 0.620 f1: 0.151)\n"
     ]
    },
    {
     "name": "stderr",
     "output_type": "stream",
     "text": [
      "100%|██████████████████████████████████████████| 16/16 [00:00<00:00, 151.68it/s]\n",
      " 30%|█████████████▏                              | 9/30 [00:02<00:05,  3.79it/s]"
     ]
    },
    {
     "name": "stdout",
     "output_type": "stream",
     "text": [
      "Epoch 8:  (best: True)train loss = 0.111 (auc: 0.635 f1: 0.159), validation loss = 0.112 (auc: 0.634 f1: 0.154)\n"
     ]
    },
    {
     "name": "stderr",
     "output_type": "stream",
     "text": [
      "100%|██████████████████████████████████████████| 16/16 [00:00<00:00, 150.19it/s]\n",
      " 33%|██████████████▎                            | 10/30 [00:02<00:05,  3.76it/s]"
     ]
    },
    {
     "name": "stdout",
     "output_type": "stream",
     "text": [
      "Epoch 9:  (best: True)train loss = 0.111 (auc: 0.692 f1: 0.164), validation loss = 0.112 (auc: 0.689 f1: 0.159)\n"
     ]
    },
    {
     "name": "stderr",
     "output_type": "stream",
     "text": [
      "100%|██████████████████████████████████████████| 16/16 [00:00<00:00, 164.14it/s]\n",
      " 37%|███████████████▊                           | 11/30 [00:02<00:05,  3.79it/s]"
     ]
    },
    {
     "name": "stdout",
     "output_type": "stream",
     "text": [
      "Epoch 10:  (best: False)train loss = 0.111 (auc: 0.696 f1: 0.161), validation loss = 0.111 (auc: 0.693 f1: 0.154)\n"
     ]
    },
    {
     "name": "stderr",
     "output_type": "stream",
     "text": [
      "100%|██████████████████████████████████████████| 16/16 [00:00<00:00, 167.27it/s]\n",
      " 40%|█████████████████▏                         | 12/30 [00:03<00:04,  3.80it/s]"
     ]
    },
    {
     "name": "stdout",
     "output_type": "stream",
     "text": [
      "Epoch 11:  (best: False)train loss = 0.111 (auc: 0.688 f1: 0.163), validation loss = 0.111 (auc: 0.688 f1: 0.157)\n"
     ]
    },
    {
     "name": "stderr",
     "output_type": "stream",
     "text": [
      "100%|██████████████████████████████████████████| 16/16 [00:00<00:00, 164.06it/s]\n",
      " 43%|██████████████████▋                        | 13/30 [00:03<00:04,  3.81it/s]"
     ]
    },
    {
     "name": "stdout",
     "output_type": "stream",
     "text": [
      "Epoch 12:  (best: False)train loss = 0.111 (auc: 0.699 f1: 0.167), validation loss = 0.111 (auc: 0.694 f1: 0.153)\n"
     ]
    },
    {
     "name": "stderr",
     "output_type": "stream",
     "text": [
      "100%|██████████████████████████████████████████| 16/16 [00:00<00:00, 165.94it/s]\n",
      " 47%|████████████████████                       | 14/30 [00:03<00:04,  3.83it/s]"
     ]
    },
    {
     "name": "stdout",
     "output_type": "stream",
     "text": [
      "Epoch 13:  (best: False)train loss = 0.111 (auc: 0.703 f1: 0.169), validation loss = 0.111 (auc: 0.697 f1: 0.157)\n"
     ]
    },
    {
     "name": "stderr",
     "output_type": "stream",
     "text": [
      "100%|██████████████████████████████████████████| 16/16 [00:00<00:00, 164.84it/s]\n",
      " 50%|█████████████████████▌                     | 15/30 [00:03<00:03,  3.84it/s]"
     ]
    },
    {
     "name": "stdout",
     "output_type": "stream",
     "text": [
      "Epoch 14:  (best: False)train loss = 0.111 (auc: 0.692 f1: 0.170), validation loss = 0.111 (auc: 0.689 f1: 0.156)\n"
     ]
    },
    {
     "name": "stderr",
     "output_type": "stream",
     "text": [
      "100%|██████████████████████████████████████████| 16/16 [00:00<00:00, 172.30it/s]\n",
      " 53%|██████████████████████▉                    | 16/30 [00:04<00:03,  3.88it/s]"
     ]
    },
    {
     "name": "stdout",
     "output_type": "stream",
     "text": [
      "Epoch 15:  (best: False)train loss = 0.111 (auc: 0.687 f1: 0.162), validation loss = 0.111 (auc: 0.686 f1: 0.154)\n"
     ]
    },
    {
     "name": "stderr",
     "output_type": "stream",
     "text": [
      "100%|██████████████████████████████████████████| 16/16 [00:00<00:00, 168.15it/s]\n",
      " 57%|████████████████████████▎                  | 17/30 [00:04<00:03,  3.89it/s]"
     ]
    },
    {
     "name": "stdout",
     "output_type": "stream",
     "text": [
      "Epoch 16:  (best: False)train loss = 0.111 (auc: 0.705 f1: 0.164), validation loss = 0.111 (auc: 0.697 f1: 0.156)\n"
     ]
    },
    {
     "name": "stderr",
     "output_type": "stream",
     "text": [
      "100%|██████████████████████████████████████████| 16/16 [00:00<00:00, 162.26it/s]\n",
      " 60%|█████████████████████████▊                 | 18/30 [00:04<00:03,  3.87it/s]"
     ]
    },
    {
     "name": "stdout",
     "output_type": "stream",
     "text": [
      "Epoch 17:  (best: False)train loss = 0.110 (auc: 0.685 f1: 0.163), validation loss = 0.111 (auc: 0.683 f1: 0.152)\n"
     ]
    },
    {
     "name": "stderr",
     "output_type": "stream",
     "text": [
      "100%|██████████████████████████████████████████| 16/16 [00:00<00:00, 169.35it/s]\n",
      " 63%|███████████████████████████▏               | 19/30 [00:04<00:02,  3.88it/s]"
     ]
    },
    {
     "name": "stdout",
     "output_type": "stream",
     "text": [
      "Epoch 18:  (best: False)train loss = 0.110 (auc: 0.700 f1: 0.160), validation loss = 0.111 (auc: 0.693 f1: 0.155)\n"
     ]
    },
    {
     "name": "stderr",
     "output_type": "stream",
     "text": [
      "100%|██████████████████████████████████████████| 16/16 [00:00<00:00, 162.26it/s]\n",
      " 67%|████████████████████████████▋              | 20/30 [00:05<00:02,  3.86it/s]"
     ]
    },
    {
     "name": "stdout",
     "output_type": "stream",
     "text": [
      "Epoch 19:  (best: False)train loss = 0.111 (auc: 0.696 f1: 0.166), validation loss = 0.111 (auc: 0.691 f1: 0.157)\n"
     ]
    },
    {
     "name": "stderr",
     "output_type": "stream",
     "text": [
      "100%|██████████████████████████████████████████| 16/16 [00:00<00:00, 166.52it/s]\n",
      " 70%|██████████████████████████████             | 21/30 [00:05<00:02,  3.88it/s]"
     ]
    },
    {
     "name": "stdout",
     "output_type": "stream",
     "text": [
      "Epoch 20:  (best: False)train loss = 0.111 (auc: 0.700 f1: 0.164), validation loss = 0.111 (auc: 0.692 f1: 0.155)\n"
     ]
    },
    {
     "name": "stderr",
     "output_type": "stream",
     "text": [
      "100%|██████████████████████████████████████████| 16/16 [00:00<00:00, 168.61it/s]\n",
      " 73%|███████████████████████████████▌           | 22/30 [00:05<00:02,  3.89it/s]"
     ]
    },
    {
     "name": "stdout",
     "output_type": "stream",
     "text": [
      "Epoch 21:  (best: False)train loss = 0.111 (auc: 0.692 f1: 0.162), validation loss = 0.111 (auc: 0.688 f1: 0.154)\n"
     ]
    },
    {
     "name": "stderr",
     "output_type": "stream",
     "text": [
      "100%|██████████████████████████████████████████| 16/16 [00:00<00:00, 171.99it/s]\n",
      " 77%|████████████████████████████████▉          | 23/30 [00:06<00:01,  3.90it/s]"
     ]
    },
    {
     "name": "stdout",
     "output_type": "stream",
     "text": [
      "Epoch 22:  (best: False)train loss = 0.111 (auc: 0.649 f1: 0.164), validation loss = 0.111 (auc: 0.654 f1: 0.154)\n"
     ]
    },
    {
     "name": "stderr",
     "output_type": "stream",
     "text": [
      "100%|██████████████████████████████████████████| 16/16 [00:00<00:00, 172.34it/s]\n",
      " 80%|██████████████████████████████████▍        | 24/30 [00:06<00:01,  3.94it/s]"
     ]
    },
    {
     "name": "stdout",
     "output_type": "stream",
     "text": [
      "Epoch 23:  (best: False)train loss = 0.111 (auc: 0.692 f1: 0.169), validation loss = 0.111 (auc: 0.686 f1: 0.155)\n"
     ]
    },
    {
     "name": "stderr",
     "output_type": "stream",
     "text": [
      "100%|██████████████████████████████████████████| 16/16 [00:00<00:00, 173.50it/s]\n",
      " 83%|███████████████████████████████████▊       | 25/30 [00:06<00:01,  3.96it/s]"
     ]
    },
    {
     "name": "stdout",
     "output_type": "stream",
     "text": [
      "Epoch 24:  (best: False)train loss = 0.111 (auc: 0.674 f1: 0.170), validation loss = 0.111 (auc: 0.677 f1: 0.157)\n"
     ]
    },
    {
     "name": "stderr",
     "output_type": "stream",
     "text": [
      "100%|██████████████████████████████████████████| 16/16 [00:00<00:00, 171.41it/s]\n",
      " 87%|█████████████████████████████████████▎     | 26/30 [00:06<00:01,  3.97it/s]"
     ]
    },
    {
     "name": "stdout",
     "output_type": "stream",
     "text": [
      "Epoch 25:  (best: False)train loss = 0.110 (auc: 0.690 f1: 0.163), validation loss = 0.111 (auc: 0.685 f1: 0.156)\n"
     ]
    },
    {
     "name": "stderr",
     "output_type": "stream",
     "text": [
      "100%|██████████████████████████████████████████| 16/16 [00:00<00:00, 171.88it/s]\n",
      " 90%|██████████████████████████████████████▋    | 27/30 [00:07<00:00,  3.99it/s]"
     ]
    },
    {
     "name": "stdout",
     "output_type": "stream",
     "text": [
      "Epoch 26:  (best: False)train loss = 0.110 (auc: 0.685 f1: 0.162), validation loss = 0.111 (auc: 0.682 f1: 0.155)\n"
     ]
    },
    {
     "name": "stderr",
     "output_type": "stream",
     "text": [
      "100%|██████████████████████████████████████████| 16/16 [00:00<00:00, 171.74it/s]\n",
      " 93%|████████████████████████████████████████▏  | 28/30 [00:07<00:00,  3.99it/s]"
     ]
    },
    {
     "name": "stdout",
     "output_type": "stream",
     "text": [
      "Epoch 27:  (best: False)train loss = 0.111 (auc: 0.688 f1: 0.170), validation loss = 0.111 (auc: 0.684 f1: 0.158)\n"
     ]
    },
    {
     "name": "stderr",
     "output_type": "stream",
     "text": [
      "100%|██████████████████████████████████████████| 16/16 [00:00<00:00, 172.70it/s]\n",
      " 97%|█████████████████████████████████████████▌ | 29/30 [00:07<00:00,  3.99it/s]"
     ]
    },
    {
     "name": "stdout",
     "output_type": "stream",
     "text": [
      "Epoch 28:  (best: False)train loss = 0.110 (auc: 0.691 f1: 0.165), validation loss = 0.111 (auc: 0.686 f1: 0.155)\n"
     ]
    },
    {
     "name": "stderr",
     "output_type": "stream",
     "text": [
      "100%|██████████████████████████████████████████| 16/16 [00:00<00:00, 132.81it/s]\n",
      "100%|███████████████████████████████████████████| 30/30 [00:07<00:00,  3.84it/s]\n"
     ]
    },
    {
     "name": "stdout",
     "output_type": "stream",
     "text": [
      "Epoch 29:  (best: False)train loss = 0.110 (auc: 0.675 f1: 0.162), validation loss = 0.111 (auc: 0.680 f1: 0.155)\n"
     ]
    },
    {
     "name": "stderr",
     "output_type": "stream",
     "text": [
      "100%|██████████████████████████████████████████| 16/16 [00:00<00:00, 166.85it/s]\n",
      "  3%|█▍                                          | 1/30 [00:00<00:07,  3.92it/s]"
     ]
    },
    {
     "name": "stdout",
     "output_type": "stream",
     "text": [
      "Epoch 0:  (best: True)train loss = 0.115 (auc: 0.700 f1: 0.080), validation loss = 0.115 (auc: 0.684 f1: 0.072)\n"
     ]
    },
    {
     "name": "stderr",
     "output_type": "stream",
     "text": [
      "100%|██████████████████████████████████████████| 16/16 [00:00<00:00, 166.30it/s]\n",
      "  7%|██▉                                         | 2/30 [00:00<00:07,  3.90it/s]"
     ]
    },
    {
     "name": "stdout",
     "output_type": "stream",
     "text": [
      "Epoch 1:  (best: True)train loss = 0.113 (auc: 0.767 f1: 0.082), validation loss = 0.114 (auc: 0.759 f1: 0.073)\n"
     ]
    },
    {
     "name": "stderr",
     "output_type": "stream",
     "text": [
      "100%|██████████████████████████████████████████| 16/16 [00:00<00:00, 168.10it/s]\n",
      " 10%|████▍                                       | 3/30 [00:00<00:07,  3.86it/s]"
     ]
    },
    {
     "name": "stdout",
     "output_type": "stream",
     "text": [
      "Epoch 2:  (best: False)train loss = 0.113 (auc: 0.733 f1: 0.072), validation loss = 0.114 (auc: 0.719 f1: 0.062)\n"
     ]
    },
    {
     "name": "stderr",
     "output_type": "stream",
     "text": [
      "100%|██████████████████████████████████████████| 16/16 [00:00<00:00, 163.53it/s]\n",
      " 13%|█████▊                                      | 4/30 [00:01<00:06,  3.86it/s]"
     ]
    },
    {
     "name": "stdout",
     "output_type": "stream",
     "text": [
      "Epoch 3:  (best: False)train loss = 0.113 (auc: 0.732 f1: 0.072), validation loss = 0.114 (auc: 0.719 f1: 0.064)\n"
     ]
    },
    {
     "name": "stderr",
     "output_type": "stream",
     "text": [
      "100%|██████████████████████████████████████████| 16/16 [00:00<00:00, 166.04it/s]\n",
      " 17%|███████▎                                    | 5/30 [00:01<00:06,  3.86it/s]"
     ]
    },
    {
     "name": "stdout",
     "output_type": "stream",
     "text": [
      "Epoch 4:  (best: False)train loss = 0.113 (auc: 0.722 f1: 0.085), validation loss = 0.113 (auc: 0.716 f1: 0.072)\n"
     ]
    },
    {
     "name": "stderr",
     "output_type": "stream",
     "text": [
      "100%|██████████████████████████████████████████| 16/16 [00:00<00:00, 166.25it/s]\n",
      " 20%|████████▊                                   | 6/30 [00:01<00:06,  3.85it/s]"
     ]
    },
    {
     "name": "stdout",
     "output_type": "stream",
     "text": [
      "Epoch 5:  (best: True)train loss = 0.113 (auc: 0.710 f1: 0.094), validation loss = 0.113 (auc: 0.704 f1: 0.088)\n"
     ]
    },
    {
     "name": "stderr",
     "output_type": "stream",
     "text": [
      "100%|██████████████████████████████████████████| 16/16 [00:00<00:00, 165.92it/s]\n",
      " 23%|██████████▎                                 | 7/30 [00:01<00:05,  3.85it/s]"
     ]
    },
    {
     "name": "stdout",
     "output_type": "stream",
     "text": [
      "Epoch 6:  (best: False)train loss = 0.112 (auc: 0.655 f1: 0.091), validation loss = 0.113 (auc: 0.646 f1: 0.084)\n"
     ]
    },
    {
     "name": "stderr",
     "output_type": "stream",
     "text": [
      "100%|██████████████████████████████████████████| 16/16 [00:00<00:00, 168.78it/s]\n",
      " 27%|███████████▋                                | 8/30 [00:02<00:05,  3.87it/s]"
     ]
    },
    {
     "name": "stdout",
     "output_type": "stream",
     "text": [
      "Epoch 7:  (best: True)train loss = 0.113 (auc: 0.633 f1: 0.095), validation loss = 0.113 (auc: 0.621 f1: 0.090)\n"
     ]
    },
    {
     "name": "stderr",
     "output_type": "stream",
     "text": [
      "100%|██████████████████████████████████████████| 16/16 [00:00<00:00, 168.08it/s]\n",
      " 30%|█████████████▏                              | 9/30 [00:02<00:05,  3.88it/s]"
     ]
    },
    {
     "name": "stdout",
     "output_type": "stream",
     "text": [
      "Epoch 8:  (best: True)train loss = 0.112 (auc: 0.603 f1: 0.095), validation loss = 0.113 (auc: 0.601 f1: 0.092)\n"
     ]
    },
    {
     "name": "stderr",
     "output_type": "stream",
     "text": [
      "100%|██████████████████████████████████████████| 16/16 [00:00<00:00, 167.78it/s]\n",
      " 33%|██████████████▎                            | 10/30 [00:02<00:05,  3.88it/s]"
     ]
    },
    {
     "name": "stdout",
     "output_type": "stream",
     "text": [
      "Epoch 9:  (best: False)train loss = 0.113 (auc: 0.592 f1: 0.095), validation loss = 0.112 (auc: 0.592 f1: 0.090)\n"
     ]
    },
    {
     "name": "stderr",
     "output_type": "stream",
     "text": [
      "100%|██████████████████████████████████████████| 16/16 [00:00<00:00, 167.70it/s]\n",
      " 37%|███████████████▊                           | 11/30 [00:02<00:04,  3.87it/s]"
     ]
    },
    {
     "name": "stdout",
     "output_type": "stream",
     "text": [
      "Epoch 10:  (best: False)train loss = 0.113 (auc: 0.576 f1: 0.094), validation loss = 0.113 (auc: 0.583 f1: 0.090)\n"
     ]
    },
    {
     "name": "stderr",
     "output_type": "stream",
     "text": [
      "100%|██████████████████████████████████████████| 16/16 [00:00<00:00, 166.19it/s]\n",
      " 40%|█████████████████▏                         | 12/30 [00:03<00:04,  3.88it/s]"
     ]
    },
    {
     "name": "stdout",
     "output_type": "stream",
     "text": [
      "Epoch 11:  (best: False)train loss = 0.112 (auc: 0.576 f1: 0.095), validation loss = 0.112 (auc: 0.583 f1: 0.090)\n"
     ]
    },
    {
     "name": "stderr",
     "output_type": "stream",
     "text": [
      "100%|██████████████████████████████████████████| 16/16 [00:00<00:00, 165.12it/s]\n",
      " 43%|██████████████████▋                        | 13/30 [00:03<00:04,  3.87it/s]"
     ]
    },
    {
     "name": "stdout",
     "output_type": "stream",
     "text": [
      "Epoch 12:  (best: False)train loss = 0.112 (auc: 0.565 f1: 0.091), validation loss = 0.113 (auc: 0.570 f1: 0.086)\n"
     ]
    },
    {
     "name": "stderr",
     "output_type": "stream",
     "text": [
      "100%|██████████████████████████████████████████| 16/16 [00:00<00:00, 161.51it/s]\n",
      " 47%|████████████████████                       | 14/30 [00:03<00:04,  3.85it/s]"
     ]
    },
    {
     "name": "stdout",
     "output_type": "stream",
     "text": [
      "Epoch 13:  (best: False)train loss = 0.113 (auc: 0.576 f1: 0.095), validation loss = 0.112 (auc: 0.584 f1: 0.090)\n"
     ]
    },
    {
     "name": "stderr",
     "output_type": "stream",
     "text": [
      "100%|██████████████████████████████████████████| 16/16 [00:00<00:00, 156.54it/s]\n",
      " 50%|█████████████████████▌                     | 15/30 [00:03<00:03,  3.83it/s]"
     ]
    },
    {
     "name": "stdout",
     "output_type": "stream",
     "text": [
      "Epoch 14:  (best: False)train loss = 0.112 (auc: 0.569 f1: 0.094), validation loss = 0.113 (auc: 0.576 f1: 0.090)\n"
     ]
    },
    {
     "name": "stderr",
     "output_type": "stream",
     "text": [
      "100%|██████████████████████████████████████████| 16/16 [00:00<00:00, 163.76it/s]\n",
      " 53%|██████████████████████▉                    | 16/30 [00:04<00:03,  3.81it/s]"
     ]
    },
    {
     "name": "stdout",
     "output_type": "stream",
     "text": [
      "Epoch 15:  (best: False)train loss = 0.112 (auc: 0.572 f1: 0.094), validation loss = 0.112 (auc: 0.580 f1: 0.090)\n"
     ]
    },
    {
     "name": "stderr",
     "output_type": "stream",
     "text": [
      "100%|██████████████████████████████████████████| 16/16 [00:00<00:00, 164.96it/s]\n",
      " 57%|████████████████████████▎                  | 17/30 [00:04<00:03,  3.82it/s]"
     ]
    },
    {
     "name": "stdout",
     "output_type": "stream",
     "text": [
      "Epoch 16:  (best: False)train loss = 0.113 (auc: 0.568 f1: 0.095), validation loss = 0.113 (auc: 0.575 f1: 0.090)\n"
     ]
    },
    {
     "name": "stderr",
     "output_type": "stream",
     "text": [
      "100%|██████████████████████████████████████████| 16/16 [00:00<00:00, 169.26it/s]\n",
      " 60%|█████████████████████████▊                 | 18/30 [00:04<00:03,  3.85it/s]"
     ]
    },
    {
     "name": "stdout",
     "output_type": "stream",
     "text": [
      "Epoch 17:  (best: False)train loss = 0.112 (auc: 0.571 f1: 0.095), validation loss = 0.112 (auc: 0.578 f1: 0.090)\n"
     ]
    },
    {
     "name": "stderr",
     "output_type": "stream",
     "text": [
      "100%|██████████████████████████████████████████| 16/16 [00:00<00:00, 164.40it/s]\n",
      " 63%|███████████████████████████▏               | 19/30 [00:04<00:02,  3.86it/s]"
     ]
    },
    {
     "name": "stdout",
     "output_type": "stream",
     "text": [
      "Epoch 18:  (best: True)train loss = 0.112 (auc: 0.580 f1: 0.096), validation loss = 0.112 (auc: 0.590 f1: 0.094)\n"
     ]
    },
    {
     "name": "stderr",
     "output_type": "stream",
     "text": [
      "100%|██████████████████████████████████████████| 16/16 [00:00<00:00, 168.13it/s]\n",
      " 67%|████████████████████████████▋              | 20/30 [00:05<00:02,  3.87it/s]"
     ]
    },
    {
     "name": "stdout",
     "output_type": "stream",
     "text": [
      "Epoch 19:  (best: False)train loss = 0.113 (auc: 0.550 f1: 0.088), validation loss = 0.113 (auc: 0.553 f1: 0.078)\n"
     ]
    },
    {
     "name": "stderr",
     "output_type": "stream",
     "text": [
      "100%|██████████████████████████████████████████| 16/16 [00:00<00:00, 167.57it/s]\n",
      " 70%|██████████████████████████████             | 21/30 [00:05<00:02,  3.88it/s]"
     ]
    },
    {
     "name": "stdout",
     "output_type": "stream",
     "text": [
      "Epoch 20:  (best: False)train loss = 0.112 (auc: 0.570 f1: 0.093), validation loss = 0.112 (auc: 0.580 f1: 0.089)\n"
     ]
    },
    {
     "name": "stderr",
     "output_type": "stream",
     "text": [
      "100%|██████████████████████████████████████████| 16/16 [00:00<00:00, 165.78it/s]\n",
      " 73%|███████████████████████████████▌           | 22/30 [00:05<00:02,  3.87it/s]"
     ]
    },
    {
     "name": "stdout",
     "output_type": "stream",
     "text": [
      "Epoch 21:  (best: False)train loss = 0.113 (auc: 0.562 f1: 0.094), validation loss = 0.112 (auc: 0.569 f1: 0.090)\n"
     ]
    },
    {
     "name": "stderr",
     "output_type": "stream",
     "text": [
      "100%|██████████████████████████████████████████| 16/16 [00:00<00:00, 158.57it/s]\n",
      " 77%|████████████████████████████████▉          | 23/30 [00:05<00:01,  3.85it/s]"
     ]
    },
    {
     "name": "stdout",
     "output_type": "stream",
     "text": [
      "Epoch 22:  (best: False)train loss = 0.113 (auc: 0.558 f1: 0.094), validation loss = 0.113 (auc: 0.565 f1: 0.090)\n"
     ]
    },
    {
     "name": "stderr",
     "output_type": "stream",
     "text": [
      "100%|██████████████████████████████████████████| 16/16 [00:00<00:00, 163.70it/s]\n",
      " 80%|██████████████████████████████████▍        | 24/30 [00:06<00:01,  3.85it/s]"
     ]
    },
    {
     "name": "stdout",
     "output_type": "stream",
     "text": [
      "Epoch 23:  (best: False)train loss = 0.112 (auc: 0.566 f1: 0.094), validation loss = 0.112 (auc: 0.575 f1: 0.090)\n"
     ]
    },
    {
     "name": "stderr",
     "output_type": "stream",
     "text": [
      "100%|██████████████████████████████████████████| 16/16 [00:00<00:00, 165.44it/s]\n",
      " 83%|███████████████████████████████████▊       | 25/30 [00:06<00:01,  3.86it/s]"
     ]
    },
    {
     "name": "stdout",
     "output_type": "stream",
     "text": [
      "Epoch 24:  (best: False)train loss = 0.113 (auc: 0.567 f1: 0.095), validation loss = 0.112 (auc: 0.576 f1: 0.090)\n"
     ]
    },
    {
     "name": "stderr",
     "output_type": "stream",
     "text": [
      "100%|██████████████████████████████████████████| 16/16 [00:00<00:00, 164.75it/s]\n",
      " 87%|█████████████████████████████████████▎     | 26/30 [00:06<00:01,  3.83it/s]"
     ]
    },
    {
     "name": "stdout",
     "output_type": "stream",
     "text": [
      "Epoch 25:  (best: False)train loss = 0.113 (auc: 0.561 f1: 0.095), validation loss = 0.112 (auc: 0.569 f1: 0.090)\n"
     ]
    },
    {
     "name": "stderr",
     "output_type": "stream",
     "text": [
      "100%|██████████████████████████████████████████| 16/16 [00:00<00:00, 146.97it/s]\n",
      " 90%|██████████████████████████████████████▋    | 27/30 [00:07<00:00,  3.67it/s]"
     ]
    },
    {
     "name": "stdout",
     "output_type": "stream",
     "text": [
      "Epoch 26:  (best: False)train loss = 0.112 (auc: 0.567 f1: 0.093), validation loss = 0.112 (auc: 0.577 f1: 0.089)\n"
     ]
    },
    {
     "name": "stderr",
     "output_type": "stream",
     "text": [
      "100%|██████████████████████████████████████████| 16/16 [00:00<00:00, 152.73it/s]\n",
      " 93%|████████████████████████████████████████▏  | 28/30 [00:07<00:00,  3.61it/s]"
     ]
    },
    {
     "name": "stdout",
     "output_type": "stream",
     "text": [
      "Epoch 27:  (best: False)train loss = 0.112 (auc: 0.560 f1: 0.094), validation loss = 0.112 (auc: 0.568 f1: 0.090)\n"
     ]
    },
    {
     "name": "stderr",
     "output_type": "stream",
     "text": [
      "100%|██████████████████████████████████████████| 16/16 [00:00<00:00, 152.63it/s]\n",
      " 97%|█████████████████████████████████████████▌ | 29/30 [00:07<00:00,  3.57it/s]"
     ]
    },
    {
     "name": "stdout",
     "output_type": "stream",
     "text": [
      "Epoch 28:  (best: False)train loss = 0.113 (auc: 0.564 f1: 0.094), validation loss = 0.112 (auc: 0.573 f1: 0.090)\n"
     ]
    },
    {
     "name": "stderr",
     "output_type": "stream",
     "text": [
      "100%|██████████████████████████████████████████| 16/16 [00:00<00:00, 168.69it/s]\n",
      "100%|███████████████████████████████████████████| 30/30 [00:07<00:00,  3.81it/s]\n"
     ]
    },
    {
     "name": "stdout",
     "output_type": "stream",
     "text": [
      "Epoch 29:  (best: False)train loss = 0.112 (auc: 0.562 f1: 0.095), validation loss = 0.112 (auc: 0.571 f1: 0.090)\n"
     ]
    },
    {
     "name": "stderr",
     "output_type": "stream",
     "text": [
      "100%|██████████████████████████████████████████| 16/16 [00:00<00:00, 162.06it/s]\n",
      "  3%|█▍                                          | 1/30 [00:00<00:08,  3.55it/s]"
     ]
    },
    {
     "name": "stdout",
     "output_type": "stream",
     "text": [
      "Epoch 0:  (best: True)train loss = 0.115 (auc: 0.548 f1: 0.074), validation loss = 0.115 (auc: 0.548 f1: 0.053)\n"
     ]
    },
    {
     "name": "stderr",
     "output_type": "stream",
     "text": [
      "100%|██████████████████████████████████████████| 16/16 [00:00<00:00, 152.90it/s]\n",
      "  7%|██▉                                         | 2/30 [00:00<00:07,  3.64it/s]"
     ]
    },
    {
     "name": "stdout",
     "output_type": "stream",
     "text": [
      "Epoch 1:  (best: True)train loss = 0.113 (auc: 0.727 f1: 0.093), validation loss = 0.113 (auc: 0.716 f1: 0.085)\n"
     ]
    },
    {
     "name": "stderr",
     "output_type": "stream",
     "text": [
      "100%|██████████████████████████████████████████| 16/16 [00:00<00:00, 168.37it/s]\n",
      " 10%|████▍                                       | 3/30 [00:00<00:07,  3.74it/s]"
     ]
    },
    {
     "name": "stdout",
     "output_type": "stream",
     "text": [
      "Epoch 2:  (best: True)train loss = 0.113 (auc: 0.734 f1: 0.092), validation loss = 0.113 (auc: 0.728 f1: 0.092)\n"
     ]
    },
    {
     "name": "stderr",
     "output_type": "stream",
     "text": [
      "100%|██████████████████████████████████████████| 16/16 [00:00<00:00, 167.40it/s]\n",
      " 13%|█████▊                                      | 4/30 [00:01<00:06,  3.81it/s]"
     ]
    },
    {
     "name": "stdout",
     "output_type": "stream",
     "text": [
      "Epoch 3:  (best: True)train loss = 0.112 (auc: 0.721 f1: 0.100), validation loss = 0.112 (auc: 0.719 f1: 0.097)\n"
     ]
    },
    {
     "name": "stderr",
     "output_type": "stream",
     "text": [
      "100%|██████████████████████████████████████████| 16/16 [00:00<00:00, 165.07it/s]\n",
      " 17%|███████▎                                    | 5/30 [00:01<00:06,  3.83it/s]"
     ]
    },
    {
     "name": "stdout",
     "output_type": "stream",
     "text": [
      "Epoch 4:  (best: True)train loss = 0.112 (auc: 0.685 f1: 0.138), validation loss = 0.112 (auc: 0.679 f1: 0.127)\n"
     ]
    },
    {
     "name": "stderr",
     "output_type": "stream",
     "text": [
      "100%|██████████████████████████████████████████| 16/16 [00:00<00:00, 162.63it/s]\n",
      " 20%|████████▊                                   | 6/30 [00:01<00:06,  3.85it/s]"
     ]
    },
    {
     "name": "stdout",
     "output_type": "stream",
     "text": [
      "Epoch 5:  (best: True)train loss = 0.111 (auc: 0.658 f1: 0.153), validation loss = 0.112 (auc: 0.652 f1: 0.141)\n"
     ]
    },
    {
     "name": "stderr",
     "output_type": "stream",
     "text": [
      "100%|██████████████████████████████████████████| 16/16 [00:00<00:00, 169.16it/s]\n",
      " 23%|██████████▎                                 | 7/30 [00:01<00:05,  3.86it/s]"
     ]
    },
    {
     "name": "stdout",
     "output_type": "stream",
     "text": [
      "Epoch 6:  (best: False)train loss = 0.111 (auc: 0.711 f1: 0.148), validation loss = 0.112 (auc: 0.709 f1: 0.138)\n"
     ]
    },
    {
     "name": "stderr",
     "output_type": "stream",
     "text": [
      "100%|██████████████████████████████████████████| 16/16 [00:00<00:00, 167.04it/s]\n",
      " 27%|███████████▋                                | 8/30 [00:02<00:05,  3.88it/s]"
     ]
    },
    {
     "name": "stdout",
     "output_type": "stream",
     "text": [
      "Epoch 7:  (best: False)train loss = 0.111 (auc: 0.708 f1: 0.144), validation loss = 0.111 (auc: 0.706 f1: 0.134)\n"
     ]
    },
    {
     "name": "stderr",
     "output_type": "stream",
     "text": [
      "100%|██████████████████████████████████████████| 16/16 [00:00<00:00, 167.82it/s]\n",
      " 30%|█████████████▏                              | 9/30 [00:02<00:05,  3.89it/s]"
     ]
    },
    {
     "name": "stdout",
     "output_type": "stream",
     "text": [
      "Epoch 8:  (best: False)train loss = 0.111 (auc: 0.691 f1: 0.151), validation loss = 0.111 (auc: 0.687 f1: 0.141)\n"
     ]
    },
    {
     "name": "stderr",
     "output_type": "stream",
     "text": [
      "100%|██████████████████████████████████████████| 16/16 [00:00<00:00, 164.77it/s]\n",
      " 33%|██████████████▎                            | 10/30 [00:02<00:05,  3.89it/s]"
     ]
    },
    {
     "name": "stdout",
     "output_type": "stream",
     "text": [
      "Epoch 9:  (best: False)train loss = 0.111 (auc: 0.701 f1: 0.148), validation loss = 0.111 (auc: 0.698 f1: 0.140)\n"
     ]
    },
    {
     "name": "stderr",
     "output_type": "stream",
     "text": [
      "100%|██████████████████████████████████████████| 16/16 [00:00<00:00, 161.76it/s]\n",
      " 37%|███████████████▊                           | 11/30 [00:02<00:04,  3.84it/s]"
     ]
    },
    {
     "name": "stdout",
     "output_type": "stream",
     "text": [
      "Epoch 10:  (best: False)train loss = 0.111 (auc: 0.711 f1: 0.148), validation loss = 0.111 (auc: 0.709 f1: 0.139)\n"
     ]
    },
    {
     "name": "stderr",
     "output_type": "stream",
     "text": [
      "100%|██████████████████████████████████████████| 16/16 [00:00<00:00, 168.27it/s]\n",
      " 40%|█████████████████▏                         | 12/30 [00:03<00:04,  3.86it/s]"
     ]
    },
    {
     "name": "stdout",
     "output_type": "stream",
     "text": [
      "Epoch 11:  (best: False)train loss = 0.111 (auc: 0.707 f1: 0.150), validation loss = 0.111 (auc: 0.704 f1: 0.141)\n"
     ]
    },
    {
     "name": "stderr",
     "output_type": "stream",
     "text": [
      "100%|██████████████████████████████████████████| 16/16 [00:00<00:00, 169.53it/s]\n",
      " 43%|██████████████████▋                        | 13/30 [00:03<00:04,  3.87it/s]"
     ]
    },
    {
     "name": "stdout",
     "output_type": "stream",
     "text": [
      "Epoch 12:  (best: False)train loss = 0.111 (auc: 0.708 f1: 0.149), validation loss = 0.111 (auc: 0.706 f1: 0.138)\n"
     ]
    },
    {
     "name": "stderr",
     "output_type": "stream",
     "text": [
      "100%|██████████████████████████████████████████| 16/16 [00:00<00:00, 168.25it/s]\n",
      " 47%|████████████████████                       | 14/30 [00:03<00:04,  3.89it/s]"
     ]
    },
    {
     "name": "stdout",
     "output_type": "stream",
     "text": [
      "Epoch 13:  (best: False)train loss = 0.111 (auc: 0.698 f1: 0.148), validation loss = 0.111 (auc: 0.696 f1: 0.140)\n"
     ]
    },
    {
     "name": "stderr",
     "output_type": "stream",
     "text": [
      "100%|██████████████████████████████████████████| 16/16 [00:00<00:00, 166.48it/s]\n",
      " 50%|█████████████████████▌                     | 15/30 [00:03<00:03,  3.87it/s]"
     ]
    },
    {
     "name": "stdout",
     "output_type": "stream",
     "text": [
      "Epoch 14:  (best: False)train loss = 0.111 (auc: 0.714 f1: 0.145), validation loss = 0.111 (auc: 0.712 f1: 0.135)\n"
     ]
    },
    {
     "name": "stderr",
     "output_type": "stream",
     "text": [
      "100%|██████████████████████████████████████████| 16/16 [00:00<00:00, 167.93it/s]\n",
      " 53%|██████████████████████▉                    | 16/30 [00:04<00:03,  3.88it/s]"
     ]
    },
    {
     "name": "stdout",
     "output_type": "stream",
     "text": [
      "Epoch 15:  (best: False)train loss = 0.111 (auc: 0.701 f1: 0.150), validation loss = 0.111 (auc: 0.698 f1: 0.141)\n"
     ]
    },
    {
     "name": "stderr",
     "output_type": "stream",
     "text": [
      "100%|██████████████████████████████████████████| 16/16 [00:00<00:00, 168.59it/s]\n",
      " 57%|████████████████████████▎                  | 17/30 [00:04<00:03,  3.89it/s]"
     ]
    },
    {
     "name": "stdout",
     "output_type": "stream",
     "text": [
      "Epoch 16:  (best: False)train loss = 0.111 (auc: 0.708 f1: 0.148), validation loss = 0.111 (auc: 0.706 f1: 0.139)\n"
     ]
    },
    {
     "name": "stderr",
     "output_type": "stream",
     "text": [
      "100%|██████████████████████████████████████████| 16/16 [00:00<00:00, 160.17it/s]\n",
      " 60%|█████████████████████████▊                 | 18/30 [00:04<00:03,  3.87it/s]"
     ]
    },
    {
     "name": "stdout",
     "output_type": "stream",
     "text": [
      "Epoch 17:  (best: False)train loss = 0.111 (auc: 0.715 f1: 0.150), validation loss = 0.111 (auc: 0.713 f1: 0.141)\n"
     ]
    },
    {
     "name": "stderr",
     "output_type": "stream",
     "text": [
      "100%|██████████████████████████████████████████| 16/16 [00:00<00:00, 162.77it/s]\n",
      " 63%|███████████████████████████▏               | 19/30 [00:04<00:02,  3.84it/s]"
     ]
    },
    {
     "name": "stdout",
     "output_type": "stream",
     "text": [
      "Epoch 18:  (best: False)train loss = 0.111 (auc: 0.707 f1: 0.149), validation loss = 0.111 (auc: 0.703 f1: 0.139)\n"
     ]
    },
    {
     "name": "stderr",
     "output_type": "stream",
     "text": [
      "100%|██████████████████████████████████████████| 16/16 [00:00<00:00, 165.97it/s]\n",
      " 67%|████████████████████████████▋              | 20/30 [00:05<00:02,  3.84it/s]"
     ]
    },
    {
     "name": "stdout",
     "output_type": "stream",
     "text": [
      "Epoch 19:  (best: False)train loss = 0.111 (auc: 0.704 f1: 0.142), validation loss = 0.111 (auc: 0.703 f1: 0.135)\n"
     ]
    },
    {
     "name": "stderr",
     "output_type": "stream",
     "text": [
      "100%|██████████████████████████████████████████| 16/16 [00:00<00:00, 169.62it/s]\n",
      " 70%|██████████████████████████████             | 21/30 [00:05<00:02,  3.88it/s]"
     ]
    },
    {
     "name": "stdout",
     "output_type": "stream",
     "text": [
      "Epoch 20:  (best: False)train loss = 0.111 (auc: 0.688 f1: 0.150), validation loss = 0.111 (auc: 0.683 f1: 0.140)\n"
     ]
    },
    {
     "name": "stderr",
     "output_type": "stream",
     "text": [
      "100%|██████████████████████████████████████████| 16/16 [00:00<00:00, 169.93it/s]\n",
      " 73%|███████████████████████████████▌           | 22/30 [00:05<00:02,  3.91it/s]"
     ]
    },
    {
     "name": "stdout",
     "output_type": "stream",
     "text": [
      "Epoch 21:  (best: False)train loss = 0.111 (auc: 0.714 f1: 0.145), validation loss = 0.111 (auc: 0.712 f1: 0.137)\n"
     ]
    },
    {
     "name": "stderr",
     "output_type": "stream",
     "text": [
      "100%|██████████████████████████████████████████| 16/16 [00:00<00:00, 157.26it/s]\n",
      " 77%|████████████████████████████████▉          | 23/30 [00:05<00:01,  3.86it/s]"
     ]
    },
    {
     "name": "stdout",
     "output_type": "stream",
     "text": [
      "Epoch 22:  (best: False)train loss = 0.111 (auc: 0.703 f1: 0.150), validation loss = 0.111 (auc: 0.699 f1: 0.139)\n"
     ]
    },
    {
     "name": "stderr",
     "output_type": "stream",
     "text": [
      "100%|██████████████████████████████████████████| 16/16 [00:00<00:00, 164.04it/s]\n",
      " 80%|██████████████████████████████████▍        | 24/30 [00:06<00:01,  3.83it/s]"
     ]
    },
    {
     "name": "stdout",
     "output_type": "stream",
     "text": [
      "Epoch 23:  (best: False)train loss = 0.111 (auc: 0.708 f1: 0.149), validation loss = 0.111 (auc: 0.705 f1: 0.138)\n"
     ]
    },
    {
     "name": "stderr",
     "output_type": "stream",
     "text": [
      "100%|██████████████████████████████████████████| 16/16 [00:00<00:00, 157.26it/s]\n",
      " 83%|███████████████████████████████████▊       | 25/30 [00:06<00:01,  3.78it/s]"
     ]
    },
    {
     "name": "stdout",
     "output_type": "stream",
     "text": [
      "Epoch 24:  (best: False)train loss = 0.111 (auc: 0.706 f1: 0.150), validation loss = 0.111 (auc: 0.702 f1: 0.138)\n"
     ]
    },
    {
     "name": "stderr",
     "output_type": "stream",
     "text": [
      "100%|██████████████████████████████████████████| 16/16 [00:00<00:00, 157.20it/s]\n",
      " 87%|█████████████████████████████████████▎     | 26/30 [00:06<00:01,  3.72it/s]"
     ]
    },
    {
     "name": "stdout",
     "output_type": "stream",
     "text": [
      "Epoch 25:  (best: False)train loss = 0.111 (auc: 0.709 f1: 0.150), validation loss = 0.111 (auc: 0.707 f1: 0.140)\n"
     ]
    },
    {
     "name": "stderr",
     "output_type": "stream",
     "text": [
      "100%|██████████████████████████████████████████| 16/16 [00:00<00:00, 165.67it/s]\n",
      " 90%|██████████████████████████████████████▋    | 27/30 [00:07<00:00,  3.78it/s]"
     ]
    },
    {
     "name": "stdout",
     "output_type": "stream",
     "text": [
      "Epoch 26:  (best: False)train loss = 0.111 (auc: 0.706 f1: 0.144), validation loss = 0.111 (auc: 0.703 f1: 0.135)\n"
     ]
    },
    {
     "name": "stderr",
     "output_type": "stream",
     "text": [
      "100%|██████████████████████████████████████████| 16/16 [00:00<00:00, 161.94it/s]\n",
      " 93%|████████████████████████████████████████▏  | 28/30 [00:07<00:00,  3.69it/s]"
     ]
    },
    {
     "name": "stdout",
     "output_type": "stream",
     "text": [
      "Epoch 27:  (best: False)train loss = 0.110 (auc: 0.711 f1: 0.146), validation loss = 0.111 (auc: 0.709 f1: 0.138)\n"
     ]
    },
    {
     "name": "stderr",
     "output_type": "stream",
     "text": [
      "100%|██████████████████████████████████████████| 16/16 [00:00<00:00, 152.48it/s]\n",
      " 97%|█████████████████████████████████████████▌ | 29/30 [00:07<00:00,  3.65it/s]"
     ]
    },
    {
     "name": "stdout",
     "output_type": "stream",
     "text": [
      "Epoch 28:  (best: False)train loss = 0.110 (auc: 0.708 f1: 0.144), validation loss = 0.111 (auc: 0.705 f1: 0.136)\n"
     ]
    },
    {
     "name": "stderr",
     "output_type": "stream",
     "text": [
      "100%|██████████████████████████████████████████| 16/16 [00:00<00:00, 148.98it/s]\n",
      "100%|███████████████████████████████████████████| 30/30 [00:07<00:00,  3.80it/s]\n"
     ]
    },
    {
     "name": "stdout",
     "output_type": "stream",
     "text": [
      "Epoch 29:  (best: False)train loss = 0.111 (auc: 0.702 f1: 0.150), validation loss = 0.111 (auc: 0.698 f1: 0.141)\n"
     ]
    },
    {
     "name": "stderr",
     "output_type": "stream",
     "text": [
      "100%|██████████████████████████████████████████| 16/16 [00:00<00:00, 171.61it/s]\n",
      "  3%|█▍                                          | 1/30 [00:00<00:07,  3.93it/s]"
     ]
    },
    {
     "name": "stdout",
     "output_type": "stream",
     "text": [
      "Epoch 0:  (best: True)train loss = 0.115 (auc: 0.583 f1: 0.070), validation loss = 0.115 (auc: 0.579 f1: 0.060)\n"
     ]
    },
    {
     "name": "stderr",
     "output_type": "stream",
     "text": [
      "100%|██████████████████████████████████████████| 16/16 [00:00<00:00, 149.47it/s]\n",
      "  7%|██▉                                         | 2/30 [00:00<00:07,  3.81it/s]"
     ]
    },
    {
     "name": "stdout",
     "output_type": "stream",
     "text": [
      "Epoch 1:  (best: True)train loss = 0.113 (auc: 0.775 f1: 0.079), validation loss = 0.114 (auc: 0.762 f1: 0.070)\n"
     ]
    },
    {
     "name": "stderr",
     "output_type": "stream",
     "text": [
      "100%|██████████████████████████████████████████| 16/16 [00:00<00:00, 171.22it/s]\n",
      " 10%|████▍                                       | 3/30 [00:00<00:06,  3.90it/s]"
     ]
    },
    {
     "name": "stdout",
     "output_type": "stream",
     "text": [
      "Epoch 2:  (best: False)train loss = 0.113 (auc: 0.728 f1: 0.073), validation loss = 0.114 (auc: 0.713 f1: 0.064)\n"
     ]
    },
    {
     "name": "stderr",
     "output_type": "stream",
     "text": [
      "100%|██████████████████████████████████████████| 16/16 [00:00<00:00, 169.09it/s]\n",
      " 13%|█████▊                                      | 4/30 [00:01<00:06,  3.91it/s]"
     ]
    },
    {
     "name": "stdout",
     "output_type": "stream",
     "text": [
      "Epoch 3:  (best: True)train loss = 0.112 (auc: 0.743 f1: 0.093), validation loss = 0.113 (auc: 0.727 f1: 0.083)\n"
     ]
    },
    {
     "name": "stderr",
     "output_type": "stream",
     "text": [
      "100%|██████████████████████████████████████████| 16/16 [00:00<00:00, 171.25it/s]\n",
      " 17%|███████▎                                    | 5/30 [00:01<00:06,  3.90it/s]"
     ]
    },
    {
     "name": "stdout",
     "output_type": "stream",
     "text": [
      "Epoch 4:  (best: True)train loss = 0.113 (auc: 0.725 f1: 0.108), validation loss = 0.113 (auc: 0.713 f1: 0.108)\n"
     ]
    },
    {
     "name": "stderr",
     "output_type": "stream",
     "text": [
      "100%|██████████████████████████████████████████| 16/16 [00:00<00:00, 147.58it/s]\n",
      " 20%|████████▊                                   | 6/30 [00:01<00:06,  3.81it/s]"
     ]
    },
    {
     "name": "stdout",
     "output_type": "stream",
     "text": [
      "Epoch 5:  (best: False)train loss = 0.112 (auc: 0.685 f1: 0.102), validation loss = 0.112 (auc: 0.684 f1: 0.101)\n"
     ]
    },
    {
     "name": "stderr",
     "output_type": "stream",
     "text": [
      "100%|██████████████████████████████████████████| 16/16 [00:00<00:00, 149.84it/s]\n",
      " 23%|██████████▎                                 | 7/30 [00:01<00:06,  3.74it/s]"
     ]
    },
    {
     "name": "stdout",
     "output_type": "stream",
     "text": [
      "Epoch 6:  (best: True)train loss = 0.113 (auc: 0.541 f1: 0.176), validation loss = 0.113 (auc: 0.547 f1: 0.146)\n"
     ]
    },
    {
     "name": "stderr",
     "output_type": "stream",
     "text": [
      "100%|██████████████████████████████████████████| 16/16 [00:00<00:00, 161.91it/s]\n",
      " 27%|███████████▋                                | 8/30 [00:02<00:05,  3.72it/s]"
     ]
    },
    {
     "name": "stdout",
     "output_type": "stream",
     "text": [
      "Epoch 7:  (best: False)train loss = 0.112 (auc: 0.724 f1: 0.134), validation loss = 0.112 (auc: 0.716 f1: 0.128)\n"
     ]
    },
    {
     "name": "stderr",
     "output_type": "stream",
     "text": [
      "100%|██████████████████████████████████████████| 16/16 [00:00<00:00, 162.81it/s]\n",
      " 30%|█████████████▏                              | 9/30 [00:02<00:05,  3.75it/s]"
     ]
    },
    {
     "name": "stdout",
     "output_type": "stream",
     "text": [
      "Epoch 8:  (best: False)train loss = 0.111 (auc: 0.703 f1: 0.140), validation loss = 0.112 (auc: 0.699 f1: 0.131)\n"
     ]
    },
    {
     "name": "stderr",
     "output_type": "stream",
     "text": [
      "100%|██████████████████████████████████████████| 16/16 [00:00<00:00, 158.59it/s]\n",
      " 33%|██████████████▎                            | 10/30 [00:02<00:05,  3.70it/s]"
     ]
    },
    {
     "name": "stdout",
     "output_type": "stream",
     "text": [
      "Epoch 9:  (best: True)train loss = 0.111 (auc: 0.660 f1: 0.170), validation loss = 0.112 (auc: 0.667 f1: 0.157)\n"
     ]
    },
    {
     "name": "stderr",
     "output_type": "stream",
     "text": [
      "100%|██████████████████████████████████████████| 16/16 [00:00<00:00, 164.80it/s]\n",
      " 37%|███████████████▊                           | 11/30 [00:02<00:05,  3.70it/s]"
     ]
    },
    {
     "name": "stdout",
     "output_type": "stream",
     "text": [
      "Epoch 10:  (best: False)train loss = 0.111 (auc: 0.705 f1: 0.162), validation loss = 0.111 (auc: 0.704 f1: 0.156)\n"
     ]
    },
    {
     "name": "stderr",
     "output_type": "stream",
     "text": [
      "100%|██████████████████████████████████████████| 16/16 [00:00<00:00, 152.73it/s]\n",
      " 40%|█████████████████▏                         | 12/30 [00:03<00:04,  3.70it/s]"
     ]
    },
    {
     "name": "stdout",
     "output_type": "stream",
     "text": [
      "Epoch 11:  (best: False)train loss = 0.111 (auc: 0.710 f1: 0.163), validation loss = 0.111 (auc: 0.708 f1: 0.153)\n"
     ]
    },
    {
     "name": "stderr",
     "output_type": "stream",
     "text": [
      "100%|██████████████████████████████████████████| 16/16 [00:00<00:00, 166.44it/s]\n",
      " 43%|██████████████████▋                        | 13/30 [00:03<00:04,  3.74it/s]"
     ]
    },
    {
     "name": "stdout",
     "output_type": "stream",
     "text": [
      "Epoch 12:  (best: False)train loss = 0.111 (auc: 0.703 f1: 0.166), validation loss = 0.111 (auc: 0.702 f1: 0.155)\n"
     ]
    },
    {
     "name": "stderr",
     "output_type": "stream",
     "text": [
      "100%|██████████████████████████████████████████| 16/16 [00:00<00:00, 158.10it/s]\n",
      " 47%|████████████████████                       | 14/30 [00:03<00:04,  3.76it/s]"
     ]
    },
    {
     "name": "stdout",
     "output_type": "stream",
     "text": [
      "Epoch 13:  (best: False)train loss = 0.111 (auc: 0.687 f1: 0.167), validation loss = 0.111 (auc: 0.687 f1: 0.155)\n"
     ]
    },
    {
     "name": "stderr",
     "output_type": "stream",
     "text": [
      "100%|██████████████████████████████████████████| 16/16 [00:00<00:00, 155.17it/s]\n",
      " 50%|█████████████████████▌                     | 15/30 [00:03<00:04,  3.73it/s]"
     ]
    },
    {
     "name": "stdout",
     "output_type": "stream",
     "text": [
      "Epoch 14:  (best: False)train loss = 0.111 (auc: 0.706 f1: 0.166), validation loss = 0.111 (auc: 0.702 f1: 0.156)\n"
     ]
    },
    {
     "name": "stderr",
     "output_type": "stream",
     "text": [
      "100%|██████████████████████████████████████████| 16/16 [00:00<00:00, 139.44it/s]\n",
      " 53%|██████████████████████▉                    | 16/30 [00:04<00:03,  3.69it/s]"
     ]
    },
    {
     "name": "stdout",
     "output_type": "stream",
     "text": [
      "Epoch 15:  (best: False)train loss = 0.111 (auc: 0.674 f1: 0.161), validation loss = 0.111 (auc: 0.677 f1: 0.154)\n"
     ]
    },
    {
     "name": "stderr",
     "output_type": "stream",
     "text": [
      "100%|██████████████████████████████████████████| 16/16 [00:00<00:00, 165.31it/s]\n",
      " 57%|████████████████████████▎                  | 17/30 [00:04<00:03,  3.72it/s]"
     ]
    },
    {
     "name": "stdout",
     "output_type": "stream",
     "text": [
      "Epoch 16:  (best: False)train loss = 0.111 (auc: 0.700 f1: 0.166), validation loss = 0.111 (auc: 0.698 f1: 0.156)\n"
     ]
    },
    {
     "name": "stderr",
     "output_type": "stream",
     "text": [
      "100%|██████████████████████████████████████████| 16/16 [00:00<00:00, 161.25it/s]\n",
      " 60%|█████████████████████████▊                 | 18/30 [00:04<00:03,  3.76it/s]"
     ]
    },
    {
     "name": "stdout",
     "output_type": "stream",
     "text": [
      "Epoch 17:  (best: False)train loss = 0.111 (auc: 0.688 f1: 0.159), validation loss = 0.111 (auc: 0.690 f1: 0.153)\n"
     ]
    },
    {
     "name": "stderr",
     "output_type": "stream",
     "text": [
      "100%|██████████████████████████████████████████| 16/16 [00:00<00:00, 169.24it/s]\n",
      " 63%|███████████████████████████▏               | 19/30 [00:05<00:02,  3.82it/s]"
     ]
    },
    {
     "name": "stdout",
     "output_type": "stream",
     "text": [
      "Epoch 18:  (best: False)train loss = 0.110 (auc: 0.689 f1: 0.168), validation loss = 0.111 (auc: 0.689 f1: 0.155)\n"
     ]
    },
    {
     "name": "stderr",
     "output_type": "stream",
     "text": [
      "100%|██████████████████████████████████████████| 16/16 [00:00<00:00, 148.88it/s]\n",
      " 67%|████████████████████████████▋              | 20/30 [00:05<00:02,  3.77it/s]"
     ]
    },
    {
     "name": "stdout",
     "output_type": "stream",
     "text": [
      "Epoch 19:  (best: False)train loss = 0.110 (auc: 0.686 f1: 0.163), validation loss = 0.111 (auc: 0.689 f1: 0.156)\n"
     ]
    },
    {
     "name": "stderr",
     "output_type": "stream",
     "text": [
      "100%|██████████████████████████████████████████| 16/16 [00:00<00:00, 133.31it/s]\n",
      " 70%|██████████████████████████████             | 21/30 [00:05<00:02,  3.65it/s]"
     ]
    },
    {
     "name": "stdout",
     "output_type": "stream",
     "text": [
      "Epoch 20:  (best: False)train loss = 0.110 (auc: 0.696 f1: 0.164), validation loss = 0.111 (auc: 0.695 f1: 0.155)\n"
     ]
    },
    {
     "name": "stderr",
     "output_type": "stream",
     "text": [
      "100%|██████████████████████████████████████████| 16/16 [00:00<00:00, 147.02it/s]\n",
      " 73%|███████████████████████████████▌           | 22/30 [00:05<00:02,  3.59it/s]"
     ]
    },
    {
     "name": "stdout",
     "output_type": "stream",
     "text": [
      "Epoch 21:  (best: True)train loss = 0.111 (auc: 0.691 f1: 0.162), validation loss = 0.111 (auc: 0.692 f1: 0.158)\n"
     ]
    },
    {
     "name": "stderr",
     "output_type": "stream",
     "text": [
      "100%|██████████████████████████████████████████| 16/16 [00:00<00:00, 150.46it/s]\n",
      " 77%|████████████████████████████████▉          | 23/30 [00:06<00:01,  3.60it/s]"
     ]
    },
    {
     "name": "stdout",
     "output_type": "stream",
     "text": [
      "Epoch 22:  (best: False)train loss = 0.110 (auc: 0.685 f1: 0.170), validation loss = 0.111 (auc: 0.688 f1: 0.154)\n"
     ]
    },
    {
     "name": "stderr",
     "output_type": "stream",
     "text": [
      "100%|██████████████████████████████████████████| 16/16 [00:00<00:00, 170.33it/s]\n",
      " 80%|██████████████████████████████████▍        | 24/30 [00:06<00:01,  3.69it/s]"
     ]
    },
    {
     "name": "stdout",
     "output_type": "stream",
     "text": [
      "Epoch 23:  (best: False)train loss = 0.110 (auc: 0.684 f1: 0.166), validation loss = 0.111 (auc: 0.689 f1: 0.153)\n"
     ]
    },
    {
     "name": "stderr",
     "output_type": "stream",
     "text": [
      "100%|██████████████████████████████████████████| 16/16 [00:00<00:00, 155.49it/s]\n",
      " 83%|███████████████████████████████████▊       | 25/30 [00:06<00:01,  3.70it/s]"
     ]
    },
    {
     "name": "stdout",
     "output_type": "stream",
     "text": [
      "Epoch 24:  (best: False)train loss = 0.111 (auc: 0.694 f1: 0.167), validation loss = 0.111 (auc: 0.695 f1: 0.156)\n"
     ]
    },
    {
     "name": "stderr",
     "output_type": "stream",
     "text": [
      "100%|██████████████████████████████████████████| 16/16 [00:00<00:00, 165.43it/s]\n",
      " 87%|█████████████████████████████████████▎     | 26/30 [00:06<00:01,  3.70it/s]"
     ]
    },
    {
     "name": "stdout",
     "output_type": "stream",
     "text": [
      "Epoch 25:  (best: False)train loss = 0.110 (auc: 0.697 f1: 0.170), validation loss = 0.111 (auc: 0.697 f1: 0.157)\n"
     ]
    },
    {
     "name": "stderr",
     "output_type": "stream",
     "text": [
      "100%|██████████████████████████████████████████| 16/16 [00:00<00:00, 151.04it/s]\n",
      " 90%|██████████████████████████████████████▋    | 27/30 [00:07<00:00,  3.72it/s]"
     ]
    },
    {
     "name": "stdout",
     "output_type": "stream",
     "text": [
      "Epoch 26:  (best: False)train loss = 0.110 (auc: 0.681 f1: 0.164), validation loss = 0.111 (auc: 0.687 f1: 0.155)\n"
     ]
    },
    {
     "name": "stderr",
     "output_type": "stream",
     "text": [
      "100%|██████████████████████████████████████████| 16/16 [00:00<00:00, 169.13it/s]\n",
      " 93%|████████████████████████████████████████▏  | 28/30 [00:07<00:00,  3.78it/s]"
     ]
    },
    {
     "name": "stdout",
     "output_type": "stream",
     "text": [
      "Epoch 27:  (best: False)train loss = 0.111 (auc: 0.694 f1: 0.168), validation loss = 0.111 (auc: 0.692 f1: 0.157)\n"
     ]
    },
    {
     "name": "stderr",
     "output_type": "stream",
     "text": [
      "100%|██████████████████████████████████████████| 16/16 [00:00<00:00, 171.36it/s]\n",
      " 97%|█████████████████████████████████████████▌ | 29/30 [00:07<00:00,  3.81it/s]"
     ]
    },
    {
     "name": "stdout",
     "output_type": "stream",
     "text": [
      "Epoch 28:  (best: True)train loss = 0.110 (auc: 0.683 f1: 0.166), validation loss = 0.111 (auc: 0.685 f1: 0.161)\n"
     ]
    },
    {
     "name": "stderr",
     "output_type": "stream",
     "text": [
      "100%|██████████████████████████████████████████| 16/16 [00:00<00:00, 158.27it/s]\n",
      "100%|███████████████████████████████████████████| 30/30 [00:08<00:00,  3.75it/s]\n"
     ]
    },
    {
     "name": "stdout",
     "output_type": "stream",
     "text": [
      "Epoch 29:  (best: False)train loss = 0.111 (auc: 0.698 f1: 0.165), validation loss = 0.111 (auc: 0.697 f1: 0.154)\n"
     ]
    },
    {
     "name": "stderr",
     "output_type": "stream",
     "text": [
      "100%|██████████████████████████████████████████| 16/16 [00:00<00:00, 148.04it/s]\n",
      "  3%|█▍                                          | 1/30 [00:00<00:08,  3.46it/s]"
     ]
    },
    {
     "name": "stdout",
     "output_type": "stream",
     "text": [
      "Epoch 0:  (best: True)train loss = 0.115 (auc: 0.720 f1: 0.090), validation loss = 0.115 (auc: 0.704 f1: 0.080)\n"
     ]
    },
    {
     "name": "stderr",
     "output_type": "stream",
     "text": [
      "100%|██████████████████████████████████████████| 16/16 [00:00<00:00, 161.49it/s]\n",
      "  7%|██▉                                         | 2/30 [00:00<00:07,  3.70it/s]"
     ]
    },
    {
     "name": "stdout",
     "output_type": "stream",
     "text": [
      "Epoch 1:  (best: True)train loss = 0.113 (auc: 0.791 f1: 0.088), validation loss = 0.113 (auc: 0.777 f1: 0.085)\n"
     ]
    },
    {
     "name": "stderr",
     "output_type": "stream",
     "text": [
      "100%|██████████████████████████████████████████| 16/16 [00:00<00:00, 170.55it/s]\n",
      " 10%|████▍                                       | 3/30 [00:00<00:07,  3.82it/s]"
     ]
    },
    {
     "name": "stdout",
     "output_type": "stream",
     "text": [
      "Epoch 2:  (best: False)train loss = 0.113 (auc: 0.760 f1: 0.093), validation loss = 0.113 (auc: 0.748 f1: 0.085)\n"
     ]
    },
    {
     "name": "stderr",
     "output_type": "stream",
     "text": [
      "100%|██████████████████████████████████████████| 16/16 [00:00<00:00, 164.76it/s]\n",
      " 13%|█████▊                                      | 4/30 [00:01<00:06,  3.84it/s]"
     ]
    },
    {
     "name": "stdout",
     "output_type": "stream",
     "text": [
      "Epoch 3:  (best: True)train loss = 0.113 (auc: 0.738 f1: 0.103), validation loss = 0.113 (auc: 0.727 f1: 0.100)\n"
     ]
    },
    {
     "name": "stderr",
     "output_type": "stream",
     "text": [
      "100%|██████████████████████████████████████████| 16/16 [00:00<00:00, 164.19it/s]\n",
      " 17%|███████▎                                    | 5/30 [00:01<00:06,  3.86it/s]"
     ]
    },
    {
     "name": "stdout",
     "output_type": "stream",
     "text": [
      "Epoch 4:  (best: False)train loss = 0.112 (auc: 0.736 f1: 0.100), validation loss = 0.113 (auc: 0.726 f1: 0.098)\n"
     ]
    },
    {
     "name": "stderr",
     "output_type": "stream",
     "text": [
      "100%|██████████████████████████████████████████| 16/16 [00:00<00:00, 139.01it/s]\n",
      " 20%|████████▊                                   | 6/30 [00:01<00:06,  3.76it/s]"
     ]
    },
    {
     "name": "stdout",
     "output_type": "stream",
     "text": [
      "Epoch 5:  (best: True)train loss = 0.112 (auc: 0.648 f1: 0.118), validation loss = 0.112 (auc: 0.653 f1: 0.112)\n"
     ]
    },
    {
     "name": "stderr",
     "output_type": "stream",
     "text": [
      "100%|██████████████████████████████████████████| 16/16 [00:00<00:00, 163.31it/s]\n",
      " 23%|██████████▎                                 | 7/30 [00:01<00:06,  3.77it/s]"
     ]
    },
    {
     "name": "stdout",
     "output_type": "stream",
     "text": [
      "Epoch 6:  (best: False)train loss = 0.112 (auc: 0.621 f1: 0.100), validation loss = 0.112 (auc: 0.626 f1: 0.097)\n"
     ]
    },
    {
     "name": "stderr",
     "output_type": "stream",
     "text": [
      "100%|██████████████████████████████████████████| 16/16 [00:00<00:00, 157.89it/s]\n",
      " 27%|███████████▋                                | 8/30 [00:02<00:05,  3.72it/s]"
     ]
    },
    {
     "name": "stdout",
     "output_type": "stream",
     "text": [
      "Epoch 7:  (best: False)train loss = 0.112 (auc: 0.570 f1: 0.115), validation loss = 0.112 (auc: 0.572 f1: 0.110)\n"
     ]
    },
    {
     "name": "stderr",
     "output_type": "stream",
     "text": [
      "100%|██████████████████████████████████████████| 16/16 [00:00<00:00, 151.46it/s]\n",
      " 30%|█████████████▏                              | 9/30 [00:02<00:05,  3.72it/s]"
     ]
    },
    {
     "name": "stdout",
     "output_type": "stream",
     "text": [
      "Epoch 8:  (best: True)train loss = 0.112 (auc: 0.579 f1: 0.114), validation loss = 0.112 (auc: 0.583 f1: 0.114)\n"
     ]
    },
    {
     "name": "stderr",
     "output_type": "stream",
     "text": [
      "100%|██████████████████████████████████████████| 16/16 [00:00<00:00, 153.25it/s]\n",
      " 33%|██████████████▎                            | 10/30 [00:02<00:05,  3.72it/s]"
     ]
    },
    {
     "name": "stdout",
     "output_type": "stream",
     "text": [
      "Epoch 9:  (best: True)train loss = 0.112 (auc: 0.569 f1: 0.118), validation loss = 0.112 (auc: 0.571 f1: 0.116)\n"
     ]
    },
    {
     "name": "stderr",
     "output_type": "stream",
     "text": [
      "100%|██████████████████████████████████████████| 16/16 [00:00<00:00, 163.26it/s]\n",
      " 37%|███████████████▊                           | 11/30 [00:02<00:05,  3.76it/s]"
     ]
    },
    {
     "name": "stdout",
     "output_type": "stream",
     "text": [
      "Epoch 10:  (best: False)train loss = 0.112 (auc: 0.567 f1: 0.116), validation loss = 0.112 (auc: 0.571 f1: 0.111)\n"
     ]
    },
    {
     "name": "stderr",
     "output_type": "stream",
     "text": [
      "100%|██████████████████████████████████████████| 16/16 [00:00<00:00, 127.43it/s]\n",
      " 40%|█████████████████▏                         | 12/30 [00:03<00:04,  3.62it/s]"
     ]
    },
    {
     "name": "stdout",
     "output_type": "stream",
     "text": [
      "Epoch 11:  (best: False)train loss = 0.112 (auc: 0.562 f1: 0.122), validation loss = 0.112 (auc: 0.565 f1: 0.114)\n"
     ]
    },
    {
     "name": "stderr",
     "output_type": "stream",
     "text": [
      "100%|██████████████████████████████████████████| 16/16 [00:00<00:00, 141.75it/s]\n",
      " 43%|██████████████████▋                        | 13/30 [00:03<00:04,  3.54it/s]"
     ]
    },
    {
     "name": "stdout",
     "output_type": "stream",
     "text": [
      "Epoch 12:  (best: False)train loss = 0.112 (auc: 0.561 f1: 0.117), validation loss = 0.112 (auc: 0.564 f1: 0.112)\n"
     ]
    },
    {
     "name": "stderr",
     "output_type": "stream",
     "text": [
      "100%|██████████████████████████████████████████| 16/16 [00:00<00:00, 142.28it/s]\n",
      " 47%|████████████████████                       | 14/30 [00:03<00:04,  3.47it/s]"
     ]
    },
    {
     "name": "stdout",
     "output_type": "stream",
     "text": [
      "Epoch 13:  (best: False)train loss = 0.112 (auc: 0.566 f1: 0.112), validation loss = 0.112 (auc: 0.570 f1: 0.111)\n"
     ]
    },
    {
     "name": "stderr",
     "output_type": "stream",
     "text": [
      "100%|██████████████████████████████████████████| 16/16 [00:00<00:00, 153.73it/s]\n",
      " 50%|█████████████████████▌                     | 15/30 [00:04<00:04,  3.53it/s]"
     ]
    },
    {
     "name": "stdout",
     "output_type": "stream",
     "text": [
      "Epoch 14:  (best: False)train loss = 0.112 (auc: 0.552 f1: 0.121), validation loss = 0.112 (auc: 0.558 f1: 0.111)\n"
     ]
    },
    {
     "name": "stderr",
     "output_type": "stream",
     "text": [
      "100%|██████████████████████████████████████████| 16/16 [00:00<00:00, 130.88it/s]\n",
      " 53%|██████████████████████▉                    | 16/30 [00:04<00:04,  3.44it/s]"
     ]
    },
    {
     "name": "stdout",
     "output_type": "stream",
     "text": [
      "Epoch 15:  (best: False)train loss = 0.112 (auc: 0.567 f1: 0.117), validation loss = 0.112 (auc: 0.573 f1: 0.111)\n"
     ]
    },
    {
     "name": "stderr",
     "output_type": "stream",
     "text": [
      "100%|██████████████████████████████████████████| 16/16 [00:00<00:00, 147.87it/s]\n",
      " 57%|████████████████████████▎                  | 17/30 [00:04<00:03,  3.49it/s]"
     ]
    },
    {
     "name": "stdout",
     "output_type": "stream",
     "text": [
      "Epoch 16:  (best: False)train loss = 0.112 (auc: 0.552 f1: 0.121), validation loss = 0.112 (auc: 0.558 f1: 0.113)\n"
     ]
    },
    {
     "name": "stderr",
     "output_type": "stream",
     "text": [
      "100%|██████████████████████████████████████████| 16/16 [00:00<00:00, 150.81it/s]\n",
      " 60%|█████████████████████████▊                 | 18/30 [00:04<00:03,  3.53it/s]"
     ]
    },
    {
     "name": "stdout",
     "output_type": "stream",
     "text": [
      "Epoch 17:  (best: True)train loss = 0.111 (auc: 0.551 f1: 0.170), validation loss = 0.112 (auc: 0.558 f1: 0.154)\n"
     ]
    },
    {
     "name": "stderr",
     "output_type": "stream",
     "text": [
      "100%|██████████████████████████████████████████| 16/16 [00:00<00:00, 168.29it/s]\n",
      " 63%|███████████████████████████▏               | 19/30 [00:05<00:03,  3.61it/s]"
     ]
    },
    {
     "name": "stdout",
     "output_type": "stream",
     "text": [
      "Epoch 18:  (best: False)train loss = 0.112 (auc: 0.576 f1: 0.114), validation loss = 0.112 (auc: 0.581 f1: 0.114)\n"
     ]
    },
    {
     "name": "stderr",
     "output_type": "stream",
     "text": [
      "100%|██████████████████████████████████████████| 16/16 [00:00<00:00, 135.79it/s]\n",
      " 67%|████████████████████████████▋              | 20/30 [00:05<00:02,  3.57it/s]"
     ]
    },
    {
     "name": "stdout",
     "output_type": "stream",
     "text": [
      "Epoch 19:  (best: False)train loss = 0.111 (auc: 0.577 f1: 0.117), validation loss = 0.112 (auc: 0.584 f1: 0.112)\n"
     ]
    },
    {
     "name": "stderr",
     "output_type": "stream",
     "text": [
      "100%|██████████████████████████████████████████| 16/16 [00:00<00:00, 165.25it/s]\n",
      " 70%|██████████████████████████████             | 21/30 [00:05<00:02,  3.62it/s]"
     ]
    },
    {
     "name": "stdout",
     "output_type": "stream",
     "text": [
      "Epoch 20:  (best: True)train loss = 0.110 (auc: 0.590 f1: 0.163), validation loss = 0.111 (auc: 0.599 f1: 0.156)\n"
     ]
    },
    {
     "name": "stderr",
     "output_type": "stream",
     "text": [
      "100%|██████████████████████████████████████████| 16/16 [00:00<00:00, 170.60it/s]\n",
      " 73%|███████████████████████████████▌           | 22/30 [00:06<00:02,  3.69it/s]"
     ]
    },
    {
     "name": "stdout",
     "output_type": "stream",
     "text": [
      "Epoch 21:  (best: False)train loss = 0.111 (auc: 0.613 f1: 0.164), validation loss = 0.111 (auc: 0.627 f1: 0.153)\n"
     ]
    },
    {
     "name": "stderr",
     "output_type": "stream",
     "text": [
      "100%|██████████████████████████████████████████| 16/16 [00:00<00:00, 168.77it/s]\n",
      " 77%|████████████████████████████████▉          | 23/30 [00:06<00:01,  3.76it/s]"
     ]
    },
    {
     "name": "stdout",
     "output_type": "stream",
     "text": [
      "Epoch 22:  (best: True)train loss = 0.110 (auc: 0.592 f1: 0.170), validation loss = 0.111 (auc: 0.606 f1: 0.157)\n"
     ]
    },
    {
     "name": "stderr",
     "output_type": "stream",
     "text": [
      "100%|██████████████████████████████████████████| 16/16 [00:00<00:00, 123.84it/s]\n",
      " 80%|██████████████████████████████████▍        | 24/30 [00:06<00:01,  3.63it/s]"
     ]
    },
    {
     "name": "stdout",
     "output_type": "stream",
     "text": [
      "Epoch 23:  (best: False)train loss = 0.110 (auc: 0.654 f1: 0.170), validation loss = 0.111 (auc: 0.661 f1: 0.157)\n"
     ]
    },
    {
     "name": "stderr",
     "output_type": "stream",
     "text": [
      "100%|██████████████████████████████████████████| 16/16 [00:00<00:00, 154.06it/s]\n",
      " 83%|███████████████████████████████████▊       | 25/30 [00:06<00:01,  3.62it/s]"
     ]
    },
    {
     "name": "stdout",
     "output_type": "stream",
     "text": [
      "Epoch 24:  (best: False)train loss = 0.110 (auc: 0.685 f1: 0.165), validation loss = 0.111 (auc: 0.683 f1: 0.154)\n"
     ]
    },
    {
     "name": "stderr",
     "output_type": "stream",
     "text": [
      "100%|██████████████████████████████████████████| 16/16 [00:00<00:00, 156.38it/s]\n",
      " 87%|█████████████████████████████████████▎     | 26/30 [00:07<00:01,  3.67it/s]"
     ]
    },
    {
     "name": "stdout",
     "output_type": "stream",
     "text": [
      "Epoch 25:  (best: True)train loss = 0.111 (auc: 0.601 f1: 0.172), validation loss = 0.111 (auc: 0.610 f1: 0.163)\n"
     ]
    },
    {
     "name": "stderr",
     "output_type": "stream",
     "text": [
      "100%|██████████████████████████████████████████| 16/16 [00:00<00:00, 151.07it/s]\n",
      " 90%|██████████████████████████████████████▋    | 27/30 [00:07<00:00,  3.69it/s]"
     ]
    },
    {
     "name": "stdout",
     "output_type": "stream",
     "text": [
      "Epoch 26:  (best: False)train loss = 0.111 (auc: 0.695 f1: 0.159), validation loss = 0.111 (auc: 0.696 f1: 0.150)\n"
     ]
    },
    {
     "name": "stderr",
     "output_type": "stream",
     "text": [
      "100%|██████████████████████████████████████████| 16/16 [00:00<00:00, 162.99it/s]\n",
      " 93%|████████████████████████████████████████▏  | 28/30 [00:07<00:00,  3.71it/s]"
     ]
    },
    {
     "name": "stdout",
     "output_type": "stream",
     "text": [
      "Epoch 27:  (best: False)train loss = 0.110 (auc: 0.640 f1: 0.170), validation loss = 0.111 (auc: 0.651 f1: 0.157)\n"
     ]
    },
    {
     "name": "stderr",
     "output_type": "stream",
     "text": [
      "100%|██████████████████████████████████████████| 16/16 [00:00<00:00, 128.21it/s]\n",
      " 97%|█████████████████████████████████████████▌ | 29/30 [00:07<00:00,  3.57it/s]"
     ]
    },
    {
     "name": "stdout",
     "output_type": "stream",
     "text": [
      "Epoch 28:  (best: False)train loss = 0.111 (auc: 0.679 f1: 0.167), validation loss = 0.111 (auc: 0.675 f1: 0.157)\n"
     ]
    },
    {
     "name": "stderr",
     "output_type": "stream",
     "text": [
      "100%|██████████████████████████████████████████| 16/16 [00:00<00:00, 131.26it/s]\n",
      "100%|███████████████████████████████████████████| 30/30 [00:08<00:00,  3.62it/s]\n"
     ]
    },
    {
     "name": "stdout",
     "output_type": "stream",
     "text": [
      "Epoch 29:  (best: False)train loss = 0.110 (auc: 0.670 f1: 0.163), validation loss = 0.111 (auc: 0.666 f1: 0.150)\n"
     ]
    },
    {
     "name": "stderr",
     "output_type": "stream",
     "text": [
      "100%|██████████████████████████████████████████| 16/16 [00:00<00:00, 153.08it/s]\n",
      "  3%|█▍                                          | 1/30 [00:00<00:07,  3.80it/s]"
     ]
    },
    {
     "name": "stdout",
     "output_type": "stream",
     "text": [
      "Epoch 0:  (best: True)train loss = 0.115 (auc: 0.639 f1: 0.084), validation loss = 0.115 (auc: 0.623 f1: 0.067)\n"
     ]
    },
    {
     "name": "stderr",
     "output_type": "stream",
     "text": [
      "100%|██████████████████████████████████████████| 16/16 [00:00<00:00, 154.82it/s]\n",
      "  7%|██▉                                         | 2/30 [00:00<00:07,  3.58it/s]"
     ]
    },
    {
     "name": "stdout",
     "output_type": "stream",
     "text": [
      "Epoch 1:  (best: True)train loss = 0.113 (auc: 0.760 f1: 0.076), validation loss = 0.114 (auc: 0.749 f1: 0.067)\n"
     ]
    },
    {
     "name": "stderr",
     "output_type": "stream",
     "text": [
      "100%|██████████████████████████████████████████| 16/16 [00:00<00:00, 144.39it/s]\n",
      " 10%|████▍                                       | 3/30 [00:00<00:07,  3.54it/s]"
     ]
    },
    {
     "name": "stdout",
     "output_type": "stream",
     "text": [
      "Epoch 2:  (best: True)train loss = 0.113 (auc: 0.776 f1: 0.078), validation loss = 0.113 (auc: 0.758 f1: 0.069)\n"
     ]
    },
    {
     "name": "stderr",
     "output_type": "stream",
     "text": [
      "100%|██████████████████████████████████████████| 16/16 [00:00<00:00, 150.98it/s]\n",
      " 13%|█████▊                                      | 4/30 [00:01<00:07,  3.51it/s]"
     ]
    },
    {
     "name": "stdout",
     "output_type": "stream",
     "text": [
      "Epoch 3:  (best: True)train loss = 0.113 (auc: 0.705 f1: 0.093), validation loss = 0.113 (auc: 0.696 f1: 0.081)\n"
     ]
    },
    {
     "name": "stderr",
     "output_type": "stream",
     "text": [
      "100%|██████████████████████████████████████████| 16/16 [00:00<00:00, 164.26it/s]\n",
      " 17%|███████▎                                    | 5/30 [00:01<00:06,  3.61it/s]"
     ]
    },
    {
     "name": "stdout",
     "output_type": "stream",
     "text": [
      "Epoch 4:  (best: True)train loss = 0.113 (auc: 0.691 f1: 0.100), validation loss = 0.113 (auc: 0.686 f1: 0.102)\n"
     ]
    },
    {
     "name": "stderr",
     "output_type": "stream",
     "text": [
      "100%|██████████████████████████████████████████| 16/16 [00:00<00:00, 145.71it/s]\n",
      " 20%|████████▊                                   | 6/30 [00:01<00:06,  3.54it/s]"
     ]
    },
    {
     "name": "stdout",
     "output_type": "stream",
     "text": [
      "Epoch 5:  (best: True)train loss = 0.113 (auc: 0.626 f1: 0.114), validation loss = 0.113 (auc: 0.627 f1: 0.115)\n"
     ]
    },
    {
     "name": "stderr",
     "output_type": "stream",
     "text": [
      "100%|██████████████████████████████████████████| 16/16 [00:00<00:00, 138.46it/s]\n",
      " 23%|██████████▎                                 | 7/30 [00:01<00:06,  3.48it/s]"
     ]
    },
    {
     "name": "stdout",
     "output_type": "stream",
     "text": [
      "Epoch 6:  (best: True)train loss = 0.112 (auc: 0.571 f1: 0.112), validation loss = 0.112 (auc: 0.575 f1: 0.115)\n"
     ]
    },
    {
     "name": "stderr",
     "output_type": "stream",
     "text": [
      "100%|██████████████████████████████████████████| 16/16 [00:00<00:00, 151.69it/s]\n",
      " 27%|███████████▋                                | 8/30 [00:02<00:06,  3.51it/s]"
     ]
    },
    {
     "name": "stdout",
     "output_type": "stream",
     "text": [
      "Epoch 7:  (best: False)train loss = 0.112 (auc: 0.560 f1: 0.110), validation loss = 0.112 (auc: 0.564 f1: 0.113)\n"
     ]
    },
    {
     "name": "stderr",
     "output_type": "stream",
     "text": [
      "100%|██████████████████████████████████████████| 16/16 [00:00<00:00, 155.76it/s]\n",
      " 30%|█████████████▏                              | 9/30 [00:02<00:05,  3.54it/s]"
     ]
    },
    {
     "name": "stdout",
     "output_type": "stream",
     "text": [
      "Epoch 8:  (best: False)train loss = 0.112 (auc: 0.546 f1: 0.123), validation loss = 0.112 (auc: 0.551 f1: 0.113)\n"
     ]
    },
    {
     "name": "stderr",
     "output_type": "stream",
     "text": [
      "100%|██████████████████████████████████████████| 16/16 [00:00<00:00, 160.11it/s]\n",
      " 33%|██████████████▎                            | 10/30 [00:02<00:05,  3.57it/s]"
     ]
    },
    {
     "name": "stdout",
     "output_type": "stream",
     "text": [
      "Epoch 9:  (best: False)train loss = 0.112 (auc: 0.550 f1: 0.118), validation loss = 0.112 (auc: 0.555 f1: 0.113)\n"
     ]
    },
    {
     "name": "stderr",
     "output_type": "stream",
     "text": [
      "100%|██████████████████████████████████████████| 16/16 [00:00<00:00, 163.01it/s]\n",
      " 37%|███████████████▊                           | 11/30 [00:03<00:05,  3.64it/s]"
     ]
    },
    {
     "name": "stdout",
     "output_type": "stream",
     "text": [
      "Epoch 10:  (best: False)train loss = 0.112 (auc: 0.540 f1: 0.121), validation loss = 0.112 (auc: 0.545 f1: 0.112)\n"
     ]
    },
    {
     "name": "stderr",
     "output_type": "stream",
     "text": [
      "100%|██████████████████████████████████████████| 16/16 [00:00<00:00, 148.52it/s]\n",
      " 40%|█████████████████▏                         | 12/30 [00:03<00:04,  3.61it/s]"
     ]
    },
    {
     "name": "stdout",
     "output_type": "stream",
     "text": [
      "Epoch 11:  (best: True)train loss = 0.112 (auc: 0.542 f1: 0.136), validation loss = 0.112 (auc: 0.550 f1: 0.126)\n"
     ]
    },
    {
     "name": "stderr",
     "output_type": "stream",
     "text": [
      "100%|██████████████████████████████████████████| 16/16 [00:00<00:00, 162.83it/s]\n",
      " 43%|██████████████████▋                        | 13/30 [00:03<00:04,  3.67it/s]"
     ]
    },
    {
     "name": "stdout",
     "output_type": "stream",
     "text": [
      "Epoch 12:  (best: False)train loss = 0.112 (auc: 0.557 f1: 0.118), validation loss = 0.112 (auc: 0.562 f1: 0.113)\n"
     ]
    },
    {
     "name": "stderr",
     "output_type": "stream",
     "text": [
      "100%|██████████████████████████████████████████| 16/16 [00:00<00:00, 171.11it/s]\n",
      " 47%|████████████████████                       | 14/30 [00:03<00:04,  3.74it/s]"
     ]
    },
    {
     "name": "stdout",
     "output_type": "stream",
     "text": [
      "Epoch 13:  (best: False)train loss = 0.112 (auc: 0.571 f1: 0.113), validation loss = 0.112 (auc: 0.581 f1: 0.111)\n"
     ]
    },
    {
     "name": "stderr",
     "output_type": "stream",
     "text": [
      "100%|██████████████████████████████████████████| 16/16 [00:00<00:00, 168.61it/s]\n",
      " 50%|█████████████████████▌                     | 15/30 [00:04<00:04,  3.73it/s]"
     ]
    },
    {
     "name": "stdout",
     "output_type": "stream",
     "text": [
      "Epoch 14:  (best: True)train loss = 0.112 (auc: 0.537 f1: 0.188), validation loss = 0.112 (auc: 0.544 f1: 0.164)\n"
     ]
    },
    {
     "name": "stderr",
     "output_type": "stream",
     "text": [
      "100%|██████████████████████████████████████████| 16/16 [00:00<00:00, 164.45it/s]\n",
      " 53%|██████████████████████▉                    | 16/30 [00:04<00:03,  3.75it/s]"
     ]
    },
    {
     "name": "stdout",
     "output_type": "stream",
     "text": [
      "Epoch 15:  (best: False)train loss = 0.111 (auc: 0.614 f1: 0.155), validation loss = 0.111 (auc: 0.627 f1: 0.146)\n"
     ]
    },
    {
     "name": "stderr",
     "output_type": "stream",
     "text": [
      "100%|██████████████████████████████████████████| 16/16 [00:00<00:00, 150.09it/s]\n",
      " 57%|████████████████████████▎                  | 17/30 [00:04<00:03,  3.75it/s]"
     ]
    },
    {
     "name": "stdout",
     "output_type": "stream",
     "text": [
      "Epoch 16:  (best: False)train loss = 0.111 (auc: 0.617 f1: 0.164), validation loss = 0.111 (auc: 0.627 f1: 0.156)\n"
     ]
    },
    {
     "name": "stderr",
     "output_type": "stream",
     "text": [
      "100%|██████████████████████████████████████████| 16/16 [00:00<00:00, 168.09it/s]\n",
      " 60%|█████████████████████████▊                 | 18/30 [00:04<00:03,  3.79it/s]"
     ]
    },
    {
     "name": "stdout",
     "output_type": "stream",
     "text": [
      "Epoch 17:  (best: False)train loss = 0.110 (auc: 0.621 f1: 0.167), validation loss = 0.111 (auc: 0.631 f1: 0.158)\n"
     ]
    },
    {
     "name": "stderr",
     "output_type": "stream",
     "text": [
      "100%|██████████████████████████████████████████| 16/16 [00:00<00:00, 157.87it/s]\n",
      " 63%|███████████████████████████▏               | 19/30 [00:05<00:02,  3.80it/s]"
     ]
    },
    {
     "name": "stdout",
     "output_type": "stream",
     "text": [
      "Epoch 18:  (best: False)train loss = 0.110 (auc: 0.627 f1: 0.166), validation loss = 0.111 (auc: 0.635 f1: 0.156)\n"
     ]
    },
    {
     "name": "stderr",
     "output_type": "stream",
     "text": [
      "100%|██████████████████████████████████████████| 16/16 [00:00<00:00, 172.00it/s]\n",
      " 67%|████████████████████████████▋              | 20/30 [00:05<00:02,  3.85it/s]"
     ]
    },
    {
     "name": "stdout",
     "output_type": "stream",
     "text": [
      "Epoch 19:  (best: False)train loss = 0.110 (auc: 0.659 f1: 0.160), validation loss = 0.111 (auc: 0.661 f1: 0.152)\n"
     ]
    },
    {
     "name": "stderr",
     "output_type": "stream",
     "text": [
      "100%|██████████████████████████████████████████| 16/16 [00:00<00:00, 167.06it/s]\n",
      " 70%|██████████████████████████████             | 21/30 [00:05<00:02,  3.82it/s]"
     ]
    },
    {
     "name": "stdout",
     "output_type": "stream",
     "text": [
      "Epoch 20:  (best: False)train loss = 0.111 (auc: 0.602 f1: 0.173), validation loss = 0.111 (auc: 0.613 f1: 0.164)\n"
     ]
    },
    {
     "name": "stderr",
     "output_type": "stream",
     "text": [
      "100%|██████████████████████████████████████████| 16/16 [00:00<00:00, 152.20it/s]\n",
      " 73%|███████████████████████████████▌           | 22/30 [00:05<00:02,  3.76it/s]"
     ]
    },
    {
     "name": "stdout",
     "output_type": "stream",
     "text": [
      "Epoch 21:  (best: False)train loss = 0.110 (auc: 0.642 f1: 0.161), validation loss = 0.111 (auc: 0.646 f1: 0.151)\n"
     ]
    },
    {
     "name": "stderr",
     "output_type": "stream",
     "text": [
      "100%|██████████████████████████████████████████| 16/16 [00:00<00:00, 165.50it/s]\n",
      " 77%|████████████████████████████████▉          | 23/30 [00:06<00:01,  3.78it/s]"
     ]
    },
    {
     "name": "stdout",
     "output_type": "stream",
     "text": [
      "Epoch 22:  (best: False)train loss = 0.111 (auc: 0.642 f1: 0.163), validation loss = 0.111 (auc: 0.650 f1: 0.154)\n"
     ]
    },
    {
     "name": "stderr",
     "output_type": "stream",
     "text": [
      "100%|██████████████████████████████████████████| 16/16 [00:00<00:00, 168.41it/s]\n",
      " 80%|██████████████████████████████████▍        | 24/30 [00:06<00:01,  3.80it/s]"
     ]
    },
    {
     "name": "stdout",
     "output_type": "stream",
     "text": [
      "Epoch 23:  (best: False)train loss = 0.111 (auc: 0.633 f1: 0.171), validation loss = 0.111 (auc: 0.638 f1: 0.161)\n"
     ]
    },
    {
     "name": "stderr",
     "output_type": "stream",
     "text": [
      "100%|██████████████████████████████████████████| 16/16 [00:00<00:00, 165.58it/s]\n",
      " 83%|███████████████████████████████████▊       | 25/30 [00:06<00:01,  3.83it/s]"
     ]
    },
    {
     "name": "stdout",
     "output_type": "stream",
     "text": [
      "Epoch 24:  (best: False)train loss = 0.110 (auc: 0.633 f1: 0.162), validation loss = 0.111 (auc: 0.639 f1: 0.152)\n"
     ]
    },
    {
     "name": "stderr",
     "output_type": "stream",
     "text": [
      "100%|██████████████████████████████████████████| 16/16 [00:00<00:00, 151.36it/s]\n",
      " 87%|█████████████████████████████████████▎     | 26/30 [00:07<00:01,  3.78it/s]"
     ]
    },
    {
     "name": "stdout",
     "output_type": "stream",
     "text": [
      "Epoch 25:  (best: False)train loss = 0.110 (auc: 0.644 f1: 0.168), validation loss = 0.111 (auc: 0.648 f1: 0.162)\n"
     ]
    },
    {
     "name": "stderr",
     "output_type": "stream",
     "text": [
      "100%|██████████████████████████████████████████| 16/16 [00:00<00:00, 163.44it/s]\n",
      " 90%|██████████████████████████████████████▋    | 27/30 [00:07<00:00,  3.74it/s]"
     ]
    },
    {
     "name": "stdout",
     "output_type": "stream",
     "text": [
      "Epoch 26:  (best: False)train loss = 0.110 (auc: 0.645 f1: 0.167), validation loss = 0.111 (auc: 0.651 f1: 0.155)\n"
     ]
    },
    {
     "name": "stderr",
     "output_type": "stream",
     "text": [
      "100%|██████████████████████████████████████████| 16/16 [00:00<00:00, 123.94it/s]\n",
      " 93%|████████████████████████████████████████▏  | 28/30 [00:07<00:00,  3.66it/s]"
     ]
    },
    {
     "name": "stdout",
     "output_type": "stream",
     "text": [
      "Epoch 27:  (best: False)train loss = 0.111 (auc: 0.649 f1: 0.167), validation loss = 0.111 (auc: 0.652 f1: 0.155)\n"
     ]
    },
    {
     "name": "stderr",
     "output_type": "stream",
     "text": [
      "100%|██████████████████████████████████████████| 16/16 [00:00<00:00, 164.62it/s]\n",
      " 97%|█████████████████████████████████████████▌ | 29/30 [00:07<00:00,  3.74it/s]"
     ]
    },
    {
     "name": "stdout",
     "output_type": "stream",
     "text": [
      "Epoch 28:  (best: False)train loss = 0.110 (auc: 0.635 f1: 0.166), validation loss = 0.111 (auc: 0.639 f1: 0.159)\n"
     ]
    },
    {
     "name": "stderr",
     "output_type": "stream",
     "text": [
      "100%|██████████████████████████████████████████| 16/16 [00:00<00:00, 171.02it/s]\n",
      "100%|███████████████████████████████████████████| 30/30 [00:08<00:00,  3.70it/s]\n"
     ]
    },
    {
     "name": "stdout",
     "output_type": "stream",
     "text": [
      "Epoch 29:  (best: False)train loss = 0.110 (auc: 0.643 f1: 0.161), validation loss = 0.111 (auc: 0.647 f1: 0.152)\n"
     ]
    },
    {
     "name": "stderr",
     "output_type": "stream",
     "text": [
      "100%|██████████████████████████████████████████| 16/16 [00:00<00:00, 136.50it/s]\n",
      "  3%|█▍                                          | 1/30 [00:00<00:08,  3.34it/s]"
     ]
    },
    {
     "name": "stdout",
     "output_type": "stream",
     "text": [
      "Epoch 0:  (best: True)train loss = 0.115 (auc: 0.529 f1: 0.051), validation loss = 0.115 (auc: 0.537 f1: 0.026)\n"
     ]
    },
    {
     "name": "stderr",
     "output_type": "stream",
     "text": [
      "100%|██████████████████████████████████████████| 16/16 [00:00<00:00, 145.07it/s]\n",
      "  7%|██▉                                         | 2/30 [00:00<00:08,  3.34it/s]"
     ]
    },
    {
     "name": "stdout",
     "output_type": "stream",
     "text": [
      "Epoch 1:  (best: True)train loss = 0.113 (auc: 0.571 f1: 0.083), validation loss = 0.114 (auc: 0.569 f1: 0.073)\n"
     ]
    },
    {
     "name": "stderr",
     "output_type": "stream",
     "text": [
      "100%|██████████████████████████████████████████| 16/16 [00:00<00:00, 155.52it/s]\n",
      " 10%|████▍                                       | 3/30 [00:00<00:07,  3.48it/s]"
     ]
    },
    {
     "name": "stdout",
     "output_type": "stream",
     "text": [
      "Epoch 2:  (best: True)train loss = 0.113 (auc: 0.620 f1: 0.080), validation loss = 0.113 (auc: 0.618 f1: 0.079)\n"
     ]
    },
    {
     "name": "stderr",
     "output_type": "stream",
     "text": [
      "100%|██████████████████████████████████████████| 16/16 [00:00<00:00, 160.95it/s]\n",
      " 13%|█████▊                                      | 4/30 [00:01<00:07,  3.54it/s]"
     ]
    },
    {
     "name": "stdout",
     "output_type": "stream",
     "text": [
      "Epoch 3:  (best: True)train loss = 0.113 (auc: 0.647 f1: 0.103), validation loss = 0.113 (auc: 0.645 f1: 0.096)\n"
     ]
    },
    {
     "name": "stderr",
     "output_type": "stream",
     "text": [
      "100%|██████████████████████████████████████████| 16/16 [00:00<00:00, 163.24it/s]\n",
      " 17%|███████▎                                    | 5/30 [00:01<00:06,  3.66it/s]"
     ]
    },
    {
     "name": "stdout",
     "output_type": "stream",
     "text": [
      "Epoch 4:  (best: True)train loss = 0.112 (auc: 0.602 f1: 0.139), validation loss = 0.112 (auc: 0.600 f1: 0.129)\n"
     ]
    },
    {
     "name": "stderr",
     "output_type": "stream",
     "text": [
      "100%|██████████████████████████████████████████| 16/16 [00:00<00:00, 171.18it/s]\n",
      " 20%|████████▊                                   | 6/30 [00:01<00:06,  3.71it/s]"
     ]
    },
    {
     "name": "stdout",
     "output_type": "stream",
     "text": [
      "Epoch 5:  (best: True)train loss = 0.112 (auc: 0.648 f1: 0.147), validation loss = 0.112 (auc: 0.648 f1: 0.145)\n"
     ]
    },
    {
     "name": "stderr",
     "output_type": "stream",
     "text": [
      "100%|██████████████████████████████████████████| 16/16 [00:00<00:00, 162.94it/s]\n",
      " 23%|██████████▎                                 | 7/30 [00:01<00:06,  3.75it/s]"
     ]
    },
    {
     "name": "stdout",
     "output_type": "stream",
     "text": [
      "Epoch 6:  (best: False)train loss = 0.111 (auc: 0.717 f1: 0.137), validation loss = 0.112 (auc: 0.703 f1: 0.127)\n"
     ]
    },
    {
     "name": "stderr",
     "output_type": "stream",
     "text": [
      "100%|██████████████████████████████████████████| 16/16 [00:00<00:00, 161.64it/s]\n",
      " 27%|███████████▋                                | 8/30 [00:02<00:05,  3.73it/s]"
     ]
    },
    {
     "name": "stdout",
     "output_type": "stream",
     "text": [
      "Epoch 7:  (best: True)train loss = 0.111 (auc: 0.687 f1: 0.159), validation loss = 0.112 (auc: 0.685 f1: 0.147)\n"
     ]
    },
    {
     "name": "stderr",
     "output_type": "stream",
     "text": [
      "100%|██████████████████████████████████████████| 16/16 [00:00<00:00, 145.36it/s]\n",
      " 30%|█████████████▏                              | 9/30 [00:02<00:05,  3.65it/s]"
     ]
    },
    {
     "name": "stdout",
     "output_type": "stream",
     "text": [
      "Epoch 8:  (best: False)train loss = 0.111 (auc: 0.714 f1: 0.143), validation loss = 0.111 (auc: 0.704 f1: 0.135)\n"
     ]
    },
    {
     "name": "stderr",
     "output_type": "stream",
     "text": [
      "100%|██████████████████████████████████████████| 16/16 [00:00<00:00, 157.93it/s]\n",
      " 33%|██████████████▎                            | 10/30 [00:02<00:05,  3.68it/s]"
     ]
    },
    {
     "name": "stdout",
     "output_type": "stream",
     "text": [
      "Epoch 9:  (best: False)train loss = 0.111 (auc: 0.714 f1: 0.148), validation loss = 0.111 (auc: 0.706 f1: 0.135)\n"
     ]
    },
    {
     "name": "stderr",
     "output_type": "stream",
     "text": [
      "100%|██████████████████████████████████████████| 16/16 [00:00<00:00, 170.49it/s]\n",
      " 37%|███████████████▊                           | 11/30 [00:03<00:05,  3.76it/s]"
     ]
    },
    {
     "name": "stdout",
     "output_type": "stream",
     "text": [
      "Epoch 10:  (best: False)train loss = 0.111 (auc: 0.726 f1: 0.146), validation loss = 0.111 (auc: 0.718 f1: 0.138)\n"
     ]
    },
    {
     "name": "stderr",
     "output_type": "stream",
     "text": [
      "100%|██████████████████████████████████████████| 16/16 [00:00<00:00, 156.00it/s]\n",
      " 40%|█████████████████▏                         | 12/30 [00:03<00:04,  3.73it/s]"
     ]
    },
    {
     "name": "stdout",
     "output_type": "stream",
     "text": [
      "Epoch 11:  (best: False)train loss = 0.111 (auc: 0.722 f1: 0.145), validation loss = 0.111 (auc: 0.713 f1: 0.136)\n"
     ]
    },
    {
     "name": "stderr",
     "output_type": "stream",
     "text": [
      "100%|██████████████████████████████████████████| 16/16 [00:00<00:00, 158.08it/s]\n",
      " 43%|██████████████████▋                        | 13/30 [00:03<00:04,  3.73it/s]"
     ]
    },
    {
     "name": "stdout",
     "output_type": "stream",
     "text": [
      "Epoch 12:  (best: False)train loss = 0.111 (auc: 0.721 f1: 0.152), validation loss = 0.111 (auc: 0.712 f1: 0.146)\n"
     ]
    },
    {
     "name": "stderr",
     "output_type": "stream",
     "text": [
      "100%|██████████████████████████████████████████| 16/16 [00:00<00:00, 160.81it/s]\n",
      " 47%|████████████████████                       | 14/30 [00:03<00:04,  3.73it/s]"
     ]
    },
    {
     "name": "stdout",
     "output_type": "stream",
     "text": [
      "Epoch 13:  (best: False)train loss = 0.111 (auc: 0.723 f1: 0.144), validation loss = 0.111 (auc: 0.717 f1: 0.136)\n"
     ]
    },
    {
     "name": "stderr",
     "output_type": "stream",
     "text": [
      "100%|██████████████████████████████████████████| 16/16 [00:00<00:00, 165.60it/s]\n",
      " 50%|█████████████████████▌                     | 15/30 [00:04<00:03,  3.77it/s]"
     ]
    },
    {
     "name": "stdout",
     "output_type": "stream",
     "text": [
      "Epoch 14:  (best: False)train loss = 0.111 (auc: 0.721 f1: 0.147), validation loss = 0.111 (auc: 0.713 f1: 0.138)\n"
     ]
    },
    {
     "name": "stderr",
     "output_type": "stream",
     "text": [
      "100%|██████████████████████████████████████████| 16/16 [00:00<00:00, 155.91it/s]\n",
      " 53%|██████████████████████▉                    | 16/30 [00:04<00:03,  3.75it/s]"
     ]
    },
    {
     "name": "stdout",
     "output_type": "stream",
     "text": [
      "Epoch 15:  (best: False)train loss = 0.111 (auc: 0.713 f1: 0.151), validation loss = 0.111 (auc: 0.704 f1: 0.140)\n"
     ]
    },
    {
     "name": "stderr",
     "output_type": "stream",
     "text": [
      "100%|██████████████████████████████████████████| 16/16 [00:00<00:00, 160.60it/s]\n",
      " 57%|████████████████████████▎                  | 17/30 [00:04<00:03,  3.74it/s]"
     ]
    },
    {
     "name": "stdout",
     "output_type": "stream",
     "text": [
      "Epoch 16:  (best: False)train loss = 0.110 (auc: 0.725 f1: 0.145), validation loss = 0.111 (auc: 0.717 f1: 0.138)\n"
     ]
    },
    {
     "name": "stderr",
     "output_type": "stream",
     "text": [
      "100%|██████████████████████████████████████████| 16/16 [00:00<00:00, 162.26it/s]\n",
      " 60%|█████████████████████████▊                 | 18/30 [00:04<00:03,  3.75it/s]"
     ]
    },
    {
     "name": "stdout",
     "output_type": "stream",
     "text": [
      "Epoch 17:  (best: True)train loss = 0.111 (auc: 0.715 f1: 0.154), validation loss = 0.111 (auc: 0.707 f1: 0.148)\n"
     ]
    },
    {
     "name": "stderr",
     "output_type": "stream",
     "text": [
      "100%|██████████████████████████████████████████| 16/16 [00:00<00:00, 166.45it/s]\n",
      " 63%|███████████████████████████▏               | 19/30 [00:05<00:02,  3.77it/s]"
     ]
    },
    {
     "name": "stdout",
     "output_type": "stream",
     "text": [
      "Epoch 18:  (best: False)train loss = 0.111 (auc: 0.720 f1: 0.144), validation loss = 0.111 (auc: 0.713 f1: 0.135)\n"
     ]
    },
    {
     "name": "stderr",
     "output_type": "stream",
     "text": [
      "100%|██████████████████████████████████████████| 16/16 [00:00<00:00, 163.54it/s]\n",
      " 67%|████████████████████████████▋              | 20/30 [00:05<00:02,  3.79it/s]"
     ]
    },
    {
     "name": "stdout",
     "output_type": "stream",
     "text": [
      "Epoch 19:  (best: False)train loss = 0.111 (auc: 0.731 f1: 0.148), validation loss = 0.111 (auc: 0.724 f1: 0.139)\n"
     ]
    },
    {
     "name": "stderr",
     "output_type": "stream",
     "text": [
      "100%|██████████████████████████████████████████| 16/16 [00:00<00:00, 161.64it/s]\n",
      " 70%|██████████████████████████████             | 21/30 [00:05<00:02,  3.80it/s]"
     ]
    },
    {
     "name": "stdout",
     "output_type": "stream",
     "text": [
      "Epoch 20:  (best: False)train loss = 0.110 (auc: 0.713 f1: 0.143), validation loss = 0.111 (auc: 0.704 f1: 0.132)\n"
     ]
    },
    {
     "name": "stderr",
     "output_type": "stream",
     "text": [
      "100%|██████████████████████████████████████████| 16/16 [00:00<00:00, 161.95it/s]\n",
      " 73%|███████████████████████████████▌           | 22/30 [00:05<00:02,  3.79it/s]"
     ]
    },
    {
     "name": "stdout",
     "output_type": "stream",
     "text": [
      "Epoch 21:  (best: False)train loss = 0.111 (auc: 0.723 f1: 0.150), validation loss = 0.111 (auc: 0.715 f1: 0.145)\n"
     ]
    },
    {
     "name": "stderr",
     "output_type": "stream",
     "text": [
      "100%|██████████████████████████████████████████| 16/16 [00:00<00:00, 150.09it/s]\n",
      " 77%|████████████████████████████████▉          | 23/30 [00:06<00:01,  3.77it/s]"
     ]
    },
    {
     "name": "stdout",
     "output_type": "stream",
     "text": [
      "Epoch 22:  (best: False)train loss = 0.111 (auc: 0.718 f1: 0.145), validation loss = 0.111 (auc: 0.712 f1: 0.136)\n"
     ]
    },
    {
     "name": "stderr",
     "output_type": "stream",
     "text": [
      "100%|██████████████████████████████████████████| 16/16 [00:00<00:00, 169.68it/s]\n",
      " 80%|██████████████████████████████████▍        | 24/30 [00:06<00:01,  3.83it/s]"
     ]
    },
    {
     "name": "stdout",
     "output_type": "stream",
     "text": [
      "Epoch 23:  (best: False)train loss = 0.111 (auc: 0.721 f1: 0.144), validation loss = 0.111 (auc: 0.715 f1: 0.135)\n"
     ]
    },
    {
     "name": "stderr",
     "output_type": "stream",
     "text": [
      "100%|██████████████████████████████████████████| 16/16 [00:00<00:00, 169.94it/s]\n",
      " 83%|███████████████████████████████████▊       | 25/30 [00:06<00:01,  3.86it/s]"
     ]
    },
    {
     "name": "stdout",
     "output_type": "stream",
     "text": [
      "Epoch 24:  (best: False)train loss = 0.111 (auc: 0.724 f1: 0.150), validation loss = 0.111 (auc: 0.718 f1: 0.141)\n"
     ]
    },
    {
     "name": "stderr",
     "output_type": "stream",
     "text": [
      "100%|██████████████████████████████████████████| 16/16 [00:00<00:00, 163.56it/s]\n",
      " 87%|█████████████████████████████████████▎     | 26/30 [00:06<00:01,  3.87it/s]"
     ]
    },
    {
     "name": "stdout",
     "output_type": "stream",
     "text": [
      "Epoch 25:  (best: False)train loss = 0.110 (auc: 0.713 f1: 0.149), validation loss = 0.111 (auc: 0.705 f1: 0.138)\n"
     ]
    },
    {
     "name": "stderr",
     "output_type": "stream",
     "text": [
      "100%|██████████████████████████████████████████| 16/16 [00:00<00:00, 162.42it/s]\n",
      " 90%|██████████████████████████████████████▋    | 27/30 [00:07<00:00,  3.86it/s]"
     ]
    },
    {
     "name": "stdout",
     "output_type": "stream",
     "text": [
      "Epoch 26:  (best: False)train loss = 0.111 (auc: 0.721 f1: 0.154), validation loss = 0.111 (auc: 0.708 f1: 0.146)\n"
     ]
    },
    {
     "name": "stderr",
     "output_type": "stream",
     "text": [
      "100%|██████████████████████████████████████████| 16/16 [00:00<00:00, 162.43it/s]\n",
      " 93%|████████████████████████████████████████▏  | 28/30 [00:07<00:00,  3.84it/s]"
     ]
    },
    {
     "name": "stdout",
     "output_type": "stream",
     "text": [
      "Epoch 27:  (best: False)train loss = 0.111 (auc: 0.718 f1: 0.146), validation loss = 0.111 (auc: 0.712 f1: 0.138)\n"
     ]
    },
    {
     "name": "stderr",
     "output_type": "stream",
     "text": [
      "100%|██████████████████████████████████████████| 16/16 [00:00<00:00, 156.21it/s]\n",
      " 97%|█████████████████████████████████████████▌ | 29/30 [00:07<00:00,  3.82it/s]"
     ]
    },
    {
     "name": "stdout",
     "output_type": "stream",
     "text": [
      "Epoch 28:  (best: False)train loss = 0.111 (auc: 0.716 f1: 0.144), validation loss = 0.111 (auc: 0.708 f1: 0.137)\n"
     ]
    },
    {
     "name": "stderr",
     "output_type": "stream",
     "text": [
      "100%|██████████████████████████████████████████| 16/16 [00:00<00:00, 129.57it/s]\n",
      "100%|███████████████████████████████████████████| 30/30 [00:08<00:00,  3.73it/s]\n"
     ]
    },
    {
     "name": "stdout",
     "output_type": "stream",
     "text": [
      "Epoch 29:  (best: False)train loss = 0.111 (auc: 0.716 f1: 0.148), validation loss = 0.111 (auc: 0.706 f1: 0.138)\n"
     ]
    },
    {
     "name": "stderr",
     "output_type": "stream",
     "text": [
      "100%|██████████████████████████████████████████| 16/16 [00:00<00:00, 160.21it/s]\n",
      "  3%|█▍                                          | 1/30 [00:00<00:07,  3.75it/s]"
     ]
    },
    {
     "name": "stdout",
     "output_type": "stream",
     "text": [
      "Epoch 0:  (best: True)train loss = 0.115 (auc: 0.790 f1: 0.070), validation loss = 0.115 (auc: 0.777 f1: 0.061)\n"
     ]
    },
    {
     "name": "stderr",
     "output_type": "stream",
     "text": [
      "100%|██████████████████████████████████████████| 16/16 [00:00<00:00, 154.57it/s]\n",
      "  7%|██▉                                         | 2/30 [00:00<00:07,  3.71it/s]"
     ]
    },
    {
     "name": "stdout",
     "output_type": "stream",
     "text": [
      "Epoch 1:  (best: True)train loss = 0.113 (auc: 0.769 f1: 0.081), validation loss = 0.114 (auc: 0.757 f1: 0.071)\n"
     ]
    },
    {
     "name": "stderr",
     "output_type": "stream",
     "text": [
      "100%|██████████████████████████████████████████| 16/16 [00:00<00:00, 165.88it/s]\n",
      " 10%|████▍                                       | 3/30 [00:00<00:07,  3.80it/s]"
     ]
    },
    {
     "name": "stdout",
     "output_type": "stream",
     "text": [
      "Epoch 2:  (best: False)train loss = 0.113 (auc: 0.745 f1: 0.073), validation loss = 0.114 (auc: 0.728 f1: 0.065)\n"
     ]
    },
    {
     "name": "stderr",
     "output_type": "stream",
     "text": [
      "100%|██████████████████████████████████████████| 16/16 [00:00<00:00, 164.18it/s]\n",
      " 13%|█████▊                                      | 4/30 [00:01<00:06,  3.80it/s]"
     ]
    },
    {
     "name": "stdout",
     "output_type": "stream",
     "text": [
      "Epoch 3:  (best: True)train loss = 0.113 (auc: 0.734 f1: 0.093), validation loss = 0.113 (auc: 0.715 f1: 0.083)\n"
     ]
    },
    {
     "name": "stderr",
     "output_type": "stream",
     "text": [
      "100%|██████████████████████████████████████████| 16/16 [00:00<00:00, 157.12it/s]\n",
      " 17%|███████▎                                    | 5/30 [00:01<00:06,  3.78it/s]"
     ]
    },
    {
     "name": "stdout",
     "output_type": "stream",
     "text": [
      "Epoch 4:  (best: True)train loss = 0.113 (auc: 0.745 f1: 0.093), validation loss = 0.113 (auc: 0.721 f1: 0.086)\n"
     ]
    },
    {
     "name": "stderr",
     "output_type": "stream",
     "text": [
      "100%|██████████████████████████████████████████| 16/16 [00:00<00:00, 166.45it/s]\n",
      " 20%|████████▊                                   | 6/30 [00:01<00:06,  3.81it/s]"
     ]
    },
    {
     "name": "stdout",
     "output_type": "stream",
     "text": [
      "Epoch 5:  (best: False)train loss = 0.113 (auc: 0.741 f1: 0.093), validation loss = 0.113 (auc: 0.720 f1: 0.082)\n"
     ]
    },
    {
     "name": "stderr",
     "output_type": "stream",
     "text": [
      "100%|██████████████████████████████████████████| 16/16 [00:00<00:00, 166.24it/s]\n",
      " 23%|██████████▎                                 | 7/30 [00:01<00:06,  3.83it/s]"
     ]
    },
    {
     "name": "stdout",
     "output_type": "stream",
     "text": [
      "Epoch 6:  (best: True)train loss = 0.112 (auc: 0.699 f1: 0.133), validation loss = 0.113 (auc: 0.686 f1: 0.116)\n"
     ]
    },
    {
     "name": "stderr",
     "output_type": "stream",
     "text": [
      "100%|██████████████████████████████████████████| 16/16 [00:00<00:00, 160.65it/s]\n",
      " 27%|███████████▋                                | 8/30 [00:02<00:05,  3.81it/s]"
     ]
    },
    {
     "name": "stdout",
     "output_type": "stream",
     "text": [
      "Epoch 7:  (best: True)train loss = 0.112 (auc: 0.696 f1: 0.138), validation loss = 0.113 (auc: 0.686 f1: 0.121)\n"
     ]
    },
    {
     "name": "stderr",
     "output_type": "stream",
     "text": [
      "100%|██████████████████████████████████████████| 16/16 [00:00<00:00, 161.44it/s]\n",
      " 30%|█████████████▏                              | 9/30 [00:02<00:05,  3.81it/s]"
     ]
    },
    {
     "name": "stdout",
     "output_type": "stream",
     "text": [
      "Epoch 8:  (best: False)train loss = 0.111 (auc: 0.733 f1: 0.130), validation loss = 0.112 (auc: 0.718 f1: 0.114)\n"
     ]
    },
    {
     "name": "stderr",
     "output_type": "stream",
     "text": [
      "100%|██████████████████████████████████████████| 16/16 [00:00<00:00, 157.65it/s]\n",
      " 33%|██████████████▎                            | 10/30 [00:02<00:05,  3.79it/s]"
     ]
    },
    {
     "name": "stdout",
     "output_type": "stream",
     "text": [
      "Epoch 9:  (best: True)train loss = 0.111 (auc: 0.711 f1: 0.164), validation loss = 0.112 (auc: 0.703 f1: 0.160)\n"
     ]
    },
    {
     "name": "stderr",
     "output_type": "stream",
     "text": [
      "100%|██████████████████████████████████████████| 16/16 [00:00<00:00, 166.02it/s]\n",
      " 37%|███████████████▊                           | 11/30 [00:02<00:04,  3.82it/s]"
     ]
    },
    {
     "name": "stdout",
     "output_type": "stream",
     "text": [
      "Epoch 10:  (best: False)train loss = 0.111 (auc: 0.709 f1: 0.155), validation loss = 0.112 (auc: 0.701 f1: 0.144)\n"
     ]
    },
    {
     "name": "stderr",
     "output_type": "stream",
     "text": [
      "100%|██████████████████████████████████████████| 16/16 [00:00<00:00, 153.12it/s]\n",
      " 40%|█████████████████▏                         | 12/30 [00:03<00:04,  3.76it/s]"
     ]
    },
    {
     "name": "stdout",
     "output_type": "stream",
     "text": [
      "Epoch 11:  (best: False)train loss = 0.111 (auc: 0.734 f1: 0.158), validation loss = 0.112 (auc: 0.726 f1: 0.138)\n"
     ]
    },
    {
     "name": "stderr",
     "output_type": "stream",
     "text": [
      "100%|██████████████████████████████████████████| 16/16 [00:00<00:00, 161.30it/s]\n",
      " 43%|██████████████████▋                        | 13/30 [00:03<00:04,  3.78it/s]"
     ]
    },
    {
     "name": "stdout",
     "output_type": "stream",
     "text": [
      "Epoch 12:  (best: False)train loss = 0.111 (auc: 0.708 f1: 0.168), validation loss = 0.111 (auc: 0.704 f1: 0.158)\n"
     ]
    },
    {
     "name": "stderr",
     "output_type": "stream",
     "text": [
      "100%|██████████████████████████████████████████| 16/16 [00:00<00:00, 164.60it/s]\n",
      " 47%|████████████████████                       | 14/30 [00:03<00:04,  3.79it/s]"
     ]
    },
    {
     "name": "stdout",
     "output_type": "stream",
     "text": [
      "Epoch 13:  (best: False)train loss = 0.111 (auc: 0.714 f1: 0.157), validation loss = 0.112 (auc: 0.705 f1: 0.139)\n"
     ]
    },
    {
     "name": "stderr",
     "output_type": "stream",
     "text": [
      "100%|██████████████████████████████████████████| 16/16 [00:00<00:00, 154.73it/s]\n",
      " 50%|█████████████████████▌                     | 15/30 [00:03<00:03,  3.77it/s]"
     ]
    },
    {
     "name": "stdout",
     "output_type": "stream",
     "text": [
      "Epoch 14:  (best: True)train loss = 0.111 (auc: 0.715 f1: 0.173), validation loss = 0.111 (auc: 0.711 f1: 0.161)\n"
     ]
    },
    {
     "name": "stderr",
     "output_type": "stream",
     "text": [
      "100%|██████████████████████████████████████████| 16/16 [00:00<00:00, 165.68it/s]\n",
      " 53%|██████████████████████▉                    | 16/30 [00:04<00:03,  3.80it/s]"
     ]
    },
    {
     "name": "stdout",
     "output_type": "stream",
     "text": [
      "Epoch 15:  (best: False)train loss = 0.110 (auc: 0.718 f1: 0.158), validation loss = 0.111 (auc: 0.710 f1: 0.152)\n"
     ]
    },
    {
     "name": "stderr",
     "output_type": "stream",
     "text": [
      "100%|██████████████████████████████████████████| 16/16 [00:00<00:00, 163.16it/s]\n",
      " 57%|████████████████████████▎                  | 17/30 [00:04<00:03,  3.78it/s]"
     ]
    },
    {
     "name": "stdout",
     "output_type": "stream",
     "text": [
      "Epoch 16:  (best: False)train loss = 0.111 (auc: 0.718 f1: 0.166), validation loss = 0.111 (auc: 0.710 f1: 0.154)\n"
     ]
    },
    {
     "name": "stderr",
     "output_type": "stream",
     "text": [
      "100%|██████████████████████████████████████████| 16/16 [00:00<00:00, 162.62it/s]\n",
      " 60%|█████████████████████████▊                 | 18/30 [00:04<00:03,  3.80it/s]"
     ]
    },
    {
     "name": "stdout",
     "output_type": "stream",
     "text": [
      "Epoch 17:  (best: False)train loss = 0.111 (auc: 0.713 f1: 0.162), validation loss = 0.111 (auc: 0.709 f1: 0.156)\n"
     ]
    },
    {
     "name": "stderr",
     "output_type": "stream",
     "text": [
      "100%|██████████████████████████████████████████| 16/16 [00:00<00:00, 162.31it/s]\n",
      " 63%|███████████████████████████▏               | 19/30 [00:05<00:02,  3.80it/s]"
     ]
    },
    {
     "name": "stdout",
     "output_type": "stream",
     "text": [
      "Epoch 18:  (best: False)train loss = 0.111 (auc: 0.715 f1: 0.165), validation loss = 0.111 (auc: 0.707 f1: 0.156)\n"
     ]
    },
    {
     "name": "stderr",
     "output_type": "stream",
     "text": [
      "100%|██████████████████████████████████████████| 16/16 [00:00<00:00, 151.99it/s]\n",
      " 67%|████████████████████████████▋              | 20/30 [00:05<00:02,  3.74it/s]"
     ]
    },
    {
     "name": "stdout",
     "output_type": "stream",
     "text": [
      "Epoch 19:  (best: False)train loss = 0.110 (auc: 0.702 f1: 0.168), validation loss = 0.111 (auc: 0.701 f1: 0.156)\n"
     ]
    },
    {
     "name": "stderr",
     "output_type": "stream",
     "text": [
      "100%|██████████████████████████████████████████| 16/16 [00:00<00:00, 163.33it/s]\n",
      " 70%|██████████████████████████████             | 21/30 [00:05<00:02,  3.77it/s]"
     ]
    },
    {
     "name": "stdout",
     "output_type": "stream",
     "text": [
      "Epoch 20:  (best: False)train loss = 0.111 (auc: 0.712 f1: 0.161), validation loss = 0.111 (auc: 0.705 f1: 0.151)\n"
     ]
    },
    {
     "name": "stderr",
     "output_type": "stream",
     "text": [
      "100%|██████████████████████████████████████████| 16/16 [00:00<00:00, 162.99it/s]\n",
      " 73%|███████████████████████████████▌           | 22/30 [00:05<00:02,  3.79it/s]"
     ]
    },
    {
     "name": "stdout",
     "output_type": "stream",
     "text": [
      "Epoch 21:  (best: False)train loss = 0.111 (auc: 0.706 f1: 0.160), validation loss = 0.111 (auc: 0.703 f1: 0.155)\n"
     ]
    },
    {
     "name": "stderr",
     "output_type": "stream",
     "text": [
      "100%|██████████████████████████████████████████| 16/16 [00:00<00:00, 166.47it/s]\n",
      " 77%|████████████████████████████████▉          | 23/30 [00:06<00:01,  3.82it/s]"
     ]
    },
    {
     "name": "stdout",
     "output_type": "stream",
     "text": [
      "Epoch 22:  (best: False)train loss = 0.111 (auc: 0.706 f1: 0.167), validation loss = 0.111 (auc: 0.701 f1: 0.158)\n"
     ]
    },
    {
     "name": "stderr",
     "output_type": "stream",
     "text": [
      "100%|██████████████████████████████████████████| 16/16 [00:00<00:00, 167.91it/s]\n",
      " 80%|██████████████████████████████████▍        | 24/30 [00:06<00:01,  3.84it/s]"
     ]
    },
    {
     "name": "stdout",
     "output_type": "stream",
     "text": [
      "Epoch 23:  (best: False)train loss = 0.111 (auc: 0.702 f1: 0.163), validation loss = 0.111 (auc: 0.700 f1: 0.152)\n"
     ]
    },
    {
     "name": "stderr",
     "output_type": "stream",
     "text": [
      "100%|██████████████████████████████████████████| 16/16 [00:00<00:00, 161.90it/s]\n",
      " 83%|███████████████████████████████████▊       | 25/30 [00:06<00:01,  3.84it/s]"
     ]
    },
    {
     "name": "stdout",
     "output_type": "stream",
     "text": [
      "Epoch 24:  (best: True)train loss = 0.111 (auc: 0.704 f1: 0.168), validation loss = 0.111 (auc: 0.700 f1: 0.162)\n"
     ]
    },
    {
     "name": "stderr",
     "output_type": "stream",
     "text": [
      "100%|██████████████████████████████████████████| 16/16 [00:00<00:00, 163.46it/s]\n",
      " 87%|█████████████████████████████████████▎     | 26/30 [00:06<00:01,  3.83it/s]"
     ]
    },
    {
     "name": "stdout",
     "output_type": "stream",
     "text": [
      "Epoch 25:  (best: False)train loss = 0.110 (auc: 0.699 f1: 0.166), validation loss = 0.111 (auc: 0.695 f1: 0.156)\n"
     ]
    },
    {
     "name": "stderr",
     "output_type": "stream",
     "text": [
      "100%|██████████████████████████████████████████| 16/16 [00:00<00:00, 148.71it/s]\n",
      " 90%|██████████████████████████████████████▋    | 27/30 [00:07<00:00,  3.76it/s]"
     ]
    },
    {
     "name": "stdout",
     "output_type": "stream",
     "text": [
      "Epoch 26:  (best: False)train loss = 0.111 (auc: 0.706 f1: 0.164), validation loss = 0.111 (auc: 0.699 f1: 0.154)\n"
     ]
    },
    {
     "name": "stderr",
     "output_type": "stream",
     "text": [
      "100%|██████████████████████████████████████████| 16/16 [00:00<00:00, 164.54it/s]\n",
      " 93%|████████████████████████████████████████▏  | 28/30 [00:07<00:00,  3.79it/s]"
     ]
    },
    {
     "name": "stdout",
     "output_type": "stream",
     "text": [
      "Epoch 27:  (best: False)train loss = 0.110 (auc: 0.706 f1: 0.163), validation loss = 0.111 (auc: 0.701 f1: 0.160)\n"
     ]
    },
    {
     "name": "stderr",
     "output_type": "stream",
     "text": [
      "100%|██████████████████████████████████████████| 16/16 [00:00<00:00, 164.58it/s]\n",
      " 97%|█████████████████████████████████████████▌ | 29/30 [00:07<00:00,  3.81it/s]"
     ]
    },
    {
     "name": "stdout",
     "output_type": "stream",
     "text": [
      "Epoch 28:  (best: False)train loss = 0.110 (auc: 0.698 f1: 0.157), validation loss = 0.111 (auc: 0.695 f1: 0.151)\n"
     ]
    },
    {
     "name": "stderr",
     "output_type": "stream",
     "text": [
      "100%|██████████████████████████████████████████| 16/16 [00:00<00:00, 167.37it/s]\n",
      "100%|███████████████████████████████████████████| 30/30 [00:07<00:00,  3.80it/s]\n"
     ]
    },
    {
     "name": "stdout",
     "output_type": "stream",
     "text": [
      "Epoch 29:  (best: False)train loss = 0.111 (auc: 0.701 f1: 0.165), validation loss = 0.111 (auc: 0.697 f1: 0.154)\n"
     ]
    },
    {
     "name": "stderr",
     "output_type": "stream",
     "text": [
      "100%|██████████████████████████████████████████| 16/16 [00:00<00:00, 163.59it/s]\n",
      "  3%|█▍                                          | 1/30 [00:00<00:07,  3.90it/s]"
     ]
    },
    {
     "name": "stdout",
     "output_type": "stream",
     "text": [
      "Epoch 0:  (best: True)train loss = 0.114 (auc: 0.675 f1: 0.077), validation loss = 0.115 (auc: 0.663 f1: 0.060)\n"
     ]
    },
    {
     "name": "stderr",
     "output_type": "stream",
     "text": [
      "100%|██████████████████████████████████████████| 16/16 [00:00<00:00, 167.35it/s]\n",
      "  7%|██▉                                         | 2/30 [00:00<00:07,  3.87it/s]"
     ]
    },
    {
     "name": "stdout",
     "output_type": "stream",
     "text": [
      "Epoch 1:  (best: True)train loss = 0.113 (auc: 0.764 f1: 0.087), validation loss = 0.113 (auc: 0.758 f1: 0.082)\n"
     ]
    },
    {
     "name": "stderr",
     "output_type": "stream",
     "text": [
      "100%|██████████████████████████████████████████| 16/16 [00:00<00:00, 161.72it/s]\n",
      " 10%|████▍                                       | 3/30 [00:00<00:07,  3.85it/s]"
     ]
    },
    {
     "name": "stdout",
     "output_type": "stream",
     "text": [
      "Epoch 2:  (best: True)train loss = 0.113 (auc: 0.720 f1: 0.105), validation loss = 0.113 (auc: 0.716 f1: 0.105)\n"
     ]
    },
    {
     "name": "stderr",
     "output_type": "stream",
     "text": [
      "100%|██████████████████████████████████████████| 16/16 [00:00<00:00, 165.50it/s]\n",
      " 13%|█████▊                                      | 4/30 [00:01<00:06,  3.83it/s]"
     ]
    },
    {
     "name": "stdout",
     "output_type": "stream",
     "text": [
      "Epoch 3:  (best: False)train loss = 0.112 (auc: 0.646 f1: 0.098), validation loss = 0.113 (auc: 0.640 f1: 0.091)\n"
     ]
    },
    {
     "name": "stderr",
     "output_type": "stream",
     "text": [
      "100%|██████████████████████████████████████████| 16/16 [00:00<00:00, 164.06it/s]\n",
      " 17%|███████▎                                    | 5/30 [00:01<00:06,  3.83it/s]"
     ]
    },
    {
     "name": "stdout",
     "output_type": "stream",
     "text": [
      "Epoch 4:  (best: False)train loss = 0.112 (auc: 0.615 f1: 0.103), validation loss = 0.112 (auc: 0.612 f1: 0.099)\n"
     ]
    },
    {
     "name": "stderr",
     "output_type": "stream",
     "text": [
      "100%|██████████████████████████████████████████| 16/16 [00:00<00:00, 162.91it/s]\n",
      " 20%|████████▊                                   | 6/30 [00:01<00:06,  3.81it/s]"
     ]
    },
    {
     "name": "stdout",
     "output_type": "stream",
     "text": [
      "Epoch 5:  (best: True)train loss = 0.112 (auc: 0.578 f1: 0.114), validation loss = 0.112 (auc: 0.579 f1: 0.113)\n"
     ]
    },
    {
     "name": "stderr",
     "output_type": "stream",
     "text": [
      "100%|██████████████████████████████████████████| 16/16 [00:00<00:00, 166.30it/s]\n",
      " 23%|██████████▎                                 | 7/30 [00:01<00:06,  3.82it/s]"
     ]
    },
    {
     "name": "stdout",
     "output_type": "stream",
     "text": [
      "Epoch 6:  (best: True)train loss = 0.112 (auc: 0.577 f1: 0.115), validation loss = 0.112 (auc: 0.578 f1: 0.114)\n"
     ]
    },
    {
     "name": "stderr",
     "output_type": "stream",
     "text": [
      "100%|██████████████████████████████████████████| 16/16 [00:00<00:00, 160.30it/s]\n",
      " 27%|███████████▋                                | 8/30 [00:02<00:05,  3.80it/s]"
     ]
    },
    {
     "name": "stdout",
     "output_type": "stream",
     "text": [
      "Epoch 7:  (best: True)train loss = 0.112 (auc: 0.567 f1: 0.122), validation loss = 0.112 (auc: 0.573 f1: 0.115)\n"
     ]
    },
    {
     "name": "stderr",
     "output_type": "stream",
     "text": [
      "100%|██████████████████████████████████████████| 16/16 [00:00<00:00, 164.94it/s]\n",
      " 30%|█████████████▏                              | 9/30 [00:02<00:05,  3.82it/s]"
     ]
    },
    {
     "name": "stdout",
     "output_type": "stream",
     "text": [
      "Epoch 8:  (best: False)train loss = 0.112 (auc: 0.576 f1: 0.112), validation loss = 0.112 (auc: 0.581 f1: 0.113)\n"
     ]
    },
    {
     "name": "stderr",
     "output_type": "stream",
     "text": [
      "100%|██████████████████████████████████████████| 16/16 [00:00<00:00, 165.12it/s]\n",
      " 33%|██████████████▎                            | 10/30 [00:02<00:05,  3.82it/s]"
     ]
    },
    {
     "name": "stdout",
     "output_type": "stream",
     "text": [
      "Epoch 9:  (best: True)train loss = 0.111 (auc: 0.562 f1: 0.147), validation loss = 0.112 (auc: 0.567 f1: 0.140)\n"
     ]
    },
    {
     "name": "stderr",
     "output_type": "stream",
     "text": [
      "100%|██████████████████████████████████████████| 16/16 [00:00<00:00, 165.11it/s]\n",
      " 37%|███████████████▊                           | 11/30 [00:02<00:04,  3.82it/s]"
     ]
    },
    {
     "name": "stdout",
     "output_type": "stream",
     "text": [
      "Epoch 10:  (best: True)train loss = 0.111 (auc: 0.620 f1: 0.158), validation loss = 0.111 (auc: 0.629 f1: 0.151)\n"
     ]
    },
    {
     "name": "stderr",
     "output_type": "stream",
     "text": [
      "100%|██████████████████████████████████████████| 16/16 [00:00<00:00, 156.61it/s]\n",
      " 40%|█████████████████▏                         | 12/30 [00:03<00:04,  3.80it/s]"
     ]
    },
    {
     "name": "stdout",
     "output_type": "stream",
     "text": [
      "Epoch 11:  (best: False)train loss = 0.111 (auc: 0.677 f1: 0.157), validation loss = 0.111 (auc: 0.679 f1: 0.146)\n"
     ]
    },
    {
     "name": "stderr",
     "output_type": "stream",
     "text": [
      "100%|██████████████████████████████████████████| 16/16 [00:00<00:00, 154.36it/s]\n",
      " 43%|██████████████████▋                        | 13/30 [00:03<00:04,  3.78it/s]"
     ]
    },
    {
     "name": "stdout",
     "output_type": "stream",
     "text": [
      "Epoch 12:  (best: True)train loss = 0.111 (auc: 0.588 f1: 0.184), validation loss = 0.111 (auc: 0.597 f1: 0.164)\n"
     ]
    },
    {
     "name": "stderr",
     "output_type": "stream",
     "text": [
      "100%|██████████████████████████████████████████| 16/16 [00:00<00:00, 162.98it/s]\n",
      " 47%|████████████████████                       | 14/30 [00:03<00:04,  3.79it/s]"
     ]
    },
    {
     "name": "stdout",
     "output_type": "stream",
     "text": [
      "Epoch 13:  (best: False)train loss = 0.111 (auc: 0.703 f1: 0.157), validation loss = 0.111 (auc: 0.700 f1: 0.148)\n"
     ]
    },
    {
     "name": "stderr",
     "output_type": "stream",
     "text": [
      "100%|██████████████████████████████████████████| 16/16 [00:00<00:00, 166.02it/s]\n",
      " 50%|█████████████████████▌                     | 15/30 [00:03<00:03,  3.80it/s]"
     ]
    },
    {
     "name": "stdout",
     "output_type": "stream",
     "text": [
      "Epoch 14:  (best: True)train loss = 0.110 (auc: 0.615 f1: 0.179), validation loss = 0.111 (auc: 0.621 f1: 0.164)\n"
     ]
    },
    {
     "name": "stderr",
     "output_type": "stream",
     "text": [
      "100%|██████████████████████████████████████████| 16/16 [00:00<00:00, 162.31it/s]\n",
      " 53%|██████████████████████▉                    | 16/30 [00:04<00:03,  3.81it/s]"
     ]
    },
    {
     "name": "stdout",
     "output_type": "stream",
     "text": [
      "Epoch 15:  (best: False)train loss = 0.111 (auc: 0.687 f1: 0.162), validation loss = 0.111 (auc: 0.687 f1: 0.156)\n"
     ]
    },
    {
     "name": "stderr",
     "output_type": "stream",
     "text": [
      "100%|██████████████████████████████████████████| 16/16 [00:00<00:00, 166.01it/s]\n",
      " 57%|████████████████████████▎                  | 17/30 [00:04<00:03,  3.81it/s]"
     ]
    },
    {
     "name": "stdout",
     "output_type": "stream",
     "text": [
      "Epoch 16:  (best: False)train loss = 0.111 (auc: 0.634 f1: 0.171), validation loss = 0.111 (auc: 0.641 f1: 0.157)\n"
     ]
    },
    {
     "name": "stderr",
     "output_type": "stream",
     "text": [
      "100%|██████████████████████████████████████████| 16/16 [00:00<00:00, 166.42it/s]\n",
      " 60%|█████████████████████████▊                 | 18/30 [00:04<00:03,  3.81it/s]"
     ]
    },
    {
     "name": "stdout",
     "output_type": "stream",
     "text": [
      "Epoch 17:  (best: False)train loss = 0.111 (auc: 0.676 f1: 0.163), validation loss = 0.111 (auc: 0.683 f1: 0.153)\n"
     ]
    },
    {
     "name": "stderr",
     "output_type": "stream",
     "text": [
      "100%|██████████████████████████████████████████| 16/16 [00:00<00:00, 137.35it/s]\n",
      " 63%|███████████████████████████▏               | 19/30 [00:05<00:02,  3.72it/s]"
     ]
    },
    {
     "name": "stdout",
     "output_type": "stream",
     "text": [
      "Epoch 18:  (best: False)train loss = 0.111 (auc: 0.660 f1: 0.165), validation loss = 0.111 (auc: 0.672 f1: 0.153)\n"
     ]
    },
    {
     "name": "stderr",
     "output_type": "stream",
     "text": [
      "100%|██████████████████████████████████████████| 16/16 [00:00<00:00, 160.44it/s]\n",
      " 67%|████████████████████████████▋              | 20/30 [00:05<00:02,  3.73it/s]"
     ]
    },
    {
     "name": "stdout",
     "output_type": "stream",
     "text": [
      "Epoch 19:  (best: False)train loss = 0.111 (auc: 0.673 f1: 0.170), validation loss = 0.111 (auc: 0.680 f1: 0.157)\n"
     ]
    },
    {
     "name": "stderr",
     "output_type": "stream",
     "text": [
      "100%|██████████████████████████████████████████| 16/16 [00:00<00:00, 167.67it/s]\n",
      " 70%|██████████████████████████████             | 21/30 [00:05<00:02,  3.78it/s]"
     ]
    },
    {
     "name": "stdout",
     "output_type": "stream",
     "text": [
      "Epoch 20:  (best: False)train loss = 0.110 (auc: 0.668 f1: 0.168), validation loss = 0.111 (auc: 0.677 f1: 0.156)\n"
     ]
    },
    {
     "name": "stderr",
     "output_type": "stream",
     "text": [
      "100%|██████████████████████████████████████████| 16/16 [00:00<00:00, 165.68it/s]\n",
      " 73%|███████████████████████████████▌           | 22/30 [00:05<00:02,  3.80it/s]"
     ]
    },
    {
     "name": "stdout",
     "output_type": "stream",
     "text": [
      "Epoch 21:  (best: False)train loss = 0.111 (auc: 0.660 f1: 0.164), validation loss = 0.111 (auc: 0.670 f1: 0.152)\n"
     ]
    },
    {
     "name": "stderr",
     "output_type": "stream",
     "text": [
      "100%|██████████████████████████████████████████| 16/16 [00:00<00:00, 163.42it/s]\n",
      " 77%|████████████████████████████████▉          | 23/30 [00:06<00:01,  3.81it/s]"
     ]
    },
    {
     "name": "stdout",
     "output_type": "stream",
     "text": [
      "Epoch 22:  (best: False)train loss = 0.111 (auc: 0.655 f1: 0.164), validation loss = 0.111 (auc: 0.668 f1: 0.155)\n"
     ]
    },
    {
     "name": "stderr",
     "output_type": "stream",
     "text": [
      "100%|██████████████████████████████████████████| 16/16 [00:00<00:00, 166.53it/s]\n",
      " 80%|██████████████████████████████████▍        | 24/30 [00:06<00:01,  3.81it/s]"
     ]
    },
    {
     "name": "stdout",
     "output_type": "stream",
     "text": [
      "Epoch 23:  (best: False)train loss = 0.110 (auc: 0.676 f1: 0.166), validation loss = 0.111 (auc: 0.679 f1: 0.152)\n"
     ]
    },
    {
     "name": "stderr",
     "output_type": "stream",
     "text": [
      "100%|██████████████████████████████████████████| 16/16 [00:00<00:00, 165.94it/s]\n",
      " 83%|███████████████████████████████████▊       | 25/30 [00:06<00:01,  3.82it/s]"
     ]
    },
    {
     "name": "stdout",
     "output_type": "stream",
     "text": [
      "Epoch 24:  (best: False)train loss = 0.111 (auc: 0.636 f1: 0.170), validation loss = 0.111 (auc: 0.645 f1: 0.159)\n"
     ]
    },
    {
     "name": "stderr",
     "output_type": "stream",
     "text": [
      "100%|██████████████████████████████████████████| 16/16 [00:00<00:00, 163.16it/s]\n",
      " 87%|█████████████████████████████████████▎     | 26/30 [00:06<00:01,  3.81it/s]"
     ]
    },
    {
     "name": "stdout",
     "output_type": "stream",
     "text": [
      "Epoch 25:  (best: False)train loss = 0.110 (auc: 0.631 f1: 0.171), validation loss = 0.111 (auc: 0.641 f1: 0.162)\n"
     ]
    },
    {
     "name": "stderr",
     "output_type": "stream",
     "text": [
      "100%|██████████████████████████████████████████| 16/16 [00:00<00:00, 155.59it/s]\n",
      " 90%|██████████████████████████████████████▋    | 27/30 [00:07<00:00,  3.80it/s]"
     ]
    },
    {
     "name": "stdout",
     "output_type": "stream",
     "text": [
      "Epoch 26:  (best: False)train loss = 0.110 (auc: 0.660 f1: 0.165), validation loss = 0.111 (auc: 0.670 f1: 0.156)\n"
     ]
    },
    {
     "name": "stderr",
     "output_type": "stream",
     "text": [
      "100%|██████████████████████████████████████████| 16/16 [00:00<00:00, 167.33it/s]\n",
      " 93%|████████████████████████████████████████▏  | 28/30 [00:07<00:00,  3.81it/s]"
     ]
    },
    {
     "name": "stdout",
     "output_type": "stream",
     "text": [
      "Epoch 27:  (best: False)train loss = 0.110 (auc: 0.646 f1: 0.168), validation loss = 0.111 (auc: 0.660 f1: 0.155)\n"
     ]
    },
    {
     "name": "stderr",
     "output_type": "stream",
     "text": [
      "100%|██████████████████████████████████████████| 16/16 [00:00<00:00, 165.47it/s]\n",
      " 97%|█████████████████████████████████████████▌ | 29/30 [00:07<00:00,  3.83it/s]"
     ]
    },
    {
     "name": "stdout",
     "output_type": "stream",
     "text": [
      "Epoch 28:  (best: False)train loss = 0.111 (auc: 0.684 f1: 0.160), validation loss = 0.111 (auc: 0.679 f1: 0.152)\n"
     ]
    },
    {
     "name": "stderr",
     "output_type": "stream",
     "text": [
      "100%|██████████████████████████████████████████| 16/16 [00:00<00:00, 165.29it/s]\n",
      "100%|███████████████████████████████████████████| 30/30 [00:07<00:00,  3.81it/s]\n"
     ]
    },
    {
     "name": "stdout",
     "output_type": "stream",
     "text": [
      "Epoch 29:  (best: False)train loss = 0.111 (auc: 0.619 f1: 0.175), validation loss = 0.111 (auc: 0.623 f1: 0.164)\n"
     ]
    },
    {
     "name": "stderr",
     "output_type": "stream",
     "text": [
      "100%|██████████████████████████████████████████| 16/16 [00:00<00:00, 166.92it/s]\n",
      "  3%|█▍                                          | 1/30 [00:00<00:07,  3.89it/s]"
     ]
    },
    {
     "name": "stdout",
     "output_type": "stream",
     "text": [
      "Epoch 0:  (best: True)train loss = 0.113 (auc: 0.829 f1: 0.098), validation loss = 0.113 (auc: 0.834 f1: 0.088)\n"
     ]
    },
    {
     "name": "stderr",
     "output_type": "stream",
     "text": [
      "100%|██████████████████████████████████████████| 16/16 [00:00<00:00, 164.25it/s]\n",
      "  7%|██▉                                         | 2/30 [00:00<00:07,  3.83it/s]"
     ]
    },
    {
     "name": "stdout",
     "output_type": "stream",
     "text": [
      "Epoch 1:  (best: True)train loss = 0.108 (auc: 0.840 f1: 0.283), validation loss = 0.109 (auc: 0.849 f1: 0.264)\n"
     ]
    },
    {
     "name": "stderr",
     "output_type": "stream",
     "text": [
      "100%|██████████████████████████████████████████| 16/16 [00:00<00:00, 163.77it/s]\n",
      " 10%|████▍                                       | 3/30 [00:00<00:07,  3.83it/s]"
     ]
    },
    {
     "name": "stdout",
     "output_type": "stream",
     "text": [
      "Epoch 2:  (best: True)train loss = 0.107 (auc: 0.833 f1: 0.286), validation loss = 0.107 (auc: 0.840 f1: 0.268)\n"
     ]
    },
    {
     "name": "stderr",
     "output_type": "stream",
     "text": [
      "100%|██████████████████████████████████████████| 16/16 [00:00<00:00, 165.61it/s]\n",
      " 13%|█████▊                                      | 4/30 [00:01<00:06,  3.82it/s]"
     ]
    },
    {
     "name": "stdout",
     "output_type": "stream",
     "text": [
      "Epoch 3:  (best: True)train loss = 0.106 (auc: 0.827 f1: 0.285), validation loss = 0.107 (auc: 0.833 f1: 0.282)\n"
     ]
    },
    {
     "name": "stderr",
     "output_type": "stream",
     "text": [
      "100%|██████████████████████████████████████████| 16/16 [00:00<00:00, 167.28it/s]\n",
      " 17%|███████▎                                    | 5/30 [00:01<00:06,  3.85it/s]"
     ]
    },
    {
     "name": "stdout",
     "output_type": "stream",
     "text": [
      "Epoch 4:  (best: True)train loss = 0.106 (auc: 0.823 f1: 0.317), validation loss = 0.107 (auc: 0.829 f1: 0.284)\n"
     ]
    },
    {
     "name": "stderr",
     "output_type": "stream",
     "text": [
      "100%|██████████████████████████████████████████| 16/16 [00:00<00:00, 168.86it/s]\n",
      " 20%|████████▊                                   | 6/30 [00:01<00:06,  3.84it/s]"
     ]
    },
    {
     "name": "stdout",
     "output_type": "stream",
     "text": [
      "Epoch 5:  (best: True)train loss = 0.106 (auc: 0.818 f1: 0.318), validation loss = 0.106 (auc: 0.826 f1: 0.295)\n"
     ]
    },
    {
     "name": "stderr",
     "output_type": "stream",
     "text": [
      "100%|██████████████████████████████████████████| 16/16 [00:00<00:00, 161.33it/s]\n",
      " 23%|██████████▎                                 | 7/30 [00:01<00:06,  3.83it/s]"
     ]
    },
    {
     "name": "stdout",
     "output_type": "stream",
     "text": [
      "Epoch 6:  (best: True)train loss = 0.105 (auc: 0.817 f1: 0.327), validation loss = 0.106 (auc: 0.824 f1: 0.314)\n"
     ]
    },
    {
     "name": "stderr",
     "output_type": "stream",
     "text": [
      "100%|██████████████████████████████████████████| 16/16 [00:00<00:00, 166.76it/s]\n",
      " 27%|███████████▋                                | 8/30 [00:02<00:05,  3.83it/s]"
     ]
    },
    {
     "name": "stdout",
     "output_type": "stream",
     "text": [
      "Epoch 7:  (best: False)train loss = 0.105 (auc: 0.814 f1: 0.332), validation loss = 0.106 (auc: 0.821 f1: 0.299)\n"
     ]
    },
    {
     "name": "stderr",
     "output_type": "stream",
     "text": [
      "100%|██████████████████████████████████████████| 16/16 [00:00<00:00, 165.61it/s]\n",
      " 30%|█████████████▏                              | 9/30 [00:02<00:05,  3.83it/s]"
     ]
    },
    {
     "name": "stdout",
     "output_type": "stream",
     "text": [
      "Epoch 8:  (best: True)train loss = 0.105 (auc: 0.818 f1: 0.353), validation loss = 0.106 (auc: 0.828 f1: 0.334)\n"
     ]
    },
    {
     "name": "stderr",
     "output_type": "stream",
     "text": [
      "100%|██████████████████████████████████████████| 16/16 [00:00<00:00, 164.99it/s]\n",
      " 33%|██████████████▎                            | 10/30 [00:02<00:05,  3.81it/s]"
     ]
    },
    {
     "name": "stdout",
     "output_type": "stream",
     "text": [
      "Epoch 9:  (best: False)train loss = 0.105 (auc: 0.815 f1: 0.349), validation loss = 0.106 (auc: 0.824 f1: 0.333)\n"
     ]
    },
    {
     "name": "stderr",
     "output_type": "stream",
     "text": [
      "100%|██████████████████████████████████████████| 16/16 [00:00<00:00, 169.18it/s]\n",
      " 37%|███████████████▊                           | 11/30 [00:02<00:04,  3.84it/s]"
     ]
    },
    {
     "name": "stdout",
     "output_type": "stream",
     "text": [
      "Epoch 10:  (best: False)train loss = 0.104 (auc: 0.812 f1: 0.359), validation loss = 0.106 (auc: 0.820 f1: 0.332)\n"
     ]
    },
    {
     "name": "stderr",
     "output_type": "stream",
     "text": [
      "100%|██████████████████████████████████████████| 16/16 [00:00<00:00, 163.59it/s]\n",
      " 40%|█████████████████▏                         | 12/30 [00:03<00:04,  3.85it/s]"
     ]
    },
    {
     "name": "stdout",
     "output_type": "stream",
     "text": [
      "Epoch 11:  (best: True)train loss = 0.105 (auc: 0.815 f1: 0.358), validation loss = 0.106 (auc: 0.822 f1: 0.336)\n"
     ]
    },
    {
     "name": "stderr",
     "output_type": "stream",
     "text": [
      "100%|██████████████████████████████████████████| 16/16 [00:00<00:00, 168.49it/s]\n",
      " 43%|██████████████████▋                        | 13/30 [00:03<00:04,  3.87it/s]"
     ]
    },
    {
     "name": "stdout",
     "output_type": "stream",
     "text": [
      "Epoch 12:  (best: True)train loss = 0.104 (auc: 0.807 f1: 0.361), validation loss = 0.105 (auc: 0.815 f1: 0.337)\n"
     ]
    },
    {
     "name": "stderr",
     "output_type": "stream",
     "text": [
      "100%|██████████████████████████████████████████| 16/16 [00:00<00:00, 169.75it/s]\n",
      " 47%|████████████████████                       | 14/30 [00:03<00:04,  3.88it/s]"
     ]
    },
    {
     "name": "stdout",
     "output_type": "stream",
     "text": [
      "Epoch 13:  (best: False)train loss = 0.104 (auc: 0.809 f1: 0.360), validation loss = 0.106 (auc: 0.816 f1: 0.334)\n"
     ]
    },
    {
     "name": "stderr",
     "output_type": "stream",
     "text": [
      "100%|██████████████████████████████████████████| 16/16 [00:00<00:00, 165.90it/s]\n",
      " 50%|█████████████████████▌                     | 15/30 [00:03<00:03,  3.88it/s]"
     ]
    },
    {
     "name": "stdout",
     "output_type": "stream",
     "text": [
      "Epoch 14:  (best: True)train loss = 0.104 (auc: 0.806 f1: 0.363), validation loss = 0.105 (auc: 0.811 f1: 0.338)\n"
     ]
    },
    {
     "name": "stderr",
     "output_type": "stream",
     "text": [
      "100%|██████████████████████████████████████████| 16/16 [00:00<00:00, 162.41it/s]\n",
      " 53%|██████████████████████▉                    | 16/30 [00:04<00:03,  3.85it/s]"
     ]
    },
    {
     "name": "stdout",
     "output_type": "stream",
     "text": [
      "Epoch 15:  (best: True)train loss = 0.104 (auc: 0.805 f1: 0.360), validation loss = 0.105 (auc: 0.810 f1: 0.340)\n"
     ]
    },
    {
     "name": "stderr",
     "output_type": "stream",
     "text": [
      "100%|██████████████████████████████████████████| 16/16 [00:00<00:00, 138.93it/s]\n",
      " 57%|████████████████████████▎                  | 17/30 [00:04<00:03,  3.70it/s]"
     ]
    },
    {
     "name": "stdout",
     "output_type": "stream",
     "text": [
      "Epoch 16:  (best: False)train loss = 0.104 (auc: 0.799 f1: 0.360), validation loss = 0.105 (auc: 0.805 f1: 0.336)\n"
     ]
    },
    {
     "name": "stderr",
     "output_type": "stream",
     "text": [
      "100%|██████████████████████████████████████████| 16/16 [00:00<00:00, 155.01it/s]\n",
      " 60%|█████████████████████████▊                 | 18/30 [00:04<00:03,  3.70it/s]"
     ]
    },
    {
     "name": "stdout",
     "output_type": "stream",
     "text": [
      "Epoch 17:  (best: True)train loss = 0.105 (auc: 0.803 f1: 0.362), validation loss = 0.105 (auc: 0.807 f1: 0.341)\n"
     ]
    },
    {
     "name": "stderr",
     "output_type": "stream",
     "text": [
      "100%|██████████████████████████████████████████| 16/16 [00:00<00:00, 165.43it/s]\n",
      " 63%|███████████████████████████▏               | 19/30 [00:04<00:02,  3.69it/s]"
     ]
    },
    {
     "name": "stdout",
     "output_type": "stream",
     "text": [
      "Epoch 18:  (best: False)train loss = 0.104 (auc: 0.801 f1: 0.361), validation loss = 0.105 (auc: 0.807 f1: 0.339)\n"
     ]
    },
    {
     "name": "stderr",
     "output_type": "stream",
     "text": [
      "100%|██████████████████████████████████████████| 16/16 [00:00<00:00, 152.08it/s]\n",
      " 67%|████████████████████████████▋              | 20/30 [00:05<00:02,  3.67it/s]"
     ]
    },
    {
     "name": "stdout",
     "output_type": "stream",
     "text": [
      "Epoch 19:  (best: False)train loss = 0.104 (auc: 0.797 f1: 0.357), validation loss = 0.105 (auc: 0.802 f1: 0.337)\n"
     ]
    },
    {
     "name": "stderr",
     "output_type": "stream",
     "text": [
      "100%|██████████████████████████████████████████| 16/16 [00:00<00:00, 160.04it/s]\n",
      " 70%|██████████████████████████████             | 21/30 [00:05<00:02,  3.70it/s]"
     ]
    },
    {
     "name": "stdout",
     "output_type": "stream",
     "text": [
      "Epoch 20:  (best: True)train loss = 0.104 (auc: 0.794 f1: 0.366), validation loss = 0.105 (auc: 0.792 f1: 0.344)\n"
     ]
    },
    {
     "name": "stderr",
     "output_type": "stream",
     "text": [
      "100%|██████████████████████████████████████████| 16/16 [00:00<00:00, 160.93it/s]\n",
      " 73%|███████████████████████████████▌           | 22/30 [00:05<00:02,  3.56it/s]"
     ]
    },
    {
     "name": "stdout",
     "output_type": "stream",
     "text": [
      "Epoch 21:  (best: True)train loss = 0.104 (auc: 0.801 f1: 0.360), validation loss = 0.105 (auc: 0.804 f1: 0.346)\n"
     ]
    },
    {
     "name": "stderr",
     "output_type": "stream",
     "text": [
      "100%|██████████████████████████████████████████| 16/16 [00:00<00:00, 156.64it/s]\n",
      " 77%|████████████████████████████████▉          | 23/30 [00:06<00:01,  3.56it/s]"
     ]
    },
    {
     "name": "stdout",
     "output_type": "stream",
     "text": [
      "Epoch 22:  (best: False)train loss = 0.104 (auc: 0.799 f1: 0.360), validation loss = 0.105 (auc: 0.804 f1: 0.336)\n"
     ]
    },
    {
     "name": "stderr",
     "output_type": "stream",
     "text": [
      "100%|██████████████████████████████████████████| 16/16 [00:00<00:00, 129.67it/s]\n",
      " 80%|██████████████████████████████████▍        | 24/30 [00:06<00:01,  3.41it/s]"
     ]
    },
    {
     "name": "stdout",
     "output_type": "stream",
     "text": [
      "Epoch 23:  (best: False)train loss = 0.104 (auc: 0.798 f1: 0.365), validation loss = 0.105 (auc: 0.802 f1: 0.340)\n"
     ]
    },
    {
     "name": "stderr",
     "output_type": "stream",
     "text": [
      "100%|██████████████████████████████████████████| 16/16 [00:00<00:00, 150.25it/s]\n",
      " 83%|███████████████████████████████████▊       | 25/30 [00:06<00:01,  3.49it/s]"
     ]
    },
    {
     "name": "stdout",
     "output_type": "stream",
     "text": [
      "Epoch 24:  (best: False)train loss = 0.104 (auc: 0.796 f1: 0.362), validation loss = 0.105 (auc: 0.799 f1: 0.339)\n"
     ]
    },
    {
     "name": "stderr",
     "output_type": "stream",
     "text": [
      "100%|██████████████████████████████████████████| 16/16 [00:00<00:00, 165.36it/s]\n",
      " 87%|█████████████████████████████████████▎     | 26/30 [00:07<00:01,  3.43it/s]"
     ]
    },
    {
     "name": "stdout",
     "output_type": "stream",
     "text": [
      "Epoch 25:  (best: False)train loss = 0.104 (auc: 0.798 f1: 0.366), validation loss = 0.105 (auc: 0.803 f1: 0.341)\n"
     ]
    },
    {
     "name": "stderr",
     "output_type": "stream",
     "text": [
      "100%|██████████████████████████████████████████| 16/16 [00:00<00:00, 148.06it/s]\n",
      " 90%|██████████████████████████████████████▋    | 27/30 [00:07<00:00,  3.45it/s]"
     ]
    },
    {
     "name": "stdout",
     "output_type": "stream",
     "text": [
      "Epoch 26:  (best: True)train loss = 0.104 (auc: 0.799 f1: 0.371), validation loss = 0.105 (auc: 0.803 f1: 0.349)\n"
     ]
    },
    {
     "name": "stderr",
     "output_type": "stream",
     "text": [
      "100%|██████████████████████████████████████████| 16/16 [00:00<00:00, 141.91it/s]\n",
      " 93%|████████████████████████████████████████▏  | 28/30 [00:07<00:00,  3.43it/s]"
     ]
    },
    {
     "name": "stdout",
     "output_type": "stream",
     "text": [
      "Epoch 27:  (best: False)train loss = 0.104 (auc: 0.793 f1: 0.364), validation loss = 0.105 (auc: 0.796 f1: 0.336)\n"
     ]
    },
    {
     "name": "stderr",
     "output_type": "stream",
     "text": [
      "100%|██████████████████████████████████████████| 16/16 [00:00<00:00, 153.39it/s]\n",
      " 97%|█████████████████████████████████████████▌ | 29/30 [00:07<00:00,  3.49it/s]"
     ]
    },
    {
     "name": "stdout",
     "output_type": "stream",
     "text": [
      "Epoch 28:  (best: False)train loss = 0.104 (auc: 0.787 f1: 0.366), validation loss = 0.105 (auc: 0.783 f1: 0.341)\n"
     ]
    },
    {
     "name": "stderr",
     "output_type": "stream",
     "text": [
      "100%|██████████████████████████████████████████| 16/16 [00:00<00:00, 152.97it/s]\n",
      "100%|███████████████████████████████████████████| 30/30 [00:08<00:00,  3.68it/s]\n"
     ]
    },
    {
     "name": "stdout",
     "output_type": "stream",
     "text": [
      "Epoch 29:  (best: False)train loss = 0.104 (auc: 0.792 f1: 0.362), validation loss = 0.105 (auc: 0.796 f1: 0.334)\n"
     ]
    },
    {
     "name": "stderr",
     "output_type": "stream",
     "text": [
      "100%|██████████████████████████████████████████| 16/16 [00:00<00:00, 153.51it/s]\n",
      "  3%|█▍                                          | 1/30 [00:00<00:07,  3.69it/s]"
     ]
    },
    {
     "name": "stdout",
     "output_type": "stream",
     "text": [
      "Epoch 0:  (best: True)train loss = 0.113 (auc: 0.884 f1: 0.208), validation loss = 0.114 (auc: 0.891 f1: 0.192)\n"
     ]
    },
    {
     "name": "stderr",
     "output_type": "stream",
     "text": [
      "100%|██████████████████████████████████████████| 16/16 [00:00<00:00, 163.03it/s]\n",
      "  7%|██▉                                         | 2/30 [00:00<00:07,  3.72it/s]"
     ]
    },
    {
     "name": "stdout",
     "output_type": "stream",
     "text": [
      "Epoch 1:  (best: True)train loss = 0.108 (auc: 0.827 f1: 0.243), validation loss = 0.109 (auc: 0.830 f1: 0.221)\n"
     ]
    },
    {
     "name": "stderr",
     "output_type": "stream",
     "text": [
      "100%|██████████████████████████████████████████| 16/16 [00:00<00:00, 165.05it/s]\n",
      " 10%|████▍                                       | 3/30 [00:00<00:07,  3.76it/s]"
     ]
    },
    {
     "name": "stdout",
     "output_type": "stream",
     "text": [
      "Epoch 2:  (best: True)train loss = 0.106 (auc: 0.829 f1: 0.282), validation loss = 0.107 (auc: 0.834 f1: 0.266)\n"
     ]
    },
    {
     "name": "stderr",
     "output_type": "stream",
     "text": [
      "100%|██████████████████████████████████████████| 16/16 [00:00<00:00, 162.62it/s]\n",
      " 13%|█████▊                                      | 4/30 [00:01<00:06,  3.76it/s]"
     ]
    },
    {
     "name": "stdout",
     "output_type": "stream",
     "text": [
      "Epoch 3:  (best: True)train loss = 0.106 (auc: 0.827 f1: 0.297), validation loss = 0.107 (auc: 0.830 f1: 0.289)\n"
     ]
    },
    {
     "name": "stderr",
     "output_type": "stream",
     "text": [
      "100%|██████████████████████████████████████████| 16/16 [00:00<00:00, 158.79it/s]\n",
      " 17%|███████▎                                    | 5/30 [00:01<00:06,  3.73it/s]"
     ]
    },
    {
     "name": "stdout",
     "output_type": "stream",
     "text": [
      "Epoch 4:  (best: True)train loss = 0.106 (auc: 0.825 f1: 0.320), validation loss = 0.107 (auc: 0.828 f1: 0.291)\n"
     ]
    },
    {
     "name": "stderr",
     "output_type": "stream",
     "text": [
      "100%|██████████████████████████████████████████| 16/16 [00:00<00:00, 157.01it/s]\n",
      " 20%|████████▊                                   | 6/30 [00:01<00:06,  3.70it/s]"
     ]
    },
    {
     "name": "stdout",
     "output_type": "stream",
     "text": [
      "Epoch 5:  (best: True)train loss = 0.106 (auc: 0.815 f1: 0.329), validation loss = 0.106 (auc: 0.816 f1: 0.304)\n"
     ]
    },
    {
     "name": "stderr",
     "output_type": "stream",
     "text": [
      "100%|██████████████████████████████████████████| 16/16 [00:00<00:00, 162.58it/s]\n",
      " 23%|██████████▎                                 | 7/30 [00:01<00:06,  3.73it/s]"
     ]
    },
    {
     "name": "stdout",
     "output_type": "stream",
     "text": [
      "Epoch 6:  (best: False)train loss = 0.105 (auc: 0.815 f1: 0.305), validation loss = 0.106 (auc: 0.816 f1: 0.299)\n"
     ]
    },
    {
     "name": "stderr",
     "output_type": "stream",
     "text": [
      "100%|██████████████████████████████████████████| 16/16 [00:00<00:00, 162.32it/s]\n",
      " 27%|███████████▋                                | 8/30 [00:02<00:05,  3.69it/s]"
     ]
    },
    {
     "name": "stdout",
     "output_type": "stream",
     "text": [
      "Epoch 7:  (best: False)train loss = 0.105 (auc: 0.814 f1: 0.330), validation loss = 0.106 (auc: 0.816 f1: 0.300)\n"
     ]
    },
    {
     "name": "stderr",
     "output_type": "stream",
     "text": [
      "100%|██████████████████████████████████████████| 16/16 [00:00<00:00, 146.10it/s]\n",
      " 30%|█████████████▏                              | 9/30 [00:02<00:05,  3.56it/s]"
     ]
    },
    {
     "name": "stdout",
     "output_type": "stream",
     "text": [
      "Epoch 8:  (best: True)train loss = 0.105 (auc: 0.807 f1: 0.330), validation loss = 0.106 (auc: 0.809 f1: 0.319)\n"
     ]
    },
    {
     "name": "stderr",
     "output_type": "stream",
     "text": [
      "100%|██████████████████████████████████████████| 16/16 [00:00<00:00, 128.91it/s]\n",
      " 33%|██████████████▎                            | 10/30 [00:02<00:05,  3.50it/s]"
     ]
    },
    {
     "name": "stdout",
     "output_type": "stream",
     "text": [
      "Epoch 9:  (best: False)train loss = 0.105 (auc: 0.802 f1: 0.330), validation loss = 0.106 (auc: 0.805 f1: 0.317)\n"
     ]
    },
    {
     "name": "stderr",
     "output_type": "stream",
     "text": [
      "100%|██████████████████████████████████████████| 16/16 [00:00<00:00, 153.10it/s]\n",
      " 37%|███████████████▊                           | 11/30 [00:03<00:05,  3.50it/s]"
     ]
    },
    {
     "name": "stdout",
     "output_type": "stream",
     "text": [
      "Epoch 10:  (best: True)train loss = 0.104 (auc: 0.815 f1: 0.377), validation loss = 0.106 (auc: 0.816 f1: 0.348)\n"
     ]
    },
    {
     "name": "stderr",
     "output_type": "stream",
     "text": [
      "100%|██████████████████████████████████████████| 16/16 [00:00<00:00, 147.99it/s]\n",
      " 40%|█████████████████▏                         | 12/30 [00:03<00:05,  3.49it/s]"
     ]
    },
    {
     "name": "stdout",
     "output_type": "stream",
     "text": [
      "Epoch 11:  (best: False)train loss = 0.104 (auc: 0.805 f1: 0.365), validation loss = 0.105 (auc: 0.809 f1: 0.343)\n"
     ]
    },
    {
     "name": "stderr",
     "output_type": "stream",
     "text": [
      "100%|██████████████████████████████████████████| 16/16 [00:00<00:00, 161.89it/s]\n",
      " 43%|██████████████████▋                        | 13/30 [00:03<00:04,  3.55it/s]"
     ]
    },
    {
     "name": "stdout",
     "output_type": "stream",
     "text": [
      "Epoch 12:  (best: True)train loss = 0.104 (auc: 0.814 f1: 0.381), validation loss = 0.105 (auc: 0.812 f1: 0.350)\n"
     ]
    },
    {
     "name": "stderr",
     "output_type": "stream",
     "text": [
      "100%|██████████████████████████████████████████| 16/16 [00:00<00:00, 155.88it/s]\n",
      " 47%|████████████████████                       | 14/30 [00:03<00:04,  3.57it/s]"
     ]
    },
    {
     "name": "stdout",
     "output_type": "stream",
     "text": [
      "Epoch 13:  (best: False)train loss = 0.104 (auc: 0.817 f1: 0.377), validation loss = 0.105 (auc: 0.815 f1: 0.344)\n"
     ]
    },
    {
     "name": "stderr",
     "output_type": "stream",
     "text": [
      "100%|██████████████████████████████████████████| 16/16 [00:00<00:00, 137.18it/s]\n",
      " 50%|█████████████████████▌                     | 15/30 [00:04<00:04,  3.52it/s]"
     ]
    },
    {
     "name": "stdout",
     "output_type": "stream",
     "text": [
      "Epoch 14:  (best: True)train loss = 0.104 (auc: 0.816 f1: 0.394), validation loss = 0.105 (auc: 0.816 f1: 0.361)\n"
     ]
    },
    {
     "name": "stderr",
     "output_type": "stream",
     "text": [
      "100%|██████████████████████████████████████████| 16/16 [00:00<00:00, 157.86it/s]\n",
      " 53%|██████████████████████▉                    | 16/30 [00:04<00:03,  3.56it/s]"
     ]
    },
    {
     "name": "stdout",
     "output_type": "stream",
     "text": [
      "Epoch 15:  (best: False)train loss = 0.104 (auc: 0.806 f1: 0.371), validation loss = 0.105 (auc: 0.803 f1: 0.352)\n"
     ]
    },
    {
     "name": "stderr",
     "output_type": "stream",
     "text": [
      "100%|██████████████████████████████████████████| 16/16 [00:00<00:00, 146.62it/s]\n",
      " 57%|████████████████████████▎                  | 17/30 [00:04<00:03,  3.53it/s]"
     ]
    },
    {
     "name": "stdout",
     "output_type": "stream",
     "text": [
      "Epoch 16:  (best: False)train loss = 0.104 (auc: 0.809 f1: 0.379), validation loss = 0.105 (auc: 0.805 f1: 0.357)\n"
     ]
    },
    {
     "name": "stderr",
     "output_type": "stream",
     "text": [
      "100%|██████████████████████████████████████████| 16/16 [00:00<00:00, 147.01it/s]\n",
      " 60%|█████████████████████████▊                 | 18/30 [00:05<00:03,  3.50it/s]"
     ]
    },
    {
     "name": "stdout",
     "output_type": "stream",
     "text": [
      "Epoch 17:  (best: False)train loss = 0.104 (auc: 0.812 f1: 0.380), validation loss = 0.105 (auc: 0.814 f1: 0.345)\n"
     ]
    },
    {
     "name": "stderr",
     "output_type": "stream",
     "text": [
      "100%|██████████████████████████████████████████| 16/16 [00:00<00:00, 153.26it/s]\n",
      " 63%|███████████████████████████▏               | 19/30 [00:05<00:03,  3.54it/s]"
     ]
    },
    {
     "name": "stdout",
     "output_type": "stream",
     "text": [
      "Epoch 18:  (best: True)train loss = 0.104 (auc: 0.800 f1: 0.421), validation loss = 0.104 (auc: 0.799 f1: 0.410)\n"
     ]
    },
    {
     "name": "stderr",
     "output_type": "stream",
     "text": [
      "100%|██████████████████████████████████████████| 16/16 [00:00<00:00, 142.94it/s]\n",
      " 67%|████████████████████████████▋              | 20/30 [00:05<00:02,  3.57it/s]"
     ]
    },
    {
     "name": "stdout",
     "output_type": "stream",
     "text": [
      "Epoch 19:  (best: False)train loss = 0.103 (auc: 0.805 f1: 0.430), validation loss = 0.104 (auc: 0.804 f1: 0.405)\n"
     ]
    },
    {
     "name": "stderr",
     "output_type": "stream",
     "text": [
      "100%|██████████████████████████████████████████| 16/16 [00:00<00:00, 152.90it/s]\n",
      " 70%|██████████████████████████████             | 21/30 [00:05<00:02,  3.59it/s]"
     ]
    },
    {
     "name": "stdout",
     "output_type": "stream",
     "text": [
      "Epoch 20:  (best: False)train loss = 0.103 (auc: 0.798 f1: 0.436), validation loss = 0.104 (auc: 0.800 f1: 0.410)\n"
     ]
    },
    {
     "name": "stderr",
     "output_type": "stream",
     "text": [
      "100%|██████████████████████████████████████████| 16/16 [00:00<00:00, 154.20it/s]\n",
      " 73%|███████████████████████████████▌           | 22/30 [00:06<00:02,  3.59it/s]"
     ]
    },
    {
     "name": "stdout",
     "output_type": "stream",
     "text": [
      "Epoch 21:  (best: True)train loss = 0.103 (auc: 0.804 f1: 0.433), validation loss = 0.104 (auc: 0.803 f1: 0.410)\n"
     ]
    },
    {
     "name": "stderr",
     "output_type": "stream",
     "text": [
      "100%|██████████████████████████████████████████| 16/16 [00:00<00:00, 150.76it/s]\n",
      " 77%|████████████████████████████████▉          | 23/30 [00:06<00:01,  3.61it/s]"
     ]
    },
    {
     "name": "stdout",
     "output_type": "stream",
     "text": [
      "Epoch 22:  (best: False)train loss = 0.103 (auc: 0.794 f1: 0.431), validation loss = 0.104 (auc: 0.796 f1: 0.408)\n"
     ]
    },
    {
     "name": "stderr",
     "output_type": "stream",
     "text": [
      "100%|██████████████████████████████████████████| 16/16 [00:00<00:00, 171.46it/s]\n",
      " 80%|██████████████████████████████████▍        | 24/30 [00:06<00:01,  3.66it/s]"
     ]
    },
    {
     "name": "stdout",
     "output_type": "stream",
     "text": [
      "Epoch 23:  (best: False)train loss = 0.103 (auc: 0.794 f1: 0.432), validation loss = 0.104 (auc: 0.796 f1: 0.407)\n"
     ]
    },
    {
     "name": "stderr",
     "output_type": "stream",
     "text": [
      "100%|██████████████████████████████████████████| 16/16 [00:00<00:00, 147.82it/s]\n",
      " 83%|███████████████████████████████████▊       | 25/30 [00:06<00:01,  3.63it/s]"
     ]
    },
    {
     "name": "stdout",
     "output_type": "stream",
     "text": [
      "Epoch 24:  (best: False)train loss = 0.103 (auc: 0.799 f1: 0.433), validation loss = 0.104 (auc: 0.800 f1: 0.410)\n"
     ]
    },
    {
     "name": "stderr",
     "output_type": "stream",
     "text": [
      "100%|██████████████████████████████████████████| 16/16 [00:00<00:00, 123.77it/s]\n",
      " 87%|█████████████████████████████████████▎     | 26/30 [00:07<00:01,  3.45it/s]"
     ]
    },
    {
     "name": "stdout",
     "output_type": "stream",
     "text": [
      "Epoch 25:  (best: True)train loss = 0.103 (auc: 0.798 f1: 0.428), validation loss = 0.104 (auc: 0.796 f1: 0.411)\n"
     ]
    },
    {
     "name": "stderr",
     "output_type": "stream",
     "text": [
      "100%|██████████████████████████████████████████| 16/16 [00:00<00:00, 165.86it/s]\n",
      " 90%|██████████████████████████████████████▋    | 27/30 [00:07<00:00,  3.46it/s]"
     ]
    },
    {
     "name": "stdout",
     "output_type": "stream",
     "text": [
      "Epoch 26:  (best: False)train loss = 0.102 (auc: 0.802 f1: 0.434), validation loss = 0.104 (auc: 0.803 f1: 0.403)\n"
     ]
    },
    {
     "name": "stderr",
     "output_type": "stream",
     "text": [
      "100%|██████████████████████████████████████████| 16/16 [00:00<00:00, 144.02it/s]\n",
      " 93%|████████████████████████████████████████▏  | 28/30 [00:07<00:00,  3.50it/s]"
     ]
    },
    {
     "name": "stdout",
     "output_type": "stream",
     "text": [
      "Epoch 27:  (best: False)train loss = 0.103 (auc: 0.798 f1: 0.434), validation loss = 0.104 (auc: 0.802 f1: 0.404)\n"
     ]
    },
    {
     "name": "stderr",
     "output_type": "stream",
     "text": [
      "100%|██████████████████████████████████████████| 16/16 [00:00<00:00, 155.71it/s]\n",
      " 97%|█████████████████████████████████████████▌ | 29/30 [00:08<00:00,  3.57it/s]"
     ]
    },
    {
     "name": "stdout",
     "output_type": "stream",
     "text": [
      "Epoch 28:  (best: False)train loss = 0.102 (auc: 0.801 f1: 0.434), validation loss = 0.104 (auc: 0.804 f1: 0.405)\n"
     ]
    },
    {
     "name": "stderr",
     "output_type": "stream",
     "text": [
      "100%|██████████████████████████████████████████| 16/16 [00:00<00:00, 162.67it/s]\n",
      "100%|███████████████████████████████████████████| 30/30 [00:08<00:00,  3.59it/s]\n"
     ]
    },
    {
     "name": "stdout",
     "output_type": "stream",
     "text": [
      "Epoch 29:  (best: False)train loss = 0.103 (auc: 0.799 f1: 0.439), validation loss = 0.104 (auc: 0.804 f1: 0.404)\n"
     ]
    },
    {
     "name": "stderr",
     "output_type": "stream",
     "text": [
      "100%|██████████████████████████████████████████| 16/16 [00:00<00:00, 156.34it/s]\n",
      "  3%|█▍                                          | 1/30 [00:00<00:08,  3.59it/s]"
     ]
    },
    {
     "name": "stdout",
     "output_type": "stream",
     "text": [
      "Epoch 0:  (best: True)train loss = 0.113 (auc: 0.840 f1: 0.144), validation loss = 0.114 (auc: 0.847 f1: 0.130)\n"
     ]
    },
    {
     "name": "stderr",
     "output_type": "stream",
     "text": [
      "100%|██████████████████████████████████████████| 16/16 [00:00<00:00, 144.34it/s]\n",
      "  7%|██▉                                         | 2/30 [00:00<00:07,  3.59it/s]"
     ]
    },
    {
     "name": "stdout",
     "output_type": "stream",
     "text": [
      "Epoch 1:  (best: True)train loss = 0.109 (auc: 0.826 f1: 0.190), validation loss = 0.110 (auc: 0.835 f1: 0.175)\n"
     ]
    },
    {
     "name": "stderr",
     "output_type": "stream",
     "text": [
      "100%|██████████████████████████████████████████| 16/16 [00:00<00:00, 157.02it/s]\n",
      " 10%|████▍                                       | 3/30 [00:00<00:07,  3.65it/s]"
     ]
    },
    {
     "name": "stdout",
     "output_type": "stream",
     "text": [
      "Epoch 2:  (best: True)train loss = 0.107 (auc: 0.837 f1: 0.276), validation loss = 0.108 (auc: 0.842 f1: 0.265)\n"
     ]
    },
    {
     "name": "stderr",
     "output_type": "stream",
     "text": [
      "100%|██████████████████████████████████████████| 16/16 [00:00<00:00, 146.53it/s]\n",
      " 13%|█████▊                                      | 4/30 [00:01<00:07,  3.64it/s]"
     ]
    },
    {
     "name": "stdout",
     "output_type": "stream",
     "text": [
      "Epoch 3:  (best: True)train loss = 0.106 (auc: 0.827 f1: 0.313), validation loss = 0.107 (auc: 0.834 f1: 0.300)\n"
     ]
    },
    {
     "name": "stderr",
     "output_type": "stream",
     "text": [
      "100%|██████████████████████████████████████████| 16/16 [00:00<00:00, 151.45it/s]\n",
      " 17%|███████▎                                    | 5/30 [00:01<00:06,  3.64it/s]"
     ]
    },
    {
     "name": "stdout",
     "output_type": "stream",
     "text": [
      "Epoch 4:  (best: False)train loss = 0.106 (auc: 0.824 f1: 0.311), validation loss = 0.106 (auc: 0.831 f1: 0.291)\n"
     ]
    },
    {
     "name": "stderr",
     "output_type": "stream",
     "text": [
      "100%|██████████████████████████████████████████| 16/16 [00:00<00:00, 156.32it/s]\n",
      " 20%|████████▊                                   | 6/30 [00:01<00:06,  3.67it/s]"
     ]
    },
    {
     "name": "stdout",
     "output_type": "stream",
     "text": [
      "Epoch 5:  (best: True)train loss = 0.105 (auc: 0.829 f1: 0.332), validation loss = 0.106 (auc: 0.837 f1: 0.315)\n"
     ]
    },
    {
     "name": "stderr",
     "output_type": "stream",
     "text": [
      "100%|██████████████████████████████████████████| 16/16 [00:00<00:00, 164.38it/s]\n",
      " 23%|██████████▎                                 | 7/30 [00:01<00:06,  3.61it/s]"
     ]
    },
    {
     "name": "stdout",
     "output_type": "stream",
     "text": [
      "Epoch 6:  (best: True)train loss = 0.105 (auc: 0.827 f1: 0.343), validation loss = 0.106 (auc: 0.833 f1: 0.322)\n"
     ]
    },
    {
     "name": "stderr",
     "output_type": "stream",
     "text": [
      "100%|██████████████████████████████████████████| 16/16 [00:00<00:00, 137.50it/s]\n",
      " 27%|███████████▋                                | 8/30 [00:02<00:06,  3.53it/s]"
     ]
    },
    {
     "name": "stdout",
     "output_type": "stream",
     "text": [
      "Epoch 7:  (best: True)train loss = 0.105 (auc: 0.824 f1: 0.344), validation loss = 0.106 (auc: 0.833 f1: 0.322)\n"
     ]
    },
    {
     "name": "stderr",
     "output_type": "stream",
     "text": [
      "100%|██████████████████████████████████████████| 16/16 [00:00<00:00, 160.57it/s]\n",
      " 30%|█████████████▏                              | 9/30 [00:02<00:05,  3.59it/s]"
     ]
    },
    {
     "name": "stdout",
     "output_type": "stream",
     "text": [
      "Epoch 8:  (best: True)train loss = 0.105 (auc: 0.828 f1: 0.362), validation loss = 0.105 (auc: 0.833 f1: 0.347)\n"
     ]
    },
    {
     "name": "stderr",
     "output_type": "stream",
     "text": [
      "100%|██████████████████████████████████████████| 16/16 [00:00<00:00, 160.37it/s]\n",
      " 33%|██████████████▎                            | 10/30 [00:02<00:05,  3.64it/s]"
     ]
    },
    {
     "name": "stdout",
     "output_type": "stream",
     "text": [
      "Epoch 9:  (best: True)train loss = 0.104 (auc: 0.830 f1: 0.370), validation loss = 0.105 (auc: 0.837 f1: 0.353)\n"
     ]
    },
    {
     "name": "stderr",
     "output_type": "stream",
     "text": [
      "100%|██████████████████████████████████████████| 16/16 [00:00<00:00, 153.62it/s]\n",
      " 37%|███████████████▊                           | 11/30 [00:03<00:05,  3.59it/s]"
     ]
    },
    {
     "name": "stdout",
     "output_type": "stream",
     "text": [
      "Epoch 10:  (best: False)train loss = 0.104 (auc: 0.827 f1: 0.370), validation loss = 0.105 (auc: 0.830 f1: 0.350)\n"
     ]
    },
    {
     "name": "stderr",
     "output_type": "stream",
     "text": [
      "100%|██████████████████████████████████████████| 16/16 [00:00<00:00, 157.15it/s]\n",
      " 40%|█████████████████▏                         | 12/30 [00:03<00:04,  3.61it/s]"
     ]
    },
    {
     "name": "stdout",
     "output_type": "stream",
     "text": [
      "Epoch 11:  (best: False)train loss = 0.104 (auc: 0.831 f1: 0.369), validation loss = 0.105 (auc: 0.835 f1: 0.348)\n"
     ]
    },
    {
     "name": "stderr",
     "output_type": "stream",
     "text": [
      "100%|██████████████████████████████████████████| 16/16 [00:00<00:00, 148.33it/s]\n",
      " 43%|██████████████████▋                        | 13/30 [00:03<00:04,  3.56it/s]"
     ]
    },
    {
     "name": "stdout",
     "output_type": "stream",
     "text": [
      "Epoch 12:  (best: True)train loss = 0.103 (auc: 0.828 f1: 0.404), validation loss = 0.104 (auc: 0.832 f1: 0.382)\n"
     ]
    },
    {
     "name": "stderr",
     "output_type": "stream",
     "text": [
      "100%|██████████████████████████████████████████| 16/16 [00:00<00:00, 151.95it/s]\n",
      " 47%|████████████████████                       | 14/30 [00:03<00:04,  3.55it/s]"
     ]
    },
    {
     "name": "stdout",
     "output_type": "stream",
     "text": [
      "Epoch 13:  (best: True)train loss = 0.103 (auc: 0.830 f1: 0.410), validation loss = 0.104 (auc: 0.835 f1: 0.389)\n"
     ]
    },
    {
     "name": "stderr",
     "output_type": "stream",
     "text": [
      "100%|██████████████████████████████████████████| 16/16 [00:00<00:00, 152.39it/s]\n",
      " 50%|█████████████████████▌                     | 15/30 [00:04<00:04,  3.62it/s]"
     ]
    },
    {
     "name": "stdout",
     "output_type": "stream",
     "text": [
      "Epoch 14:  (best: False)train loss = 0.103 (auc: 0.828 f1: 0.410), validation loss = 0.104 (auc: 0.833 f1: 0.380)\n"
     ]
    },
    {
     "name": "stderr",
     "output_type": "stream",
     "text": [
      "100%|██████████████████████████████████████████| 16/16 [00:00<00:00, 163.37it/s]\n",
      " 53%|██████████████████████▉                    | 16/30 [00:04<00:03,  3.66it/s]"
     ]
    },
    {
     "name": "stdout",
     "output_type": "stream",
     "text": [
      "Epoch 15:  (best: True)train loss = 0.103 (auc: 0.825 f1: 0.419), validation loss = 0.103 (auc: 0.831 f1: 0.403)\n"
     ]
    },
    {
     "name": "stderr",
     "output_type": "stream",
     "text": [
      "100%|██████████████████████████████████████████| 16/16 [00:00<00:00, 155.44it/s]\n",
      " 57%|████████████████████████▎                  | 17/30 [00:04<00:03,  3.69it/s]"
     ]
    },
    {
     "name": "stdout",
     "output_type": "stream",
     "text": [
      "Epoch 16:  (best: False)train loss = 0.103 (auc: 0.826 f1: 0.417), validation loss = 0.104 (auc: 0.830 f1: 0.403)\n"
     ]
    },
    {
     "name": "stderr",
     "output_type": "stream",
     "text": [
      "100%|██████████████████████████████████████████| 16/16 [00:00<00:00, 164.20it/s]\n",
      " 60%|█████████████████████████▊                 | 18/30 [00:04<00:03,  3.75it/s]"
     ]
    },
    {
     "name": "stdout",
     "output_type": "stream",
     "text": [
      "Epoch 17:  (best: False)train loss = 0.102 (auc: 0.826 f1: 0.419), validation loss = 0.103 (auc: 0.829 f1: 0.402)\n"
     ]
    },
    {
     "name": "stderr",
     "output_type": "stream",
     "text": [
      "100%|██████████████████████████████████████████| 16/16 [00:00<00:00, 169.07it/s]\n",
      " 63%|███████████████████████████▏               | 19/30 [00:05<00:02,  3.80it/s]"
     ]
    },
    {
     "name": "stdout",
     "output_type": "stream",
     "text": [
      "Epoch 18:  (best: True)train loss = 0.103 (auc: 0.825 f1: 0.418), validation loss = 0.104 (auc: 0.828 f1: 0.403)\n"
     ]
    },
    {
     "name": "stderr",
     "output_type": "stream",
     "text": [
      "100%|██████████████████████████████████████████| 16/16 [00:00<00:00, 146.64it/s]\n",
      " 67%|████████████████████████████▋              | 20/30 [00:05<00:02,  3.54it/s]"
     ]
    },
    {
     "name": "stdout",
     "output_type": "stream",
     "text": [
      "Epoch 19:  (best: False)train loss = 0.103 (auc: 0.824 f1: 0.420), validation loss = 0.103 (auc: 0.828 f1: 0.398)\n"
     ]
    },
    {
     "name": "stderr",
     "output_type": "stream",
     "text": [
      "100%|██████████████████████████████████████████| 16/16 [00:00<00:00, 148.18it/s]\n",
      " 70%|██████████████████████████████             | 21/30 [00:05<00:02,  3.41it/s]"
     ]
    },
    {
     "name": "stdout",
     "output_type": "stream",
     "text": [
      "Epoch 20:  (best: False)train loss = 0.103 (auc: 0.821 f1: 0.422), validation loss = 0.103 (auc: 0.825 f1: 0.400)\n"
     ]
    },
    {
     "name": "stderr",
     "output_type": "stream",
     "text": [
      "100%|██████████████████████████████████████████| 16/16 [00:00<00:00, 155.30it/s]\n",
      " 73%|███████████████████████████████▌           | 22/30 [00:06<00:02,  3.47it/s]"
     ]
    },
    {
     "name": "stdout",
     "output_type": "stream",
     "text": [
      "Epoch 21:  (best: False)train loss = 0.102 (auc: 0.823 f1: 0.422), validation loss = 0.103 (auc: 0.826 f1: 0.393)\n"
     ]
    },
    {
     "name": "stderr",
     "output_type": "stream",
     "text": [
      "100%|██████████████████████████████████████████| 16/16 [00:00<00:00, 160.57it/s]\n",
      " 77%|████████████████████████████████▉          | 23/30 [00:06<00:01,  3.51it/s]"
     ]
    },
    {
     "name": "stdout",
     "output_type": "stream",
     "text": [
      "Epoch 22:  (best: False)train loss = 0.103 (auc: 0.818 f1: 0.424), validation loss = 0.103 (auc: 0.822 f1: 0.397)\n"
     ]
    },
    {
     "name": "stderr",
     "output_type": "stream",
     "text": [
      "100%|██████████████████████████████████████████| 16/16 [00:00<00:00, 130.28it/s]\n",
      " 80%|██████████████████████████████████▍        | 24/30 [00:06<00:01,  3.44it/s]"
     ]
    },
    {
     "name": "stdout",
     "output_type": "stream",
     "text": [
      "Epoch 23:  (best: False)train loss = 0.103 (auc: 0.819 f1: 0.424), validation loss = 0.103 (auc: 0.823 f1: 0.397)\n"
     ]
    },
    {
     "name": "stderr",
     "output_type": "stream",
     "text": [
      "100%|██████████████████████████████████████████| 16/16 [00:00<00:00, 147.35it/s]\n",
      " 83%|███████████████████████████████████▊       | 25/30 [00:06<00:01,  3.47it/s]"
     ]
    },
    {
     "name": "stdout",
     "output_type": "stream",
     "text": [
      "Epoch 24:  (best: False)train loss = 0.102 (auc: 0.818 f1: 0.426), validation loss = 0.103 (auc: 0.821 f1: 0.398)\n"
     ]
    },
    {
     "name": "stderr",
     "output_type": "stream",
     "text": [
      "100%|██████████████████████████████████████████| 16/16 [00:00<00:00, 152.02it/s]\n",
      " 87%|█████████████████████████████████████▎     | 26/30 [00:07<00:01,  3.49it/s]"
     ]
    },
    {
     "name": "stdout",
     "output_type": "stream",
     "text": [
      "Epoch 25:  (best: False)train loss = 0.103 (auc: 0.819 f1: 0.427), validation loss = 0.103 (auc: 0.821 f1: 0.400)\n"
     ]
    },
    {
     "name": "stderr",
     "output_type": "stream",
     "text": [
      "100%|██████████████████████████████████████████| 16/16 [00:00<00:00, 137.98it/s]\n",
      " 90%|██████████████████████████████████████▋    | 27/30 [00:07<00:00,  3.45it/s]"
     ]
    },
    {
     "name": "stdout",
     "output_type": "stream",
     "text": [
      "Epoch 26:  (best: True)train loss = 0.103 (auc: 0.814 f1: 0.430), validation loss = 0.103 (auc: 0.818 f1: 0.404)\n"
     ]
    },
    {
     "name": "stderr",
     "output_type": "stream",
     "text": [
      "100%|██████████████████████████████████████████| 16/16 [00:00<00:00, 142.76it/s]\n",
      " 93%|████████████████████████████████████████▏  | 28/30 [00:07<00:00,  3.41it/s]"
     ]
    },
    {
     "name": "stdout",
     "output_type": "stream",
     "text": [
      "Epoch 27:  (best: False)train loss = 0.103 (auc: 0.818 f1: 0.426), validation loss = 0.103 (auc: 0.821 f1: 0.400)\n"
     ]
    },
    {
     "name": "stderr",
     "output_type": "stream",
     "text": [
      "100%|██████████████████████████████████████████| 16/16 [00:00<00:00, 149.01it/s]\n",
      " 97%|█████████████████████████████████████████▌ | 29/30 [00:08<00:00,  3.43it/s]"
     ]
    },
    {
     "name": "stdout",
     "output_type": "stream",
     "text": [
      "Epoch 28:  (best: False)train loss = 0.102 (auc: 0.817 f1: 0.443), validation loss = 0.103 (auc: 0.820 f1: 0.404)\n"
     ]
    },
    {
     "name": "stderr",
     "output_type": "stream",
     "text": [
      "100%|██████████████████████████████████████████| 16/16 [00:00<00:00, 145.53it/s]\n",
      "100%|███████████████████████████████████████████| 30/30 [00:08<00:00,  3.55it/s]\n"
     ]
    },
    {
     "name": "stdout",
     "output_type": "stream",
     "text": [
      "Epoch 29:  (best: False)train loss = 0.102 (auc: 0.811 f1: 0.429), validation loss = 0.103 (auc: 0.815 f1: 0.392)\n"
     ]
    },
    {
     "name": "stderr",
     "output_type": "stream",
     "text": [
      "100%|██████████████████████████████████████████| 16/16 [00:00<00:00, 140.17it/s]\n",
      "  3%|█▍                                          | 1/30 [00:00<00:08,  3.57it/s]"
     ]
    },
    {
     "name": "stdout",
     "output_type": "stream",
     "text": [
      "Epoch 0:  (best: True)train loss = 0.112 (auc: 0.781 f1: 0.157), validation loss = 0.113 (auc: 0.783 f1: 0.141)\n"
     ]
    },
    {
     "name": "stderr",
     "output_type": "stream",
     "text": [
      "100%|██████████████████████████████████████████| 16/16 [00:00<00:00, 167.55it/s]\n",
      "  7%|██▉                                         | 2/30 [00:00<00:07,  3.70it/s]"
     ]
    },
    {
     "name": "stdout",
     "output_type": "stream",
     "text": [
      "Epoch 1:  (best: True)train loss = 0.108 (auc: 0.818 f1: 0.267), validation loss = 0.109 (auc: 0.824 f1: 0.228)\n"
     ]
    },
    {
     "name": "stderr",
     "output_type": "stream",
     "text": [
      "100%|██████████████████████████████████████████| 16/16 [00:00<00:00, 165.72it/s]\n",
      " 10%|████▍                                       | 3/30 [00:00<00:07,  3.75it/s]"
     ]
    },
    {
     "name": "stdout",
     "output_type": "stream",
     "text": [
      "Epoch 2:  (best: True)train loss = 0.106 (auc: 0.816 f1: 0.297), validation loss = 0.107 (auc: 0.822 f1: 0.288)\n"
     ]
    },
    {
     "name": "stderr",
     "output_type": "stream",
     "text": [
      "100%|██████████████████████████████████████████| 16/16 [00:00<00:00, 155.16it/s]\n",
      " 13%|█████▊                                      | 4/30 [00:01<00:06,  3.74it/s]"
     ]
    },
    {
     "name": "stdout",
     "output_type": "stream",
     "text": [
      "Epoch 3:  (best: False)train loss = 0.106 (auc: 0.812 f1: 0.300), validation loss = 0.107 (auc: 0.818 f1: 0.277)\n"
     ]
    },
    {
     "name": "stderr",
     "output_type": "stream",
     "text": [
      "100%|██████████████████████████████████████████| 16/16 [00:00<00:00, 169.98it/s]\n",
      " 17%|███████▎                                    | 5/30 [00:01<00:06,  3.75it/s]"
     ]
    },
    {
     "name": "stdout",
     "output_type": "stream",
     "text": [
      "Epoch 4:  (best: True)train loss = 0.105 (auc: 0.811 f1: 0.317), validation loss = 0.107 (auc: 0.816 f1: 0.291)\n"
     ]
    },
    {
     "name": "stderr",
     "output_type": "stream",
     "text": [
      "100%|██████████████████████████████████████████| 16/16 [00:00<00:00, 128.09it/s]\n",
      " 20%|████████▊                                   | 6/30 [00:01<00:06,  3.54it/s]"
     ]
    },
    {
     "name": "stdout",
     "output_type": "stream",
     "text": [
      "Epoch 5:  (best: True)train loss = 0.105 (auc: 0.809 f1: 0.312), validation loss = 0.106 (auc: 0.813 f1: 0.299)\n"
     ]
    },
    {
     "name": "stderr",
     "output_type": "stream",
     "text": [
      "100%|██████████████████████████████████████████| 16/16 [00:00<00:00, 124.91it/s]\n",
      " 23%|██████████▎                                 | 7/30 [00:01<00:06,  3.50it/s]"
     ]
    },
    {
     "name": "stdout",
     "output_type": "stream",
     "text": [
      "Epoch 6:  (best: False)train loss = 0.106 (auc: 0.808 f1: 0.320), validation loss = 0.106 (auc: 0.815 f1: 0.290)\n"
     ]
    },
    {
     "name": "stderr",
     "output_type": "stream",
     "text": [
      "100%|██████████████████████████████████████████| 16/16 [00:00<00:00, 159.91it/s]\n",
      " 27%|███████████▋                                | 8/30 [00:02<00:06,  3.57it/s]"
     ]
    },
    {
     "name": "stdout",
     "output_type": "stream",
     "text": [
      "Epoch 7:  (best: True)train loss = 0.105 (auc: 0.804 f1: 0.334), validation loss = 0.106 (auc: 0.809 f1: 0.313)\n"
     ]
    },
    {
     "name": "stderr",
     "output_type": "stream",
     "text": [
      "100%|██████████████████████████████████████████| 16/16 [00:00<00:00, 165.11it/s]\n",
      " 30%|█████████████▏                              | 9/30 [00:02<00:05,  3.66it/s]"
     ]
    },
    {
     "name": "stdout",
     "output_type": "stream",
     "text": [
      "Epoch 8:  (best: True)train loss = 0.104 (auc: 0.810 f1: 0.360), validation loss = 0.106 (auc: 0.816 f1: 0.330)\n"
     ]
    },
    {
     "name": "stderr",
     "output_type": "stream",
     "text": [
      "100%|██████████████████████████████████████████| 16/16 [00:00<00:00, 160.63it/s]\n",
      " 33%|██████████████▎                            | 10/30 [00:02<00:05,  3.65it/s]"
     ]
    },
    {
     "name": "stdout",
     "output_type": "stream",
     "text": [
      "Epoch 9:  (best: True)train loss = 0.105 (auc: 0.807 f1: 0.363), validation loss = 0.106 (auc: 0.814 f1: 0.333)\n"
     ]
    },
    {
     "name": "stderr",
     "output_type": "stream",
     "text": [
      "100%|██████████████████████████████████████████| 16/16 [00:00<00:00, 152.78it/s]\n",
      " 37%|███████████████▊                           | 11/30 [00:03<00:05,  3.60it/s]"
     ]
    },
    {
     "name": "stdout",
     "output_type": "stream",
     "text": [
      "Epoch 10:  (best: True)train loss = 0.104 (auc: 0.809 f1: 0.362), validation loss = 0.105 (auc: 0.815 f1: 0.341)\n"
     ]
    },
    {
     "name": "stderr",
     "output_type": "stream",
     "text": [
      "100%|██████████████████████████████████████████| 16/16 [00:00<00:00, 150.04it/s]\n",
      " 40%|█████████████████▏                         | 12/30 [00:03<00:05,  3.58it/s]"
     ]
    },
    {
     "name": "stdout",
     "output_type": "stream",
     "text": [
      "Epoch 11:  (best: True)train loss = 0.104 (auc: 0.807 f1: 0.399), validation loss = 0.105 (auc: 0.812 f1: 0.372)\n"
     ]
    },
    {
     "name": "stderr",
     "output_type": "stream",
     "text": [
      "100%|██████████████████████████████████████████| 16/16 [00:00<00:00, 156.38it/s]\n",
      " 43%|██████████████████▋                        | 13/30 [00:03<00:04,  3.59it/s]"
     ]
    },
    {
     "name": "stdout",
     "output_type": "stream",
     "text": [
      "Epoch 12:  (best: True)train loss = 0.104 (auc: 0.802 f1: 0.407), validation loss = 0.105 (auc: 0.807 f1: 0.378)\n"
     ]
    },
    {
     "name": "stderr",
     "output_type": "stream",
     "text": [
      "100%|██████████████████████████████████████████| 16/16 [00:00<00:00, 150.65it/s]\n",
      " 47%|████████████████████                       | 14/30 [00:03<00:04,  3.60it/s]"
     ]
    },
    {
     "name": "stdout",
     "output_type": "stream",
     "text": [
      "Epoch 13:  (best: True)train loss = 0.104 (auc: 0.803 f1: 0.412), validation loss = 0.104 (auc: 0.810 f1: 0.386)\n"
     ]
    },
    {
     "name": "stderr",
     "output_type": "stream",
     "text": [
      "100%|██████████████████████████████████████████| 16/16 [00:00<00:00, 159.96it/s]\n",
      " 50%|█████████████████████▌                     | 15/30 [00:04<00:04,  3.65it/s]"
     ]
    },
    {
     "name": "stdout",
     "output_type": "stream",
     "text": [
      "Epoch 14:  (best: False)train loss = 0.103 (auc: 0.800 f1: 0.414), validation loss = 0.105 (auc: 0.807 f1: 0.378)\n"
     ]
    },
    {
     "name": "stderr",
     "output_type": "stream",
     "text": [
      "100%|██████████████████████████████████████████| 16/16 [00:00<00:00, 160.14it/s]\n",
      " 53%|██████████████████████▉                    | 16/30 [00:04<00:03,  3.69it/s]"
     ]
    },
    {
     "name": "stdout",
     "output_type": "stream",
     "text": [
      "Epoch 15:  (best: True)train loss = 0.103 (auc: 0.793 f1: 0.405), validation loss = 0.104 (auc: 0.800 f1: 0.389)\n"
     ]
    },
    {
     "name": "stderr",
     "output_type": "stream",
     "text": [
      "100%|██████████████████████████████████████████| 16/16 [00:00<00:00, 167.07it/s]\n",
      " 57%|████████████████████████▎                  | 17/30 [00:04<00:03,  3.72it/s]"
     ]
    },
    {
     "name": "stdout",
     "output_type": "stream",
     "text": [
      "Epoch 16:  (best: False)train loss = 0.103 (auc: 0.790 f1: 0.403), validation loss = 0.105 (auc: 0.797 f1: 0.368)\n"
     ]
    },
    {
     "name": "stderr",
     "output_type": "stream",
     "text": [
      "100%|██████████████████████████████████████████| 16/16 [00:00<00:00, 148.99it/s]\n",
      " 60%|█████████████████████████▊                 | 18/30 [00:04<00:03,  3.69it/s]"
     ]
    },
    {
     "name": "stdout",
     "output_type": "stream",
     "text": [
      "Epoch 17:  (best: False)train loss = 0.103 (auc: 0.793 f1: 0.414), validation loss = 0.104 (auc: 0.797 f1: 0.388)\n"
     ]
    },
    {
     "name": "stderr",
     "output_type": "stream",
     "text": [
      "100%|██████████████████████████████████████████| 16/16 [00:00<00:00, 158.33it/s]\n",
      " 63%|███████████████████████████▏               | 19/30 [00:05<00:02,  3.67it/s]"
     ]
    },
    {
     "name": "stdout",
     "output_type": "stream",
     "text": [
      "Epoch 18:  (best: False)train loss = 0.103 (auc: 0.795 f1: 0.416), validation loss = 0.104 (auc: 0.803 f1: 0.376)\n"
     ]
    },
    {
     "name": "stderr",
     "output_type": "stream",
     "text": [
      "100%|██████████████████████████████████████████| 16/16 [00:00<00:00, 154.00it/s]\n",
      " 67%|████████████████████████████▋              | 20/30 [00:05<00:02,  3.67it/s]"
     ]
    },
    {
     "name": "stdout",
     "output_type": "stream",
     "text": [
      "Epoch 19:  (best: False)train loss = 0.103 (auc: 0.785 f1: 0.418), validation loss = 0.104 (auc: 0.793 f1: 0.381)\n"
     ]
    },
    {
     "name": "stderr",
     "output_type": "stream",
     "text": [
      "100%|██████████████████████████████████████████| 16/16 [00:00<00:00, 151.11it/s]\n",
      " 70%|██████████████████████████████             | 21/30 [00:05<00:02,  3.63it/s]"
     ]
    },
    {
     "name": "stdout",
     "output_type": "stream",
     "text": [
      "Epoch 20:  (best: False)train loss = 0.103 (auc: 0.792 f1: 0.415), validation loss = 0.104 (auc: 0.797 f1: 0.379)\n"
     ]
    },
    {
     "name": "stderr",
     "output_type": "stream",
     "text": [
      "100%|██████████████████████████████████████████| 16/16 [00:00<00:00, 161.87it/s]\n",
      " 73%|███████████████████████████████▌           | 22/30 [00:06<00:02,  3.65it/s]"
     ]
    },
    {
     "name": "stdout",
     "output_type": "stream",
     "text": [
      "Epoch 21:  (best: False)train loss = 0.103 (auc: 0.796 f1: 0.419), validation loss = 0.104 (auc: 0.802 f1: 0.381)\n"
     ]
    },
    {
     "name": "stderr",
     "output_type": "stream",
     "text": [
      "100%|██████████████████████████████████████████| 16/16 [00:00<00:00, 169.07it/s]\n",
      " 77%|████████████████████████████████▉          | 23/30 [00:06<00:01,  3.74it/s]"
     ]
    },
    {
     "name": "stdout",
     "output_type": "stream",
     "text": [
      "Epoch 22:  (best: False)train loss = 0.103 (auc: 0.793 f1: 0.422), validation loss = 0.104 (auc: 0.799 f1: 0.383)\n"
     ]
    },
    {
     "name": "stderr",
     "output_type": "stream",
     "text": [
      "100%|██████████████████████████████████████████| 16/16 [00:00<00:00, 147.45it/s]\n",
      " 80%|██████████████████████████████████▍        | 24/30 [00:06<00:01,  3.68it/s]"
     ]
    },
    {
     "name": "stdout",
     "output_type": "stream",
     "text": [
      "Epoch 23:  (best: False)train loss = 0.103 (auc: 0.789 f1: 0.419), validation loss = 0.104 (auc: 0.795 f1: 0.383)\n"
     ]
    },
    {
     "name": "stderr",
     "output_type": "stream",
     "text": [
      "100%|██████████████████████████████████████████| 16/16 [00:00<00:00, 150.72it/s]\n",
      " 83%|███████████████████████████████████▊       | 25/30 [00:06<00:01,  3.68it/s]"
     ]
    },
    {
     "name": "stdout",
     "output_type": "stream",
     "text": [
      "Epoch 24:  (best: False)train loss = 0.103 (auc: 0.794 f1: 0.428), validation loss = 0.104 (auc: 0.799 f1: 0.388)\n"
     ]
    },
    {
     "name": "stderr",
     "output_type": "stream",
     "text": [
      "100%|██████████████████████████████████████████| 16/16 [00:00<00:00, 160.77it/s]\n",
      " 87%|█████████████████████████████████████▎     | 26/30 [00:07<00:01,  3.70it/s]"
     ]
    },
    {
     "name": "stdout",
     "output_type": "stream",
     "text": [
      "Epoch 25:  (best: False)train loss = 0.103 (auc: 0.792 f1: 0.424), validation loss = 0.104 (auc: 0.798 f1: 0.387)\n"
     ]
    },
    {
     "name": "stderr",
     "output_type": "stream",
     "text": [
      "100%|██████████████████████████████████████████| 16/16 [00:00<00:00, 155.76it/s]\n",
      " 90%|██████████████████████████████████████▋    | 27/30 [00:07<00:00,  3.52it/s]"
     ]
    },
    {
     "name": "stdout",
     "output_type": "stream",
     "text": [
      "Epoch 26:  (best: True)train loss = 0.103 (auc: 0.793 f1: 0.423), validation loss = 0.104 (auc: 0.798 f1: 0.400)\n"
     ]
    },
    {
     "name": "stderr",
     "output_type": "stream",
     "text": [
      "100%|██████████████████████████████████████████| 16/16 [00:00<00:00, 139.51it/s]\n",
      " 93%|████████████████████████████████████████▏  | 28/30 [00:07<00:00,  3.44it/s]"
     ]
    },
    {
     "name": "stdout",
     "output_type": "stream",
     "text": [
      "Epoch 27:  (best: False)train loss = 0.103 (auc: 0.790 f1: 0.427), validation loss = 0.104 (auc: 0.795 f1: 0.384)\n"
     ]
    },
    {
     "name": "stderr",
     "output_type": "stream",
     "text": [
      "100%|██████████████████████████████████████████| 16/16 [00:00<00:00, 135.48it/s]\n",
      " 97%|█████████████████████████████████████████▌ | 29/30 [00:08<00:00,  3.46it/s]"
     ]
    },
    {
     "name": "stdout",
     "output_type": "stream",
     "text": [
      "Epoch 28:  (best: True)train loss = 0.103 (auc: 0.794 f1: 0.425), validation loss = 0.104 (auc: 0.798 f1: 0.401)\n"
     ]
    },
    {
     "name": "stderr",
     "output_type": "stream",
     "text": [
      "100%|██████████████████████████████████████████| 16/16 [00:00<00:00, 162.72it/s]\n",
      "100%|███████████████████████████████████████████| 30/30 [00:08<00:00,  3.62it/s]\n"
     ]
    },
    {
     "name": "stdout",
     "output_type": "stream",
     "text": [
      "Epoch 29:  (best: False)train loss = 0.104 (auc: 0.786 f1: 0.419), validation loss = 0.104 (auc: 0.791 f1: 0.391)\n"
     ]
    },
    {
     "name": "stderr",
     "output_type": "stream",
     "text": [
      "100%|██████████████████████████████████████████| 16/16 [00:00<00:00, 168.69it/s]\n",
      "  3%|█▍                                          | 1/30 [00:00<00:07,  3.90it/s]"
     ]
    },
    {
     "name": "stdout",
     "output_type": "stream",
     "text": [
      "Epoch 0:  (best: True)train loss = 0.113 (auc: 0.849 f1: 0.144), validation loss = 0.114 (auc: 0.847 f1: 0.133)\n"
     ]
    },
    {
     "name": "stderr",
     "output_type": "stream",
     "text": [
      "100%|██████████████████████████████████████████| 16/16 [00:00<00:00, 168.07it/s]\n",
      "  7%|██▉                                         | 2/30 [00:00<00:07,  3.92it/s]"
     ]
    },
    {
     "name": "stdout",
     "output_type": "stream",
     "text": [
      "Epoch 1:  (best: True)train loss = 0.108 (auc: 0.838 f1: 0.283), validation loss = 0.109 (auc: 0.845 f1: 0.261)\n"
     ]
    },
    {
     "name": "stderr",
     "output_type": "stream",
     "text": [
      "100%|██████████████████████████████████████████| 16/16 [00:00<00:00, 161.33it/s]\n",
      " 10%|████▍                                       | 3/30 [00:00<00:07,  3.81it/s]"
     ]
    },
    {
     "name": "stdout",
     "output_type": "stream",
     "text": [
      "Epoch 2:  (best: True)train loss = 0.107 (auc: 0.842 f1: 0.276), validation loss = 0.107 (auc: 0.850 f1: 0.263)\n"
     ]
    },
    {
     "name": "stderr",
     "output_type": "stream",
     "text": [
      "100%|██████████████████████████████████████████| 16/16 [00:00<00:00, 156.33it/s]\n",
      " 13%|█████▊                                      | 4/30 [00:01<00:06,  3.77it/s]"
     ]
    },
    {
     "name": "stdout",
     "output_type": "stream",
     "text": [
      "Epoch 3:  (best: False)train loss = 0.106 (auc: 0.832 f1: 0.285), validation loss = 0.107 (auc: 0.838 f1: 0.258)\n"
     ]
    },
    {
     "name": "stderr",
     "output_type": "stream",
     "text": [
      "100%|██████████████████████████████████████████| 16/16 [00:00<00:00, 167.07it/s]\n",
      " 17%|███████▎                                    | 5/30 [00:01<00:06,  3.79it/s]"
     ]
    },
    {
     "name": "stdout",
     "output_type": "stream",
     "text": [
      "Epoch 4:  (best: True)train loss = 0.106 (auc: 0.830 f1: 0.317), validation loss = 0.107 (auc: 0.836 f1: 0.294)\n"
     ]
    },
    {
     "name": "stderr",
     "output_type": "stream",
     "text": [
      "100%|██████████████████████████████████████████| 16/16 [00:00<00:00, 164.41it/s]\n",
      " 20%|████████▊                                   | 6/30 [00:01<00:06,  3.81it/s]"
     ]
    },
    {
     "name": "stdout",
     "output_type": "stream",
     "text": [
      "Epoch 5:  (best: True)train loss = 0.105 (auc: 0.828 f1: 0.342), validation loss = 0.106 (auc: 0.835 f1: 0.313)\n"
     ]
    },
    {
     "name": "stderr",
     "output_type": "stream",
     "text": [
      "100%|██████████████████████████████████████████| 16/16 [00:00<00:00, 151.43it/s]\n",
      " 23%|██████████▎                                 | 7/30 [00:01<00:06,  3.58it/s]"
     ]
    },
    {
     "name": "stdout",
     "output_type": "stream",
     "text": [
      "Epoch 6:  (best: True)train loss = 0.105 (auc: 0.826 f1: 0.359), validation loss = 0.106 (auc: 0.832 f1: 0.339)\n"
     ]
    },
    {
     "name": "stderr",
     "output_type": "stream",
     "text": [
      "100%|██████████████████████████████████████████| 16/16 [00:00<00:00, 155.26it/s]\n",
      " 27%|███████████▋                                | 8/30 [00:02<00:06,  3.58it/s]"
     ]
    },
    {
     "name": "stdout",
     "output_type": "stream",
     "text": [
      "Epoch 7:  (best: False)train loss = 0.105 (auc: 0.825 f1: 0.362), validation loss = 0.105 (auc: 0.833 f1: 0.330)\n"
     ]
    },
    {
     "name": "stderr",
     "output_type": "stream",
     "text": [
      "100%|██████████████████████████████████████████| 16/16 [00:00<00:00, 165.59it/s]\n",
      " 30%|█████████████▏                              | 9/30 [00:02<00:05,  3.64it/s]"
     ]
    },
    {
     "name": "stdout",
     "output_type": "stream",
     "text": [
      "Epoch 8:  (best: True)train loss = 0.104 (auc: 0.832 f1: 0.382), validation loss = 0.105 (auc: 0.842 f1: 0.357)\n"
     ]
    },
    {
     "name": "stderr",
     "output_type": "stream",
     "text": [
      "100%|██████████████████████████████████████████| 16/16 [00:00<00:00, 123.79it/s]\n",
      " 33%|██████████████▎                            | 10/30 [00:02<00:05,  3.51it/s]"
     ]
    },
    {
     "name": "stdout",
     "output_type": "stream",
     "text": [
      "Epoch 9:  (best: True)train loss = 0.104 (auc: 0.825 f1: 0.391), validation loss = 0.105 (auc: 0.834 f1: 0.363)\n"
     ]
    },
    {
     "name": "stderr",
     "output_type": "stream",
     "text": [
      "100%|██████████████████████████████████████████| 16/16 [00:00<00:00, 143.19it/s]\n",
      " 37%|███████████████▊                           | 11/30 [00:03<00:05,  3.40it/s]"
     ]
    },
    {
     "name": "stdout",
     "output_type": "stream",
     "text": [
      "Epoch 10:  (best: False)train loss = 0.104 (auc: 0.827 f1: 0.387), validation loss = 0.105 (auc: 0.835 f1: 0.360)\n"
     ]
    },
    {
     "name": "stderr",
     "output_type": "stream",
     "text": [
      "100%|██████████████████████████████████████████| 16/16 [00:00<00:00, 161.87it/s]\n",
      " 40%|█████████████████▏                         | 12/30 [00:03<00:05,  3.50it/s]"
     ]
    },
    {
     "name": "stdout",
     "output_type": "stream",
     "text": [
      "Epoch 11:  (best: True)train loss = 0.103 (auc: 0.828 f1: 0.418), validation loss = 0.104 (auc: 0.838 f1: 0.392)\n"
     ]
    },
    {
     "name": "stderr",
     "output_type": "stream",
     "text": [
      "100%|██████████████████████████████████████████| 16/16 [00:00<00:00, 166.10it/s]\n",
      " 43%|██████████████████▋                        | 13/30 [00:03<00:04,  3.58it/s]"
     ]
    },
    {
     "name": "stdout",
     "output_type": "stream",
     "text": [
      "Epoch 12:  (best: True)train loss = 0.103 (auc: 0.826 f1: 0.438), validation loss = 0.104 (auc: 0.832 f1: 0.417)\n"
     ]
    },
    {
     "name": "stderr",
     "output_type": "stream",
     "text": [
      "100%|██████████████████████████████████████████| 16/16 [00:00<00:00, 168.02it/s]\n",
      " 47%|████████████████████                       | 14/30 [00:03<00:04,  3.67it/s]"
     ]
    },
    {
     "name": "stdout",
     "output_type": "stream",
     "text": [
      "Epoch 13:  (best: True)train loss = 0.102 (auc: 0.826 f1: 0.441), validation loss = 0.104 (auc: 0.831 f1: 0.421)\n"
     ]
    },
    {
     "name": "stderr",
     "output_type": "stream",
     "text": [
      "100%|██████████████████████████████████████████| 16/16 [00:00<00:00, 166.07it/s]\n",
      " 50%|█████████████████████▌                     | 15/30 [00:04<00:04,  3.71it/s]"
     ]
    },
    {
     "name": "stdout",
     "output_type": "stream",
     "text": [
      "Epoch 14:  (best: False)train loss = 0.102 (auc: 0.821 f1: 0.442), validation loss = 0.104 (auc: 0.826 f1: 0.413)\n"
     ]
    },
    {
     "name": "stderr",
     "output_type": "stream",
     "text": [
      "100%|██████████████████████████████████████████| 16/16 [00:00<00:00, 155.59it/s]\n",
      " 53%|██████████████████████▉                    | 16/30 [00:04<00:03,  3.68it/s]"
     ]
    },
    {
     "name": "stdout",
     "output_type": "stream",
     "text": [
      "Epoch 15:  (best: False)train loss = 0.102 (auc: 0.817 f1: 0.436), validation loss = 0.103 (auc: 0.822 f1: 0.420)\n"
     ]
    },
    {
     "name": "stderr",
     "output_type": "stream",
     "text": [
      "100%|██████████████████████████████████████████| 16/16 [00:00<00:00, 162.20it/s]\n",
      " 57%|████████████████████████▎                  | 17/30 [00:04<00:03,  3.71it/s]"
     ]
    },
    {
     "name": "stdout",
     "output_type": "stream",
     "text": [
      "Epoch 16:  (best: False)train loss = 0.102 (auc: 0.820 f1: 0.439), validation loss = 0.104 (auc: 0.825 f1: 0.397)\n"
     ]
    },
    {
     "name": "stderr",
     "output_type": "stream",
     "text": [
      "100%|██████████████████████████████████████████| 16/16 [00:00<00:00, 165.63it/s]\n",
      " 60%|█████████████████████████▊                 | 18/30 [00:04<00:03,  3.74it/s]"
     ]
    },
    {
     "name": "stdout",
     "output_type": "stream",
     "text": [
      "Epoch 17:  (best: False)train loss = 0.102 (auc: 0.819 f1: 0.450), validation loss = 0.103 (auc: 0.823 f1: 0.416)\n"
     ]
    },
    {
     "name": "stderr",
     "output_type": "stream",
     "text": [
      "100%|██████████████████████████████████████████| 16/16 [00:00<00:00, 162.41it/s]\n",
      " 63%|███████████████████████████▏               | 19/30 [00:05<00:02,  3.75it/s]"
     ]
    },
    {
     "name": "stdout",
     "output_type": "stream",
     "text": [
      "Epoch 18:  (best: False)train loss = 0.102 (auc: 0.814 f1: 0.445), validation loss = 0.103 (auc: 0.818 f1: 0.414)\n"
     ]
    },
    {
     "name": "stderr",
     "output_type": "stream",
     "text": [
      "100%|██████████████████████████████████████████| 16/16 [00:00<00:00, 162.88it/s]\n",
      " 67%|████████████████████████████▋              | 20/30 [00:05<00:02,  3.76it/s]"
     ]
    },
    {
     "name": "stdout",
     "output_type": "stream",
     "text": [
      "Epoch 19:  (best: False)train loss = 0.102 (auc: 0.816 f1: 0.445), validation loss = 0.103 (auc: 0.819 f1: 0.401)\n"
     ]
    },
    {
     "name": "stderr",
     "output_type": "stream",
     "text": [
      "100%|██████████████████████████████████████████| 16/16 [00:00<00:00, 162.38it/s]\n",
      " 70%|██████████████████████████████             | 21/30 [00:05<00:02,  3.78it/s]"
     ]
    },
    {
     "name": "stdout",
     "output_type": "stream",
     "text": [
      "Epoch 20:  (best: False)train loss = 0.102 (auc: 0.812 f1: 0.446), validation loss = 0.103 (auc: 0.816 f1: 0.418)\n"
     ]
    },
    {
     "name": "stderr",
     "output_type": "stream",
     "text": [
      "100%|██████████████████████████████████████████| 16/16 [00:00<00:00, 167.52it/s]\n",
      " 73%|███████████████████████████████▌           | 22/30 [00:05<00:02,  3.81it/s]"
     ]
    },
    {
     "name": "stdout",
     "output_type": "stream",
     "text": [
      "Epoch 21:  (best: False)train loss = 0.102 (auc: 0.817 f1: 0.450), validation loss = 0.104 (auc: 0.822 f1: 0.401)\n"
     ]
    },
    {
     "name": "stderr",
     "output_type": "stream",
     "text": [
      "100%|██████████████████████████████████████████| 16/16 [00:00<00:00, 162.33it/s]\n",
      " 77%|████████████████████████████████▉          | 23/30 [00:06<00:01,  3.82it/s]"
     ]
    },
    {
     "name": "stdout",
     "output_type": "stream",
     "text": [
      "Epoch 22:  (best: False)train loss = 0.102 (auc: 0.814 f1: 0.446), validation loss = 0.103 (auc: 0.817 f1: 0.413)\n"
     ]
    },
    {
     "name": "stderr",
     "output_type": "stream",
     "text": [
      "100%|██████████████████████████████████████████| 16/16 [00:00<00:00, 162.46it/s]\n",
      " 80%|██████████████████████████████████▍        | 24/30 [00:06<00:01,  3.82it/s]"
     ]
    },
    {
     "name": "stdout",
     "output_type": "stream",
     "text": [
      "Epoch 23:  (best: False)train loss = 0.102 (auc: 0.811 f1: 0.448), validation loss = 0.103 (auc: 0.814 f1: 0.414)\n"
     ]
    },
    {
     "name": "stderr",
     "output_type": "stream",
     "text": [
      "100%|██████████████████████████████████████████| 16/16 [00:00<00:00, 150.52it/s]\n",
      " 83%|███████████████████████████████████▊       | 25/30 [00:06<00:01,  3.72it/s]"
     ]
    },
    {
     "name": "stdout",
     "output_type": "stream",
     "text": [
      "Epoch 24:  (best: False)train loss = 0.102 (auc: 0.812 f1: 0.453), validation loss = 0.103 (auc: 0.816 f1: 0.410)\n"
     ]
    },
    {
     "name": "stderr",
     "output_type": "stream",
     "text": [
      "100%|██████████████████████████████████████████| 16/16 [00:00<00:00, 158.32it/s]\n",
      " 87%|█████████████████████████████████████▎     | 26/30 [00:07<00:01,  3.65it/s]"
     ]
    },
    {
     "name": "stdout",
     "output_type": "stream",
     "text": [
      "Epoch 25:  (best: False)train loss = 0.102 (auc: 0.810 f1: 0.455), validation loss = 0.103 (auc: 0.815 f1: 0.414)\n"
     ]
    },
    {
     "name": "stderr",
     "output_type": "stream",
     "text": [
      "100%|██████████████████████████████████████████| 16/16 [00:00<00:00, 142.95it/s]\n",
      " 90%|██████████████████████████████████████▋    | 27/30 [00:07<00:00,  3.60it/s]"
     ]
    },
    {
     "name": "stdout",
     "output_type": "stream",
     "text": [
      "Epoch 26:  (best: False)train loss = 0.102 (auc: 0.812 f1: 0.444), validation loss = 0.103 (auc: 0.816 f1: 0.409)\n"
     ]
    },
    {
     "name": "stderr",
     "output_type": "stream",
     "text": [
      "100%|██████████████████████████████████████████| 16/16 [00:00<00:00, 165.18it/s]\n",
      " 93%|████████████████████████████████████████▏  | 28/30 [00:07<00:00,  3.69it/s]"
     ]
    },
    {
     "name": "stdout",
     "output_type": "stream",
     "text": [
      "Epoch 27:  (best: False)train loss = 0.101 (auc: 0.809 f1: 0.457), validation loss = 0.103 (auc: 0.813 f1: 0.410)\n"
     ]
    },
    {
     "name": "stderr",
     "output_type": "stream",
     "text": [
      "100%|██████████████████████████████████████████| 16/16 [00:00<00:00, 158.72it/s]\n",
      " 97%|█████████████████████████████████████████▌ | 29/30 [00:07<00:00,  3.66it/s]"
     ]
    },
    {
     "name": "stdout",
     "output_type": "stream",
     "text": [
      "Epoch 28:  (best: False)train loss = 0.102 (auc: 0.813 f1: 0.450), validation loss = 0.103 (auc: 0.816 f1: 0.409)\n"
     ]
    },
    {
     "name": "stderr",
     "output_type": "stream",
     "text": [
      "100%|██████████████████████████████████████████| 16/16 [00:00<00:00, 156.89it/s]\n",
      "100%|███████████████████████████████████████████| 30/30 [00:08<00:00,  3.68it/s]\n"
     ]
    },
    {
     "name": "stdout",
     "output_type": "stream",
     "text": [
      "Epoch 29:  (best: False)train loss = 0.102 (auc: 0.807 f1: 0.447), validation loss = 0.103 (auc: 0.812 f1: 0.413)\n"
     ]
    },
    {
     "name": "stderr",
     "output_type": "stream",
     "text": [
      "100%|██████████████████████████████████████████| 16/16 [00:00<00:00, 166.03it/s]\n",
      "  3%|█▍                                          | 1/30 [00:00<00:07,  3.90it/s]"
     ]
    },
    {
     "name": "stdout",
     "output_type": "stream",
     "text": [
      "Epoch 0:  (best: True)train loss = 0.113 (auc: 0.814 f1: 0.132), validation loss = 0.113 (auc: 0.812 f1: 0.106)\n"
     ]
    },
    {
     "name": "stderr",
     "output_type": "stream",
     "text": [
      "100%|██████████████████████████████████████████| 16/16 [00:00<00:00, 167.15it/s]\n",
      "  7%|██▉                                         | 2/30 [00:00<00:07,  3.90it/s]"
     ]
    },
    {
     "name": "stdout",
     "output_type": "stream",
     "text": [
      "Epoch 1:  (best: True)train loss = 0.108 (auc: 0.845 f1: 0.266), validation loss = 0.109 (auc: 0.851 f1: 0.244)\n"
     ]
    },
    {
     "name": "stderr",
     "output_type": "stream",
     "text": [
      "100%|██████████████████████████████████████████| 16/16 [00:00<00:00, 167.20it/s]\n",
      " 10%|████▍                                       | 3/30 [00:00<00:06,  3.89it/s]"
     ]
    },
    {
     "name": "stdout",
     "output_type": "stream",
     "text": [
      "Epoch 2:  (best: True)train loss = 0.106 (auc: 0.838 f1: 0.285), validation loss = 0.107 (auc: 0.846 f1: 0.266)\n"
     ]
    },
    {
     "name": "stderr",
     "output_type": "stream",
     "text": [
      "100%|██████████████████████████████████████████| 16/16 [00:00<00:00, 167.24it/s]\n",
      " 13%|█████▊                                      | 4/30 [00:01<00:06,  3.85it/s]"
     ]
    },
    {
     "name": "stdout",
     "output_type": "stream",
     "text": [
      "Epoch 3:  (best: False)train loss = 0.106 (auc: 0.828 f1: 0.276), validation loss = 0.107 (auc: 0.834 f1: 0.257)\n"
     ]
    },
    {
     "name": "stderr",
     "output_type": "stream",
     "text": [
      "100%|██████████████████████████████████████████| 16/16 [00:00<00:00, 158.57it/s]\n",
      " 17%|███████▎                                    | 5/30 [00:01<00:06,  3.83it/s]"
     ]
    },
    {
     "name": "stdout",
     "output_type": "stream",
     "text": [
      "Epoch 4:  (best: True)train loss = 0.106 (auc: 0.826 f1: 0.301), validation loss = 0.107 (auc: 0.832 f1: 0.280)\n"
     ]
    },
    {
     "name": "stderr",
     "output_type": "stream",
     "text": [
      "100%|██████████████████████████████████████████| 16/16 [00:00<00:00, 150.57it/s]\n",
      " 20%|████████▊                                   | 6/30 [00:01<00:06,  3.77it/s]"
     ]
    },
    {
     "name": "stdout",
     "output_type": "stream",
     "text": [
      "Epoch 5:  (best: True)train loss = 0.105 (auc: 0.828 f1: 0.341), validation loss = 0.106 (auc: 0.835 f1: 0.321)\n"
     ]
    },
    {
     "name": "stderr",
     "output_type": "stream",
     "text": [
      "100%|██████████████████████████████████████████| 16/16 [00:00<00:00, 165.80it/s]\n",
      " 23%|██████████▎                                 | 7/30 [00:01<00:06,  3.79it/s]"
     ]
    },
    {
     "name": "stdout",
     "output_type": "stream",
     "text": [
      "Epoch 6:  (best: True)train loss = 0.105 (auc: 0.825 f1: 0.369), validation loss = 0.105 (auc: 0.831 f1: 0.337)\n"
     ]
    },
    {
     "name": "stderr",
     "output_type": "stream",
     "text": [
      "100%|██████████████████████████████████████████| 16/16 [00:00<00:00, 157.18it/s]\n",
      " 27%|███████████▋                                | 8/30 [00:02<00:05,  3.77it/s]"
     ]
    },
    {
     "name": "stdout",
     "output_type": "stream",
     "text": [
      "Epoch 7:  (best: True)train loss = 0.104 (auc: 0.825 f1: 0.428), validation loss = 0.105 (auc: 0.830 f1: 0.390)\n"
     ]
    },
    {
     "name": "stderr",
     "output_type": "stream",
     "text": [
      "100%|██████████████████████████████████████████| 16/16 [00:00<00:00, 166.64it/s]\n",
      " 30%|█████████████▏                              | 9/30 [00:02<00:05,  3.80it/s]"
     ]
    },
    {
     "name": "stdout",
     "output_type": "stream",
     "text": [
      "Epoch 8:  (best: True)train loss = 0.103 (auc: 0.820 f1: 0.439), validation loss = 0.104 (auc: 0.824 f1: 0.409)\n"
     ]
    },
    {
     "name": "stderr",
     "output_type": "stream",
     "text": [
      "100%|██████████████████████████████████████████| 16/16 [00:00<00:00, 165.80it/s]\n",
      " 33%|██████████████▎                            | 10/30 [00:02<00:05,  3.81it/s]"
     ]
    },
    {
     "name": "stdout",
     "output_type": "stream",
     "text": [
      "Epoch 9:  (best: True)train loss = 0.103 (auc: 0.812 f1: 0.441), validation loss = 0.104 (auc: 0.818 f1: 0.418)\n"
     ]
    },
    {
     "name": "stderr",
     "output_type": "stream",
     "text": [
      "100%|██████████████████████████████████████████| 16/16 [00:00<00:00, 166.57it/s]\n",
      " 37%|███████████████▊                           | 11/30 [00:02<00:04,  3.84it/s]"
     ]
    },
    {
     "name": "stdout",
     "output_type": "stream",
     "text": [
      "Epoch 10:  (best: False)train loss = 0.103 (auc: 0.815 f1: 0.428), validation loss = 0.104 (auc: 0.819 f1: 0.385)\n"
     ]
    },
    {
     "name": "stderr",
     "output_type": "stream",
     "text": [
      "100%|██████████████████████████████████████████| 16/16 [00:00<00:00, 167.23it/s]\n",
      " 40%|█████████████████▏                         | 12/30 [00:03<00:04,  3.85it/s]"
     ]
    },
    {
     "name": "stdout",
     "output_type": "stream",
     "text": [
      "Epoch 11:  (best: True)train loss = 0.103 (auc: 0.807 f1: 0.438), validation loss = 0.103 (auc: 0.812 f1: 0.421)\n"
     ]
    },
    {
     "name": "stderr",
     "output_type": "stream",
     "text": [
      "100%|██████████████████████████████████████████| 16/16 [00:00<00:00, 162.48it/s]\n",
      " 43%|██████████████████▋                        | 13/30 [00:03<00:04,  3.83it/s]"
     ]
    },
    {
     "name": "stdout",
     "output_type": "stream",
     "text": [
      "Epoch 12:  (best: False)train loss = 0.102 (auc: 0.812 f1: 0.437), validation loss = 0.104 (auc: 0.816 f1: 0.411)\n"
     ]
    },
    {
     "name": "stderr",
     "output_type": "stream",
     "text": [
      "100%|██████████████████████████████████████████| 16/16 [00:00<00:00, 164.77it/s]\n",
      " 47%|████████████████████                       | 14/30 [00:03<00:04,  3.84it/s]"
     ]
    },
    {
     "name": "stdout",
     "output_type": "stream",
     "text": [
      "Epoch 13:  (best: False)train loss = 0.103 (auc: 0.812 f1: 0.440), validation loss = 0.103 (auc: 0.816 f1: 0.418)\n"
     ]
    },
    {
     "name": "stderr",
     "output_type": "stream",
     "text": [
      "100%|██████████████████████████████████████████| 16/16 [00:00<00:00, 164.07it/s]\n",
      " 50%|█████████████████████▌                     | 15/30 [00:03<00:03,  3.85it/s]"
     ]
    },
    {
     "name": "stdout",
     "output_type": "stream",
     "text": [
      "Epoch 14:  (best: False)train loss = 0.102 (auc: 0.806 f1: 0.441), validation loss = 0.103 (auc: 0.811 f1: 0.413)\n"
     ]
    },
    {
     "name": "stderr",
     "output_type": "stream",
     "text": [
      "100%|██████████████████████████████████████████| 16/16 [00:00<00:00, 165.23it/s]\n",
      " 53%|██████████████████████▉                    | 16/30 [00:04<00:03,  3.85it/s]"
     ]
    },
    {
     "name": "stdout",
     "output_type": "stream",
     "text": [
      "Epoch 15:  (best: False)train loss = 0.102 (auc: 0.806 f1: 0.445), validation loss = 0.103 (auc: 0.811 f1: 0.414)\n"
     ]
    },
    {
     "name": "stderr",
     "output_type": "stream",
     "text": [
      "100%|██████████████████████████████████████████| 16/16 [00:00<00:00, 162.76it/s]\n",
      " 57%|████████████████████████▎                  | 17/30 [00:04<00:03,  3.83it/s]"
     ]
    },
    {
     "name": "stdout",
     "output_type": "stream",
     "text": [
      "Epoch 16:  (best: False)train loss = 0.102 (auc: 0.807 f1: 0.440), validation loss = 0.103 (auc: 0.812 f1: 0.411)\n"
     ]
    },
    {
     "name": "stderr",
     "output_type": "stream",
     "text": [
      "100%|██████████████████████████████████████████| 16/16 [00:00<00:00, 164.69it/s]\n",
      " 60%|█████████████████████████▊                 | 18/30 [00:04<00:03,  3.82it/s]"
     ]
    },
    {
     "name": "stdout",
     "output_type": "stream",
     "text": [
      "Epoch 17:  (best: False)train loss = 0.102 (auc: 0.806 f1: 0.448), validation loss = 0.103 (auc: 0.811 f1: 0.416)\n"
     ]
    },
    {
     "name": "stderr",
     "output_type": "stream",
     "text": [
      "100%|██████████████████████████████████████████| 16/16 [00:00<00:00, 165.63it/s]\n",
      " 63%|███████████████████████████▏               | 19/30 [00:04<00:02,  3.84it/s]"
     ]
    },
    {
     "name": "stdout",
     "output_type": "stream",
     "text": [
      "Epoch 18:  (best: False)train loss = 0.102 (auc: 0.809 f1: 0.442), validation loss = 0.103 (auc: 0.812 f1: 0.414)\n"
     ]
    },
    {
     "name": "stderr",
     "output_type": "stream",
     "text": [
      "100%|██████████████████████████████████████████| 16/16 [00:00<00:00, 162.65it/s]\n",
      " 67%|████████████████████████████▋              | 20/30 [00:05<00:02,  3.82it/s]"
     ]
    },
    {
     "name": "stdout",
     "output_type": "stream",
     "text": [
      "Epoch 19:  (best: False)train loss = 0.102 (auc: 0.806 f1: 0.450), validation loss = 0.103 (auc: 0.810 f1: 0.421)\n"
     ]
    },
    {
     "name": "stderr",
     "output_type": "stream",
     "text": [
      "100%|██████████████████████████████████████████| 16/16 [00:00<00:00, 141.33it/s]\n",
      " 70%|██████████████████████████████             | 21/30 [00:05<00:02,  3.72it/s]"
     ]
    },
    {
     "name": "stdout",
     "output_type": "stream",
     "text": [
      "Epoch 20:  (best: False)train loss = 0.102 (auc: 0.803 f1: 0.443), validation loss = 0.103 (auc: 0.807 f1: 0.411)\n"
     ]
    },
    {
     "name": "stderr",
     "output_type": "stream",
     "text": [
      "100%|██████████████████████████████████████████| 16/16 [00:00<00:00, 139.10it/s]\n",
      " 73%|███████████████████████████████▌           | 22/30 [00:05<00:02,  3.61it/s]"
     ]
    },
    {
     "name": "stdout",
     "output_type": "stream",
     "text": [
      "Epoch 21:  (best: False)train loss = 0.102 (auc: 0.804 f1: 0.448), validation loss = 0.103 (auc: 0.809 f1: 0.416)\n"
     ]
    },
    {
     "name": "stderr",
     "output_type": "stream",
     "text": [
      "100%|██████████████████████████████████████████| 16/16 [00:00<00:00, 149.86it/s]\n",
      " 77%|████████████████████████████████▉          | 23/30 [00:06<00:01,  3.64it/s]"
     ]
    },
    {
     "name": "stdout",
     "output_type": "stream",
     "text": [
      "Epoch 22:  (best: False)train loss = 0.102 (auc: 0.805 f1: 0.444), validation loss = 0.103 (auc: 0.809 f1: 0.414)\n"
     ]
    },
    {
     "name": "stderr",
     "output_type": "stream",
     "text": [
      "100%|██████████████████████████████████████████| 16/16 [00:00<00:00, 167.60it/s]\n",
      " 80%|██████████████████████████████████▍        | 24/30 [00:06<00:01,  3.71it/s]"
     ]
    },
    {
     "name": "stdout",
     "output_type": "stream",
     "text": [
      "Epoch 23:  (best: False)train loss = 0.102 (auc: 0.802 f1: 0.445), validation loss = 0.103 (auc: 0.806 f1: 0.412)\n"
     ]
    },
    {
     "name": "stderr",
     "output_type": "stream",
     "text": [
      "100%|██████████████████████████████████████████| 16/16 [00:00<00:00, 165.69it/s]\n",
      " 83%|███████████████████████████████████▊       | 25/30 [00:06<00:01,  3.74it/s]"
     ]
    },
    {
     "name": "stdout",
     "output_type": "stream",
     "text": [
      "Epoch 24:  (best: True)train loss = 0.102 (auc: 0.803 f1: 0.443), validation loss = 0.103 (auc: 0.807 f1: 0.421)\n"
     ]
    },
    {
     "name": "stderr",
     "output_type": "stream",
     "text": [
      "100%|██████████████████████████████████████████| 16/16 [00:00<00:00, 162.14it/s]\n",
      " 87%|█████████████████████████████████████▎     | 26/30 [00:06<00:01,  3.74it/s]"
     ]
    },
    {
     "name": "stdout",
     "output_type": "stream",
     "text": [
      "Epoch 25:  (best: False)train loss = 0.102 (auc: 0.802 f1: 0.445), validation loss = 0.103 (auc: 0.806 f1: 0.413)\n"
     ]
    },
    {
     "name": "stderr",
     "output_type": "stream",
     "text": [
      "100%|██████████████████████████████████████████| 16/16 [00:00<00:00, 151.67it/s]\n",
      " 90%|██████████████████████████████████████▋    | 27/30 [00:07<00:00,  3.73it/s]"
     ]
    },
    {
     "name": "stdout",
     "output_type": "stream",
     "text": [
      "Epoch 26:  (best: True)train loss = 0.102 (auc: 0.799 f1: 0.446), validation loss = 0.103 (auc: 0.803 f1: 0.425)\n"
     ]
    },
    {
     "name": "stderr",
     "output_type": "stream",
     "text": [
      "100%|██████████████████████████████████████████| 16/16 [00:00<00:00, 165.96it/s]\n",
      " 93%|████████████████████████████████████████▏  | 28/30 [00:07<00:00,  3.77it/s]"
     ]
    },
    {
     "name": "stdout",
     "output_type": "stream",
     "text": [
      "Epoch 27:  (best: True)train loss = 0.102 (auc: 0.800 f1: 0.454), validation loss = 0.103 (auc: 0.804 f1: 0.425)\n"
     ]
    },
    {
     "name": "stderr",
     "output_type": "stream",
     "text": [
      "100%|██████████████████████████████████████████| 16/16 [00:00<00:00, 170.21it/s]\n",
      " 97%|█████████████████████████████████████████▌ | 29/30 [00:07<00:00,  3.83it/s]"
     ]
    },
    {
     "name": "stdout",
     "output_type": "stream",
     "text": [
      "Epoch 28:  (best: False)train loss = 0.102 (auc: 0.800 f1: 0.452), validation loss = 0.103 (auc: 0.802 f1: 0.419)\n"
     ]
    },
    {
     "name": "stderr",
     "output_type": "stream",
     "text": [
      "100%|██████████████████████████████████████████| 16/16 [00:00<00:00, 167.33it/s]\n",
      "100%|███████████████████████████████████████████| 30/30 [00:07<00:00,  3.80it/s]\n"
     ]
    },
    {
     "name": "stdout",
     "output_type": "stream",
     "text": [
      "Epoch 29:  (best: True)train loss = 0.102 (auc: 0.797 f1: 0.447), validation loss = 0.103 (auc: 0.800 f1: 0.425)\n"
     ]
    },
    {
     "name": "stderr",
     "output_type": "stream",
     "text": [
      "100%|██████████████████████████████████████████| 16/16 [00:00<00:00, 163.43it/s]\n",
      "  3%|█▍                                          | 1/30 [00:00<00:07,  3.90it/s]"
     ]
    },
    {
     "name": "stdout",
     "output_type": "stream",
     "text": [
      "Epoch 0:  (best: True)train loss = 0.113 (auc: 0.862 f1: 0.144), validation loss = 0.114 (auc: 0.873 f1: 0.129)\n"
     ]
    },
    {
     "name": "stderr",
     "output_type": "stream",
     "text": [
      "100%|██████████████████████████████████████████| 16/16 [00:00<00:00, 165.98it/s]\n",
      "  7%|██▉                                         | 2/30 [00:00<00:07,  3.90it/s]"
     ]
    },
    {
     "name": "stdout",
     "output_type": "stream",
     "text": [
      "Epoch 1:  (best: True)train loss = 0.108 (auc: 0.852 f1: 0.236), validation loss = 0.109 (auc: 0.856 f1: 0.216)\n"
     ]
    },
    {
     "name": "stderr",
     "output_type": "stream",
     "text": [
      "100%|██████████████████████████████████████████| 16/16 [00:00<00:00, 164.86it/s]\n",
      " 10%|████▍                                       | 3/30 [00:00<00:07,  3.83it/s]"
     ]
    },
    {
     "name": "stdout",
     "output_type": "stream",
     "text": [
      "Epoch 2:  (best: True)train loss = 0.107 (auc: 0.843 f1: 0.295), validation loss = 0.107 (auc: 0.847 f1: 0.287)\n"
     ]
    },
    {
     "name": "stderr",
     "output_type": "stream",
     "text": [
      "100%|██████████████████████████████████████████| 16/16 [00:00<00:00, 165.83it/s]\n",
      " 13%|█████▊                                      | 4/30 [00:01<00:06,  3.79it/s]"
     ]
    },
    {
     "name": "stdout",
     "output_type": "stream",
     "text": [
      "Epoch 3:  (best: False)train loss = 0.105 (auc: 0.836 f1: 0.316), validation loss = 0.107 (auc: 0.841 f1: 0.282)\n"
     ]
    },
    {
     "name": "stderr",
     "output_type": "stream",
     "text": [
      "100%|██████████████████████████████████████████| 16/16 [00:00<00:00, 143.70it/s]\n",
      " 17%|███████▎                                    | 5/30 [00:01<00:06,  3.70it/s]"
     ]
    },
    {
     "name": "stdout",
     "output_type": "stream",
     "text": [
      "Epoch 4:  (best: True)train loss = 0.105 (auc: 0.836 f1: 0.330), validation loss = 0.106 (auc: 0.841 f1: 0.317)\n"
     ]
    },
    {
     "name": "stderr",
     "output_type": "stream",
     "text": [
      "100%|██████████████████████████████████████████| 16/16 [00:00<00:00, 158.53it/s]\n",
      " 20%|████████▊                                   | 6/30 [00:01<00:06,  3.70it/s]"
     ]
    },
    {
     "name": "stdout",
     "output_type": "stream",
     "text": [
      "Epoch 5:  (best: False)train loss = 0.105 (auc: 0.835 f1: 0.336), validation loss = 0.106 (auc: 0.841 f1: 0.317)\n"
     ]
    },
    {
     "name": "stderr",
     "output_type": "stream",
     "text": [
      "100%|██████████████████████████████████████████| 16/16 [00:00<00:00, 165.03it/s]\n",
      " 23%|██████████▎                                 | 7/30 [00:01<00:06,  3.74it/s]"
     ]
    },
    {
     "name": "stdout",
     "output_type": "stream",
     "text": [
      "Epoch 6:  (best: True)train loss = 0.105 (auc: 0.832 f1: 0.359), validation loss = 0.106 (auc: 0.838 f1: 0.328)\n"
     ]
    },
    {
     "name": "stderr",
     "output_type": "stream",
     "text": [
      "100%|██████████████████████████████████████████| 16/16 [00:00<00:00, 154.16it/s]\n",
      " 27%|███████████▋                                | 8/30 [00:02<00:05,  3.70it/s]"
     ]
    },
    {
     "name": "stdout",
     "output_type": "stream",
     "text": [
      "Epoch 7:  (best: True)train loss = 0.105 (auc: 0.831 f1: 0.355), validation loss = 0.106 (auc: 0.837 f1: 0.331)\n"
     ]
    },
    {
     "name": "stderr",
     "output_type": "stream",
     "text": [
      "100%|██████████████████████████████████████████| 16/16 [00:00<00:00, 162.00it/s]\n",
      " 30%|█████████████▏                              | 9/30 [00:02<00:05,  3.67it/s]"
     ]
    },
    {
     "name": "stdout",
     "output_type": "stream",
     "text": [
      "Epoch 8:  (best: True)train loss = 0.104 (auc: 0.836 f1: 0.379), validation loss = 0.105 (auc: 0.842 f1: 0.352)\n"
     ]
    },
    {
     "name": "stderr",
     "output_type": "stream",
     "text": [
      "100%|██████████████████████████████████████████| 16/16 [00:00<00:00, 153.39it/s]\n",
      " 33%|██████████████▎                            | 10/30 [00:02<00:05,  3.65it/s]"
     ]
    },
    {
     "name": "stdout",
     "output_type": "stream",
     "text": [
      "Epoch 9:  (best: True)train loss = 0.104 (auc: 0.830 f1: 0.377), validation loss = 0.105 (auc: 0.838 f1: 0.359)\n"
     ]
    },
    {
     "name": "stderr",
     "output_type": "stream",
     "text": [
      "100%|██████████████████████████████████████████| 16/16 [00:00<00:00, 163.08it/s]\n",
      " 37%|███████████████▊                           | 11/30 [00:02<00:05,  3.72it/s]"
     ]
    },
    {
     "name": "stdout",
     "output_type": "stream",
     "text": [
      "Epoch 10:  (best: False)train loss = 0.104 (auc: 0.830 f1: 0.383), validation loss = 0.105 (auc: 0.830 f1: 0.346)\n"
     ]
    },
    {
     "name": "stderr",
     "output_type": "stream",
     "text": [
      "100%|██████████████████████████████████████████| 16/16 [00:00<00:00, 169.16it/s]\n",
      " 40%|█████████████████▏                         | 12/30 [00:03<00:04,  3.79it/s]"
     ]
    },
    {
     "name": "stdout",
     "output_type": "stream",
     "text": [
      "Epoch 11:  (best: False)train loss = 0.104 (auc: 0.822 f1: 0.372), validation loss = 0.105 (auc: 0.826 f1: 0.346)\n"
     ]
    },
    {
     "name": "stderr",
     "output_type": "stream",
     "text": [
      "100%|██████████████████████████████████████████| 16/16 [00:00<00:00, 170.01it/s]\n",
      " 43%|██████████████████▋                        | 13/30 [00:03<00:04,  3.84it/s]"
     ]
    },
    {
     "name": "stdout",
     "output_type": "stream",
     "text": [
      "Epoch 12:  (best: True)train loss = 0.103 (auc: 0.822 f1: 0.423), validation loss = 0.104 (auc: 0.823 f1: 0.410)\n"
     ]
    },
    {
     "name": "stderr",
     "output_type": "stream",
     "text": [
      "100%|██████████████████████████████████████████| 16/16 [00:00<00:00, 172.12it/s]\n",
      " 47%|████████████████████                       | 14/30 [00:03<00:04,  3.86it/s]"
     ]
    },
    {
     "name": "stdout",
     "output_type": "stream",
     "text": [
      "Epoch 13:  (best: False)train loss = 0.103 (auc: 0.819 f1: 0.405), validation loss = 0.105 (auc: 0.822 f1: 0.371)\n"
     ]
    },
    {
     "name": "stderr",
     "output_type": "stream",
     "text": [
      "100%|██████████████████████████████████████████| 16/16 [00:00<00:00, 156.36it/s]\n",
      " 50%|█████████████████████▌                     | 15/30 [00:03<00:03,  3.82it/s]"
     ]
    },
    {
     "name": "stdout",
     "output_type": "stream",
     "text": [
      "Epoch 14:  (best: False)train loss = 0.103 (auc: 0.822 f1: 0.423), validation loss = 0.104 (auc: 0.827 f1: 0.404)\n"
     ]
    },
    {
     "name": "stderr",
     "output_type": "stream",
     "text": [
      "100%|██████████████████████████████████████████| 16/16 [00:00<00:00, 166.04it/s]\n",
      " 53%|██████████████████████▉                    | 16/30 [00:04<00:03,  3.82it/s]"
     ]
    },
    {
     "name": "stdout",
     "output_type": "stream",
     "text": [
      "Epoch 15:  (best: False)train loss = 0.103 (auc: 0.805 f1: 0.427), validation loss = 0.104 (auc: 0.806 f1: 0.405)\n"
     ]
    },
    {
     "name": "stderr",
     "output_type": "stream",
     "text": [
      "100%|██████████████████████████████████████████| 16/16 [00:00<00:00, 155.37it/s]\n",
      " 57%|████████████████████████▎                  | 17/30 [00:04<00:03,  3.79it/s]"
     ]
    },
    {
     "name": "stdout",
     "output_type": "stream",
     "text": [
      "Epoch 16:  (best: False)train loss = 0.103 (auc: 0.811 f1: 0.432), validation loss = 0.104 (auc: 0.818 f1: 0.402)\n"
     ]
    },
    {
     "name": "stderr",
     "output_type": "stream",
     "text": [
      "100%|██████████████████████████████████████████| 16/16 [00:00<00:00, 168.53it/s]\n",
      " 60%|█████████████████████████▊                 | 18/30 [00:04<00:03,  3.83it/s]"
     ]
    },
    {
     "name": "stdout",
     "output_type": "stream",
     "text": [
      "Epoch 17:  (best: False)train loss = 0.103 (auc: 0.817 f1: 0.433), validation loss = 0.104 (auc: 0.817 f1: 0.409)\n"
     ]
    },
    {
     "name": "stderr",
     "output_type": "stream",
     "text": [
      "100%|██████████████████████████████████████████| 16/16 [00:00<00:00, 169.38it/s]\n",
      " 63%|███████████████████████████▏               | 19/30 [00:05<00:02,  3.87it/s]"
     ]
    },
    {
     "name": "stdout",
     "output_type": "stream",
     "text": [
      "Epoch 18:  (best: True)train loss = 0.103 (auc: 0.807 f1: 0.431), validation loss = 0.104 (auc: 0.808 f1: 0.412)\n"
     ]
    },
    {
     "name": "stderr",
     "output_type": "stream",
     "text": [
      "100%|██████████████████████████████████████████| 16/16 [00:00<00:00, 155.85it/s]\n",
      " 67%|████████████████████████████▋              | 20/30 [00:05<00:02,  3.81it/s]"
     ]
    },
    {
     "name": "stdout",
     "output_type": "stream",
     "text": [
      "Epoch 19:  (best: False)train loss = 0.103 (auc: 0.809 f1: 0.431), validation loss = 0.104 (auc: 0.813 f1: 0.397)\n"
     ]
    },
    {
     "name": "stderr",
     "output_type": "stream",
     "text": [
      "100%|██████████████████████████████████████████| 16/16 [00:00<00:00, 147.45it/s]\n",
      " 70%|██████████████████████████████             | 21/30 [00:05<00:02,  3.75it/s]"
     ]
    },
    {
     "name": "stdout",
     "output_type": "stream",
     "text": [
      "Epoch 20:  (best: False)train loss = 0.103 (auc: 0.807 f1: 0.435), validation loss = 0.104 (auc: 0.805 f1: 0.411)\n"
     ]
    },
    {
     "name": "stderr",
     "output_type": "stream",
     "text": [
      "100%|██████████████████████████████████████████| 16/16 [00:00<00:00, 171.65it/s]\n",
      " 73%|███████████████████████████████▌           | 22/30 [00:05<00:02,  3.80it/s]"
     ]
    },
    {
     "name": "stdout",
     "output_type": "stream",
     "text": [
      "Epoch 21:  (best: False)train loss = 0.103 (auc: 0.806 f1: 0.436), validation loss = 0.104 (auc: 0.807 f1: 0.403)\n"
     ]
    },
    {
     "name": "stderr",
     "output_type": "stream",
     "text": [
      "100%|██████████████████████████████████████████| 16/16 [00:00<00:00, 172.16it/s]\n",
      " 77%|████████████████████████████████▉          | 23/30 [00:06<00:01,  3.86it/s]"
     ]
    },
    {
     "name": "stdout",
     "output_type": "stream",
     "text": [
      "Epoch 22:  (best: False)train loss = 0.102 (auc: 0.807 f1: 0.437), validation loss = 0.104 (auc: 0.811 f1: 0.402)\n"
     ]
    },
    {
     "name": "stderr",
     "output_type": "stream",
     "text": [
      "100%|██████████████████████████████████████████| 16/16 [00:00<00:00, 160.28it/s]\n",
      " 80%|██████████████████████████████████▍        | 24/30 [00:06<00:01,  3.82it/s]"
     ]
    },
    {
     "name": "stdout",
     "output_type": "stream",
     "text": [
      "Epoch 23:  (best: False)train loss = 0.103 (auc: 0.808 f1: 0.442), validation loss = 0.104 (auc: 0.811 f1: 0.402)\n"
     ]
    },
    {
     "name": "stderr",
     "output_type": "stream",
     "text": [
      "100%|██████████████████████████████████████████| 16/16 [00:00<00:00, 165.49it/s]\n",
      " 83%|███████████████████████████████████▊       | 25/30 [00:06<00:01,  3.84it/s]"
     ]
    },
    {
     "name": "stdout",
     "output_type": "stream",
     "text": [
      "Epoch 24:  (best: False)train loss = 0.102 (auc: 0.810 f1: 0.434), validation loss = 0.104 (auc: 0.813 f1: 0.400)\n"
     ]
    },
    {
     "name": "stderr",
     "output_type": "stream",
     "text": [
      "100%|██████████████████████████████████████████| 16/16 [00:00<00:00, 170.95it/s]\n",
      " 87%|█████████████████████████████████████▎     | 26/30 [00:06<00:01,  3.83it/s]"
     ]
    },
    {
     "name": "stdout",
     "output_type": "stream",
     "text": [
      "Epoch 25:  (best: False)train loss = 0.103 (auc: 0.805 f1: 0.438), validation loss = 0.104 (auc: 0.806 f1: 0.410)\n"
     ]
    },
    {
     "name": "stderr",
     "output_type": "stream",
     "text": [
      "100%|██████████████████████████████████████████| 16/16 [00:00<00:00, 151.92it/s]\n",
      " 90%|██████████████████████████████████████▋    | 27/30 [00:07<00:00,  3.74it/s]"
     ]
    },
    {
     "name": "stdout",
     "output_type": "stream",
     "text": [
      "Epoch 26:  (best: False)train loss = 0.103 (auc: 0.806 f1: 0.440), validation loss = 0.104 (auc: 0.810 f1: 0.400)\n"
     ]
    },
    {
     "name": "stderr",
     "output_type": "stream",
     "text": [
      "100%|██████████████████████████████████████████| 16/16 [00:00<00:00, 164.09it/s]\n",
      " 93%|████████████████████████████████████████▏  | 28/30 [00:07<00:00,  3.74it/s]"
     ]
    },
    {
     "name": "stdout",
     "output_type": "stream",
     "text": [
      "Epoch 27:  (best: True)train loss = 0.102 (auc: 0.803 f1: 0.445), validation loss = 0.104 (auc: 0.803 f1: 0.415)\n"
     ]
    },
    {
     "name": "stderr",
     "output_type": "stream",
     "text": [
      "100%|██████████████████████████████████████████| 16/16 [00:00<00:00, 154.34it/s]\n",
      " 97%|█████████████████████████████████████████▌ | 29/30 [00:07<00:00,  3.68it/s]"
     ]
    },
    {
     "name": "stdout",
     "output_type": "stream",
     "text": [
      "Epoch 28:  (best: False)train loss = 0.103 (auc: 0.808 f1: 0.445), validation loss = 0.104 (auc: 0.810 f1: 0.407)\n"
     ]
    },
    {
     "name": "stderr",
     "output_type": "stream",
     "text": [
      "100%|██████████████████████████████████████████| 16/16 [00:00<00:00, 161.52it/s]\n",
      "100%|███████████████████████████████████████████| 30/30 [00:07<00:00,  3.77it/s]\n"
     ]
    },
    {
     "name": "stdout",
     "output_type": "stream",
     "text": [
      "Epoch 29:  (best: False)train loss = 0.103 (auc: 0.807 f1: 0.445), validation loss = 0.104 (auc: 0.810 f1: 0.407)\n"
     ]
    },
    {
     "name": "stderr",
     "output_type": "stream",
     "text": [
      "100%|██████████████████████████████████████████| 16/16 [00:00<00:00, 155.31it/s]\n",
      "  3%|█▍                                          | 1/30 [00:00<00:07,  3.71it/s]"
     ]
    },
    {
     "name": "stdout",
     "output_type": "stream",
     "text": [
      "Epoch 0:  (best: True)train loss = 0.114 (auc: 0.834 f1: 0.070), validation loss = 0.114 (auc: 0.835 f1: 0.063)\n"
     ]
    },
    {
     "name": "stderr",
     "output_type": "stream",
     "text": [
      "100%|██████████████████████████████████████████| 16/16 [00:00<00:00, 155.33it/s]\n",
      "  7%|██▉                                         | 2/30 [00:00<00:07,  3.71it/s]"
     ]
    },
    {
     "name": "stdout",
     "output_type": "stream",
     "text": [
      "Epoch 1:  (best: True)train loss = 0.108 (auc: 0.849 f1: 0.220), validation loss = 0.109 (auc: 0.851 f1: 0.202)\n"
     ]
    },
    {
     "name": "stderr",
     "output_type": "stream",
     "text": [
      "100%|██████████████████████████████████████████| 16/16 [00:00<00:00, 168.77it/s]\n",
      " 10%|████▍                                       | 3/30 [00:00<00:07,  3.80it/s]"
     ]
    },
    {
     "name": "stdout",
     "output_type": "stream",
     "text": [
      "Epoch 2:  (best: True)train loss = 0.107 (auc: 0.837 f1: 0.284), validation loss = 0.108 (auc: 0.839 f1: 0.265)\n"
     ]
    },
    {
     "name": "stderr",
     "output_type": "stream",
     "text": [
      "100%|██████████████████████████████████████████| 16/16 [00:00<00:00, 158.08it/s]\n",
      " 13%|█████▊                                      | 4/30 [00:01<00:06,  3.75it/s]"
     ]
    },
    {
     "name": "stdout",
     "output_type": "stream",
     "text": [
      "Epoch 3:  (best: True)train loss = 0.106 (auc: 0.829 f1: 0.292), validation loss = 0.107 (auc: 0.832 f1: 0.275)\n"
     ]
    },
    {
     "name": "stderr",
     "output_type": "stream",
     "text": [
      "100%|██████████████████████████████████████████| 16/16 [00:00<00:00, 162.40it/s]\n",
      " 17%|███████▎                                    | 5/30 [00:01<00:06,  3.77it/s]"
     ]
    },
    {
     "name": "stdout",
     "output_type": "stream",
     "text": [
      "Epoch 4:  (best: True)train loss = 0.106 (auc: 0.839 f1: 0.307), validation loss = 0.107 (auc: 0.843 f1: 0.307)\n"
     ]
    },
    {
     "name": "stderr",
     "output_type": "stream",
     "text": [
      "100%|██████████████████████████████████████████| 16/16 [00:00<00:00, 166.40it/s]\n",
      " 20%|████████▊                                   | 6/30 [00:01<00:06,  3.82it/s]"
     ]
    },
    {
     "name": "stdout",
     "output_type": "stream",
     "text": [
      "Epoch 5:  (best: True)train loss = 0.105 (auc: 0.833 f1: 0.329), validation loss = 0.106 (auc: 0.838 f1: 0.307)\n"
     ]
    },
    {
     "name": "stderr",
     "output_type": "stream",
     "text": [
      "100%|██████████████████████████████████████████| 16/16 [00:00<00:00, 173.01it/s]\n",
      " 23%|██████████▎                                 | 7/30 [00:01<00:05,  3.87it/s]"
     ]
    },
    {
     "name": "stdout",
     "output_type": "stream",
     "text": [
      "Epoch 6:  (best: True)train loss = 0.105 (auc: 0.839 f1: 0.327), validation loss = 0.106 (auc: 0.842 f1: 0.316)\n"
     ]
    },
    {
     "name": "stderr",
     "output_type": "stream",
     "text": [
      "100%|██████████████████████████████████████████| 16/16 [00:00<00:00, 162.50it/s]\n",
      " 27%|███████████▋                                | 8/30 [00:02<00:05,  3.86it/s]"
     ]
    },
    {
     "name": "stdout",
     "output_type": "stream",
     "text": [
      "Epoch 7:  (best: True)train loss = 0.105 (auc: 0.833 f1: 0.345), validation loss = 0.106 (auc: 0.837 f1: 0.318)\n"
     ]
    },
    {
     "name": "stderr",
     "output_type": "stream",
     "text": [
      "100%|██████████████████████████████████████████| 16/16 [00:00<00:00, 166.71it/s]\n",
      " 30%|█████████████▏                              | 9/30 [00:02<00:05,  3.86it/s]"
     ]
    },
    {
     "name": "stdout",
     "output_type": "stream",
     "text": [
      "Epoch 8:  (best: True)train loss = 0.104 (auc: 0.836 f1: 0.368), validation loss = 0.105 (auc: 0.839 f1: 0.353)\n"
     ]
    },
    {
     "name": "stderr",
     "output_type": "stream",
     "text": [
      "100%|██████████████████████████████████████████| 16/16 [00:00<00:00, 157.29it/s]\n",
      " 33%|██████████████▎                            | 10/30 [00:02<00:05,  3.84it/s]"
     ]
    },
    {
     "name": "stdout",
     "output_type": "stream",
     "text": [
      "Epoch 9:  (best: True)train loss = 0.104 (auc: 0.834 f1: 0.381), validation loss = 0.105 (auc: 0.839 f1: 0.357)\n"
     ]
    },
    {
     "name": "stderr",
     "output_type": "stream",
     "text": [
      "100%|██████████████████████████████████████████| 16/16 [00:00<00:00, 162.76it/s]\n",
      " 37%|███████████████▊                           | 11/30 [00:02<00:04,  3.82it/s]"
     ]
    },
    {
     "name": "stdout",
     "output_type": "stream",
     "text": [
      "Epoch 10:  (best: True)train loss = 0.104 (auc: 0.829 f1: 0.376), validation loss = 0.105 (auc: 0.832 f1: 0.361)\n"
     ]
    },
    {
     "name": "stderr",
     "output_type": "stream",
     "text": [
      "100%|██████████████████████████████████████████| 16/16 [00:00<00:00, 165.27it/s]\n",
      " 40%|█████████████████▏                         | 12/30 [00:03<00:04,  3.81it/s]"
     ]
    },
    {
     "name": "stdout",
     "output_type": "stream",
     "text": [
      "Epoch 11:  (best: True)train loss = 0.104 (auc: 0.831 f1: 0.407), validation loss = 0.104 (auc: 0.836 f1: 0.381)\n"
     ]
    },
    {
     "name": "stderr",
     "output_type": "stream",
     "text": [
      "100%|██████████████████████████████████████████| 16/16 [00:00<00:00, 164.70it/s]\n",
      " 43%|██████████████████▋                        | 13/30 [00:03<00:04,  3.83it/s]"
     ]
    },
    {
     "name": "stdout",
     "output_type": "stream",
     "text": [
      "Epoch 12:  (best: True)train loss = 0.103 (auc: 0.831 f1: 0.425), validation loss = 0.104 (auc: 0.836 f1: 0.396)\n"
     ]
    },
    {
     "name": "stderr",
     "output_type": "stream",
     "text": [
      "100%|██████████████████████████████████████████| 16/16 [00:00<00:00, 162.76it/s]\n",
      " 47%|████████████████████                       | 14/30 [00:03<00:04,  3.82it/s]"
     ]
    },
    {
     "name": "stdout",
     "output_type": "stream",
     "text": [
      "Epoch 13:  (best: True)train loss = 0.103 (auc: 0.835 f1: 0.443), validation loss = 0.103 (auc: 0.839 f1: 0.422)\n"
     ]
    },
    {
     "name": "stderr",
     "output_type": "stream",
     "text": [
      "100%|██████████████████████████████████████████| 16/16 [00:00<00:00, 164.50it/s]\n",
      " 50%|█████████████████████▌                     | 15/30 [00:03<00:03,  3.83it/s]"
     ]
    },
    {
     "name": "stdout",
     "output_type": "stream",
     "text": [
      "Epoch 14:  (best: False)train loss = 0.102 (auc: 0.826 f1: 0.443), validation loss = 0.103 (auc: 0.831 f1: 0.419)\n"
     ]
    },
    {
     "name": "stderr",
     "output_type": "stream",
     "text": [
      "100%|██████████████████████████████████████████| 16/16 [00:00<00:00, 160.37it/s]\n",
      " 53%|██████████████████████▉                    | 16/30 [00:04<00:03,  3.83it/s]"
     ]
    },
    {
     "name": "stdout",
     "output_type": "stream",
     "text": [
      "Epoch 15:  (best: False)train loss = 0.102 (auc: 0.826 f1: 0.441), validation loss = 0.103 (auc: 0.830 f1: 0.419)\n"
     ]
    },
    {
     "name": "stderr",
     "output_type": "stream",
     "text": [
      "100%|██████████████████████████████████████████| 16/16 [00:00<00:00, 162.97it/s]\n",
      " 57%|████████████████████████▎                  | 17/30 [00:04<00:03,  3.84it/s]"
     ]
    },
    {
     "name": "stdout",
     "output_type": "stream",
     "text": [
      "Epoch 16:  (best: False)train loss = 0.102 (auc: 0.827 f1: 0.435), validation loss = 0.103 (auc: 0.831 f1: 0.417)\n"
     ]
    },
    {
     "name": "stderr",
     "output_type": "stream",
     "text": [
      "100%|██████████████████████████████████████████| 16/16 [00:00<00:00, 165.22it/s]\n",
      " 60%|█████████████████████████▊                 | 18/30 [00:04<00:03,  3.79it/s]"
     ]
    },
    {
     "name": "stdout",
     "output_type": "stream",
     "text": [
      "Epoch 17:  (best: True)train loss = 0.103 (auc: 0.827 f1: 0.444), validation loss = 0.103 (auc: 0.832 f1: 0.423)\n"
     ]
    },
    {
     "name": "stderr",
     "output_type": "stream",
     "text": [
      "100%|██████████████████████████████████████████| 16/16 [00:00<00:00, 153.79it/s]\n",
      " 63%|███████████████████████████▏               | 19/30 [00:04<00:02,  3.74it/s]"
     ]
    },
    {
     "name": "stdout",
     "output_type": "stream",
     "text": [
      "Epoch 18:  (best: False)train loss = 0.103 (auc: 0.825 f1: 0.436), validation loss = 0.103 (auc: 0.829 f1: 0.415)\n"
     ]
    },
    {
     "name": "stderr",
     "output_type": "stream",
     "text": [
      "100%|██████████████████████████████████████████| 16/16 [00:00<00:00, 162.28it/s]\n",
      " 67%|████████████████████████████▋              | 20/30 [00:05<00:02,  3.73it/s]"
     ]
    },
    {
     "name": "stdout",
     "output_type": "stream",
     "text": [
      "Epoch 19:  (best: False)train loss = 0.102 (auc: 0.822 f1: 0.430), validation loss = 0.103 (auc: 0.827 f1: 0.405)\n"
     ]
    },
    {
     "name": "stderr",
     "output_type": "stream",
     "text": [
      "100%|██████████████████████████████████████████| 16/16 [00:00<00:00, 164.34it/s]\n",
      " 70%|██████████████████████████████             | 21/30 [00:05<00:02,  3.79it/s]"
     ]
    },
    {
     "name": "stdout",
     "output_type": "stream",
     "text": [
      "Epoch 20:  (best: False)train loss = 0.103 (auc: 0.823 f1: 0.441), validation loss = 0.103 (auc: 0.827 f1: 0.422)\n"
     ]
    },
    {
     "name": "stderr",
     "output_type": "stream",
     "text": [
      "100%|██████████████████████████████████████████| 16/16 [00:00<00:00, 164.95it/s]\n",
      " 73%|███████████████████████████████▌           | 22/30 [00:05<00:02,  3.77it/s]"
     ]
    },
    {
     "name": "stdout",
     "output_type": "stream",
     "text": [
      "Epoch 21:  (best: True)train loss = 0.102 (auc: 0.824 f1: 0.437), validation loss = 0.103 (auc: 0.828 f1: 0.424)\n"
     ]
    },
    {
     "name": "stderr",
     "output_type": "stream",
     "text": [
      "100%|██████████████████████████████████████████| 16/16 [00:00<00:00, 156.46it/s]\n",
      " 77%|████████████████████████████████▉          | 23/30 [00:06<00:01,  3.78it/s]"
     ]
    },
    {
     "name": "stdout",
     "output_type": "stream",
     "text": [
      "Epoch 22:  (best: False)train loss = 0.102 (auc: 0.822 f1: 0.444), validation loss = 0.103 (auc: 0.825 f1: 0.423)\n"
     ]
    },
    {
     "name": "stderr",
     "output_type": "stream",
     "text": [
      "100%|██████████████████████████████████████████| 16/16 [00:00<00:00, 166.86it/s]\n",
      " 80%|██████████████████████████████████▍        | 24/30 [00:06<00:01,  3.81it/s]"
     ]
    },
    {
     "name": "stdout",
     "output_type": "stream",
     "text": [
      "Epoch 23:  (best: False)train loss = 0.102 (auc: 0.824 f1: 0.440), validation loss = 0.103 (auc: 0.826 f1: 0.419)\n"
     ]
    },
    {
     "name": "stderr",
     "output_type": "stream",
     "text": [
      "100%|██████████████████████████████████████████| 16/16 [00:00<00:00, 162.96it/s]\n",
      " 83%|███████████████████████████████████▊       | 25/30 [00:06<00:01,  3.82it/s]"
     ]
    },
    {
     "name": "stdout",
     "output_type": "stream",
     "text": [
      "Epoch 24:  (best: False)train loss = 0.102 (auc: 0.820 f1: 0.442), validation loss = 0.103 (auc: 0.824 f1: 0.419)\n"
     ]
    },
    {
     "name": "stderr",
     "output_type": "stream",
     "text": [
      "100%|██████████████████████████████████████████| 16/16 [00:00<00:00, 161.79it/s]\n",
      " 87%|█████████████████████████████████████▎     | 26/30 [00:06<00:01,  3.82it/s]"
     ]
    },
    {
     "name": "stdout",
     "output_type": "stream",
     "text": [
      "Epoch 25:  (best: False)train loss = 0.102 (auc: 0.822 f1: 0.441), validation loss = 0.103 (auc: 0.824 f1: 0.419)\n"
     ]
    },
    {
     "name": "stderr",
     "output_type": "stream",
     "text": [
      "100%|██████████████████████████████████████████| 16/16 [00:00<00:00, 165.08it/s]\n",
      " 90%|██████████████████████████████████████▋    | 27/30 [00:07<00:00,  3.82it/s]"
     ]
    },
    {
     "name": "stdout",
     "output_type": "stream",
     "text": [
      "Epoch 26:  (best: False)train loss = 0.102 (auc: 0.823 f1: 0.444), validation loss = 0.103 (auc: 0.826 f1: 0.419)\n"
     ]
    },
    {
     "name": "stderr",
     "output_type": "stream",
     "text": [
      "100%|██████████████████████████████████████████| 16/16 [00:00<00:00, 164.20it/s]\n",
      " 93%|████████████████████████████████████████▏  | 28/30 [00:07<00:00,  3.83it/s]"
     ]
    },
    {
     "name": "stdout",
     "output_type": "stream",
     "text": [
      "Epoch 27:  (best: True)train loss = 0.102 (auc: 0.820 f1: 0.472), validation loss = 0.103 (auc: 0.823 f1: 0.430)\n"
     ]
    },
    {
     "name": "stderr",
     "output_type": "stream",
     "text": [
      "100%|██████████████████████████████████████████| 16/16 [00:00<00:00, 157.94it/s]\n",
      " 97%|█████████████████████████████████████████▌ | 29/30 [00:07<00:00,  3.81it/s]"
     ]
    },
    {
     "name": "stdout",
     "output_type": "stream",
     "text": [
      "Epoch 28:  (best: True)train loss = 0.101 (auc: 0.826 f1: 0.459), validation loss = 0.103 (auc: 0.829 f1: 0.444)\n"
     ]
    },
    {
     "name": "stderr",
     "output_type": "stream",
     "text": [
      "100%|██████████████████████████████████████████| 16/16 [00:00<00:00, 167.85it/s]\n",
      "100%|███████████████████████████████████████████| 30/30 [00:07<00:00,  3.81it/s]\n"
     ]
    },
    {
     "name": "stdout",
     "output_type": "stream",
     "text": [
      "Epoch 29:  (best: False)train loss = 0.102 (auc: 0.818 f1: 0.447), validation loss = 0.103 (auc: 0.821 f1: 0.421)\n"
     ]
    },
    {
     "name": "stderr",
     "output_type": "stream",
     "text": [
      "100%|██████████████████████████████████████████| 16/16 [00:00<00:00, 153.90it/s]\n",
      "  3%|█▍                                          | 1/30 [00:00<00:07,  3.71it/s]"
     ]
    },
    {
     "name": "stdout",
     "output_type": "stream",
     "text": [
      "Epoch 0:  (best: True)train loss = 0.113 (auc: 0.839 f1: 0.152), validation loss = 0.114 (auc: 0.840 f1: 0.144)\n"
     ]
    },
    {
     "name": "stderr",
     "output_type": "stream",
     "text": [
      "100%|██████████████████████████████████████████| 16/16 [00:00<00:00, 167.68it/s]\n",
      "  7%|██▉                                         | 2/30 [00:00<00:07,  3.82it/s]"
     ]
    },
    {
     "name": "stdout",
     "output_type": "stream",
     "text": [
      "Epoch 1:  (best: True)train loss = 0.108 (auc: 0.817 f1: 0.233), validation loss = 0.109 (auc: 0.819 f1: 0.227)\n"
     ]
    },
    {
     "name": "stderr",
     "output_type": "stream",
     "text": [
      "100%|██████████████████████████████████████████| 16/16 [00:00<00:00, 158.19it/s]\n",
      " 10%|████▍                                       | 3/30 [00:00<00:07,  3.81it/s]"
     ]
    },
    {
     "name": "stdout",
     "output_type": "stream",
     "text": [
      "Epoch 2:  (best: True)train loss = 0.107 (auc: 0.834 f1: 0.260), validation loss = 0.108 (auc: 0.837 f1: 0.236)\n"
     ]
    },
    {
     "name": "stderr",
     "output_type": "stream",
     "text": [
      "100%|██████████████████████████████████████████| 16/16 [00:00<00:00, 161.64it/s]\n",
      " 13%|█████▊                                      | 4/30 [00:01<00:06,  3.80it/s]"
     ]
    },
    {
     "name": "stdout",
     "output_type": "stream",
     "text": [
      "Epoch 3:  (best: True)train loss = 0.106 (auc: 0.833 f1: 0.313), validation loss = 0.107 (auc: 0.837 f1: 0.296)\n"
     ]
    },
    {
     "name": "stderr",
     "output_type": "stream",
     "text": [
      "100%|██████████████████████████████████████████| 16/16 [00:00<00:00, 164.46it/s]\n",
      " 17%|███████▎                                    | 5/30 [00:01<00:06,  3.81it/s]"
     ]
    },
    {
     "name": "stdout",
     "output_type": "stream",
     "text": [
      "Epoch 4:  (best: True)train loss = 0.106 (auc: 0.826 f1: 0.328), validation loss = 0.106 (auc: 0.829 f1: 0.317)\n"
     ]
    },
    {
     "name": "stderr",
     "output_type": "stream",
     "text": [
      "100%|██████████████████████████████████████████| 16/16 [00:00<00:00, 166.99it/s]\n",
      " 20%|████████▊                                   | 6/30 [00:01<00:06,  3.83it/s]"
     ]
    },
    {
     "name": "stdout",
     "output_type": "stream",
     "text": [
      "Epoch 5:  (best: False)train loss = 0.105 (auc: 0.823 f1: 0.331), validation loss = 0.106 (auc: 0.828 f1: 0.313)\n"
     ]
    },
    {
     "name": "stderr",
     "output_type": "stream",
     "text": [
      "100%|██████████████████████████████████████████| 16/16 [00:00<00:00, 161.46it/s]\n",
      " 23%|██████████▎                                 | 7/30 [00:01<00:06,  3.80it/s]"
     ]
    },
    {
     "name": "stdout",
     "output_type": "stream",
     "text": [
      "Epoch 6:  (best: False)train loss = 0.105 (auc: 0.823 f1: 0.332), validation loss = 0.106 (auc: 0.828 f1: 0.313)\n"
     ]
    },
    {
     "name": "stderr",
     "output_type": "stream",
     "text": [
      "100%|██████████████████████████████████████████| 16/16 [00:00<00:00, 163.30it/s]\n",
      " 27%|███████████▋                                | 8/30 [00:02<00:05,  3.78it/s]"
     ]
    },
    {
     "name": "stdout",
     "output_type": "stream",
     "text": [
      "Epoch 7:  (best: True)train loss = 0.106 (auc: 0.817 f1: 0.329), validation loss = 0.106 (auc: 0.821 f1: 0.318)\n"
     ]
    },
    {
     "name": "stderr",
     "output_type": "stream",
     "text": [
      "100%|██████████████████████████████████████████| 16/16 [00:00<00:00, 158.49it/s]\n",
      " 30%|█████████████▏                              | 9/30 [00:02<00:05,  3.74it/s]"
     ]
    },
    {
     "name": "stdout",
     "output_type": "stream",
     "text": [
      "Epoch 8:  (best: False)train loss = 0.105 (auc: 0.819 f1: 0.330), validation loss = 0.106 (auc: 0.822 f1: 0.316)\n"
     ]
    },
    {
     "name": "stderr",
     "output_type": "stream",
     "text": [
      "100%|██████████████████████████████████████████| 16/16 [00:00<00:00, 158.11it/s]\n",
      " 33%|██████████████▎                            | 10/30 [00:02<00:05,  3.73it/s]"
     ]
    },
    {
     "name": "stdout",
     "output_type": "stream",
     "text": [
      "Epoch 9:  (best: True)train loss = 0.104 (auc: 0.824 f1: 0.396), validation loss = 0.105 (auc: 0.829 f1: 0.366)\n"
     ]
    },
    {
     "name": "stderr",
     "output_type": "stream",
     "text": [
      "100%|██████████████████████████████████████████| 16/16 [00:00<00:00, 152.64it/s]\n",
      " 37%|███████████████▊                           | 11/30 [00:02<00:05,  3.64it/s]"
     ]
    },
    {
     "name": "stdout",
     "output_type": "stream",
     "text": [
      "Epoch 10:  (best: True)train loss = 0.104 (auc: 0.820 f1: 0.405), validation loss = 0.105 (auc: 0.827 f1: 0.381)\n"
     ]
    },
    {
     "name": "stderr",
     "output_type": "stream",
     "text": [
      "100%|██████████████████████████████████████████| 16/16 [00:00<00:00, 162.62it/s]\n",
      " 40%|█████████████████▏                         | 12/30 [00:03<00:04,  3.66it/s]"
     ]
    },
    {
     "name": "stdout",
     "output_type": "stream",
     "text": [
      "Epoch 11:  (best: True)train loss = 0.104 (auc: 0.818 f1: 0.412), validation loss = 0.104 (auc: 0.826 f1: 0.391)\n"
     ]
    },
    {
     "name": "stderr",
     "output_type": "stream",
     "text": [
      "100%|██████████████████████████████████████████| 16/16 [00:00<00:00, 162.63it/s]\n",
      " 43%|██████████████████▋                        | 13/30 [00:03<00:04,  3.74it/s]"
     ]
    },
    {
     "name": "stdout",
     "output_type": "stream",
     "text": [
      "Epoch 12:  (best: False)train loss = 0.104 (auc: 0.813 f1: 0.402), validation loss = 0.104 (auc: 0.816 f1: 0.389)\n"
     ]
    },
    {
     "name": "stderr",
     "output_type": "stream",
     "text": [
      "100%|██████████████████████████████████████████| 16/16 [00:00<00:00, 170.33it/s]\n",
      " 47%|████████████████████                       | 14/30 [00:03<00:04,  3.76it/s]"
     ]
    },
    {
     "name": "stdout",
     "output_type": "stream",
     "text": [
      "Epoch 13:  (best: False)train loss = 0.104 (auc: 0.816 f1: 0.408), validation loss = 0.104 (auc: 0.821 f1: 0.386)\n"
     ]
    },
    {
     "name": "stderr",
     "output_type": "stream",
     "text": [
      "100%|██████████████████████████████████████████| 16/16 [00:00<00:00, 164.67it/s]\n",
      " 50%|█████████████████████▌                     | 15/30 [00:03<00:03,  3.79it/s]"
     ]
    },
    {
     "name": "stdout",
     "output_type": "stream",
     "text": [
      "Epoch 14:  (best: True)train loss = 0.104 (auc: 0.809 f1: 0.403), validation loss = 0.104 (auc: 0.809 f1: 0.394)\n"
     ]
    },
    {
     "name": "stderr",
     "output_type": "stream",
     "text": [
      "100%|██████████████████████████████████████████| 16/16 [00:00<00:00, 162.84it/s]\n",
      " 53%|██████████████████████▉                    | 16/30 [00:04<00:03,  3.81it/s]"
     ]
    },
    {
     "name": "stdout",
     "output_type": "stream",
     "text": [
      "Epoch 15:  (best: False)train loss = 0.103 (auc: 0.804 f1: 0.410), validation loss = 0.104 (auc: 0.810 f1: 0.384)\n"
     ]
    },
    {
     "name": "stderr",
     "output_type": "stream",
     "text": [
      "100%|██████████████████████████████████████████| 16/16 [00:00<00:00, 164.60it/s]\n",
      " 57%|████████████████████████▎                  | 17/30 [00:04<00:03,  3.78it/s]"
     ]
    },
    {
     "name": "stdout",
     "output_type": "stream",
     "text": [
      "Epoch 16:  (best: False)train loss = 0.103 (auc: 0.806 f1: 0.408), validation loss = 0.104 (auc: 0.811 f1: 0.386)\n"
     ]
    },
    {
     "name": "stderr",
     "output_type": "stream",
     "text": [
      "100%|██████████████████████████████████████████| 16/16 [00:00<00:00, 150.87it/s]\n",
      " 60%|█████████████████████████▊                 | 18/30 [00:04<00:03,  3.70it/s]"
     ]
    },
    {
     "name": "stdout",
     "output_type": "stream",
     "text": [
      "Epoch 17:  (best: False)train loss = 0.103 (auc: 0.810 f1: 0.409), validation loss = 0.104 (auc: 0.814 f1: 0.385)\n"
     ]
    },
    {
     "name": "stderr",
     "output_type": "stream",
     "text": [
      "100%|██████████████████████████████████████████| 16/16 [00:00<00:00, 156.42it/s]\n",
      " 63%|███████████████████████████▏               | 19/30 [00:05<00:02,  3.70it/s]"
     ]
    },
    {
     "name": "stdout",
     "output_type": "stream",
     "text": [
      "Epoch 18:  (best: False)train loss = 0.103 (auc: 0.810 f1: 0.411), validation loss = 0.104 (auc: 0.814 f1: 0.389)\n"
     ]
    },
    {
     "name": "stderr",
     "output_type": "stream",
     "text": [
      "100%|██████████████████████████████████████████| 16/16 [00:00<00:00, 150.63it/s]\n",
      " 67%|████████████████████████████▋              | 20/30 [00:05<00:02,  3.65it/s]"
     ]
    },
    {
     "name": "stdout",
     "output_type": "stream",
     "text": [
      "Epoch 19:  (best: False)train loss = 0.103 (auc: 0.803 f1: 0.410), validation loss = 0.104 (auc: 0.806 f1: 0.389)\n"
     ]
    },
    {
     "name": "stderr",
     "output_type": "stream",
     "text": [
      "100%|██████████████████████████████████████████| 16/16 [00:00<00:00, 156.04it/s]\n",
      " 70%|██████████████████████████████             | 21/30 [00:05<00:02,  3.66it/s]"
     ]
    },
    {
     "name": "stdout",
     "output_type": "stream",
     "text": [
      "Epoch 20:  (best: False)train loss = 0.103 (auc: 0.810 f1: 0.408), validation loss = 0.104 (auc: 0.814 f1: 0.391)\n"
     ]
    },
    {
     "name": "stderr",
     "output_type": "stream",
     "text": [
      "100%|██████████████████████████████████████████| 16/16 [00:00<00:00, 157.52it/s]\n",
      " 73%|███████████████████████████████▌           | 22/30 [00:05<00:02,  3.67it/s]"
     ]
    },
    {
     "name": "stdout",
     "output_type": "stream",
     "text": [
      "Epoch 21:  (best: False)train loss = 0.103 (auc: 0.809 f1: 0.420), validation loss = 0.104 (auc: 0.812 f1: 0.384)\n"
     ]
    },
    {
     "name": "stderr",
     "output_type": "stream",
     "text": [
      "100%|██████████████████████████████████████████| 16/16 [00:00<00:00, 161.42it/s]\n",
      " 77%|████████████████████████████████▉          | 23/30 [00:06<00:01,  3.68it/s]"
     ]
    },
    {
     "name": "stdout",
     "output_type": "stream",
     "text": [
      "Epoch 22:  (best: False)train loss = 0.103 (auc: 0.808 f1: 0.415), validation loss = 0.104 (auc: 0.809 f1: 0.390)\n"
     ]
    },
    {
     "name": "stderr",
     "output_type": "stream",
     "text": [
      "100%|██████████████████████████████████████████| 16/16 [00:00<00:00, 155.64it/s]\n",
      " 80%|██████████████████████████████████▍        | 24/30 [00:06<00:01,  3.67it/s]"
     ]
    },
    {
     "name": "stdout",
     "output_type": "stream",
     "text": [
      "Epoch 23:  (best: False)train loss = 0.103 (auc: 0.803 f1: 0.415), validation loss = 0.104 (auc: 0.807 f1: 0.390)\n"
     ]
    },
    {
     "name": "stderr",
     "output_type": "stream",
     "text": [
      "100%|██████████████████████████████████████████| 16/16 [00:00<00:00, 133.73it/s]\n",
      " 83%|███████████████████████████████████▊       | 25/30 [00:06<00:01,  3.46it/s]"
     ]
    },
    {
     "name": "stdout",
     "output_type": "stream",
     "text": [
      "Epoch 24:  (best: False)train loss = 0.103 (auc: 0.801 f1: 0.420), validation loss = 0.104 (auc: 0.805 f1: 0.392)\n"
     ]
    },
    {
     "name": "stderr",
     "output_type": "stream",
     "text": [
      "100%|██████████████████████████████████████████| 16/16 [00:00<00:00, 161.10it/s]\n",
      " 87%|█████████████████████████████████████▎     | 26/30 [00:07<00:01,  3.56it/s]"
     ]
    },
    {
     "name": "stdout",
     "output_type": "stream",
     "text": [
      "Epoch 25:  (best: True)train loss = 0.103 (auc: 0.803 f1: 0.421), validation loss = 0.104 (auc: 0.807 f1: 0.398)\n"
     ]
    },
    {
     "name": "stderr",
     "output_type": "stream",
     "text": [
      "100%|██████████████████████████████████████████| 16/16 [00:00<00:00, 158.48it/s]\n",
      " 90%|██████████████████████████████████████▋    | 27/30 [00:07<00:00,  3.60it/s]"
     ]
    },
    {
     "name": "stdout",
     "output_type": "stream",
     "text": [
      "Epoch 26:  (best: False)train loss = 0.103 (auc: 0.796 f1: 0.417), validation loss = 0.104 (auc: 0.799 f1: 0.391)\n"
     ]
    },
    {
     "name": "stderr",
     "output_type": "stream",
     "text": [
      "100%|██████████████████████████████████████████| 16/16 [00:00<00:00, 155.53it/s]\n",
      " 93%|████████████████████████████████████████▏  | 28/30 [00:07<00:00,  3.60it/s]"
     ]
    },
    {
     "name": "stdout",
     "output_type": "stream",
     "text": [
      "Epoch 27:  (best: False)train loss = 0.103 (auc: 0.792 f1: 0.412), validation loss = 0.104 (auc: 0.796 f1: 0.384)\n"
     ]
    },
    {
     "name": "stderr",
     "output_type": "stream",
     "text": [
      "100%|██████████████████████████████████████████| 16/16 [00:00<00:00, 153.77it/s]\n",
      " 97%|█████████████████████████████████████████▌ | 29/30 [00:07<00:00,  3.56it/s]"
     ]
    },
    {
     "name": "stdout",
     "output_type": "stream",
     "text": [
      "Epoch 28:  (best: False)train loss = 0.103 (auc: 0.799 f1: 0.410), validation loss = 0.104 (auc: 0.800 f1: 0.386)\n"
     ]
    },
    {
     "name": "stderr",
     "output_type": "stream",
     "text": [
      "100%|██████████████████████████████████████████| 16/16 [00:00<00:00, 146.68it/s]\n",
      "100%|███████████████████████████████████████████| 30/30 [00:08<00:00,  3.68it/s]\n"
     ]
    },
    {
     "name": "stdout",
     "output_type": "stream",
     "text": [
      "Epoch 29:  (best: False)train loss = 0.103 (auc: 0.803 f1: 0.411), validation loss = 0.104 (auc: 0.804 f1: 0.390)\n"
     ]
    },
    {
     "name": "stderr",
     "output_type": "stream",
     "text": [
      "100%|██████████████████████████████████████████| 16/16 [00:00<00:00, 147.41it/s]\n",
      "  3%|█▍                                          | 1/30 [00:00<00:08,  3.30it/s]"
     ]
    },
    {
     "name": "stdout",
     "output_type": "stream",
     "text": [
      "Epoch 0:  (best: True)train loss = 0.113 (auc: 0.828 f1: 0.177), validation loss = 0.113 (auc: 0.842 f1: 0.163)\n"
     ]
    },
    {
     "name": "stderr",
     "output_type": "stream",
     "text": [
      "100%|██████████████████████████████████████████| 16/16 [00:00<00:00, 138.21it/s]\n",
      "  7%|██▉                                         | 2/30 [00:00<00:08,  3.46it/s]"
     ]
    },
    {
     "name": "stdout",
     "output_type": "stream",
     "text": [
      "Epoch 1:  (best: True)train loss = 0.108 (auc: 0.815 f1: 0.247), validation loss = 0.109 (auc: 0.820 f1: 0.226)\n"
     ]
    },
    {
     "name": "stderr",
     "output_type": "stream",
     "text": [
      "100%|██████████████████████████████████████████| 16/16 [00:00<00:00, 164.51it/s]\n",
      " 10%|████▍                                       | 3/30 [00:00<00:07,  3.58it/s]"
     ]
    },
    {
     "name": "stdout",
     "output_type": "stream",
     "text": [
      "Epoch 2:  (best: True)train loss = 0.107 (auc: 0.823 f1: 0.284), validation loss = 0.108 (auc: 0.829 f1: 0.257)\n"
     ]
    },
    {
     "name": "stderr",
     "output_type": "stream",
     "text": [
      "100%|██████████████████████████████████████████| 16/16 [00:00<00:00, 163.57it/s]\n",
      " 13%|█████▊                                      | 4/30 [00:01<00:07,  3.65it/s]"
     ]
    },
    {
     "name": "stdout",
     "output_type": "stream",
     "text": [
      "Epoch 3:  (best: True)train loss = 0.106 (auc: 0.820 f1: 0.294), validation loss = 0.107 (auc: 0.825 f1: 0.278)\n"
     ]
    },
    {
     "name": "stderr",
     "output_type": "stream",
     "text": [
      "100%|██████████████████████████████████████████| 16/16 [00:00<00:00, 150.10it/s]\n",
      " 17%|███████▎                                    | 5/30 [00:01<00:06,  3.66it/s]"
     ]
    },
    {
     "name": "stdout",
     "output_type": "stream",
     "text": [
      "Epoch 4:  (best: True)train loss = 0.106 (auc: 0.816 f1: 0.330), validation loss = 0.106 (auc: 0.823 f1: 0.320)\n"
     ]
    },
    {
     "name": "stderr",
     "output_type": "stream",
     "text": [
      "100%|██████████████████████████████████████████| 16/16 [00:00<00:00, 165.16it/s]\n",
      " 20%|████████▊                                   | 6/30 [00:01<00:06,  3.72it/s]"
     ]
    },
    {
     "name": "stdout",
     "output_type": "stream",
     "text": [
      "Epoch 5:  (best: False)train loss = 0.105 (auc: 0.815 f1: 0.334), validation loss = 0.106 (auc: 0.822 f1: 0.316)\n"
     ]
    },
    {
     "name": "stderr",
     "output_type": "stream",
     "text": [
      "100%|██████████████████████████████████████████| 16/16 [00:00<00:00, 164.24it/s]\n",
      " 23%|██████████▎                                 | 7/30 [00:01<00:06,  3.72it/s]"
     ]
    },
    {
     "name": "stdout",
     "output_type": "stream",
     "text": [
      "Epoch 6:  (best: False)train loss = 0.105 (auc: 0.815 f1: 0.336), validation loss = 0.106 (auc: 0.823 f1: 0.319)\n"
     ]
    },
    {
     "name": "stderr",
     "output_type": "stream",
     "text": [
      "100%|██████████████████████████████████████████| 16/16 [00:00<00:00, 153.10it/s]\n",
      " 27%|███████████▋                                | 8/30 [00:02<00:05,  3.68it/s]"
     ]
    },
    {
     "name": "stdout",
     "output_type": "stream",
     "text": [
      "Epoch 7:  (best: False)train loss = 0.105 (auc: 0.807 f1: 0.318), validation loss = 0.106 (auc: 0.813 f1: 0.308)\n"
     ]
    },
    {
     "name": "stderr",
     "output_type": "stream",
     "text": [
      "100%|██████████████████████████████████████████| 16/16 [00:00<00:00, 151.57it/s]\n",
      " 30%|█████████████▏                              | 9/30 [00:02<00:05,  3.67it/s]"
     ]
    },
    {
     "name": "stdout",
     "output_type": "stream",
     "text": [
      "Epoch 8:  (best: False)train loss = 0.105 (auc: 0.808 f1: 0.335), validation loss = 0.106 (auc: 0.813 f1: 0.319)\n"
     ]
    },
    {
     "name": "stderr",
     "output_type": "stream",
     "text": [
      "100%|██████████████████████████████████████████| 16/16 [00:00<00:00, 156.91it/s]\n",
      " 33%|██████████████▎                            | 10/30 [00:02<00:05,  3.65it/s]"
     ]
    },
    {
     "name": "stdout",
     "output_type": "stream",
     "text": [
      "Epoch 9:  (best: False)train loss = 0.105 (auc: 0.811 f1: 0.328), validation loss = 0.106 (auc: 0.817 f1: 0.313)\n"
     ]
    },
    {
     "name": "stderr",
     "output_type": "stream",
     "text": [
      "100%|██████████████████████████████████████████| 16/16 [00:00<00:00, 146.25it/s]\n",
      " 37%|███████████████▊                           | 11/30 [00:03<00:05,  3.61it/s]"
     ]
    },
    {
     "name": "stdout",
     "output_type": "stream",
     "text": [
      "Epoch 10:  (best: True)train loss = 0.104 (auc: 0.817 f1: 0.362), validation loss = 0.106 (auc: 0.825 f1: 0.344)\n"
     ]
    },
    {
     "name": "stderr",
     "output_type": "stream",
     "text": [
      "100%|██████████████████████████████████████████| 16/16 [00:00<00:00, 165.01it/s]\n",
      " 40%|█████████████████▏                         | 12/30 [00:03<00:04,  3.67it/s]"
     ]
    },
    {
     "name": "stdout",
     "output_type": "stream",
     "text": [
      "Epoch 11:  (best: False)train loss = 0.104 (auc: 0.803 f1: 0.358), validation loss = 0.105 (auc: 0.811 f1: 0.331)\n"
     ]
    },
    {
     "name": "stderr",
     "output_type": "stream",
     "text": [
      "100%|██████████████████████████████████████████| 16/16 [00:00<00:00, 164.41it/s]\n",
      " 43%|██████████████████▋                        | 13/30 [00:03<00:04,  3.72it/s]"
     ]
    },
    {
     "name": "stdout",
     "output_type": "stream",
     "text": [
      "Epoch 12:  (best: False)train loss = 0.104 (auc: 0.810 f1: 0.361), validation loss = 0.105 (auc: 0.816 f1: 0.342)\n"
     ]
    },
    {
     "name": "stderr",
     "output_type": "stream",
     "text": [
      "100%|██████████████████████████████████████████| 16/16 [00:00<00:00, 157.82it/s]\n",
      " 47%|████████████████████                       | 14/30 [00:03<00:04,  3.69it/s]"
     ]
    },
    {
     "name": "stdout",
     "output_type": "stream",
     "text": [
      "Epoch 13:  (best: False)train loss = 0.104 (auc: 0.805 f1: 0.363), validation loss = 0.105 (auc: 0.809 f1: 0.341)\n"
     ]
    },
    {
     "name": "stderr",
     "output_type": "stream",
     "text": [
      "100%|██████████████████████████████████████████| 16/16 [00:00<00:00, 160.37it/s]\n",
      " 50%|█████████████████████▌                     | 15/30 [00:04<00:04,  3.72it/s]"
     ]
    },
    {
     "name": "stdout",
     "output_type": "stream",
     "text": [
      "Epoch 14:  (best: False)train loss = 0.104 (auc: 0.805 f1: 0.358), validation loss = 0.105 (auc: 0.808 f1: 0.338)\n"
     ]
    },
    {
     "name": "stderr",
     "output_type": "stream",
     "text": [
      "100%|██████████████████████████████████████████| 16/16 [00:00<00:00, 152.80it/s]\n",
      " 53%|██████████████████████▉                    | 16/30 [00:04<00:03,  3.71it/s]"
     ]
    },
    {
     "name": "stdout",
     "output_type": "stream",
     "text": [
      "Epoch 15:  (best: False)train loss = 0.104 (auc: 0.805 f1: 0.363), validation loss = 0.105 (auc: 0.806 f1: 0.339)\n"
     ]
    },
    {
     "name": "stderr",
     "output_type": "stream",
     "text": [
      "100%|██████████████████████████████████████████| 16/16 [00:00<00:00, 165.03it/s]\n",
      " 57%|████████████████████████▎                  | 17/30 [00:04<00:03,  3.73it/s]"
     ]
    },
    {
     "name": "stdout",
     "output_type": "stream",
     "text": [
      "Epoch 16:  (best: False)train loss = 0.104 (auc: 0.808 f1: 0.363), validation loss = 0.105 (auc: 0.812 f1: 0.342)\n"
     ]
    },
    {
     "name": "stderr",
     "output_type": "stream",
     "text": [
      "100%|██████████████████████████████████████████| 16/16 [00:00<00:00, 146.60it/s]\n",
      " 60%|█████████████████████████▊                 | 18/30 [00:04<00:03,  3.65it/s]"
     ]
    },
    {
     "name": "stdout",
     "output_type": "stream",
     "text": [
      "Epoch 17:  (best: False)train loss = 0.104 (auc: 0.799 f1: 0.362), validation loss = 0.105 (auc: 0.796 f1: 0.338)\n"
     ]
    },
    {
     "name": "stderr",
     "output_type": "stream",
     "text": [
      "100%|██████████████████████████████████████████| 16/16 [00:00<00:00, 150.27it/s]\n",
      " 63%|███████████████████████████▏               | 19/30 [00:05<00:03,  3.63it/s]"
     ]
    },
    {
     "name": "stdout",
     "output_type": "stream",
     "text": [
      "Epoch 18:  (best: False)train loss = 0.104 (auc: 0.803 f1: 0.359), validation loss = 0.105 (auc: 0.807 f1: 0.333)\n"
     ]
    },
    {
     "name": "stderr",
     "output_type": "stream",
     "text": [
      "100%|██████████████████████████████████████████| 16/16 [00:00<00:00, 158.52it/s]\n",
      " 67%|████████████████████████████▋              | 20/30 [00:05<00:02,  3.67it/s]"
     ]
    },
    {
     "name": "stdout",
     "output_type": "stream",
     "text": [
      "Epoch 19:  (best: True)train loss = 0.103 (auc: 0.800 f1: 0.410), validation loss = 0.104 (auc: 0.799 f1: 0.390)\n"
     ]
    },
    {
     "name": "stderr",
     "output_type": "stream",
     "text": [
      "100%|██████████████████████████████████████████| 16/16 [00:00<00:00, 162.97it/s]\n",
      " 70%|██████████████████████████████             | 21/30 [00:05<00:02,  3.69it/s]"
     ]
    },
    {
     "name": "stdout",
     "output_type": "stream",
     "text": [
      "Epoch 20:  (best: False)train loss = 0.104 (auc: 0.797 f1: 0.404), validation loss = 0.104 (auc: 0.802 f1: 0.385)\n"
     ]
    },
    {
     "name": "stderr",
     "output_type": "stream",
     "text": [
      "100%|██████████████████████████████████████████| 16/16 [00:00<00:00, 156.26it/s]\n",
      " 73%|███████████████████████████████▌           | 22/30 [00:05<00:02,  3.70it/s]"
     ]
    },
    {
     "name": "stdout",
     "output_type": "stream",
     "text": [
      "Epoch 21:  (best: False)train loss = 0.103 (auc: 0.796 f1: 0.403), validation loss = 0.104 (auc: 0.801 f1: 0.374)\n"
     ]
    },
    {
     "name": "stderr",
     "output_type": "stream",
     "text": [
      "100%|██████████████████████████████████████████| 16/16 [00:00<00:00, 164.69it/s]\n",
      " 77%|████████████████████████████████▉          | 23/30 [00:06<00:01,  3.73it/s]"
     ]
    },
    {
     "name": "stdout",
     "output_type": "stream",
     "text": [
      "Epoch 22:  (best: False)train loss = 0.104 (auc: 0.799 f1: 0.405), validation loss = 0.104 (auc: 0.802 f1: 0.388)\n"
     ]
    },
    {
     "name": "stderr",
     "output_type": "stream",
     "text": [
      "100%|██████████████████████████████████████████| 16/16 [00:00<00:00, 165.03it/s]\n",
      " 80%|██████████████████████████████████▍        | 24/30 [00:06<00:01,  3.76it/s]"
     ]
    },
    {
     "name": "stdout",
     "output_type": "stream",
     "text": [
      "Epoch 23:  (best: False)train loss = 0.103 (auc: 0.797 f1: 0.412), validation loss = 0.104 (auc: 0.801 f1: 0.387)\n"
     ]
    },
    {
     "name": "stderr",
     "output_type": "stream",
     "text": [
      "100%|██████████████████████████████████████████| 16/16 [00:00<00:00, 168.47it/s]\n",
      " 83%|███████████████████████████████████▊       | 25/30 [00:06<00:01,  3.81it/s]"
     ]
    },
    {
     "name": "stdout",
     "output_type": "stream",
     "text": [
      "Epoch 24:  (best: False)train loss = 0.103 (auc: 0.795 f1: 0.411), validation loss = 0.104 (auc: 0.799 f1: 0.389)\n"
     ]
    },
    {
     "name": "stderr",
     "output_type": "stream",
     "text": [
      "100%|██████████████████████████████████████████| 16/16 [00:00<00:00, 168.77it/s]\n",
      " 87%|█████████████████████████████████████▎     | 26/30 [00:07<00:01,  3.83it/s]"
     ]
    },
    {
     "name": "stdout",
     "output_type": "stream",
     "text": [
      "Epoch 25:  (best: True)train loss = 0.103 (auc: 0.798 f1: 0.410), validation loss = 0.104 (auc: 0.801 f1: 0.393)\n"
     ]
    },
    {
     "name": "stderr",
     "output_type": "stream",
     "text": [
      "100%|██████████████████████████████████████████| 16/16 [00:00<00:00, 166.24it/s]\n",
      " 90%|██████████████████████████████████████▋    | 27/30 [00:07<00:00,  3.85it/s]"
     ]
    },
    {
     "name": "stdout",
     "output_type": "stream",
     "text": [
      "Epoch 26:  (best: False)train loss = 0.102 (auc: 0.798 f1: 0.409), validation loss = 0.104 (auc: 0.802 f1: 0.388)\n"
     ]
    },
    {
     "name": "stderr",
     "output_type": "stream",
     "text": [
      "100%|██████████████████████████████████████████| 16/16 [00:00<00:00, 163.44it/s]\n",
      " 93%|████████████████████████████████████████▏  | 28/30 [00:07<00:00,  3.84it/s]"
     ]
    },
    {
     "name": "stdout",
     "output_type": "stream",
     "text": [
      "Epoch 27:  (best: False)train loss = 0.103 (auc: 0.796 f1: 0.415), validation loss = 0.104 (auc: 0.801 f1: 0.386)\n"
     ]
    },
    {
     "name": "stderr",
     "output_type": "stream",
     "text": [
      "100%|██████████████████████████████████████████| 16/16 [00:00<00:00, 165.76it/s]\n",
      " 97%|█████████████████████████████████████████▌ | 29/30 [00:07<00:00,  3.85it/s]"
     ]
    },
    {
     "name": "stdout",
     "output_type": "stream",
     "text": [
      "Epoch 28:  (best: False)train loss = 0.103 (auc: 0.795 f1: 0.411), validation loss = 0.104 (auc: 0.799 f1: 0.388)\n"
     ]
    },
    {
     "name": "stderr",
     "output_type": "stream",
     "text": [
      "100%|██████████████████████████████████████████| 16/16 [00:00<00:00, 165.17it/s]\n",
      "100%|███████████████████████████████████████████| 30/30 [00:08<00:00,  3.72it/s]\n"
     ]
    },
    {
     "name": "stdout",
     "output_type": "stream",
     "text": [
      "Epoch 29:  (best: False)train loss = 0.103 (auc: 0.798 f1: 0.411), validation loss = 0.104 (auc: 0.802 f1: 0.385)\n"
     ]
    },
    {
     "name": "stderr",
     "output_type": "stream",
     "text": [
      "100%|██████████████████████████████████████████| 16/16 [00:00<00:00, 165.44it/s]\n",
      "  3%|█▍                                          | 1/30 [00:00<00:07,  3.83it/s]"
     ]
    },
    {
     "name": "stdout",
     "output_type": "stream",
     "text": [
      "Epoch 0:  (best: True)train loss = 0.112 (auc: 0.864 f1: 0.199), validation loss = 0.112 (auc: 0.877 f1: 0.200)\n"
     ]
    },
    {
     "name": "stderr",
     "output_type": "stream",
     "text": [
      "100%|██████████████████████████████████████████| 16/16 [00:00<00:00, 162.20it/s]\n",
      "  7%|██▉                                         | 2/30 [00:00<00:07,  3.80it/s]"
     ]
    },
    {
     "name": "stdout",
     "output_type": "stream",
     "text": [
      "Epoch 1:  (best: True)train loss = 0.105 (auc: 0.878 f1: 0.364), validation loss = 0.106 (auc: 0.891 f1: 0.366)\n"
     ]
    },
    {
     "name": "stderr",
     "output_type": "stream",
     "text": [
      "100%|██████████████████████████████████████████| 16/16 [00:00<00:00, 162.63it/s]\n",
      " 10%|████▍                                       | 3/30 [00:00<00:07,  3.80it/s]"
     ]
    },
    {
     "name": "stdout",
     "output_type": "stream",
     "text": [
      "Epoch 2:  (best: True)train loss = 0.102 (auc: 0.867 f1: 0.457), validation loss = 0.103 (auc: 0.880 f1: 0.459)\n"
     ]
    },
    {
     "name": "stderr",
     "output_type": "stream",
     "text": [
      "100%|██████████████████████████████████████████| 16/16 [00:00<00:00, 162.02it/s]\n",
      " 13%|█████▊                                      | 4/30 [00:01<00:06,  3.80it/s]"
     ]
    },
    {
     "name": "stdout",
     "output_type": "stream",
     "text": [
      "Epoch 3:  (best: True)train loss = 0.101 (auc: 0.870 f1: 0.490), validation loss = 0.101 (auc: 0.881 f1: 0.462)\n"
     ]
    },
    {
     "name": "stderr",
     "output_type": "stream",
     "text": [
      "100%|██████████████████████████████████████████| 16/16 [00:00<00:00, 159.94it/s]\n",
      " 17%|███████▎                                    | 5/30 [00:01<00:06,  3.78it/s]"
     ]
    },
    {
     "name": "stdout",
     "output_type": "stream",
     "text": [
      "Epoch 4:  (best: True)train loss = 0.101 (auc: 0.868 f1: 0.494), validation loss = 0.101 (auc: 0.880 f1: 0.471)\n"
     ]
    },
    {
     "name": "stderr",
     "output_type": "stream",
     "text": [
      "100%|██████████████████████████████████████████| 16/16 [00:00<00:00, 160.66it/s]\n",
      " 20%|████████▊                                   | 6/30 [00:01<00:06,  3.74it/s]"
     ]
    },
    {
     "name": "stdout",
     "output_type": "stream",
     "text": [
      "Epoch 5:  (best: True)train loss = 0.100 (auc: 0.867 f1: 0.517), validation loss = 0.101 (auc: 0.878 f1: 0.483)\n"
     ]
    },
    {
     "name": "stderr",
     "output_type": "stream",
     "text": [
      "100%|██████████████████████████████████████████| 16/16 [00:00<00:00, 163.89it/s]\n",
      " 23%|██████████▎                                 | 7/30 [00:01<00:06,  3.77it/s]"
     ]
    },
    {
     "name": "stdout",
     "output_type": "stream",
     "text": [
      "Epoch 6:  (best: True)train loss = 0.100 (auc: 0.865 f1: 0.518), validation loss = 0.101 (auc: 0.874 f1: 0.485)\n"
     ]
    },
    {
     "name": "stderr",
     "output_type": "stream",
     "text": [
      "100%|██████████████████████████████████████████| 16/16 [00:00<00:00, 156.76it/s]\n",
      " 27%|███████████▋                                | 8/30 [00:02<00:05,  3.75it/s]"
     ]
    },
    {
     "name": "stdout",
     "output_type": "stream",
     "text": [
      "Epoch 7:  (best: True)train loss = 0.100 (auc: 0.865 f1: 0.524), validation loss = 0.100 (auc: 0.876 f1: 0.499)\n"
     ]
    },
    {
     "name": "stderr",
     "output_type": "stream",
     "text": [
      "100%|██████████████████████████████████████████| 16/16 [00:00<00:00, 159.94it/s]\n",
      " 30%|█████████████▏                              | 9/30 [00:02<00:05,  3.77it/s]"
     ]
    },
    {
     "name": "stdout",
     "output_type": "stream",
     "text": [
      "Epoch 8:  (best: False)train loss = 0.099 (auc: 0.866 f1: 0.519), validation loss = 0.100 (auc: 0.878 f1: 0.491)\n"
     ]
    },
    {
     "name": "stderr",
     "output_type": "stream",
     "text": [
      "100%|██████████████████████████████████████████| 16/16 [00:00<00:00, 146.80it/s]\n",
      " 33%|██████████████▎                            | 10/30 [00:02<00:05,  3.62it/s]"
     ]
    },
    {
     "name": "stdout",
     "output_type": "stream",
     "text": [
      "Epoch 9:  (best: True)train loss = 0.100 (auc: 0.866 f1: 0.542), validation loss = 0.100 (auc: 0.877 f1: 0.514)\n"
     ]
    },
    {
     "name": "stderr",
     "output_type": "stream",
     "text": [
      "100%|██████████████████████████████████████████| 16/16 [00:00<00:00, 146.68it/s]\n",
      " 37%|███████████████▊                           | 11/30 [00:02<00:05,  3.62it/s]"
     ]
    },
    {
     "name": "stdout",
     "output_type": "stream",
     "text": [
      "Epoch 10:  (best: True)train loss = 0.099 (auc: 0.864 f1: 0.536), validation loss = 0.100 (auc: 0.874 f1: 0.515)\n"
     ]
    },
    {
     "name": "stderr",
     "output_type": "stream",
     "text": [
      "100%|██████████████████████████████████████████| 16/16 [00:00<00:00, 153.09it/s]\n",
      " 40%|█████████████████▏                         | 12/30 [00:03<00:04,  3.64it/s]"
     ]
    },
    {
     "name": "stdout",
     "output_type": "stream",
     "text": [
      "Epoch 11:  (best: True)train loss = 0.099 (auc: 0.867 f1: 0.565), validation loss = 0.100 (auc: 0.878 f1: 0.523)\n"
     ]
    },
    {
     "name": "stderr",
     "output_type": "stream",
     "text": [
      "100%|██████████████████████████████████████████| 16/16 [00:00<00:00, 161.38it/s]\n",
      " 43%|██████████████████▋                        | 13/30 [00:03<00:04,  3.68it/s]"
     ]
    },
    {
     "name": "stdout",
     "output_type": "stream",
     "text": [
      "Epoch 12:  (best: False)train loss = 0.099 (auc: 0.864 f1: 0.545), validation loss = 0.100 (auc: 0.877 f1: 0.512)\n"
     ]
    },
    {
     "name": "stderr",
     "output_type": "stream",
     "text": [
      "100%|██████████████████████████████████████████| 16/16 [00:00<00:00, 157.40it/s]\n",
      " 47%|████████████████████                       | 14/30 [00:03<00:04,  3.69it/s]"
     ]
    },
    {
     "name": "stdout",
     "output_type": "stream",
     "text": [
      "Epoch 13:  (best: False)train loss = 0.099 (auc: 0.864 f1: 0.549), validation loss = 0.100 (auc: 0.876 f1: 0.516)\n"
     ]
    },
    {
     "name": "stderr",
     "output_type": "stream",
     "text": [
      "100%|██████████████████████████████████████████| 16/16 [00:00<00:00, 158.71it/s]\n",
      " 50%|█████████████████████▌                     | 15/30 [00:04<00:04,  3.70it/s]"
     ]
    },
    {
     "name": "stdout",
     "output_type": "stream",
     "text": [
      "Epoch 14:  (best: True)train loss = 0.099 (auc: 0.863 f1: 0.570), validation loss = 0.100 (auc: 0.874 f1: 0.535)\n"
     ]
    },
    {
     "name": "stderr",
     "output_type": "stream",
     "text": [
      "100%|██████████████████████████████████████████| 16/16 [00:00<00:00, 157.57it/s]\n",
      " 53%|██████████████████████▉                    | 16/30 [00:04<00:03,  3.71it/s]"
     ]
    },
    {
     "name": "stdout",
     "output_type": "stream",
     "text": [
      "Epoch 15:  (best: False)train loss = 0.099 (auc: 0.865 f1: 0.567), validation loss = 0.100 (auc: 0.878 f1: 0.533)\n"
     ]
    },
    {
     "name": "stderr",
     "output_type": "stream",
     "text": [
      "100%|██████████████████████████████████████████| 16/16 [00:00<00:00, 153.52it/s]\n",
      " 57%|████████████████████████▎                  | 17/30 [00:04<00:03,  3.55it/s]"
     ]
    },
    {
     "name": "stdout",
     "output_type": "stream",
     "text": [
      "Epoch 16:  (best: True)train loss = 0.098 (auc: 0.866 f1: 0.574), validation loss = 0.100 (auc: 0.881 f1: 0.537)\n"
     ]
    },
    {
     "name": "stderr",
     "output_type": "stream",
     "text": [
      "100%|██████████████████████████████████████████| 16/16 [00:00<00:00, 156.26it/s]\n",
      " 60%|█████████████████████████▊                 | 18/30 [00:04<00:03,  3.59it/s]"
     ]
    },
    {
     "name": "stdout",
     "output_type": "stream",
     "text": [
      "Epoch 17:  (best: True)train loss = 0.098 (auc: 0.865 f1: 0.577), validation loss = 0.100 (auc: 0.878 f1: 0.542)\n"
     ]
    },
    {
     "name": "stderr",
     "output_type": "stream",
     "text": [
      "100%|██████████████████████████████████████████| 16/16 [00:00<00:00, 156.05it/s]\n",
      " 63%|███████████████████████████▏               | 19/30 [00:05<00:03,  3.63it/s]"
     ]
    },
    {
     "name": "stdout",
     "output_type": "stream",
     "text": [
      "Epoch 18:  (best: True)train loss = 0.098 (auc: 0.864 f1: 0.585), validation loss = 0.100 (auc: 0.877 f1: 0.543)\n"
     ]
    },
    {
     "name": "stderr",
     "output_type": "stream",
     "text": [
      "100%|██████████████████████████████████████████| 16/16 [00:00<00:00, 152.94it/s]\n",
      " 67%|████████████████████████████▋              | 20/30 [00:05<00:02,  3.63it/s]"
     ]
    },
    {
     "name": "stdout",
     "output_type": "stream",
     "text": [
      "Epoch 19:  (best: True)train loss = 0.099 (auc: 0.869 f1: 0.592), validation loss = 0.100 (auc: 0.882 f1: 0.558)\n"
     ]
    },
    {
     "name": "stderr",
     "output_type": "stream",
     "text": [
      "100%|██████████████████████████████████████████| 16/16 [00:00<00:00, 152.14it/s]\n",
      " 70%|██████████████████████████████             | 21/30 [00:05<00:02,  3.63it/s]"
     ]
    },
    {
     "name": "stdout",
     "output_type": "stream",
     "text": [
      "Epoch 20:  (best: False)train loss = 0.098 (auc: 0.868 f1: 0.582), validation loss = 0.100 (auc: 0.882 f1: 0.540)\n"
     ]
    },
    {
     "name": "stderr",
     "output_type": "stream",
     "text": [
      "100%|██████████████████████████████████████████| 16/16 [00:00<00:00, 147.46it/s]\n",
      " 73%|███████████████████████████████▌           | 22/30 [00:05<00:02,  3.62it/s]"
     ]
    },
    {
     "name": "stdout",
     "output_type": "stream",
     "text": [
      "Epoch 21:  (best: False)train loss = 0.099 (auc: 0.866 f1: 0.570), validation loss = 0.100 (auc: 0.878 f1: 0.529)\n"
     ]
    },
    {
     "name": "stderr",
     "output_type": "stream",
     "text": [
      "100%|██████████████████████████████████████████| 16/16 [00:00<00:00, 158.59it/s]\n",
      " 77%|████████████████████████████████▉          | 23/30 [00:06<00:01,  3.66it/s]"
     ]
    },
    {
     "name": "stdout",
     "output_type": "stream",
     "text": [
      "Epoch 22:  (best: False)train loss = 0.098 (auc: 0.867 f1: 0.584), validation loss = 0.100 (auc: 0.879 f1: 0.549)\n"
     ]
    },
    {
     "name": "stderr",
     "output_type": "stream",
     "text": [
      "100%|██████████████████████████████████████████| 16/16 [00:00<00:00, 158.67it/s]\n",
      " 80%|██████████████████████████████████▍        | 24/30 [00:06<00:01,  3.65it/s]"
     ]
    },
    {
     "name": "stdout",
     "output_type": "stream",
     "text": [
      "Epoch 23:  (best: False)train loss = 0.098 (auc: 0.869 f1: 0.599), validation loss = 0.099 (auc: 0.883 f1: 0.550)\n"
     ]
    },
    {
     "name": "stderr",
     "output_type": "stream",
     "text": [
      "100%|██████████████████████████████████████████| 16/16 [00:00<00:00, 149.32it/s]\n",
      " 83%|███████████████████████████████████▊       | 25/30 [00:06<00:01,  3.65it/s]"
     ]
    },
    {
     "name": "stdout",
     "output_type": "stream",
     "text": [
      "Epoch 24:  (best: False)train loss = 0.098 (auc: 0.867 f1: 0.600), validation loss = 0.100 (auc: 0.879 f1: 0.547)\n"
     ]
    },
    {
     "name": "stderr",
     "output_type": "stream",
     "text": [
      "100%|██████████████████████████████████████████| 16/16 [00:00<00:00, 161.97it/s]\n",
      " 87%|█████████████████████████████████████▎     | 26/30 [00:07<00:01,  3.66it/s]"
     ]
    },
    {
     "name": "stdout",
     "output_type": "stream",
     "text": [
      "Epoch 25:  (best: False)train loss = 0.098 (auc: 0.871 f1: 0.596), validation loss = 0.099 (auc: 0.884 f1: 0.556)\n"
     ]
    },
    {
     "name": "stderr",
     "output_type": "stream",
     "text": [
      "100%|██████████████████████████████████████████| 16/16 [00:00<00:00, 149.82it/s]\n",
      " 90%|██████████████████████████████████████▋    | 27/30 [00:07<00:00,  3.61it/s]"
     ]
    },
    {
     "name": "stdout",
     "output_type": "stream",
     "text": [
      "Epoch 26:  (best: False)train loss = 0.098 (auc: 0.869 f1: 0.603), validation loss = 0.099 (auc: 0.882 f1: 0.550)\n"
     ]
    },
    {
     "name": "stderr",
     "output_type": "stream",
     "text": [
      "100%|██████████████████████████████████████████| 16/16 [00:00<00:00, 147.04it/s]\n",
      " 93%|████████████████████████████████████████▏  | 28/30 [00:07<00:00,  3.61it/s]"
     ]
    },
    {
     "name": "stdout",
     "output_type": "stream",
     "text": [
      "Epoch 27:  (best: False)train loss = 0.098 (auc: 0.870 f1: 0.600), validation loss = 0.099 (auc: 0.882 f1: 0.554)\n"
     ]
    },
    {
     "name": "stderr",
     "output_type": "stream",
     "text": [
      "100%|██████████████████████████████████████████| 16/16 [00:00<00:00, 164.15it/s]\n",
      " 97%|█████████████████████████████████████████▌ | 29/30 [00:07<00:00,  3.67it/s]"
     ]
    },
    {
     "name": "stdout",
     "output_type": "stream",
     "text": [
      "Epoch 28:  (best: False)train loss = 0.098 (auc: 0.869 f1: 0.601), validation loss = 0.100 (auc: 0.882 f1: 0.541)\n"
     ]
    },
    {
     "name": "stderr",
     "output_type": "stream",
     "text": [
      "100%|██████████████████████████████████████████| 16/16 [00:00<00:00, 158.06it/s]\n",
      "100%|███████████████████████████████████████████| 30/30 [00:08<00:00,  3.67it/s]\n"
     ]
    },
    {
     "name": "stdout",
     "output_type": "stream",
     "text": [
      "Epoch 29:  (best: True)train loss = 0.098 (auc: 0.871 f1: 0.602), validation loss = 0.099 (auc: 0.883 f1: 0.559)\n"
     ]
    },
    {
     "name": "stderr",
     "output_type": "stream",
     "text": [
      "100%|██████████████████████████████████████████| 16/16 [00:00<00:00, 165.52it/s]\n",
      "  3%|█▍                                          | 1/30 [00:00<00:07,  3.83it/s]"
     ]
    },
    {
     "name": "stdout",
     "output_type": "stream",
     "text": [
      "Epoch 0:  (best: True)train loss = 0.112 (auc: 0.871 f1: 0.211), validation loss = 0.113 (auc: 0.868 f1: 0.190)\n"
     ]
    },
    {
     "name": "stderr",
     "output_type": "stream",
     "text": [
      "100%|██████████████████████████████████████████| 16/16 [00:00<00:00, 160.05it/s]\n",
      "  7%|██▉                                         | 2/30 [00:00<00:07,  3.76it/s]"
     ]
    },
    {
     "name": "stdout",
     "output_type": "stream",
     "text": [
      "Epoch 1:  (best: True)train loss = 0.105 (auc: 0.857 f1: 0.381), validation loss = 0.106 (auc: 0.855 f1: 0.383)\n"
     ]
    },
    {
     "name": "stderr",
     "output_type": "stream",
     "text": [
      "100%|██████████████████████████████████████████| 16/16 [00:00<00:00, 163.35it/s]\n",
      " 10%|████▍                                       | 3/30 [00:00<00:07,  3.76it/s]"
     ]
    },
    {
     "name": "stdout",
     "output_type": "stream",
     "text": [
      "Epoch 2:  (best: True)train loss = 0.102 (auc: 0.879 f1: 0.494), validation loss = 0.102 (auc: 0.879 f1: 0.482)\n"
     ]
    },
    {
     "name": "stderr",
     "output_type": "stream",
     "text": [
      "100%|██████████████████████████████████████████| 16/16 [00:00<00:00, 160.03it/s]\n",
      " 13%|█████▊                                      | 4/30 [00:01<00:06,  3.78it/s]"
     ]
    },
    {
     "name": "stdout",
     "output_type": "stream",
     "text": [
      "Epoch 3:  (best: True)train loss = 0.100 (auc: 0.874 f1: 0.502), validation loss = 0.101 (auc: 0.879 f1: 0.487)\n"
     ]
    },
    {
     "name": "stderr",
     "output_type": "stream",
     "text": [
      "100%|██████████████████████████████████████████| 16/16 [00:00<00:00, 168.30it/s]\n",
      " 17%|███████▎                                    | 5/30 [00:01<00:06,  3.82it/s]"
     ]
    },
    {
     "name": "stdout",
     "output_type": "stream",
     "text": [
      "Epoch 4:  (best: True)train loss = 0.100 (auc: 0.875 f1: 0.518), validation loss = 0.100 (auc: 0.878 f1: 0.491)\n"
     ]
    },
    {
     "name": "stderr",
     "output_type": "stream",
     "text": [
      "100%|██████████████████████████████████████████| 16/16 [00:00<00:00, 169.17it/s]\n",
      " 20%|████████▊                                   | 6/30 [00:01<00:06,  3.87it/s]"
     ]
    },
    {
     "name": "stdout",
     "output_type": "stream",
     "text": [
      "Epoch 5:  (best: True)train loss = 0.099 (auc: 0.881 f1: 0.541), validation loss = 0.100 (auc: 0.884 f1: 0.528)\n"
     ]
    },
    {
     "name": "stderr",
     "output_type": "stream",
     "text": [
      "100%|██████████████████████████████████████████| 16/16 [00:00<00:00, 170.67it/s]\n",
      " 23%|██████████▎                                 | 7/30 [00:01<00:05,  3.88it/s]"
     ]
    },
    {
     "name": "stdout",
     "output_type": "stream",
     "text": [
      "Epoch 6:  (best: True)train loss = 0.098 (auc: 0.880 f1: 0.575), validation loss = 0.099 (auc: 0.884 f1: 0.552)\n"
     ]
    },
    {
     "name": "stderr",
     "output_type": "stream",
     "text": [
      "100%|██████████████████████████████████████████| 16/16 [00:00<00:00, 164.51it/s]\n",
      " 27%|███████████▋                                | 8/30 [00:02<00:05,  3.88it/s]"
     ]
    },
    {
     "name": "stdout",
     "output_type": "stream",
     "text": [
      "Epoch 7:  (best: True)train loss = 0.098 (auc: 0.878 f1: 0.603), validation loss = 0.099 (auc: 0.882 f1: 0.576)\n"
     ]
    },
    {
     "name": "stderr",
     "output_type": "stream",
     "text": [
      "100%|██████████████████████████████████████████| 16/16 [00:00<00:00, 170.14it/s]\n",
      " 30%|█████████████▏                              | 9/30 [00:02<00:05,  3.90it/s]"
     ]
    },
    {
     "name": "stdout",
     "output_type": "stream",
     "text": [
      "Epoch 8:  (best: True)train loss = 0.098 (auc: 0.880 f1: 0.594), validation loss = 0.099 (auc: 0.880 f1: 0.577)\n"
     ]
    },
    {
     "name": "stderr",
     "output_type": "stream",
     "text": [
      "100%|██████████████████████████████████████████| 16/16 [00:00<00:00, 166.68it/s]\n",
      " 33%|██████████████▎                            | 10/30 [00:02<00:05,  3.88it/s]"
     ]
    },
    {
     "name": "stdout",
     "output_type": "stream",
     "text": [
      "Epoch 9:  (best: True)train loss = 0.098 (auc: 0.882 f1: 0.609), validation loss = 0.099 (auc: 0.885 f1: 0.584)\n"
     ]
    },
    {
     "name": "stderr",
     "output_type": "stream",
     "text": [
      "100%|██████████████████████████████████████████| 16/16 [00:00<00:00, 172.08it/s]\n",
      " 37%|███████████████▊                           | 11/30 [00:02<00:04,  3.91it/s]"
     ]
    },
    {
     "name": "stdout",
     "output_type": "stream",
     "text": [
      "Epoch 10:  (best: True)train loss = 0.098 (auc: 0.883 f1: 0.617), validation loss = 0.099 (auc: 0.887 f1: 0.596)\n"
     ]
    },
    {
     "name": "stderr",
     "output_type": "stream",
     "text": [
      "100%|██████████████████████████████████████████| 16/16 [00:00<00:00, 165.88it/s]\n",
      " 40%|█████████████████▏                         | 12/30 [00:03<00:04,  3.92it/s]"
     ]
    },
    {
     "name": "stdout",
     "output_type": "stream",
     "text": [
      "Epoch 11:  (best: True)train loss = 0.098 (auc: 0.883 f1: 0.637), validation loss = 0.099 (auc: 0.887 f1: 0.601)\n"
     ]
    },
    {
     "name": "stderr",
     "output_type": "stream",
     "text": [
      "100%|██████████████████████████████████████████| 16/16 [00:00<00:00, 171.85it/s]\n",
      " 43%|██████████████████▋                        | 13/30 [00:03<00:04,  3.94it/s]"
     ]
    },
    {
     "name": "stdout",
     "output_type": "stream",
     "text": [
      "Epoch 12:  (best: True)train loss = 0.097 (auc: 0.881 f1: 0.645), validation loss = 0.099 (auc: 0.883 f1: 0.602)\n"
     ]
    },
    {
     "name": "stderr",
     "output_type": "stream",
     "text": [
      "100%|██████████████████████████████████████████| 16/16 [00:00<00:00, 169.75it/s]\n",
      " 47%|████████████████████                       | 14/30 [00:03<00:04,  3.94it/s]"
     ]
    },
    {
     "name": "stdout",
     "output_type": "stream",
     "text": [
      "Epoch 13:  (best: False)train loss = 0.098 (auc: 0.882 f1: 0.635), validation loss = 0.099 (auc: 0.886 f1: 0.597)\n"
     ]
    },
    {
     "name": "stderr",
     "output_type": "stream",
     "text": [
      "100%|██████████████████████████████████████████| 16/16 [00:00<00:00, 172.52it/s]\n",
      " 50%|█████████████████████▌                     | 15/30 [00:03<00:03,  3.94it/s]"
     ]
    },
    {
     "name": "stdout",
     "output_type": "stream",
     "text": [
      "Epoch 14:  (best: True)train loss = 0.097 (auc: 0.880 f1: 0.650), validation loss = 0.099 (auc: 0.882 f1: 0.607)\n"
     ]
    },
    {
     "name": "stderr",
     "output_type": "stream",
     "text": [
      "100%|██████████████████████████████████████████| 16/16 [00:00<00:00, 168.78it/s]\n",
      " 53%|██████████████████████▉                    | 16/30 [00:04<00:03,  3.94it/s]"
     ]
    },
    {
     "name": "stdout",
     "output_type": "stream",
     "text": [
      "Epoch 15:  (best: True)train loss = 0.097 (auc: 0.882 f1: 0.653), validation loss = 0.099 (auc: 0.885 f1: 0.611)\n"
     ]
    },
    {
     "name": "stderr",
     "output_type": "stream",
     "text": [
      "100%|██████████████████████████████████████████| 16/16 [00:00<00:00, 168.83it/s]\n",
      " 57%|████████████████████████▎                  | 17/30 [00:04<00:03,  3.93it/s]"
     ]
    },
    {
     "name": "stdout",
     "output_type": "stream",
     "text": [
      "Epoch 16:  (best: False)train loss = 0.097 (auc: 0.883 f1: 0.655), validation loss = 0.099 (auc: 0.884 f1: 0.603)\n"
     ]
    },
    {
     "name": "stderr",
     "output_type": "stream",
     "text": [
      "100%|██████████████████████████████████████████| 16/16 [00:00<00:00, 168.13it/s]\n",
      " 60%|█████████████████████████▊                 | 18/30 [00:04<00:03,  3.92it/s]"
     ]
    },
    {
     "name": "stdout",
     "output_type": "stream",
     "text": [
      "Epoch 17:  (best: False)train loss = 0.096 (auc: 0.880 f1: 0.658), validation loss = 0.098 (auc: 0.883 f1: 0.606)\n"
     ]
    },
    {
     "name": "stderr",
     "output_type": "stream",
     "text": [
      "100%|██████████████████████████████████████████| 16/16 [00:00<00:00, 174.19it/s]\n",
      " 63%|███████████████████████████▏               | 19/30 [00:04<00:02,  3.95it/s]"
     ]
    },
    {
     "name": "stdout",
     "output_type": "stream",
     "text": [
      "Epoch 18:  (best: False)train loss = 0.097 (auc: 0.883 f1: 0.660), validation loss = 0.099 (auc: 0.883 f1: 0.607)\n"
     ]
    },
    {
     "name": "stderr",
     "output_type": "stream",
     "text": [
      "100%|██████████████████████████████████████████| 16/16 [00:00<00:00, 171.38it/s]\n",
      " 67%|████████████████████████████▋              | 20/30 [00:05<00:02,  3.96it/s]"
     ]
    },
    {
     "name": "stdout",
     "output_type": "stream",
     "text": [
      "Epoch 19:  (best: False)train loss = 0.097 (auc: 0.881 f1: 0.662), validation loss = 0.098 (auc: 0.883 f1: 0.603)\n"
     ]
    },
    {
     "name": "stderr",
     "output_type": "stream",
     "text": [
      "100%|██████████████████████████████████████████| 16/16 [00:00<00:00, 172.57it/s]\n",
      " 70%|██████████████████████████████             | 21/30 [00:05<00:02,  3.97it/s]"
     ]
    },
    {
     "name": "stdout",
     "output_type": "stream",
     "text": [
      "Epoch 20:  (best: False)train loss = 0.097 (auc: 0.882 f1: 0.662), validation loss = 0.099 (auc: 0.882 f1: 0.604)\n"
     ]
    },
    {
     "name": "stderr",
     "output_type": "stream",
     "text": [
      "100%|██████████████████████████████████████████| 16/16 [00:00<00:00, 170.95it/s]\n",
      " 73%|███████████████████████████████▌           | 22/30 [00:05<00:02,  3.97it/s]"
     ]
    },
    {
     "name": "stdout",
     "output_type": "stream",
     "text": [
      "Epoch 21:  (best: False)train loss = 0.096 (auc: 0.882 f1: 0.664), validation loss = 0.099 (auc: 0.884 f1: 0.606)\n"
     ]
    },
    {
     "name": "stderr",
     "output_type": "stream",
     "text": [
      "100%|██████████████████████████████████████████| 16/16 [00:00<00:00, 171.31it/s]\n",
      " 77%|████████████████████████████████▉          | 23/30 [00:05<00:01,  3.98it/s]"
     ]
    },
    {
     "name": "stdout",
     "output_type": "stream",
     "text": [
      "Epoch 22:  (best: False)train loss = 0.096 (auc: 0.883 f1: 0.661), validation loss = 0.099 (auc: 0.883 f1: 0.602)\n"
     ]
    },
    {
     "name": "stderr",
     "output_type": "stream",
     "text": [
      "100%|██████████████████████████████████████████| 16/16 [00:00<00:00, 174.07it/s]\n",
      " 80%|██████████████████████████████████▍        | 24/30 [00:06<00:01,  3.99it/s]"
     ]
    },
    {
     "name": "stdout",
     "output_type": "stream",
     "text": [
      "Epoch 23:  (best: False)train loss = 0.096 (auc: 0.879 f1: 0.662), validation loss = 0.099 (auc: 0.880 f1: 0.606)\n"
     ]
    },
    {
     "name": "stderr",
     "output_type": "stream",
     "text": [
      "100%|██████████████████████████████████████████| 16/16 [00:00<00:00, 172.47it/s]\n",
      " 83%|███████████████████████████████████▊       | 25/30 [00:06<00:01,  4.00it/s]"
     ]
    },
    {
     "name": "stdout",
     "output_type": "stream",
     "text": [
      "Epoch 24:  (best: False)train loss = 0.096 (auc: 0.882 f1: 0.666), validation loss = 0.099 (auc: 0.882 f1: 0.601)\n"
     ]
    },
    {
     "name": "stderr",
     "output_type": "stream",
     "text": [
      "100%|██████████████████████████████████████████| 16/16 [00:00<00:00, 170.23it/s]\n",
      " 87%|█████████████████████████████████████▎     | 26/30 [00:06<00:01,  3.98it/s]"
     ]
    },
    {
     "name": "stdout",
     "output_type": "stream",
     "text": [
      "Epoch 25:  (best: False)train loss = 0.096 (auc: 0.881 f1: 0.660), validation loss = 0.099 (auc: 0.882 f1: 0.603)\n"
     ]
    },
    {
     "name": "stderr",
     "output_type": "stream",
     "text": [
      "100%|██████████████████████████████████████████| 16/16 [00:00<00:00, 171.33it/s]\n",
      " 90%|██████████████████████████████████████▋    | 27/30 [00:06<00:00,  3.99it/s]"
     ]
    },
    {
     "name": "stdout",
     "output_type": "stream",
     "text": [
      "Epoch 26:  (best: False)train loss = 0.096 (auc: 0.882 f1: 0.666), validation loss = 0.099 (auc: 0.882 f1: 0.606)\n"
     ]
    },
    {
     "name": "stderr",
     "output_type": "stream",
     "text": [
      "100%|██████████████████████████████████████████| 16/16 [00:00<00:00, 169.09it/s]\n",
      " 93%|████████████████████████████████████████▏  | 28/30 [00:07<00:00,  3.99it/s]"
     ]
    },
    {
     "name": "stdout",
     "output_type": "stream",
     "text": [
      "Epoch 27:  (best: False)train loss = 0.096 (auc: 0.882 f1: 0.667), validation loss = 0.099 (auc: 0.882 f1: 0.603)\n"
     ]
    },
    {
     "name": "stderr",
     "output_type": "stream",
     "text": [
      "100%|██████████████████████████████████████████| 16/16 [00:00<00:00, 167.86it/s]\n",
      " 97%|█████████████████████████████████████████▌ | 29/30 [00:07<00:00,  3.96it/s]"
     ]
    },
    {
     "name": "stdout",
     "output_type": "stream",
     "text": [
      "Epoch 28:  (best: False)train loss = 0.096 (auc: 0.882 f1: 0.668), validation loss = 0.099 (auc: 0.882 f1: 0.593)\n"
     ]
    },
    {
     "name": "stderr",
     "output_type": "stream",
     "text": [
      "100%|██████████████████████████████████████████| 16/16 [00:00<00:00, 166.09it/s]\n",
      "100%|███████████████████████████████████████████| 30/30 [00:07<00:00,  3.92it/s]\n"
     ]
    },
    {
     "name": "stdout",
     "output_type": "stream",
     "text": [
      "Epoch 29:  (best: False)train loss = 0.096 (auc: 0.878 f1: 0.667), validation loss = 0.099 (auc: 0.879 f1: 0.594)\n"
     ]
    },
    {
     "name": "stderr",
     "output_type": "stream",
     "text": [
      "100%|██████████████████████████████████████████| 16/16 [00:00<00:00, 168.62it/s]\n",
      "  3%|█▍                                          | 1/30 [00:00<00:07,  3.96it/s]"
     ]
    },
    {
     "name": "stdout",
     "output_type": "stream",
     "text": [
      "Epoch 0:  (best: True)train loss = 0.113 (auc: 0.907 f1: 0.196), validation loss = 0.113 (auc: 0.912 f1: 0.175)\n"
     ]
    },
    {
     "name": "stderr",
     "output_type": "stream",
     "text": [
      "100%|██████████████████████████████████████████| 16/16 [00:00<00:00, 166.69it/s]\n",
      "  7%|██▉                                         | 2/30 [00:00<00:07,  3.89it/s]"
     ]
    },
    {
     "name": "stdout",
     "output_type": "stream",
     "text": [
      "Epoch 1:  (best: True)train loss = 0.106 (auc: 0.895 f1: 0.373), validation loss = 0.107 (auc: 0.910 f1: 0.356)\n"
     ]
    },
    {
     "name": "stderr",
     "output_type": "stream",
     "text": [
      "100%|██████████████████████████████████████████| 16/16 [00:00<00:00, 166.67it/s]\n",
      " 10%|████▍                                       | 3/30 [00:00<00:06,  3.90it/s]"
     ]
    },
    {
     "name": "stdout",
     "output_type": "stream",
     "text": [
      "Epoch 2:  (best: True)train loss = 0.103 (auc: 0.893 f1: 0.447), validation loss = 0.103 (auc: 0.905 f1: 0.437)\n"
     ]
    },
    {
     "name": "stderr",
     "output_type": "stream",
     "text": [
      "100%|██████████████████████████████████████████| 16/16 [00:00<00:00, 166.44it/s]\n",
      " 13%|█████▊                                      | 4/30 [00:01<00:06,  3.87it/s]"
     ]
    },
    {
     "name": "stdout",
     "output_type": "stream",
     "text": [
      "Epoch 3:  (best: True)train loss = 0.101 (auc: 0.888 f1: 0.475), validation loss = 0.102 (auc: 0.903 f1: 0.457)\n"
     ]
    },
    {
     "name": "stderr",
     "output_type": "stream",
     "text": [
      "100%|██████████████████████████████████████████| 16/16 [00:00<00:00, 167.17it/s]\n",
      " 17%|███████▎                                    | 5/30 [00:01<00:06,  3.85it/s]"
     ]
    },
    {
     "name": "stdout",
     "output_type": "stream",
     "text": [
      "Epoch 4:  (best: True)train loss = 0.101 (auc: 0.882 f1: 0.501), validation loss = 0.101 (auc: 0.892 f1: 0.482)\n"
     ]
    },
    {
     "name": "stderr",
     "output_type": "stream",
     "text": [
      "100%|██████████████████████████████████████████| 16/16 [00:00<00:00, 165.20it/s]\n",
      " 20%|████████▊                                   | 6/30 [00:01<00:06,  3.85it/s]"
     ]
    },
    {
     "name": "stdout",
     "output_type": "stream",
     "text": [
      "Epoch 5:  (best: True)train loss = 0.100 (auc: 0.885 f1: 0.515), validation loss = 0.100 (auc: 0.895 f1: 0.500)\n"
     ]
    },
    {
     "name": "stderr",
     "output_type": "stream",
     "text": [
      "100%|██████████████████████████████████████████| 16/16 [00:00<00:00, 165.20it/s]\n",
      " 23%|██████████▎                                 | 7/30 [00:01<00:05,  3.85it/s]"
     ]
    },
    {
     "name": "stdout",
     "output_type": "stream",
     "text": [
      "Epoch 6:  (best: False)train loss = 0.100 (auc: 0.886 f1: 0.515), validation loss = 0.100 (auc: 0.899 f1: 0.495)\n"
     ]
    },
    {
     "name": "stderr",
     "output_type": "stream",
     "text": [
      "100%|██████████████████████████████████████████| 16/16 [00:00<00:00, 167.98it/s]\n",
      " 27%|███████████▋                                | 8/30 [00:02<00:05,  3.86it/s]"
     ]
    },
    {
     "name": "stdout",
     "output_type": "stream",
     "text": [
      "Epoch 7:  (best: True)train loss = 0.099 (auc: 0.890 f1: 0.576), validation loss = 0.100 (auc: 0.905 f1: 0.557)\n"
     ]
    },
    {
     "name": "stderr",
     "output_type": "stream",
     "text": [
      "100%|██████████████████████████████████████████| 16/16 [00:00<00:00, 168.14it/s]\n",
      " 30%|█████████████▏                              | 9/30 [00:02<00:05,  3.88it/s]"
     ]
    },
    {
     "name": "stdout",
     "output_type": "stream",
     "text": [
      "Epoch 8:  (best: False)train loss = 0.098 (auc: 0.887 f1: 0.576), validation loss = 0.100 (auc: 0.898 f1: 0.537)\n"
     ]
    },
    {
     "name": "stderr",
     "output_type": "stream",
     "text": [
      "100%|██████████████████████████████████████████| 16/16 [00:00<00:00, 170.54it/s]\n",
      " 33%|██████████████▎                            | 10/30 [00:02<00:05,  3.90it/s]"
     ]
    },
    {
     "name": "stdout",
     "output_type": "stream",
     "text": [
      "Epoch 9:  (best: False)train loss = 0.099 (auc: 0.890 f1: 0.600), validation loss = 0.100 (auc: 0.901 f1: 0.545)\n"
     ]
    },
    {
     "name": "stderr",
     "output_type": "stream",
     "text": [
      "100%|██████████████████████████████████████████| 16/16 [00:00<00:00, 166.81it/s]\n",
      " 37%|███████████████▊                           | 11/30 [00:02<00:04,  3.89it/s]"
     ]
    },
    {
     "name": "stdout",
     "output_type": "stream",
     "text": [
      "Epoch 10:  (best: True)train loss = 0.098 (auc: 0.890 f1: 0.605), validation loss = 0.099 (auc: 0.901 f1: 0.568)\n"
     ]
    },
    {
     "name": "stderr",
     "output_type": "stream",
     "text": [
      "100%|██████████████████████████████████████████| 16/16 [00:00<00:00, 167.69it/s]\n",
      " 40%|█████████████████▏                         | 12/30 [00:03<00:04,  3.89it/s]"
     ]
    },
    {
     "name": "stdout",
     "output_type": "stream",
     "text": [
      "Epoch 11:  (best: True)train loss = 0.098 (auc: 0.887 f1: 0.620), validation loss = 0.099 (auc: 0.896 f1: 0.575)\n"
     ]
    },
    {
     "name": "stderr",
     "output_type": "stream",
     "text": [
      "100%|██████████████████████████████████████████| 16/16 [00:00<00:00, 163.98it/s]\n",
      " 43%|██████████████████▋                        | 13/30 [00:03<00:04,  3.87it/s]"
     ]
    },
    {
     "name": "stdout",
     "output_type": "stream",
     "text": [
      "Epoch 12:  (best: False)train loss = 0.097 (auc: 0.890 f1: 0.621), validation loss = 0.099 (auc: 0.899 f1: 0.566)\n"
     ]
    },
    {
     "name": "stderr",
     "output_type": "stream",
     "text": [
      "100%|██████████████████████████████████████████| 16/16 [00:00<00:00, 166.17it/s]\n",
      " 47%|████████████████████                       | 14/30 [00:03<00:04,  3.86it/s]"
     ]
    },
    {
     "name": "stdout",
     "output_type": "stream",
     "text": [
      "Epoch 13:  (best: True)train loss = 0.097 (auc: 0.889 f1: 0.630), validation loss = 0.099 (auc: 0.898 f1: 0.579)\n"
     ]
    },
    {
     "name": "stderr",
     "output_type": "stream",
     "text": [
      "100%|██████████████████████████████████████████| 16/16 [00:00<00:00, 160.71it/s]\n",
      " 50%|█████████████████████▌                     | 15/30 [00:03<00:03,  3.85it/s]"
     ]
    },
    {
     "name": "stdout",
     "output_type": "stream",
     "text": [
      "Epoch 14:  (best: False)train loss = 0.098 (auc: 0.887 f1: 0.610), validation loss = 0.099 (auc: 0.896 f1: 0.555)\n"
     ]
    },
    {
     "name": "stderr",
     "output_type": "stream",
     "text": [
      "100%|██████████████████████████████████████████| 16/16 [00:00<00:00, 169.13it/s]\n",
      " 53%|██████████████████████▉                    | 16/30 [00:04<00:03,  3.88it/s]"
     ]
    },
    {
     "name": "stdout",
     "output_type": "stream",
     "text": [
      "Epoch 15:  (best: True)train loss = 0.098 (auc: 0.887 f1: 0.647), validation loss = 0.099 (auc: 0.896 f1: 0.591)\n"
     ]
    },
    {
     "name": "stderr",
     "output_type": "stream",
     "text": [
      "100%|██████████████████████████████████████████| 16/16 [00:00<00:00, 160.64it/s]\n",
      " 57%|████████████████████████▎                  | 17/30 [00:04<00:03,  3.88it/s]"
     ]
    },
    {
     "name": "stdout",
     "output_type": "stream",
     "text": [
      "Epoch 16:  (best: False)train loss = 0.098 (auc: 0.885 f1: 0.626), validation loss = 0.099 (auc: 0.892 f1: 0.572)\n"
     ]
    },
    {
     "name": "stderr",
     "output_type": "stream",
     "text": [
      "100%|██████████████████████████████████████████| 16/16 [00:00<00:00, 169.95it/s]\n",
      " 60%|█████████████████████████▊                 | 18/30 [00:04<00:03,  3.90it/s]"
     ]
    },
    {
     "name": "stdout",
     "output_type": "stream",
     "text": [
      "Epoch 17:  (best: False)train loss = 0.097 (auc: 0.883 f1: 0.630), validation loss = 0.099 (auc: 0.891 f1: 0.571)\n"
     ]
    },
    {
     "name": "stderr",
     "output_type": "stream",
     "text": [
      "100%|██████████████████████████████████████████| 16/16 [00:00<00:00, 160.86it/s]\n",
      " 63%|███████████████████████████▏               | 19/30 [00:04<00:02,  3.85it/s]"
     ]
    },
    {
     "name": "stdout",
     "output_type": "stream",
     "text": [
      "Epoch 18:  (best: False)train loss = 0.097 (auc: 0.885 f1: 0.634), validation loss = 0.099 (auc: 0.894 f1: 0.577)\n"
     ]
    },
    {
     "name": "stderr",
     "output_type": "stream",
     "text": [
      "100%|██████████████████████████████████████████| 16/16 [00:00<00:00, 165.78it/s]\n",
      " 67%|████████████████████████████▋              | 20/30 [00:05<00:02,  3.85it/s]"
     ]
    },
    {
     "name": "stdout",
     "output_type": "stream",
     "text": [
      "Epoch 19:  (best: False)train loss = 0.097 (auc: 0.887 f1: 0.641), validation loss = 0.099 (auc: 0.895 f1: 0.581)\n"
     ]
    },
    {
     "name": "stderr",
     "output_type": "stream",
     "text": [
      "100%|██████████████████████████████████████████| 16/16 [00:00<00:00, 161.87it/s]\n",
      " 70%|██████████████████████████████             | 21/30 [00:05<00:02,  3.83it/s]"
     ]
    },
    {
     "name": "stdout",
     "output_type": "stream",
     "text": [
      "Epoch 20:  (best: False)train loss = 0.097 (auc: 0.888 f1: 0.646), validation loss = 0.099 (auc: 0.897 f1: 0.582)\n"
     ]
    },
    {
     "name": "stderr",
     "output_type": "stream",
     "text": [
      "100%|██████████████████████████████████████████| 16/16 [00:00<00:00, 162.54it/s]\n",
      " 73%|███████████████████████████████▌           | 22/30 [00:05<00:02,  3.82it/s]"
     ]
    },
    {
     "name": "stdout",
     "output_type": "stream",
     "text": [
      "Epoch 21:  (best: False)train loss = 0.097 (auc: 0.886 f1: 0.648), validation loss = 0.099 (auc: 0.894 f1: 0.587)\n"
     ]
    },
    {
     "name": "stderr",
     "output_type": "stream",
     "text": [
      "100%|██████████████████████████████████████████| 16/16 [00:00<00:00, 160.86it/s]\n",
      " 77%|████████████████████████████████▉          | 23/30 [00:05<00:01,  3.80it/s]"
     ]
    },
    {
     "name": "stdout",
     "output_type": "stream",
     "text": [
      "Epoch 22:  (best: False)train loss = 0.097 (auc: 0.881 f1: 0.655), validation loss = 0.099 (auc: 0.888 f1: 0.591)\n"
     ]
    },
    {
     "name": "stderr",
     "output_type": "stream",
     "text": [
      "100%|██████████████████████████████████████████| 16/16 [00:00<00:00, 163.18it/s]\n",
      " 80%|██████████████████████████████████▍        | 24/30 [00:06<00:01,  3.80it/s]"
     ]
    },
    {
     "name": "stdout",
     "output_type": "stream",
     "text": [
      "Epoch 23:  (best: False)train loss = 0.097 (auc: 0.883 f1: 0.649), validation loss = 0.099 (auc: 0.890 f1: 0.579)\n"
     ]
    },
    {
     "name": "stderr",
     "output_type": "stream",
     "text": [
      "100%|██████████████████████████████████████████| 16/16 [00:00<00:00, 156.84it/s]\n",
      " 83%|███████████████████████████████████▊       | 25/30 [00:06<00:01,  3.78it/s]"
     ]
    },
    {
     "name": "stdout",
     "output_type": "stream",
     "text": [
      "Epoch 24:  (best: False)train loss = 0.097 (auc: 0.883 f1: 0.654), validation loss = 0.099 (auc: 0.891 f1: 0.589)\n"
     ]
    },
    {
     "name": "stderr",
     "output_type": "stream",
     "text": [
      "100%|██████████████████████████████████████████| 16/16 [00:00<00:00, 164.02it/s]\n",
      " 87%|█████████████████████████████████████▎     | 26/30 [00:06<00:01,  3.75it/s]"
     ]
    },
    {
     "name": "stdout",
     "output_type": "stream",
     "text": [
      "Epoch 25:  (best: False)train loss = 0.097 (auc: 0.887 f1: 0.649), validation loss = 0.099 (auc: 0.895 f1: 0.579)\n"
     ]
    },
    {
     "name": "stderr",
     "output_type": "stream",
     "text": [
      "100%|██████████████████████████████████████████| 16/16 [00:00<00:00, 149.48it/s]\n",
      " 90%|██████████████████████████████████████▋    | 27/30 [00:07<00:00,  3.71it/s]"
     ]
    },
    {
     "name": "stdout",
     "output_type": "stream",
     "text": [
      "Epoch 26:  (best: True)train loss = 0.097 (auc: 0.885 f1: 0.651), validation loss = 0.099 (auc: 0.893 f1: 0.592)\n"
     ]
    },
    {
     "name": "stderr",
     "output_type": "stream",
     "text": [
      "100%|██████████████████████████████████████████| 16/16 [00:00<00:00, 164.03it/s]\n",
      " 93%|████████████████████████████████████████▏  | 28/30 [00:07<00:00,  3.76it/s]"
     ]
    },
    {
     "name": "stdout",
     "output_type": "stream",
     "text": [
      "Epoch 27:  (best: False)train loss = 0.097 (auc: 0.887 f1: 0.654), validation loss = 0.099 (auc: 0.895 f1: 0.589)\n"
     ]
    },
    {
     "name": "stderr",
     "output_type": "stream",
     "text": [
      "100%|██████████████████████████████████████████| 16/16 [00:00<00:00, 163.79it/s]\n",
      " 97%|█████████████████████████████████████████▌ | 29/30 [00:07<00:00,  3.79it/s]"
     ]
    },
    {
     "name": "stdout",
     "output_type": "stream",
     "text": [
      "Epoch 28:  (best: False)train loss = 0.096 (auc: 0.886 f1: 0.653), validation loss = 0.099 (auc: 0.894 f1: 0.575)\n"
     ]
    },
    {
     "name": "stderr",
     "output_type": "stream",
     "text": [
      "100%|██████████████████████████████████████████| 16/16 [00:00<00:00, 161.58it/s]\n",
      "100%|███████████████████████████████████████████| 30/30 [00:07<00:00,  3.84it/s]\n"
     ]
    },
    {
     "name": "stdout",
     "output_type": "stream",
     "text": [
      "Epoch 29:  (best: True)train loss = 0.097 (auc: 0.887 f1: 0.657), validation loss = 0.099 (auc: 0.895 f1: 0.594)\n"
     ]
    },
    {
     "name": "stderr",
     "output_type": "stream",
     "text": [
      "100%|██████████████████████████████████████████| 16/16 [00:00<00:00, 168.22it/s]\n",
      "  3%|█▍                                          | 1/30 [00:00<00:07,  3.91it/s]"
     ]
    },
    {
     "name": "stdout",
     "output_type": "stream",
     "text": [
      "Epoch 0:  (best: True)train loss = 0.113 (auc: 0.906 f1: 0.261), validation loss = 0.113 (auc: 0.903 f1: 0.248)\n"
     ]
    },
    {
     "name": "stderr",
     "output_type": "stream",
     "text": [
      "100%|██████████████████████████████████████████| 16/16 [00:00<00:00, 168.18it/s]\n",
      "  7%|██▉                                         | 2/30 [00:00<00:07,  3.88it/s]"
     ]
    },
    {
     "name": "stdout",
     "output_type": "stream",
     "text": [
      "Epoch 1:  (best: True)train loss = 0.105 (auc: 0.884 f1: 0.414), validation loss = 0.106 (auc: 0.888 f1: 0.401)\n"
     ]
    },
    {
     "name": "stderr",
     "output_type": "stream",
     "text": [
      "100%|██████████████████████████████████████████| 16/16 [00:00<00:00, 164.04it/s]\n",
      " 10%|████▍                                       | 3/30 [00:00<00:06,  3.86it/s]"
     ]
    },
    {
     "name": "stdout",
     "output_type": "stream",
     "text": [
      "Epoch 2:  (best: True)train loss = 0.102 (auc: 0.897 f1: 0.494), validation loss = 0.102 (auc: 0.903 f1: 0.486)\n"
     ]
    },
    {
     "name": "stderr",
     "output_type": "stream",
     "text": [
      "100%|██████████████████████████████████████████| 16/16 [00:00<00:00, 166.32it/s]\n",
      " 13%|█████▊                                      | 4/30 [00:01<00:06,  3.86it/s]"
     ]
    },
    {
     "name": "stdout",
     "output_type": "stream",
     "text": [
      "Epoch 3:  (best: False)train loss = 0.101 (auc: 0.885 f1: 0.507), validation loss = 0.101 (auc: 0.892 f1: 0.481)\n"
     ]
    },
    {
     "name": "stderr",
     "output_type": "stream",
     "text": [
      "100%|██████████████████████████████████████████| 16/16 [00:00<00:00, 169.97it/s]\n",
      " 17%|███████▎                                    | 5/30 [00:01<00:06,  3.90it/s]"
     ]
    },
    {
     "name": "stdout",
     "output_type": "stream",
     "text": [
      "Epoch 4:  (best: True)train loss = 0.100 (auc: 0.884 f1: 0.520), validation loss = 0.100 (auc: 0.891 f1: 0.497)\n"
     ]
    },
    {
     "name": "stderr",
     "output_type": "stream",
     "text": [
      "100%|██████████████████████████████████████████| 16/16 [00:00<00:00, 167.05it/s]\n",
      " 20%|████████▊                                   | 6/30 [00:01<00:06,  3.88it/s]"
     ]
    },
    {
     "name": "stdout",
     "output_type": "stream",
     "text": [
      "Epoch 5:  (best: False)train loss = 0.100 (auc: 0.887 f1: 0.514), validation loss = 0.100 (auc: 0.895 f1: 0.490)\n"
     ]
    },
    {
     "name": "stderr",
     "output_type": "stream",
     "text": [
      "100%|██████████████████████████████████████████| 16/16 [00:00<00:00, 162.61it/s]\n",
      " 23%|██████████▎                                 | 7/30 [00:01<00:06,  3.83it/s]"
     ]
    },
    {
     "name": "stdout",
     "output_type": "stream",
     "text": [
      "Epoch 6:  (best: True)train loss = 0.099 (auc: 0.887 f1: 0.522), validation loss = 0.100 (auc: 0.894 f1: 0.511)\n"
     ]
    },
    {
     "name": "stderr",
     "output_type": "stream",
     "text": [
      "100%|██████████████████████████████████████████| 16/16 [00:00<00:00, 160.72it/s]\n",
      " 27%|███████████▋                                | 8/30 [00:02<00:05,  3.81it/s]"
     ]
    },
    {
     "name": "stdout",
     "output_type": "stream",
     "text": [
      "Epoch 7:  (best: True)train loss = 0.099 (auc: 0.889 f1: 0.536), validation loss = 0.100 (auc: 0.897 f1: 0.519)\n"
     ]
    },
    {
     "name": "stderr",
     "output_type": "stream",
     "text": [
      "100%|██████████████████████████████████████████| 16/16 [00:00<00:00, 166.45it/s]\n",
      " 30%|█████████████▏                              | 9/30 [00:02<00:05,  3.83it/s]"
     ]
    },
    {
     "name": "stdout",
     "output_type": "stream",
     "text": [
      "Epoch 8:  (best: True)train loss = 0.099 (auc: 0.891 f1: 0.551), validation loss = 0.100 (auc: 0.897 f1: 0.528)\n"
     ]
    },
    {
     "name": "stderr",
     "output_type": "stream",
     "text": [
      "100%|██████████████████████████████████████████| 16/16 [00:00<00:00, 168.24it/s]\n",
      " 33%|██████████████▎                            | 10/30 [00:02<00:05,  3.81it/s]"
     ]
    },
    {
     "name": "stdout",
     "output_type": "stream",
     "text": [
      "Epoch 9:  (best: True)train loss = 0.098 (auc: 0.893 f1: 0.579), validation loss = 0.099 (auc: 0.899 f1: 0.550)\n"
     ]
    },
    {
     "name": "stderr",
     "output_type": "stream",
     "text": [
      "100%|██████████████████████████████████████████| 16/16 [00:00<00:00, 162.19it/s]\n",
      " 37%|███████████████▊                           | 11/30 [00:02<00:04,  3.80it/s]"
     ]
    },
    {
     "name": "stdout",
     "output_type": "stream",
     "text": [
      "Epoch 10:  (best: True)train loss = 0.098 (auc: 0.893 f1: 0.612), validation loss = 0.099 (auc: 0.898 f1: 0.580)\n"
     ]
    },
    {
     "name": "stderr",
     "output_type": "stream",
     "text": [
      "100%|██████████████████████████████████████████| 16/16 [00:00<00:00, 157.15it/s]\n",
      " 40%|█████████████████▏                         | 12/30 [00:03<00:04,  3.79it/s]"
     ]
    },
    {
     "name": "stdout",
     "output_type": "stream",
     "text": [
      "Epoch 11:  (best: False)train loss = 0.098 (auc: 0.893 f1: 0.605), validation loss = 0.099 (auc: 0.898 f1: 0.566)\n"
     ]
    },
    {
     "name": "stderr",
     "output_type": "stream",
     "text": [
      "100%|██████████████████████████████████████████| 16/16 [00:00<00:00, 160.68it/s]\n",
      " 43%|██████████████████▋                        | 13/30 [00:03<00:04,  3.78it/s]"
     ]
    },
    {
     "name": "stdout",
     "output_type": "stream",
     "text": [
      "Epoch 12:  (best: True)train loss = 0.098 (auc: 0.890 f1: 0.617), validation loss = 0.099 (auc: 0.895 f1: 0.588)\n"
     ]
    },
    {
     "name": "stderr",
     "output_type": "stream",
     "text": [
      "100%|██████████████████████████████████████████| 16/16 [00:00<00:00, 160.31it/s]\n",
      " 47%|████████████████████                       | 14/30 [00:03<00:04,  3.77it/s]"
     ]
    },
    {
     "name": "stdout",
     "output_type": "stream",
     "text": [
      "Epoch 13:  (best: False)train loss = 0.097 (auc: 0.891 f1: 0.617), validation loss = 0.099 (auc: 0.896 f1: 0.566)\n"
     ]
    },
    {
     "name": "stderr",
     "output_type": "stream",
     "text": [
      "100%|██████████████████████████████████████████| 16/16 [00:00<00:00, 152.15it/s]\n",
      " 50%|█████████████████████▌                     | 15/30 [00:03<00:04,  3.72it/s]"
     ]
    },
    {
     "name": "stdout",
     "output_type": "stream",
     "text": [
      "Epoch 14:  (best: True)train loss = 0.097 (auc: 0.886 f1: 0.641), validation loss = 0.099 (auc: 0.890 f1: 0.594)\n"
     ]
    },
    {
     "name": "stderr",
     "output_type": "stream",
     "text": [
      "100%|██████████████████████████████████████████| 16/16 [00:00<00:00, 134.31it/s]\n",
      " 53%|██████████████████████▉                    | 16/30 [00:04<00:03,  3.55it/s]"
     ]
    },
    {
     "name": "stdout",
     "output_type": "stream",
     "text": [
      "Epoch 15:  (best: True)train loss = 0.097 (auc: 0.890 f1: 0.660), validation loss = 0.098 (auc: 0.894 f1: 0.614)\n"
     ]
    },
    {
     "name": "stderr",
     "output_type": "stream",
     "text": [
      "100%|██████████████████████████████████████████| 16/16 [00:00<00:00, 153.60it/s]\n",
      " 57%|████████████████████████▎                  | 17/30 [00:04<00:03,  3.58it/s]"
     ]
    },
    {
     "name": "stdout",
     "output_type": "stream",
     "text": [
      "Epoch 16:  (best: True)train loss = 0.096 (auc: 0.889 f1: 0.657), validation loss = 0.098 (auc: 0.893 f1: 0.615)\n"
     ]
    },
    {
     "name": "stderr",
     "output_type": "stream",
     "text": [
      "100%|██████████████████████████████████████████| 16/16 [00:00<00:00, 160.17it/s]\n",
      " 60%|█████████████████████████▊                 | 18/30 [00:04<00:03,  3.62it/s]"
     ]
    },
    {
     "name": "stdout",
     "output_type": "stream",
     "text": [
      "Epoch 17:  (best: False)train loss = 0.097 (auc: 0.889 f1: 0.648), validation loss = 0.098 (auc: 0.894 f1: 0.596)\n"
     ]
    },
    {
     "name": "stderr",
     "output_type": "stream",
     "text": [
      "100%|██████████████████████████████████████████| 16/16 [00:00<00:00, 160.99it/s]\n",
      " 63%|███████████████████████████▏               | 19/30 [00:05<00:03,  3.65it/s]"
     ]
    },
    {
     "name": "stdout",
     "output_type": "stream",
     "text": [
      "Epoch 18:  (best: True)train loss = 0.096 (auc: 0.892 f1: 0.661), validation loss = 0.098 (auc: 0.896 f1: 0.622)\n"
     ]
    },
    {
     "name": "stderr",
     "output_type": "stream",
     "text": [
      "100%|██████████████████████████████████████████| 16/16 [00:00<00:00, 159.95it/s]\n",
      " 67%|████████████████████████████▋              | 20/30 [00:05<00:02,  3.68it/s]"
     ]
    },
    {
     "name": "stdout",
     "output_type": "stream",
     "text": [
      "Epoch 19:  (best: False)train loss = 0.097 (auc: 0.884 f1: 0.640), validation loss = 0.098 (auc: 0.887 f1: 0.595)\n"
     ]
    },
    {
     "name": "stderr",
     "output_type": "stream",
     "text": [
      "100%|██████████████████████████████████████████| 16/16 [00:00<00:00, 157.68it/s]\n",
      " 70%|██████████████████████████████             | 21/30 [00:05<00:02,  3.69it/s]"
     ]
    },
    {
     "name": "stdout",
     "output_type": "stream",
     "text": [
      "Epoch 20:  (best: False)train loss = 0.096 (auc: 0.886 f1: 0.640), validation loss = 0.099 (auc: 0.890 f1: 0.578)\n"
     ]
    },
    {
     "name": "stderr",
     "output_type": "stream",
     "text": [
      "100%|██████████████████████████████████████████| 16/16 [00:00<00:00, 162.45it/s]\n",
      " 73%|███████████████████████████████▌           | 22/30 [00:05<00:02,  3.72it/s]"
     ]
    },
    {
     "name": "stdout",
     "output_type": "stream",
     "text": [
      "Epoch 21:  (best: False)train loss = 0.097 (auc: 0.887 f1: 0.666), validation loss = 0.098 (auc: 0.890 f1: 0.602)\n"
     ]
    },
    {
     "name": "stderr",
     "output_type": "stream",
     "text": [
      "100%|██████████████████████████████████████████| 16/16 [00:00<00:00, 162.68it/s]\n",
      " 77%|████████████████████████████████▉          | 23/30 [00:06<00:01,  3.75it/s]"
     ]
    },
    {
     "name": "stdout",
     "output_type": "stream",
     "text": [
      "Epoch 22:  (best: False)train loss = 0.096 (auc: 0.889 f1: 0.671), validation loss = 0.098 (auc: 0.895 f1: 0.599)\n"
     ]
    },
    {
     "name": "stderr",
     "output_type": "stream",
     "text": [
      "100%|██████████████████████████████████████████| 16/16 [00:00<00:00, 163.81it/s]\n",
      " 80%|██████████████████████████████████▍        | 24/30 [00:06<00:01,  3.76it/s]"
     ]
    },
    {
     "name": "stdout",
     "output_type": "stream",
     "text": [
      "Epoch 23:  (best: False)train loss = 0.096 (auc: 0.888 f1: 0.664), validation loss = 0.098 (auc: 0.891 f1: 0.613)\n"
     ]
    },
    {
     "name": "stderr",
     "output_type": "stream",
     "text": [
      "100%|██████████████████████████████████████████| 16/16 [00:00<00:00, 161.58it/s]\n",
      " 83%|███████████████████████████████████▊       | 25/30 [00:06<00:01,  3.77it/s]"
     ]
    },
    {
     "name": "stdout",
     "output_type": "stream",
     "text": [
      "Epoch 24:  (best: False)train loss = 0.096 (auc: 0.889 f1: 0.672), validation loss = 0.098 (auc: 0.894 f1: 0.610)\n"
     ]
    },
    {
     "name": "stderr",
     "output_type": "stream",
     "text": [
      "100%|██████████████████████████████████████████| 16/16 [00:00<00:00, 160.62it/s]\n",
      " 87%|█████████████████████████████████████▎     | 26/30 [00:06<00:01,  3.78it/s]"
     ]
    },
    {
     "name": "stdout",
     "output_type": "stream",
     "text": [
      "Epoch 25:  (best: False)train loss = 0.096 (auc: 0.886 f1: 0.672), validation loss = 0.098 (auc: 0.892 f1: 0.611)\n"
     ]
    },
    {
     "name": "stderr",
     "output_type": "stream",
     "text": [
      "100%|██████████████████████████████████████████| 16/16 [00:00<00:00, 154.74it/s]\n",
      " 90%|██████████████████████████████████████▋    | 27/30 [00:07<00:00,  3.77it/s]"
     ]
    },
    {
     "name": "stdout",
     "output_type": "stream",
     "text": [
      "Epoch 26:  (best: False)train loss = 0.097 (auc: 0.887 f1: 0.681), validation loss = 0.098 (auc: 0.891 f1: 0.613)\n"
     ]
    },
    {
     "name": "stderr",
     "output_type": "stream",
     "text": [
      "100%|██████████████████████████████████████████| 16/16 [00:00<00:00, 162.41it/s]\n",
      " 93%|████████████████████████████████████████▏  | 28/30 [00:07<00:00,  3.79it/s]"
     ]
    },
    {
     "name": "stdout",
     "output_type": "stream",
     "text": [
      "Epoch 27:  (best: False)train loss = 0.096 (auc: 0.888 f1: 0.679), validation loss = 0.098 (auc: 0.892 f1: 0.617)\n"
     ]
    },
    {
     "name": "stderr",
     "output_type": "stream",
     "text": [
      "100%|██████████████████████████████████████████| 16/16 [00:00<00:00, 165.34it/s]\n",
      " 97%|█████████████████████████████████████████▌ | 29/30 [00:07<00:00,  3.79it/s]"
     ]
    },
    {
     "name": "stdout",
     "output_type": "stream",
     "text": [
      "Epoch 28:  (best: False)train loss = 0.095 (auc: 0.888 f1: 0.676), validation loss = 0.098 (auc: 0.892 f1: 0.607)\n"
     ]
    },
    {
     "name": "stderr",
     "output_type": "stream",
     "text": [
      "100%|██████████████████████████████████████████| 16/16 [00:00<00:00, 165.31it/s]\n",
      "100%|███████████████████████████████████████████| 30/30 [00:07<00:00,  3.76it/s]\n"
     ]
    },
    {
     "name": "stdout",
     "output_type": "stream",
     "text": [
      "Epoch 29:  (best: False)train loss = 0.096 (auc: 0.884 f1: 0.673), validation loss = 0.098 (auc: 0.888 f1: 0.614)\n"
     ]
    },
    {
     "name": "stderr",
     "output_type": "stream",
     "text": [
      "100%|██████████████████████████████████████████| 16/16 [00:00<00:00, 167.95it/s]\n",
      "  3%|█▍                                          | 1/30 [00:00<00:07,  3.90it/s]"
     ]
    },
    {
     "name": "stdout",
     "output_type": "stream",
     "text": [
      "Epoch 0:  (best: True)train loss = 0.112 (auc: 0.877 f1: 0.246), validation loss = 0.113 (auc: 0.889 f1: 0.218)\n"
     ]
    },
    {
     "name": "stderr",
     "output_type": "stream",
     "text": [
      "100%|██████████████████████████████████████████| 16/16 [00:00<00:00, 163.51it/s]\n",
      "  7%|██▉                                         | 2/30 [00:00<00:07,  3.87it/s]"
     ]
    },
    {
     "name": "stdout",
     "output_type": "stream",
     "text": [
      "Epoch 1:  (best: True)train loss = 0.105 (auc: 0.868 f1: 0.372), validation loss = 0.106 (auc: 0.880 f1: 0.362)\n"
     ]
    },
    {
     "name": "stderr",
     "output_type": "stream",
     "text": [
      "100%|██████████████████████████████████████████| 16/16 [00:00<00:00, 166.10it/s]\n",
      " 10%|████▍                                       | 3/30 [00:00<00:06,  3.88it/s]"
     ]
    },
    {
     "name": "stdout",
     "output_type": "stream",
     "text": [
      "Epoch 2:  (best: True)train loss = 0.103 (auc: 0.866 f1: 0.460), validation loss = 0.103 (auc: 0.884 f1: 0.432)\n"
     ]
    },
    {
     "name": "stderr",
     "output_type": "stream",
     "text": [
      "100%|██████████████████████████████████████████| 16/16 [00:00<00:00, 156.53it/s]\n",
      " 13%|█████▊                                      | 4/30 [00:01<00:06,  3.80it/s]"
     ]
    },
    {
     "name": "stdout",
     "output_type": "stream",
     "text": [
      "Epoch 3:  (best: True)train loss = 0.101 (auc: 0.862 f1: 0.464), validation loss = 0.102 (auc: 0.878 f1: 0.450)\n"
     ]
    },
    {
     "name": "stderr",
     "output_type": "stream",
     "text": [
      "100%|██████████████████████████████████████████| 16/16 [00:00<00:00, 158.09it/s]\n",
      " 17%|███████▎                                    | 5/30 [00:01<00:06,  3.77it/s]"
     ]
    },
    {
     "name": "stdout",
     "output_type": "stream",
     "text": [
      "Epoch 4:  (best: True)train loss = 0.100 (auc: 0.862 f1: 0.497), validation loss = 0.101 (auc: 0.877 f1: 0.474)\n"
     ]
    },
    {
     "name": "stderr",
     "output_type": "stream",
     "text": [
      "100%|██████████████████████████████████████████| 16/16 [00:00<00:00, 157.83it/s]\n",
      " 20%|████████▊                                   | 6/30 [00:01<00:06,  3.75it/s]"
     ]
    },
    {
     "name": "stdout",
     "output_type": "stream",
     "text": [
      "Epoch 5:  (best: True)train loss = 0.100 (auc: 0.868 f1: 0.499), validation loss = 0.101 (auc: 0.881 f1: 0.477)\n"
     ]
    },
    {
     "name": "stderr",
     "output_type": "stream",
     "text": [
      "100%|██████████████████████████████████████████| 16/16 [00:00<00:00, 162.27it/s]\n",
      " 23%|██████████▎                                 | 7/30 [00:01<00:06,  3.75it/s]"
     ]
    },
    {
     "name": "stdout",
     "output_type": "stream",
     "text": [
      "Epoch 6:  (best: True)train loss = 0.101 (auc: 0.866 f1: 0.497), validation loss = 0.101 (auc: 0.881 f1: 0.477)\n"
     ]
    },
    {
     "name": "stderr",
     "output_type": "stream",
     "text": [
      "100%|██████████████████████████████████████████| 16/16 [00:00<00:00, 163.17it/s]\n",
      " 27%|███████████▋                                | 8/30 [00:02<00:05,  3.76it/s]"
     ]
    },
    {
     "name": "stdout",
     "output_type": "stream",
     "text": [
      "Epoch 7:  (best: True)train loss = 0.099 (auc: 0.868 f1: 0.521), validation loss = 0.100 (auc: 0.881 f1: 0.496)\n"
     ]
    },
    {
     "name": "stderr",
     "output_type": "stream",
     "text": [
      "100%|██████████████████████████████████████████| 16/16 [00:00<00:00, 164.48it/s]\n",
      " 30%|█████████████▏                              | 9/30 [00:02<00:05,  3.76it/s]"
     ]
    },
    {
     "name": "stdout",
     "output_type": "stream",
     "text": [
      "Epoch 8:  (best: False)train loss = 0.099 (auc: 0.866 f1: 0.521), validation loss = 0.100 (auc: 0.881 f1: 0.492)\n"
     ]
    },
    {
     "name": "stderr",
     "output_type": "stream",
     "text": [
      "100%|██████████████████████████████████████████| 16/16 [00:00<00:00, 166.07it/s]\n",
      " 33%|██████████████▎                            | 10/30 [00:02<00:05,  3.75it/s]"
     ]
    },
    {
     "name": "stdout",
     "output_type": "stream",
     "text": [
      "Epoch 9:  (best: True)train loss = 0.099 (auc: 0.868 f1: 0.542), validation loss = 0.100 (auc: 0.882 f1: 0.512)\n"
     ]
    },
    {
     "name": "stderr",
     "output_type": "stream",
     "text": [
      "100%|██████████████████████████████████████████| 16/16 [00:00<00:00, 166.39it/s]\n",
      " 37%|███████████████▊                           | 11/30 [00:02<00:05,  3.78it/s]"
     ]
    },
    {
     "name": "stdout",
     "output_type": "stream",
     "text": [
      "Epoch 10:  (best: True)train loss = 0.100 (auc: 0.870 f1: 0.544), validation loss = 0.100 (auc: 0.883 f1: 0.517)\n"
     ]
    },
    {
     "name": "stderr",
     "output_type": "stream",
     "text": [
      "100%|██████████████████████████████████████████| 16/16 [00:00<00:00, 165.34it/s]\n",
      " 40%|█████████████████▏                         | 12/30 [00:03<00:04,  3.79it/s]"
     ]
    },
    {
     "name": "stdout",
     "output_type": "stream",
     "text": [
      "Epoch 11:  (best: False)train loss = 0.099 (auc: 0.866 f1: 0.554), validation loss = 0.100 (auc: 0.879 f1: 0.511)\n"
     ]
    },
    {
     "name": "stderr",
     "output_type": "stream",
     "text": [
      "100%|██████████████████████████████████████████| 16/16 [00:00<00:00, 163.04it/s]\n",
      " 43%|██████████████████▋                        | 13/30 [00:03<00:04,  3.80it/s]"
     ]
    },
    {
     "name": "stdout",
     "output_type": "stream",
     "text": [
      "Epoch 12:  (best: True)train loss = 0.099 (auc: 0.871 f1: 0.578), validation loss = 0.100 (auc: 0.883 f1: 0.541)\n"
     ]
    },
    {
     "name": "stderr",
     "output_type": "stream",
     "text": [
      "100%|██████████████████████████████████████████| 16/16 [00:00<00:00, 161.26it/s]\n",
      " 47%|████████████████████                       | 14/30 [00:03<00:04,  3.78it/s]"
     ]
    },
    {
     "name": "stdout",
     "output_type": "stream",
     "text": [
      "Epoch 13:  (best: True)train loss = 0.098 (auc: 0.869 f1: 0.590), validation loss = 0.100 (auc: 0.880 f1: 0.552)\n"
     ]
    },
    {
     "name": "stderr",
     "output_type": "stream",
     "text": [
      "100%|██████████████████████████████████████████| 16/16 [00:00<00:00, 167.66it/s]\n",
      " 50%|█████████████████████▌                     | 15/30 [00:03<00:03,  3.81it/s]"
     ]
    },
    {
     "name": "stdout",
     "output_type": "stream",
     "text": [
      "Epoch 14:  (best: False)train loss = 0.098 (auc: 0.875 f1: 0.587), validation loss = 0.100 (auc: 0.884 f1: 0.536)\n"
     ]
    },
    {
     "name": "stderr",
     "output_type": "stream",
     "text": [
      "100%|██████████████████████████████████████████| 16/16 [00:00<00:00, 167.12it/s]\n",
      " 53%|██████████████████████▉                    | 16/30 [00:04<00:03,  3.81it/s]"
     ]
    },
    {
     "name": "stdout",
     "output_type": "stream",
     "text": [
      "Epoch 15:  (best: False)train loss = 0.099 (auc: 0.874 f1: 0.591), validation loss = 0.100 (auc: 0.886 f1: 0.529)\n"
     ]
    },
    {
     "name": "stderr",
     "output_type": "stream",
     "text": [
      "100%|██████████████████████████████████████████| 16/16 [00:00<00:00, 161.14it/s]\n",
      " 57%|████████████████████████▎                  | 17/30 [00:04<00:03,  3.80it/s]"
     ]
    },
    {
     "name": "stdout",
     "output_type": "stream",
     "text": [
      "Epoch 16:  (best: False)train loss = 0.098 (auc: 0.872 f1: 0.600), validation loss = 0.100 (auc: 0.878 f1: 0.550)\n"
     ]
    },
    {
     "name": "stderr",
     "output_type": "stream",
     "text": [
      "100%|██████████████████████████████████████████| 16/16 [00:00<00:00, 151.56it/s]\n",
      " 60%|█████████████████████████▊                 | 18/30 [00:04<00:03,  3.74it/s]"
     ]
    },
    {
     "name": "stdout",
     "output_type": "stream",
     "text": [
      "Epoch 17:  (best: False)train loss = 0.098 (auc: 0.874 f1: 0.596), validation loss = 0.100 (auc: 0.881 f1: 0.537)\n"
     ]
    },
    {
     "name": "stderr",
     "output_type": "stream",
     "text": [
      "100%|██████████████████████████████████████████| 16/16 [00:00<00:00, 164.77it/s]\n",
      " 63%|███████████████████████████▏               | 19/30 [00:05<00:02,  3.77it/s]"
     ]
    },
    {
     "name": "stdout",
     "output_type": "stream",
     "text": [
      "Epoch 18:  (best: True)train loss = 0.098 (auc: 0.876 f1: 0.615), validation loss = 0.099 (auc: 0.883 f1: 0.560)\n"
     ]
    },
    {
     "name": "stderr",
     "output_type": "stream",
     "text": [
      "100%|██████████████████████████████████████████| 16/16 [00:00<00:00, 167.59it/s]\n",
      " 67%|████████████████████████████▋              | 20/30 [00:05<00:02,  3.79it/s]"
     ]
    },
    {
     "name": "stdout",
     "output_type": "stream",
     "text": [
      "Epoch 19:  (best: True)train loss = 0.097 (auc: 0.875 f1: 0.639), validation loss = 0.099 (auc: 0.881 f1: 0.574)\n"
     ]
    },
    {
     "name": "stderr",
     "output_type": "stream",
     "text": [
      "100%|██████████████████████████████████████████| 16/16 [00:00<00:00, 164.55it/s]\n",
      " 70%|██████████████████████████████             | 21/30 [00:05<00:02,  3.80it/s]"
     ]
    },
    {
     "name": "stdout",
     "output_type": "stream",
     "text": [
      "Epoch 20:  (best: True)train loss = 0.097 (auc: 0.876 f1: 0.635), validation loss = 0.099 (auc: 0.888 f1: 0.578)\n"
     ]
    },
    {
     "name": "stderr",
     "output_type": "stream",
     "text": [
      "100%|██████████████████████████████████████████| 16/16 [00:00<00:00, 164.39it/s]\n",
      " 73%|███████████████████████████████▌           | 22/30 [00:05<00:02,  3.81it/s]"
     ]
    },
    {
     "name": "stdout",
     "output_type": "stream",
     "text": [
      "Epoch 21:  (best: False)train loss = 0.097 (auc: 0.866 f1: 0.624), validation loss = 0.099 (auc: 0.870 f1: 0.557)\n"
     ]
    },
    {
     "name": "stderr",
     "output_type": "stream",
     "text": [
      "100%|██████████████████████████████████████████| 16/16 [00:00<00:00, 164.41it/s]\n",
      " 77%|████████████████████████████████▉          | 23/30 [00:06<00:01,  3.82it/s]"
     ]
    },
    {
     "name": "stdout",
     "output_type": "stream",
     "text": [
      "Epoch 22:  (best: False)train loss = 0.097 (auc: 0.870 f1: 0.633), validation loss = 0.099 (auc: 0.877 f1: 0.567)\n"
     ]
    },
    {
     "name": "stderr",
     "output_type": "stream",
     "text": [
      "100%|██████████████████████████████████████████| 16/16 [00:00<00:00, 169.02it/s]\n",
      " 80%|██████████████████████████████████▍        | 24/30 [00:06<00:01,  3.85it/s]"
     ]
    },
    {
     "name": "stdout",
     "output_type": "stream",
     "text": [
      "Epoch 23:  (best: False)train loss = 0.097 (auc: 0.875 f1: 0.645), validation loss = 0.099 (auc: 0.881 f1: 0.573)\n"
     ]
    },
    {
     "name": "stderr",
     "output_type": "stream",
     "text": [
      "100%|██████████████████████████████████████████| 16/16 [00:00<00:00, 167.49it/s]\n",
      " 83%|███████████████████████████████████▊       | 25/30 [00:06<00:01,  3.83it/s]"
     ]
    },
    {
     "name": "stdout",
     "output_type": "stream",
     "text": [
      "Epoch 24:  (best: True)train loss = 0.097 (auc: 0.877 f1: 0.645), validation loss = 0.099 (auc: 0.884 f1: 0.581)\n"
     ]
    },
    {
     "name": "stderr",
     "output_type": "stream",
     "text": [
      "100%|██████████████████████████████████████████| 16/16 [00:00<00:00, 163.91it/s]\n",
      " 87%|█████████████████████████████████████▎     | 26/30 [00:06<00:01,  3.83it/s]"
     ]
    },
    {
     "name": "stdout",
     "output_type": "stream",
     "text": [
      "Epoch 25:  (best: False)train loss = 0.096 (auc: 0.878 f1: 0.642), validation loss = 0.099 (auc: 0.887 f1: 0.580)\n"
     ]
    },
    {
     "name": "stderr",
     "output_type": "stream",
     "text": [
      "100%|██████████████████████████████████████████| 16/16 [00:00<00:00, 162.26it/s]\n",
      " 90%|██████████████████████████████████████▋    | 27/30 [00:07<00:00,  3.82it/s]"
     ]
    },
    {
     "name": "stdout",
     "output_type": "stream",
     "text": [
      "Epoch 26:  (best: False)train loss = 0.097 (auc: 0.878 f1: 0.648), validation loss = 0.099 (auc: 0.886 f1: 0.571)\n"
     ]
    },
    {
     "name": "stderr",
     "output_type": "stream",
     "text": [
      "100%|██████████████████████████████████████████| 16/16 [00:00<00:00, 164.36it/s]\n",
      " 93%|████████████████████████████████████████▏  | 28/30 [00:07<00:00,  3.81it/s]"
     ]
    },
    {
     "name": "stdout",
     "output_type": "stream",
     "text": [
      "Epoch 27:  (best: False)train loss = 0.097 (auc: 0.880 f1: 0.650), validation loss = 0.099 (auc: 0.887 f1: 0.573)\n"
     ]
    },
    {
     "name": "stderr",
     "output_type": "stream",
     "text": [
      "100%|██████████████████████████████████████████| 16/16 [00:00<00:00, 161.21it/s]\n",
      " 97%|█████████████████████████████████████████▌ | 29/30 [00:07<00:00,  3.77it/s]"
     ]
    },
    {
     "name": "stdout",
     "output_type": "stream",
     "text": [
      "Epoch 28:  (best: False)train loss = 0.096 (auc: 0.880 f1: 0.650), validation loss = 0.099 (auc: 0.887 f1: 0.569)\n"
     ]
    },
    {
     "name": "stderr",
     "output_type": "stream",
     "text": [
      "100%|██████████████████████████████████████████| 16/16 [00:00<00:00, 153.43it/s]\n",
      "100%|███████████████████████████████████████████| 30/30 [00:07<00:00,  3.78it/s]\n"
     ]
    },
    {
     "name": "stdout",
     "output_type": "stream",
     "text": [
      "Epoch 29:  (best: False)train loss = 0.097 (auc: 0.881 f1: 0.651), validation loss = 0.099 (auc: 0.889 f1: 0.581)\n"
     ]
    },
    {
     "name": "stderr",
     "output_type": "stream",
     "text": [
      "100%|██████████████████████████████████████████| 16/16 [00:00<00:00, 157.47it/s]\n",
      "  3%|█▍                                          | 1/30 [00:00<00:07,  3.74it/s]"
     ]
    },
    {
     "name": "stdout",
     "output_type": "stream",
     "text": [
      "Epoch 0:  (best: True)train loss = 0.113 (auc: 0.862 f1: 0.202), validation loss = 0.113 (auc: 0.874 f1: 0.186)\n"
     ]
    },
    {
     "name": "stderr",
     "output_type": "stream",
     "text": [
      "100%|██████████████████████████████████████████| 16/16 [00:00<00:00, 158.39it/s]\n",
      "  7%|██▉                                         | 2/30 [00:00<00:07,  3.68it/s]"
     ]
    },
    {
     "name": "stdout",
     "output_type": "stream",
     "text": [
      "Epoch 1:  (best: True)train loss = 0.106 (auc: 0.870 f1: 0.351), validation loss = 0.106 (auc: 0.888 f1: 0.352)\n"
     ]
    },
    {
     "name": "stderr",
     "output_type": "stream",
     "text": [
      "100%|██████████████████████████████████████████| 16/16 [00:00<00:00, 166.01it/s]\n",
      " 10%|████▍                                       | 3/30 [00:00<00:07,  3.75it/s]"
     ]
    },
    {
     "name": "stdout",
     "output_type": "stream",
     "text": [
      "Epoch 2:  (best: True)train loss = 0.102 (auc: 0.876 f1: 0.480), validation loss = 0.103 (auc: 0.888 f1: 0.470)\n"
     ]
    },
    {
     "name": "stderr",
     "output_type": "stream",
     "text": [
      "100%|██████████████████████████████████████████| 16/16 [00:00<00:00, 156.02it/s]\n",
      " 13%|█████▊                                      | 4/30 [00:01<00:06,  3.74it/s]"
     ]
    },
    {
     "name": "stdout",
     "output_type": "stream",
     "text": [
      "Epoch 3:  (best: False)train loss = 0.101 (auc: 0.877 f1: 0.481), validation loss = 0.101 (auc: 0.891 f1: 0.464)\n"
     ]
    },
    {
     "name": "stderr",
     "output_type": "stream",
     "text": [
      "100%|██████████████████████████████████████████| 16/16 [00:00<00:00, 163.43it/s]\n",
      " 17%|███████▎                                    | 5/30 [00:01<00:06,  3.76it/s]"
     ]
    },
    {
     "name": "stdout",
     "output_type": "stream",
     "text": [
      "Epoch 4:  (best: False)train loss = 0.100 (auc: 0.877 f1: 0.485), validation loss = 0.101 (auc: 0.891 f1: 0.458)\n"
     ]
    },
    {
     "name": "stderr",
     "output_type": "stream",
     "text": [
      "100%|██████████████████████████████████████████| 16/16 [00:00<00:00, 163.28it/s]\n",
      " 20%|████████▊                                   | 6/30 [00:01<00:06,  3.76it/s]"
     ]
    },
    {
     "name": "stdout",
     "output_type": "stream",
     "text": [
      "Epoch 5:  (best: True)train loss = 0.100 (auc: 0.874 f1: 0.516), validation loss = 0.101 (auc: 0.886 f1: 0.491)\n"
     ]
    },
    {
     "name": "stderr",
     "output_type": "stream",
     "text": [
      "100%|██████████████████████████████████████████| 16/16 [00:00<00:00, 161.64it/s]\n",
      " 23%|██████████▎                                 | 7/30 [00:01<00:06,  3.75it/s]"
     ]
    },
    {
     "name": "stdout",
     "output_type": "stream",
     "text": [
      "Epoch 6:  (best: True)train loss = 0.099 (auc: 0.874 f1: 0.538), validation loss = 0.100 (auc: 0.888 f1: 0.512)\n"
     ]
    },
    {
     "name": "stderr",
     "output_type": "stream",
     "text": [
      "100%|██████████████████████████████████████████| 16/16 [00:00<00:00, 164.16it/s]\n",
      " 27%|███████████▋                                | 8/30 [00:02<00:05,  3.80it/s]"
     ]
    },
    {
     "name": "stdout",
     "output_type": "stream",
     "text": [
      "Epoch 7:  (best: False)train loss = 0.099 (auc: 0.872 f1: 0.539), validation loss = 0.100 (auc: 0.884 f1: 0.511)\n"
     ]
    },
    {
     "name": "stderr",
     "output_type": "stream",
     "text": [
      "100%|██████████████████████████████████████████| 16/16 [00:00<00:00, 170.66it/s]\n",
      " 30%|█████████████▏                              | 9/30 [00:02<00:05,  3.84it/s]"
     ]
    },
    {
     "name": "stdout",
     "output_type": "stream",
     "text": [
      "Epoch 8:  (best: True)train loss = 0.099 (auc: 0.871 f1: 0.551), validation loss = 0.100 (auc: 0.884 f1: 0.515)\n"
     ]
    },
    {
     "name": "stderr",
     "output_type": "stream",
     "text": [
      "100%|██████████████████████████████████████████| 16/16 [00:00<00:00, 160.78it/s]\n",
      " 33%|██████████████▎                            | 10/30 [00:02<00:05,  3.83it/s]"
     ]
    },
    {
     "name": "stdout",
     "output_type": "stream",
     "text": [
      "Epoch 9:  (best: True)train loss = 0.099 (auc: 0.872 f1: 0.547), validation loss = 0.100 (auc: 0.883 f1: 0.522)\n"
     ]
    },
    {
     "name": "stderr",
     "output_type": "stream",
     "text": [
      "100%|██████████████████████████████████████████| 16/16 [00:00<00:00, 154.69it/s]\n",
      " 37%|███████████████▊                           | 11/30 [00:02<00:05,  3.77it/s]"
     ]
    },
    {
     "name": "stdout",
     "output_type": "stream",
     "text": [
      "Epoch 10:  (best: True)train loss = 0.098 (auc: 0.872 f1: 0.577), validation loss = 0.100 (auc: 0.885 f1: 0.529)\n"
     ]
    },
    {
     "name": "stderr",
     "output_type": "stream",
     "text": [
      "100%|██████████████████████████████████████████| 16/16 [00:00<00:00, 156.08it/s]\n",
      " 40%|█████████████████▏                         | 12/30 [00:03<00:04,  3.77it/s]"
     ]
    },
    {
     "name": "stdout",
     "output_type": "stream",
     "text": [
      "Epoch 11:  (best: True)train loss = 0.098 (auc: 0.877 f1: 0.583), validation loss = 0.100 (auc: 0.889 f1: 0.549)\n"
     ]
    },
    {
     "name": "stderr",
     "output_type": "stream",
     "text": [
      "100%|██████████████████████████████████████████| 16/16 [00:00<00:00, 163.38it/s]\n",
      " 43%|██████████████████▋                        | 13/30 [00:03<00:04,  3.79it/s]"
     ]
    },
    {
     "name": "stdout",
     "output_type": "stream",
     "text": [
      "Epoch 12:  (best: False)train loss = 0.099 (auc: 0.876 f1: 0.580), validation loss = 0.100 (auc: 0.887 f1: 0.534)\n"
     ]
    },
    {
     "name": "stderr",
     "output_type": "stream",
     "text": [
      "100%|██████████████████████████████████████████| 16/16 [00:00<00:00, 164.14it/s]\n",
      " 47%|████████████████████                       | 14/30 [00:03<00:04,  3.81it/s]"
     ]
    },
    {
     "name": "stdout",
     "output_type": "stream",
     "text": [
      "Epoch 13:  (best: False)train loss = 0.099 (auc: 0.876 f1: 0.592), validation loss = 0.100 (auc: 0.887 f1: 0.536)\n"
     ]
    },
    {
     "name": "stderr",
     "output_type": "stream",
     "text": [
      "100%|██████████████████████████████████████████| 16/16 [00:00<00:00, 153.44it/s]\n",
      " 50%|█████████████████████▌                     | 15/30 [00:03<00:03,  3.77it/s]"
     ]
    },
    {
     "name": "stdout",
     "output_type": "stream",
     "text": [
      "Epoch 14:  (best: False)train loss = 0.098 (auc: 0.876 f1: 0.589), validation loss = 0.100 (auc: 0.884 f1: 0.541)\n"
     ]
    },
    {
     "name": "stderr",
     "output_type": "stream",
     "text": [
      "100%|██████████████████████████████████████████| 16/16 [00:00<00:00, 164.07it/s]\n",
      " 53%|██████████████████████▉                    | 16/30 [00:04<00:03,  3.79it/s]"
     ]
    },
    {
     "name": "stdout",
     "output_type": "stream",
     "text": [
      "Epoch 15:  (best: False)train loss = 0.098 (auc: 0.876 f1: 0.597), validation loss = 0.100 (auc: 0.885 f1: 0.539)\n"
     ]
    },
    {
     "name": "stderr",
     "output_type": "stream",
     "text": [
      "100%|██████████████████████████████████████████| 16/16 [00:00<00:00, 165.95it/s]\n",
      " 57%|████████████████████████▎                  | 17/30 [00:04<00:03,  3.81it/s]"
     ]
    },
    {
     "name": "stdout",
     "output_type": "stream",
     "text": [
      "Epoch 16:  (best: False)train loss = 0.098 (auc: 0.875 f1: 0.594), validation loss = 0.100 (auc: 0.883 f1: 0.542)\n"
     ]
    },
    {
     "name": "stderr",
     "output_type": "stream",
     "text": [
      "100%|██████████████████████████████████████████| 16/16 [00:00<00:00, 163.20it/s]\n",
      " 60%|█████████████████████████▊                 | 18/30 [00:04<00:03,  3.82it/s]"
     ]
    },
    {
     "name": "stdout",
     "output_type": "stream",
     "text": [
      "Epoch 17:  (best: False)train loss = 0.098 (auc: 0.877 f1: 0.592), validation loss = 0.100 (auc: 0.884 f1: 0.541)\n"
     ]
    },
    {
     "name": "stderr",
     "output_type": "stream",
     "text": [
      "100%|██████████████████████████████████████████| 16/16 [00:00<00:00, 159.99it/s]\n",
      " 63%|███████████████████████████▏               | 19/30 [00:05<00:02,  3.75it/s]"
     ]
    },
    {
     "name": "stdout",
     "output_type": "stream",
     "text": [
      "Epoch 18:  (best: False)train loss = 0.098 (auc: 0.876 f1: 0.595), validation loss = 0.100 (auc: 0.883 f1: 0.545)\n"
     ]
    },
    {
     "name": "stderr",
     "output_type": "stream",
     "text": [
      "100%|██████████████████████████████████████████| 16/16 [00:00<00:00, 164.39it/s]\n",
      " 67%|████████████████████████████▋              | 20/30 [00:05<00:02,  3.79it/s]"
     ]
    },
    {
     "name": "stdout",
     "output_type": "stream",
     "text": [
      "Epoch 19:  (best: False)train loss = 0.098 (auc: 0.868 f1: 0.589), validation loss = 0.100 (auc: 0.876 f1: 0.542)\n"
     ]
    },
    {
     "name": "stderr",
     "output_type": "stream",
     "text": [
      "100%|██████████████████████████████████████████| 16/16 [00:00<00:00, 166.41it/s]\n",
      " 70%|██████████████████████████████             | 21/30 [00:05<00:02,  3.81it/s]"
     ]
    },
    {
     "name": "stdout",
     "output_type": "stream",
     "text": [
      "Epoch 20:  (best: True)train loss = 0.098 (auc: 0.877 f1: 0.602), validation loss = 0.100 (auc: 0.885 f1: 0.556)\n"
     ]
    },
    {
     "name": "stderr",
     "output_type": "stream",
     "text": [
      "100%|██████████████████████████████████████████| 16/16 [00:00<00:00, 162.34it/s]\n",
      " 73%|███████████████████████████████▌           | 22/30 [00:05<00:02,  3.83it/s]"
     ]
    },
    {
     "name": "stdout",
     "output_type": "stream",
     "text": [
      "Epoch 21:  (best: False)train loss = 0.098 (auc: 0.878 f1: 0.593), validation loss = 0.100 (auc: 0.886 f1: 0.545)\n"
     ]
    },
    {
     "name": "stderr",
     "output_type": "stream",
     "text": [
      "100%|██████████████████████████████████████████| 16/16 [00:00<00:00, 163.36it/s]\n",
      " 77%|████████████████████████████████▉          | 23/30 [00:06<00:01,  3.85it/s]"
     ]
    },
    {
     "name": "stdout",
     "output_type": "stream",
     "text": [
      "Epoch 22:  (best: False)train loss = 0.098 (auc: 0.874 f1: 0.597), validation loss = 0.100 (auc: 0.882 f1: 0.542)\n"
     ]
    },
    {
     "name": "stderr",
     "output_type": "stream",
     "text": [
      "100%|██████████████████████████████████████████| 16/16 [00:00<00:00, 169.71it/s]\n",
      " 80%|██████████████████████████████████▍        | 24/30 [00:06<00:01,  3.86it/s]"
     ]
    },
    {
     "name": "stdout",
     "output_type": "stream",
     "text": [
      "Epoch 23:  (best: False)train loss = 0.098 (auc: 0.873 f1: 0.596), validation loss = 0.100 (auc: 0.881 f1: 0.539)\n"
     ]
    },
    {
     "name": "stderr",
     "output_type": "stream",
     "text": [
      "100%|██████████████████████████████████████████| 16/16 [00:00<00:00, 167.27it/s]\n",
      " 83%|███████████████████████████████████▊       | 25/30 [00:06<00:01,  3.82it/s]"
     ]
    },
    {
     "name": "stdout",
     "output_type": "stream",
     "text": [
      "Epoch 24:  (best: False)train loss = 0.098 (auc: 0.874 f1: 0.599), validation loss = 0.100 (auc: 0.880 f1: 0.542)\n"
     ]
    },
    {
     "name": "stderr",
     "output_type": "stream",
     "text": [
      "100%|██████████████████████████████████████████| 16/16 [00:00<00:00, 155.34it/s]\n",
      " 87%|█████████████████████████████████████▎     | 26/30 [00:06<00:01,  3.69it/s]"
     ]
    },
    {
     "name": "stdout",
     "output_type": "stream",
     "text": [
      "Epoch 25:  (best: False)train loss = 0.098 (auc: 0.874 f1: 0.586), validation loss = 0.100 (auc: 0.880 f1: 0.536)\n"
     ]
    },
    {
     "name": "stderr",
     "output_type": "stream",
     "text": [
      "100%|██████████████████████████████████████████| 16/16 [00:00<00:00, 161.51it/s]\n",
      " 90%|██████████████████████████████████████▋    | 27/30 [00:07<00:00,  3.73it/s]"
     ]
    },
    {
     "name": "stdout",
     "output_type": "stream",
     "text": [
      "Epoch 26:  (best: False)train loss = 0.098 (auc: 0.872 f1: 0.599), validation loss = 0.100 (auc: 0.878 f1: 0.545)\n"
     ]
    },
    {
     "name": "stderr",
     "output_type": "stream",
     "text": [
      "100%|██████████████████████████████████████████| 16/16 [00:00<00:00, 123.78it/s]\n",
      " 93%|████████████████████████████████████████▏  | 28/30 [00:07<00:00,  3.58it/s]"
     ]
    },
    {
     "name": "stdout",
     "output_type": "stream",
     "text": [
      "Epoch 27:  (best: False)train loss = 0.098 (auc: 0.872 f1: 0.597), validation loss = 0.100 (auc: 0.877 f1: 0.535)\n"
     ]
    },
    {
     "name": "stderr",
     "output_type": "stream",
     "text": [
      "100%|██████████████████████████████████████████| 16/16 [00:00<00:00, 161.09it/s]\n",
      " 97%|█████████████████████████████████████████▌ | 29/30 [00:07<00:00,  3.65it/s]"
     ]
    },
    {
     "name": "stdout",
     "output_type": "stream",
     "text": [
      "Epoch 28:  (best: False)train loss = 0.098 (auc: 0.866 f1: 0.592), validation loss = 0.100 (auc: 0.872 f1: 0.518)\n"
     ]
    },
    {
     "name": "stderr",
     "output_type": "stream",
     "text": [
      "100%|██████████████████████████████████████████| 16/16 [00:00<00:00, 151.03it/s]\n",
      "100%|███████████████████████████████████████████| 30/30 [00:07<00:00,  3.76it/s]\n"
     ]
    },
    {
     "name": "stdout",
     "output_type": "stream",
     "text": [
      "Epoch 29:  (best: False)train loss = 0.097 (auc: 0.862 f1: 0.601), validation loss = 0.100 (auc: 0.867 f1: 0.538)\n"
     ]
    },
    {
     "name": "stderr",
     "output_type": "stream",
     "text": [
      "100%|██████████████████████████████████████████| 16/16 [00:00<00:00, 169.09it/s]\n",
      "  3%|█▍                                          | 1/30 [00:00<00:07,  3.91it/s]"
     ]
    },
    {
     "name": "stdout",
     "output_type": "stream",
     "text": [
      "Epoch 0:  (best: True)train loss = 0.112 (auc: 0.866 f1: 0.162), validation loss = 0.112 (auc: 0.877 f1: 0.154)\n"
     ]
    },
    {
     "name": "stderr",
     "output_type": "stream",
     "text": [
      "100%|██████████████████████████████████████████| 16/16 [00:00<00:00, 165.33it/s]\n",
      "  7%|██▉                                         | 2/30 [00:00<00:07,  3.88it/s]"
     ]
    },
    {
     "name": "stdout",
     "output_type": "stream",
     "text": [
      "Epoch 1:  (best: True)train loss = 0.106 (auc: 0.845 f1: 0.402), validation loss = 0.107 (auc: 0.851 f1: 0.369)\n"
     ]
    },
    {
     "name": "stderr",
     "output_type": "stream",
     "text": [
      "100%|██████████████████████████████████████████| 16/16 [00:00<00:00, 154.96it/s]\n",
      " 10%|████▍                                       | 3/30 [00:00<00:07,  3.78it/s]"
     ]
    },
    {
     "name": "stdout",
     "output_type": "stream",
     "text": [
      "Epoch 2:  (best: True)train loss = 0.102 (auc: 0.865 f1: 0.454), validation loss = 0.103 (auc: 0.873 f1: 0.439)\n"
     ]
    },
    {
     "name": "stderr",
     "output_type": "stream",
     "text": [
      "100%|██████████████████████████████████████████| 16/16 [00:00<00:00, 132.34it/s]\n",
      " 13%|█████▊                                      | 4/30 [00:01<00:07,  3.63it/s]"
     ]
    },
    {
     "name": "stdout",
     "output_type": "stream",
     "text": [
      "Epoch 3:  (best: True)train loss = 0.101 (auc: 0.861 f1: 0.469), validation loss = 0.102 (auc: 0.866 f1: 0.448)\n"
     ]
    },
    {
     "name": "stderr",
     "output_type": "stream",
     "text": [
      "100%|██████████████████████████████████████████| 16/16 [00:00<00:00, 149.85it/s]\n",
      " 17%|███████▎                                    | 5/30 [00:01<00:06,  3.65it/s]"
     ]
    },
    {
     "name": "stdout",
     "output_type": "stream",
     "text": [
      "Epoch 4:  (best: True)train loss = 0.101 (auc: 0.861 f1: 0.492), validation loss = 0.102 (auc: 0.870 f1: 0.467)\n"
     ]
    },
    {
     "name": "stderr",
     "output_type": "stream",
     "text": [
      "100%|██████████████████████████████████████████| 16/16 [00:00<00:00, 140.49it/s]\n",
      " 20%|████████▊                                   | 6/30 [00:01<00:07,  3.37it/s]"
     ]
    },
    {
     "name": "stdout",
     "output_type": "stream",
     "text": [
      "Epoch 5:  (best: True)train loss = 0.100 (auc: 0.864 f1: 0.515), validation loss = 0.101 (auc: 0.876 f1: 0.481)\n"
     ]
    },
    {
     "name": "stderr",
     "output_type": "stream",
     "text": [
      "100%|██████████████████████████████████████████| 16/16 [00:00<00:00, 163.35it/s]\n",
      " 23%|██████████▎                                 | 7/30 [00:01<00:06,  3.48it/s]"
     ]
    },
    {
     "name": "stdout",
     "output_type": "stream",
     "text": [
      "Epoch 6:  (best: True)train loss = 0.100 (auc: 0.860 f1: 0.525), validation loss = 0.100 (auc: 0.870 f1: 0.504)\n"
     ]
    },
    {
     "name": "stderr",
     "output_type": "stream",
     "text": [
      "100%|██████████████████████████████████████████| 16/16 [00:00<00:00, 162.51it/s]\n",
      " 27%|███████████▋                                | 8/30 [00:02<00:06,  3.58it/s]"
     ]
    },
    {
     "name": "stdout",
     "output_type": "stream",
     "text": [
      "Epoch 7:  (best: False)train loss = 0.099 (auc: 0.863 f1: 0.521), validation loss = 0.101 (auc: 0.874 f1: 0.497)\n"
     ]
    },
    {
     "name": "stderr",
     "output_type": "stream",
     "text": [
      "100%|██████████████████████████████████████████| 16/16 [00:00<00:00, 165.36it/s]\n",
      " 30%|█████████████▏                              | 9/30 [00:02<00:05,  3.65it/s]"
     ]
    },
    {
     "name": "stdout",
     "output_type": "stream",
     "text": [
      "Epoch 8:  (best: True)train loss = 0.100 (auc: 0.864 f1: 0.543), validation loss = 0.100 (auc: 0.874 f1: 0.524)\n"
     ]
    },
    {
     "name": "stderr",
     "output_type": "stream",
     "text": [
      "100%|██████████████████████████████████████████| 16/16 [00:00<00:00, 166.09it/s]\n",
      " 33%|██████████████▎                            | 10/30 [00:02<00:05,  3.72it/s]"
     ]
    },
    {
     "name": "stdout",
     "output_type": "stream",
     "text": [
      "Epoch 9:  (best: False)train loss = 0.099 (auc: 0.860 f1: 0.532), validation loss = 0.100 (auc: 0.872 f1: 0.508)\n"
     ]
    },
    {
     "name": "stderr",
     "output_type": "stream",
     "text": [
      "100%|██████████████████████████████████████████| 16/16 [00:00<00:00, 167.17it/s]\n",
      " 37%|███████████████▊                           | 11/30 [00:03<00:05,  3.75it/s]"
     ]
    },
    {
     "name": "stdout",
     "output_type": "stream",
     "text": [
      "Epoch 10:  (best: False)train loss = 0.099 (auc: 0.859 f1: 0.540), validation loss = 0.100 (auc: 0.868 f1: 0.520)\n"
     ]
    },
    {
     "name": "stderr",
     "output_type": "stream",
     "text": [
      "100%|██████████████████████████████████████████| 16/16 [00:00<00:00, 164.15it/s]\n",
      " 40%|█████████████████▏                         | 12/30 [00:03<00:04,  3.76it/s]"
     ]
    },
    {
     "name": "stdout",
     "output_type": "stream",
     "text": [
      "Epoch 11:  (best: False)train loss = 0.099 (auc: 0.865 f1: 0.555), validation loss = 0.100 (auc: 0.876 f1: 0.521)\n"
     ]
    },
    {
     "name": "stderr",
     "output_type": "stream",
     "text": [
      "100%|██████████████████████████████████████████| 16/16 [00:00<00:00, 157.12it/s]\n",
      " 43%|██████████████████▋                        | 13/30 [00:03<00:04,  3.73it/s]"
     ]
    },
    {
     "name": "stdout",
     "output_type": "stream",
     "text": [
      "Epoch 12:  (best: True)train loss = 0.100 (auc: 0.865 f1: 0.568), validation loss = 0.100 (auc: 0.876 f1: 0.528)\n"
     ]
    },
    {
     "name": "stderr",
     "output_type": "stream",
     "text": [
      "100%|██████████████████████████████████████████| 16/16 [00:00<00:00, 157.01it/s]\n",
      " 47%|████████████████████                       | 14/30 [00:03<00:04,  3.70it/s]"
     ]
    },
    {
     "name": "stdout",
     "output_type": "stream",
     "text": [
      "Epoch 13:  (best: True)train loss = 0.099 (auc: 0.864 f1: 0.560), validation loss = 0.100 (auc: 0.875 f1: 0.534)\n"
     ]
    },
    {
     "name": "stderr",
     "output_type": "stream",
     "text": [
      "100%|██████████████████████████████████████████| 16/16 [00:00<00:00, 157.61it/s]\n",
      " 50%|█████████████████████▌                     | 15/30 [00:04<00:04,  3.70it/s]"
     ]
    },
    {
     "name": "stdout",
     "output_type": "stream",
     "text": [
      "Epoch 14:  (best: False)train loss = 0.099 (auc: 0.861 f1: 0.554), validation loss = 0.100 (auc: 0.870 f1: 0.533)\n"
     ]
    },
    {
     "name": "stderr",
     "output_type": "stream",
     "text": [
      "100%|██████████████████████████████████████████| 16/16 [00:00<00:00, 151.06it/s]\n",
      " 53%|██████████████████████▉                    | 16/30 [00:04<00:03,  3.70it/s]"
     ]
    },
    {
     "name": "stdout",
     "output_type": "stream",
     "text": [
      "Epoch 15:  (best: True)train loss = 0.099 (auc: 0.861 f1: 0.569), validation loss = 0.100 (auc: 0.870 f1: 0.541)\n"
     ]
    },
    {
     "name": "stderr",
     "output_type": "stream",
     "text": [
      "100%|██████████████████████████████████████████| 16/16 [00:00<00:00, 155.11it/s]\n",
      " 57%|████████████████████████▎                  | 17/30 [00:04<00:03,  3.61it/s]"
     ]
    },
    {
     "name": "stdout",
     "output_type": "stream",
     "text": [
      "Epoch 16:  (best: False)train loss = 0.099 (auc: 0.860 f1: 0.553), validation loss = 0.100 (auc: 0.867 f1: 0.525)\n"
     ]
    },
    {
     "name": "stderr",
     "output_type": "stream",
     "text": [
      "100%|██████████████████████████████████████████| 16/16 [00:00<00:00, 160.86it/s]\n",
      " 60%|█████████████████████████▊                 | 18/30 [00:04<00:03,  3.65it/s]"
     ]
    },
    {
     "name": "stdout",
     "output_type": "stream",
     "text": [
      "Epoch 17:  (best: False)train loss = 0.099 (auc: 0.856 f1: 0.554), validation loss = 0.100 (auc: 0.863 f1: 0.517)\n"
     ]
    },
    {
     "name": "stderr",
     "output_type": "stream",
     "text": [
      "100%|██████████████████████████████████████████| 16/16 [00:00<00:00, 161.98it/s]\n",
      " 63%|███████████████████████████▏               | 19/30 [00:05<00:02,  3.68it/s]"
     ]
    },
    {
     "name": "stdout",
     "output_type": "stream",
     "text": [
      "Epoch 18:  (best: False)train loss = 0.099 (auc: 0.861 f1: 0.558), validation loss = 0.100 (auc: 0.869 f1: 0.530)\n"
     ]
    },
    {
     "name": "stderr",
     "output_type": "stream",
     "text": [
      "100%|██████████████████████████████████████████| 16/16 [00:00<00:00, 156.56it/s]\n",
      " 67%|████████████████████████████▋              | 20/30 [00:05<00:02,  3.66it/s]"
     ]
    },
    {
     "name": "stdout",
     "output_type": "stream",
     "text": [
      "Epoch 19:  (best: True)train loss = 0.099 (auc: 0.862 f1: 0.570), validation loss = 0.100 (auc: 0.872 f1: 0.542)\n"
     ]
    },
    {
     "name": "stderr",
     "output_type": "stream",
     "text": [
      "100%|██████████████████████████████████████████| 16/16 [00:00<00:00, 149.46it/s]\n",
      " 70%|██████████████████████████████             | 21/30 [00:05<00:02,  3.63it/s]"
     ]
    },
    {
     "name": "stdout",
     "output_type": "stream",
     "text": [
      "Epoch 20:  (best: False)train loss = 0.099 (auc: 0.861 f1: 0.557), validation loss = 0.100 (auc: 0.867 f1: 0.525)\n"
     ]
    },
    {
     "name": "stderr",
     "output_type": "stream",
     "text": [
      "100%|██████████████████████████████████████████| 16/16 [00:00<00:00, 153.03it/s]\n",
      " 73%|███████████████████████████████▌           | 22/30 [00:06<00:02,  3.61it/s]"
     ]
    },
    {
     "name": "stdout",
     "output_type": "stream",
     "text": [
      "Epoch 21:  (best: True)train loss = 0.098 (auc: 0.864 f1: 0.593), validation loss = 0.100 (auc: 0.872 f1: 0.542)\n"
     ]
    },
    {
     "name": "stderr",
     "output_type": "stream",
     "text": [
      "100%|██████████████████████████████████████████| 16/16 [00:00<00:00, 157.67it/s]\n",
      " 77%|████████████████████████████████▉          | 23/30 [00:06<00:01,  3.60it/s]"
     ]
    },
    {
     "name": "stdout",
     "output_type": "stream",
     "text": [
      "Epoch 22:  (best: True)train loss = 0.098 (auc: 0.862 f1: 0.603), validation loss = 0.100 (auc: 0.869 f1: 0.545)\n"
     ]
    },
    {
     "name": "stderr",
     "output_type": "stream",
     "text": [
      "100%|██████████████████████████████████████████| 16/16 [00:00<00:00, 116.21it/s]\n",
      " 80%|██████████████████████████████████▍        | 24/30 [00:06<00:01,  3.46it/s]"
     ]
    },
    {
     "name": "stdout",
     "output_type": "stream",
     "text": [
      "Epoch 23:  (best: True)train loss = 0.098 (auc: 0.862 f1: 0.599), validation loss = 0.099 (auc: 0.870 f1: 0.561)\n"
     ]
    },
    {
     "name": "stderr",
     "output_type": "stream",
     "text": [
      "100%|██████████████████████████████████████████| 16/16 [00:00<00:00, 157.76it/s]\n",
      " 83%|███████████████████████████████████▊       | 25/30 [00:06<00:01,  3.49it/s]"
     ]
    },
    {
     "name": "stdout",
     "output_type": "stream",
     "text": [
      "Epoch 24:  (best: False)train loss = 0.098 (auc: 0.864 f1: 0.601), validation loss = 0.100 (auc: 0.872 f1: 0.553)\n"
     ]
    },
    {
     "name": "stderr",
     "output_type": "stream",
     "text": [
      "100%|██████████████████████████████████████████| 16/16 [00:00<00:00, 105.93it/s]\n",
      " 87%|█████████████████████████████████████▎     | 26/30 [00:07<00:01,  3.11it/s]"
     ]
    },
    {
     "name": "stdout",
     "output_type": "stream",
     "text": [
      "Epoch 25:  (best: False)train loss = 0.098 (auc: 0.862 f1: 0.607), validation loss = 0.100 (auc: 0.871 f1: 0.548)\n"
     ]
    },
    {
     "name": "stderr",
     "output_type": "stream",
     "text": [
      "100%|██████████████████████████████████████████| 16/16 [00:00<00:00, 104.61it/s]\n",
      " 90%|██████████████████████████████████████▋    | 27/30 [00:07<00:01,  2.92it/s]"
     ]
    },
    {
     "name": "stdout",
     "output_type": "stream",
     "text": [
      "Epoch 26:  (best: False)train loss = 0.098 (auc: 0.863 f1: 0.606), validation loss = 0.099 (auc: 0.870 f1: 0.552)\n"
     ]
    },
    {
     "name": "stderr",
     "output_type": "stream",
     "text": [
      "100%|██████████████████████████████████████████| 16/16 [00:00<00:00, 127.88it/s]\n",
      " 93%|████████████████████████████████████████▏  | 28/30 [00:08<00:00,  2.85it/s]"
     ]
    },
    {
     "name": "stdout",
     "output_type": "stream",
     "text": [
      "Epoch 27:  (best: False)train loss = 0.097 (auc: 0.863 f1: 0.606), validation loss = 0.099 (auc: 0.872 f1: 0.560)\n"
     ]
    },
    {
     "name": "stderr",
     "output_type": "stream",
     "text": [
      "100%|██████████████████████████████████████████| 16/16 [00:00<00:00, 116.05it/s]\n",
      " 97%|█████████████████████████████████████████▌ | 29/30 [00:08<00:00,  2.70it/s]"
     ]
    },
    {
     "name": "stdout",
     "output_type": "stream",
     "text": [
      "Epoch 28:  (best: False)train loss = 0.098 (auc: 0.861 f1: 0.599), validation loss = 0.099 (auc: 0.869 f1: 0.550)\n"
     ]
    },
    {
     "name": "stderr",
     "output_type": "stream",
     "text": [
      "100%|██████████████████████████████████████████| 16/16 [00:00<00:00, 108.03it/s]\n",
      "100%|███████████████████████████████████████████| 30/30 [00:08<00:00,  3.37it/s]\n"
     ]
    },
    {
     "name": "stdout",
     "output_type": "stream",
     "text": [
      "Epoch 29:  (best: False)train loss = 0.098 (auc: 0.863 f1: 0.605), validation loss = 0.100 (auc: 0.871 f1: 0.543)\n"
     ]
    },
    {
     "name": "stderr",
     "output_type": "stream",
     "text": [
      "100%|██████████████████████████████████████████| 16/16 [00:00<00:00, 121.20it/s]\n",
      "  3%|█▍                                          | 1/30 [00:00<00:10,  2.90it/s]"
     ]
    },
    {
     "name": "stdout",
     "output_type": "stream",
     "text": [
      "Epoch 0:  (best: True)train loss = 0.113 (auc: 0.876 f1: 0.226), validation loss = 0.113 (auc: 0.889 f1: 0.189)\n"
     ]
    },
    {
     "name": "stderr",
     "output_type": "stream",
     "text": [
      "100%|██████████████████████████████████████████| 16/16 [00:00<00:00, 110.76it/s]\n",
      "  7%|██▉                                         | 2/30 [00:00<00:09,  2.85it/s]"
     ]
    },
    {
     "name": "stdout",
     "output_type": "stream",
     "text": [
      "Epoch 1:  (best: True)train loss = 0.107 (auc: 0.861 f1: 0.282), validation loss = 0.108 (auc: 0.866 f1: 0.291)\n"
     ]
    },
    {
     "name": "stderr",
     "output_type": "stream",
     "text": [
      "100%|██████████████████████████████████████████| 16/16 [00:00<00:00, 109.18it/s]\n",
      " 10%|████▍                                       | 3/30 [00:01<00:10,  2.68it/s]"
     ]
    },
    {
     "name": "stdout",
     "output_type": "stream",
     "text": [
      "Epoch 2:  (best: True)train loss = 0.103 (auc: 0.884 f1: 0.444), validation loss = 0.103 (auc: 0.892 f1: 0.431)\n"
     ]
    },
    {
     "name": "stderr",
     "output_type": "stream",
     "text": [
      "100%|██████████████████████████████████████████| 16/16 [00:00<00:00, 130.45it/s]\n",
      " 13%|█████▊                                      | 4/30 [00:01<00:09,  2.78it/s]"
     ]
    },
    {
     "name": "stdout",
     "output_type": "stream",
     "text": [
      "Epoch 3:  (best: True)train loss = 0.102 (auc: 0.872 f1: 0.448), validation loss = 0.102 (auc: 0.881 f1: 0.434)\n"
     ]
    },
    {
     "name": "stderr",
     "output_type": "stream",
     "text": [
      "100%|██████████████████████████████████████████| 16/16 [00:00<00:00, 132.39it/s]\n",
      " 17%|███████▎                                    | 5/30 [00:01<00:08,  2.79it/s]"
     ]
    },
    {
     "name": "stdout",
     "output_type": "stream",
     "text": [
      "Epoch 4:  (best: True)train loss = 0.101 (auc: 0.872 f1: 0.461), validation loss = 0.102 (auc: 0.882 f1: 0.446)\n"
     ]
    },
    {
     "name": "stderr",
     "output_type": "stream",
     "text": [
      "100%|██████████████████████████████████████████| 16/16 [00:00<00:00, 115.52it/s]\n",
      " 20%|████████▊                                   | 6/30 [00:02<00:09,  2.63it/s]"
     ]
    },
    {
     "name": "stdout",
     "output_type": "stream",
     "text": [
      "Epoch 5:  (best: True)train loss = 0.101 (auc: 0.874 f1: 0.488), validation loss = 0.101 (auc: 0.883 f1: 0.459)\n"
     ]
    },
    {
     "name": "stderr",
     "output_type": "stream",
     "text": [
      "100%|██████████████████████████████████████████| 16/16 [00:00<00:00, 124.11it/s]\n",
      " 23%|██████████▎                                 | 7/30 [00:02<00:08,  2.65it/s]"
     ]
    },
    {
     "name": "stdout",
     "output_type": "stream",
     "text": [
      "Epoch 6:  (best: True)train loss = 0.100 (auc: 0.870 f1: 0.514), validation loss = 0.101 (auc: 0.877 f1: 0.469)\n"
     ]
    },
    {
     "name": "stderr",
     "output_type": "stream",
     "text": [
      "100%|██████████████████████████████████████████| 16/16 [00:00<00:00, 115.21it/s]\n",
      " 27%|███████████▋                                | 8/30 [00:02<00:08,  2.66it/s]"
     ]
    },
    {
     "name": "stdout",
     "output_type": "stream",
     "text": [
      "Epoch 7:  (best: True)train loss = 0.100 (auc: 0.878 f1: 0.563), validation loss = 0.101 (auc: 0.885 f1: 0.527)\n"
     ]
    },
    {
     "name": "stderr",
     "output_type": "stream",
     "text": [
      "100%|██████████████████████████████████████████| 16/16 [00:00<00:00, 109.29it/s]\n",
      " 30%|█████████████▏                              | 9/30 [00:03<00:07,  2.67it/s]"
     ]
    },
    {
     "name": "stdout",
     "output_type": "stream",
     "text": [
      "Epoch 8:  (best: True)train loss = 0.099 (auc: 0.878 f1: 0.572), validation loss = 0.100 (auc: 0.885 f1: 0.530)\n"
     ]
    },
    {
     "name": "stderr",
     "output_type": "stream",
     "text": [
      "100%|███████████████████████████████████████████| 16/16 [00:00<00:00, 97.25it/s]\n",
      " 33%|██████████████▎                            | 10/30 [00:03<00:07,  2.71it/s]"
     ]
    },
    {
     "name": "stdout",
     "output_type": "stream",
     "text": [
      "Epoch 9:  (best: True)train loss = 0.098 (auc: 0.879 f1: 0.586), validation loss = 0.100 (auc: 0.886 f1: 0.544)\n"
     ]
    },
    {
     "name": "stderr",
     "output_type": "stream",
     "text": [
      "100%|██████████████████████████████████████████| 16/16 [00:00<00:00, 140.13it/s]\n",
      " 37%|███████████████▊                           | 11/30 [00:04<00:07,  2.69it/s]"
     ]
    },
    {
     "name": "stdout",
     "output_type": "stream",
     "text": [
      "Epoch 10:  (best: False)train loss = 0.099 (auc: 0.878 f1: 0.582), validation loss = 0.100 (auc: 0.885 f1: 0.526)\n"
     ]
    },
    {
     "name": "stderr",
     "output_type": "stream",
     "text": [
      "100%|██████████████████████████████████████████| 16/16 [00:00<00:00, 111.49it/s]\n",
      " 40%|█████████████████▏                         | 12/30 [00:04<00:06,  2.72it/s]"
     ]
    },
    {
     "name": "stdout",
     "output_type": "stream",
     "text": [
      "Epoch 11:  (best: False)train loss = 0.098 (auc: 0.875 f1: 0.586), validation loss = 0.100 (auc: 0.881 f1: 0.538)\n"
     ]
    },
    {
     "name": "stderr",
     "output_type": "stream",
     "text": [
      "100%|██████████████████████████████████████████| 16/16 [00:00<00:00, 115.13it/s]\n",
      " 43%|██████████████████▋                        | 13/30 [00:04<00:06,  2.69it/s]"
     ]
    },
    {
     "name": "stdout",
     "output_type": "stream",
     "text": [
      "Epoch 12:  (best: False)train loss = 0.098 (auc: 0.878 f1: 0.601), validation loss = 0.100 (auc: 0.884 f1: 0.543)\n"
     ]
    },
    {
     "name": "stderr",
     "output_type": "stream",
     "text": [
      "100%|██████████████████████████████████████████| 16/16 [00:00<00:00, 129.18it/s]\n",
      " 47%|████████████████████                       | 14/30 [00:05<00:05,  2.68it/s]"
     ]
    },
    {
     "name": "stdout",
     "output_type": "stream",
     "text": [
      "Epoch 13:  (best: False)train loss = 0.098 (auc: 0.876 f1: 0.596), validation loss = 0.100 (auc: 0.883 f1: 0.534)\n"
     ]
    },
    {
     "name": "stderr",
     "output_type": "stream",
     "text": [
      "100%|███████████████████████████████████████████| 16/16 [00:00<00:00, 86.33it/s]\n",
      " 50%|█████████████████████▌                     | 15/30 [00:05<00:05,  2.60it/s]"
     ]
    },
    {
     "name": "stdout",
     "output_type": "stream",
     "text": [
      "Epoch 14:  (best: True)train loss = 0.098 (auc: 0.877 f1: 0.591), validation loss = 0.100 (auc: 0.884 f1: 0.546)\n"
     ]
    },
    {
     "name": "stderr",
     "output_type": "stream",
     "text": [
      "100%|██████████████████████████████████████████| 16/16 [00:00<00:00, 106.91it/s]\n",
      " 53%|██████████████████████▉                    | 16/30 [00:05<00:05,  2.56it/s]"
     ]
    },
    {
     "name": "stdout",
     "output_type": "stream",
     "text": [
      "Epoch 15:  (best: False)train loss = 0.098 (auc: 0.874 f1: 0.591), validation loss = 0.100 (auc: 0.880 f1: 0.540)\n"
     ]
    },
    {
     "name": "stderr",
     "output_type": "stream",
     "text": [
      "100%|██████████████████████████████████████████| 16/16 [00:00<00:00, 104.82it/s]\n",
      " 57%|████████████████████████▎                  | 17/30 [00:06<00:05,  2.50it/s]"
     ]
    },
    {
     "name": "stdout",
     "output_type": "stream",
     "text": [
      "Epoch 16:  (best: False)train loss = 0.098 (auc: 0.875 f1: 0.604), validation loss = 0.100 (auc: 0.881 f1: 0.541)\n"
     ]
    },
    {
     "name": "stderr",
     "output_type": "stream",
     "text": [
      "100%|██████████████████████████████████████████| 16/16 [00:00<00:00, 105.45it/s]\n",
      " 60%|█████████████████████████▊                 | 18/30 [00:06<00:04,  2.55it/s]"
     ]
    },
    {
     "name": "stdout",
     "output_type": "stream",
     "text": [
      "Epoch 17:  (best: False)train loss = 0.099 (auc: 0.875 f1: 0.594), validation loss = 0.100 (auc: 0.880 f1: 0.538)\n"
     ]
    },
    {
     "name": "stderr",
     "output_type": "stream",
     "text": [
      "100%|██████████████████████████████████████████| 16/16 [00:00<00:00, 107.17it/s]\n",
      " 63%|███████████████████████████▏               | 19/30 [00:07<00:04,  2.55it/s]"
     ]
    },
    {
     "name": "stdout",
     "output_type": "stream",
     "text": [
      "Epoch 18:  (best: False)train loss = 0.098 (auc: 0.874 f1: 0.589), validation loss = 0.100 (auc: 0.879 f1: 0.541)\n"
     ]
    },
    {
     "name": "stderr",
     "output_type": "stream",
     "text": [
      "100%|███████████████████████████████████████████| 16/16 [00:00<00:00, 98.15it/s]\n",
      " 67%|████████████████████████████▋              | 20/30 [00:07<00:04,  2.47it/s]"
     ]
    },
    {
     "name": "stdout",
     "output_type": "stream",
     "text": [
      "Epoch 19:  (best: False)train loss = 0.098 (auc: 0.871 f1: 0.603), validation loss = 0.100 (auc: 0.876 f1: 0.544)\n"
     ]
    },
    {
     "name": "stderr",
     "output_type": "stream",
     "text": [
      "100%|███████████████████████████████████████████| 16/16 [00:00<00:00, 98.83it/s]\n",
      " 70%|██████████████████████████████             | 21/30 [00:08<00:03,  2.49it/s]"
     ]
    },
    {
     "name": "stdout",
     "output_type": "stream",
     "text": [
      "Epoch 20:  (best: False)train loss = 0.097 (auc: 0.873 f1: 0.603), validation loss = 0.100 (auc: 0.878 f1: 0.538)\n"
     ]
    },
    {
     "name": "stderr",
     "output_type": "stream",
     "text": [
      "100%|██████████████████████████████████████████| 16/16 [00:00<00:00, 122.71it/s]\n",
      " 73%|███████████████████████████████▌           | 22/30 [00:08<00:03,  2.56it/s]"
     ]
    },
    {
     "name": "stdout",
     "output_type": "stream",
     "text": [
      "Epoch 21:  (best: False)train loss = 0.098 (auc: 0.872 f1: 0.601), validation loss = 0.100 (auc: 0.877 f1: 0.542)\n"
     ]
    },
    {
     "name": "stderr",
     "output_type": "stream",
     "text": [
      "100%|██████████████████████████████████████████| 16/16 [00:00<00:00, 107.46it/s]\n",
      " 77%|████████████████████████████████▉          | 23/30 [00:08<00:02,  2.57it/s]"
     ]
    },
    {
     "name": "stdout",
     "output_type": "stream",
     "text": [
      "Epoch 22:  (best: False)train loss = 0.098 (auc: 0.871 f1: 0.607), validation loss = 0.100 (auc: 0.877 f1: 0.545)\n"
     ]
    },
    {
     "name": "stderr",
     "output_type": "stream",
     "text": [
      "100%|███████████████████████████████████████████| 16/16 [00:00<00:00, 95.29it/s]\n",
      " 80%|██████████████████████████████████▍        | 24/30 [00:09<00:02,  2.60it/s]"
     ]
    },
    {
     "name": "stdout",
     "output_type": "stream",
     "text": [
      "Epoch 23:  (best: False)train loss = 0.098 (auc: 0.870 f1: 0.609), validation loss = 0.100 (auc: 0.875 f1: 0.546)\n"
     ]
    },
    {
     "name": "stderr",
     "output_type": "stream",
     "text": [
      "100%|██████████████████████████████████████████| 16/16 [00:00<00:00, 108.58it/s]\n",
      " 83%|███████████████████████████████████▊       | 25/30 [00:09<00:01,  2.59it/s]"
     ]
    },
    {
     "name": "stdout",
     "output_type": "stream",
     "text": [
      "Epoch 24:  (best: False)train loss = 0.097 (auc: 0.870 f1: 0.617), validation loss = 0.100 (auc: 0.875 f1: 0.540)\n"
     ]
    },
    {
     "name": "stderr",
     "output_type": "stream",
     "text": [
      "100%|███████████████████████████████████████████| 16/16 [00:00<00:00, 96.96it/s]\n",
      " 87%|█████████████████████████████████████▎     | 26/30 [00:10<00:01,  2.39it/s]"
     ]
    },
    {
     "name": "stdout",
     "output_type": "stream",
     "text": [
      "Epoch 25:  (best: False)train loss = 0.098 (auc: 0.868 f1: 0.614), validation loss = 0.100 (auc: 0.872 f1: 0.546)\n"
     ]
    },
    {
     "name": "stderr",
     "output_type": "stream",
     "text": [
      "100%|███████████████████████████████████████████| 16/16 [00:00<00:00, 84.54it/s]\n",
      " 90%|██████████████████████████████████████▋    | 27/30 [00:10<00:01,  2.31it/s]"
     ]
    },
    {
     "name": "stdout",
     "output_type": "stream",
     "text": [
      "Epoch 26:  (best: True)train loss = 0.097 (auc: 0.870 f1: 0.624), validation loss = 0.099 (auc: 0.876 f1: 0.549)\n"
     ]
    },
    {
     "name": "stderr",
     "output_type": "stream",
     "text": [
      "100%|██████████████████████████████████████████| 16/16 [00:00<00:00, 122.60it/s]\n",
      " 93%|████████████████████████████████████████▏  | 28/30 [00:10<00:00,  2.40it/s]"
     ]
    },
    {
     "name": "stdout",
     "output_type": "stream",
     "text": [
      "Epoch 27:  (best: False)train loss = 0.097 (auc: 0.868 f1: 0.616), validation loss = 0.100 (auc: 0.874 f1: 0.537)\n"
     ]
    },
    {
     "name": "stderr",
     "output_type": "stream",
     "text": [
      "100%|██████████████████████████████████████████| 16/16 [00:00<00:00, 104.17it/s]\n",
      " 97%|█████████████████████████████████████████▌ | 29/30 [00:11<00:00,  2.42it/s]"
     ]
    },
    {
     "name": "stdout",
     "output_type": "stream",
     "text": [
      "Epoch 28:  (best: False)train loss = 0.097 (auc: 0.868 f1: 0.623), validation loss = 0.100 (auc: 0.873 f1: 0.546)\n"
     ]
    },
    {
     "name": "stderr",
     "output_type": "stream",
     "text": [
      "100%|██████████████████████████████████████████| 16/16 [00:00<00:00, 111.14it/s]\n",
      "100%|███████████████████████████████████████████| 30/30 [00:11<00:00,  2.58it/s]\n"
     ]
    },
    {
     "name": "stdout",
     "output_type": "stream",
     "text": [
      "Epoch 29:  (best: False)train loss = 0.097 (auc: 0.865 f1: 0.625), validation loss = 0.100 (auc: 0.872 f1: 0.544)\n"
     ]
    },
    {
     "name": "stderr",
     "output_type": "stream",
     "text": [
      "100%|██████████████████████████████████████████| 16/16 [00:00<00:00, 123.41it/s]\n",
      "  3%|█▍                                          | 1/30 [00:00<00:11,  2.55it/s]"
     ]
    },
    {
     "name": "stdout",
     "output_type": "stream",
     "text": [
      "Epoch 0:  (best: True)train loss = 0.112 (auc: 0.886 f1: 0.206), validation loss = 0.113 (auc: 0.898 f1: 0.222)\n"
     ]
    },
    {
     "name": "stderr",
     "output_type": "stream",
     "text": [
      "100%|██████████████████████████████████████████| 16/16 [00:00<00:00, 120.63it/s]\n",
      "  7%|██▉                                         | 2/30 [00:00<00:10,  2.66it/s]"
     ]
    },
    {
     "name": "stdout",
     "output_type": "stream",
     "text": [
      "Epoch 1:  (best: True)train loss = 0.105 (auc: 0.885 f1: 0.403), validation loss = 0.106 (auc: 0.897 f1: 0.384)\n"
     ]
    },
    {
     "name": "stderr",
     "output_type": "stream",
     "text": [
      "100%|███████████████████████████████████████████| 16/16 [00:00<00:00, 92.12it/s]\n",
      " 10%|████▍                                       | 3/30 [00:01<00:10,  2.59it/s]"
     ]
    },
    {
     "name": "stdout",
     "output_type": "stream",
     "text": [
      "Epoch 2:  (best: True)train loss = 0.102 (auc: 0.889 f1: 0.480), validation loss = 0.102 (auc: 0.905 f1: 0.457)\n"
     ]
    },
    {
     "name": "stderr",
     "output_type": "stream",
     "text": [
      "100%|███████████████████████████████████████████| 16/16 [00:00<00:00, 98.93it/s]\n",
      " 13%|█████▊                                      | 4/30 [00:01<00:09,  2.65it/s]"
     ]
    },
    {
     "name": "stdout",
     "output_type": "stream",
     "text": [
      "Epoch 3:  (best: True)train loss = 0.101 (auc: 0.883 f1: 0.507), validation loss = 0.101 (auc: 0.900 f1: 0.501)\n"
     ]
    },
    {
     "name": "stderr",
     "output_type": "stream",
     "text": [
      "100%|██████████████████████████████████████████| 16/16 [00:00<00:00, 115.72it/s]\n",
      " 17%|███████▎                                    | 5/30 [00:01<00:09,  2.57it/s]"
     ]
    },
    {
     "name": "stdout",
     "output_type": "stream",
     "text": [
      "Epoch 4:  (best: False)train loss = 0.100 (auc: 0.881 f1: 0.512), validation loss = 0.101 (auc: 0.891 f1: 0.487)\n"
     ]
    },
    {
     "name": "stderr",
     "output_type": "stream",
     "text": [
      "100%|███████████████████████████████████████████| 16/16 [00:00<00:00, 89.93it/s]\n",
      " 20%|████████▊                                   | 6/30 [00:02<00:09,  2.50it/s]"
     ]
    },
    {
     "name": "stdout",
     "output_type": "stream",
     "text": [
      "Epoch 5:  (best: False)train loss = 0.100 (auc: 0.884 f1: 0.515), validation loss = 0.100 (auc: 0.894 f1: 0.485)\n"
     ]
    },
    {
     "name": "stderr",
     "output_type": "stream",
     "text": [
      "100%|██████████████████████████████████████████| 16/16 [00:00<00:00, 105.67it/s]\n",
      " 23%|██████████▎                                 | 7/30 [00:02<00:09,  2.46it/s]"
     ]
    },
    {
     "name": "stdout",
     "output_type": "stream",
     "text": [
      "Epoch 6:  (best: True)train loss = 0.099 (auc: 0.883 f1: 0.548), validation loss = 0.100 (auc: 0.895 f1: 0.521)\n"
     ]
    },
    {
     "name": "stderr",
     "output_type": "stream",
     "text": [
      "100%|███████████████████████████████████████████| 16/16 [00:00<00:00, 97.38it/s]\n",
      " 27%|███████████▋                                | 8/30 [00:03<00:08,  2.45it/s]"
     ]
    },
    {
     "name": "stdout",
     "output_type": "stream",
     "text": [
      "Epoch 7:  (best: False)train loss = 0.099 (auc: 0.880 f1: 0.538), validation loss = 0.100 (auc: 0.890 f1: 0.518)\n"
     ]
    },
    {
     "name": "stderr",
     "output_type": "stream",
     "text": [
      "100%|██████████████████████████████████████████| 16/16 [00:00<00:00, 129.24it/s]\n",
      " 30%|█████████████▏                              | 9/30 [00:03<00:08,  2.48it/s]"
     ]
    },
    {
     "name": "stdout",
     "output_type": "stream",
     "text": [
      "Epoch 8:  (best: False)train loss = 0.099 (auc: 0.883 f1: 0.553), validation loss = 0.100 (auc: 0.894 f1: 0.518)\n"
     ]
    },
    {
     "name": "stderr",
     "output_type": "stream",
     "text": [
      "100%|██████████████████████████████████████████| 16/16 [00:00<00:00, 100.45it/s]\n",
      " 33%|██████████████▎                            | 10/30 [00:03<00:08,  2.45it/s]"
     ]
    },
    {
     "name": "stdout",
     "output_type": "stream",
     "text": [
      "Epoch 9:  (best: False)train loss = 0.099 (auc: 0.881 f1: 0.545), validation loss = 0.100 (auc: 0.892 f1: 0.513)\n"
     ]
    },
    {
     "name": "stderr",
     "output_type": "stream",
     "text": [
      "100%|██████████████████████████████████████████| 16/16 [00:00<00:00, 126.65it/s]\n",
      " 37%|███████████████▊                           | 11/30 [00:04<00:07,  2.51it/s]"
     ]
    },
    {
     "name": "stdout",
     "output_type": "stream",
     "text": [
      "Epoch 10:  (best: True)train loss = 0.099 (auc: 0.884 f1: 0.590), validation loss = 0.100 (auc: 0.896 f1: 0.575)\n"
     ]
    },
    {
     "name": "stderr",
     "output_type": "stream",
     "text": [
      "100%|██████████████████████████████████████████| 16/16 [00:00<00:00, 121.34it/s]\n",
      " 40%|█████████████████▏                         | 12/30 [00:04<00:06,  2.57it/s]"
     ]
    },
    {
     "name": "stdout",
     "output_type": "stream",
     "text": [
      "Epoch 11:  (best: False)train loss = 0.099 (auc: 0.883 f1: 0.575), validation loss = 0.100 (auc: 0.896 f1: 0.535)\n"
     ]
    },
    {
     "name": "stderr",
     "output_type": "stream",
     "text": [
      "100%|███████████████████████████████████████████| 16/16 [00:00<00:00, 95.08it/s]\n",
      " 43%|██████████████████▋                        | 13/30 [00:05<00:06,  2.57it/s]"
     ]
    },
    {
     "name": "stdout",
     "output_type": "stream",
     "text": [
      "Epoch 12:  (best: False)train loss = 0.098 (auc: 0.882 f1: 0.572), validation loss = 0.099 (auc: 0.895 f1: 0.544)\n"
     ]
    },
    {
     "name": "stderr",
     "output_type": "stream",
     "text": [
      "100%|███████████████████████████████████████████| 16/16 [00:00<00:00, 99.47it/s]\n",
      " 47%|████████████████████                       | 14/30 [00:05<00:06,  2.54it/s]"
     ]
    },
    {
     "name": "stdout",
     "output_type": "stream",
     "text": [
      "Epoch 13:  (best: False)train loss = 0.098 (auc: 0.882 f1: 0.578), validation loss = 0.099 (auc: 0.895 f1: 0.551)\n"
     ]
    },
    {
     "name": "stderr",
     "output_type": "stream",
     "text": [
      "100%|███████████████████████████████████████████| 16/16 [00:00<00:00, 86.65it/s]\n",
      " 50%|█████████████████████▌                     | 15/30 [00:05<00:05,  2.52it/s]"
     ]
    },
    {
     "name": "stdout",
     "output_type": "stream",
     "text": [
      "Epoch 14:  (best: False)train loss = 0.098 (auc: 0.880 f1: 0.584), validation loss = 0.099 (auc: 0.892 f1: 0.550)\n"
     ]
    },
    {
     "name": "stderr",
     "output_type": "stream",
     "text": [
      "100%|██████████████████████████████████████████| 16/16 [00:00<00:00, 127.82it/s]\n",
      " 53%|██████████████████████▉                    | 16/30 [00:06<00:05,  2.50it/s]"
     ]
    },
    {
     "name": "stdout",
     "output_type": "stream",
     "text": [
      "Epoch 15:  (best: False)train loss = 0.098 (auc: 0.883 f1: 0.601), validation loss = 0.099 (auc: 0.898 f1: 0.571)\n"
     ]
    },
    {
     "name": "stderr",
     "output_type": "stream",
     "text": [
      "100%|███████████████████████████████████████████| 16/16 [00:00<00:00, 92.31it/s]\n",
      " 57%|████████████████████████▎                  | 17/30 [00:06<00:05,  2.52it/s]"
     ]
    },
    {
     "name": "stdout",
     "output_type": "stream",
     "text": [
      "Epoch 16:  (best: False)train loss = 0.098 (auc: 0.877 f1: 0.596), validation loss = 0.099 (auc: 0.890 f1: 0.560)\n"
     ]
    },
    {
     "name": "stderr",
     "output_type": "stream",
     "text": [
      "100%|██████████████████████████████████████████| 16/16 [00:00<00:00, 110.86it/s]\n",
      " 60%|█████████████████████████▊                 | 18/30 [00:07<00:04,  2.47it/s]"
     ]
    },
    {
     "name": "stdout",
     "output_type": "stream",
     "text": [
      "Epoch 17:  (best: False)train loss = 0.098 (auc: 0.880 f1: 0.599), validation loss = 0.099 (auc: 0.894 f1: 0.557)\n"
     ]
    },
    {
     "name": "stderr",
     "output_type": "stream",
     "text": [
      "100%|██████████████████████████████████████████| 16/16 [00:00<00:00, 102.51it/s]\n",
      " 63%|███████████████████████████▏               | 19/30 [00:07<00:04,  2.46it/s]"
     ]
    },
    {
     "name": "stdout",
     "output_type": "stream",
     "text": [
      "Epoch 18:  (best: False)train loss = 0.098 (auc: 0.880 f1: 0.601), validation loss = 0.099 (auc: 0.896 f1: 0.561)\n"
     ]
    },
    {
     "name": "stderr",
     "output_type": "stream",
     "text": [
      "100%|██████████████████████████████████████████| 16/16 [00:00<00:00, 118.31it/s]\n",
      " 67%|████████████████████████████▋              | 20/30 [00:07<00:03,  2.54it/s]"
     ]
    },
    {
     "name": "stdout",
     "output_type": "stream",
     "text": [
      "Epoch 19:  (best: True)train loss = 0.098 (auc: 0.880 f1: 0.628), validation loss = 0.099 (auc: 0.893 f1: 0.575)\n"
     ]
    },
    {
     "name": "stderr",
     "output_type": "stream",
     "text": [
      "100%|███████████████████████████████████████████| 16/16 [00:00<00:00, 84.04it/s]\n",
      " 70%|██████████████████████████████             | 21/30 [00:08<00:03,  2.47it/s]"
     ]
    },
    {
     "name": "stdout",
     "output_type": "stream",
     "text": [
      "Epoch 20:  (best: False)train loss = 0.098 (auc: 0.881 f1: 0.611), validation loss = 0.099 (auc: 0.896 f1: 0.570)\n"
     ]
    },
    {
     "name": "stderr",
     "output_type": "stream",
     "text": [
      "100%|██████████████████████████████████████████| 16/16 [00:00<00:00, 105.40it/s]\n",
      " 73%|███████████████████████████████▌           | 22/30 [00:08<00:03,  2.50it/s]"
     ]
    },
    {
     "name": "stdout",
     "output_type": "stream",
     "text": [
      "Epoch 21:  (best: True)train loss = 0.097 (auc: 0.880 f1: 0.621), validation loss = 0.099 (auc: 0.894 f1: 0.576)\n"
     ]
    },
    {
     "name": "stderr",
     "output_type": "stream",
     "text": [
      "100%|███████████████████████████████████████████| 16/16 [00:00<00:00, 92.87it/s]\n",
      " 77%|████████████████████████████████▉          | 23/30 [00:09<00:02,  2.45it/s]"
     ]
    },
    {
     "name": "stdout",
     "output_type": "stream",
     "text": [
      "Epoch 22:  (best: False)train loss = 0.098 (auc: 0.880 f1: 0.612), validation loss = 0.099 (auc: 0.894 f1: 0.567)\n"
     ]
    },
    {
     "name": "stderr",
     "output_type": "stream",
     "text": [
      "100%|██████████████████████████████████████████| 16/16 [00:00<00:00, 128.64it/s]\n",
      " 80%|██████████████████████████████████▍        | 24/30 [00:09<00:02,  2.51it/s]"
     ]
    },
    {
     "name": "stdout",
     "output_type": "stream",
     "text": [
      "Epoch 23:  (best: False)train loss = 0.097 (auc: 0.882 f1: 0.622), validation loss = 0.099 (auc: 0.894 f1: 0.561)\n"
     ]
    },
    {
     "name": "stderr",
     "output_type": "stream",
     "text": [
      "100%|██████████████████████████████████████████| 16/16 [00:00<00:00, 115.36it/s]\n",
      " 83%|███████████████████████████████████▊       | 25/30 [00:09<00:02,  2.49it/s]"
     ]
    },
    {
     "name": "stdout",
     "output_type": "stream",
     "text": [
      "Epoch 24:  (best: True)train loss = 0.097 (auc: 0.882 f1: 0.634), validation loss = 0.099 (auc: 0.895 f1: 0.597)\n"
     ]
    },
    {
     "name": "stderr",
     "output_type": "stream",
     "text": [
      "100%|██████████████████████████████████████████| 16/16 [00:00<00:00, 109.02it/s]\n",
      " 87%|█████████████████████████████████████▎     | 26/30 [00:10<00:01,  2.45it/s]"
     ]
    },
    {
     "name": "stdout",
     "output_type": "stream",
     "text": [
      "Epoch 25:  (best: False)train loss = 0.097 (auc: 0.881 f1: 0.636), validation loss = 0.099 (auc: 0.892 f1: 0.591)\n"
     ]
    },
    {
     "name": "stderr",
     "output_type": "stream",
     "text": [
      "100%|██████████████████████████████████████████| 16/16 [00:00<00:00, 121.91it/s]\n",
      " 90%|██████████████████████████████████████▋    | 27/30 [00:10<00:01,  2.42it/s]"
     ]
    },
    {
     "name": "stdout",
     "output_type": "stream",
     "text": [
      "Epoch 26:  (best: True)train loss = 0.097 (auc: 0.880 f1: 0.639), validation loss = 0.098 (auc: 0.892 f1: 0.598)\n"
     ]
    },
    {
     "name": "stderr",
     "output_type": "stream",
     "text": [
      "100%|██████████████████████████████████████████| 16/16 [00:00<00:00, 115.91it/s]\n",
      " 93%|████████████████████████████████████████▏  | 28/30 [00:11<00:00,  2.48it/s]"
     ]
    },
    {
     "name": "stdout",
     "output_type": "stream",
     "text": [
      "Epoch 27:  (best: False)train loss = 0.097 (auc: 0.878 f1: 0.633), validation loss = 0.098 (auc: 0.890 f1: 0.595)\n"
     ]
    },
    {
     "name": "stderr",
     "output_type": "stream",
     "text": [
      "100%|███████████████████████████████████████████| 16/16 [00:00<00:00, 99.64it/s]\n",
      " 97%|█████████████████████████████████████████▌ | 29/30 [00:11<00:00,  2.51it/s]"
     ]
    },
    {
     "name": "stdout",
     "output_type": "stream",
     "text": [
      "Epoch 28:  (best: False)train loss = 0.097 (auc: 0.879 f1: 0.638), validation loss = 0.099 (auc: 0.890 f1: 0.591)\n"
     ]
    },
    {
     "name": "stderr",
     "output_type": "stream",
     "text": [
      "100%|██████████████████████████████████████████| 16/16 [00:00<00:00, 113.49it/s]\n",
      "100%|███████████████████████████████████████████| 30/30 [00:11<00:00,  2.51it/s]\n"
     ]
    },
    {
     "name": "stdout",
     "output_type": "stream",
     "text": [
      "Epoch 29:  (best: True)train loss = 0.097 (auc: 0.881 f1: 0.635), validation loss = 0.099 (auc: 0.891 f1: 0.601)\n"
     ]
    },
    {
     "name": "stderr",
     "output_type": "stream",
     "text": [
      "100%|██████████████████████████████████████████| 16/16 [00:00<00:00, 120.63it/s]\n",
      "  3%|█▍                                          | 1/30 [00:00<00:10,  2.69it/s]"
     ]
    },
    {
     "name": "stdout",
     "output_type": "stream",
     "text": [
      "Epoch 0:  (best: True)train loss = 0.112 (auc: 0.894 f1: 0.226), validation loss = 0.112 (auc: 0.894 f1: 0.189)\n"
     ]
    },
    {
     "name": "stderr",
     "output_type": "stream",
     "text": [
      "100%|██████████████████████████████████████████| 16/16 [00:00<00:00, 108.58it/s]\n",
      "  7%|██▉                                         | 2/30 [00:00<00:10,  2.59it/s]"
     ]
    },
    {
     "name": "stdout",
     "output_type": "stream",
     "text": [
      "Epoch 1:  (best: True)train loss = 0.105 (auc: 0.873 f1: 0.367), validation loss = 0.106 (auc: 0.883 f1: 0.357)\n"
     ]
    },
    {
     "name": "stderr",
     "output_type": "stream",
     "text": [
      "100%|██████████████████████████████████████████| 16/16 [00:00<00:00, 105.64it/s]\n",
      " 10%|████▍                                       | 3/30 [00:01<00:10,  2.64it/s]"
     ]
    },
    {
     "name": "stdout",
     "output_type": "stream",
     "text": [
      "Epoch 2:  (best: True)train loss = 0.103 (auc: 0.873 f1: 0.470), validation loss = 0.102 (auc: 0.881 f1: 0.448)\n"
     ]
    },
    {
     "name": "stderr",
     "output_type": "stream",
     "text": [
      "100%|██████████████████████████████████████████| 16/16 [00:00<00:00, 128.84it/s]\n",
      " 13%|█████▊                                      | 4/30 [00:01<00:09,  2.61it/s]"
     ]
    },
    {
     "name": "stdout",
     "output_type": "stream",
     "text": [
      "Epoch 3:  (best: True)train loss = 0.101 (auc: 0.872 f1: 0.481), validation loss = 0.101 (auc: 0.882 f1: 0.465)\n"
     ]
    },
    {
     "name": "stderr",
     "output_type": "stream",
     "text": [
      "100%|███████████████████████████████████████████| 16/16 [00:00<00:00, 72.29it/s]\n",
      " 17%|███████▎                                    | 5/30 [00:02<00:10,  2.30it/s]"
     ]
    },
    {
     "name": "stdout",
     "output_type": "stream",
     "text": [
      "Epoch 4:  (best: True)train loss = 0.100 (auc: 0.870 f1: 0.513), validation loss = 0.101 (auc: 0.883 f1: 0.487)\n"
     ]
    },
    {
     "name": "stderr",
     "output_type": "stream",
     "text": [
      "100%|██████████████████████████████████████████| 16/16 [00:00<00:00, 103.94it/s]\n",
      " 20%|████████▊                                   | 6/30 [00:02<00:10,  2.20it/s]"
     ]
    },
    {
     "name": "stdout",
     "output_type": "stream",
     "text": [
      "Epoch 5:  (best: True)train loss = 0.100 (auc: 0.865 f1: 0.520), validation loss = 0.101 (auc: 0.875 f1: 0.492)\n"
     ]
    },
    {
     "name": "stderr",
     "output_type": "stream",
     "text": [
      "100%|███████████████████████████████████████████| 16/16 [00:00<00:00, 93.77it/s]\n",
      " 23%|██████████▎                                 | 7/30 [00:03<00:10,  2.20it/s]"
     ]
    },
    {
     "name": "stdout",
     "output_type": "stream",
     "text": [
      "Epoch 6:  (best: False)train loss = 0.099 (auc: 0.865 f1: 0.509), validation loss = 0.101 (auc: 0.875 f1: 0.489)\n"
     ]
    },
    {
     "name": "stderr",
     "output_type": "stream",
     "text": [
      "100%|███████████████████████████████████████████| 16/16 [00:00<00:00, 99.96it/s]\n",
      " 27%|███████████▋                                | 8/30 [00:03<00:10,  2.18it/s]"
     ]
    },
    {
     "name": "stdout",
     "output_type": "stream",
     "text": [
      "Epoch 7:  (best: True)train loss = 0.100 (auc: 0.863 f1: 0.523), validation loss = 0.100 (auc: 0.873 f1: 0.495)\n"
     ]
    },
    {
     "name": "stderr",
     "output_type": "stream",
     "text": [
      "100%|███████████████████████████████████████████| 16/16 [00:00<00:00, 81.34it/s]\n",
      " 30%|█████████████▏                              | 9/30 [00:03<00:10,  2.09it/s]"
     ]
    },
    {
     "name": "stdout",
     "output_type": "stream",
     "text": [
      "Epoch 8:  (best: True)train loss = 0.099 (auc: 0.865 f1: 0.534), validation loss = 0.100 (auc: 0.876 f1: 0.505)\n"
     ]
    },
    {
     "name": "stderr",
     "output_type": "stream",
     "text": [
      "100%|███████████████████████████████████████████| 16/16 [00:00<00:00, 95.03it/s]\n",
      " 33%|██████████████▎                            | 10/30 [00:04<00:09,  2.17it/s]"
     ]
    },
    {
     "name": "stdout",
     "output_type": "stream",
     "text": [
      "Epoch 9:  (best: True)train loss = 0.099 (auc: 0.866 f1: 0.560), validation loss = 0.100 (auc: 0.877 f1: 0.516)\n"
     ]
    },
    {
     "name": "stderr",
     "output_type": "stream",
     "text": [
      "100%|██████████████████████████████████████████| 16/16 [00:00<00:00, 107.35it/s]\n",
      " 37%|███████████████▊                           | 11/30 [00:04<00:08,  2.30it/s]"
     ]
    },
    {
     "name": "stdout",
     "output_type": "stream",
     "text": [
      "Epoch 10:  (best: False)train loss = 0.099 (auc: 0.865 f1: 0.549), validation loss = 0.100 (auc: 0.877 f1: 0.512)\n"
     ]
    },
    {
     "name": "stderr",
     "output_type": "stream",
     "text": [
      "100%|██████████████████████████████████████████| 16/16 [00:00<00:00, 113.60it/s]\n",
      " 40%|█████████████████▏                         | 12/30 [00:05<00:07,  2.37it/s]"
     ]
    },
    {
     "name": "stdout",
     "output_type": "stream",
     "text": [
      "Epoch 11:  (best: True)train loss = 0.099 (auc: 0.869 f1: 0.573), validation loss = 0.100 (auc: 0.882 f1: 0.530)\n"
     ]
    },
    {
     "name": "stderr",
     "output_type": "stream",
     "text": [
      "100%|███████████████████████████████████████████| 16/16 [00:00<00:00, 84.94it/s]\n",
      " 43%|██████████████████▋                        | 13/30 [00:05<00:07,  2.35it/s]"
     ]
    },
    {
     "name": "stdout",
     "output_type": "stream",
     "text": [
      "Epoch 12:  (best: False)train loss = 0.099 (auc: 0.870 f1: 0.570), validation loss = 0.100 (auc: 0.884 f1: 0.516)\n"
     ]
    },
    {
     "name": "stderr",
     "output_type": "stream",
     "text": [
      "100%|███████████████████████████████████████████| 16/16 [00:00<00:00, 94.81it/s]\n",
      " 47%|████████████████████                       | 14/30 [00:06<00:06,  2.39it/s]"
     ]
    },
    {
     "name": "stdout",
     "output_type": "stream",
     "text": [
      "Epoch 13:  (best: False)train loss = 0.098 (auc: 0.865 f1: 0.574), validation loss = 0.100 (auc: 0.877 f1: 0.527)\n"
     ]
    },
    {
     "name": "stderr",
     "output_type": "stream",
     "text": [
      "100%|██████████████████████████████████████████| 16/16 [00:00<00:00, 102.73it/s]\n",
      " 50%|█████████████████████▌                     | 15/30 [00:06<00:06,  2.44it/s]"
     ]
    },
    {
     "name": "stdout",
     "output_type": "stream",
     "text": [
      "Epoch 14:  (best: True)train loss = 0.099 (auc: 0.868 f1: 0.581), validation loss = 0.100 (auc: 0.876 f1: 0.534)\n"
     ]
    },
    {
     "name": "stderr",
     "output_type": "stream",
     "text": [
      "100%|██████████████████████████████████████████| 16/16 [00:00<00:00, 129.02it/s]\n",
      " 53%|██████████████████████▉                    | 16/30 [00:06<00:05,  2.57it/s]"
     ]
    },
    {
     "name": "stdout",
     "output_type": "stream",
     "text": [
      "Epoch 15:  (best: True)train loss = 0.098 (auc: 0.867 f1: 0.592), validation loss = 0.100 (auc: 0.875 f1: 0.538)\n"
     ]
    },
    {
     "name": "stderr",
     "output_type": "stream",
     "text": [
      "100%|██████████████████████████████████████████| 16/16 [00:00<00:00, 119.58it/s]\n",
      " 57%|████████████████████████▎                  | 17/30 [00:07<00:05,  2.59it/s]"
     ]
    },
    {
     "name": "stdout",
     "output_type": "stream",
     "text": [
      "Epoch 16:  (best: False)train loss = 0.098 (auc: 0.866 f1: 0.587), validation loss = 0.100 (auc: 0.877 f1: 0.532)\n"
     ]
    },
    {
     "name": "stderr",
     "output_type": "stream",
     "text": [
      "100%|██████████████████████████████████████████| 16/16 [00:00<00:00, 118.72it/s]\n",
      " 60%|█████████████████████████▊                 | 18/30 [00:07<00:04,  2.60it/s]"
     ]
    },
    {
     "name": "stdout",
     "output_type": "stream",
     "text": [
      "Epoch 17:  (best: False)train loss = 0.098 (auc: 0.863 f1: 0.594), validation loss = 0.100 (auc: 0.871 f1: 0.537)\n"
     ]
    },
    {
     "name": "stderr",
     "output_type": "stream",
     "text": [
      "100%|██████████████████████████████████████████| 16/16 [00:00<00:00, 119.15it/s]\n",
      " 63%|███████████████████████████▏               | 19/30 [00:07<00:04,  2.54it/s]"
     ]
    },
    {
     "name": "stdout",
     "output_type": "stream",
     "text": [
      "Epoch 18:  (best: True)train loss = 0.098 (auc: 0.861 f1: 0.594), validation loss = 0.100 (auc: 0.871 f1: 0.544)\n"
     ]
    },
    {
     "name": "stderr",
     "output_type": "stream",
     "text": [
      "100%|██████████████████████████████████████████| 16/16 [00:00<00:00, 131.81it/s]\n",
      " 67%|████████████████████████████▋              | 20/30 [00:08<00:03,  2.63it/s]"
     ]
    },
    {
     "name": "stdout",
     "output_type": "stream",
     "text": [
      "Epoch 19:  (best: False)train loss = 0.098 (auc: 0.865 f1: 0.600), validation loss = 0.100 (auc: 0.874 f1: 0.533)\n"
     ]
    },
    {
     "name": "stderr",
     "output_type": "stream",
     "text": [
      "100%|██████████████████████████████████████████| 16/16 [00:00<00:00, 122.63it/s]\n",
      " 70%|██████████████████████████████             | 21/30 [00:08<00:03,  2.50it/s]"
     ]
    },
    {
     "name": "stdout",
     "output_type": "stream",
     "text": [
      "Epoch 20:  (best: False)train loss = 0.098 (auc: 0.865 f1: 0.592), validation loss = 0.100 (auc: 0.875 f1: 0.532)\n"
     ]
    },
    {
     "name": "stderr",
     "output_type": "stream",
     "text": [
      "100%|███████████████████████████████████████████| 16/16 [00:00<00:00, 96.52it/s]\n",
      " 73%|███████████████████████████████▌           | 22/30 [00:09<00:03,  2.40it/s]"
     ]
    },
    {
     "name": "stdout",
     "output_type": "stream",
     "text": [
      "Epoch 21:  (best: False)train loss = 0.098 (auc: 0.866 f1: 0.595), validation loss = 0.100 (auc: 0.875 f1: 0.535)\n"
     ]
    },
    {
     "name": "stderr",
     "output_type": "stream",
     "text": [
      "100%|███████████████████████████████████████████| 16/16 [00:00<00:00, 95.96it/s]\n",
      " 77%|████████████████████████████████▉          | 23/30 [00:09<00:03,  2.30it/s]"
     ]
    },
    {
     "name": "stdout",
     "output_type": "stream",
     "text": [
      "Epoch 22:  (best: False)train loss = 0.098 (auc: 0.865 f1: 0.607), validation loss = 0.100 (auc: 0.874 f1: 0.538)\n"
     ]
    },
    {
     "name": "stderr",
     "output_type": "stream",
     "text": [
      "100%|███████████████████████████████████████████| 16/16 [00:00<00:00, 77.10it/s]\n",
      " 80%|██████████████████████████████████▍        | 24/30 [00:10<00:02,  2.15it/s]"
     ]
    },
    {
     "name": "stdout",
     "output_type": "stream",
     "text": [
      "Epoch 23:  (best: True)train loss = 0.098 (auc: 0.866 f1: 0.605), validation loss = 0.100 (auc: 0.873 f1: 0.546)\n"
     ]
    },
    {
     "name": "stderr",
     "output_type": "stream",
     "text": [
      "100%|███████████████████████████████████████████| 16/16 [00:00<00:00, 86.04it/s]\n",
      " 83%|███████████████████████████████████▊       | 25/30 [00:10<00:02,  2.13it/s]"
     ]
    },
    {
     "name": "stdout",
     "output_type": "stream",
     "text": [
      "Epoch 24:  (best: True)train loss = 0.097 (auc: 0.865 f1: 0.618), validation loss = 0.100 (auc: 0.872 f1: 0.550)\n"
     ]
    },
    {
     "name": "stderr",
     "output_type": "stream",
     "text": [
      "100%|███████████████████████████████████████████| 16/16 [00:00<00:00, 89.89it/s]\n",
      " 87%|█████████████████████████████████████▎     | 26/30 [00:11<00:01,  2.11it/s]"
     ]
    },
    {
     "name": "stdout",
     "output_type": "stream",
     "text": [
      "Epoch 25:  (best: False)train loss = 0.097 (auc: 0.861 f1: 0.616), validation loss = 0.100 (auc: 0.870 f1: 0.540)\n"
     ]
    },
    {
     "name": "stderr",
     "output_type": "stream",
     "text": [
      "100%|███████████████████████████████████████████| 16/16 [00:00<00:00, 99.66it/s]\n",
      " 90%|██████████████████████████████████████▋    | 27/30 [00:11<00:01,  2.18it/s]"
     ]
    },
    {
     "name": "stdout",
     "output_type": "stream",
     "text": [
      "Epoch 26:  (best: False)train loss = 0.098 (auc: 0.865 f1: 0.622), validation loss = 0.100 (auc: 0.874 f1: 0.536)\n"
     ]
    },
    {
     "name": "stderr",
     "output_type": "stream",
     "text": [
      "100%|███████████████████████████████████████████| 16/16 [00:00<00:00, 85.45it/s]\n",
      " 93%|████████████████████████████████████████▏  | 28/30 [00:12<00:00,  2.17it/s]"
     ]
    },
    {
     "name": "stdout",
     "output_type": "stream",
     "text": [
      "Epoch 27:  (best: False)train loss = 0.097 (auc: 0.865 f1: 0.616), validation loss = 0.100 (auc: 0.873 f1: 0.547)\n"
     ]
    },
    {
     "name": "stderr",
     "output_type": "stream",
     "text": [
      "100%|███████████████████████████████████████████| 16/16 [00:00<00:00, 96.62it/s]\n",
      " 97%|█████████████████████████████████████████▌ | 29/30 [00:12<00:00,  2.20it/s]"
     ]
    },
    {
     "name": "stdout",
     "output_type": "stream",
     "text": [
      "Epoch 28:  (best: False)train loss = 0.097 (auc: 0.866 f1: 0.604), validation loss = 0.100 (auc: 0.871 f1: 0.536)\n"
     ]
    },
    {
     "name": "stderr",
     "output_type": "stream",
     "text": [
      "100%|███████████████████████████████████████████| 16/16 [00:00<00:00, 88.90it/s]\n",
      "100%|███████████████████████████████████████████| 30/30 [00:12<00:00,  2.33it/s]\n"
     ]
    },
    {
     "name": "stdout",
     "output_type": "stream",
     "text": [
      "Epoch 29:  (best: False)train loss = 0.097 (auc: 0.864 f1: 0.619), validation loss = 0.100 (auc: 0.873 f1: 0.533)\n"
     ]
    },
    {
     "name": "stderr",
     "output_type": "stream",
     "text": [
      "100%|██████████████████████████████████████████| 16/16 [00:00<00:00, 118.52it/s]\n",
      "  3%|█▍                                          | 1/30 [00:00<00:11,  2.58it/s]"
     ]
    },
    {
     "name": "stdout",
     "output_type": "stream",
     "text": [
      "Epoch 0:  (best: True)train loss = 0.112 (auc: 0.876 f1: 0.174), validation loss = 0.112 (auc: 0.892 f1: 0.172)\n"
     ]
    },
    {
     "name": "stderr",
     "output_type": "stream",
     "text": [
      "100%|██████████████████████████████████████████| 16/16 [00:00<00:00, 113.76it/s]\n",
      "  7%|██▉                                         | 2/30 [00:00<00:11,  2.54it/s]"
     ]
    },
    {
     "name": "stdout",
     "output_type": "stream",
     "text": [
      "Epoch 1:  (best: True)train loss = 0.106 (auc: 0.843 f1: 0.358), validation loss = 0.106 (auc: 0.856 f1: 0.330)\n"
     ]
    },
    {
     "name": "stderr",
     "output_type": "stream",
     "text": [
      "100%|██████████████████████████████████████████| 16/16 [00:00<00:00, 113.85it/s]\n",
      " 10%|████▍                                       | 3/30 [00:01<00:10,  2.52it/s]"
     ]
    },
    {
     "name": "stdout",
     "output_type": "stream",
     "text": [
      "Epoch 2:  (best: True)train loss = 0.102 (auc: 0.864 f1: 0.489), validation loss = 0.102 (auc: 0.883 f1: 0.479)\n"
     ]
    },
    {
     "name": "stderr",
     "output_type": "stream",
     "text": [
      "100%|██████████████████████████████████████████| 16/16 [00:00<00:00, 106.74it/s]\n",
      " 13%|█████▊                                      | 4/30 [00:01<00:10,  2.56it/s]"
     ]
    },
    {
     "name": "stdout",
     "output_type": "stream",
     "text": [
      "Epoch 3:  (best: True)train loss = 0.100 (auc: 0.880 f1: 0.522), validation loss = 0.100 (auc: 0.898 f1: 0.503)\n"
     ]
    },
    {
     "name": "stderr",
     "output_type": "stream",
     "text": [
      "100%|██████████████████████████████████████████| 16/16 [00:00<00:00, 128.81it/s]\n",
      " 17%|███████▎                                    | 5/30 [00:01<00:09,  2.58it/s]"
     ]
    },
    {
     "name": "stdout",
     "output_type": "stream",
     "text": [
      "Epoch 4:  (best: True)train loss = 0.099 (auc: 0.877 f1: 0.549), validation loss = 0.099 (auc: 0.894 f1: 0.526)\n"
     ]
    },
    {
     "name": "stderr",
     "output_type": "stream",
     "text": [
      "100%|██████████████████████████████████████████| 16/16 [00:00<00:00, 119.46it/s]\n",
      " 20%|████████▊                                   | 6/30 [00:02<00:09,  2.65it/s]"
     ]
    },
    {
     "name": "stdout",
     "output_type": "stream",
     "text": [
      "Epoch 5:  (best: True)train loss = 0.098 (auc: 0.883 f1: 0.617), validation loss = 0.099 (auc: 0.898 f1: 0.600)\n"
     ]
    },
    {
     "name": "stderr",
     "output_type": "stream",
     "text": [
      "100%|██████████████████████████████████████████| 16/16 [00:00<00:00, 128.07it/s]\n",
      " 23%|██████████▎                                 | 7/30 [00:02<00:08,  2.63it/s]"
     ]
    },
    {
     "name": "stdout",
     "output_type": "stream",
     "text": [
      "Epoch 6:  (best: True)train loss = 0.098 (auc: 0.889 f1: 0.624), validation loss = 0.098 (auc: 0.900 f1: 0.603)\n"
     ]
    },
    {
     "name": "stderr",
     "output_type": "stream",
     "text": [
      "100%|███████████████████████████████████████████| 16/16 [00:00<00:00, 90.26it/s]\n",
      " 27%|███████████▋                                | 8/30 [00:03<00:08,  2.52it/s]"
     ]
    },
    {
     "name": "stdout",
     "output_type": "stream",
     "text": [
      "Epoch 7:  (best: False)train loss = 0.097 (auc: 0.891 f1: 0.620), validation loss = 0.098 (auc: 0.905 f1: 0.593)\n"
     ]
    },
    {
     "name": "stderr",
     "output_type": "stream",
     "text": [
      "100%|██████████████████████████████████████████| 16/16 [00:00<00:00, 110.96it/s]\n",
      " 30%|█████████████▏                              | 9/30 [00:03<00:08,  2.43it/s]"
     ]
    },
    {
     "name": "stdout",
     "output_type": "stream",
     "text": [
      "Epoch 8:  (best: True)train loss = 0.097 (auc: 0.892 f1: 0.637), validation loss = 0.098 (auc: 0.906 f1: 0.604)\n"
     ]
    },
    {
     "name": "stderr",
     "output_type": "stream",
     "text": [
      "100%|███████████████████████████████████████████| 16/16 [00:00<00:00, 93.20it/s]\n",
      " 33%|██████████████▎                            | 10/30 [00:04<00:08,  2.37it/s]"
     ]
    },
    {
     "name": "stdout",
     "output_type": "stream",
     "text": [
      "Epoch 9:  (best: True)train loss = 0.097 (auc: 0.890 f1: 0.635), validation loss = 0.098 (auc: 0.902 f1: 0.605)\n"
     ]
    },
    {
     "name": "stderr",
     "output_type": "stream",
     "text": [
      "100%|██████████████████████████████████████████| 16/16 [00:00<00:00, 113.68it/s]\n",
      " 37%|███████████████▊                           | 11/30 [00:04<00:07,  2.43it/s]"
     ]
    },
    {
     "name": "stdout",
     "output_type": "stream",
     "text": [
      "Epoch 10:  (best: False)train loss = 0.096 (auc: 0.889 f1: 0.637), validation loss = 0.098 (auc: 0.903 f1: 0.603)\n"
     ]
    },
    {
     "name": "stderr",
     "output_type": "stream",
     "text": [
      "100%|██████████████████████████████████████████| 16/16 [00:00<00:00, 112.37it/s]\n",
      " 40%|█████████████████▏                         | 12/30 [00:04<00:07,  2.40it/s]"
     ]
    },
    {
     "name": "stdout",
     "output_type": "stream",
     "text": [
      "Epoch 11:  (best: False)train loss = 0.096 (auc: 0.891 f1: 0.642), validation loss = 0.098 (auc: 0.904 f1: 0.598)\n"
     ]
    },
    {
     "name": "stderr",
     "output_type": "stream",
     "text": [
      "100%|██████████████████████████████████████████| 16/16 [00:00<00:00, 104.78it/s]\n",
      " 43%|██████████████████▋                        | 13/30 [00:05<00:07,  2.40it/s]"
     ]
    },
    {
     "name": "stdout",
     "output_type": "stream",
     "text": [
      "Epoch 12:  (best: False)train loss = 0.096 (auc: 0.893 f1: 0.638), validation loss = 0.098 (auc: 0.906 f1: 0.599)\n"
     ]
    },
    {
     "name": "stderr",
     "output_type": "stream",
     "text": [
      "100%|███████████████████████████████████████████| 16/16 [00:00<00:00, 91.25it/s]\n",
      " 47%|████████████████████                       | 14/30 [00:05<00:06,  2.36it/s]"
     ]
    },
    {
     "name": "stdout",
     "output_type": "stream",
     "text": [
      "Epoch 13:  (best: True)train loss = 0.096 (auc: 0.897 f1: 0.666), validation loss = 0.098 (auc: 0.910 f1: 0.616)\n"
     ]
    },
    {
     "name": "stderr",
     "output_type": "stream",
     "text": [
      "100%|███████████████████████████████████████████| 16/16 [00:00<00:00, 89.45it/s]\n",
      " 50%|█████████████████████▌                     | 15/30 [00:06<00:06,  2.37it/s]"
     ]
    },
    {
     "name": "stdout",
     "output_type": "stream",
     "text": [
      "Epoch 14:  (best: False)train loss = 0.096 (auc: 0.893 f1: 0.662), validation loss = 0.098 (auc: 0.904 f1: 0.614)\n"
     ]
    },
    {
     "name": "stderr",
     "output_type": "stream",
     "text": [
      "100%|██████████████████████████████████████████| 16/16 [00:00<00:00, 111.08it/s]\n",
      " 53%|██████████████████████▉                    | 16/30 [00:06<00:05,  2.38it/s]"
     ]
    },
    {
     "name": "stdout",
     "output_type": "stream",
     "text": [
      "Epoch 15:  (best: False)train loss = 0.096 (auc: 0.896 f1: 0.666), validation loss = 0.098 (auc: 0.907 f1: 0.614)\n"
     ]
    },
    {
     "name": "stderr",
     "output_type": "stream",
     "text": [
      "100%|███████████████████████████████████████████| 16/16 [00:00<00:00, 84.14it/s]\n",
      " 57%|████████████████████████▎                  | 17/30 [00:06<00:05,  2.33it/s]"
     ]
    },
    {
     "name": "stdout",
     "output_type": "stream",
     "text": [
      "Epoch 16:  (best: False)train loss = 0.096 (auc: 0.897 f1: 0.664), validation loss = 0.098 (auc: 0.906 f1: 0.615)\n"
     ]
    },
    {
     "name": "stderr",
     "output_type": "stream",
     "text": [
      "100%|███████████████████████████████████████████| 16/16 [00:00<00:00, 96.99it/s]\n",
      " 60%|█████████████████████████▊                 | 18/30 [00:07<00:05,  2.37it/s]"
     ]
    },
    {
     "name": "stdout",
     "output_type": "stream",
     "text": [
      "Epoch 17:  (best: False)train loss = 0.096 (auc: 0.898 f1: 0.678), validation loss = 0.098 (auc: 0.905 f1: 0.615)\n"
     ]
    },
    {
     "name": "stderr",
     "output_type": "stream",
     "text": [
      "100%|██████████████████████████████████████████| 16/16 [00:00<00:00, 102.21it/s]\n",
      " 63%|███████████████████████████▏               | 19/30 [00:07<00:04,  2.40it/s]"
     ]
    },
    {
     "name": "stdout",
     "output_type": "stream",
     "text": [
      "Epoch 18:  (best: True)train loss = 0.096 (auc: 0.897 f1: 0.676), validation loss = 0.098 (auc: 0.904 f1: 0.626)\n"
     ]
    },
    {
     "name": "stderr",
     "output_type": "stream",
     "text": [
      "100%|██████████████████████████████████████████| 16/16 [00:00<00:00, 100.24it/s]\n",
      " 67%|████████████████████████████▋              | 20/30 [00:08<00:04,  2.39it/s]"
     ]
    },
    {
     "name": "stdout",
     "output_type": "stream",
     "text": [
      "Epoch 19:  (best: False)train loss = 0.095 (auc: 0.898 f1: 0.683), validation loss = 0.098 (auc: 0.905 f1: 0.619)\n"
     ]
    },
    {
     "name": "stderr",
     "output_type": "stream",
     "text": [
      "100%|███████████████████████████████████████████| 16/16 [00:00<00:00, 94.71it/s]\n",
      " 70%|██████████████████████████████             | 21/30 [00:08<00:03,  2.33it/s]"
     ]
    },
    {
     "name": "stdout",
     "output_type": "stream",
     "text": [
      "Epoch 20:  (best: False)train loss = 0.096 (auc: 0.899 f1: 0.678), validation loss = 0.098 (auc: 0.906 f1: 0.625)\n"
     ]
    },
    {
     "name": "stderr",
     "output_type": "stream",
     "text": [
      "100%|███████████████████████████████████████████| 16/16 [00:00<00:00, 95.33it/s]\n",
      " 73%|███████████████████████████████▌           | 22/30 [00:09<00:03,  2.27it/s]"
     ]
    },
    {
     "name": "stdout",
     "output_type": "stream",
     "text": [
      "Epoch 21:  (best: False)train loss = 0.096 (auc: 0.899 f1: 0.686), validation loss = 0.098 (auc: 0.906 f1: 0.618)\n"
     ]
    },
    {
     "name": "stderr",
     "output_type": "stream",
     "text": [
      "100%|███████████████████████████████████████████| 16/16 [00:00<00:00, 96.97it/s]\n",
      " 77%|████████████████████████████████▉          | 23/30 [00:09<00:03,  2.30it/s]"
     ]
    },
    {
     "name": "stdout",
     "output_type": "stream",
     "text": [
      "Epoch 22:  (best: False)train loss = 0.095 (auc: 0.899 f1: 0.684), validation loss = 0.098 (auc: 0.904 f1: 0.626)\n"
     ]
    },
    {
     "name": "stderr",
     "output_type": "stream",
     "text": [
      "100%|██████████████████████████████████████████| 16/16 [00:00<00:00, 117.56it/s]\n",
      " 80%|██████████████████████████████████▍        | 24/30 [00:09<00:02,  2.37it/s]"
     ]
    },
    {
     "name": "stdout",
     "output_type": "stream",
     "text": [
      "Epoch 23:  (best: False)train loss = 0.096 (auc: 0.900 f1: 0.686), validation loss = 0.098 (auc: 0.906 f1: 0.623)\n"
     ]
    },
    {
     "name": "stderr",
     "output_type": "stream",
     "text": [
      "100%|██████████████████████████████████████████| 16/16 [00:00<00:00, 124.56it/s]\n",
      " 83%|███████████████████████████████████▊       | 25/30 [00:10<00:02,  2.48it/s]"
     ]
    },
    {
     "name": "stdout",
     "output_type": "stream",
     "text": [
      "Epoch 24:  (best: False)train loss = 0.096 (auc: 0.899 f1: 0.683), validation loss = 0.098 (auc: 0.905 f1: 0.623)\n"
     ]
    },
    {
     "name": "stderr",
     "output_type": "stream",
     "text": [
      "100%|███████████████████████████████████████████| 16/16 [00:00<00:00, 93.39it/s]\n",
      " 87%|█████████████████████████████████████▎     | 26/30 [00:10<00:01,  2.41it/s]"
     ]
    },
    {
     "name": "stdout",
     "output_type": "stream",
     "text": [
      "Epoch 25:  (best: False)train loss = 0.095 (auc: 0.901 f1: 0.689), validation loss = 0.098 (auc: 0.906 f1: 0.621)\n"
     ]
    },
    {
     "name": "stderr",
     "output_type": "stream",
     "text": [
      "100%|██████████████████████████████████████████| 16/16 [00:00<00:00, 108.08it/s]\n",
      " 90%|██████████████████████████████████████▋    | 27/30 [00:11<00:01,  2.45it/s]"
     ]
    },
    {
     "name": "stdout",
     "output_type": "stream",
     "text": [
      "Epoch 26:  (best: False)train loss = 0.095 (auc: 0.900 f1: 0.687), validation loss = 0.098 (auc: 0.903 f1: 0.619)\n"
     ]
    },
    {
     "name": "stderr",
     "output_type": "stream",
     "text": [
      "100%|███████████████████████████████████████████| 16/16 [00:00<00:00, 95.19it/s]\n",
      " 93%|████████████████████████████████████████▏  | 28/30 [00:11<00:00,  2.35it/s]"
     ]
    },
    {
     "name": "stdout",
     "output_type": "stream",
     "text": [
      "Epoch 27:  (best: False)train loss = 0.095 (auc: 0.898 f1: 0.690), validation loss = 0.098 (auc: 0.903 f1: 0.617)\n"
     ]
    },
    {
     "name": "stderr",
     "output_type": "stream",
     "text": [
      "100%|██████████████████████████████████████████| 16/16 [00:00<00:00, 136.78it/s]\n",
      " 97%|█████████████████████████████████████████▌ | 29/30 [00:11<00:00,  2.49it/s]"
     ]
    },
    {
     "name": "stdout",
     "output_type": "stream",
     "text": [
      "Epoch 28:  (best: False)train loss = 0.095 (auc: 0.898 f1: 0.687), validation loss = 0.098 (auc: 0.903 f1: 0.617)\n"
     ]
    },
    {
     "name": "stderr",
     "output_type": "stream",
     "text": [
      "100%|██████████████████████████████████████████| 16/16 [00:00<00:00, 124.39it/s]\n",
      "100%|███████████████████████████████████████████| 30/30 [00:12<00:00,  2.43it/s]\n"
     ]
    },
    {
     "name": "stdout",
     "output_type": "stream",
     "text": [
      "Epoch 29:  (best: False)train loss = 0.095 (auc: 0.899 f1: 0.687), validation loss = 0.098 (auc: 0.903 f1: 0.617)\n"
     ]
    },
    {
     "name": "stderr",
     "output_type": "stream",
     "text": [
      "100%|██████████████████████████████████████████| 16/16 [00:00<00:00, 118.07it/s]\n",
      "  3%|█▍                                          | 1/30 [00:00<00:10,  2.83it/s]"
     ]
    },
    {
     "name": "stdout",
     "output_type": "stream",
     "text": [
      "Epoch 0:  (best: True)train loss = 0.113 (auc: 0.861 f1: 0.238), validation loss = 0.113 (auc: 0.872 f1: 0.250)\n"
     ]
    },
    {
     "name": "stderr",
     "output_type": "stream",
     "text": [
      "100%|██████████████████████████████████████████| 16/16 [00:00<00:00, 131.38it/s]\n",
      "  7%|██▉                                         | 2/30 [00:00<00:09,  2.86it/s]"
     ]
    },
    {
     "name": "stdout",
     "output_type": "stream",
     "text": [
      "Epoch 1:  (best: True)train loss = 0.104 (auc: 0.867 f1: 0.441), validation loss = 0.105 (auc: 0.881 f1: 0.438)\n"
     ]
    },
    {
     "name": "stderr",
     "output_type": "stream",
     "text": [
      "100%|██████████████████████████████████████████| 16/16 [00:00<00:00, 116.06it/s]\n",
      " 10%|████▍                                       | 3/30 [00:01<00:10,  2.68it/s]"
     ]
    },
    {
     "name": "stdout",
     "output_type": "stream",
     "text": [
      "Epoch 2:  (best: True)train loss = 0.101 (auc: 0.874 f1: 0.483), validation loss = 0.102 (auc: 0.888 f1: 0.467)\n"
     ]
    },
    {
     "name": "stderr",
     "output_type": "stream",
     "text": [
      "100%|██████████████████████████████████████████| 16/16 [00:00<00:00, 105.78it/s]\n",
      " 13%|█████▊                                      | 4/30 [00:01<00:09,  2.67it/s]"
     ]
    },
    {
     "name": "stdout",
     "output_type": "stream",
     "text": [
      "Epoch 3:  (best: True)train loss = 0.100 (auc: 0.880 f1: 0.526), validation loss = 0.100 (auc: 0.896 f1: 0.504)\n"
     ]
    },
    {
     "name": "stderr",
     "output_type": "stream",
     "text": [
      "100%|██████████████████████████████████████████| 16/16 [00:00<00:00, 122.66it/s]\n",
      " 17%|███████▎                                    | 5/30 [00:01<00:09,  2.69it/s]"
     ]
    },
    {
     "name": "stdout",
     "output_type": "stream",
     "text": [
      "Epoch 4:  (best: True)train loss = 0.099 (auc: 0.879 f1: 0.559), validation loss = 0.099 (auc: 0.891 f1: 0.541)\n"
     ]
    },
    {
     "name": "stderr",
     "output_type": "stream",
     "text": [
      "100%|██████████████████████████████████████████| 16/16 [00:00<00:00, 103.03it/s]\n",
      " 20%|████████▊                                   | 6/30 [00:02<00:08,  2.70it/s]"
     ]
    },
    {
     "name": "stdout",
     "output_type": "stream",
     "text": [
      "Epoch 5:  (best: False)train loss = 0.099 (auc: 0.881 f1: 0.560), validation loss = 0.099 (auc: 0.897 f1: 0.535)\n"
     ]
    },
    {
     "name": "stderr",
     "output_type": "stream",
     "text": [
      "100%|██████████████████████████████████████████| 16/16 [00:00<00:00, 122.02it/s]\n",
      " 23%|██████████▎                                 | 7/30 [00:02<00:08,  2.74it/s]"
     ]
    },
    {
     "name": "stdout",
     "output_type": "stream",
     "text": [
      "Epoch 6:  (best: True)train loss = 0.098 (auc: 0.884 f1: 0.567), validation loss = 0.099 (auc: 0.900 f1: 0.543)\n"
     ]
    },
    {
     "name": "stderr",
     "output_type": "stream",
     "text": [
      "100%|██████████████████████████████████████████| 16/16 [00:00<00:00, 114.11it/s]\n",
      " 27%|███████████▋                                | 8/30 [00:02<00:08,  2.73it/s]"
     ]
    },
    {
     "name": "stdout",
     "output_type": "stream",
     "text": [
      "Epoch 7:  (best: True)train loss = 0.098 (auc: 0.887 f1: 0.614), validation loss = 0.098 (auc: 0.903 f1: 0.590)\n"
     ]
    },
    {
     "name": "stderr",
     "output_type": "stream",
     "text": [
      "100%|██████████████████████████████████████████| 16/16 [00:00<00:00, 109.07it/s]\n",
      " 30%|█████████████▏                              | 9/30 [00:03<00:07,  2.66it/s]"
     ]
    },
    {
     "name": "stdout",
     "output_type": "stream",
     "text": [
      "Epoch 8:  (best: False)train loss = 0.097 (auc: 0.885 f1: 0.621), validation loss = 0.098 (auc: 0.896 f1: 0.587)\n"
     ]
    },
    {
     "name": "stderr",
     "output_type": "stream",
     "text": [
      "100%|██████████████████████████████████████████| 16/16 [00:00<00:00, 100.02it/s]\n",
      " 33%|██████████████▎                            | 10/30 [00:03<00:07,  2.65it/s]"
     ]
    },
    {
     "name": "stdout",
     "output_type": "stream",
     "text": [
      "Epoch 9:  (best: False)train loss = 0.097 (auc: 0.887 f1: 0.612), validation loss = 0.098 (auc: 0.899 f1: 0.587)\n"
     ]
    },
    {
     "name": "stderr",
     "output_type": "stream",
     "text": [
      "100%|██████████████████████████████████████████| 16/16 [00:00<00:00, 125.56it/s]\n",
      " 37%|███████████████▊                           | 11/30 [00:04<00:07,  2.68it/s]"
     ]
    },
    {
     "name": "stdout",
     "output_type": "stream",
     "text": [
      "Epoch 10:  (best: False)train loss = 0.097 (auc: 0.891 f1: 0.611), validation loss = 0.098 (auc: 0.903 f1: 0.575)\n"
     ]
    },
    {
     "name": "stderr",
     "output_type": "stream",
     "text": [
      "100%|██████████████████████████████████████████| 16/16 [00:00<00:00, 118.70it/s]\n",
      " 40%|█████████████████▏                         | 12/30 [00:04<00:06,  2.61it/s]"
     ]
    },
    {
     "name": "stdout",
     "output_type": "stream",
     "text": [
      "Epoch 11:  (best: True)train loss = 0.096 (auc: 0.893 f1: 0.654), validation loss = 0.098 (auc: 0.902 f1: 0.602)\n"
     ]
    },
    {
     "name": "stderr",
     "output_type": "stream",
     "text": [
      "100%|██████████████████████████████████████████| 16/16 [00:00<00:00, 106.57it/s]\n",
      " 43%|██████████████████▋                        | 13/30 [00:04<00:06,  2.54it/s]"
     ]
    },
    {
     "name": "stdout",
     "output_type": "stream",
     "text": [
      "Epoch 12:  (best: True)train loss = 0.096 (auc: 0.892 f1: 0.653), validation loss = 0.098 (auc: 0.904 f1: 0.609)\n"
     ]
    },
    {
     "name": "stderr",
     "output_type": "stream",
     "text": [
      "100%|██████████████████████████████████████████| 16/16 [00:00<00:00, 114.50it/s]\n",
      " 47%|████████████████████                       | 14/30 [00:05<00:06,  2.54it/s]"
     ]
    },
    {
     "name": "stdout",
     "output_type": "stream",
     "text": [
      "Epoch 13:  (best: True)train loss = 0.096 (auc: 0.892 f1: 0.654), validation loss = 0.098 (auc: 0.903 f1: 0.609)\n"
     ]
    },
    {
     "name": "stderr",
     "output_type": "stream",
     "text": [
      "100%|██████████████████████████████████████████| 16/16 [00:00<00:00, 121.69it/s]\n",
      " 50%|█████████████████████▌                     | 15/30 [00:05<00:05,  2.59it/s]"
     ]
    },
    {
     "name": "stdout",
     "output_type": "stream",
     "text": [
      "Epoch 14:  (best: True)train loss = 0.096 (auc: 0.890 f1: 0.653), validation loss = 0.098 (auc: 0.900 f1: 0.614)\n"
     ]
    },
    {
     "name": "stderr",
     "output_type": "stream",
     "text": [
      "100%|███████████████████████████████████████████| 16/16 [00:00<00:00, 94.73it/s]\n",
      " 53%|██████████████████████▉                    | 16/30 [00:06<00:05,  2.47it/s]"
     ]
    },
    {
     "name": "stdout",
     "output_type": "stream",
     "text": [
      "Epoch 15:  (best: False)train loss = 0.096 (auc: 0.891 f1: 0.648), validation loss = 0.098 (auc: 0.902 f1: 0.610)\n"
     ]
    },
    {
     "name": "stderr",
     "output_type": "stream",
     "text": [
      "100%|██████████████████████████████████████████| 16/16 [00:00<00:00, 133.13it/s]\n",
      " 57%|████████████████████████▎                  | 17/30 [00:06<00:05,  2.57it/s]"
     ]
    },
    {
     "name": "stdout",
     "output_type": "stream",
     "text": [
      "Epoch 16:  (best: False)train loss = 0.096 (auc: 0.892 f1: 0.658), validation loss = 0.098 (auc: 0.901 f1: 0.613)\n"
     ]
    },
    {
     "name": "stderr",
     "output_type": "stream",
     "text": [
      "100%|███████████████████████████████████████████| 16/16 [00:00<00:00, 90.36it/s]\n",
      " 60%|█████████████████████████▊                 | 18/30 [00:06<00:04,  2.52it/s]"
     ]
    },
    {
     "name": "stdout",
     "output_type": "stream",
     "text": [
      "Epoch 17:  (best: False)train loss = 0.096 (auc: 0.890 f1: 0.652), validation loss = 0.098 (auc: 0.902 f1: 0.606)\n"
     ]
    },
    {
     "name": "stderr",
     "output_type": "stream",
     "text": [
      "100%|██████████████████████████████████████████| 16/16 [00:00<00:00, 126.63it/s]\n",
      " 63%|███████████████████████████▏               | 19/30 [00:07<00:04,  2.62it/s]"
     ]
    },
    {
     "name": "stdout",
     "output_type": "stream",
     "text": [
      "Epoch 18:  (best: False)train loss = 0.096 (auc: 0.888 f1: 0.659), validation loss = 0.098 (auc: 0.899 f1: 0.607)\n"
     ]
    },
    {
     "name": "stderr",
     "output_type": "stream",
     "text": [
      "100%|██████████████████████████████████████████| 16/16 [00:00<00:00, 102.59it/s]\n",
      " 67%|████████████████████████████▋              | 20/30 [00:07<00:03,  2.56it/s]"
     ]
    },
    {
     "name": "stdout",
     "output_type": "stream",
     "text": [
      "Epoch 19:  (best: False)train loss = 0.096 (auc: 0.889 f1: 0.655), validation loss = 0.098 (auc: 0.898 f1: 0.609)\n"
     ]
    },
    {
     "name": "stderr",
     "output_type": "stream",
     "text": [
      "100%|██████████████████████████████████████████| 16/16 [00:00<00:00, 118.35it/s]\n",
      " 70%|██████████████████████████████             | 21/30 [00:08<00:03,  2.60it/s]"
     ]
    },
    {
     "name": "stdout",
     "output_type": "stream",
     "text": [
      "Epoch 20:  (best: False)train loss = 0.096 (auc: 0.888 f1: 0.652), validation loss = 0.098 (auc: 0.897 f1: 0.606)\n"
     ]
    },
    {
     "name": "stderr",
     "output_type": "stream",
     "text": [
      "100%|██████████████████████████████████████████| 16/16 [00:00<00:00, 117.73it/s]\n",
      " 73%|███████████████████████████████▌           | 22/30 [00:08<00:03,  2.58it/s]"
     ]
    },
    {
     "name": "stdout",
     "output_type": "stream",
     "text": [
      "Epoch 21:  (best: False)train loss = 0.096 (auc: 0.891 f1: 0.654), validation loss = 0.098 (auc: 0.899 f1: 0.612)\n"
     ]
    },
    {
     "name": "stderr",
     "output_type": "stream",
     "text": [
      "100%|██████████████████████████████████████████| 16/16 [00:00<00:00, 110.87it/s]\n",
      " 77%|████████████████████████████████▉          | 23/30 [00:08<00:02,  2.60it/s]"
     ]
    },
    {
     "name": "stdout",
     "output_type": "stream",
     "text": [
      "Epoch 22:  (best: False)train loss = 0.096 (auc: 0.888 f1: 0.657), validation loss = 0.098 (auc: 0.899 f1: 0.605)\n"
     ]
    },
    {
     "name": "stderr",
     "output_type": "stream",
     "text": [
      "100%|██████████████████████████████████████████| 16/16 [00:00<00:00, 114.17it/s]\n",
      " 80%|██████████████████████████████████▍        | 24/30 [00:09<00:02,  2.60it/s]"
     ]
    },
    {
     "name": "stdout",
     "output_type": "stream",
     "text": [
      "Epoch 23:  (best: False)train loss = 0.096 (auc: 0.888 f1: 0.655), validation loss = 0.098 (auc: 0.897 f1: 0.603)\n"
     ]
    },
    {
     "name": "stderr",
     "output_type": "stream",
     "text": [
      "100%|██████████████████████████████████████████| 16/16 [00:00<00:00, 121.97it/s]\n",
      " 83%|███████████████████████████████████▊       | 25/30 [00:09<00:01,  2.68it/s]"
     ]
    },
    {
     "name": "stdout",
     "output_type": "stream",
     "text": [
      "Epoch 24:  (best: False)train loss = 0.095 (auc: 0.889 f1: 0.655), validation loss = 0.098 (auc: 0.898 f1: 0.603)\n"
     ]
    },
    {
     "name": "stderr",
     "output_type": "stream",
     "text": [
      "100%|██████████████████████████████████████████| 16/16 [00:00<00:00, 103.35it/s]\n",
      " 87%|█████████████████████████████████████▎     | 26/30 [00:09<00:01,  2.66it/s]"
     ]
    },
    {
     "name": "stdout",
     "output_type": "stream",
     "text": [
      "Epoch 25:  (best: False)train loss = 0.096 (auc: 0.888 f1: 0.657), validation loss = 0.098 (auc: 0.898 f1: 0.602)\n"
     ]
    },
    {
     "name": "stderr",
     "output_type": "stream",
     "text": [
      "100%|██████████████████████████████████████████| 16/16 [00:00<00:00, 109.15it/s]\n",
      " 90%|██████████████████████████████████████▋    | 27/30 [00:10<00:01,  2.68it/s]"
     ]
    },
    {
     "name": "stdout",
     "output_type": "stream",
     "text": [
      "Epoch 26:  (best: False)train loss = 0.096 (auc: 0.888 f1: 0.653), validation loss = 0.098 (auc: 0.897 f1: 0.599)\n"
     ]
    },
    {
     "name": "stderr",
     "output_type": "stream",
     "text": [
      "100%|███████████████████████████████████████████| 16/16 [00:00<00:00, 87.18it/s]\n",
      " 93%|████████████████████████████████████████▏  | 28/30 [00:10<00:00,  2.61it/s]"
     ]
    },
    {
     "name": "stdout",
     "output_type": "stream",
     "text": [
      "Epoch 27:  (best: False)train loss = 0.096 (auc: 0.887 f1: 0.660), validation loss = 0.098 (auc: 0.897 f1: 0.611)\n"
     ]
    },
    {
     "name": "stderr",
     "output_type": "stream",
     "text": [
      "100%|██████████████████████████████████████████| 16/16 [00:00<00:00, 101.16it/s]\n",
      " 97%|█████████████████████████████████████████▌ | 29/30 [00:11<00:00,  2.58it/s]"
     ]
    },
    {
     "name": "stdout",
     "output_type": "stream",
     "text": [
      "Epoch 28:  (best: False)train loss = 0.096 (auc: 0.888 f1: 0.655), validation loss = 0.098 (auc: 0.897 f1: 0.604)\n"
     ]
    },
    {
     "name": "stderr",
     "output_type": "stream",
     "text": [
      "100%|███████████████████████████████████████████| 16/16 [00:00<00:00, 96.81it/s]\n",
      "100%|███████████████████████████████████████████| 30/30 [00:11<00:00,  2.61it/s]\n"
     ]
    },
    {
     "name": "stdout",
     "output_type": "stream",
     "text": [
      "Epoch 29:  (best: False)train loss = 0.096 (auc: 0.888 f1: 0.657), validation loss = 0.098 (auc: 0.897 f1: 0.603)\n"
     ]
    },
    {
     "name": "stderr",
     "output_type": "stream",
     "text": [
      "100%|██████████████████████████████████████████| 16/16 [00:00<00:00, 121.40it/s]\n",
      "  3%|█▍                                          | 1/30 [00:00<00:10,  2.78it/s]"
     ]
    },
    {
     "name": "stdout",
     "output_type": "stream",
     "text": [
      "Epoch 0:  (best: True)train loss = 0.113 (auc: 0.888 f1: 0.078), validation loss = 0.113 (auc: 0.891 f1: 0.091)\n"
     ]
    },
    {
     "name": "stderr",
     "output_type": "stream",
     "text": [
      "100%|██████████████████████████████████████████| 16/16 [00:00<00:00, 110.74it/s]\n",
      "  7%|██▉                                         | 2/30 [00:00<00:10,  2.79it/s]"
     ]
    },
    {
     "name": "stdout",
     "output_type": "stream",
     "text": [
      "Epoch 1:  (best: True)train loss = 0.106 (auc: 0.864 f1: 0.380), validation loss = 0.106 (auc: 0.876 f1: 0.344)\n"
     ]
    },
    {
     "name": "stderr",
     "output_type": "stream",
     "text": [
      "100%|██████████████████████████████████████████| 16/16 [00:00<00:00, 100.68it/s]\n",
      " 10%|████▍                                       | 3/30 [00:01<00:09,  2.74it/s]"
     ]
    },
    {
     "name": "stdout",
     "output_type": "stream",
     "text": [
      "Epoch 2:  (best: True)train loss = 0.101 (auc: 0.888 f1: 0.512), validation loss = 0.101 (auc: 0.905 f1: 0.504)\n"
     ]
    },
    {
     "name": "stderr",
     "output_type": "stream",
     "text": [
      "100%|███████████████████████████████████████████| 16/16 [00:00<00:00, 87.78it/s]\n",
      " 13%|█████▊                                      | 4/30 [00:01<00:09,  2.63it/s]"
     ]
    },
    {
     "name": "stdout",
     "output_type": "stream",
     "text": [
      "Epoch 3:  (best: True)train loss = 0.099 (auc: 0.895 f1: 0.557), validation loss = 0.099 (auc: 0.909 f1: 0.545)\n"
     ]
    },
    {
     "name": "stderr",
     "output_type": "stream",
     "text": [
      "100%|███████████████████████████████████████████| 16/16 [00:00<00:00, 90.12it/s]\n",
      " 17%|███████▎                                    | 5/30 [00:01<00:09,  2.58it/s]"
     ]
    },
    {
     "name": "stdout",
     "output_type": "stream",
     "text": [
      "Epoch 4:  (best: False)train loss = 0.098 (auc: 0.892 f1: 0.572), validation loss = 0.099 (auc: 0.906 f1: 0.540)\n"
     ]
    },
    {
     "name": "stderr",
     "output_type": "stream",
     "text": [
      "100%|███████████████████████████████████████████| 16/16 [00:00<00:00, 94.64it/s]\n",
      " 20%|████████▊                                   | 6/30 [00:02<00:09,  2.58it/s]"
     ]
    },
    {
     "name": "stdout",
     "output_type": "stream",
     "text": [
      "Epoch 5:  (best: True)train loss = 0.098 (auc: 0.894 f1: 0.598), validation loss = 0.099 (auc: 0.910 f1: 0.562)\n"
     ]
    },
    {
     "name": "stderr",
     "output_type": "stream",
     "text": [
      "100%|██████████████████████████████████████████| 16/16 [00:00<00:00, 114.82it/s]\n",
      " 23%|██████████▎                                 | 7/30 [00:02<00:08,  2.63it/s]"
     ]
    },
    {
     "name": "stdout",
     "output_type": "stream",
     "text": [
      "Epoch 6:  (best: True)train loss = 0.097 (auc: 0.901 f1: 0.647), validation loss = 0.098 (auc: 0.914 f1: 0.607)\n"
     ]
    },
    {
     "name": "stderr",
     "output_type": "stream",
     "text": [
      "100%|██████████████████████████████████████████| 16/16 [00:00<00:00, 112.88it/s]\n",
      " 27%|███████████▋                                | 8/30 [00:02<00:08,  2.69it/s]"
     ]
    },
    {
     "name": "stdout",
     "output_type": "stream",
     "text": [
      "Epoch 7:  (best: False)train loss = 0.096 (auc: 0.900 f1: 0.641), validation loss = 0.098 (auc: 0.914 f1: 0.603)\n"
     ]
    },
    {
     "name": "stderr",
     "output_type": "stream",
     "text": [
      "100%|███████████████████████████████████████████| 16/16 [00:00<00:00, 99.50it/s]\n",
      " 30%|█████████████▏                              | 9/30 [00:03<00:07,  2.64it/s]"
     ]
    },
    {
     "name": "stdout",
     "output_type": "stream",
     "text": [
      "Epoch 8:  (best: False)train loss = 0.096 (auc: 0.903 f1: 0.650), validation loss = 0.098 (auc: 0.915 f1: 0.600)\n"
     ]
    },
    {
     "name": "stderr",
     "output_type": "stream",
     "text": [
      "100%|███████████████████████████████████████████| 16/16 [00:00<00:00, 87.25it/s]\n",
      " 33%|██████████████▎                            | 10/30 [00:03<00:07,  2.53it/s]"
     ]
    },
    {
     "name": "stdout",
     "output_type": "stream",
     "text": [
      "Epoch 9:  (best: False)train loss = 0.096 (auc: 0.900 f1: 0.649), validation loss = 0.098 (auc: 0.913 f1: 0.599)\n"
     ]
    },
    {
     "name": "stderr",
     "output_type": "stream",
     "text": [
      "100%|██████████████████████████████████████████| 16/16 [00:00<00:00, 111.63it/s]\n",
      " 37%|███████████████▊                           | 11/30 [00:04<00:07,  2.58it/s]"
     ]
    },
    {
     "name": "stdout",
     "output_type": "stream",
     "text": [
      "Epoch 10:  (best: False)train loss = 0.096 (auc: 0.903 f1: 0.649), validation loss = 0.098 (auc: 0.916 f1: 0.603)\n"
     ]
    },
    {
     "name": "stderr",
     "output_type": "stream",
     "text": [
      "100%|██████████████████████████████████████████| 16/16 [00:00<00:00, 108.68it/s]\n",
      " 40%|█████████████████▏                         | 12/30 [00:04<00:06,  2.60it/s]"
     ]
    },
    {
     "name": "stdout",
     "output_type": "stream",
     "text": [
      "Epoch 11:  (best: False)train loss = 0.096 (auc: 0.903 f1: 0.652), validation loss = 0.098 (auc: 0.912 f1: 0.605)\n"
     ]
    },
    {
     "name": "stderr",
     "output_type": "stream",
     "text": [
      "100%|██████████████████████████████████████████| 16/16 [00:00<00:00, 129.74it/s]\n",
      " 43%|██████████████████▋                        | 13/30 [00:04<00:06,  2.68it/s]"
     ]
    },
    {
     "name": "stdout",
     "output_type": "stream",
     "text": [
      "Epoch 12:  (best: True)train loss = 0.096 (auc: 0.905 f1: 0.652), validation loss = 0.098 (auc: 0.917 f1: 0.608)\n"
     ]
    },
    {
     "name": "stderr",
     "output_type": "stream",
     "text": [
      "100%|██████████████████████████████████████████| 16/16 [00:00<00:00, 130.92it/s]\n",
      " 47%|████████████████████                       | 14/30 [00:05<00:05,  2.80it/s]"
     ]
    },
    {
     "name": "stdout",
     "output_type": "stream",
     "text": [
      "Epoch 13:  (best: False)train loss = 0.096 (auc: 0.905 f1: 0.655), validation loss = 0.098 (auc: 0.917 f1: 0.603)\n"
     ]
    },
    {
     "name": "stderr",
     "output_type": "stream",
     "text": [
      "100%|██████████████████████████████████████████| 16/16 [00:00<00:00, 107.70it/s]\n",
      " 50%|█████████████████████▌                     | 15/30 [00:05<00:05,  2.73it/s]"
     ]
    },
    {
     "name": "stdout",
     "output_type": "stream",
     "text": [
      "Epoch 14:  (best: False)train loss = 0.096 (auc: 0.905 f1: 0.655), validation loss = 0.098 (auc: 0.915 f1: 0.606)\n"
     ]
    },
    {
     "name": "stderr",
     "output_type": "stream",
     "text": [
      "100%|██████████████████████████████████████████| 16/16 [00:00<00:00, 129.47it/s]\n",
      " 53%|██████████████████████▉                    | 16/30 [00:06<00:05,  2.69it/s]"
     ]
    },
    {
     "name": "stdout",
     "output_type": "stream",
     "text": [
      "Epoch 15:  (best: False)train loss = 0.095 (auc: 0.906 f1: 0.658), validation loss = 0.098 (auc: 0.917 f1: 0.595)\n"
     ]
    },
    {
     "name": "stderr",
     "output_type": "stream",
     "text": [
      "100%|██████████████████████████████████████████| 16/16 [00:00<00:00, 119.84it/s]\n",
      " 57%|████████████████████████▎                  | 17/30 [00:06<00:04,  2.72it/s]"
     ]
    },
    {
     "name": "stdout",
     "output_type": "stream",
     "text": [
      "Epoch 16:  (best: True)train loss = 0.095 (auc: 0.909 f1: 0.691), validation loss = 0.098 (auc: 0.921 f1: 0.615)\n"
     ]
    },
    {
     "name": "stderr",
     "output_type": "stream",
     "text": [
      "100%|██████████████████████████████████████████| 16/16 [00:00<00:00, 112.89it/s]\n",
      " 60%|█████████████████████████▊                 | 18/30 [00:06<00:04,  2.71it/s]"
     ]
    },
    {
     "name": "stdout",
     "output_type": "stream",
     "text": [
      "Epoch 17:  (best: False)train loss = 0.095 (auc: 0.908 f1: 0.693), validation loss = 0.098 (auc: 0.922 f1: 0.613)\n"
     ]
    },
    {
     "name": "stderr",
     "output_type": "stream",
     "text": [
      "100%|██████████████████████████████████████████| 16/16 [00:00<00:00, 108.59it/s]\n",
      " 63%|███████████████████████████▏               | 19/30 [00:07<00:04,  2.66it/s]"
     ]
    },
    {
     "name": "stdout",
     "output_type": "stream",
     "text": [
      "Epoch 18:  (best: False)train loss = 0.095 (auc: 0.911 f1: 0.704), validation loss = 0.098 (auc: 0.921 f1: 0.614)\n"
     ]
    },
    {
     "name": "stderr",
     "output_type": "stream",
     "text": [
      "100%|██████████████████████████████████████████| 16/16 [00:00<00:00, 108.24it/s]\n",
      " 67%|████████████████████████████▋              | 20/30 [00:07<00:03,  2.69it/s]"
     ]
    },
    {
     "name": "stdout",
     "output_type": "stream",
     "text": [
      "Epoch 19:  (best: False)train loss = 0.094 (auc: 0.913 f1: 0.709), validation loss = 0.098 (auc: 0.924 f1: 0.606)\n"
     ]
    },
    {
     "name": "stderr",
     "output_type": "stream",
     "text": [
      "100%|██████████████████████████████████████████| 16/16 [00:00<00:00, 127.63it/s]\n",
      " 70%|██████████████████████████████             | 21/30 [00:07<00:03,  2.74it/s]"
     ]
    },
    {
     "name": "stdout",
     "output_type": "stream",
     "text": [
      "Epoch 20:  (best: False)train loss = 0.095 (auc: 0.913 f1: 0.707), validation loss = 0.098 (auc: 0.923 f1: 0.607)\n"
     ]
    },
    {
     "name": "stderr",
     "output_type": "stream",
     "text": [
      "100%|██████████████████████████████████████████| 16/16 [00:00<00:00, 112.27it/s]\n",
      " 73%|███████████████████████████████▌           | 22/30 [00:08<00:02,  2.73it/s]"
     ]
    },
    {
     "name": "stdout",
     "output_type": "stream",
     "text": [
      "Epoch 21:  (best: False)train loss = 0.095 (auc: 0.910 f1: 0.700), validation loss = 0.098 (auc: 0.919 f1: 0.613)\n"
     ]
    },
    {
     "name": "stderr",
     "output_type": "stream",
     "text": [
      "100%|██████████████████████████████████████████| 16/16 [00:00<00:00, 127.11it/s]\n",
      " 77%|████████████████████████████████▉          | 23/30 [00:08<00:02,  2.75it/s]"
     ]
    },
    {
     "name": "stdout",
     "output_type": "stream",
     "text": [
      "Epoch 22:  (best: True)train loss = 0.095 (auc: 0.911 f1: 0.715), validation loss = 0.098 (auc: 0.921 f1: 0.621)\n"
     ]
    },
    {
     "name": "stderr",
     "output_type": "stream",
     "text": [
      "100%|██████████████████████████████████████████| 16/16 [00:00<00:00, 129.56it/s]\n",
      " 80%|██████████████████████████████████▍        | 24/30 [00:08<00:02,  2.80it/s]"
     ]
    },
    {
     "name": "stdout",
     "output_type": "stream",
     "text": [
      "Epoch 23:  (best: False)train loss = 0.095 (auc: 0.912 f1: 0.719), validation loss = 0.098 (auc: 0.920 f1: 0.620)\n"
     ]
    },
    {
     "name": "stderr",
     "output_type": "stream",
     "text": [
      "100%|██████████████████████████████████████████| 16/16 [00:00<00:00, 112.92it/s]\n",
      " 83%|███████████████████████████████████▊       | 25/30 [00:09<00:01,  2.77it/s]"
     ]
    },
    {
     "name": "stdout",
     "output_type": "stream",
     "text": [
      "Epoch 24:  (best: True)train loss = 0.094 (auc: 0.911 f1: 0.716), validation loss = 0.098 (auc: 0.920 f1: 0.623)\n"
     ]
    },
    {
     "name": "stderr",
     "output_type": "stream",
     "text": [
      "100%|███████████████████████████████████████████| 16/16 [00:00<00:00, 99.93it/s]\n",
      " 87%|█████████████████████████████████████▎     | 26/30 [00:09<00:01,  2.75it/s]"
     ]
    },
    {
     "name": "stdout",
     "output_type": "stream",
     "text": [
      "Epoch 25:  (best: True)train loss = 0.094 (auc: 0.911 f1: 0.716), validation loss = 0.098 (auc: 0.916 f1: 0.623)\n"
     ]
    },
    {
     "name": "stderr",
     "output_type": "stream",
     "text": [
      "100%|██████████████████████████████████████████| 16/16 [00:00<00:00, 128.76it/s]\n",
      " 90%|██████████████████████████████████████▋    | 27/30 [00:10<00:01,  2.78it/s]"
     ]
    },
    {
     "name": "stdout",
     "output_type": "stream",
     "text": [
      "Epoch 26:  (best: False)train loss = 0.095 (auc: 0.910 f1: 0.718), validation loss = 0.098 (auc: 0.917 f1: 0.620)\n"
     ]
    },
    {
     "name": "stderr",
     "output_type": "stream",
     "text": [
      "100%|██████████████████████████████████████████| 16/16 [00:00<00:00, 117.92it/s]\n",
      " 93%|████████████████████████████████████████▏  | 28/30 [00:10<00:00,  2.58it/s]"
     ]
    },
    {
     "name": "stdout",
     "output_type": "stream",
     "text": [
      "Epoch 27:  (best: False)train loss = 0.094 (auc: 0.912 f1: 0.716), validation loss = 0.098 (auc: 0.918 f1: 0.620)\n"
     ]
    },
    {
     "name": "stderr",
     "output_type": "stream",
     "text": [
      "100%|██████████████████████████████████████████| 16/16 [00:00<00:00, 114.00it/s]\n",
      " 97%|█████████████████████████████████████████▌ | 29/30 [00:10<00:00,  2.61it/s]"
     ]
    },
    {
     "name": "stdout",
     "output_type": "stream",
     "text": [
      "Epoch 28:  (best: False)train loss = 0.094 (auc: 0.912 f1: 0.717), validation loss = 0.098 (auc: 0.918 f1: 0.613)\n"
     ]
    },
    {
     "name": "stderr",
     "output_type": "stream",
     "text": [
      "100%|██████████████████████████████████████████| 16/16 [00:00<00:00, 125.48it/s]\n",
      "100%|███████████████████████████████████████████| 30/30 [00:11<00:00,  2.68it/s]\n"
     ]
    },
    {
     "name": "stdout",
     "output_type": "stream",
     "text": [
      "Epoch 29:  (best: False)train loss = 0.094 (auc: 0.911 f1: 0.720), validation loss = 0.098 (auc: 0.918 f1: 0.615)\n"
     ]
    },
    {
     "name": "stderr",
     "output_type": "stream",
     "text": [
      "100%|███████████████████████████████████████████| 16/16 [00:00<00:00, 90.79it/s]\n",
      "  3%|█▍                                          | 1/30 [00:00<00:12,  2.38it/s]"
     ]
    },
    {
     "name": "stdout",
     "output_type": "stream",
     "text": [
      "Epoch 0:  (best: True)train loss = 0.112 (auc: 0.897 f1: 0.284), validation loss = 0.113 (auc: 0.907 f1: 0.259)\n"
     ]
    },
    {
     "name": "stderr",
     "output_type": "stream",
     "text": [
      "100%|██████████████████████████████████████████| 16/16 [00:00<00:00, 112.42it/s]\n",
      "  7%|██▉                                         | 2/30 [00:00<00:11,  2.50it/s]"
     ]
    },
    {
     "name": "stdout",
     "output_type": "stream",
     "text": [
      "Epoch 1:  (best: True)train loss = 0.105 (auc: 0.860 f1: 0.373), validation loss = 0.106 (auc: 0.876 f1: 0.355)\n"
     ]
    },
    {
     "name": "stderr",
     "output_type": "stream",
     "text": [
      "100%|██████████████████████████████████████████| 16/16 [00:00<00:00, 129.05it/s]\n",
      " 10%|████▍                                       | 3/30 [00:01<00:10,  2.64it/s]"
     ]
    },
    {
     "name": "stdout",
     "output_type": "stream",
     "text": [
      "Epoch 2:  (best: True)train loss = 0.101 (auc: 0.877 f1: 0.467), validation loss = 0.102 (auc: 0.892 f1: 0.450)\n"
     ]
    },
    {
     "name": "stderr",
     "output_type": "stream",
     "text": [
      "100%|██████████████████████████████████████████| 16/16 [00:00<00:00, 109.25it/s]\n",
      " 13%|█████▊                                      | 4/30 [00:01<00:10,  2.53it/s]"
     ]
    },
    {
     "name": "stdout",
     "output_type": "stream",
     "text": [
      "Epoch 3:  (best: True)train loss = 0.101 (auc: 0.879 f1: 0.473), validation loss = 0.101 (auc: 0.890 f1: 0.454)\n"
     ]
    },
    {
     "name": "stderr",
     "output_type": "stream",
     "text": [
      "100%|██████████████████████████████████████████| 16/16 [00:00<00:00, 105.43it/s]\n",
      " 17%|███████▎                                    | 5/30 [00:01<00:09,  2.56it/s]"
     ]
    },
    {
     "name": "stdout",
     "output_type": "stream",
     "text": [
      "Epoch 4:  (best: True)train loss = 0.100 (auc: 0.882 f1: 0.476), validation loss = 0.101 (auc: 0.895 f1: 0.460)\n"
     ]
    },
    {
     "name": "stderr",
     "output_type": "stream",
     "text": [
      "100%|██████████████████████████████████████████| 16/16 [00:00<00:00, 122.90it/s]\n",
      " 20%|████████▊                                   | 6/30 [00:02<00:09,  2.65it/s]"
     ]
    },
    {
     "name": "stdout",
     "output_type": "stream",
     "text": [
      "Epoch 5:  (best: True)train loss = 0.099 (auc: 0.890 f1: 0.553), validation loss = 0.100 (auc: 0.898 f1: 0.531)\n"
     ]
    },
    {
     "name": "stderr",
     "output_type": "stream",
     "text": [
      "100%|██████████████████████████████████████████| 16/16 [00:00<00:00, 133.70it/s]\n",
      " 23%|██████████▎                                 | 7/30 [00:02<00:08,  2.74it/s]"
     ]
    },
    {
     "name": "stdout",
     "output_type": "stream",
     "text": [
      "Epoch 6:  (best: True)train loss = 0.098 (auc: 0.889 f1: 0.567), validation loss = 0.099 (auc: 0.897 f1: 0.541)\n"
     ]
    },
    {
     "name": "stderr",
     "output_type": "stream",
     "text": [
      "100%|██████████████████████████████████████████| 16/16 [00:00<00:00, 141.79it/s]\n",
      " 27%|███████████▋                                | 8/30 [00:02<00:07,  2.80it/s]"
     ]
    },
    {
     "name": "stdout",
     "output_type": "stream",
     "text": [
      "Epoch 7:  (best: True)train loss = 0.097 (auc: 0.897 f1: 0.620), validation loss = 0.099 (auc: 0.903 f1: 0.580)\n"
     ]
    },
    {
     "name": "stderr",
     "output_type": "stream",
     "text": [
      "100%|██████████████████████████████████████████| 16/16 [00:00<00:00, 114.63it/s]\n",
      " 30%|█████████████▏                              | 9/30 [00:03<00:07,  2.79it/s]"
     ]
    },
    {
     "name": "stdout",
     "output_type": "stream",
     "text": [
      "Epoch 8:  (best: False)train loss = 0.097 (auc: 0.896 f1: 0.612), validation loss = 0.099 (auc: 0.903 f1: 0.565)\n"
     ]
    },
    {
     "name": "stderr",
     "output_type": "stream",
     "text": [
      "100%|██████████████████████████████████████████| 16/16 [00:00<00:00, 123.58it/s]\n",
      " 33%|██████████████▎                            | 10/30 [00:03<00:07,  2.68it/s]"
     ]
    },
    {
     "name": "stdout",
     "output_type": "stream",
     "text": [
      "Epoch 9:  (best: False)train loss = 0.097 (auc: 0.897 f1: 0.611), validation loss = 0.099 (auc: 0.904 f1: 0.569)\n"
     ]
    },
    {
     "name": "stderr",
     "output_type": "stream",
     "text": [
      "100%|██████████████████████████████████████████| 16/16 [00:00<00:00, 121.47it/s]\n",
      " 37%|███████████████▊                           | 11/30 [00:04<00:07,  2.60it/s]"
     ]
    },
    {
     "name": "stdout",
     "output_type": "stream",
     "text": [
      "Epoch 10:  (best: False)train loss = 0.097 (auc: 0.898 f1: 0.614), validation loss = 0.099 (auc: 0.905 f1: 0.577)\n"
     ]
    },
    {
     "name": "stderr",
     "output_type": "stream",
     "text": [
      "100%|██████████████████████████████████████████| 16/16 [00:00<00:00, 122.80it/s]\n",
      " 40%|█████████████████▏                         | 12/30 [00:04<00:06,  2.67it/s]"
     ]
    },
    {
     "name": "stdout",
     "output_type": "stream",
     "text": [
      "Epoch 11:  (best: False)train loss = 0.097 (auc: 0.900 f1: 0.646), validation loss = 0.099 (auc: 0.912 f1: 0.578)\n"
     ]
    },
    {
     "name": "stderr",
     "output_type": "stream",
     "text": [
      "100%|██████████████████████████████████████████| 16/16 [00:00<00:00, 128.32it/s]\n",
      " 43%|██████████████████▋                        | 13/30 [00:04<00:06,  2.71it/s]"
     ]
    },
    {
     "name": "stdout",
     "output_type": "stream",
     "text": [
      "Epoch 12:  (best: True)train loss = 0.096 (auc: 0.901 f1: 0.646), validation loss = 0.099 (auc: 0.912 f1: 0.580)\n"
     ]
    },
    {
     "name": "stderr",
     "output_type": "stream",
     "text": [
      "100%|██████████████████████████████████████████| 16/16 [00:00<00:00, 120.86it/s]\n",
      " 47%|████████████████████                       | 14/30 [00:05<00:05,  2.73it/s]"
     ]
    },
    {
     "name": "stdout",
     "output_type": "stream",
     "text": [
      "Epoch 13:  (best: True)train loss = 0.096 (auc: 0.902 f1: 0.647), validation loss = 0.099 (auc: 0.912 f1: 0.585)\n"
     ]
    },
    {
     "name": "stderr",
     "output_type": "stream",
     "text": [
      "100%|███████████████████████████████████████████| 16/16 [00:00<00:00, 95.10it/s]\n",
      " 50%|█████████████████████▌                     | 15/30 [00:05<00:05,  2.62it/s]"
     ]
    },
    {
     "name": "stdout",
     "output_type": "stream",
     "text": [
      "Epoch 14:  (best: True)train loss = 0.096 (auc: 0.903 f1: 0.655), validation loss = 0.099 (auc: 0.912 f1: 0.586)\n"
     ]
    },
    {
     "name": "stderr",
     "output_type": "stream",
     "text": [
      "100%|██████████████████████████████████████████| 16/16 [00:00<00:00, 104.15it/s]\n",
      " 53%|██████████████████████▉                    | 16/30 [00:06<00:05,  2.62it/s]"
     ]
    },
    {
     "name": "stdout",
     "output_type": "stream",
     "text": [
      "Epoch 15:  (best: False)train loss = 0.096 (auc: 0.898 f1: 0.652), validation loss = 0.098 (auc: 0.910 f1: 0.576)\n"
     ]
    },
    {
     "name": "stderr",
     "output_type": "stream",
     "text": [
      "100%|██████████████████████████████████████████| 16/16 [00:00<00:00, 112.69it/s]\n",
      " 57%|████████████████████████▎                  | 17/30 [00:06<00:04,  2.62it/s]"
     ]
    },
    {
     "name": "stdout",
     "output_type": "stream",
     "text": [
      "Epoch 16:  (best: True)train loss = 0.096 (auc: 0.906 f1: 0.676), validation loss = 0.098 (auc: 0.913 f1: 0.597)\n"
     ]
    },
    {
     "name": "stderr",
     "output_type": "stream",
     "text": [
      "100%|██████████████████████████████████████████| 16/16 [00:00<00:00, 120.01it/s]\n",
      " 60%|█████████████████████████▊                 | 18/30 [00:06<00:04,  2.63it/s]"
     ]
    },
    {
     "name": "stdout",
     "output_type": "stream",
     "text": [
      "Epoch 17:  (best: False)train loss = 0.095 (auc: 0.901 f1: 0.679), validation loss = 0.099 (auc: 0.911 f1: 0.589)\n"
     ]
    },
    {
     "name": "stderr",
     "output_type": "stream",
     "text": [
      "100%|██████████████████████████████████████████| 16/16 [00:00<00:00, 125.99it/s]\n",
      " 63%|███████████████████████████▏               | 19/30 [00:07<00:04,  2.67it/s]"
     ]
    },
    {
     "name": "stdout",
     "output_type": "stream",
     "text": [
      "Epoch 18:  (best: False)train loss = 0.096 (auc: 0.903 f1: 0.677), validation loss = 0.098 (auc: 0.912 f1: 0.592)\n"
     ]
    },
    {
     "name": "stderr",
     "output_type": "stream",
     "text": [
      "100%|██████████████████████████████████████████| 16/16 [00:00<00:00, 107.72it/s]\n",
      " 67%|████████████████████████████▋              | 20/30 [00:07<00:03,  2.58it/s]"
     ]
    },
    {
     "name": "stdout",
     "output_type": "stream",
     "text": [
      "Epoch 19:  (best: False)train loss = 0.095 (auc: 0.904 f1: 0.682), validation loss = 0.099 (auc: 0.913 f1: 0.590)\n"
     ]
    },
    {
     "name": "stderr",
     "output_type": "stream",
     "text": [
      "100%|██████████████████████████████████████████| 16/16 [00:00<00:00, 125.70it/s]\n",
      " 70%|██████████████████████████████             | 21/30 [00:07<00:03,  2.66it/s]"
     ]
    },
    {
     "name": "stdout",
     "output_type": "stream",
     "text": [
      "Epoch 20:  (best: False)train loss = 0.095 (auc: 0.902 f1: 0.675), validation loss = 0.098 (auc: 0.911 f1: 0.590)\n"
     ]
    },
    {
     "name": "stderr",
     "output_type": "stream",
     "text": [
      "100%|██████████████████████████████████████████| 16/16 [00:00<00:00, 110.60it/s]\n",
      " 73%|███████████████████████████████▌           | 22/30 [00:08<00:03,  2.63it/s]"
     ]
    },
    {
     "name": "stdout",
     "output_type": "stream",
     "text": [
      "Epoch 21:  (best: False)train loss = 0.095 (auc: 0.905 f1: 0.682), validation loss = 0.099 (auc: 0.912 f1: 0.592)\n"
     ]
    },
    {
     "name": "stderr",
     "output_type": "stream",
     "text": [
      "100%|██████████████████████████████████████████| 16/16 [00:00<00:00, 132.00it/s]\n",
      " 77%|████████████████████████████████▉          | 23/30 [00:08<00:02,  2.61it/s]"
     ]
    },
    {
     "name": "stdout",
     "output_type": "stream",
     "text": [
      "Epoch 22:  (best: False)train loss = 0.095 (auc: 0.903 f1: 0.680), validation loss = 0.099 (auc: 0.911 f1: 0.590)\n"
     ]
    },
    {
     "name": "stderr",
     "output_type": "stream",
     "text": [
      "100%|██████████████████████████████████████████| 16/16 [00:00<00:00, 126.15it/s]\n",
      " 80%|██████████████████████████████████▍        | 24/30 [00:09<00:02,  2.60it/s]"
     ]
    },
    {
     "name": "stdout",
     "output_type": "stream",
     "text": [
      "Epoch 23:  (best: False)train loss = 0.095 (auc: 0.906 f1: 0.683), validation loss = 0.099 (auc: 0.913 f1: 0.590)\n"
     ]
    },
    {
     "name": "stderr",
     "output_type": "stream",
     "text": [
      "100%|██████████████████████████████████████████| 16/16 [00:00<00:00, 115.89it/s]\n",
      " 83%|███████████████████████████████████▊       | 25/30 [00:09<00:01,  2.64it/s]"
     ]
    },
    {
     "name": "stdout",
     "output_type": "stream",
     "text": [
      "Epoch 24:  (best: True)train loss = 0.095 (auc: 0.906 f1: 0.710), validation loss = 0.098 (auc: 0.910 f1: 0.615)\n"
     ]
    },
    {
     "name": "stderr",
     "output_type": "stream",
     "text": [
      "100%|██████████████████████████████████████████| 16/16 [00:00<00:00, 124.69it/s]\n",
      " 87%|█████████████████████████████████████▎     | 26/30 [00:09<00:01,  2.68it/s]"
     ]
    },
    {
     "name": "stdout",
     "output_type": "stream",
     "text": [
      "Epoch 25:  (best: True)train loss = 0.094 (auc: 0.908 f1: 0.714), validation loss = 0.098 (auc: 0.912 f1: 0.616)\n"
     ]
    },
    {
     "name": "stderr",
     "output_type": "stream",
     "text": [
      "100%|██████████████████████████████████████████| 16/16 [00:00<00:00, 120.30it/s]\n",
      " 90%|██████████████████████████████████████▋    | 27/30 [00:10<00:01,  2.69it/s]"
     ]
    },
    {
     "name": "stdout",
     "output_type": "stream",
     "text": [
      "Epoch 26:  (best: False)train loss = 0.094 (auc: 0.906 f1: 0.701), validation loss = 0.098 (auc: 0.912 f1: 0.608)\n"
     ]
    },
    {
     "name": "stderr",
     "output_type": "stream",
     "text": [
      "100%|███████████████████████████████████████████| 16/16 [00:00<00:00, 95.84it/s]\n",
      " 93%|████████████████████████████████████████▏  | 28/30 [00:10<00:00,  2.64it/s]"
     ]
    },
    {
     "name": "stdout",
     "output_type": "stream",
     "text": [
      "Epoch 27:  (best: False)train loss = 0.094 (auc: 0.907 f1: 0.702), validation loss = 0.098 (auc: 0.914 f1: 0.607)\n"
     ]
    },
    {
     "name": "stderr",
     "output_type": "stream",
     "text": [
      "100%|██████████████████████████████████████████| 16/16 [00:00<00:00, 119.17it/s]\n",
      " 97%|█████████████████████████████████████████▌ | 29/30 [00:10<00:00,  2.69it/s]"
     ]
    },
    {
     "name": "stdout",
     "output_type": "stream",
     "text": [
      "Epoch 28:  (best: True)train loss = 0.094 (auc: 0.908 f1: 0.716), validation loss = 0.098 (auc: 0.913 f1: 0.628)\n"
     ]
    },
    {
     "name": "stderr",
     "output_type": "stream",
     "text": [
      "100%|███████████████████████████████████████████| 16/16 [00:00<00:00, 78.50it/s]\n",
      "100%|███████████████████████████████████████████| 30/30 [00:11<00:00,  2.63it/s]\n"
     ]
    },
    {
     "name": "stdout",
     "output_type": "stream",
     "text": [
      "Epoch 29:  (best: False)train loss = 0.094 (auc: 0.903 f1: 0.713), validation loss = 0.098 (auc: 0.912 f1: 0.612)\n"
     ]
    },
    {
     "name": "stderr",
     "output_type": "stream",
     "text": [
      "100%|██████████████████████████████████████████| 16/16 [00:00<00:00, 119.52it/s]\n",
      "  3%|█▍                                          | 1/30 [00:00<00:09,  2.91it/s]"
     ]
    },
    {
     "name": "stdout",
     "output_type": "stream",
     "text": [
      "Epoch 0:  (best: True)train loss = 0.112 (auc: 0.900 f1: 0.241), validation loss = 0.113 (auc: 0.908 f1: 0.211)\n"
     ]
    },
    {
     "name": "stderr",
     "output_type": "stream",
     "text": [
      "100%|██████████████████████████████████████████| 16/16 [00:00<00:00, 116.08it/s]\n",
      "  7%|██▉                                         | 2/30 [00:00<00:10,  2.76it/s]"
     ]
    },
    {
     "name": "stdout",
     "output_type": "stream",
     "text": [
      "Epoch 1:  (best: True)train loss = 0.104 (auc: 0.869 f1: 0.407), validation loss = 0.105 (auc: 0.878 f1: 0.397)\n"
     ]
    },
    {
     "name": "stderr",
     "output_type": "stream",
     "text": [
      "100%|██████████████████████████████████████████| 16/16 [00:00<00:00, 114.72it/s]\n",
      " 10%|████▍                                       | 3/30 [00:01<00:10,  2.61it/s]"
     ]
    },
    {
     "name": "stdout",
     "output_type": "stream",
     "text": [
      "Epoch 2:  (best: True)train loss = 0.100 (auc: 0.886 f1: 0.517), validation loss = 0.101 (auc: 0.898 f1: 0.509)\n"
     ]
    },
    {
     "name": "stderr",
     "output_type": "stream",
     "text": [
      "100%|██████████████████████████████████████████| 16/16 [00:00<00:00, 100.58it/s]\n",
      " 13%|█████▊                                      | 4/30 [00:01<00:10,  2.58it/s]"
     ]
    },
    {
     "name": "stdout",
     "output_type": "stream",
     "text": [
      "Epoch 3:  (best: True)train loss = 0.099 (auc: 0.882 f1: 0.554), validation loss = 0.099 (auc: 0.898 f1: 0.536)\n"
     ]
    },
    {
     "name": "stderr",
     "output_type": "stream",
     "text": [
      "100%|██████████████████████████████████████████| 16/16 [00:00<00:00, 113.47it/s]\n",
      " 17%|███████▎                                    | 5/30 [00:01<00:09,  2.53it/s]"
     ]
    },
    {
     "name": "stdout",
     "output_type": "stream",
     "text": [
      "Epoch 4:  (best: False)train loss = 0.098 (auc: 0.883 f1: 0.558), validation loss = 0.099 (auc: 0.898 f1: 0.530)\n"
     ]
    },
    {
     "name": "stderr",
     "output_type": "stream",
     "text": [
      "100%|██████████████████████████████████████████| 16/16 [00:00<00:00, 102.90it/s]\n",
      " 20%|████████▊                                   | 6/30 [00:02<00:09,  2.60it/s]"
     ]
    },
    {
     "name": "stdout",
     "output_type": "stream",
     "text": [
      "Epoch 5:  (best: True)train loss = 0.099 (auc: 0.883 f1: 0.565), validation loss = 0.099 (auc: 0.898 f1: 0.543)\n"
     ]
    },
    {
     "name": "stderr",
     "output_type": "stream",
     "text": [
      "100%|███████████████████████████████████████████| 16/16 [00:00<00:00, 96.16it/s]\n",
      " 23%|██████████▎                                 | 7/30 [00:02<00:08,  2.59it/s]"
     ]
    },
    {
     "name": "stdout",
     "output_type": "stream",
     "text": [
      "Epoch 6:  (best: True)train loss = 0.098 (auc: 0.885 f1: 0.568), validation loss = 0.099 (auc: 0.903 f1: 0.543)\n"
     ]
    },
    {
     "name": "stderr",
     "output_type": "stream",
     "text": [
      "100%|██████████████████████████████████████████| 16/16 [00:00<00:00, 113.25it/s]\n",
      " 27%|███████████▋                                | 8/30 [00:03<00:08,  2.67it/s]"
     ]
    },
    {
     "name": "stdout",
     "output_type": "stream",
     "text": [
      "Epoch 7:  (best: True)train loss = 0.098 (auc: 0.890 f1: 0.604), validation loss = 0.099 (auc: 0.905 f1: 0.569)\n"
     ]
    },
    {
     "name": "stderr",
     "output_type": "stream",
     "text": [
      "100%|██████████████████████████████████████████| 16/16 [00:00<00:00, 104.99it/s]\n",
      " 30%|█████████████▏                              | 9/30 [00:03<00:07,  2.64it/s]"
     ]
    },
    {
     "name": "stdout",
     "output_type": "stream",
     "text": [
      "Epoch 8:  (best: True)train loss = 0.097 (auc: 0.893 f1: 0.625), validation loss = 0.099 (auc: 0.906 f1: 0.581)\n"
     ]
    },
    {
     "name": "stderr",
     "output_type": "stream",
     "text": [
      "100%|███████████████████████████████████████████| 16/16 [00:00<00:00, 95.15it/s]\n",
      " 33%|██████████████▎                            | 10/30 [00:03<00:07,  2.56it/s]"
     ]
    },
    {
     "name": "stdout",
     "output_type": "stream",
     "text": [
      "Epoch 9:  (best: True)train loss = 0.097 (auc: 0.890 f1: 0.616), validation loss = 0.098 (auc: 0.907 f1: 0.586)\n"
     ]
    },
    {
     "name": "stderr",
     "output_type": "stream",
     "text": [
      "100%|██████████████████████████████████████████| 16/16 [00:00<00:00, 102.88it/s]\n",
      " 37%|███████████████▊                           | 11/30 [00:04<00:07,  2.61it/s]"
     ]
    },
    {
     "name": "stdout",
     "output_type": "stream",
     "text": [
      "Epoch 10:  (best: True)train loss = 0.097 (auc: 0.893 f1: 0.629), validation loss = 0.098 (auc: 0.910 f1: 0.594)\n"
     ]
    },
    {
     "name": "stderr",
     "output_type": "stream",
     "text": [
      "100%|██████████████████████████████████████████| 16/16 [00:00<00:00, 113.72it/s]\n",
      " 40%|█████████████████▏                         | 12/30 [00:04<00:06,  2.65it/s]"
     ]
    },
    {
     "name": "stdout",
     "output_type": "stream",
     "text": [
      "Epoch 11:  (best: False)train loss = 0.097 (auc: 0.893 f1: 0.629), validation loss = 0.098 (auc: 0.909 f1: 0.588)\n"
     ]
    },
    {
     "name": "stderr",
     "output_type": "stream",
     "text": [
      "100%|██████████████████████████████████████████| 16/16 [00:00<00:00, 120.15it/s]\n",
      " 43%|██████████████████▋                        | 13/30 [00:04<00:06,  2.63it/s]"
     ]
    },
    {
     "name": "stdout",
     "output_type": "stream",
     "text": [
      "Epoch 12:  (best: True)train loss = 0.096 (auc: 0.897 f1: 0.654), validation loss = 0.098 (auc: 0.911 f1: 0.620)\n"
     ]
    },
    {
     "name": "stderr",
     "output_type": "stream",
     "text": [
      "100%|███████████████████████████████████████████| 16/16 [00:00<00:00, 95.91it/s]\n",
      " 47%|████████████████████                       | 14/30 [00:05<00:06,  2.50it/s]"
     ]
    },
    {
     "name": "stdout",
     "output_type": "stream",
     "text": [
      "Epoch 13:  (best: False)train loss = 0.096 (auc: 0.890 f1: 0.649), validation loss = 0.098 (auc: 0.908 f1: 0.609)\n"
     ]
    },
    {
     "name": "stderr",
     "output_type": "stream",
     "text": [
      "100%|██████████████████████████████████████████| 16/16 [00:00<00:00, 121.34it/s]\n",
      " 50%|█████████████████████▌                     | 15/30 [00:05<00:05,  2.55it/s]"
     ]
    },
    {
     "name": "stdout",
     "output_type": "stream",
     "text": [
      "Epoch 14:  (best: False)train loss = 0.096 (auc: 0.895 f1: 0.652), validation loss = 0.098 (auc: 0.911 f1: 0.615)\n"
     ]
    },
    {
     "name": "stderr",
     "output_type": "stream",
     "text": [
      "100%|██████████████████████████████████████████| 16/16 [00:00<00:00, 129.54it/s]\n",
      " 53%|██████████████████████▉                    | 16/30 [00:06<00:05,  2.57it/s]"
     ]
    },
    {
     "name": "stdout",
     "output_type": "stream",
     "text": [
      "Epoch 15:  (best: True)train loss = 0.096 (auc: 0.898 f1: 0.657), validation loss = 0.098 (auc: 0.914 f1: 0.626)\n"
     ]
    },
    {
     "name": "stderr",
     "output_type": "stream",
     "text": [
      "100%|██████████████████████████████████████████| 16/16 [00:00<00:00, 103.38it/s]\n",
      " 57%|████████████████████████▎                  | 17/30 [00:06<00:05,  2.56it/s]"
     ]
    },
    {
     "name": "stdout",
     "output_type": "stream",
     "text": [
      "Epoch 16:  (best: True)train loss = 0.095 (auc: 0.904 f1: 0.698), validation loss = 0.097 (auc: 0.919 f1: 0.648)\n"
     ]
    },
    {
     "name": "stderr",
     "output_type": "stream",
     "text": [
      "100%|██████████████████████████████████████████| 16/16 [00:00<00:00, 112.81it/s]\n",
      " 60%|█████████████████████████▊                 | 18/30 [00:06<00:04,  2.57it/s]"
     ]
    },
    {
     "name": "stdout",
     "output_type": "stream",
     "text": [
      "Epoch 17:  (best: False)train loss = 0.095 (auc: 0.905 f1: 0.692), validation loss = 0.097 (auc: 0.916 f1: 0.637)\n"
     ]
    },
    {
     "name": "stderr",
     "output_type": "stream",
     "text": [
      "100%|██████████████████████████████████████████| 16/16 [00:00<00:00, 113.27it/s]\n",
      " 63%|███████████████████████████▏               | 19/30 [00:07<00:04,  2.61it/s]"
     ]
    },
    {
     "name": "stdout",
     "output_type": "stream",
     "text": [
      "Epoch 18:  (best: False)train loss = 0.095 (auc: 0.900 f1: 0.699), validation loss = 0.098 (auc: 0.916 f1: 0.640)\n"
     ]
    },
    {
     "name": "stderr",
     "output_type": "stream",
     "text": [
      "100%|██████████████████████████████████████████| 16/16 [00:00<00:00, 118.12it/s]\n",
      " 67%|████████████████████████████▋              | 20/30 [00:07<00:03,  2.62it/s]"
     ]
    },
    {
     "name": "stdout",
     "output_type": "stream",
     "text": [
      "Epoch 19:  (best: False)train loss = 0.095 (auc: 0.905 f1: 0.699), validation loss = 0.097 (auc: 0.918 f1: 0.637)\n"
     ]
    },
    {
     "name": "stderr",
     "output_type": "stream",
     "text": [
      "100%|██████████████████████████████████████████| 16/16 [00:00<00:00, 113.34it/s]\n",
      " 70%|██████████████████████████████             | 21/30 [00:08<00:03,  2.52it/s]"
     ]
    },
    {
     "name": "stdout",
     "output_type": "stream",
     "text": [
      "Epoch 20:  (best: False)train loss = 0.095 (auc: 0.902 f1: 0.700), validation loss = 0.098 (auc: 0.906 f1: 0.643)\n"
     ]
    },
    {
     "name": "stderr",
     "output_type": "stream",
     "text": [
      "100%|██████████████████████████████████████████| 16/16 [00:00<00:00, 105.62it/s]\n",
      " 73%|███████████████████████████████▌           | 22/30 [00:08<00:03,  2.49it/s]"
     ]
    },
    {
     "name": "stdout",
     "output_type": "stream",
     "text": [
      "Epoch 21:  (best: False)train loss = 0.094 (auc: 0.905 f1: 0.713), validation loss = 0.097 (auc: 0.914 f1: 0.643)\n"
     ]
    },
    {
     "name": "stderr",
     "output_type": "stream",
     "text": [
      "100%|██████████████████████████████████████████| 16/16 [00:00<00:00, 109.54it/s]\n",
      " 77%|████████████████████████████████▉          | 23/30 [00:08<00:02,  2.57it/s]"
     ]
    },
    {
     "name": "stdout",
     "output_type": "stream",
     "text": [
      "Epoch 22:  (best: False)train loss = 0.095 (auc: 0.906 f1: 0.712), validation loss = 0.097 (auc: 0.911 f1: 0.641)\n"
     ]
    },
    {
     "name": "stderr",
     "output_type": "stream",
     "text": [
      "100%|██████████████████████████████████████████| 16/16 [00:00<00:00, 101.37it/s]\n",
      " 80%|██████████████████████████████████▍        | 24/30 [00:09<00:02,  2.51it/s]"
     ]
    },
    {
     "name": "stdout",
     "output_type": "stream",
     "text": [
      "Epoch 23:  (best: False)train loss = 0.094 (auc: 0.904 f1: 0.727), validation loss = 0.097 (auc: 0.909 f1: 0.637)\n"
     ]
    },
    {
     "name": "stderr",
     "output_type": "stream",
     "text": [
      "100%|███████████████████████████████████████████| 16/16 [00:00<00:00, 93.25it/s]\n",
      " 83%|███████████████████████████████████▊       | 25/30 [00:09<00:02,  2.35it/s]"
     ]
    },
    {
     "name": "stdout",
     "output_type": "stream",
     "text": [
      "Epoch 24:  (best: False)train loss = 0.094 (auc: 0.906 f1: 0.720), validation loss = 0.097 (auc: 0.910 f1: 0.641)\n"
     ]
    },
    {
     "name": "stderr",
     "output_type": "stream",
     "text": [
      "100%|██████████████████████████████████████████| 16/16 [00:00<00:00, 113.79it/s]\n",
      " 87%|█████████████████████████████████████▎     | 26/30 [00:10<00:01,  2.40it/s]"
     ]
    },
    {
     "name": "stdout",
     "output_type": "stream",
     "text": [
      "Epoch 25:  (best: False)train loss = 0.094 (auc: 0.909 f1: 0.720), validation loss = 0.097 (auc: 0.911 f1: 0.647)\n"
     ]
    },
    {
     "name": "stderr",
     "output_type": "stream",
     "text": [
      "100%|███████████████████████████████████████████| 16/16 [00:00<00:00, 89.41it/s]\n",
      " 90%|██████████████████████████████████████▋    | 27/30 [00:10<00:01,  2.41it/s]"
     ]
    },
    {
     "name": "stdout",
     "output_type": "stream",
     "text": [
      "Epoch 26:  (best: True)train loss = 0.095 (auc: 0.907 f1: 0.719), validation loss = 0.097 (auc: 0.905 f1: 0.653)\n"
     ]
    },
    {
     "name": "stderr",
     "output_type": "stream",
     "text": [
      "100%|██████████████████████████████████████████| 16/16 [00:00<00:00, 116.20it/s]\n",
      " 93%|████████████████████████████████████████▏  | 28/30 [00:10<00:00,  2.49it/s]"
     ]
    },
    {
     "name": "stdout",
     "output_type": "stream",
     "text": [
      "Epoch 27:  (best: False)train loss = 0.094 (auc: 0.906 f1: 0.718), validation loss = 0.097 (auc: 0.913 f1: 0.644)\n"
     ]
    },
    {
     "name": "stderr",
     "output_type": "stream",
     "text": [
      "100%|██████████████████████████████████████████| 16/16 [00:00<00:00, 107.09it/s]\n",
      " 97%|█████████████████████████████████████████▌ | 29/30 [00:11<00:00,  2.47it/s]"
     ]
    },
    {
     "name": "stdout",
     "output_type": "stream",
     "text": [
      "Epoch 28:  (best: False)train loss = 0.095 (auc: 0.906 f1: 0.721), validation loss = 0.097 (auc: 0.910 f1: 0.649)\n"
     ]
    },
    {
     "name": "stderr",
     "output_type": "stream",
     "text": [
      "100%|██████████████████████████████████████████| 16/16 [00:00<00:00, 105.04it/s]\n",
      "100%|███████████████████████████████████████████| 30/30 [00:11<00:00,  2.54it/s]\n"
     ]
    },
    {
     "name": "stdout",
     "output_type": "stream",
     "text": [
      "Epoch 29:  (best: False)train loss = 0.095 (auc: 0.905 f1: 0.727), validation loss = 0.097 (auc: 0.906 f1: 0.652)\n"
     ]
    },
    {
     "name": "stderr",
     "output_type": "stream",
     "text": [
      "100%|██████████████████████████████████████████| 16/16 [00:00<00:00, 116.07it/s]\n",
      "  3%|█▍                                          | 1/30 [00:00<00:11,  2.48it/s]"
     ]
    },
    {
     "name": "stdout",
     "output_type": "stream",
     "text": [
      "Epoch 0:  (best: True)train loss = 0.112 (auc: 0.844 f1: 0.197), validation loss = 0.113 (auc: 0.855 f1: 0.170)\n"
     ]
    },
    {
     "name": "stderr",
     "output_type": "stream",
     "text": [
      "100%|██████████████████████████████████████████| 16/16 [00:00<00:00, 117.31it/s]\n",
      "  7%|██▉                                         | 2/30 [00:00<00:11,  2.53it/s]"
     ]
    },
    {
     "name": "stdout",
     "output_type": "stream",
     "text": [
      "Epoch 1:  (best: True)train loss = 0.105 (auc: 0.851 f1: 0.428), validation loss = 0.105 (auc: 0.861 f1: 0.419)\n"
     ]
    },
    {
     "name": "stderr",
     "output_type": "stream",
     "text": [
      "100%|██████████████████████████████████████████| 16/16 [00:00<00:00, 111.17it/s]\n",
      " 10%|████▍                                       | 3/30 [00:01<00:10,  2.66it/s]"
     ]
    },
    {
     "name": "stdout",
     "output_type": "stream",
     "text": [
      "Epoch 2:  (best: True)train loss = 0.101 (auc: 0.879 f1: 0.510), validation loss = 0.101 (auc: 0.894 f1: 0.483)\n"
     ]
    },
    {
     "name": "stderr",
     "output_type": "stream",
     "text": [
      "100%|██████████████████████████████████████████| 16/16 [00:00<00:00, 115.91it/s]\n",
      " 13%|█████▊                                      | 4/30 [00:01<00:11,  2.29it/s]"
     ]
    },
    {
     "name": "stdout",
     "output_type": "stream",
     "text": [
      "Epoch 3:  (best: True)train loss = 0.100 (auc: 0.883 f1: 0.547), validation loss = 0.100 (auc: 0.898 f1: 0.520)\n"
     ]
    },
    {
     "name": "stderr",
     "output_type": "stream",
     "text": [
      "100%|███████████████████████████████████████████| 16/16 [00:00<00:00, 99.75it/s]\n",
      " 17%|███████▎                                    | 5/30 [00:02<00:10,  2.29it/s]"
     ]
    },
    {
     "name": "stdout",
     "output_type": "stream",
     "text": [
      "Epoch 4:  (best: False)train loss = 0.099 (auc: 0.884 f1: 0.542), validation loss = 0.100 (auc: 0.898 f1: 0.516)\n"
     ]
    },
    {
     "name": "stderr",
     "output_type": "stream",
     "text": [
      "100%|███████████████████████████████████████████| 16/16 [00:00<00:00, 96.47it/s]\n",
      " 20%|████████▊                                   | 6/30 [00:02<00:10,  2.29it/s]"
     ]
    },
    {
     "name": "stdout",
     "output_type": "stream",
     "text": [
      "Epoch 5:  (best: True)train loss = 0.098 (auc: 0.886 f1: 0.579), validation loss = 0.099 (auc: 0.906 f1: 0.552)\n"
     ]
    },
    {
     "name": "stderr",
     "output_type": "stream",
     "text": [
      "100%|███████████████████████████████████████████| 16/16 [00:00<00:00, 93.87it/s]\n",
      " 23%|██████████▎                                 | 7/30 [00:02<00:10,  2.29it/s]"
     ]
    },
    {
     "name": "stdout",
     "output_type": "stream",
     "text": [
      "Epoch 6:  (best: False)train loss = 0.098 (auc: 0.888 f1: 0.574), validation loss = 0.099 (auc: 0.906 f1: 0.543)\n"
     ]
    },
    {
     "name": "stderr",
     "output_type": "stream",
     "text": [
      "100%|███████████████████████████████████████████| 16/16 [00:00<00:00, 97.74it/s]\n",
      " 27%|███████████▋                                | 8/30 [00:03<00:09,  2.33it/s]"
     ]
    },
    {
     "name": "stdout",
     "output_type": "stream",
     "text": [
      "Epoch 7:  (best: True)train loss = 0.097 (auc: 0.893 f1: 0.641), validation loss = 0.099 (auc: 0.904 f1: 0.592)\n"
     ]
    },
    {
     "name": "stderr",
     "output_type": "stream",
     "text": [
      "100%|██████████████████████████████████████████| 16/16 [00:00<00:00, 113.79it/s]\n",
      " 30%|█████████████▏                              | 9/30 [00:03<00:08,  2.41it/s]"
     ]
    },
    {
     "name": "stdout",
     "output_type": "stream",
     "text": [
      "Epoch 8:  (best: False)train loss = 0.097 (auc: 0.893 f1: 0.627), validation loss = 0.099 (auc: 0.910 f1: 0.575)\n"
     ]
    },
    {
     "name": "stderr",
     "output_type": "stream",
     "text": [
      "100%|██████████████████████████████████████████| 16/16 [00:00<00:00, 107.91it/s]\n",
      " 33%|██████████████▎                            | 10/30 [00:04<00:08,  2.50it/s]"
     ]
    },
    {
     "name": "stdout",
     "output_type": "stream",
     "text": [
      "Epoch 9:  (best: False)train loss = 0.097 (auc: 0.894 f1: 0.636), validation loss = 0.099 (auc: 0.912 f1: 0.576)\n"
     ]
    },
    {
     "name": "stderr",
     "output_type": "stream",
     "text": [
      "100%|██████████████████████████████████████████| 16/16 [00:00<00:00, 110.08it/s]\n",
      " 37%|███████████████▊                           | 11/30 [00:04<00:07,  2.47it/s]"
     ]
    },
    {
     "name": "stdout",
     "output_type": "stream",
     "text": [
      "Epoch 10:  (best: False)train loss = 0.096 (auc: 0.900 f1: 0.652), validation loss = 0.099 (auc: 0.915 f1: 0.589)\n"
     ]
    },
    {
     "name": "stderr",
     "output_type": "stream",
     "text": [
      "100%|██████████████████████████████████████████| 16/16 [00:00<00:00, 116.85it/s]\n",
      " 40%|█████████████████▏                         | 12/30 [00:04<00:07,  2.51it/s]"
     ]
    },
    {
     "name": "stdout",
     "output_type": "stream",
     "text": [
      "Epoch 11:  (best: True)train loss = 0.096 (auc: 0.900 f1: 0.676), validation loss = 0.098 (auc: 0.917 f1: 0.604)\n"
     ]
    },
    {
     "name": "stderr",
     "output_type": "stream",
     "text": [
      "100%|███████████████████████████████████████████| 16/16 [00:00<00:00, 91.82it/s]\n",
      " 43%|██████████████████▋                        | 13/30 [00:05<00:06,  2.44it/s]"
     ]
    },
    {
     "name": "stdout",
     "output_type": "stream",
     "text": [
      "Epoch 12:  (best: False)train loss = 0.096 (auc: 0.902 f1: 0.682), validation loss = 0.098 (auc: 0.919 f1: 0.599)\n"
     ]
    },
    {
     "name": "stderr",
     "output_type": "stream",
     "text": [
      "100%|██████████████████████████████████████████| 16/16 [00:00<00:00, 115.70it/s]\n",
      " 47%|████████████████████                       | 14/30 [00:05<00:06,  2.47it/s]"
     ]
    },
    {
     "name": "stdout",
     "output_type": "stream",
     "text": [
      "Epoch 13:  (best: True)train loss = 0.096 (auc: 0.905 f1: 0.690), validation loss = 0.098 (auc: 0.920 f1: 0.617)\n"
     ]
    },
    {
     "name": "stderr",
     "output_type": "stream",
     "text": [
      "100%|███████████████████████████████████████████| 16/16 [00:00<00:00, 86.85it/s]\n",
      " 50%|█████████████████████▌                     | 15/30 [00:06<00:06,  2.41it/s]"
     ]
    },
    {
     "name": "stdout",
     "output_type": "stream",
     "text": [
      "Epoch 14:  (best: True)train loss = 0.096 (auc: 0.907 f1: 0.693), validation loss = 0.098 (auc: 0.922 f1: 0.630)\n"
     ]
    },
    {
     "name": "stderr",
     "output_type": "stream",
     "text": [
      "100%|██████████████████████████████████████████| 16/16 [00:00<00:00, 102.74it/s]\n",
      " 53%|██████████████████████▉                    | 16/30 [00:06<00:05,  2.43it/s]"
     ]
    },
    {
     "name": "stdout",
     "output_type": "stream",
     "text": [
      "Epoch 15:  (best: False)train loss = 0.095 (auc: 0.908 f1: 0.693), validation loss = 0.098 (auc: 0.921 f1: 0.621)\n"
     ]
    },
    {
     "name": "stderr",
     "output_type": "stream",
     "text": [
      "100%|██████████████████████████████████████████| 16/16 [00:00<00:00, 104.26it/s]\n",
      " 57%|████████████████████████▎                  | 17/30 [00:07<00:05,  2.32it/s]"
     ]
    },
    {
     "name": "stdout",
     "output_type": "stream",
     "text": [
      "Epoch 16:  (best: False)train loss = 0.096 (auc: 0.908 f1: 0.708), validation loss = 0.098 (auc: 0.916 f1: 0.622)\n"
     ]
    },
    {
     "name": "stderr",
     "output_type": "stream",
     "text": [
      "100%|███████████████████████████████████████████| 16/16 [00:00<00:00, 92.07it/s]\n",
      " 60%|█████████████████████████▊                 | 18/30 [00:07<00:05,  2.33it/s]"
     ]
    },
    {
     "name": "stdout",
     "output_type": "stream",
     "text": [
      "Epoch 17:  (best: False)train loss = 0.095 (auc: 0.903 f1: 0.696), validation loss = 0.098 (auc: 0.916 f1: 0.620)\n"
     ]
    },
    {
     "name": "stderr",
     "output_type": "stream",
     "text": [
      "100%|███████████████████████████████████████████| 16/16 [00:00<00:00, 93.60it/s]\n",
      " 63%|███████████████████████████▏               | 19/30 [00:07<00:04,  2.34it/s]"
     ]
    },
    {
     "name": "stdout",
     "output_type": "stream",
     "text": [
      "Epoch 18:  (best: False)train loss = 0.095 (auc: 0.905 f1: 0.707), validation loss = 0.098 (auc: 0.920 f1: 0.621)\n"
     ]
    },
    {
     "name": "stderr",
     "output_type": "stream",
     "text": [
      "100%|███████████████████████████████████████████| 16/16 [00:00<00:00, 86.62it/s]\n",
      " 67%|████████████████████████████▋              | 20/30 [00:08<00:04,  2.35it/s]"
     ]
    },
    {
     "name": "stdout",
     "output_type": "stream",
     "text": [
      "Epoch 19:  (best: False)train loss = 0.095 (auc: 0.906 f1: 0.702), validation loss = 0.098 (auc: 0.918 f1: 0.625)\n"
     ]
    },
    {
     "name": "stderr",
     "output_type": "stream",
     "text": [
      "100%|██████████████████████████████████████████| 16/16 [00:00<00:00, 104.57it/s]\n",
      " 70%|██████████████████████████████             | 21/30 [00:08<00:03,  2.40it/s]"
     ]
    },
    {
     "name": "stdout",
     "output_type": "stream",
     "text": [
      "Epoch 20:  (best: True)train loss = 0.095 (auc: 0.908 f1: 0.713), validation loss = 0.098 (auc: 0.919 f1: 0.631)\n"
     ]
    },
    {
     "name": "stderr",
     "output_type": "stream",
     "text": [
      "100%|██████████████████████████████████████████| 16/16 [00:00<00:00, 134.01it/s]\n",
      " 73%|███████████████████████████████▌           | 22/30 [00:09<00:03,  2.50it/s]"
     ]
    },
    {
     "name": "stdout",
     "output_type": "stream",
     "text": [
      "Epoch 21:  (best: False)train loss = 0.094 (auc: 0.907 f1: 0.709), validation loss = 0.098 (auc: 0.918 f1: 0.620)\n"
     ]
    },
    {
     "name": "stderr",
     "output_type": "stream",
     "text": [
      "100%|██████████████████████████████████████████| 16/16 [00:00<00:00, 117.81it/s]\n",
      " 77%|████████████████████████████████▉          | 23/30 [00:09<00:02,  2.57it/s]"
     ]
    },
    {
     "name": "stdout",
     "output_type": "stream",
     "text": [
      "Epoch 22:  (best: False)train loss = 0.095 (auc: 0.910 f1: 0.713), validation loss = 0.098 (auc: 0.920 f1: 0.625)\n"
     ]
    },
    {
     "name": "stderr",
     "output_type": "stream",
     "text": [
      "100%|██████████████████████████████████████████| 16/16 [00:00<00:00, 117.34it/s]\n",
      " 80%|██████████████████████████████████▍        | 24/30 [00:09<00:02,  2.62it/s]"
     ]
    },
    {
     "name": "stdout",
     "output_type": "stream",
     "text": [
      "Epoch 23:  (best: False)train loss = 0.094 (auc: 0.911 f1: 0.712), validation loss = 0.098 (auc: 0.919 f1: 0.623)\n"
     ]
    },
    {
     "name": "stderr",
     "output_type": "stream",
     "text": [
      "100%|██████████████████████████████████████████| 16/16 [00:00<00:00, 109.37it/s]\n",
      " 83%|███████████████████████████████████▊       | 25/30 [00:10<00:01,  2.64it/s]"
     ]
    },
    {
     "name": "stdout",
     "output_type": "stream",
     "text": [
      "Epoch 24:  (best: True)train loss = 0.095 (auc: 0.910 f1: 0.722), validation loss = 0.098 (auc: 0.917 f1: 0.634)\n"
     ]
    },
    {
     "name": "stderr",
     "output_type": "stream",
     "text": [
      "100%|███████████████████████████████████████████| 16/16 [00:00<00:00, 96.97it/s]\n",
      " 87%|█████████████████████████████████████▎     | 26/30 [00:10<00:01,  2.60it/s]"
     ]
    },
    {
     "name": "stdout",
     "output_type": "stream",
     "text": [
      "Epoch 25:  (best: False)train loss = 0.095 (auc: 0.911 f1: 0.714), validation loss = 0.098 (auc: 0.912 f1: 0.626)\n"
     ]
    },
    {
     "name": "stderr",
     "output_type": "stream",
     "text": [
      "100%|███████████████████████████████████████████| 16/16 [00:00<00:00, 97.90it/s]\n",
      " 90%|██████████████████████████████████████▋    | 27/30 [00:11<00:01,  2.59it/s]"
     ]
    },
    {
     "name": "stdout",
     "output_type": "stream",
     "text": [
      "Epoch 26:  (best: False)train loss = 0.095 (auc: 0.909 f1: 0.714), validation loss = 0.098 (auc: 0.918 f1: 0.633)\n"
     ]
    },
    {
     "name": "stderr",
     "output_type": "stream",
     "text": [
      "100%|███████████████████████████████████████████| 16/16 [00:00<00:00, 81.24it/s]\n",
      " 93%|████████████████████████████████████████▏  | 28/30 [00:11<00:00,  2.49it/s]"
     ]
    },
    {
     "name": "stdout",
     "output_type": "stream",
     "text": [
      "Epoch 27:  (best: False)train loss = 0.095 (auc: 0.907 f1: 0.713), validation loss = 0.098 (auc: 0.917 f1: 0.631)\n"
     ]
    },
    {
     "name": "stderr",
     "output_type": "stream",
     "text": [
      "100%|███████████████████████████████████████████| 16/16 [00:00<00:00, 85.04it/s]\n",
      " 97%|█████████████████████████████████████████▌ | 29/30 [00:11<00:00,  2.41it/s]"
     ]
    },
    {
     "name": "stdout",
     "output_type": "stream",
     "text": [
      "Epoch 28:  (best: False)train loss = 0.094 (auc: 0.912 f1: 0.714), validation loss = 0.098 (auc: 0.919 f1: 0.633)\n"
     ]
    },
    {
     "name": "stderr",
     "output_type": "stream",
     "text": [
      "100%|██████████████████████████████████████████| 16/16 [00:00<00:00, 119.47it/s]\n",
      "100%|███████████████████████████████████████████| 30/30 [00:12<00:00,  2.45it/s]\n"
     ]
    },
    {
     "name": "stdout",
     "output_type": "stream",
     "text": [
      "Epoch 29:  (best: True)train loss = 0.095 (auc: 0.912 f1: 0.713), validation loss = 0.098 (auc: 0.918 f1: 0.634)\n"
     ]
    },
    {
     "name": "stderr",
     "output_type": "stream",
     "text": [
      "100%|███████████████████████████████████████████| 16/16 [00:00<00:00, 93.48it/s]\n",
      "  3%|█▍                                          | 1/30 [00:00<00:11,  2.51it/s]"
     ]
    },
    {
     "name": "stdout",
     "output_type": "stream",
     "text": [
      "Epoch 0:  (best: True)train loss = 0.114 (auc: 0.858 f1: 0.124), validation loss = 0.114 (auc: 0.874 f1: 0.096)\n"
     ]
    },
    {
     "name": "stderr",
     "output_type": "stream",
     "text": [
      "100%|███████████████████████████████████████████| 16/16 [00:00<00:00, 86.05it/s]\n",
      "  7%|██▉                                         | 2/30 [00:00<00:11,  2.37it/s]"
     ]
    },
    {
     "name": "stdout",
     "output_type": "stream",
     "text": [
      "Epoch 1:  (best: True)train loss = 0.105 (auc: 0.874 f1: 0.408), validation loss = 0.106 (auc: 0.893 f1: 0.392)\n"
     ]
    },
    {
     "name": "stderr",
     "output_type": "stream",
     "text": [
      "100%|██████████████████████████████████████████| 16/16 [00:00<00:00, 123.91it/s]\n",
      " 10%|████▍                                       | 3/30 [00:01<00:11,  2.45it/s]"
     ]
    },
    {
     "name": "stdout",
     "output_type": "stream",
     "text": [
      "Epoch 2:  (best: True)train loss = 0.101 (auc: 0.895 f1: 0.484), validation loss = 0.102 (auc: 0.917 f1: 0.470)\n"
     ]
    },
    {
     "name": "stderr",
     "output_type": "stream",
     "text": [
      "100%|██████████████████████████████████████████| 16/16 [00:00<00:00, 113.41it/s]\n",
      " 13%|█████▊                                      | 4/30 [00:01<00:10,  2.54it/s]"
     ]
    },
    {
     "name": "stdout",
     "output_type": "stream",
     "text": [
      "Epoch 3:  (best: True)train loss = 0.100 (auc: 0.886 f1: 0.500), validation loss = 0.101 (auc: 0.904 f1: 0.486)\n"
     ]
    },
    {
     "name": "stderr",
     "output_type": "stream",
     "text": [
      "100%|██████████████████████████████████████████| 16/16 [00:00<00:00, 117.79it/s]\n",
      " 17%|███████▎                                    | 5/30 [00:01<00:09,  2.63it/s]"
     ]
    },
    {
     "name": "stdout",
     "output_type": "stream",
     "text": [
      "Epoch 4:  (best: True)train loss = 0.099 (auc: 0.888 f1: 0.527), validation loss = 0.100 (auc: 0.907 f1: 0.500)\n"
     ]
    },
    {
     "name": "stderr",
     "output_type": "stream",
     "text": [
      "100%|██████████████████████████████████████████| 16/16 [00:00<00:00, 102.30it/s]\n",
      " 20%|████████▊                                   | 6/30 [00:02<00:09,  2.57it/s]"
     ]
    },
    {
     "name": "stdout",
     "output_type": "stream",
     "text": [
      "Epoch 5:  (best: True)train loss = 0.098 (auc: 0.893 f1: 0.591), validation loss = 0.099 (auc: 0.914 f1: 0.557)\n"
     ]
    },
    {
     "name": "stderr",
     "output_type": "stream",
     "text": [
      "100%|██████████████████████████████████████████| 16/16 [00:00<00:00, 129.27it/s]\n",
      " 23%|██████████▎                                 | 7/30 [00:02<00:09,  2.54it/s]"
     ]
    },
    {
     "name": "stdout",
     "output_type": "stream",
     "text": [
      "Epoch 6:  (best: True)train loss = 0.098 (auc: 0.896 f1: 0.623), validation loss = 0.099 (auc: 0.916 f1: 0.596)\n"
     ]
    },
    {
     "name": "stderr",
     "output_type": "stream",
     "text": [
      "100%|██████████████████████████████████████████| 16/16 [00:00<00:00, 124.20it/s]\n",
      " 27%|███████████▋                                | 8/30 [00:03<00:08,  2.61it/s]"
     ]
    },
    {
     "name": "stdout",
     "output_type": "stream",
     "text": [
      "Epoch 7:  (best: False)train loss = 0.097 (auc: 0.895 f1: 0.619), validation loss = 0.098 (auc: 0.913 f1: 0.587)\n"
     ]
    },
    {
     "name": "stderr",
     "output_type": "stream",
     "text": [
      "100%|██████████████████████████████████████████| 16/16 [00:00<00:00, 117.69it/s]\n",
      " 30%|█████████████▏                              | 9/30 [00:03<00:07,  2.66it/s]"
     ]
    },
    {
     "name": "stdout",
     "output_type": "stream",
     "text": [
      "Epoch 8:  (best: False)train loss = 0.097 (auc: 0.894 f1: 0.619), validation loss = 0.098 (auc: 0.915 f1: 0.585)\n"
     ]
    },
    {
     "name": "stderr",
     "output_type": "stream",
     "text": [
      "100%|██████████████████████████████████████████| 16/16 [00:00<00:00, 107.19it/s]\n",
      " 33%|██████████████▎                            | 10/30 [00:03<00:07,  2.66it/s]"
     ]
    },
    {
     "name": "stdout",
     "output_type": "stream",
     "text": [
      "Epoch 9:  (best: False)train loss = 0.097 (auc: 0.890 f1: 0.627), validation loss = 0.098 (auc: 0.908 f1: 0.588)\n"
     ]
    },
    {
     "name": "stderr",
     "output_type": "stream",
     "text": [
      "100%|███████████████████████████████████████████| 16/16 [00:00<00:00, 91.38it/s]\n",
      " 37%|███████████████▊                           | 11/30 [00:04<00:07,  2.61it/s]"
     ]
    },
    {
     "name": "stdout",
     "output_type": "stream",
     "text": [
      "Epoch 10:  (best: True)train loss = 0.096 (auc: 0.894 f1: 0.643), validation loss = 0.098 (auc: 0.911 f1: 0.618)\n"
     ]
    },
    {
     "name": "stderr",
     "output_type": "stream",
     "text": [
      "100%|██████████████████████████████████████████| 16/16 [00:00<00:00, 131.82it/s]\n",
      " 40%|█████████████████▏                         | 12/30 [00:04<00:06,  2.70it/s]"
     ]
    },
    {
     "name": "stdout",
     "output_type": "stream",
     "text": [
      "Epoch 11:  (best: False)train loss = 0.096 (auc: 0.894 f1: 0.642), validation loss = 0.098 (auc: 0.912 f1: 0.610)\n"
     ]
    },
    {
     "name": "stderr",
     "output_type": "stream",
     "text": [
      "100%|██████████████████████████████████████████| 16/16 [00:00<00:00, 108.02it/s]\n",
      " 43%|██████████████████▋                        | 13/30 [00:04<00:06,  2.70it/s]"
     ]
    },
    {
     "name": "stdout",
     "output_type": "stream",
     "text": [
      "Epoch 12:  (best: False)train loss = 0.096 (auc: 0.895 f1: 0.646), validation loss = 0.098 (auc: 0.910 f1: 0.618)\n"
     ]
    },
    {
     "name": "stderr",
     "output_type": "stream",
     "text": [
      "100%|██████████████████████████████████████████| 16/16 [00:00<00:00, 124.76it/s]\n",
      " 47%|████████████████████                       | 14/30 [00:05<00:05,  2.69it/s]"
     ]
    },
    {
     "name": "stdout",
     "output_type": "stream",
     "text": [
      "Epoch 13:  (best: False)train loss = 0.096 (auc: 0.897 f1: 0.641), validation loss = 0.098 (auc: 0.916 f1: 0.606)\n"
     ]
    },
    {
     "name": "stderr",
     "output_type": "stream",
     "text": [
      "100%|██████████████████████████████████████████| 16/16 [00:00<00:00, 115.18it/s]\n",
      " 50%|█████████████████████▌                     | 15/30 [00:05<00:05,  2.72it/s]"
     ]
    },
    {
     "name": "stdout",
     "output_type": "stream",
     "text": [
      "Epoch 14:  (best: False)train loss = 0.096 (auc: 0.897 f1: 0.671), validation loss = 0.098 (auc: 0.916 f1: 0.615)\n"
     ]
    },
    {
     "name": "stderr",
     "output_type": "stream",
     "text": [
      "100%|██████████████████████████████████████████| 16/16 [00:00<00:00, 116.21it/s]\n",
      " 53%|██████████████████████▉                    | 16/30 [00:06<00:05,  2.77it/s]"
     ]
    },
    {
     "name": "stdout",
     "output_type": "stream",
     "text": [
      "Epoch 15:  (best: True)train loss = 0.096 (auc: 0.896 f1: 0.665), validation loss = 0.098 (auc: 0.913 f1: 0.619)\n"
     ]
    },
    {
     "name": "stderr",
     "output_type": "stream",
     "text": [
      "100%|██████████████████████████████████████████| 16/16 [00:00<00:00, 128.68it/s]\n",
      " 57%|████████████████████████▎                  | 17/30 [00:06<00:04,  2.73it/s]"
     ]
    },
    {
     "name": "stdout",
     "output_type": "stream",
     "text": [
      "Epoch 16:  (best: True)train loss = 0.096 (auc: 0.898 f1: 0.676), validation loss = 0.098 (auc: 0.916 f1: 0.622)\n"
     ]
    },
    {
     "name": "stderr",
     "output_type": "stream",
     "text": [
      "100%|██████████████████████████████████████████| 16/16 [00:00<00:00, 112.04it/s]\n",
      " 60%|█████████████████████████▊                 | 18/30 [00:06<00:04,  2.72it/s]"
     ]
    },
    {
     "name": "stdout",
     "output_type": "stream",
     "text": [
      "Epoch 17:  (best: False)train loss = 0.096 (auc: 0.897 f1: 0.680), validation loss = 0.098 (auc: 0.914 f1: 0.620)\n"
     ]
    },
    {
     "name": "stderr",
     "output_type": "stream",
     "text": [
      "100%|██████████████████████████████████████████| 16/16 [00:00<00:00, 112.38it/s]\n",
      " 63%|███████████████████████████▏               | 19/30 [00:07<00:04,  2.69it/s]"
     ]
    },
    {
     "name": "stdout",
     "output_type": "stream",
     "text": [
      "Epoch 18:  (best: False)train loss = 0.095 (auc: 0.898 f1: 0.677), validation loss = 0.098 (auc: 0.915 f1: 0.612)\n"
     ]
    },
    {
     "name": "stderr",
     "output_type": "stream",
     "text": [
      "100%|██████████████████████████████████████████| 16/16 [00:00<00:00, 127.32it/s]\n",
      " 67%|████████████████████████████▋              | 20/30 [00:07<00:03,  2.71it/s]"
     ]
    },
    {
     "name": "stdout",
     "output_type": "stream",
     "text": [
      "Epoch 19:  (best: False)train loss = 0.095 (auc: 0.899 f1: 0.676), validation loss = 0.098 (auc: 0.914 f1: 0.618)\n"
     ]
    },
    {
     "name": "stderr",
     "output_type": "stream",
     "text": [
      "100%|██████████████████████████████████████████| 16/16 [00:00<00:00, 107.02it/s]\n",
      " 70%|██████████████████████████████             | 21/30 [00:07<00:03,  2.67it/s]"
     ]
    },
    {
     "name": "stdout",
     "output_type": "stream",
     "text": [
      "Epoch 20:  (best: False)train loss = 0.095 (auc: 0.897 f1: 0.677), validation loss = 0.098 (auc: 0.914 f1: 0.615)\n"
     ]
    },
    {
     "name": "stderr",
     "output_type": "stream",
     "text": [
      "100%|██████████████████████████████████████████| 16/16 [00:00<00:00, 112.77it/s]\n",
      " 73%|███████████████████████████████▌           | 22/30 [00:08<00:02,  2.69it/s]"
     ]
    },
    {
     "name": "stdout",
     "output_type": "stream",
     "text": [
      "Epoch 21:  (best: False)train loss = 0.095 (auc: 0.898 f1: 0.677), validation loss = 0.098 (auc: 0.913 f1: 0.612)\n"
     ]
    },
    {
     "name": "stderr",
     "output_type": "stream",
     "text": [
      "100%|██████████████████████████████████████████| 16/16 [00:00<00:00, 104.83it/s]\n",
      " 77%|████████████████████████████████▉          | 23/30 [00:08<00:02,  2.72it/s]"
     ]
    },
    {
     "name": "stdout",
     "output_type": "stream",
     "text": [
      "Epoch 22:  (best: False)train loss = 0.095 (auc: 0.898 f1: 0.681), validation loss = 0.098 (auc: 0.913 f1: 0.612)\n"
     ]
    },
    {
     "name": "stderr",
     "output_type": "stream",
     "text": [
      "100%|██████████████████████████████████████████| 16/16 [00:00<00:00, 121.14it/s]\n",
      " 80%|██████████████████████████████████▍        | 24/30 [00:09<00:02,  2.75it/s]"
     ]
    },
    {
     "name": "stdout",
     "output_type": "stream",
     "text": [
      "Epoch 23:  (best: False)train loss = 0.095 (auc: 0.898 f1: 0.676), validation loss = 0.098 (auc: 0.913 f1: 0.609)\n"
     ]
    },
    {
     "name": "stderr",
     "output_type": "stream",
     "text": [
      "100%|██████████████████████████████████████████| 16/16 [00:00<00:00, 126.90it/s]\n",
      " 83%|███████████████████████████████████▊       | 25/30 [00:09<00:01,  2.78it/s]"
     ]
    },
    {
     "name": "stdout",
     "output_type": "stream",
     "text": [
      "Epoch 24:  (best: False)train loss = 0.095 (auc: 0.896 f1: 0.682), validation loss = 0.098 (auc: 0.911 f1: 0.603)\n"
     ]
    },
    {
     "name": "stderr",
     "output_type": "stream",
     "text": [
      "100%|██████████████████████████████████████████| 16/16 [00:00<00:00, 114.16it/s]\n",
      " 87%|█████████████████████████████████████▎     | 26/30 [00:09<00:01,  2.77it/s]"
     ]
    },
    {
     "name": "stdout",
     "output_type": "stream",
     "text": [
      "Epoch 25:  (best: False)train loss = 0.095 (auc: 0.896 f1: 0.684), validation loss = 0.098 (auc: 0.911 f1: 0.614)\n"
     ]
    },
    {
     "name": "stderr",
     "output_type": "stream",
     "text": [
      "100%|██████████████████████████████████████████| 16/16 [00:00<00:00, 129.72it/s]\n",
      " 90%|██████████████████████████████████████▋    | 27/30 [00:10<00:01,  2.71it/s]"
     ]
    },
    {
     "name": "stdout",
     "output_type": "stream",
     "text": [
      "Epoch 26:  (best: False)train loss = 0.096 (auc: 0.897 f1: 0.683), validation loss = 0.098 (auc: 0.911 f1: 0.612)\n"
     ]
    },
    {
     "name": "stderr",
     "output_type": "stream",
     "text": [
      "100%|██████████████████████████████████████████| 16/16 [00:00<00:00, 126.59it/s]\n",
      " 93%|████████████████████████████████████████▏  | 28/30 [00:10<00:00,  2.76it/s]"
     ]
    },
    {
     "name": "stdout",
     "output_type": "stream",
     "text": [
      "Epoch 27:  (best: False)train loss = 0.095 (auc: 0.896 f1: 0.681), validation loss = 0.098 (auc: 0.911 f1: 0.608)\n"
     ]
    },
    {
     "name": "stderr",
     "output_type": "stream",
     "text": [
      "100%|██████████████████████████████████████████| 16/16 [00:00<00:00, 114.66it/s]\n",
      " 97%|█████████████████████████████████████████▌ | 29/30 [00:10<00:00,  2.72it/s]"
     ]
    },
    {
     "name": "stdout",
     "output_type": "stream",
     "text": [
      "Epoch 28:  (best: False)train loss = 0.095 (auc: 0.897 f1: 0.681), validation loss = 0.098 (auc: 0.911 f1: 0.607)\n"
     ]
    },
    {
     "name": "stderr",
     "output_type": "stream",
     "text": [
      "100%|██████████████████████████████████████████| 16/16 [00:00<00:00, 132.45it/s]\n",
      "100%|███████████████████████████████████████████| 30/30 [00:11<00:00,  2.67it/s]\n"
     ]
    },
    {
     "name": "stdout",
     "output_type": "stream",
     "text": [
      "Epoch 29:  (best: False)train loss = 0.095 (auc: 0.896 f1: 0.684), validation loss = 0.098 (auc: 0.910 f1: 0.618)\n"
     ]
    },
    {
     "name": "stderr",
     "output_type": "stream",
     "text": [
      "100%|██████████████████████████████████████████| 16/16 [00:00<00:00, 101.93it/s]\n",
      "  3%|█▍                                          | 1/30 [00:00<00:10,  2.69it/s]"
     ]
    },
    {
     "name": "stdout",
     "output_type": "stream",
     "text": [
      "Epoch 0:  (best: True)train loss = 0.113 (auc: 0.886 f1: 0.165), validation loss = 0.113 (auc: 0.895 f1: 0.160)\n"
     ]
    },
    {
     "name": "stderr",
     "output_type": "stream",
     "text": [
      "100%|██████████████████████████████████████████| 16/16 [00:00<00:00, 121.27it/s]\n",
      "  7%|██▉                                         | 2/30 [00:00<00:10,  2.59it/s]"
     ]
    },
    {
     "name": "stdout",
     "output_type": "stream",
     "text": [
      "Epoch 1:  (best: True)train loss = 0.105 (auc: 0.867 f1: 0.353), validation loss = 0.106 (auc: 0.887 f1: 0.342)\n"
     ]
    },
    {
     "name": "stderr",
     "output_type": "stream",
     "text": [
      "100%|██████████████████████████████████████████| 16/16 [00:00<00:00, 120.48it/s]\n",
      " 10%|████▍                                       | 3/30 [00:01<00:10,  2.57it/s]"
     ]
    },
    {
     "name": "stdout",
     "output_type": "stream",
     "text": [
      "Epoch 2:  (best: True)train loss = 0.102 (auc: 0.883 f1: 0.488), validation loss = 0.102 (auc: 0.901 f1: 0.474)\n"
     ]
    },
    {
     "name": "stderr",
     "output_type": "stream",
     "text": [
      "100%|██████████████████████████████████████████| 16/16 [00:00<00:00, 118.13it/s]\n",
      " 13%|█████▊                                      | 4/30 [00:01<00:09,  2.64it/s]"
     ]
    },
    {
     "name": "stdout",
     "output_type": "stream",
     "text": [
      "Epoch 3:  (best: True)train loss = 0.100 (auc: 0.880 f1: 0.560), validation loss = 0.100 (auc: 0.896 f1: 0.547)\n"
     ]
    },
    {
     "name": "stderr",
     "output_type": "stream",
     "text": [
      "100%|██████████████████████████████████████████| 16/16 [00:00<00:00, 109.33it/s]\n",
      " 17%|███████▎                                    | 5/30 [00:01<00:09,  2.66it/s]"
     ]
    },
    {
     "name": "stdout",
     "output_type": "stream",
     "text": [
      "Epoch 4:  (best: True)train loss = 0.099 (auc: 0.891 f1: 0.582), validation loss = 0.099 (auc: 0.909 f1: 0.554)\n"
     ]
    },
    {
     "name": "stderr",
     "output_type": "stream",
     "text": [
      "100%|██████████████████████████████████████████| 16/16 [00:00<00:00, 107.72it/s]\n",
      " 20%|████████▊                                   | 6/30 [00:02<00:08,  2.69it/s]"
     ]
    },
    {
     "name": "stdout",
     "output_type": "stream",
     "text": [
      "Epoch 5:  (best: True)train loss = 0.097 (auc: 0.897 f1: 0.618), validation loss = 0.098 (auc: 0.912 f1: 0.601)\n"
     ]
    },
    {
     "name": "stderr",
     "output_type": "stream",
     "text": [
      "100%|██████████████████████████████████████████| 16/16 [00:00<00:00, 122.83it/s]\n",
      " 23%|██████████▎                                 | 7/30 [00:02<00:08,  2.71it/s]"
     ]
    },
    {
     "name": "stdout",
     "output_type": "stream",
     "text": [
      "Epoch 6:  (best: True)train loss = 0.097 (auc: 0.897 f1: 0.645), validation loss = 0.098 (auc: 0.913 f1: 0.616)\n"
     ]
    },
    {
     "name": "stderr",
     "output_type": "stream",
     "text": [
      "100%|██████████████████████████████████████████| 16/16 [00:00<00:00, 120.69it/s]\n",
      " 27%|███████████▋                                | 8/30 [00:02<00:08,  2.73it/s]"
     ]
    },
    {
     "name": "stdout",
     "output_type": "stream",
     "text": [
      "Epoch 7:  (best: False)train loss = 0.096 (auc: 0.897 f1: 0.646), validation loss = 0.098 (auc: 0.913 f1: 0.612)\n"
     ]
    },
    {
     "name": "stderr",
     "output_type": "stream",
     "text": [
      "100%|██████████████████████████████████████████| 16/16 [00:00<00:00, 105.58it/s]\n",
      " 30%|█████████████▏                              | 9/30 [00:03<00:07,  2.67it/s]"
     ]
    },
    {
     "name": "stdout",
     "output_type": "stream",
     "text": [
      "Epoch 8:  (best: True)train loss = 0.096 (auc: 0.900 f1: 0.651), validation loss = 0.098 (auc: 0.915 f1: 0.617)\n"
     ]
    },
    {
     "name": "stderr",
     "output_type": "stream",
     "text": [
      "100%|██████████████████████████████████████████| 16/16 [00:00<00:00, 100.80it/s]\n",
      " 33%|██████████████▎                            | 10/30 [00:03<00:07,  2.64it/s]"
     ]
    },
    {
     "name": "stdout",
     "output_type": "stream",
     "text": [
      "Epoch 9:  (best: True)train loss = 0.096 (auc: 0.904 f1: 0.661), validation loss = 0.098 (auc: 0.922 f1: 0.626)\n"
     ]
    },
    {
     "name": "stderr",
     "output_type": "stream",
     "text": [
      "100%|██████████████████████████████████████████| 16/16 [00:00<00:00, 120.88it/s]\n",
      " 37%|███████████████▊                           | 11/30 [00:04<00:07,  2.65it/s]"
     ]
    },
    {
     "name": "stdout",
     "output_type": "stream",
     "text": [
      "Epoch 10:  (best: False)train loss = 0.096 (auc: 0.903 f1: 0.668), validation loss = 0.098 (auc: 0.921 f1: 0.618)\n"
     ]
    },
    {
     "name": "stderr",
     "output_type": "stream",
     "text": [
      "100%|██████████████████████████████████████████| 16/16 [00:00<00:00, 102.17it/s]\n",
      " 40%|█████████████████▏                         | 12/30 [00:04<00:06,  2.62it/s]"
     ]
    },
    {
     "name": "stdout",
     "output_type": "stream",
     "text": [
      "Epoch 11:  (best: True)train loss = 0.096 (auc: 0.907 f1: 0.704), validation loss = 0.098 (auc: 0.919 f1: 0.635)\n"
     ]
    },
    {
     "name": "stderr",
     "output_type": "stream",
     "text": [
      "100%|██████████████████████████████████████████| 16/16 [00:00<00:00, 100.24it/s]\n",
      " 43%|██████████████████▋                        | 13/30 [00:04<00:06,  2.64it/s]"
     ]
    },
    {
     "name": "stdout",
     "output_type": "stream",
     "text": [
      "Epoch 12:  (best: False)train loss = 0.095 (auc: 0.910 f1: 0.705), validation loss = 0.098 (auc: 0.923 f1: 0.634)\n"
     ]
    },
    {
     "name": "stderr",
     "output_type": "stream",
     "text": [
      "100%|██████████████████████████████████████████| 16/16 [00:00<00:00, 113.68it/s]\n",
      " 47%|████████████████████                       | 14/30 [00:05<00:06,  2.62it/s]"
     ]
    },
    {
     "name": "stdout",
     "output_type": "stream",
     "text": [
      "Epoch 13:  (best: True)train loss = 0.095 (auc: 0.912 f1: 0.705), validation loss = 0.098 (auc: 0.924 f1: 0.639)\n"
     ]
    },
    {
     "name": "stderr",
     "output_type": "stream",
     "text": [
      "100%|██████████████████████████████████████████| 16/16 [00:00<00:00, 111.45it/s]\n",
      " 50%|█████████████████████▌                     | 15/30 [00:05<00:05,  2.59it/s]"
     ]
    },
    {
     "name": "stdout",
     "output_type": "stream",
     "text": [
      "Epoch 14:  (best: False)train loss = 0.094 (auc: 0.914 f1: 0.736), validation loss = 0.098 (auc: 0.923 f1: 0.632)\n"
     ]
    },
    {
     "name": "stderr",
     "output_type": "stream",
     "text": [
      "100%|██████████████████████████████████████████| 16/16 [00:00<00:00, 119.90it/s]\n",
      " 53%|██████████████████████▉                    | 16/30 [00:06<00:05,  2.60it/s]"
     ]
    },
    {
     "name": "stdout",
     "output_type": "stream",
     "text": [
      "Epoch 15:  (best: False)train loss = 0.095 (auc: 0.914 f1: 0.738), validation loss = 0.098 (auc: 0.919 f1: 0.633)\n"
     ]
    },
    {
     "name": "stderr",
     "output_type": "stream",
     "text": [
      "100%|██████████████████████████████████████████| 16/16 [00:00<00:00, 140.03it/s]\n",
      " 57%|████████████████████████▎                  | 17/30 [00:06<00:04,  2.67it/s]"
     ]
    },
    {
     "name": "stdout",
     "output_type": "stream",
     "text": [
      "Epoch 16:  (best: False)train loss = 0.094 (auc: 0.912 f1: 0.729), validation loss = 0.098 (auc: 0.922 f1: 0.638)\n"
     ]
    },
    {
     "name": "stderr",
     "output_type": "stream",
     "text": [
      "100%|██████████████████████████████████████████| 16/16 [00:00<00:00, 115.81it/s]\n",
      " 60%|█████████████████████████▊                 | 18/30 [00:06<00:04,  2.62it/s]"
     ]
    },
    {
     "name": "stdout",
     "output_type": "stream",
     "text": [
      "Epoch 17:  (best: True)train loss = 0.094 (auc: 0.915 f1: 0.744), validation loss = 0.098 (auc: 0.918 f1: 0.647)\n"
     ]
    },
    {
     "name": "stderr",
     "output_type": "stream",
     "text": [
      "100%|██████████████████████████████████████████| 16/16 [00:00<00:00, 122.60it/s]\n",
      " 63%|███████████████████████████▏               | 19/30 [00:07<00:04,  2.69it/s]"
     ]
    },
    {
     "name": "stdout",
     "output_type": "stream",
     "text": [
      "Epoch 18:  (best: False)train loss = 0.094 (auc: 0.913 f1: 0.735), validation loss = 0.098 (auc: 0.921 f1: 0.643)\n"
     ]
    },
    {
     "name": "stderr",
     "output_type": "stream",
     "text": [
      "100%|███████████████████████████████████████████| 16/16 [00:00<00:00, 99.68it/s]\n",
      " 67%|████████████████████████████▋              | 20/30 [00:07<00:03,  2.69it/s]"
     ]
    },
    {
     "name": "stdout",
     "output_type": "stream",
     "text": [
      "Epoch 19:  (best: False)train loss = 0.094 (auc: 0.914 f1: 0.742), validation loss = 0.098 (auc: 0.915 f1: 0.643)\n"
     ]
    },
    {
     "name": "stderr",
     "output_type": "stream",
     "text": [
      "100%|██████████████████████████████████████████| 16/16 [00:00<00:00, 109.53it/s]\n",
      " 70%|██████████████████████████████             | 21/30 [00:07<00:03,  2.70it/s]"
     ]
    },
    {
     "name": "stdout",
     "output_type": "stream",
     "text": [
      "Epoch 20:  (best: False)train loss = 0.094 (auc: 0.909 f1: 0.735), validation loss = 0.098 (auc: 0.919 f1: 0.635)\n"
     ]
    },
    {
     "name": "stderr",
     "output_type": "stream",
     "text": [
      "100%|███████████████████████████████████████████| 16/16 [00:00<00:00, 99.85it/s]\n",
      " 73%|███████████████████████████████▌           | 22/30 [00:08<00:03,  2.61it/s]"
     ]
    },
    {
     "name": "stdout",
     "output_type": "stream",
     "text": [
      "Epoch 21:  (best: False)train loss = 0.094 (auc: 0.913 f1: 0.731), validation loss = 0.097 (auc: 0.919 f1: 0.645)\n"
     ]
    },
    {
     "name": "stderr",
     "output_type": "stream",
     "text": [
      "100%|██████████████████████████████████████████| 16/16 [00:00<00:00, 114.11it/s]\n",
      " 77%|████████████████████████████████▉          | 23/30 [00:08<00:02,  2.64it/s]"
     ]
    },
    {
     "name": "stdout",
     "output_type": "stream",
     "text": [
      "Epoch 22:  (best: False)train loss = 0.094 (auc: 0.914 f1: 0.744), validation loss = 0.098 (auc: 0.915 f1: 0.635)\n"
     ]
    },
    {
     "name": "stderr",
     "output_type": "stream",
     "text": [
      "100%|██████████████████████████████████████████| 16/16 [00:00<00:00, 105.03it/s]\n",
      " 80%|██████████████████████████████████▍        | 24/30 [00:09<00:02,  2.64it/s]"
     ]
    },
    {
     "name": "stdout",
     "output_type": "stream",
     "text": [
      "Epoch 23:  (best: False)train loss = 0.094 (auc: 0.914 f1: 0.746), validation loss = 0.097 (auc: 0.914 f1: 0.647)\n"
     ]
    },
    {
     "name": "stderr",
     "output_type": "stream",
     "text": [
      "100%|██████████████████████████████████████████| 16/16 [00:00<00:00, 100.13it/s]\n",
      " 83%|███████████████████████████████████▊       | 25/30 [00:09<00:01,  2.57it/s]"
     ]
    },
    {
     "name": "stdout",
     "output_type": "stream",
     "text": [
      "Epoch 24:  (best: False)train loss = 0.094 (auc: 0.914 f1: 0.744), validation loss = 0.097 (auc: 0.916 f1: 0.642)\n"
     ]
    },
    {
     "name": "stderr",
     "output_type": "stream",
     "text": [
      "100%|██████████████████████████████████████████| 16/16 [00:00<00:00, 117.82it/s]\n",
      " 87%|█████████████████████████████████████▎     | 26/30 [00:09<00:01,  2.64it/s]"
     ]
    },
    {
     "name": "stdout",
     "output_type": "stream",
     "text": [
      "Epoch 25:  (best: False)train loss = 0.094 (auc: 0.909 f1: 0.740), validation loss = 0.097 (auc: 0.915 f1: 0.642)\n"
     ]
    },
    {
     "name": "stderr",
     "output_type": "stream",
     "text": [
      "100%|██████████████████████████████████████████| 16/16 [00:00<00:00, 113.60it/s]\n",
      " 90%|██████████████████████████████████████▋    | 27/30 [00:10<00:01,  2.65it/s]"
     ]
    },
    {
     "name": "stdout",
     "output_type": "stream",
     "text": [
      "Epoch 26:  (best: False)train loss = 0.094 (auc: 0.913 f1: 0.742), validation loss = 0.097 (auc: 0.914 f1: 0.631)\n"
     ]
    },
    {
     "name": "stderr",
     "output_type": "stream",
     "text": [
      "100%|██████████████████████████████████████████| 16/16 [00:00<00:00, 121.31it/s]\n",
      " 93%|████████████████████████████████████████▏  | 28/30 [00:10<00:00,  2.64it/s]"
     ]
    },
    {
     "name": "stdout",
     "output_type": "stream",
     "text": [
      "Epoch 27:  (best: False)train loss = 0.094 (auc: 0.913 f1: 0.742), validation loss = 0.097 (auc: 0.913 f1: 0.639)\n"
     ]
    },
    {
     "name": "stderr",
     "output_type": "stream",
     "text": [
      "100%|██████████████████████████████████████████| 16/16 [00:00<00:00, 124.23it/s]\n",
      " 97%|█████████████████████████████████████████▌ | 29/30 [00:10<00:00,  2.58it/s]"
     ]
    },
    {
     "name": "stdout",
     "output_type": "stream",
     "text": [
      "Epoch 28:  (best: True)train loss = 0.094 (auc: 0.913 f1: 0.749), validation loss = 0.097 (auc: 0.913 f1: 0.648)\n"
     ]
    },
    {
     "name": "stderr",
     "output_type": "stream",
     "text": [
      "100%|██████████████████████████████████████████| 16/16 [00:00<00:00, 121.18it/s]\n",
      "100%|███████████████████████████████████████████| 30/30 [00:11<00:00,  2.63it/s]\n"
     ]
    },
    {
     "name": "stdout",
     "output_type": "stream",
     "text": [
      "Epoch 29:  (best: False)train loss = 0.094 (auc: 0.911 f1: 0.751), validation loss = 0.097 (auc: 0.913 f1: 0.643)\n"
     ]
    },
    {
     "name": "stderr",
     "output_type": "stream",
     "text": [
      "100%|██████████████████████████████████████████| 16/16 [00:00<00:00, 109.40it/s]\n",
      "  3%|█▍                                          | 1/30 [00:00<00:10,  2.82it/s]"
     ]
    },
    {
     "name": "stdout",
     "output_type": "stream",
     "text": [
      "Epoch 0:  (best: True)train loss = 0.113 (auc: 0.826 f1: 0.136), validation loss = 0.113 (auc: 0.851 f1: 0.103)\n"
     ]
    },
    {
     "name": "stderr",
     "output_type": "stream",
     "text": [
      "100%|██████████████████████████████████████████| 16/16 [00:00<00:00, 116.71it/s]\n",
      "  7%|██▉                                         | 2/30 [00:00<00:10,  2.75it/s]"
     ]
    },
    {
     "name": "stdout",
     "output_type": "stream",
     "text": [
      "Epoch 1:  (best: True)train loss = 0.105 (auc: 0.853 f1: 0.384), validation loss = 0.105 (auc: 0.869 f1: 0.389)\n"
     ]
    },
    {
     "name": "stderr",
     "output_type": "stream",
     "text": [
      "100%|██████████████████████████████████████████| 16/16 [00:00<00:00, 121.88it/s]\n",
      " 10%|████▍                                       | 3/30 [00:01<00:10,  2.65it/s]"
     ]
    },
    {
     "name": "stdout",
     "output_type": "stream",
     "text": [
      "Epoch 2:  (best: True)train loss = 0.101 (auc: 0.874 f1: 0.525), validation loss = 0.100 (auc: 0.893 f1: 0.520)\n"
     ]
    },
    {
     "name": "stderr",
     "output_type": "stream",
     "text": [
      "100%|███████████████████████████████████████████| 16/16 [00:00<00:00, 81.60it/s]\n",
      " 13%|█████▊                                      | 4/30 [00:01<00:10,  2.53it/s]"
     ]
    },
    {
     "name": "stdout",
     "output_type": "stream",
     "text": [
      "Epoch 3:  (best: True)train loss = 0.099 (auc: 0.876 f1: 0.553), validation loss = 0.099 (auc: 0.894 f1: 0.544)\n"
     ]
    },
    {
     "name": "stderr",
     "output_type": "stream",
     "text": [
      "100%|███████████████████████████████████████████| 16/16 [00:00<00:00, 91.32it/s]\n",
      " 17%|███████▎                                    | 5/30 [00:01<00:09,  2.52it/s]"
     ]
    },
    {
     "name": "stdout",
     "output_type": "stream",
     "text": [
      "Epoch 4:  (best: False)train loss = 0.098 (auc: 0.875 f1: 0.559), validation loss = 0.099 (auc: 0.897 f1: 0.540)\n"
     ]
    },
    {
     "name": "stderr",
     "output_type": "stream",
     "text": [
      "100%|██████████████████████████████████████████| 16/16 [00:00<00:00, 121.70it/s]\n",
      " 20%|████████▊                                   | 6/30 [00:02<00:09,  2.63it/s]"
     ]
    },
    {
     "name": "stdout",
     "output_type": "stream",
     "text": [
      "Epoch 5:  (best: False)train loss = 0.098 (auc: 0.875 f1: 0.563), validation loss = 0.099 (auc: 0.897 f1: 0.541)\n"
     ]
    },
    {
     "name": "stderr",
     "output_type": "stream",
     "text": [
      "100%|██████████████████████████████████████████| 16/16 [00:00<00:00, 117.87it/s]\n",
      " 23%|██████████▎                                 | 7/30 [00:02<00:08,  2.59it/s]"
     ]
    },
    {
     "name": "stdout",
     "output_type": "stream",
     "text": [
      "Epoch 6:  (best: False)train loss = 0.098 (auc: 0.876 f1: 0.568), validation loss = 0.099 (auc: 0.899 f1: 0.537)\n"
     ]
    },
    {
     "name": "stderr",
     "output_type": "stream",
     "text": [
      "100%|███████████████████████████████████████████| 16/16 [00:00<00:00, 89.05it/s]\n",
      " 27%|███████████▋                                | 8/30 [00:03<00:08,  2.50it/s]"
     ]
    },
    {
     "name": "stdout",
     "output_type": "stream",
     "text": [
      "Epoch 7:  (best: True)train loss = 0.098 (auc: 0.876 f1: 0.598), validation loss = 0.099 (auc: 0.898 f1: 0.562)\n"
     ]
    },
    {
     "name": "stderr",
     "output_type": "stream",
     "text": [
      "100%|██████████████████████████████████████████| 16/16 [00:00<00:00, 128.97it/s]\n",
      " 30%|█████████████▏                              | 9/30 [00:03<00:08,  2.53it/s]"
     ]
    },
    {
     "name": "stdout",
     "output_type": "stream",
     "text": [
      "Epoch 8:  (best: False)train loss = 0.098 (auc: 0.879 f1: 0.605), validation loss = 0.099 (auc: 0.902 f1: 0.558)\n"
     ]
    },
    {
     "name": "stderr",
     "output_type": "stream",
     "text": [
      "100%|██████████████████████████████████████████| 16/16 [00:00<00:00, 108.45it/s]\n",
      " 33%|██████████████▎                            | 10/30 [00:03<00:07,  2.57it/s]"
     ]
    },
    {
     "name": "stdout",
     "output_type": "stream",
     "text": [
      "Epoch 9:  (best: False)train loss = 0.097 (auc: 0.875 f1: 0.595), validation loss = 0.099 (auc: 0.899 f1: 0.550)\n"
     ]
    },
    {
     "name": "stderr",
     "output_type": "stream",
     "text": [
      "100%|██████████████████████████████████████████| 16/16 [00:00<00:00, 124.51it/s]\n",
      " 37%|███████████████▊                           | 11/30 [00:04<00:07,  2.57it/s]"
     ]
    },
    {
     "name": "stdout",
     "output_type": "stream",
     "text": [
      "Epoch 10:  (best: True)train loss = 0.097 (auc: 0.876 f1: 0.612), validation loss = 0.099 (auc: 0.897 f1: 0.570)\n"
     ]
    },
    {
     "name": "stderr",
     "output_type": "stream",
     "text": [
      "100%|██████████████████████████████████████████| 16/16 [00:00<00:00, 134.44it/s]\n",
      " 40%|█████████████████▏                         | 12/30 [00:04<00:06,  2.61it/s]"
     ]
    },
    {
     "name": "stdout",
     "output_type": "stream",
     "text": [
      "Epoch 11:  (best: False)train loss = 0.097 (auc: 0.878 f1: 0.619), validation loss = 0.099 (auc: 0.900 f1: 0.563)\n"
     ]
    },
    {
     "name": "stderr",
     "output_type": "stream",
     "text": [
      "100%|██████████████████████████████████████████| 16/16 [00:00<00:00, 109.13it/s]\n",
      " 43%|██████████████████▋                        | 13/30 [00:05<00:06,  2.64it/s]"
     ]
    },
    {
     "name": "stdout",
     "output_type": "stream",
     "text": [
      "Epoch 12:  (best: True)train loss = 0.097 (auc: 0.885 f1: 0.657), validation loss = 0.099 (auc: 0.907 f1: 0.589)\n"
     ]
    },
    {
     "name": "stderr",
     "output_type": "stream",
     "text": [
      "100%|██████████████████████████████████████████| 16/16 [00:00<00:00, 121.05it/s]\n",
      " 47%|████████████████████                       | 14/30 [00:05<00:05,  2.67it/s]"
     ]
    },
    {
     "name": "stdout",
     "output_type": "stream",
     "text": [
      "Epoch 13:  (best: False)train loss = 0.097 (auc: 0.884 f1: 0.644), validation loss = 0.099 (auc: 0.903 f1: 0.575)\n"
     ]
    },
    {
     "name": "stderr",
     "output_type": "stream",
     "text": [
      "100%|██████████████████████████████████████████| 16/16 [00:00<00:00, 119.37it/s]\n",
      " 50%|█████████████████████▌                     | 15/30 [00:05<00:05,  2.72it/s]"
     ]
    },
    {
     "name": "stdout",
     "output_type": "stream",
     "text": [
      "Epoch 14:  (best: False)train loss = 0.096 (auc: 0.880 f1: 0.660), validation loss = 0.099 (auc: 0.903 f1: 0.585)\n"
     ]
    },
    {
     "name": "stderr",
     "output_type": "stream",
     "text": [
      "100%|██████████████████████████████████████████| 16/16 [00:00<00:00, 120.88it/s]\n",
      " 53%|██████████████████████▉                    | 16/30 [00:06<00:05,  2.72it/s]"
     ]
    },
    {
     "name": "stdout",
     "output_type": "stream",
     "text": [
      "Epoch 15:  (best: True)train loss = 0.096 (auc: 0.882 f1: 0.658), validation loss = 0.099 (auc: 0.900 f1: 0.591)\n"
     ]
    },
    {
     "name": "stderr",
     "output_type": "stream",
     "text": [
      "100%|██████████████████████████████████████████| 16/16 [00:00<00:00, 102.09it/s]\n",
      " 57%|████████████████████████▎                  | 17/30 [00:06<00:04,  2.64it/s]"
     ]
    },
    {
     "name": "stdout",
     "output_type": "stream",
     "text": [
      "Epoch 16:  (best: True)train loss = 0.096 (auc: 0.882 f1: 0.666), validation loss = 0.099 (auc: 0.902 f1: 0.597)\n"
     ]
    },
    {
     "name": "stderr",
     "output_type": "stream",
     "text": [
      "100%|██████████████████████████████████████████| 16/16 [00:00<00:00, 102.36it/s]\n",
      " 60%|█████████████████████████▊                 | 18/30 [00:06<00:04,  2.60it/s]"
     ]
    },
    {
     "name": "stdout",
     "output_type": "stream",
     "text": [
      "Epoch 17:  (best: False)train loss = 0.096 (auc: 0.881 f1: 0.657), validation loss = 0.099 (auc: 0.900 f1: 0.591)\n"
     ]
    },
    {
     "name": "stderr",
     "output_type": "stream",
     "text": [
      "100%|██████████████████████████████████████████| 16/16 [00:00<00:00, 117.79it/s]\n",
      " 63%|███████████████████████████▏               | 19/30 [00:07<00:04,  2.63it/s]"
     ]
    },
    {
     "name": "stdout",
     "output_type": "stream",
     "text": [
      "Epoch 18:  (best: True)train loss = 0.096 (auc: 0.878 f1: 0.668), validation loss = 0.099 (auc: 0.898 f1: 0.599)\n"
     ]
    },
    {
     "name": "stderr",
     "output_type": "stream",
     "text": [
      "100%|██████████████████████████████████████████| 16/16 [00:00<00:00, 101.38it/s]\n",
      " 67%|████████████████████████████▋              | 20/30 [00:07<00:03,  2.67it/s]"
     ]
    },
    {
     "name": "stdout",
     "output_type": "stream",
     "text": [
      "Epoch 19:  (best: False)train loss = 0.096 (auc: 0.880 f1: 0.668), validation loss = 0.099 (auc: 0.901 f1: 0.590)\n"
     ]
    },
    {
     "name": "stderr",
     "output_type": "stream",
     "text": [
      "100%|██████████████████████████████████████████| 16/16 [00:00<00:00, 105.80it/s]\n",
      " 70%|██████████████████████████████             | 21/30 [00:08<00:03,  2.66it/s]"
     ]
    },
    {
     "name": "stdout",
     "output_type": "stream",
     "text": [
      "Epoch 20:  (best: False)train loss = 0.096 (auc: 0.881 f1: 0.668), validation loss = 0.099 (auc: 0.899 f1: 0.590)\n"
     ]
    },
    {
     "name": "stderr",
     "output_type": "stream",
     "text": [
      "100%|██████████████████████████████████████████| 16/16 [00:00<00:00, 110.64it/s]\n",
      " 73%|███████████████████████████████▌           | 22/30 [00:08<00:03,  2.64it/s]"
     ]
    },
    {
     "name": "stdout",
     "output_type": "stream",
     "text": [
      "Epoch 21:  (best: False)train loss = 0.095 (auc: 0.880 f1: 0.675), validation loss = 0.099 (auc: 0.899 f1: 0.590)\n"
     ]
    },
    {
     "name": "stderr",
     "output_type": "stream",
     "text": [
      "100%|██████████████████████████████████████████| 16/16 [00:00<00:00, 103.11it/s]\n",
      " 77%|████████████████████████████████▉          | 23/30 [00:08<00:02,  2.56it/s]"
     ]
    },
    {
     "name": "stdout",
     "output_type": "stream",
     "text": [
      "Epoch 22:  (best: False)train loss = 0.095 (auc: 0.881 f1: 0.685), validation loss = 0.099 (auc: 0.900 f1: 0.588)\n"
     ]
    },
    {
     "name": "stderr",
     "output_type": "stream",
     "text": [
      "100%|██████████████████████████████████████████| 16/16 [00:00<00:00, 127.86it/s]\n",
      " 80%|██████████████████████████████████▍        | 24/30 [00:09<00:02,  2.58it/s]"
     ]
    },
    {
     "name": "stdout",
     "output_type": "stream",
     "text": [
      "Epoch 23:  (best: False)train loss = 0.095 (auc: 0.882 f1: 0.685), validation loss = 0.099 (auc: 0.900 f1: 0.596)\n"
     ]
    },
    {
     "name": "stderr",
     "output_type": "stream",
     "text": [
      "100%|██████████████████████████████████████████| 16/16 [00:00<00:00, 119.73it/s]\n",
      " 83%|███████████████████████████████████▊       | 25/30 [00:09<00:01,  2.63it/s]"
     ]
    },
    {
     "name": "stdout",
     "output_type": "stream",
     "text": [
      "Epoch 24:  (best: False)train loss = 0.095 (auc: 0.882 f1: 0.688), validation loss = 0.099 (auc: 0.901 f1: 0.598)\n"
     ]
    },
    {
     "name": "stderr",
     "output_type": "stream",
     "text": [
      "100%|██████████████████████████████████████████| 16/16 [00:00<00:00, 124.70it/s]\n",
      " 87%|█████████████████████████████████████▎     | 26/30 [00:09<00:01,  2.66it/s]"
     ]
    },
    {
     "name": "stdout",
     "output_type": "stream",
     "text": [
      "Epoch 25:  (best: False)train loss = 0.095 (auc: 0.882 f1: 0.680), validation loss = 0.098 (auc: 0.901 f1: 0.584)\n"
     ]
    },
    {
     "name": "stderr",
     "output_type": "stream",
     "text": [
      "100%|██████████████████████████████████████████| 16/16 [00:00<00:00, 106.38it/s]\n",
      " 90%|██████████████████████████████████████▋    | 27/30 [00:10<00:01,  2.64it/s]"
     ]
    },
    {
     "name": "stdout",
     "output_type": "stream",
     "text": [
      "Epoch 26:  (best: False)train loss = 0.095 (auc: 0.883 f1: 0.683), validation loss = 0.098 (auc: 0.901 f1: 0.597)\n"
     ]
    },
    {
     "name": "stderr",
     "output_type": "stream",
     "text": [
      "100%|██████████████████████████████████████████| 16/16 [00:00<00:00, 115.99it/s]\n",
      " 93%|████████████████████████████████████████▏  | 28/30 [00:10<00:00,  2.67it/s]"
     ]
    },
    {
     "name": "stdout",
     "output_type": "stream",
     "text": [
      "Epoch 27:  (best: False)train loss = 0.095 (auc: 0.881 f1: 0.683), validation loss = 0.099 (auc: 0.899 f1: 0.590)\n"
     ]
    },
    {
     "name": "stderr",
     "output_type": "stream",
     "text": [
      "100%|██████████████████████████████████████████| 16/16 [00:00<00:00, 106.55it/s]\n",
      " 97%|█████████████████████████████████████████▌ | 29/30 [00:11<00:00,  2.60it/s]"
     ]
    },
    {
     "name": "stdout",
     "output_type": "stream",
     "text": [
      "Epoch 28:  (best: False)train loss = 0.095 (auc: 0.881 f1: 0.683), validation loss = 0.098 (auc: 0.900 f1: 0.588)\n"
     ]
    },
    {
     "name": "stderr",
     "output_type": "stream",
     "text": [
      "100%|██████████████████████████████████████████| 16/16 [00:00<00:00, 109.26it/s]\n",
      "100%|███████████████████████████████████████████| 30/30 [00:11<00:00,  2.62it/s]\n"
     ]
    },
    {
     "name": "stdout",
     "output_type": "stream",
     "text": [
      "Epoch 29:  (best: False)train loss = 0.095 (auc: 0.883 f1: 0.687), validation loss = 0.098 (auc: 0.900 f1: 0.596)\n"
     ]
    },
    {
     "name": "stderr",
     "output_type": "stream",
     "text": [
      "100%|██████████████████████████████████████████| 16/16 [00:00<00:00, 123.09it/s]\n",
      "  3%|█▍                                          | 1/30 [00:00<00:11,  2.57it/s]"
     ]
    },
    {
     "name": "stdout",
     "output_type": "stream",
     "text": [
      "Epoch 0:  (best: True)train loss = 0.114 (auc: 0.885 f1: 0.275), validation loss = 0.114 (auc: 0.896 f1: 0.292)\n"
     ]
    },
    {
     "name": "stderr",
     "output_type": "stream",
     "text": [
      "100%|██████████████████████████████████████████| 16/16 [00:00<00:00, 111.37it/s]\n",
      "  7%|██▉                                         | 2/30 [00:00<00:11,  2.51it/s]"
     ]
    },
    {
     "name": "stdout",
     "output_type": "stream",
     "text": [
      "Epoch 1:  (best: True)train loss = 0.105 (auc: 0.846 f1: 0.437), validation loss = 0.106 (auc: 0.861 f1: 0.416)\n"
     ]
    },
    {
     "name": "stderr",
     "output_type": "stream",
     "text": [
      "100%|██████████████████████████████████████████| 16/16 [00:00<00:00, 127.02it/s]\n",
      " 10%|████▍                                       | 3/30 [00:01<00:09,  2.74it/s]"
     ]
    },
    {
     "name": "stdout",
     "output_type": "stream",
     "text": [
      "Epoch 2:  (best: True)train loss = 0.101 (auc: 0.884 f1: 0.488), validation loss = 0.101 (auc: 0.901 f1: 0.479)\n"
     ]
    },
    {
     "name": "stderr",
     "output_type": "stream",
     "text": [
      "100%|██████████████████████████████████████████| 16/16 [00:00<00:00, 117.37it/s]\n",
      " 13%|█████▊                                      | 4/30 [00:01<00:09,  2.78it/s]"
     ]
    },
    {
     "name": "stdout",
     "output_type": "stream",
     "text": [
      "Epoch 3:  (best: True)train loss = 0.100 (auc: 0.875 f1: 0.496), validation loss = 0.101 (auc: 0.892 f1: 0.484)\n"
     ]
    },
    {
     "name": "stderr",
     "output_type": "stream",
     "text": [
      "100%|██████████████████████████████████████████| 16/16 [00:00<00:00, 124.62it/s]\n",
      " 17%|███████▎                                    | 5/30 [00:01<00:08,  2.79it/s]"
     ]
    },
    {
     "name": "stdout",
     "output_type": "stream",
     "text": [
      "Epoch 4:  (best: True)train loss = 0.099 (auc: 0.883 f1: 0.558), validation loss = 0.099 (auc: 0.903 f1: 0.537)\n"
     ]
    },
    {
     "name": "stderr",
     "output_type": "stream",
     "text": [
      "100%|██████████████████████████████████████████| 16/16 [00:00<00:00, 115.75it/s]\n",
      " 20%|████████▊                                   | 6/30 [00:02<00:08,  2.77it/s]"
     ]
    },
    {
     "name": "stdout",
     "output_type": "stream",
     "text": [
      "Epoch 5:  (best: False)train loss = 0.098 (auc: 0.878 f1: 0.566), validation loss = 0.099 (auc: 0.897 f1: 0.537)\n"
     ]
    },
    {
     "name": "stderr",
     "output_type": "stream",
     "text": [
      "100%|██████████████████████████████████████████| 16/16 [00:00<00:00, 111.25it/s]\n",
      " 23%|██████████▎                                 | 7/30 [00:02<00:08,  2.77it/s]"
     ]
    },
    {
     "name": "stdout",
     "output_type": "stream",
     "text": [
      "Epoch 6:  (best: True)train loss = 0.098 (auc: 0.880 f1: 0.563), validation loss = 0.099 (auc: 0.898 f1: 0.542)\n"
     ]
    },
    {
     "name": "stderr",
     "output_type": "stream",
     "text": [
      "100%|███████████████████████████████████████████| 16/16 [00:00<00:00, 93.62it/s]\n",
      " 27%|███████████▋                                | 8/30 [00:02<00:08,  2.66it/s]"
     ]
    },
    {
     "name": "stdout",
     "output_type": "stream",
     "text": [
      "Epoch 7:  (best: False)train loss = 0.098 (auc: 0.879 f1: 0.567), validation loss = 0.099 (auc: 0.898 f1: 0.541)\n"
     ]
    },
    {
     "name": "stderr",
     "output_type": "stream",
     "text": [
      "100%|██████████████████████████████████████████| 16/16 [00:00<00:00, 118.78it/s]\n",
      " 30%|█████████████▏                              | 9/30 [00:03<00:07,  2.64it/s]"
     ]
    },
    {
     "name": "stdout",
     "output_type": "stream",
     "text": [
      "Epoch 8:  (best: True)train loss = 0.098 (auc: 0.879 f1: 0.570), validation loss = 0.099 (auc: 0.899 f1: 0.544)\n"
     ]
    },
    {
     "name": "stderr",
     "output_type": "stream",
     "text": [
      "100%|██████████████████████████████████████████| 16/16 [00:00<00:00, 125.13it/s]\n",
      " 33%|██████████████▎                            | 10/30 [00:03<00:07,  2.60it/s]"
     ]
    },
    {
     "name": "stdout",
     "output_type": "stream",
     "text": [
      "Epoch 9:  (best: False)train loss = 0.097 (auc: 0.880 f1: 0.582), validation loss = 0.099 (auc: 0.901 f1: 0.541)\n"
     ]
    },
    {
     "name": "stderr",
     "output_type": "stream",
     "text": [
      "100%|██████████████████████████████████████████| 16/16 [00:00<00:00, 126.73it/s]\n",
      " 37%|███████████████▊                           | 11/30 [00:04<00:07,  2.61it/s]"
     ]
    },
    {
     "name": "stdout",
     "output_type": "stream",
     "text": [
      "Epoch 10:  (best: True)train loss = 0.097 (auc: 0.882 f1: 0.601), validation loss = 0.099 (auc: 0.902 f1: 0.547)\n"
     ]
    },
    {
     "name": "stderr",
     "output_type": "stream",
     "text": [
      "100%|███████████████████████████████████████████| 16/16 [00:00<00:00, 81.26it/s]\n",
      " 40%|█████████████████▏                         | 12/30 [00:04<00:06,  2.59it/s]"
     ]
    },
    {
     "name": "stdout",
     "output_type": "stream",
     "text": [
      "Epoch 11:  (best: True)train loss = 0.097 (auc: 0.882 f1: 0.619), validation loss = 0.099 (auc: 0.905 f1: 0.551)\n"
     ]
    },
    {
     "name": "stderr",
     "output_type": "stream",
     "text": [
      "100%|██████████████████████████████████████████| 16/16 [00:00<00:00, 105.83it/s]\n",
      " 43%|██████████████████▋                        | 13/30 [00:04<00:06,  2.52it/s]"
     ]
    },
    {
     "name": "stdout",
     "output_type": "stream",
     "text": [
      "Epoch 12:  (best: True)train loss = 0.097 (auc: 0.887 f1: 0.629), validation loss = 0.099 (auc: 0.906 f1: 0.572)\n"
     ]
    },
    {
     "name": "stderr",
     "output_type": "stream",
     "text": [
      "100%|██████████████████████████████████████████| 16/16 [00:00<00:00, 110.46it/s]\n",
      " 47%|████████████████████                       | 14/30 [00:05<00:06,  2.53it/s]"
     ]
    },
    {
     "name": "stdout",
     "output_type": "stream",
     "text": [
      "Epoch 13:  (best: False)train loss = 0.097 (auc: 0.885 f1: 0.623), validation loss = 0.099 (auc: 0.905 f1: 0.565)\n"
     ]
    },
    {
     "name": "stderr",
     "output_type": "stream",
     "text": [
      "100%|███████████████████████████████████████████| 16/16 [00:00<00:00, 94.45it/s]\n",
      " 50%|█████████████████████▌                     | 15/30 [00:05<00:06,  2.47it/s]"
     ]
    },
    {
     "name": "stdout",
     "output_type": "stream",
     "text": [
      "Epoch 14:  (best: False)train loss = 0.097 (auc: 0.884 f1: 0.618), validation loss = 0.099 (auc: 0.905 f1: 0.553)\n"
     ]
    },
    {
     "name": "stderr",
     "output_type": "stream",
     "text": [
      "100%|██████████████████████████████████████████| 16/16 [00:00<00:00, 121.78it/s]\n",
      " 53%|██████████████████████▉                    | 16/30 [00:06<00:05,  2.54it/s]"
     ]
    },
    {
     "name": "stdout",
     "output_type": "stream",
     "text": [
      "Epoch 15:  (best: False)train loss = 0.097 (auc: 0.887 f1: 0.640), validation loss = 0.099 (auc: 0.903 f1: 0.563)\n"
     ]
    },
    {
     "name": "stderr",
     "output_type": "stream",
     "text": [
      "100%|██████████████████████████████████████████| 16/16 [00:00<00:00, 122.74it/s]\n",
      " 57%|████████████████████████▎                  | 17/30 [00:06<00:05,  2.51it/s]"
     ]
    },
    {
     "name": "stdout",
     "output_type": "stream",
     "text": [
      "Epoch 16:  (best: True)train loss = 0.096 (auc: 0.890 f1: 0.677), validation loss = 0.099 (auc: 0.909 f1: 0.599)\n"
     ]
    },
    {
     "name": "stderr",
     "output_type": "stream",
     "text": [
      "100%|██████████████████████████████████████████| 16/16 [00:00<00:00, 112.75it/s]\n",
      " 60%|█████████████████████████▊                 | 18/30 [00:06<00:04,  2.50it/s]"
     ]
    },
    {
     "name": "stdout",
     "output_type": "stream",
     "text": [
      "Epoch 17:  (best: True)train loss = 0.096 (auc: 0.889 f1: 0.675), validation loss = 0.099 (auc: 0.907 f1: 0.601)\n"
     ]
    },
    {
     "name": "stderr",
     "output_type": "stream",
     "text": [
      "100%|██████████████████████████████████████████| 16/16 [00:00<00:00, 115.57it/s]\n",
      " 63%|███████████████████████████▏               | 19/30 [00:07<00:04,  2.50it/s]"
     ]
    },
    {
     "name": "stdout",
     "output_type": "stream",
     "text": [
      "Epoch 18:  (best: False)train loss = 0.096 (auc: 0.890 f1: 0.669), validation loss = 0.098 (auc: 0.907 f1: 0.589)\n"
     ]
    },
    {
     "name": "stderr",
     "output_type": "stream",
     "text": [
      "100%|██████████████████████████████████████████| 16/16 [00:00<00:00, 120.78it/s]\n",
      " 67%|████████████████████████████▋              | 20/30 [00:07<00:03,  2.57it/s]"
     ]
    },
    {
     "name": "stdout",
     "output_type": "stream",
     "text": [
      "Epoch 19:  (best: False)train loss = 0.096 (auc: 0.891 f1: 0.684), validation loss = 0.099 (auc: 0.911 f1: 0.593)\n"
     ]
    },
    {
     "name": "stderr",
     "output_type": "stream",
     "text": [
      "100%|██████████████████████████████████████████| 16/16 [00:00<00:00, 113.34it/s]\n",
      " 70%|██████████████████████████████             | 21/30 [00:08<00:03,  2.54it/s]"
     ]
    },
    {
     "name": "stdout",
     "output_type": "stream",
     "text": [
      "Epoch 20:  (best: False)train loss = 0.095 (auc: 0.892 f1: 0.684), validation loss = 0.098 (auc: 0.907 f1: 0.600)\n"
     ]
    },
    {
     "name": "stderr",
     "output_type": "stream",
     "text": [
      "100%|██████████████████████████████████████████| 16/16 [00:00<00:00, 114.74it/s]\n",
      " 73%|███████████████████████████████▌           | 22/30 [00:08<00:03,  2.63it/s]"
     ]
    },
    {
     "name": "stdout",
     "output_type": "stream",
     "text": [
      "Epoch 21:  (best: True)train loss = 0.095 (auc: 0.893 f1: 0.695), validation loss = 0.098 (auc: 0.911 f1: 0.613)\n"
     ]
    },
    {
     "name": "stderr",
     "output_type": "stream",
     "text": [
      "100%|██████████████████████████████████████████| 16/16 [00:00<00:00, 101.82it/s]\n",
      " 77%|████████████████████████████████▉          | 23/30 [00:08<00:02,  2.60it/s]"
     ]
    },
    {
     "name": "stdout",
     "output_type": "stream",
     "text": [
      "Epoch 22:  (best: False)train loss = 0.095 (auc: 0.889 f1: 0.690), validation loss = 0.098 (auc: 0.905 f1: 0.609)\n"
     ]
    },
    {
     "name": "stderr",
     "output_type": "stream",
     "text": [
      "100%|██████████████████████████████████████████| 16/16 [00:00<00:00, 130.32it/s]\n",
      " 80%|██████████████████████████████████▍        | 24/30 [00:09<00:02,  2.66it/s]"
     ]
    },
    {
     "name": "stdout",
     "output_type": "stream",
     "text": [
      "Epoch 23:  (best: False)train loss = 0.095 (auc: 0.892 f1: 0.690), validation loss = 0.098 (auc: 0.907 f1: 0.605)\n"
     ]
    },
    {
     "name": "stderr",
     "output_type": "stream",
     "text": [
      "100%|██████████████████████████████████████████| 16/16 [00:00<00:00, 104.77it/s]\n",
      " 83%|███████████████████████████████████▊       | 25/30 [00:09<00:01,  2.59it/s]"
     ]
    },
    {
     "name": "stdout",
     "output_type": "stream",
     "text": [
      "Epoch 24:  (best: False)train loss = 0.095 (auc: 0.891 f1: 0.691), validation loss = 0.098 (auc: 0.906 f1: 0.603)\n"
     ]
    },
    {
     "name": "stderr",
     "output_type": "stream",
     "text": [
      "100%|██████████████████████████████████████████| 16/16 [00:00<00:00, 120.71it/s]\n",
      " 87%|█████████████████████████████████████▎     | 26/30 [00:09<00:01,  2.60it/s]"
     ]
    },
    {
     "name": "stdout",
     "output_type": "stream",
     "text": [
      "Epoch 25:  (best: False)train loss = 0.095 (auc: 0.891 f1: 0.695), validation loss = 0.098 (auc: 0.906 f1: 0.611)\n"
     ]
    },
    {
     "name": "stderr",
     "output_type": "stream",
     "text": [
      "100%|██████████████████████████████████████████| 16/16 [00:00<00:00, 113.94it/s]\n",
      " 90%|██████████████████████████████████████▋    | 27/30 [00:10<00:01,  2.64it/s]"
     ]
    },
    {
     "name": "stdout",
     "output_type": "stream",
     "text": [
      "Epoch 26:  (best: False)train loss = 0.095 (auc: 0.891 f1: 0.693), validation loss = 0.098 (auc: 0.907 f1: 0.612)\n"
     ]
    },
    {
     "name": "stderr",
     "output_type": "stream",
     "text": [
      "100%|██████████████████████████████████████████| 16/16 [00:00<00:00, 117.74it/s]\n",
      " 93%|████████████████████████████████████████▏  | 28/30 [00:10<00:00,  2.70it/s]"
     ]
    },
    {
     "name": "stdout",
     "output_type": "stream",
     "text": [
      "Epoch 27:  (best: False)train loss = 0.095 (auc: 0.894 f1: 0.696), validation loss = 0.098 (auc: 0.908 f1: 0.610)\n"
     ]
    },
    {
     "name": "stderr",
     "output_type": "stream",
     "text": [
      "100%|██████████████████████████████████████████| 16/16 [00:00<00:00, 121.16it/s]\n",
      " 97%|█████████████████████████████████████████▌ | 29/30 [00:11<00:00,  2.70it/s]"
     ]
    },
    {
     "name": "stdout",
     "output_type": "stream",
     "text": [
      "Epoch 28:  (best: False)train loss = 0.095 (auc: 0.893 f1: 0.695), validation loss = 0.098 (auc: 0.906 f1: 0.609)\n"
     ]
    },
    {
     "name": "stderr",
     "output_type": "stream",
     "text": [
      "100%|██████████████████████████████████████████| 16/16 [00:00<00:00, 106.32it/s]\n",
      "100%|███████████████████████████████████████████| 30/30 [00:11<00:00,  2.61it/s]\n"
     ]
    },
    {
     "name": "stdout",
     "output_type": "stream",
     "text": [
      "Epoch 29:  (best: False)train loss = 0.095 (auc: 0.894 f1: 0.693), validation loss = 0.098 (auc: 0.905 f1: 0.611)\n"
     ]
    },
    {
     "name": "stderr",
     "output_type": "stream",
     "text": [
      "100%|██████████████████████████████████████████| 16/16 [00:00<00:00, 121.08it/s]\n",
      "  3%|█▍                                          | 1/30 [00:00<00:09,  2.95it/s]"
     ]
    },
    {
     "name": "stdout",
     "output_type": "stream",
     "text": [
      "Epoch 0:  (best: True)train loss = 0.112 (auc: 0.872 f1: 0.154), validation loss = 0.113 (auc: 0.875 f1: 0.142)\n"
     ]
    },
    {
     "name": "stderr",
     "output_type": "stream",
     "text": [
      "100%|██████████████████████████████████████████| 16/16 [00:00<00:00, 111.60it/s]\n",
      "  7%|██▉                                         | 2/30 [00:00<00:10,  2.63it/s]"
     ]
    },
    {
     "name": "stdout",
     "output_type": "stream",
     "text": [
      "Epoch 1:  (best: True)train loss = 0.105 (auc: 0.867 f1: 0.383), validation loss = 0.105 (auc: 0.872 f1: 0.366)\n"
     ]
    },
    {
     "name": "stderr",
     "output_type": "stream",
     "text": [
      "100%|███████████████████████████████████████████| 16/16 [00:00<00:00, 93.79it/s]\n",
      " 10%|████▍                                       | 3/30 [00:01<00:11,  2.38it/s]"
     ]
    },
    {
     "name": "stdout",
     "output_type": "stream",
     "text": [
      "Epoch 2:  (best: True)train loss = 0.101 (auc: 0.877 f1: 0.492), validation loss = 0.101 (auc: 0.882 f1: 0.478)\n"
     ]
    },
    {
     "name": "stderr",
     "output_type": "stream",
     "text": [
      "100%|██████████████████████████████████████████| 16/16 [00:00<00:00, 119.06it/s]\n",
      " 13%|█████▊                                      | 4/30 [00:01<00:10,  2.49it/s]"
     ]
    },
    {
     "name": "stdout",
     "output_type": "stream",
     "text": [
      "Epoch 3:  (best: True)train loss = 0.100 (auc: 0.874 f1: 0.505), validation loss = 0.101 (auc: 0.878 f1: 0.485)\n"
     ]
    },
    {
     "name": "stderr",
     "output_type": "stream",
     "text": [
      "100%|██████████████████████████████████████████| 16/16 [00:00<00:00, 116.96it/s]\n",
      " 17%|███████▎                                    | 5/30 [00:01<00:09,  2.57it/s]"
     ]
    },
    {
     "name": "stdout",
     "output_type": "stream",
     "text": [
      "Epoch 4:  (best: True)train loss = 0.099 (auc: 0.881 f1: 0.503), validation loss = 0.100 (auc: 0.886 f1: 0.488)\n"
     ]
    },
    {
     "name": "stderr",
     "output_type": "stream",
     "text": [
      "100%|██████████████████████████████████████████| 16/16 [00:00<00:00, 110.09it/s]\n",
      " 20%|████████▊                                   | 6/30 [00:02<00:09,  2.59it/s]"
     ]
    },
    {
     "name": "stdout",
     "output_type": "stream",
     "text": [
      "Epoch 5:  (best: False)train loss = 0.099 (auc: 0.877 f1: 0.505), validation loss = 0.100 (auc: 0.884 f1: 0.477)\n"
     ]
    },
    {
     "name": "stderr",
     "output_type": "stream",
     "text": [
      "100%|██████████████████████████████████████████| 16/16 [00:00<00:00, 122.03it/s]\n",
      " 23%|██████████▎                                 | 7/30 [00:02<00:08,  2.68it/s]"
     ]
    },
    {
     "name": "stdout",
     "output_type": "stream",
     "text": [
      "Epoch 6:  (best: True)train loss = 0.099 (auc: 0.887 f1: 0.575), validation loss = 0.100 (auc: 0.893 f1: 0.529)\n"
     ]
    },
    {
     "name": "stderr",
     "output_type": "stream",
     "text": [
      "100%|██████████████████████████████████████████| 16/16 [00:00<00:00, 123.88it/s]\n",
      " 27%|███████████▋                                | 8/30 [00:03<00:08,  2.69it/s]"
     ]
    },
    {
     "name": "stdout",
     "output_type": "stream",
     "text": [
      "Epoch 7:  (best: True)train loss = 0.098 (auc: 0.895 f1: 0.608), validation loss = 0.099 (auc: 0.898 f1: 0.580)\n"
     ]
    },
    {
     "name": "stderr",
     "output_type": "stream",
     "text": [
      "100%|██████████████████████████████████████████| 16/16 [00:00<00:00, 104.41it/s]\n",
      " 30%|█████████████▏                              | 9/30 [00:03<00:07,  2.68it/s]"
     ]
    },
    {
     "name": "stdout",
     "output_type": "stream",
     "text": [
      "Epoch 8:  (best: True)train loss = 0.097 (auc: 0.898 f1: 0.608), validation loss = 0.099 (auc: 0.898 f1: 0.582)\n"
     ]
    },
    {
     "name": "stderr",
     "output_type": "stream",
     "text": [
      "100%|███████████████████████████████████████████| 16/16 [00:00<00:00, 90.41it/s]\n",
      " 33%|██████████████▎                            | 10/30 [00:03<00:07,  2.59it/s]"
     ]
    },
    {
     "name": "stdout",
     "output_type": "stream",
     "text": [
      "Epoch 9:  (best: False)train loss = 0.097 (auc: 0.896 f1: 0.604), validation loss = 0.099 (auc: 0.893 f1: 0.564)\n"
     ]
    },
    {
     "name": "stderr",
     "output_type": "stream",
     "text": [
      "100%|███████████████████████████████████████████| 16/16 [00:00<00:00, 85.93it/s]\n",
      " 37%|███████████████▊                           | 11/30 [00:04<00:07,  2.53it/s]"
     ]
    },
    {
     "name": "stdout",
     "output_type": "stream",
     "text": [
      "Epoch 10:  (best: True)train loss = 0.097 (auc: 0.897 f1: 0.626), validation loss = 0.098 (auc: 0.895 f1: 0.601)\n"
     ]
    },
    {
     "name": "stderr",
     "output_type": "stream",
     "text": [
      "100%|██████████████████████████████████████████| 16/16 [00:00<00:00, 100.64it/s]\n",
      " 40%|█████████████████▏                         | 12/30 [00:04<00:07,  2.53it/s]"
     ]
    },
    {
     "name": "stdout",
     "output_type": "stream",
     "text": [
      "Epoch 11:  (best: True)train loss = 0.096 (auc: 0.908 f1: 0.669), validation loss = 0.098 (auc: 0.901 f1: 0.619)\n"
     ]
    },
    {
     "name": "stderr",
     "output_type": "stream",
     "text": [
      "100%|██████████████████████████████████████████| 16/16 [00:00<00:00, 111.22it/s]\n",
      " 43%|██████████████████▋                        | 13/30 [00:05<00:06,  2.61it/s]"
     ]
    },
    {
     "name": "stdout",
     "output_type": "stream",
     "text": [
      "Epoch 12:  (best: False)train loss = 0.095 (auc: 0.915 f1: 0.680), validation loss = 0.098 (auc: 0.904 f1: 0.611)\n"
     ]
    },
    {
     "name": "stderr",
     "output_type": "stream",
     "text": [
      "100%|██████████████████████████████████████████| 16/16 [00:00<00:00, 104.20it/s]\n",
      " 47%|████████████████████                       | 14/30 [00:05<00:06,  2.63it/s]"
     ]
    },
    {
     "name": "stdout",
     "output_type": "stream",
     "text": [
      "Epoch 13:  (best: False)train loss = 0.095 (auc: 0.917 f1: 0.688), validation loss = 0.098 (auc: 0.900 f1: 0.616)\n"
     ]
    },
    {
     "name": "stderr",
     "output_type": "stream",
     "text": [
      "100%|██████████████████████████████████████████| 16/16 [00:00<00:00, 117.34it/s]\n",
      " 50%|█████████████████████▌                     | 15/30 [00:05<00:05,  2.51it/s]"
     ]
    },
    {
     "name": "stdout",
     "output_type": "stream",
     "text": [
      "Epoch 14:  (best: True)train loss = 0.095 (auc: 0.921 f1: 0.710), validation loss = 0.097 (auc: 0.906 f1: 0.638)\n"
     ]
    },
    {
     "name": "stderr",
     "output_type": "stream",
     "text": [
      "100%|██████████████████████████████████████████| 16/16 [00:00<00:00, 100.35it/s]\n",
      " 53%|██████████████████████▉                    | 16/30 [00:06<00:05,  2.55it/s]"
     ]
    },
    {
     "name": "stdout",
     "output_type": "stream",
     "text": [
      "Epoch 15:  (best: False)train loss = 0.095 (auc: 0.916 f1: 0.711), validation loss = 0.097 (auc: 0.906 f1: 0.629)\n"
     ]
    },
    {
     "name": "stderr",
     "output_type": "stream",
     "text": [
      "100%|██████████████████████████████████████████| 16/16 [00:00<00:00, 135.72it/s]\n",
      " 57%|████████████████████████▎                  | 17/30 [00:06<00:04,  2.64it/s]"
     ]
    },
    {
     "name": "stdout",
     "output_type": "stream",
     "text": [
      "Epoch 16:  (best: False)train loss = 0.095 (auc: 0.918 f1: 0.714), validation loss = 0.097 (auc: 0.901 f1: 0.632)\n"
     ]
    },
    {
     "name": "stderr",
     "output_type": "stream",
     "text": [
      "100%|██████████████████████████████████████████| 16/16 [00:00<00:00, 106.32it/s]\n",
      " 60%|█████████████████████████▊                 | 18/30 [00:06<00:04,  2.60it/s]"
     ]
    },
    {
     "name": "stdout",
     "output_type": "stream",
     "text": [
      "Epoch 17:  (best: False)train loss = 0.095 (auc: 0.923 f1: 0.713), validation loss = 0.097 (auc: 0.905 f1: 0.625)\n"
     ]
    },
    {
     "name": "stderr",
     "output_type": "stream",
     "text": [
      "100%|██████████████████████████████████████████| 16/16 [00:00<00:00, 124.44it/s]\n",
      " 63%|███████████████████████████▏               | 19/30 [00:07<00:04,  2.65it/s]"
     ]
    },
    {
     "name": "stdout",
     "output_type": "stream",
     "text": [
      "Epoch 18:  (best: False)train loss = 0.094 (auc: 0.924 f1: 0.714), validation loss = 0.097 (auc: 0.907 f1: 0.625)\n"
     ]
    },
    {
     "name": "stderr",
     "output_type": "stream",
     "text": [
      "100%|██████████████████████████████████████████| 16/16 [00:00<00:00, 118.54it/s]\n",
      " 67%|████████████████████████████▋              | 20/30 [00:07<00:03,  2.68it/s]"
     ]
    },
    {
     "name": "stdout",
     "output_type": "stream",
     "text": [
      "Epoch 19:  (best: False)train loss = 0.094 (auc: 0.923 f1: 0.719), validation loss = 0.097 (auc: 0.905 f1: 0.622)\n"
     ]
    },
    {
     "name": "stderr",
     "output_type": "stream",
     "text": [
      "100%|██████████████████████████████████████████| 16/16 [00:00<00:00, 116.66it/s]\n",
      " 70%|██████████████████████████████             | 21/30 [00:08<00:03,  2.70it/s]"
     ]
    },
    {
     "name": "stdout",
     "output_type": "stream",
     "text": [
      "Epoch 20:  (best: False)train loss = 0.094 (auc: 0.921 f1: 0.727), validation loss = 0.097 (auc: 0.902 f1: 0.628)\n"
     ]
    },
    {
     "name": "stderr",
     "output_type": "stream",
     "text": [
      "100%|██████████████████████████████████████████| 16/16 [00:00<00:00, 103.60it/s]\n",
      " 73%|███████████████████████████████▌           | 22/30 [00:08<00:03,  2.64it/s]"
     ]
    },
    {
     "name": "stdout",
     "output_type": "stream",
     "text": [
      "Epoch 21:  (best: False)train loss = 0.094 (auc: 0.923 f1: 0.727), validation loss = 0.097 (auc: 0.903 f1: 0.629)\n"
     ]
    },
    {
     "name": "stderr",
     "output_type": "stream",
     "text": [
      "100%|██████████████████████████████████████████| 16/16 [00:00<00:00, 105.18it/s]\n",
      " 77%|████████████████████████████████▉          | 23/30 [00:08<00:02,  2.69it/s]"
     ]
    },
    {
     "name": "stdout",
     "output_type": "stream",
     "text": [
      "Epoch 22:  (best: False)train loss = 0.094 (auc: 0.921 f1: 0.726), validation loss = 0.097 (auc: 0.901 f1: 0.621)\n"
     ]
    },
    {
     "name": "stderr",
     "output_type": "stream",
     "text": [
      "100%|██████████████████████████████████████████| 16/16 [00:00<00:00, 101.91it/s]\n",
      " 80%|██████████████████████████████████▍        | 24/30 [00:09<00:02,  2.63it/s]"
     ]
    },
    {
     "name": "stdout",
     "output_type": "stream",
     "text": [
      "Epoch 23:  (best: False)train loss = 0.094 (auc: 0.921 f1: 0.726), validation loss = 0.097 (auc: 0.900 f1: 0.625)\n"
     ]
    },
    {
     "name": "stderr",
     "output_type": "stream",
     "text": [
      "100%|███████████████████████████████████████████| 16/16 [00:00<00:00, 85.92it/s]\n",
      " 83%|███████████████████████████████████▊       | 25/30 [00:09<00:01,  2.54it/s]"
     ]
    },
    {
     "name": "stdout",
     "output_type": "stream",
     "text": [
      "Epoch 24:  (best: False)train loss = 0.093 (auc: 0.923 f1: 0.750), validation loss = 0.097 (auc: 0.905 f1: 0.636)\n"
     ]
    },
    {
     "name": "stderr",
     "output_type": "stream",
     "text": [
      "100%|██████████████████████████████████████████| 16/16 [00:00<00:00, 102.52it/s]\n",
      " 87%|█████████████████████████████████████▎     | 26/30 [00:09<00:01,  2.60it/s]"
     ]
    },
    {
     "name": "stdout",
     "output_type": "stream",
     "text": [
      "Epoch 25:  (best: False)train loss = 0.094 (auc: 0.917 f1: 0.719), validation loss = 0.098 (auc: 0.899 f1: 0.614)\n"
     ]
    },
    {
     "name": "stderr",
     "output_type": "stream",
     "text": [
      "100%|██████████████████████████████████████████| 16/16 [00:00<00:00, 121.81it/s]\n",
      " 90%|██████████████████████████████████████▋    | 27/30 [00:10<00:01,  2.70it/s]"
     ]
    },
    {
     "name": "stdout",
     "output_type": "stream",
     "text": [
      "Epoch 26:  (best: False)train loss = 0.094 (auc: 0.912 f1: 0.724), validation loss = 0.098 (auc: 0.900 f1: 0.608)\n"
     ]
    },
    {
     "name": "stderr",
     "output_type": "stream",
     "text": [
      "100%|███████████████████████████████████████████| 16/16 [00:00<00:00, 61.57it/s]\n",
      " 93%|████████████████████████████████████████▏  | 28/30 [00:10<00:00,  2.39it/s]"
     ]
    },
    {
     "name": "stdout",
     "output_type": "stream",
     "text": [
      "Epoch 27:  (best: False)train loss = 0.093 (auc: 0.917 f1: 0.747), validation loss = 0.097 (auc: 0.897 f1: 0.636)\n"
     ]
    },
    {
     "name": "stderr",
     "output_type": "stream",
     "text": [
      "100%|██████████████████████████████████████████| 16/16 [00:00<00:00, 138.40it/s]\n",
      " 97%|█████████████████████████████████████████▌ | 29/30 [00:11<00:00,  2.63it/s]"
     ]
    },
    {
     "name": "stdout",
     "output_type": "stream",
     "text": [
      "Epoch 28:  (best: True)train loss = 0.093 (auc: 0.917 f1: 0.752), validation loss = 0.097 (auc: 0.900 f1: 0.638)\n"
     ]
    },
    {
     "name": "stderr",
     "output_type": "stream",
     "text": [
      "100%|██████████████████████████████████████████| 16/16 [00:00<00:00, 140.08it/s]\n",
      "100%|███████████████████████████████████████████| 30/30 [00:11<00:00,  2.62it/s]\n"
     ]
    },
    {
     "name": "stdout",
     "output_type": "stream",
     "text": [
      "Epoch 29:  (best: True)train loss = 0.093 (auc: 0.915 f1: 0.751), validation loss = 0.097 (auc: 0.897 f1: 0.643)\n"
     ]
    },
    {
     "name": "stderr",
     "output_type": "stream",
     "text": [
      "100%|██████████████████████████████████████████| 16/16 [00:00<00:00, 154.10it/s]\n",
      "  3%|█▍                                          | 1/30 [00:00<00:07,  3.70it/s]"
     ]
    },
    {
     "name": "stdout",
     "output_type": "stream",
     "text": [
      "Epoch 0:  (best: True)train loss = 0.113 (auc: 0.866 f1: 0.209), validation loss = 0.113 (auc: 0.856 f1: 0.168)\n"
     ]
    },
    {
     "name": "stderr",
     "output_type": "stream",
     "text": [
      "100%|██████████████████████████████████████████| 16/16 [00:00<00:00, 155.40it/s]\n",
      "  7%|██▉                                         | 2/30 [00:00<00:07,  3.61it/s]"
     ]
    },
    {
     "name": "stdout",
     "output_type": "stream",
     "text": [
      "Epoch 1:  (best: True)train loss = 0.105 (auc: 0.876 f1: 0.370), validation loss = 0.106 (auc: 0.876 f1: 0.349)\n"
     ]
    },
    {
     "name": "stderr",
     "output_type": "stream",
     "text": [
      "100%|██████████████████████████████████████████| 16/16 [00:00<00:00, 144.69it/s]\n",
      " 10%|████▍                                       | 3/30 [00:00<00:07,  3.52it/s]"
     ]
    },
    {
     "name": "stdout",
     "output_type": "stream",
     "text": [
      "Epoch 2:  (best: True)train loss = 0.102 (auc: 0.877 f1: 0.463), validation loss = 0.103 (auc: 0.884 f1: 0.440)\n"
     ]
    },
    {
     "name": "stderr",
     "output_type": "stream",
     "text": [
      "100%|██████████████████████████████████████████| 16/16 [00:00<00:00, 147.91it/s]\n",
      " 13%|█████▊                                      | 4/30 [00:01<00:07,  3.50it/s]"
     ]
    },
    {
     "name": "stdout",
     "output_type": "stream",
     "text": [
      "Epoch 3:  (best: True)train loss = 0.100 (auc: 0.881 f1: 0.492), validation loss = 0.101 (auc: 0.890 f1: 0.469)\n"
     ]
    },
    {
     "name": "stderr",
     "output_type": "stream",
     "text": [
      "100%|██████████████████████████████████████████| 16/16 [00:00<00:00, 149.20it/s]\n",
      " 17%|███████▎                                    | 5/30 [00:01<00:07,  3.29it/s]"
     ]
    },
    {
     "name": "stdout",
     "output_type": "stream",
     "text": [
      "Epoch 4:  (best: True)train loss = 0.099 (auc: 0.887 f1: 0.528), validation loss = 0.100 (auc: 0.894 f1: 0.513)\n"
     ]
    },
    {
     "name": "stderr",
     "output_type": "stream",
     "text": [
      "100%|██████████████████████████████████████████| 16/16 [00:00<00:00, 109.21it/s]\n",
      " 20%|████████▊                                   | 6/30 [00:01<00:08,  2.80it/s]"
     ]
    },
    {
     "name": "stdout",
     "output_type": "stream",
     "text": [
      "Epoch 5:  (best: True)train loss = 0.099 (auc: 0.891 f1: 0.602), validation loss = 0.099 (auc: 0.900 f1: 0.581)\n"
     ]
    },
    {
     "name": "stderr",
     "output_type": "stream",
     "text": [
      "100%|███████████████████████████████████████████| 16/16 [00:00<00:00, 85.53it/s]\n",
      " 23%|██████████▎                                 | 7/30 [00:02<00:08,  2.80it/s]"
     ]
    },
    {
     "name": "stdout",
     "output_type": "stream",
     "text": [
      "Epoch 6:  (best: False)train loss = 0.098 (auc: 0.894 f1: 0.589), validation loss = 0.099 (auc: 0.901 f1: 0.552)\n"
     ]
    },
    {
     "name": "stderr",
     "output_type": "stream",
     "text": [
      "100%|██████████████████████████████████████████| 16/16 [00:00<00:00, 153.74it/s]\n",
      " 27%|███████████▋                                | 8/30 [00:02<00:07,  3.01it/s]"
     ]
    },
    {
     "name": "stdout",
     "output_type": "stream",
     "text": [
      "Epoch 7:  (best: False)train loss = 0.097 (auc: 0.896 f1: 0.599), validation loss = 0.099 (auc: 0.900 f1: 0.551)\n"
     ]
    },
    {
     "name": "stderr",
     "output_type": "stream",
     "text": [
      "100%|██████████████████████████████████████████| 16/16 [00:00<00:00, 161.21it/s]\n",
      " 30%|█████████████▏                              | 9/30 [00:02<00:06,  3.11it/s]"
     ]
    },
    {
     "name": "stdout",
     "output_type": "stream",
     "text": [
      "Epoch 8:  (best: False)train loss = 0.097 (auc: 0.898 f1: 0.608), validation loss = 0.099 (auc: 0.899 f1: 0.561)\n"
     ]
    },
    {
     "name": "stderr",
     "output_type": "stream",
     "text": [
      "100%|██████████████████████████████████████████| 16/16 [00:00<00:00, 134.98it/s]\n",
      " 33%|██████████████▎                            | 10/30 [00:03<00:06,  3.09it/s]"
     ]
    },
    {
     "name": "stdout",
     "output_type": "stream",
     "text": [
      "Epoch 9:  (best: True)train loss = 0.097 (auc: 0.899 f1: 0.623), validation loss = 0.098 (auc: 0.903 f1: 0.583)\n"
     ]
    },
    {
     "name": "stderr",
     "output_type": "stream",
     "text": [
      "100%|██████████████████████████████████████████| 16/16 [00:00<00:00, 106.27it/s]\n",
      " 37%|███████████████▊                           | 11/30 [00:03<00:06,  2.91it/s]"
     ]
    },
    {
     "name": "stdout",
     "output_type": "stream",
     "text": [
      "Epoch 10:  (best: True)train loss = 0.096 (auc: 0.902 f1: 0.628), validation loss = 0.098 (auc: 0.904 f1: 0.585)\n"
     ]
    },
    {
     "name": "stderr",
     "output_type": "stream",
     "text": [
      "100%|██████████████████████████████████████████| 16/16 [00:00<00:00, 108.15it/s]\n",
      " 40%|█████████████████▏                         | 12/30 [00:03<00:06,  2.80it/s]"
     ]
    },
    {
     "name": "stdout",
     "output_type": "stream",
     "text": [
      "Epoch 11:  (best: True)train loss = 0.096 (auc: 0.901 f1: 0.628), validation loss = 0.098 (auc: 0.901 f1: 0.589)\n"
     ]
    },
    {
     "name": "stderr",
     "output_type": "stream",
     "text": [
      "100%|██████████████████████████████████████████| 16/16 [00:00<00:00, 132.63it/s]\n",
      " 43%|██████████████████▋                        | 13/30 [00:04<00:05,  2.86it/s]"
     ]
    },
    {
     "name": "stdout",
     "output_type": "stream",
     "text": [
      "Epoch 12:  (best: True)train loss = 0.096 (auc: 0.902 f1: 0.642), validation loss = 0.098 (auc: 0.901 f1: 0.597)\n"
     ]
    },
    {
     "name": "stderr",
     "output_type": "stream",
     "text": [
      "100%|██████████████████████████████████████████| 16/16 [00:00<00:00, 115.26it/s]\n",
      " 47%|████████████████████                       | 14/30 [00:04<00:05,  2.80it/s]"
     ]
    },
    {
     "name": "stdout",
     "output_type": "stream",
     "text": [
      "Epoch 13:  (best: False)train loss = 0.096 (auc: 0.900 f1: 0.641), validation loss = 0.098 (auc: 0.899 f1: 0.595)\n"
     ]
    },
    {
     "name": "stderr",
     "output_type": "stream",
     "text": [
      "100%|██████████████████████████████████████████| 16/16 [00:00<00:00, 108.87it/s]\n",
      " 50%|█████████████████████▌                     | 15/30 [00:05<00:05,  2.74it/s]"
     ]
    },
    {
     "name": "stdout",
     "output_type": "stream",
     "text": [
      "Epoch 14:  (best: True)train loss = 0.096 (auc: 0.903 f1: 0.672), validation loss = 0.098 (auc: 0.898 f1: 0.613)\n"
     ]
    },
    {
     "name": "stderr",
     "output_type": "stream",
     "text": [
      "100%|██████████████████████████████████████████| 16/16 [00:00<00:00, 122.11it/s]\n",
      " 53%|██████████████████████▉                    | 16/30 [00:05<00:05,  2.77it/s]"
     ]
    },
    {
     "name": "stdout",
     "output_type": "stream",
     "text": [
      "Epoch 15:  (best: False)train loss = 0.096 (auc: 0.904 f1: 0.670), validation loss = 0.098 (auc: 0.898 f1: 0.602)\n"
     ]
    },
    {
     "name": "stderr",
     "output_type": "stream",
     "text": [
      "100%|██████████████████████████████████████████| 16/16 [00:00<00:00, 114.68it/s]\n",
      " 57%|████████████████████████▎                  | 17/30 [00:05<00:04,  2.77it/s]"
     ]
    },
    {
     "name": "stdout",
     "output_type": "stream",
     "text": [
      "Epoch 16:  (best: False)train loss = 0.095 (auc: 0.910 f1: 0.673), validation loss = 0.098 (auc: 0.904 f1: 0.600)\n"
     ]
    },
    {
     "name": "stderr",
     "output_type": "stream",
     "text": [
      "100%|██████████████████████████████████████████| 16/16 [00:00<00:00, 116.31it/s]\n",
      " 60%|█████████████████████████▊                 | 18/30 [00:06<00:04,  2.74it/s]"
     ]
    },
    {
     "name": "stdout",
     "output_type": "stream",
     "text": [
      "Epoch 17:  (best: False)train loss = 0.095 (auc: 0.913 f1: 0.686), validation loss = 0.098 (auc: 0.902 f1: 0.607)\n"
     ]
    },
    {
     "name": "stderr",
     "output_type": "stream",
     "text": [
      "100%|██████████████████████████████████████████| 16/16 [00:00<00:00, 107.87it/s]\n",
      " 63%|███████████████████████████▏               | 19/30 [00:06<00:04,  2.73it/s]"
     ]
    },
    {
     "name": "stdout",
     "output_type": "stream",
     "text": [
      "Epoch 18:  (best: False)train loss = 0.095 (auc: 0.909 f1: 0.685), validation loss = 0.098 (auc: 0.900 f1: 0.610)\n"
     ]
    },
    {
     "name": "stderr",
     "output_type": "stream",
     "text": [
      "100%|███████████████████████████████████████████| 16/16 [00:00<00:00, 91.64it/s]\n",
      " 67%|████████████████████████████▋              | 20/30 [00:06<00:03,  2.65it/s]"
     ]
    },
    {
     "name": "stdout",
     "output_type": "stream",
     "text": [
      "Epoch 19:  (best: True)train loss = 0.095 (auc: 0.913 f1: 0.716), validation loss = 0.098 (auc: 0.899 f1: 0.644)\n"
     ]
    },
    {
     "name": "stderr",
     "output_type": "stream",
     "text": [
      "100%|██████████████████████████████████████████| 16/16 [00:00<00:00, 125.77it/s]\n",
      " 70%|██████████████████████████████             | 21/30 [00:07<00:03,  2.66it/s]"
     ]
    },
    {
     "name": "stdout",
     "output_type": "stream",
     "text": [
      "Epoch 20:  (best: True)train loss = 0.094 (auc: 0.916 f1: 0.717), validation loss = 0.097 (auc: 0.902 f1: 0.645)\n"
     ]
    },
    {
     "name": "stderr",
     "output_type": "stream",
     "text": [
      "100%|██████████████████████████████████████████| 16/16 [00:00<00:00, 107.60it/s]\n",
      " 73%|███████████████████████████████▌           | 22/30 [00:07<00:03,  2.63it/s]"
     ]
    },
    {
     "name": "stdout",
     "output_type": "stream",
     "text": [
      "Epoch 21:  (best: True)train loss = 0.094 (auc: 0.912 f1: 0.726), validation loss = 0.097 (auc: 0.899 f1: 0.651)\n"
     ]
    },
    {
     "name": "stderr",
     "output_type": "stream",
     "text": [
      "100%|██████████████████████████████████████████| 16/16 [00:00<00:00, 103.39it/s]\n",
      " 77%|████████████████████████████████▉          | 23/30 [00:08<00:02,  2.65it/s]"
     ]
    },
    {
     "name": "stdout",
     "output_type": "stream",
     "text": [
      "Epoch 22:  (best: False)train loss = 0.094 (auc: 0.914 f1: 0.727), validation loss = 0.097 (auc: 0.901 f1: 0.633)\n"
     ]
    },
    {
     "name": "stderr",
     "output_type": "stream",
     "text": [
      "100%|██████████████████████████████████████████| 16/16 [00:00<00:00, 136.65it/s]\n",
      " 80%|██████████████████████████████████▍        | 24/30 [00:08<00:02,  2.74it/s]"
     ]
    },
    {
     "name": "stdout",
     "output_type": "stream",
     "text": [
      "Epoch 23:  (best: False)train loss = 0.094 (auc: 0.915 f1: 0.724), validation loss = 0.098 (auc: 0.902 f1: 0.631)\n"
     ]
    },
    {
     "name": "stderr",
     "output_type": "stream",
     "text": [
      "100%|██████████████████████████████████████████| 16/16 [00:00<00:00, 129.83it/s]\n",
      " 83%|███████████████████████████████████▊       | 25/30 [00:08<00:01,  2.77it/s]"
     ]
    },
    {
     "name": "stdout",
     "output_type": "stream",
     "text": [
      "Epoch 24:  (best: True)train loss = 0.094 (auc: 0.914 f1: 0.730), validation loss = 0.097 (auc: 0.898 f1: 0.656)\n"
     ]
    },
    {
     "name": "stderr",
     "output_type": "stream",
     "text": [
      "100%|██████████████████████████████████████████| 16/16 [00:00<00:00, 114.43it/s]\n",
      " 87%|█████████████████████████████████████▎     | 26/30 [00:09<00:01,  2.80it/s]"
     ]
    },
    {
     "name": "stdout",
     "output_type": "stream",
     "text": [
      "Epoch 25:  (best: False)train loss = 0.094 (auc: 0.913 f1: 0.733), validation loss = 0.097 (auc: 0.897 f1: 0.642)\n"
     ]
    },
    {
     "name": "stderr",
     "output_type": "stream",
     "text": [
      "100%|██████████████████████████████████████████| 16/16 [00:00<00:00, 114.03it/s]\n",
      " 90%|██████████████████████████████████████▋    | 27/30 [00:09<00:01,  2.78it/s]"
     ]
    },
    {
     "name": "stdout",
     "output_type": "stream",
     "text": [
      "Epoch 26:  (best: False)train loss = 0.093 (auc: 0.913 f1: 0.737), validation loss = 0.097 (auc: 0.897 f1: 0.646)\n"
     ]
    },
    {
     "name": "stderr",
     "output_type": "stream",
     "text": [
      "100%|██████████████████████████████████████████| 16/16 [00:00<00:00, 108.05it/s]\n",
      " 93%|████████████████████████████████████████▏  | 28/30 [00:09<00:00,  2.74it/s]"
     ]
    },
    {
     "name": "stdout",
     "output_type": "stream",
     "text": [
      "Epoch 27:  (best: False)train loss = 0.094 (auc: 0.912 f1: 0.738), validation loss = 0.097 (auc: 0.896 f1: 0.644)\n"
     ]
    },
    {
     "name": "stderr",
     "output_type": "stream",
     "text": [
      "100%|██████████████████████████████████████████| 16/16 [00:00<00:00, 113.41it/s]\n",
      " 97%|█████████████████████████████████████████▌ | 29/30 [00:10<00:00,  2.72it/s]"
     ]
    },
    {
     "name": "stdout",
     "output_type": "stream",
     "text": [
      "Epoch 28:  (best: False)train loss = 0.094 (auc: 0.915 f1: 0.735), validation loss = 0.097 (auc: 0.898 f1: 0.646)\n"
     ]
    },
    {
     "name": "stderr",
     "output_type": "stream",
     "text": [
      "100%|██████████████████████████████████████████| 16/16 [00:00<00:00, 100.53it/s]\n",
      "100%|███████████████████████████████████████████| 30/30 [00:10<00:00,  2.83it/s]\n"
     ]
    },
    {
     "name": "stdout",
     "output_type": "stream",
     "text": [
      "Epoch 29:  (best: False)train loss = 0.094 (auc: 0.909 f1: 0.740), validation loss = 0.097 (auc: 0.894 f1: 0.649)\n"
     ]
    },
    {
     "name": "stderr",
     "output_type": "stream",
     "text": [
      "100%|██████████████████████████████████████████| 16/16 [00:00<00:00, 106.25it/s]\n",
      "  3%|█▍                                          | 1/30 [00:00<00:10,  2.66it/s]"
     ]
    },
    {
     "name": "stdout",
     "output_type": "stream",
     "text": [
      "Epoch 0:  (best: True)train loss = 0.113 (auc: 0.870 f1: 0.125), validation loss = 0.113 (auc: 0.873 f1: 0.115)\n"
     ]
    },
    {
     "name": "stderr",
     "output_type": "stream",
     "text": [
      "100%|██████████████████████████████████████████| 16/16 [00:00<00:00, 120.84it/s]\n",
      "  7%|██▉                                         | 2/30 [00:00<00:10,  2.66it/s]"
     ]
    },
    {
     "name": "stdout",
     "output_type": "stream",
     "text": [
      "Epoch 1:  (best: True)train loss = 0.106 (auc: 0.874 f1: 0.373), validation loss = 0.107 (auc: 0.892 f1: 0.341)\n"
     ]
    },
    {
     "name": "stderr",
     "output_type": "stream",
     "text": [
      "100%|██████████████████████████████████████████| 16/16 [00:00<00:00, 111.65it/s]\n",
      " 10%|████▍                                       | 3/30 [00:01<00:10,  2.60it/s]"
     ]
    },
    {
     "name": "stdout",
     "output_type": "stream",
     "text": [
      "Epoch 2:  (best: True)train loss = 0.102 (auc: 0.882 f1: 0.417), validation loss = 0.104 (auc: 0.894 f1: 0.385)\n"
     ]
    },
    {
     "name": "stderr",
     "output_type": "stream",
     "text": [
      "100%|███████████████████████████████████████████| 16/16 [00:00<00:00, 98.34it/s]\n",
      " 13%|█████▊                                      | 4/30 [00:01<00:10,  2.56it/s]"
     ]
    },
    {
     "name": "stdout",
     "output_type": "stream",
     "text": [
      "Epoch 3:  (best: True)train loss = 0.099 (auc: 0.895 f1: 0.536), validation loss = 0.100 (auc: 0.908 f1: 0.518)\n"
     ]
    },
    {
     "name": "stderr",
     "output_type": "stream",
     "text": [
      "100%|██████████████████████████████████████████| 16/16 [00:00<00:00, 105.05it/s]\n",
      " 17%|███████▎                                    | 5/30 [00:01<00:09,  2.57it/s]"
     ]
    },
    {
     "name": "stdout",
     "output_type": "stream",
     "text": [
      "Epoch 4:  (best: True)train loss = 0.099 (auc: 0.889 f1: 0.542), validation loss = 0.100 (auc: 0.901 f1: 0.532)\n"
     ]
    },
    {
     "name": "stderr",
     "output_type": "stream",
     "text": [
      "100%|██████████████████████████████████████████| 16/16 [00:00<00:00, 102.18it/s]\n",
      " 20%|████████▊                                   | 6/30 [00:02<00:09,  2.55it/s]"
     ]
    },
    {
     "name": "stdout",
     "output_type": "stream",
     "text": [
      "Epoch 5:  (best: True)train loss = 0.098 (auc: 0.896 f1: 0.562), validation loss = 0.099 (auc: 0.907 f1: 0.548)\n"
     ]
    },
    {
     "name": "stderr",
     "output_type": "stream",
     "text": [
      "100%|██████████████████████████████████████████| 16/16 [00:00<00:00, 118.53it/s]\n",
      " 23%|██████████▎                                 | 7/30 [00:02<00:08,  2.65it/s]"
     ]
    },
    {
     "name": "stdout",
     "output_type": "stream",
     "text": [
      "Epoch 6:  (best: True)train loss = 0.098 (auc: 0.900 f1: 0.583), validation loss = 0.099 (auc: 0.910 f1: 0.563)\n"
     ]
    },
    {
     "name": "stderr",
     "output_type": "stream",
     "text": [
      "100%|██████████████████████████████████████████| 16/16 [00:00<00:00, 112.38it/s]\n",
      " 27%|███████████▋                                | 8/30 [00:03<00:08,  2.66it/s]"
     ]
    },
    {
     "name": "stdout",
     "output_type": "stream",
     "text": [
      "Epoch 7:  (best: True)train loss = 0.097 (auc: 0.907 f1: 0.642), validation loss = 0.098 (auc: 0.913 f1: 0.613)\n"
     ]
    },
    {
     "name": "stderr",
     "output_type": "stream",
     "text": [
      "100%|██████████████████████████████████████████| 16/16 [00:00<00:00, 116.32it/s]\n",
      " 30%|█████████████▏                              | 9/30 [00:03<00:07,  2.63it/s]"
     ]
    },
    {
     "name": "stdout",
     "output_type": "stream",
     "text": [
      "Epoch 8:  (best: False)train loss = 0.097 (auc: 0.911 f1: 0.643), validation loss = 0.098 (auc: 0.915 f1: 0.589)\n"
     ]
    },
    {
     "name": "stderr",
     "output_type": "stream",
     "text": [
      "100%|██████████████████████████████████████████| 16/16 [00:00<00:00, 117.32it/s]\n",
      " 33%|██████████████▎                            | 10/30 [00:03<00:07,  2.57it/s]"
     ]
    },
    {
     "name": "stdout",
     "output_type": "stream",
     "text": [
      "Epoch 9:  (best: False)train loss = 0.096 (auc: 0.917 f1: 0.664), validation loss = 0.098 (auc: 0.917 f1: 0.609)\n"
     ]
    },
    {
     "name": "stderr",
     "output_type": "stream",
     "text": [
      "100%|██████████████████████████████████████████| 16/16 [00:00<00:00, 109.54it/s]\n",
      " 37%|███████████████▊                           | 11/30 [00:04<00:07,  2.59it/s]"
     ]
    },
    {
     "name": "stdout",
     "output_type": "stream",
     "text": [
      "Epoch 10:  (best: True)train loss = 0.095 (auc: 0.919 f1: 0.684), validation loss = 0.098 (auc: 0.917 f1: 0.617)\n"
     ]
    },
    {
     "name": "stderr",
     "output_type": "stream",
     "text": [
      "100%|██████████████████████████████████████████| 16/16 [00:00<00:00, 112.15it/s]\n",
      " 40%|█████████████████▏                         | 12/30 [00:04<00:07,  2.49it/s]"
     ]
    },
    {
     "name": "stdout",
     "output_type": "stream",
     "text": [
      "Epoch 11:  (best: True)train loss = 0.095 (auc: 0.923 f1: 0.696), validation loss = 0.098 (auc: 0.919 f1: 0.623)\n"
     ]
    },
    {
     "name": "stderr",
     "output_type": "stream",
     "text": [
      "100%|██████████████████████████████████████████| 16/16 [00:00<00:00, 110.07it/s]\n",
      " 43%|██████████████████▋                        | 13/30 [00:05<00:06,  2.53it/s]"
     ]
    },
    {
     "name": "stdout",
     "output_type": "stream",
     "text": [
      "Epoch 12:  (best: True)train loss = 0.095 (auc: 0.921 f1: 0.691), validation loss = 0.098 (auc: 0.918 f1: 0.627)\n"
     ]
    },
    {
     "name": "stderr",
     "output_type": "stream",
     "text": [
      "100%|███████████████████████████████████████████| 16/16 [00:00<00:00, 94.83it/s]\n",
      " 47%|████████████████████                       | 14/30 [00:05<00:06,  2.50it/s]"
     ]
    },
    {
     "name": "stdout",
     "output_type": "stream",
     "text": [
      "Epoch 13:  (best: False)train loss = 0.095 (auc: 0.923 f1: 0.695), validation loss = 0.098 (auc: 0.919 f1: 0.625)\n"
     ]
    },
    {
     "name": "stderr",
     "output_type": "stream",
     "text": [
      "100%|██████████████████████████████████████████| 16/16 [00:00<00:00, 108.03it/s]\n",
      " 50%|█████████████████████▌                     | 15/30 [00:05<00:05,  2.56it/s]"
     ]
    },
    {
     "name": "stdout",
     "output_type": "stream",
     "text": [
      "Epoch 14:  (best: False)train loss = 0.095 (auc: 0.921 f1: 0.694), validation loss = 0.098 (auc: 0.917 f1: 0.622)\n"
     ]
    },
    {
     "name": "stderr",
     "output_type": "stream",
     "text": [
      "100%|██████████████████████████████████████████| 16/16 [00:00<00:00, 113.22it/s]\n",
      " 53%|██████████████████████▉                    | 16/30 [00:06<00:05,  2.60it/s]"
     ]
    },
    {
     "name": "stdout",
     "output_type": "stream",
     "text": [
      "Epoch 15:  (best: False)train loss = 0.095 (auc: 0.922 f1: 0.695), validation loss = 0.098 (auc: 0.917 f1: 0.620)\n"
     ]
    },
    {
     "name": "stderr",
     "output_type": "stream",
     "text": [
      "100%|██████████████████████████████████████████| 16/16 [00:00<00:00, 106.25it/s]\n",
      " 57%|████████████████████████▎                  | 17/30 [00:06<00:04,  2.62it/s]"
     ]
    },
    {
     "name": "stdout",
     "output_type": "stream",
     "text": [
      "Epoch 16:  (best: False)train loss = 0.095 (auc: 0.924 f1: 0.712), validation loss = 0.098 (auc: 0.916 f1: 0.616)\n"
     ]
    },
    {
     "name": "stderr",
     "output_type": "stream",
     "text": [
      "100%|██████████████████████████████████████████| 16/16 [00:00<00:00, 120.90it/s]\n",
      " 60%|█████████████████████████▊                 | 18/30 [00:06<00:04,  2.66it/s]"
     ]
    },
    {
     "name": "stdout",
     "output_type": "stream",
     "text": [
      "Epoch 17:  (best: False)train loss = 0.095 (auc: 0.923 f1: 0.708), validation loss = 0.098 (auc: 0.915 f1: 0.617)\n"
     ]
    },
    {
     "name": "stderr",
     "output_type": "stream",
     "text": [
      "100%|██████████████████████████████████████████| 16/16 [00:00<00:00, 122.55it/s]\n",
      " 63%|███████████████████████████▏               | 19/30 [00:07<00:04,  2.66it/s]"
     ]
    },
    {
     "name": "stdout",
     "output_type": "stream",
     "text": [
      "Epoch 18:  (best: False)train loss = 0.095 (auc: 0.923 f1: 0.716), validation loss = 0.098 (auc: 0.915 f1: 0.625)\n"
     ]
    },
    {
     "name": "stderr",
     "output_type": "stream",
     "text": [
      "100%|██████████████████████████████████████████| 16/16 [00:00<00:00, 118.74it/s]\n",
      " 67%|████████████████████████████▋              | 20/30 [00:07<00:03,  2.64it/s]"
     ]
    },
    {
     "name": "stdout",
     "output_type": "stream",
     "text": [
      "Epoch 19:  (best: False)train loss = 0.094 (auc: 0.924 f1: 0.716), validation loss = 0.098 (auc: 0.915 f1: 0.625)\n"
     ]
    },
    {
     "name": "stderr",
     "output_type": "stream",
     "text": [
      "100%|██████████████████████████████████████████| 16/16 [00:00<00:00, 118.75it/s]\n",
      " 70%|██████████████████████████████             | 21/30 [00:08<00:03,  2.63it/s]"
     ]
    },
    {
     "name": "stdout",
     "output_type": "stream",
     "text": [
      "Epoch 20:  (best: True)train loss = 0.094 (auc: 0.925 f1: 0.715), validation loss = 0.098 (auc: 0.917 f1: 0.638)\n"
     ]
    },
    {
     "name": "stderr",
     "output_type": "stream",
     "text": [
      "100%|██████████████████████████████████████████| 16/16 [00:00<00:00, 116.51it/s]\n",
      " 73%|███████████████████████████████▌           | 22/30 [00:08<00:03,  2.65it/s]"
     ]
    },
    {
     "name": "stdout",
     "output_type": "stream",
     "text": [
      "Epoch 21:  (best: False)train loss = 0.094 (auc: 0.923 f1: 0.720), validation loss = 0.098 (auc: 0.914 f1: 0.620)\n"
     ]
    },
    {
     "name": "stderr",
     "output_type": "stream",
     "text": [
      "100%|██████████████████████████████████████████| 16/16 [00:00<00:00, 121.89it/s]\n",
      " 77%|████████████████████████████████▉          | 23/30 [00:08<00:02,  2.64it/s]"
     ]
    },
    {
     "name": "stdout",
     "output_type": "stream",
     "text": [
      "Epoch 22:  (best: True)train loss = 0.095 (auc: 0.924 f1: 0.725), validation loss = 0.098 (auc: 0.917 f1: 0.639)\n"
     ]
    },
    {
     "name": "stderr",
     "output_type": "stream",
     "text": [
      "100%|██████████████████████████████████████████| 16/16 [00:00<00:00, 118.69it/s]\n",
      " 80%|██████████████████████████████████▍        | 24/30 [00:09<00:02,  2.63it/s]"
     ]
    },
    {
     "name": "stdout",
     "output_type": "stream",
     "text": [
      "Epoch 23:  (best: False)train loss = 0.094 (auc: 0.923 f1: 0.725), validation loss = 0.097 (auc: 0.913 f1: 0.631)\n"
     ]
    },
    {
     "name": "stderr",
     "output_type": "stream",
     "text": [
      "100%|██████████████████████████████████████████| 16/16 [00:00<00:00, 133.85it/s]\n",
      " 83%|███████████████████████████████████▊       | 25/30 [00:09<00:01,  2.69it/s]"
     ]
    },
    {
     "name": "stdout",
     "output_type": "stream",
     "text": [
      "Epoch 24:  (best: False)train loss = 0.094 (auc: 0.922 f1: 0.742), validation loss = 0.097 (auc: 0.912 f1: 0.627)\n"
     ]
    },
    {
     "name": "stderr",
     "output_type": "stream",
     "text": [
      "100%|██████████████████████████████████████████| 16/16 [00:00<00:00, 110.00it/s]\n",
      " 87%|█████████████████████████████████████▎     | 26/30 [00:09<00:01,  2.66it/s]"
     ]
    },
    {
     "name": "stdout",
     "output_type": "stream",
     "text": [
      "Epoch 25:  (best: False)train loss = 0.094 (auc: 0.922 f1: 0.741), validation loss = 0.097 (auc: 0.911 f1: 0.633)\n"
     ]
    },
    {
     "name": "stderr",
     "output_type": "stream",
     "text": [
      "100%|██████████████████████████████████████████| 16/16 [00:00<00:00, 124.55it/s]\n",
      " 90%|██████████████████████████████████████▋    | 27/30 [00:10<00:01,  2.69it/s]"
     ]
    },
    {
     "name": "stdout",
     "output_type": "stream",
     "text": [
      "Epoch 26:  (best: False)train loss = 0.093 (auc: 0.925 f1: 0.742), validation loss = 0.097 (auc: 0.913 f1: 0.637)\n"
     ]
    },
    {
     "name": "stderr",
     "output_type": "stream",
     "text": [
      "100%|██████████████████████████████████████████| 16/16 [00:00<00:00, 125.02it/s]\n",
      " 93%|████████████████████████████████████████▏  | 28/30 [00:10<00:00,  2.73it/s]"
     ]
    },
    {
     "name": "stdout",
     "output_type": "stream",
     "text": [
      "Epoch 27:  (best: False)train loss = 0.093 (auc: 0.925 f1: 0.742), validation loss = 0.097 (auc: 0.911 f1: 0.633)\n"
     ]
    },
    {
     "name": "stderr",
     "output_type": "stream",
     "text": [
      "100%|██████████████████████████████████████████| 16/16 [00:00<00:00, 108.80it/s]\n",
      " 97%|█████████████████████████████████████████▌ | 29/30 [00:11<00:00,  2.72it/s]"
     ]
    },
    {
     "name": "stdout",
     "output_type": "stream",
     "text": [
      "Epoch 28:  (best: False)train loss = 0.094 (auc: 0.924 f1: 0.743), validation loss = 0.098 (auc: 0.908 f1: 0.631)\n"
     ]
    },
    {
     "name": "stderr",
     "output_type": "stream",
     "text": [
      "100%|██████████████████████████████████████████| 16/16 [00:00<00:00, 128.08it/s]\n",
      "100%|███████████████████████████████████████████| 30/30 [00:11<00:00,  2.64it/s]\n"
     ]
    },
    {
     "name": "stdout",
     "output_type": "stream",
     "text": [
      "Epoch 29:  (best: False)train loss = 0.094 (auc: 0.926 f1: 0.745), validation loss = 0.097 (auc: 0.910 f1: 0.630)\n"
     ]
    },
    {
     "name": "stderr",
     "output_type": "stream",
     "text": [
      "100%|██████████████████████████████████████████| 16/16 [00:00<00:00, 115.15it/s]\n",
      "  3%|█▍                                          | 1/30 [00:00<00:11,  2.60it/s]"
     ]
    },
    {
     "name": "stdout",
     "output_type": "stream",
     "text": [
      "Epoch 0:  (best: True)train loss = 0.112 (auc: 0.844 f1: 0.102), validation loss = 0.113 (auc: 0.857 f1: 0.062)\n"
     ]
    },
    {
     "name": "stderr",
     "output_type": "stream",
     "text": [
      "100%|██████████████████████████████████████████| 16/16 [00:00<00:00, 118.15it/s]\n",
      "  7%|██▉                                         | 2/30 [00:00<00:10,  2.56it/s]"
     ]
    },
    {
     "name": "stdout",
     "output_type": "stream",
     "text": [
      "Epoch 1:  (best: True)train loss = 0.105 (auc: 0.861 f1: 0.391), validation loss = 0.106 (auc: 0.866 f1: 0.373)\n"
     ]
    },
    {
     "name": "stderr",
     "output_type": "stream",
     "text": [
      "100%|██████████████████████████████████████████| 16/16 [00:00<00:00, 123.17it/s]\n",
      " 10%|████▍                                       | 3/30 [00:01<00:10,  2.68it/s]"
     ]
    },
    {
     "name": "stdout",
     "output_type": "stream",
     "text": [
      "Epoch 2:  (best: True)train loss = 0.101 (auc: 0.870 f1: 0.457), validation loss = 0.103 (auc: 0.879 f1: 0.422)\n"
     ]
    },
    {
     "name": "stderr",
     "output_type": "stream",
     "text": [
      "100%|██████████████████████████████████████████| 16/16 [00:00<00:00, 107.42it/s]\n",
      " 13%|█████▊                                      | 4/30 [00:01<00:09,  2.74it/s]"
     ]
    },
    {
     "name": "stdout",
     "output_type": "stream",
     "text": [
      "Epoch 3:  (best: True)train loss = 0.101 (auc: 0.873 f1: 0.495), validation loss = 0.101 (auc: 0.880 f1: 0.482)\n"
     ]
    },
    {
     "name": "stderr",
     "output_type": "stream",
     "text": [
      "100%|███████████████████████████████████████████| 16/16 [00:00<00:00, 93.89it/s]\n",
      " 17%|███████▎                                    | 5/30 [00:01<00:09,  2.74it/s]"
     ]
    },
    {
     "name": "stdout",
     "output_type": "stream",
     "text": [
      "Epoch 4:  (best: True)train loss = 0.100 (auc: 0.872 f1: 0.525), validation loss = 0.101 (auc: 0.881 f1: 0.493)\n"
     ]
    },
    {
     "name": "stderr",
     "output_type": "stream",
     "text": [
      "100%|██████████████████████████████████████████| 16/16 [00:00<00:00, 100.28it/s]\n",
      " 20%|████████▊                                   | 6/30 [00:02<00:08,  2.70it/s]"
     ]
    },
    {
     "name": "stdout",
     "output_type": "stream",
     "text": [
      "Epoch 5:  (best: True)train loss = 0.098 (auc: 0.885 f1: 0.581), validation loss = 0.100 (auc: 0.892 f1: 0.536)\n"
     ]
    },
    {
     "name": "stderr",
     "output_type": "stream",
     "text": [
      "100%|███████████████████████████████████████████| 16/16 [00:00<00:00, 92.83it/s]\n",
      " 23%|██████████▎                                 | 7/30 [00:02<00:08,  2.63it/s]"
     ]
    },
    {
     "name": "stdout",
     "output_type": "stream",
     "text": [
      "Epoch 6:  (best: False)train loss = 0.098 (auc: 0.889 f1: 0.575), validation loss = 0.100 (auc: 0.895 f1: 0.536)\n"
     ]
    },
    {
     "name": "stderr",
     "output_type": "stream",
     "text": [
      "100%|██████████████████████████████████████████| 16/16 [00:00<00:00, 104.37it/s]\n",
      " 27%|███████████▋                                | 8/30 [00:03<00:08,  2.65it/s]"
     ]
    },
    {
     "name": "stdout",
     "output_type": "stream",
     "text": [
      "Epoch 7:  (best: False)train loss = 0.098 (auc: 0.889 f1: 0.582), validation loss = 0.100 (auc: 0.894 f1: 0.526)\n"
     ]
    },
    {
     "name": "stderr",
     "output_type": "stream",
     "text": [
      "100%|██████████████████████████████████████████| 16/16 [00:00<00:00, 122.26it/s]\n",
      " 30%|█████████████▏                              | 9/30 [00:03<00:07,  2.73it/s]"
     ]
    },
    {
     "name": "stdout",
     "output_type": "stream",
     "text": [
      "Epoch 8:  (best: True)train loss = 0.097 (auc: 0.895 f1: 0.586), validation loss = 0.100 (auc: 0.895 f1: 0.537)\n"
     ]
    },
    {
     "name": "stderr",
     "output_type": "stream",
     "text": [
      "100%|██████████████████████████████████████████| 16/16 [00:00<00:00, 122.57it/s]\n",
      " 33%|██████████████▎                            | 10/30 [00:03<00:07,  2.78it/s]"
     ]
    },
    {
     "name": "stdout",
     "output_type": "stream",
     "text": [
      "Epoch 9:  (best: True)train loss = 0.097 (auc: 0.904 f1: 0.647), validation loss = 0.099 (auc: 0.903 f1: 0.582)\n"
     ]
    },
    {
     "name": "stderr",
     "output_type": "stream",
     "text": [
      "100%|██████████████████████████████████████████| 16/16 [00:00<00:00, 107.22it/s]\n",
      " 37%|███████████████▊                           | 11/30 [00:04<00:06,  2.74it/s]"
     ]
    },
    {
     "name": "stdout",
     "output_type": "stream",
     "text": [
      "Epoch 10:  (best: True)train loss = 0.096 (auc: 0.910 f1: 0.663), validation loss = 0.099 (auc: 0.904 f1: 0.588)\n"
     ]
    },
    {
     "name": "stderr",
     "output_type": "stream",
     "text": [
      "100%|██████████████████████████████████████████| 16/16 [00:00<00:00, 112.74it/s]\n",
      " 40%|█████████████████▏                         | 12/30 [00:04<00:06,  2.71it/s]"
     ]
    },
    {
     "name": "stdout",
     "output_type": "stream",
     "text": [
      "Epoch 11:  (best: True)train loss = 0.095 (auc: 0.918 f1: 0.705), validation loss = 0.098 (auc: 0.911 f1: 0.630)\n"
     ]
    },
    {
     "name": "stderr",
     "output_type": "stream",
     "text": [
      "100%|██████████████████████████████████████████| 16/16 [00:00<00:00, 124.15it/s]\n",
      " 43%|██████████████████▋                        | 13/30 [00:04<00:06,  2.74it/s]"
     ]
    },
    {
     "name": "stdout",
     "output_type": "stream",
     "text": [
      "Epoch 12:  (best: False)train loss = 0.095 (auc: 0.924 f1: 0.707), validation loss = 0.098 (auc: 0.911 f1: 0.624)\n"
     ]
    },
    {
     "name": "stderr",
     "output_type": "stream",
     "text": [
      "100%|██████████████████████████████████████████| 16/16 [00:00<00:00, 118.96it/s]\n",
      " 47%|████████████████████                       | 14/30 [00:05<00:05,  2.79it/s]"
     ]
    },
    {
     "name": "stdout",
     "output_type": "stream",
     "text": [
      "Epoch 13:  (best: False)train loss = 0.095 (auc: 0.924 f1: 0.714), validation loss = 0.098 (auc: 0.909 f1: 0.622)\n"
     ]
    },
    {
     "name": "stderr",
     "output_type": "stream",
     "text": [
      "100%|██████████████████████████████████████████| 16/16 [00:00<00:00, 108.97it/s]\n",
      " 50%|█████████████████████▌                     | 15/30 [00:05<00:05,  2.79it/s]"
     ]
    },
    {
     "name": "stdout",
     "output_type": "stream",
     "text": [
      "Epoch 14:  (best: False)train loss = 0.094 (auc: 0.925 f1: 0.716), validation loss = 0.098 (auc: 0.910 f1: 0.627)\n"
     ]
    },
    {
     "name": "stderr",
     "output_type": "stream",
     "text": [
      "100%|██████████████████████████████████████████| 16/16 [00:00<00:00, 119.42it/s]\n",
      " 53%|██████████████████████▉                    | 16/30 [00:05<00:05,  2.80it/s]"
     ]
    },
    {
     "name": "stdout",
     "output_type": "stream",
     "text": [
      "Epoch 15:  (best: True)train loss = 0.094 (auc: 0.922 f1: 0.720), validation loss = 0.098 (auc: 0.906 f1: 0.633)\n"
     ]
    },
    {
     "name": "stderr",
     "output_type": "stream",
     "text": [
      "100%|██████████████████████████████████████████| 16/16 [00:00<00:00, 101.92it/s]\n",
      " 57%|████████████████████████▎                  | 17/30 [00:06<00:04,  2.77it/s]"
     ]
    },
    {
     "name": "stdout",
     "output_type": "stream",
     "text": [
      "Epoch 16:  (best: False)train loss = 0.094 (auc: 0.921 f1: 0.722), validation loss = 0.097 (auc: 0.907 f1: 0.631)\n"
     ]
    },
    {
     "name": "stderr",
     "output_type": "stream",
     "text": [
      "100%|██████████████████████████████████████████| 16/16 [00:00<00:00, 113.66it/s]\n",
      " 60%|█████████████████████████▊                 | 18/30 [00:06<00:04,  2.71it/s]"
     ]
    },
    {
     "name": "stdout",
     "output_type": "stream",
     "text": [
      "Epoch 17:  (best: False)train loss = 0.094 (auc: 0.924 f1: 0.717), validation loss = 0.098 (auc: 0.910 f1: 0.629)\n"
     ]
    },
    {
     "name": "stderr",
     "output_type": "stream",
     "text": [
      "100%|██████████████████████████████████████████| 16/16 [00:00<00:00, 133.94it/s]\n",
      " 63%|███████████████████████████▏               | 19/30 [00:06<00:04,  2.70it/s]"
     ]
    },
    {
     "name": "stdout",
     "output_type": "stream",
     "text": [
      "Epoch 18:  (best: False)train loss = 0.094 (auc: 0.925 f1: 0.731), validation loss = 0.097 (auc: 0.911 f1: 0.629)\n"
     ]
    },
    {
     "name": "stderr",
     "output_type": "stream",
     "text": [
      "100%|██████████████████████████████████████████| 16/16 [00:00<00:00, 129.06it/s]\n",
      " 67%|████████████████████████████▋              | 20/30 [00:07<00:03,  2.76it/s]"
     ]
    },
    {
     "name": "stdout",
     "output_type": "stream",
     "text": [
      "Epoch 19:  (best: False)train loss = 0.094 (auc: 0.925 f1: 0.737), validation loss = 0.097 (auc: 0.914 f1: 0.627)\n"
     ]
    },
    {
     "name": "stderr",
     "output_type": "stream",
     "text": [
      "100%|██████████████████████████████████████████| 16/16 [00:00<00:00, 125.75it/s]\n",
      " 70%|██████████████████████████████             | 21/30 [00:07<00:03,  2.76it/s]"
     ]
    },
    {
     "name": "stdout",
     "output_type": "stream",
     "text": [
      "Epoch 20:  (best: True)train loss = 0.094 (auc: 0.925 f1: 0.735), validation loss = 0.097 (auc: 0.907 f1: 0.642)\n"
     ]
    },
    {
     "name": "stderr",
     "output_type": "stream",
     "text": [
      "100%|██████████████████████████████████████████| 16/16 [00:00<00:00, 109.84it/s]\n",
      " 73%|███████████████████████████████▌           | 22/30 [00:08<00:02,  2.72it/s]"
     ]
    },
    {
     "name": "stdout",
     "output_type": "stream",
     "text": [
      "Epoch 21:  (best: False)train loss = 0.094 (auc: 0.923 f1: 0.739), validation loss = 0.098 (auc: 0.907 f1: 0.621)\n"
     ]
    },
    {
     "name": "stderr",
     "output_type": "stream",
     "text": [
      "100%|███████████████████████████████████████████| 16/16 [00:00<00:00, 95.51it/s]\n",
      " 77%|████████████████████████████████▉          | 23/30 [00:08<00:02,  2.60it/s]"
     ]
    },
    {
     "name": "stdout",
     "output_type": "stream",
     "text": [
      "Epoch 22:  (best: False)train loss = 0.094 (auc: 0.924 f1: 0.740), validation loss = 0.097 (auc: 0.907 f1: 0.642)\n"
     ]
    },
    {
     "name": "stderr",
     "output_type": "stream",
     "text": [
      "100%|██████████████████████████████████████████| 16/16 [00:00<00:00, 102.94it/s]\n",
      " 80%|██████████████████████████████████▍        | 24/30 [00:08<00:02,  2.55it/s]"
     ]
    },
    {
     "name": "stdout",
     "output_type": "stream",
     "text": [
      "Epoch 23:  (best: False)train loss = 0.093 (auc: 0.924 f1: 0.739), validation loss = 0.097 (auc: 0.908 f1: 0.636)\n"
     ]
    },
    {
     "name": "stderr",
     "output_type": "stream",
     "text": [
      "100%|███████████████████████████████████████████| 16/16 [00:00<00:00, 90.22it/s]\n",
      " 83%|███████████████████████████████████▊       | 25/30 [00:09<00:01,  2.52it/s]"
     ]
    },
    {
     "name": "stdout",
     "output_type": "stream",
     "text": [
      "Epoch 24:  (best: False)train loss = 0.094 (auc: 0.924 f1: 0.738), validation loss = 0.097 (auc: 0.909 f1: 0.636)\n"
     ]
    },
    {
     "name": "stderr",
     "output_type": "stream",
     "text": [
      "100%|███████████████████████████████████████████| 16/16 [00:00<00:00, 98.10it/s]\n",
      " 87%|█████████████████████████████████████▎     | 26/30 [00:09<00:01,  2.54it/s]"
     ]
    },
    {
     "name": "stdout",
     "output_type": "stream",
     "text": [
      "Epoch 25:  (best: False)train loss = 0.093 (auc: 0.924 f1: 0.738), validation loss = 0.097 (auc: 0.907 f1: 0.635)\n"
     ]
    },
    {
     "name": "stderr",
     "output_type": "stream",
     "text": [
      "100%|███████████████████████████████████████████| 16/16 [00:00<00:00, 97.74it/s]\n",
      " 90%|██████████████████████████████████████▋    | 27/30 [00:10<00:01,  2.47it/s]"
     ]
    },
    {
     "name": "stdout",
     "output_type": "stream",
     "text": [
      "Epoch 26:  (best: False)train loss = 0.093 (auc: 0.925 f1: 0.738), validation loss = 0.097 (auc: 0.909 f1: 0.626)\n"
     ]
    },
    {
     "name": "stderr",
     "output_type": "stream",
     "text": [
      "100%|███████████████████████████████████████████| 16/16 [00:00<00:00, 74.31it/s]\n",
      " 93%|████████████████████████████████████████▏  | 28/30 [00:10<00:00,  2.30it/s]"
     ]
    },
    {
     "name": "stdout",
     "output_type": "stream",
     "text": [
      "Epoch 27:  (best: False)train loss = 0.093 (auc: 0.924 f1: 0.743), validation loss = 0.097 (auc: 0.906 f1: 0.631)\n"
     ]
    },
    {
     "name": "stderr",
     "output_type": "stream",
     "text": [
      "100%|███████████████████████████████████████████| 16/16 [00:00<00:00, 86.32it/s]\n",
      " 97%|█████████████████████████████████████████▌ | 29/30 [00:11<00:00,  2.25it/s]"
     ]
    },
    {
     "name": "stdout",
     "output_type": "stream",
     "text": [
      "Epoch 28:  (best: False)train loss = 0.093 (auc: 0.925 f1: 0.763), validation loss = 0.097 (auc: 0.910 f1: 0.638)\n"
     ]
    },
    {
     "name": "stderr",
     "output_type": "stream",
     "text": [
      "100%|███████████████████████████████████████████| 16/16 [00:00<00:00, 99.50it/s]\n",
      "100%|███████████████████████████████████████████| 30/30 [00:11<00:00,  2.61it/s]\n"
     ]
    },
    {
     "name": "stdout",
     "output_type": "stream",
     "text": [
      "Epoch 29:  (best: True)train loss = 0.093 (auc: 0.927 f1: 0.775), validation loss = 0.097 (auc: 0.910 f1: 0.659)\n"
     ]
    },
    {
     "name": "stderr",
     "output_type": "stream",
     "text": [
      "100%|██████████████████████████████████████████| 16/16 [00:00<00:00, 103.64it/s]\n",
      "  3%|█▍                                          | 1/30 [00:00<00:13,  2.12it/s]"
     ]
    },
    {
     "name": "stdout",
     "output_type": "stream",
     "text": [
      "Epoch 0:  (best: True)train loss = 0.113 (auc: 0.907 f1: 0.247), validation loss = 0.114 (auc: 0.894 f1: 0.216)\n"
     ]
    },
    {
     "name": "stderr",
     "output_type": "stream",
     "text": [
      "100%|██████████████████████████████████████████| 16/16 [00:00<00:00, 113.56it/s]\n",
      "  7%|██▉                                         | 2/30 [00:00<00:12,  2.27it/s]"
     ]
    },
    {
     "name": "stdout",
     "output_type": "stream",
     "text": [
      "Epoch 1:  (best: True)train loss = 0.105 (auc: 0.864 f1: 0.414), validation loss = 0.106 (auc: 0.873 f1: 0.385)\n"
     ]
    },
    {
     "name": "stderr",
     "output_type": "stream",
     "text": [
      "100%|███████████████████████████████████████████| 16/16 [00:00<00:00, 93.37it/s]\n",
      " 10%|████▍                                       | 3/30 [00:01<00:12,  2.20it/s]"
     ]
    },
    {
     "name": "stdout",
     "output_type": "stream",
     "text": [
      "Epoch 2:  (best: True)train loss = 0.100 (auc: 0.884 f1: 0.490), validation loss = 0.101 (auc: 0.899 f1: 0.475)\n"
     ]
    },
    {
     "name": "stderr",
     "output_type": "stream",
     "text": [
      "100%|██████████████████████████████████████████| 16/16 [00:00<00:00, 121.86it/s]\n",
      " 13%|█████▊                                      | 4/30 [00:01<00:11,  2.23it/s]"
     ]
    },
    {
     "name": "stdout",
     "output_type": "stream",
     "text": [
      "Epoch 3:  (best: True)train loss = 0.100 (auc: 0.888 f1: 0.533), validation loss = 0.100 (auc: 0.902 f1: 0.509)\n"
     ]
    },
    {
     "name": "stderr",
     "output_type": "stream",
     "text": [
      "100%|██████████████████████████████████████████| 16/16 [00:00<00:00, 103.26it/s]\n",
      " 17%|███████▎                                    | 5/30 [00:02<00:10,  2.34it/s]"
     ]
    },
    {
     "name": "stdout",
     "output_type": "stream",
     "text": [
      "Epoch 4:  (best: True)train loss = 0.099 (auc: 0.888 f1: 0.540), validation loss = 0.099 (auc: 0.899 f1: 0.525)\n"
     ]
    },
    {
     "name": "stderr",
     "output_type": "stream",
     "text": [
      "100%|██████████████████████████████████████████| 16/16 [00:00<00:00, 112.08it/s]\n",
      " 20%|████████▊                                   | 6/30 [00:02<00:10,  2.39it/s]"
     ]
    },
    {
     "name": "stdout",
     "output_type": "stream",
     "text": [
      "Epoch 5:  (best: True)train loss = 0.098 (auc: 0.892 f1: 0.565), validation loss = 0.099 (auc: 0.906 f1: 0.541)\n"
     ]
    },
    {
     "name": "stderr",
     "output_type": "stream",
     "text": [
      "100%|██████████████████████████████████████████| 16/16 [00:00<00:00, 104.38it/s]\n",
      " 23%|██████████▎                                 | 7/30 [00:02<00:09,  2.41it/s]"
     ]
    },
    {
     "name": "stdout",
     "output_type": "stream",
     "text": [
      "Epoch 6:  (best: True)train loss = 0.097 (auc: 0.896 f1: 0.605), validation loss = 0.099 (auc: 0.909 f1: 0.565)\n"
     ]
    },
    {
     "name": "stderr",
     "output_type": "stream",
     "text": [
      "100%|██████████████████████████████████████████| 16/16 [00:00<00:00, 114.01it/s]\n",
      " 27%|███████████▋                                | 8/30 [00:03<00:09,  2.42it/s]"
     ]
    },
    {
     "name": "stdout",
     "output_type": "stream",
     "text": [
      "Epoch 7:  (best: True)train loss = 0.097 (auc: 0.900 f1: 0.629), validation loss = 0.099 (auc: 0.912 f1: 0.580)\n"
     ]
    },
    {
     "name": "stderr",
     "output_type": "stream",
     "text": [
      "100%|██████████████████████████████████████████| 16/16 [00:00<00:00, 107.49it/s]\n",
      " 30%|█████████████▏                              | 9/30 [00:03<00:08,  2.37it/s]"
     ]
    },
    {
     "name": "stdout",
     "output_type": "stream",
     "text": [
      "Epoch 8:  (best: True)train loss = 0.096 (auc: 0.909 f1: 0.641), validation loss = 0.098 (auc: 0.917 f1: 0.594)\n"
     ]
    },
    {
     "name": "stderr",
     "output_type": "stream",
     "text": [
      "100%|██████████████████████████████████████████| 16/16 [00:00<00:00, 108.05it/s]\n",
      " 33%|██████████████▎                            | 10/30 [00:04<00:08,  2.39it/s]"
     ]
    },
    {
     "name": "stdout",
     "output_type": "stream",
     "text": [
      "Epoch 9:  (best: False)train loss = 0.096 (auc: 0.909 f1: 0.647), validation loss = 0.098 (auc: 0.912 f1: 0.591)\n"
     ]
    },
    {
     "name": "stderr",
     "output_type": "stream",
     "text": [
      "100%|██████████████████████████████████████████| 16/16 [00:00<00:00, 100.69it/s]\n",
      " 37%|███████████████▊                           | 11/30 [00:04<00:07,  2.43it/s]"
     ]
    },
    {
     "name": "stdout",
     "output_type": "stream",
     "text": [
      "Epoch 10:  (best: False)train loss = 0.096 (auc: 0.911 f1: 0.648), validation loss = 0.098 (auc: 0.912 f1: 0.592)\n"
     ]
    },
    {
     "name": "stderr",
     "output_type": "stream",
     "text": [
      "100%|██████████████████████████████████████████| 16/16 [00:00<00:00, 107.90it/s]\n",
      " 40%|█████████████████▏                         | 12/30 [00:05<00:07,  2.49it/s]"
     ]
    },
    {
     "name": "stdout",
     "output_type": "stream",
     "text": [
      "Epoch 11:  (best: False)train loss = 0.096 (auc: 0.909 f1: 0.648), validation loss = 0.098 (auc: 0.911 f1: 0.585)\n"
     ]
    },
    {
     "name": "stderr",
     "output_type": "stream",
     "text": [
      "100%|██████████████████████████████████████████| 16/16 [00:00<00:00, 109.71it/s]\n",
      " 43%|██████████████████▋                        | 13/30 [00:05<00:06,  2.55it/s]"
     ]
    },
    {
     "name": "stdout",
     "output_type": "stream",
     "text": [
      "Epoch 12:  (best: True)train loss = 0.096 (auc: 0.914 f1: 0.680), validation loss = 0.098 (auc: 0.913 f1: 0.620)\n"
     ]
    },
    {
     "name": "stderr",
     "output_type": "stream",
     "text": [
      "100%|██████████████████████████████████████████| 16/16 [00:00<00:00, 107.99it/s]\n",
      " 47%|████████████████████                       | 14/30 [00:05<00:06,  2.44it/s]"
     ]
    },
    {
     "name": "stdout",
     "output_type": "stream",
     "text": [
      "Epoch 13:  (best: False)train loss = 0.095 (auc: 0.916 f1: 0.680), validation loss = 0.098 (auc: 0.914 f1: 0.595)\n"
     ]
    },
    {
     "name": "stderr",
     "output_type": "stream",
     "text": [
      "100%|███████████████████████████████████████████| 16/16 [00:00<00:00, 75.42it/s]\n",
      " 50%|█████████████████████▌                     | 15/30 [00:06<00:06,  2.31it/s]"
     ]
    },
    {
     "name": "stdout",
     "output_type": "stream",
     "text": [
      "Epoch 14:  (best: False)train loss = 0.095 (auc: 0.915 f1: 0.677), validation loss = 0.098 (auc: 0.912 f1: 0.597)\n"
     ]
    },
    {
     "name": "stderr",
     "output_type": "stream",
     "text": [
      "100%|███████████████████████████████████████████| 16/16 [00:00<00:00, 79.29it/s]\n",
      " 53%|██████████████████████▉                    | 16/30 [00:06<00:06,  2.22it/s]"
     ]
    },
    {
     "name": "stdout",
     "output_type": "stream",
     "text": [
      "Epoch 15:  (best: False)train loss = 0.095 (auc: 0.919 f1: 0.690), validation loss = 0.098 (auc: 0.915 f1: 0.608)\n"
     ]
    },
    {
     "name": "stderr",
     "output_type": "stream",
     "text": [
      "100%|███████████████████████████████████████████| 16/16 [00:00<00:00, 88.56it/s]\n",
      " 57%|████████████████████████▎                  | 17/30 [00:07<00:06,  2.12it/s]"
     ]
    },
    {
     "name": "stdout",
     "output_type": "stream",
     "text": [
      "Epoch 16:  (best: False)train loss = 0.095 (auc: 0.919 f1: 0.685), validation loss = 0.098 (auc: 0.915 f1: 0.606)\n"
     ]
    },
    {
     "name": "stderr",
     "output_type": "stream",
     "text": [
      "100%|███████████████████████████████████████████| 16/16 [00:00<00:00, 81.05it/s]\n",
      " 60%|█████████████████████████▊                 | 18/30 [00:07<00:05,  2.18it/s]"
     ]
    },
    {
     "name": "stdout",
     "output_type": "stream",
     "text": [
      "Epoch 17:  (best: False)train loss = 0.095 (auc: 0.920 f1: 0.698), validation loss = 0.098 (auc: 0.916 f1: 0.595)\n"
     ]
    },
    {
     "name": "stderr",
     "output_type": "stream",
     "text": [
      "100%|███████████████████████████████████████████| 16/16 [00:00<00:00, 93.63it/s]\n",
      " 63%|███████████████████████████▏               | 19/30 [00:08<00:05,  2.17it/s]"
     ]
    },
    {
     "name": "stdout",
     "output_type": "stream",
     "text": [
      "Epoch 18:  (best: True)train loss = 0.094 (auc: 0.919 f1: 0.707), validation loss = 0.098 (auc: 0.915 f1: 0.622)\n"
     ]
    },
    {
     "name": "stderr",
     "output_type": "stream",
     "text": [
      "100%|██████████████████████████████████████████| 16/16 [00:00<00:00, 112.79it/s]\n",
      " 67%|████████████████████████████▋              | 20/30 [00:08<00:04,  2.20it/s]"
     ]
    },
    {
     "name": "stdout",
     "output_type": "stream",
     "text": [
      "Epoch 19:  (best: False)train loss = 0.094 (auc: 0.920 f1: 0.704), validation loss = 0.098 (auc: 0.916 f1: 0.613)\n"
     ]
    },
    {
     "name": "stderr",
     "output_type": "stream",
     "text": [
      "100%|███████████████████████████████████████████| 16/16 [00:00<00:00, 77.08it/s]\n",
      " 70%|██████████████████████████████             | 21/30 [00:09<00:04,  2.15it/s]"
     ]
    },
    {
     "name": "stdout",
     "output_type": "stream",
     "text": [
      "Epoch 20:  (best: False)train loss = 0.094 (auc: 0.920 f1: 0.707), validation loss = 0.098 (auc: 0.914 f1: 0.619)\n"
     ]
    },
    {
     "name": "stderr",
     "output_type": "stream",
     "text": [
      "100%|███████████████████████████████████████████| 16/16 [00:00<00:00, 95.08it/s]\n",
      " 73%|███████████████████████████████▌           | 22/30 [00:09<00:03,  2.20it/s]"
     ]
    },
    {
     "name": "stdout",
     "output_type": "stream",
     "text": [
      "Epoch 21:  (best: False)train loss = 0.095 (auc: 0.921 f1: 0.710), validation loss = 0.098 (auc: 0.915 f1: 0.616)\n"
     ]
    },
    {
     "name": "stderr",
     "output_type": "stream",
     "text": [
      "100%|███████████████████████████████████████████| 16/16 [00:00<00:00, 84.57it/s]\n",
      " 77%|████████████████████████████████▉          | 23/30 [00:10<00:03,  2.21it/s]"
     ]
    },
    {
     "name": "stdout",
     "output_type": "stream",
     "text": [
      "Epoch 22:  (best: False)train loss = 0.094 (auc: 0.922 f1: 0.710), validation loss = 0.098 (auc: 0.914 f1: 0.615)\n"
     ]
    },
    {
     "name": "stderr",
     "output_type": "stream",
     "text": [
      "100%|███████████████████████████████████████████| 16/16 [00:00<00:00, 73.95it/s]\n",
      " 80%|██████████████████████████████████▍        | 24/30 [00:10<00:02,  2.16it/s]"
     ]
    },
    {
     "name": "stdout",
     "output_type": "stream",
     "text": [
      "Epoch 23:  (best: False)train loss = 0.094 (auc: 0.922 f1: 0.707), validation loss = 0.098 (auc: 0.917 f1: 0.614)\n"
     ]
    },
    {
     "name": "stderr",
     "output_type": "stream",
     "text": [
      "100%|███████████████████████████████████████████| 16/16 [00:00<00:00, 96.10it/s]\n",
      " 83%|███████████████████████████████████▊       | 25/30 [00:10<00:02,  2.18it/s]"
     ]
    },
    {
     "name": "stdout",
     "output_type": "stream",
     "text": [
      "Epoch 24:  (best: False)train loss = 0.094 (auc: 0.923 f1: 0.708), validation loss = 0.098 (auc: 0.916 f1: 0.617)\n"
     ]
    },
    {
     "name": "stderr",
     "output_type": "stream",
     "text": [
      "100%|███████████████████████████████████████████| 16/16 [00:00<00:00, 79.05it/s]\n",
      " 87%|█████████████████████████████████████▎     | 26/30 [00:11<00:01,  2.15it/s]"
     ]
    },
    {
     "name": "stdout",
     "output_type": "stream",
     "text": [
      "Epoch 25:  (best: False)train loss = 0.094 (auc: 0.923 f1: 0.708), validation loss = 0.098 (auc: 0.916 f1: 0.606)\n"
     ]
    },
    {
     "name": "stderr",
     "output_type": "stream",
     "text": [
      "100%|███████████████████████████████████████████| 16/16 [00:00<00:00, 86.53it/s]\n",
      " 90%|██████████████████████████████████████▋    | 27/30 [00:11<00:01,  2.17it/s]"
     ]
    },
    {
     "name": "stdout",
     "output_type": "stream",
     "text": [
      "Epoch 26:  (best: False)train loss = 0.094 (auc: 0.924 f1: 0.708), validation loss = 0.098 (auc: 0.916 f1: 0.607)\n"
     ]
    },
    {
     "name": "stderr",
     "output_type": "stream",
     "text": [
      "100%|██████████████████████████████████████████| 16/16 [00:00<00:00, 104.74it/s]\n",
      " 93%|████████████████████████████████████████▏  | 28/30 [00:12<00:00,  2.14it/s]"
     ]
    },
    {
     "name": "stdout",
     "output_type": "stream",
     "text": [
      "Epoch 27:  (best: False)train loss = 0.094 (auc: 0.923 f1: 0.708), validation loss = 0.098 (auc: 0.916 f1: 0.614)\n"
     ]
    },
    {
     "name": "stderr",
     "output_type": "stream",
     "text": [
      "100%|██████████████████████████████████████████| 16/16 [00:00<00:00, 117.65it/s]\n",
      " 97%|█████████████████████████████████████████▌ | 29/30 [00:12<00:00,  2.27it/s]"
     ]
    },
    {
     "name": "stdout",
     "output_type": "stream",
     "text": [
      "Epoch 28:  (best: False)train loss = 0.094 (auc: 0.923 f1: 0.707), validation loss = 0.098 (auc: 0.916 f1: 0.610)\n"
     ]
    },
    {
     "name": "stderr",
     "output_type": "stream",
     "text": [
      "100%|██████████████████████████████████████████| 16/16 [00:00<00:00, 100.35it/s]\n",
      "100%|███████████████████████████████████████████| 30/30 [00:13<00:00,  2.27it/s]\n"
     ]
    },
    {
     "name": "stdout",
     "output_type": "stream",
     "text": [
      "Epoch 29:  (best: False)train loss = 0.094 (auc: 0.926 f1: 0.728), validation loss = 0.098 (auc: 0.918 f1: 0.619)\n"
     ]
    },
    {
     "name": "stderr",
     "output_type": "stream",
     "text": [
      "100%|███████████████████████████████████████████| 16/16 [00:00<00:00, 95.33it/s]\n",
      "  3%|█▍                                          | 1/30 [00:00<00:13,  2.18it/s]"
     ]
    },
    {
     "name": "stdout",
     "output_type": "stream",
     "text": [
      "Epoch 0:  (best: True)train loss = 0.112 (auc: 0.854 f1: 0.081), validation loss = 0.113 (auc: 0.872 f1: 0.061)\n"
     ]
    },
    {
     "name": "stderr",
     "output_type": "stream",
     "text": [
      "100%|███████████████████████████████████████████| 16/16 [00:00<00:00, 67.97it/s]\n",
      "  7%|██▉                                         | 2/30 [00:00<00:13,  2.08it/s]"
     ]
    },
    {
     "name": "stdout",
     "output_type": "stream",
     "text": [
      "Epoch 1:  (best: True)train loss = 0.105 (auc: 0.867 f1: 0.420), validation loss = 0.106 (auc: 0.883 f1: 0.414)\n"
     ]
    },
    {
     "name": "stderr",
     "output_type": "stream",
     "text": [
      "100%|███████████████████████████████████████████| 16/16 [00:00<00:00, 94.80it/s]\n",
      " 10%|████▍                                       | 3/30 [00:01<00:12,  2.14it/s]"
     ]
    },
    {
     "name": "stdout",
     "output_type": "stream",
     "text": [
      "Epoch 2:  (best: True)train loss = 0.102 (auc: 0.864 f1: 0.478), validation loss = 0.102 (auc: 0.877 f1: 0.463)\n"
     ]
    },
    {
     "name": "stderr",
     "output_type": "stream",
     "text": [
      "100%|███████████████████████████████████████████| 16/16 [00:00<00:00, 78.90it/s]\n",
      " 13%|█████▊                                      | 4/30 [00:01<00:12,  2.09it/s]"
     ]
    },
    {
     "name": "stdout",
     "output_type": "stream",
     "text": [
      "Epoch 3:  (best: True)train loss = 0.100 (auc: 0.875 f1: 0.500), validation loss = 0.101 (auc: 0.891 f1: 0.492)\n"
     ]
    },
    {
     "name": "stderr",
     "output_type": "stream",
     "text": [
      "100%|██████████████████████████████████████████| 16/16 [00:00<00:00, 124.33it/s]\n",
      " 17%|███████▎                                    | 5/30 [00:02<00:11,  2.23it/s]"
     ]
    },
    {
     "name": "stdout",
     "output_type": "stream",
     "text": [
      "Epoch 4:  (best: True)train loss = 0.099 (auc: 0.887 f1: 0.542), validation loss = 0.100 (auc: 0.901 f1: 0.530)\n"
     ]
    },
    {
     "name": "stderr",
     "output_type": "stream",
     "text": [
      "100%|███████████████████████████████████████████| 16/16 [00:00<00:00, 89.24it/s]\n",
      " 20%|████████▊                                   | 6/30 [00:02<00:11,  2.08it/s]"
     ]
    },
    {
     "name": "stdout",
     "output_type": "stream",
     "text": [
      "Epoch 5:  (best: True)train loss = 0.098 (auc: 0.890 f1: 0.566), validation loss = 0.099 (auc: 0.897 f1: 0.547)\n"
     ]
    },
    {
     "name": "stderr",
     "output_type": "stream",
     "text": [
      "100%|███████████████████████████████████████████| 16/16 [00:00<00:00, 99.90it/s]\n",
      " 23%|██████████▎                                 | 7/30 [00:03<00:10,  2.17it/s]"
     ]
    },
    {
     "name": "stdout",
     "output_type": "stream",
     "text": [
      "Epoch 6:  (best: True)train loss = 0.098 (auc: 0.900 f1: 0.626), validation loss = 0.099 (auc: 0.910 f1: 0.588)\n"
     ]
    },
    {
     "name": "stderr",
     "output_type": "stream",
     "text": [
      "100%|██████████████████████████████████████████| 16/16 [00:00<00:00, 112.49it/s]\n",
      " 27%|███████████▋                                | 8/30 [00:03<00:09,  2.29it/s]"
     ]
    },
    {
     "name": "stdout",
     "output_type": "stream",
     "text": [
      "Epoch 7:  (best: True)train loss = 0.096 (auc: 0.906 f1: 0.632), validation loss = 0.098 (auc: 0.908 f1: 0.591)\n"
     ]
    },
    {
     "name": "stderr",
     "output_type": "stream",
     "text": [
      "100%|███████████████████████████████████████████| 16/16 [00:00<00:00, 96.24it/s]\n",
      " 30%|█████████████▏                              | 9/30 [00:04<00:09,  2.33it/s]"
     ]
    },
    {
     "name": "stdout",
     "output_type": "stream",
     "text": [
      "Epoch 8:  (best: False)train loss = 0.096 (auc: 0.909 f1: 0.637), validation loss = 0.098 (auc: 0.912 f1: 0.590)\n"
     ]
    },
    {
     "name": "stderr",
     "output_type": "stream",
     "text": [
      "100%|██████████████████████████████████████████| 16/16 [00:00<00:00, 122.43it/s]\n",
      " 33%|██████████████▎                            | 10/30 [00:04<00:08,  2.40it/s]"
     ]
    },
    {
     "name": "stdout",
     "output_type": "stream",
     "text": [
      "Epoch 9:  (best: True)train loss = 0.097 (auc: 0.909 f1: 0.642), validation loss = 0.098 (auc: 0.910 f1: 0.594)\n"
     ]
    },
    {
     "name": "stderr",
     "output_type": "stream",
     "text": [
      "100%|██████████████████████████████████████████| 16/16 [00:00<00:00, 104.18it/s]\n",
      " 37%|███████████████▊                           | 11/30 [00:04<00:07,  2.39it/s]"
     ]
    },
    {
     "name": "stdout",
     "output_type": "stream",
     "text": [
      "Epoch 10:  (best: True)train loss = 0.096 (auc: 0.912 f1: 0.681), validation loss = 0.098 (auc: 0.913 f1: 0.597)\n"
     ]
    },
    {
     "name": "stderr",
     "output_type": "stream",
     "text": [
      "100%|███████████████████████████████████████████| 16/16 [00:00<00:00, 86.78it/s]\n",
      " 40%|█████████████████▏                         | 12/30 [00:05<00:07,  2.34it/s]"
     ]
    },
    {
     "name": "stdout",
     "output_type": "stream",
     "text": [
      "Epoch 11:  (best: True)train loss = 0.095 (auc: 0.912 f1: 0.678), validation loss = 0.098 (auc: 0.910 f1: 0.610)\n"
     ]
    },
    {
     "name": "stderr",
     "output_type": "stream",
     "text": [
      "100%|███████████████████████████████████████████| 16/16 [00:00<00:00, 77.41it/s]\n",
      " 43%|██████████████████▋                        | 13/30 [00:05<00:07,  2.27it/s]"
     ]
    },
    {
     "name": "stdout",
     "output_type": "stream",
     "text": [
      "Epoch 12:  (best: False)train loss = 0.095 (auc: 0.917 f1: 0.690), validation loss = 0.098 (auc: 0.911 f1: 0.604)\n"
     ]
    },
    {
     "name": "stderr",
     "output_type": "stream",
     "text": [
      "100%|██████████████████████████████████████████| 16/16 [00:00<00:00, 100.59it/s]\n",
      " 47%|████████████████████                       | 14/30 [00:06<00:07,  2.28it/s]"
     ]
    },
    {
     "name": "stdout",
     "output_type": "stream",
     "text": [
      "Epoch 13:  (best: False)train loss = 0.095 (auc: 0.914 f1: 0.681), validation loss = 0.098 (auc: 0.911 f1: 0.599)\n"
     ]
    },
    {
     "name": "stderr",
     "output_type": "stream",
     "text": [
      "100%|███████████████████████████████████████████| 16/16 [00:00<00:00, 98.10it/s]\n",
      " 50%|█████████████████████▌                     | 15/30 [00:06<00:06,  2.30it/s]"
     ]
    },
    {
     "name": "stdout",
     "output_type": "stream",
     "text": [
      "Epoch 14:  (best: False)train loss = 0.095 (auc: 0.921 f1: 0.716), validation loss = 0.098 (auc: 0.914 f1: 0.607)\n"
     ]
    },
    {
     "name": "stderr",
     "output_type": "stream",
     "text": [
      "100%|███████████████████████████████████████████| 16/16 [00:00<00:00, 80.29it/s]\n",
      " 53%|██████████████████████▉                    | 16/30 [00:07<00:06,  2.26it/s]"
     ]
    },
    {
     "name": "stdout",
     "output_type": "stream",
     "text": [
      "Epoch 15:  (best: False)train loss = 0.095 (auc: 0.913 f1: 0.686), validation loss = 0.098 (auc: 0.909 f1: 0.606)\n"
     ]
    },
    {
     "name": "stderr",
     "output_type": "stream",
     "text": [
      "100%|███████████████████████████████████████████| 16/16 [00:00<00:00, 93.94it/s]\n",
      " 57%|████████████████████████▎                  | 17/30 [00:07<00:05,  2.32it/s]"
     ]
    },
    {
     "name": "stdout",
     "output_type": "stream",
     "text": [
      "Epoch 16:  (best: True)train loss = 0.095 (auc: 0.915 f1: 0.689), validation loss = 0.098 (auc: 0.908 f1: 0.611)\n"
     ]
    },
    {
     "name": "stderr",
     "output_type": "stream",
     "text": [
      "100%|███████████████████████████████████████████| 16/16 [00:00<00:00, 83.40it/s]\n",
      " 60%|█████████████████████████▊                 | 18/30 [00:07<00:05,  2.29it/s]"
     ]
    },
    {
     "name": "stdout",
     "output_type": "stream",
     "text": [
      "Epoch 17:  (best: False)train loss = 0.095 (auc: 0.915 f1: 0.688), validation loss = 0.098 (auc: 0.910 f1: 0.599)\n"
     ]
    },
    {
     "name": "stderr",
     "output_type": "stream",
     "text": [
      "100%|██████████████████████████████████████████| 16/16 [00:00<00:00, 115.69it/s]\n",
      " 63%|███████████████████████████▏               | 19/30 [00:08<00:04,  2.33it/s]"
     ]
    },
    {
     "name": "stdout",
     "output_type": "stream",
     "text": [
      "Epoch 18:  (best: False)train loss = 0.095 (auc: 0.912 f1: 0.688), validation loss = 0.098 (auc: 0.906 f1: 0.603)\n"
     ]
    },
    {
     "name": "stderr",
     "output_type": "stream",
     "text": [
      "100%|███████████████████████████████████████████| 16/16 [00:00<00:00, 76.27it/s]\n",
      " 67%|████████████████████████████▋              | 20/30 [00:08<00:04,  2.31it/s]"
     ]
    },
    {
     "name": "stdout",
     "output_type": "stream",
     "text": [
      "Epoch 19:  (best: False)train loss = 0.095 (auc: 0.909 f1: 0.694), validation loss = 0.098 (auc: 0.905 f1: 0.593)\n"
     ]
    },
    {
     "name": "stderr",
     "output_type": "stream",
     "text": [
      "100%|███████████████████████████████████████████| 16/16 [00:00<00:00, 95.40it/s]\n",
      " 70%|██████████████████████████████             | 21/30 [00:09<00:03,  2.38it/s]"
     ]
    },
    {
     "name": "stdout",
     "output_type": "stream",
     "text": [
      "Epoch 20:  (best: False)train loss = 0.094 (auc: 0.911 f1: 0.713), validation loss = 0.098 (auc: 0.905 f1: 0.599)\n"
     ]
    },
    {
     "name": "stderr",
     "output_type": "stream",
     "text": [
      "100%|██████████████████████████████████████████| 16/16 [00:00<00:00, 116.47it/s]\n",
      " 73%|███████████████████████████████▌           | 22/30 [00:09<00:03,  2.48it/s]"
     ]
    },
    {
     "name": "stdout",
     "output_type": "stream",
     "text": [
      "Epoch 21:  (best: True)train loss = 0.094 (auc: 0.915 f1: 0.734), validation loss = 0.098 (auc: 0.908 f1: 0.627)\n"
     ]
    },
    {
     "name": "stderr",
     "output_type": "stream",
     "text": [
      "100%|██████████████████████████████████████████| 16/16 [00:00<00:00, 118.57it/s]\n",
      " 77%|████████████████████████████████▉          | 23/30 [00:09<00:02,  2.48it/s]"
     ]
    },
    {
     "name": "stdout",
     "output_type": "stream",
     "text": [
      "Epoch 22:  (best: False)train loss = 0.094 (auc: 0.916 f1: 0.737), validation loss = 0.098 (auc: 0.907 f1: 0.619)\n"
     ]
    },
    {
     "name": "stderr",
     "output_type": "stream",
     "text": [
      "100%|██████████████████████████████████████████| 16/16 [00:00<00:00, 112.16it/s]\n",
      " 80%|██████████████████████████████████▍        | 24/30 [00:10<00:02,  2.53it/s]"
     ]
    },
    {
     "name": "stdout",
     "output_type": "stream",
     "text": [
      "Epoch 23:  (best: True)train loss = 0.094 (auc: 0.917 f1: 0.738), validation loss = 0.098 (auc: 0.908 f1: 0.631)\n"
     ]
    },
    {
     "name": "stderr",
     "output_type": "stream",
     "text": [
      "100%|██████████████████████████████████████████| 16/16 [00:00<00:00, 132.35it/s]\n",
      " 83%|███████████████████████████████████▊       | 25/30 [00:10<00:01,  2.66it/s]"
     ]
    },
    {
     "name": "stdout",
     "output_type": "stream",
     "text": [
      "Epoch 24:  (best: False)train loss = 0.094 (auc: 0.919 f1: 0.738), validation loss = 0.098 (auc: 0.909 f1: 0.628)\n"
     ]
    },
    {
     "name": "stderr",
     "output_type": "stream",
     "text": [
      "100%|██████████████████████████████████████████| 16/16 [00:00<00:00, 108.59it/s]\n",
      " 87%|█████████████████████████████████████▎     | 26/30 [00:11<00:01,  2.64it/s]"
     ]
    },
    {
     "name": "stdout",
     "output_type": "stream",
     "text": [
      "Epoch 25:  (best: True)train loss = 0.093 (auc: 0.920 f1: 0.738), validation loss = 0.098 (auc: 0.906 f1: 0.633)\n"
     ]
    },
    {
     "name": "stderr",
     "output_type": "stream",
     "text": [
      "100%|██████████████████████████████████████████| 16/16 [00:00<00:00, 101.71it/s]\n",
      " 90%|██████████████████████████████████████▋    | 27/30 [00:11<00:01,  2.57it/s]"
     ]
    },
    {
     "name": "stdout",
     "output_type": "stream",
     "text": [
      "Epoch 26:  (best: False)train loss = 0.093 (auc: 0.916 f1: 0.741), validation loss = 0.098 (auc: 0.910 f1: 0.617)\n"
     ]
    },
    {
     "name": "stderr",
     "output_type": "stream",
     "text": [
      "100%|██████████████████████████████████████████| 16/16 [00:00<00:00, 100.02it/s]\n",
      " 93%|████████████████████████████████████████▏  | 28/30 [00:11<00:00,  2.57it/s]"
     ]
    },
    {
     "name": "stdout",
     "output_type": "stream",
     "text": [
      "Epoch 27:  (best: False)train loss = 0.094 (auc: 0.916 f1: 0.741), validation loss = 0.097 (auc: 0.909 f1: 0.625)\n"
     ]
    },
    {
     "name": "stderr",
     "output_type": "stream",
     "text": [
      "100%|██████████████████████████████████████████| 16/16 [00:00<00:00, 109.44it/s]\n",
      " 97%|█████████████████████████████████████████▌ | 29/30 [00:12<00:00,  2.61it/s]"
     ]
    },
    {
     "name": "stdout",
     "output_type": "stream",
     "text": [
      "Epoch 28:  (best: False)train loss = 0.094 (auc: 0.914 f1: 0.741), validation loss = 0.098 (auc: 0.906 f1: 0.620)\n"
     ]
    },
    {
     "name": "stderr",
     "output_type": "stream",
     "text": [
      "100%|██████████████████████████████████████████| 16/16 [00:00<00:00, 123.74it/s]\n",
      "100%|███████████████████████████████████████████| 30/30 [00:12<00:00,  2.37it/s]\n"
     ]
    },
    {
     "name": "stdout",
     "output_type": "stream",
     "text": [
      "Epoch 29:  (best: False)train loss = 0.093 (auc: 0.917 f1: 0.741), validation loss = 0.098 (auc: 0.907 f1: 0.622)\n"
     ]
    },
    {
     "name": "stderr",
     "output_type": "stream",
     "text": [
      "100%|██████████████████████████████████████████| 16/16 [00:00<00:00, 115.70it/s]\n",
      "  3%|█▍                                          | 1/30 [00:00<00:10,  2.82it/s]"
     ]
    },
    {
     "name": "stdout",
     "output_type": "stream",
     "text": [
      "Epoch 0:  (best: True)train loss = 0.112 (auc: 0.869 f1: 0.142), validation loss = 0.113 (auc: 0.883 f1: 0.118)\n"
     ]
    },
    {
     "name": "stderr",
     "output_type": "stream",
     "text": [
      "100%|██████████████████████████████████████████| 16/16 [00:00<00:00, 120.44it/s]\n",
      "  7%|██▉                                         | 2/30 [00:00<00:09,  2.88it/s]"
     ]
    },
    {
     "name": "stdout",
     "output_type": "stream",
     "text": [
      "Epoch 1:  (best: True)train loss = 0.105 (auc: 0.862 f1: 0.397), validation loss = 0.106 (auc: 0.881 f1: 0.393)\n"
     ]
    },
    {
     "name": "stderr",
     "output_type": "stream",
     "text": [
      "100%|██████████████████████████████████████████| 16/16 [00:00<00:00, 124.34it/s]\n",
      " 10%|████▍                                       | 3/30 [00:01<00:10,  2.65it/s]"
     ]
    },
    {
     "name": "stdout",
     "output_type": "stream",
     "text": [
      "Epoch 2:  (best: True)train loss = 0.102 (auc: 0.877 f1: 0.452), validation loss = 0.103 (auc: 0.892 f1: 0.436)\n"
     ]
    },
    {
     "name": "stderr",
     "output_type": "stream",
     "text": [
      "100%|██████████████████████████████████████████| 16/16 [00:00<00:00, 108.91it/s]\n",
      " 13%|█████▊                                      | 4/30 [00:01<00:09,  2.61it/s]"
     ]
    },
    {
     "name": "stdout",
     "output_type": "stream",
     "text": [
      "Epoch 3:  (best: True)train loss = 0.100 (auc: 0.881 f1: 0.536), validation loss = 0.100 (auc: 0.892 f1: 0.510)\n"
     ]
    },
    {
     "name": "stderr",
     "output_type": "stream",
     "text": [
      "100%|██████████████████████████████████████████| 16/16 [00:00<00:00, 111.08it/s]\n",
      " 17%|███████▎                                    | 5/30 [00:01<00:09,  2.65it/s]"
     ]
    },
    {
     "name": "stdout",
     "output_type": "stream",
     "text": [
      "Epoch 4:  (best: False)train loss = 0.099 (auc: 0.885 f1: 0.536), validation loss = 0.100 (auc: 0.895 f1: 0.507)\n"
     ]
    },
    {
     "name": "stderr",
     "output_type": "stream",
     "text": [
      "100%|██████████████████████████████████████████| 16/16 [00:00<00:00, 111.04it/s]\n",
      " 20%|████████▊                                   | 6/30 [00:02<00:08,  2.69it/s]"
     ]
    },
    {
     "name": "stdout",
     "output_type": "stream",
     "text": [
      "Epoch 5:  (best: True)train loss = 0.098 (auc: 0.889 f1: 0.582), validation loss = 0.100 (auc: 0.901 f1: 0.554)\n"
     ]
    },
    {
     "name": "stderr",
     "output_type": "stream",
     "text": [
      "100%|██████████████████████████████████████████| 16/16 [00:00<00:00, 113.88it/s]\n",
      " 23%|██████████▎                                 | 7/30 [00:02<00:08,  2.69it/s]"
     ]
    },
    {
     "name": "stdout",
     "output_type": "stream",
     "text": [
      "Epoch 6:  (best: True)train loss = 0.097 (auc: 0.898 f1: 0.593), validation loss = 0.099 (auc: 0.906 f1: 0.569)\n"
     ]
    },
    {
     "name": "stderr",
     "output_type": "stream",
     "text": [
      "100%|██████████████████████████████████████████| 16/16 [00:00<00:00, 118.47it/s]\n",
      " 27%|███████████▋                                | 8/30 [00:02<00:08,  2.72it/s]"
     ]
    },
    {
     "name": "stdout",
     "output_type": "stream",
     "text": [
      "Epoch 7:  (best: True)train loss = 0.096 (auc: 0.907 f1: 0.651), validation loss = 0.098 (auc: 0.910 f1: 0.608)\n"
     ]
    },
    {
     "name": "stderr",
     "output_type": "stream",
     "text": [
      "100%|███████████████████████████████████████████| 16/16 [00:00<00:00, 89.92it/s]\n",
      " 30%|█████████████▏                              | 9/30 [00:03<00:08,  2.58it/s]"
     ]
    },
    {
     "name": "stdout",
     "output_type": "stream",
     "text": [
      "Epoch 8:  (best: True)train loss = 0.096 (auc: 0.914 f1: 0.685), validation loss = 0.098 (auc: 0.911 f1: 0.643)\n"
     ]
    },
    {
     "name": "stderr",
     "output_type": "stream",
     "text": [
      "100%|██████████████████████████████████████████| 16/16 [00:00<00:00, 121.27it/s]\n",
      " 33%|██████████████▎                            | 10/30 [00:03<00:07,  2.56it/s]"
     ]
    },
    {
     "name": "stdout",
     "output_type": "stream",
     "text": [
      "Epoch 9:  (best: False)train loss = 0.095 (auc: 0.902 f1: 0.701), validation loss = 0.098 (auc: 0.899 f1: 0.610)\n"
     ]
    },
    {
     "name": "stderr",
     "output_type": "stream",
     "text": [
      "100%|██████████████████████████████████████████| 16/16 [00:00<00:00, 108.02it/s]\n",
      " 37%|███████████████▊                           | 11/30 [00:04<00:07,  2.61it/s]"
     ]
    },
    {
     "name": "stdout",
     "output_type": "stream",
     "text": [
      "Epoch 10:  (best: False)train loss = 0.094 (auc: 0.915 f1: 0.706), validation loss = 0.098 (auc: 0.911 f1: 0.628)\n"
     ]
    },
    {
     "name": "stderr",
     "output_type": "stream",
     "text": [
      "100%|██████████████████████████████████████████| 16/16 [00:00<00:00, 110.05it/s]\n",
      " 40%|█████████████████▏                         | 12/30 [00:04<00:06,  2.66it/s]"
     ]
    },
    {
     "name": "stdout",
     "output_type": "stream",
     "text": [
      "Epoch 11:  (best: False)train loss = 0.095 (auc: 0.922 f1: 0.718), validation loss = 0.098 (auc: 0.912 f1: 0.630)\n"
     ]
    },
    {
     "name": "stderr",
     "output_type": "stream",
     "text": [
      "100%|██████████████████████████████████████████| 16/16 [00:00<00:00, 102.02it/s]\n",
      " 43%|██████████████████▋                        | 13/30 [00:04<00:06,  2.68it/s]"
     ]
    },
    {
     "name": "stdout",
     "output_type": "stream",
     "text": [
      "Epoch 12:  (best: False)train loss = 0.094 (auc: 0.923 f1: 0.717), validation loss = 0.098 (auc: 0.915 f1: 0.634)\n"
     ]
    },
    {
     "name": "stderr",
     "output_type": "stream",
     "text": [
      "100%|██████████████████████████████████████████| 16/16 [00:00<00:00, 112.81it/s]\n",
      " 47%|████████████████████                       | 14/30 [00:05<00:05,  2.70it/s]"
     ]
    },
    {
     "name": "stdout",
     "output_type": "stream",
     "text": [
      "Epoch 13:  (best: True)train loss = 0.094 (auc: 0.926 f1: 0.725), validation loss = 0.097 (auc: 0.914 f1: 0.647)\n"
     ]
    },
    {
     "name": "stderr",
     "output_type": "stream",
     "text": [
      "100%|██████████████████████████████████████████| 16/16 [00:00<00:00, 102.07it/s]\n",
      " 50%|█████████████████████▌                     | 15/30 [00:05<00:05,  2.69it/s]"
     ]
    },
    {
     "name": "stdout",
     "output_type": "stream",
     "text": [
      "Epoch 14:  (best: False)train loss = 0.094 (auc: 0.926 f1: 0.719), validation loss = 0.098 (auc: 0.911 f1: 0.645)\n"
     ]
    },
    {
     "name": "stderr",
     "output_type": "stream",
     "text": [
      "100%|██████████████████████████████████████████| 16/16 [00:00<00:00, 106.48it/s]\n",
      " 53%|██████████████████████▉                    | 16/30 [00:06<00:05,  2.61it/s]"
     ]
    },
    {
     "name": "stdout",
     "output_type": "stream",
     "text": [
      "Epoch 15:  (best: False)train loss = 0.094 (auc: 0.924 f1: 0.729), validation loss = 0.098 (auc: 0.909 f1: 0.640)\n"
     ]
    },
    {
     "name": "stderr",
     "output_type": "stream",
     "text": [
      "100%|██████████████████████████████████████████| 16/16 [00:00<00:00, 112.19it/s]\n",
      " 57%|████████████████████████▎                  | 17/30 [00:06<00:04,  2.62it/s]"
     ]
    },
    {
     "name": "stdout",
     "output_type": "stream",
     "text": [
      "Epoch 16:  (best: False)train loss = 0.094 (auc: 0.923 f1: 0.745), validation loss = 0.097 (auc: 0.910 f1: 0.642)\n"
     ]
    },
    {
     "name": "stderr",
     "output_type": "stream",
     "text": [
      "100%|███████████████████████████████████████████| 16/16 [00:00<00:00, 95.95it/s]\n",
      " 60%|█████████████████████████▊                 | 18/30 [00:06<00:04,  2.61it/s]"
     ]
    },
    {
     "name": "stdout",
     "output_type": "stream",
     "text": [
      "Epoch 17:  (best: True)train loss = 0.094 (auc: 0.925 f1: 0.739), validation loss = 0.097 (auc: 0.912 f1: 0.659)\n"
     ]
    },
    {
     "name": "stderr",
     "output_type": "stream",
     "text": [
      "100%|██████████████████████████████████████████| 16/16 [00:00<00:00, 103.80it/s]\n",
      " 63%|███████████████████████████▏               | 19/30 [00:07<00:04,  2.57it/s]"
     ]
    },
    {
     "name": "stdout",
     "output_type": "stream",
     "text": [
      "Epoch 18:  (best: False)train loss = 0.094 (auc: 0.923 f1: 0.736), validation loss = 0.097 (auc: 0.912 f1: 0.650)\n"
     ]
    },
    {
     "name": "stderr",
     "output_type": "stream",
     "text": [
      "100%|██████████████████████████████████████████| 16/16 [00:00<00:00, 130.28it/s]\n",
      " 67%|████████████████████████████▋              | 20/30 [00:07<00:03,  2.59it/s]"
     ]
    },
    {
     "name": "stdout",
     "output_type": "stream",
     "text": [
      "Epoch 19:  (best: False)train loss = 0.093 (auc: 0.924 f1: 0.749), validation loss = 0.097 (auc: 0.910 f1: 0.659)\n"
     ]
    },
    {
     "name": "stderr",
     "output_type": "stream",
     "text": [
      "100%|██████████████████████████████████████████| 16/16 [00:00<00:00, 120.11it/s]\n",
      " 70%|██████████████████████████████             | 21/30 [00:07<00:03,  2.54it/s]"
     ]
    },
    {
     "name": "stdout",
     "output_type": "stream",
     "text": [
      "Epoch 20:  (best: True)train loss = 0.093 (auc: 0.925 f1: 0.763), validation loss = 0.097 (auc: 0.910 f1: 0.669)\n"
     ]
    },
    {
     "name": "stderr",
     "output_type": "stream",
     "text": [
      "100%|███████████████████████████████████████████| 16/16 [00:00<00:00, 90.00it/s]\n",
      " 73%|███████████████████████████████▌           | 22/30 [00:08<00:03,  2.52it/s]"
     ]
    },
    {
     "name": "stdout",
     "output_type": "stream",
     "text": [
      "Epoch 21:  (best: True)train loss = 0.093 (auc: 0.923 f1: 0.768), validation loss = 0.097 (auc: 0.909 f1: 0.673)\n"
     ]
    },
    {
     "name": "stderr",
     "output_type": "stream",
     "text": [
      "100%|██████████████████████████████████████████| 16/16 [00:00<00:00, 104.61it/s]\n",
      " 77%|████████████████████████████████▉          | 23/30 [00:08<00:02,  2.48it/s]"
     ]
    },
    {
     "name": "stdout",
     "output_type": "stream",
     "text": [
      "Epoch 22:  (best: True)train loss = 0.094 (auc: 0.923 f1: 0.770), validation loss = 0.096 (auc: 0.906 f1: 0.684)\n"
     ]
    },
    {
     "name": "stderr",
     "output_type": "stream",
     "text": [
      "100%|██████████████████████████████████████████| 16/16 [00:00<00:00, 114.46it/s]\n",
      " 80%|██████████████████████████████████▍        | 24/30 [00:09<00:02,  2.53it/s]"
     ]
    },
    {
     "name": "stdout",
     "output_type": "stream",
     "text": [
      "Epoch 23:  (best: True)train loss = 0.093 (auc: 0.925 f1: 0.767), validation loss = 0.096 (auc: 0.906 f1: 0.689)\n"
     ]
    },
    {
     "name": "stderr",
     "output_type": "stream",
     "text": [
      "100%|██████████████████████████████████████████| 16/16 [00:00<00:00, 116.42it/s]\n",
      " 83%|███████████████████████████████████▊       | 25/30 [00:09<00:01,  2.61it/s]"
     ]
    },
    {
     "name": "stdout",
     "output_type": "stream",
     "text": [
      "Epoch 24:  (best: False)train loss = 0.094 (auc: 0.926 f1: 0.768), validation loss = 0.096 (auc: 0.908 f1: 0.678)\n"
     ]
    },
    {
     "name": "stderr",
     "output_type": "stream",
     "text": [
      "100%|███████████████████████████████████████████| 16/16 [00:00<00:00, 91.73it/s]\n",
      " 87%|█████████████████████████████████████▎     | 26/30 [00:09<00:01,  2.57it/s]"
     ]
    },
    {
     "name": "stdout",
     "output_type": "stream",
     "text": [
      "Epoch 25:  (best: False)train loss = 0.093 (auc: 0.924 f1: 0.768), validation loss = 0.096 (auc: 0.906 f1: 0.684)\n"
     ]
    },
    {
     "name": "stderr",
     "output_type": "stream",
     "text": [
      "100%|██████████████████████████████████████████| 16/16 [00:00<00:00, 103.86it/s]\n",
      " 90%|██████████████████████████████████████▋    | 27/30 [00:10<00:01,  2.53it/s]"
     ]
    },
    {
     "name": "stdout",
     "output_type": "stream",
     "text": [
      "Epoch 26:  (best: False)train loss = 0.093 (auc: 0.925 f1: 0.765), validation loss = 0.096 (auc: 0.908 f1: 0.674)\n"
     ]
    },
    {
     "name": "stderr",
     "output_type": "stream",
     "text": [
      "100%|██████████████████████████████████████████| 16/16 [00:00<00:00, 128.11it/s]\n",
      " 93%|████████████████████████████████████████▏  | 28/30 [00:10<00:00,  2.56it/s]"
     ]
    },
    {
     "name": "stdout",
     "output_type": "stream",
     "text": [
      "Epoch 27:  (best: False)train loss = 0.093 (auc: 0.923 f1: 0.765), validation loss = 0.096 (auc: 0.906 f1: 0.676)\n"
     ]
    },
    {
     "name": "stderr",
     "output_type": "stream",
     "text": [
      "100%|██████████████████████████████████████████| 16/16 [00:00<00:00, 109.88it/s]\n",
      " 97%|█████████████████████████████████████████▌ | 29/30 [00:11<00:00,  2.59it/s]"
     ]
    },
    {
     "name": "stdout",
     "output_type": "stream",
     "text": [
      "Epoch 28:  (best: False)train loss = 0.093 (auc: 0.924 f1: 0.766), validation loss = 0.096 (auc: 0.907 f1: 0.684)\n"
     ]
    },
    {
     "name": "stderr",
     "output_type": "stream",
     "text": [
      "100%|██████████████████████████████████████████| 16/16 [00:00<00:00, 102.86it/s]\n",
      "100%|███████████████████████████████████████████| 30/30 [00:11<00:00,  2.61it/s]\n"
     ]
    },
    {
     "name": "stdout",
     "output_type": "stream",
     "text": [
      "Epoch 29:  (best: False)train loss = 0.093 (auc: 0.926 f1: 0.765), validation loss = 0.096 (auc: 0.907 f1: 0.682)\n"
     ]
    },
    {
     "name": "stderr",
     "output_type": "stream",
     "text": [
      "100%|██████████████████████████████████████████| 16/16 [00:00<00:00, 134.59it/s]\n",
      "  3%|█▍                                          | 1/30 [00:00<00:09,  3.02it/s]"
     ]
    },
    {
     "name": "stdout",
     "output_type": "stream",
     "text": [
      "Epoch 0:  (best: True)train loss = 0.112 (auc: 0.844 f1: 0.189), validation loss = 0.113 (auc: 0.850 f1: 0.136)\n"
     ]
    },
    {
     "name": "stderr",
     "output_type": "stream",
     "text": [
      "100%|██████████████████████████████████████████| 16/16 [00:00<00:00, 114.04it/s]\n",
      "  7%|██▉                                         | 2/30 [00:00<00:09,  2.81it/s]"
     ]
    },
    {
     "name": "stdout",
     "output_type": "stream",
     "text": [
      "Epoch 1:  (best: True)train loss = 0.105 (auc: 0.869 f1: 0.397), validation loss = 0.105 (auc: 0.885 f1: 0.389)\n"
     ]
    },
    {
     "name": "stderr",
     "output_type": "stream",
     "text": [
      "100%|██████████████████████████████████████████| 16/16 [00:00<00:00, 114.19it/s]\n",
      " 10%|████▍                                       | 3/30 [00:01<00:09,  2.82it/s]"
     ]
    },
    {
     "name": "stdout",
     "output_type": "stream",
     "text": [
      "Epoch 2:  (best: True)train loss = 0.101 (auc: 0.872 f1: 0.462), validation loss = 0.102 (auc: 0.885 f1: 0.453)\n"
     ]
    },
    {
     "name": "stderr",
     "output_type": "stream",
     "text": [
      "100%|███████████████████████████████████████████| 16/16 [00:00<00:00, 93.26it/s]\n",
      " 13%|█████▊                                      | 4/30 [00:01<00:09,  2.66it/s]"
     ]
    },
    {
     "name": "stdout",
     "output_type": "stream",
     "text": [
      "Epoch 3:  (best: True)train loss = 0.100 (auc: 0.876 f1: 0.519), validation loss = 0.101 (auc: 0.891 f1: 0.495)\n"
     ]
    },
    {
     "name": "stderr",
     "output_type": "stream",
     "text": [
      "100%|██████████████████████████████████████████| 16/16 [00:00<00:00, 107.86it/s]\n",
      " 17%|███████▎                                    | 5/30 [00:01<00:09,  2.52it/s]"
     ]
    },
    {
     "name": "stdout",
     "output_type": "stream",
     "text": [
      "Epoch 4:  (best: True)train loss = 0.099 (auc: 0.883 f1: 0.566), validation loss = 0.100 (auc: 0.893 f1: 0.548)\n"
     ]
    },
    {
     "name": "stderr",
     "output_type": "stream",
     "text": [
      "100%|██████████████████████████████████████████| 16/16 [00:00<00:00, 113.82it/s]\n",
      " 20%|████████▊                                   | 6/30 [00:02<00:09,  2.53it/s]"
     ]
    },
    {
     "name": "stdout",
     "output_type": "stream",
     "text": [
      "Epoch 5:  (best: True)train loss = 0.098 (auc: 0.883 f1: 0.601), validation loss = 0.099 (auc: 0.897 f1: 0.559)\n"
     ]
    },
    {
     "name": "stderr",
     "output_type": "stream",
     "text": [
      "100%|██████████████████████████████████████████| 16/16 [00:00<00:00, 109.89it/s]\n",
      " 23%|██████████▎                                 | 7/30 [00:02<00:09,  2.49it/s]"
     ]
    },
    {
     "name": "stdout",
     "output_type": "stream",
     "text": [
      "Epoch 6:  (best: True)train loss = 0.097 (auc: 0.890 f1: 0.607), validation loss = 0.099 (auc: 0.896 f1: 0.576)\n"
     ]
    },
    {
     "name": "stderr",
     "output_type": "stream",
     "text": [
      "100%|██████████████████████████████████████████| 16/16 [00:00<00:00, 109.74it/s]\n",
      " 27%|███████████▋                                | 8/30 [00:03<00:08,  2.49it/s]"
     ]
    },
    {
     "name": "stdout",
     "output_type": "stream",
     "text": [
      "Epoch 7:  (best: False)train loss = 0.097 (auc: 0.886 f1: 0.603), validation loss = 0.099 (auc: 0.895 f1: 0.559)\n"
     ]
    },
    {
     "name": "stderr",
     "output_type": "stream",
     "text": [
      "100%|███████████████████████████████████████████| 16/16 [00:00<00:00, 89.03it/s]\n",
      " 30%|█████████████▏                              | 9/30 [00:03<00:08,  2.46it/s]"
     ]
    },
    {
     "name": "stdout",
     "output_type": "stream",
     "text": [
      "Epoch 8:  (best: True)train loss = 0.097 (auc: 0.891 f1: 0.627), validation loss = 0.099 (auc: 0.897 f1: 0.587)\n"
     ]
    },
    {
     "name": "stderr",
     "output_type": "stream",
     "text": [
      "100%|██████████████████████████████████████████| 16/16 [00:00<00:00, 118.73it/s]\n",
      " 33%|██████████████▎                            | 10/30 [00:03<00:07,  2.52it/s]"
     ]
    },
    {
     "name": "stdout",
     "output_type": "stream",
     "text": [
      "Epoch 9:  (best: True)train loss = 0.096 (auc: 0.891 f1: 0.633), validation loss = 0.098 (auc: 0.894 f1: 0.590)\n"
     ]
    },
    {
     "name": "stderr",
     "output_type": "stream",
     "text": [
      "100%|██████████████████████████████████████████| 16/16 [00:00<00:00, 132.12it/s]\n",
      " 37%|███████████████▊                           | 11/30 [00:04<00:07,  2.65it/s]"
     ]
    },
    {
     "name": "stdout",
     "output_type": "stream",
     "text": [
      "Epoch 10:  (best: False)train loss = 0.097 (auc: 0.890 f1: 0.629), validation loss = 0.098 (auc: 0.892 f1: 0.584)\n"
     ]
    },
    {
     "name": "stderr",
     "output_type": "stream",
     "text": [
      "100%|██████████████████████████████████████████| 16/16 [00:00<00:00, 123.83it/s]\n",
      " 40%|█████████████████▏                         | 12/30 [00:04<00:06,  2.70it/s]"
     ]
    },
    {
     "name": "stdout",
     "output_type": "stream",
     "text": [
      "Epoch 11:  (best: False)train loss = 0.097 (auc: 0.891 f1: 0.628), validation loss = 0.098 (auc: 0.890 f1: 0.580)\n"
     ]
    },
    {
     "name": "stderr",
     "output_type": "stream",
     "text": [
      "100%|██████████████████████████████████████████| 16/16 [00:00<00:00, 104.36it/s]\n",
      " 43%|██████████████████▋                        | 13/30 [00:05<00:06,  2.58it/s]"
     ]
    },
    {
     "name": "stdout",
     "output_type": "stream",
     "text": [
      "Epoch 12:  (best: True)train loss = 0.096 (auc: 0.894 f1: 0.666), validation loss = 0.099 (auc: 0.892 f1: 0.612)\n"
     ]
    },
    {
     "name": "stderr",
     "output_type": "stream",
     "text": [
      "100%|██████████████████████████████████████████| 16/16 [00:00<00:00, 103.36it/s]\n",
      " 47%|████████████████████                       | 14/30 [00:05<00:06,  2.63it/s]"
     ]
    },
    {
     "name": "stdout",
     "output_type": "stream",
     "text": [
      "Epoch 13:  (best: False)train loss = 0.096 (auc: 0.897 f1: 0.660), validation loss = 0.098 (auc: 0.893 f1: 0.600)\n"
     ]
    },
    {
     "name": "stderr",
     "output_type": "stream",
     "text": [
      "100%|██████████████████████████████████████████| 16/16 [00:00<00:00, 145.47it/s]\n",
      " 50%|█████████████████████▌                     | 15/30 [00:05<00:05,  2.64it/s]"
     ]
    },
    {
     "name": "stdout",
     "output_type": "stream",
     "text": [
      "Epoch 14:  (best: False)train loss = 0.095 (auc: 0.895 f1: 0.658), validation loss = 0.098 (auc: 0.894 f1: 0.600)\n"
     ]
    },
    {
     "name": "stderr",
     "output_type": "stream",
     "text": [
      "100%|███████████████████████████████████████████| 16/16 [00:00<00:00, 87.34it/s]\n",
      " 53%|██████████████████████▉                    | 16/30 [00:06<00:05,  2.56it/s]"
     ]
    },
    {
     "name": "stdout",
     "output_type": "stream",
     "text": [
      "Epoch 15:  (best: False)train loss = 0.095 (auc: 0.898 f1: 0.662), validation loss = 0.098 (auc: 0.895 f1: 0.597)\n"
     ]
    },
    {
     "name": "stderr",
     "output_type": "stream",
     "text": [
      "100%|██████████████████████████████████████████| 16/16 [00:00<00:00, 125.58it/s]\n",
      " 57%|████████████████████████▎                  | 17/30 [00:06<00:05,  2.60it/s]"
     ]
    },
    {
     "name": "stdout",
     "output_type": "stream",
     "text": [
      "Epoch 16:  (best: False)train loss = 0.096 (auc: 0.896 f1: 0.659), validation loss = 0.098 (auc: 0.892 f1: 0.595)\n"
     ]
    },
    {
     "name": "stderr",
     "output_type": "stream",
     "text": [
      "100%|██████████████████████████████████████████| 16/16 [00:00<00:00, 125.48it/s]\n",
      " 60%|█████████████████████████▊                 | 18/30 [00:06<00:04,  2.64it/s]"
     ]
    },
    {
     "name": "stdout",
     "output_type": "stream",
     "text": [
      "Epoch 17:  (best: False)train loss = 0.096 (auc: 0.897 f1: 0.660), validation loss = 0.098 (auc: 0.891 f1: 0.592)\n"
     ]
    },
    {
     "name": "stderr",
     "output_type": "stream",
     "text": [
      "100%|██████████████████████████████████████████| 16/16 [00:00<00:00, 120.76it/s]\n",
      " 63%|███████████████████████████▏               | 19/30 [00:07<00:04,  2.72it/s]"
     ]
    },
    {
     "name": "stdout",
     "output_type": "stream",
     "text": [
      "Epoch 18:  (best: False)train loss = 0.095 (auc: 0.896 f1: 0.659), validation loss = 0.098 (auc: 0.890 f1: 0.593)\n"
     ]
    },
    {
     "name": "stderr",
     "output_type": "stream",
     "text": [
      "100%|██████████████████████████████████████████| 16/16 [00:00<00:00, 116.34it/s]\n",
      " 67%|████████████████████████████▋              | 20/30 [00:07<00:03,  2.64it/s]"
     ]
    },
    {
     "name": "stdout",
     "output_type": "stream",
     "text": [
      "Epoch 19:  (best: False)train loss = 0.095 (auc: 0.899 f1: 0.672), validation loss = 0.098 (auc: 0.890 f1: 0.598)\n"
     ]
    },
    {
     "name": "stderr",
     "output_type": "stream",
     "text": [
      "100%|███████████████████████████████████████████| 16/16 [00:00<00:00, 90.08it/s]\n",
      " 70%|██████████████████████████████             | 21/30 [00:08<00:03,  2.48it/s]"
     ]
    },
    {
     "name": "stdout",
     "output_type": "stream",
     "text": [
      "Epoch 20:  (best: False)train loss = 0.095 (auc: 0.899 f1: 0.672), validation loss = 0.098 (auc: 0.890 f1: 0.603)\n"
     ]
    },
    {
     "name": "stderr",
     "output_type": "stream",
     "text": [
      "100%|██████████████████████████████████████████| 16/16 [00:00<00:00, 128.22it/s]\n",
      " 73%|███████████████████████████████▌           | 22/30 [00:08<00:03,  2.60it/s]"
     ]
    },
    {
     "name": "stdout",
     "output_type": "stream",
     "text": [
      "Epoch 21:  (best: False)train loss = 0.095 (auc: 0.901 f1: 0.676), validation loss = 0.098 (auc: 0.890 f1: 0.605)\n"
     ]
    },
    {
     "name": "stderr",
     "output_type": "stream",
     "text": [
      "100%|███████████████████████████████████████████| 16/16 [00:00<00:00, 99.82it/s]\n",
      " 77%|████████████████████████████████▉          | 23/30 [00:08<00:02,  2.63it/s]"
     ]
    },
    {
     "name": "stdout",
     "output_type": "stream",
     "text": [
      "Epoch 22:  (best: False)train loss = 0.095 (auc: 0.901 f1: 0.677), validation loss = 0.098 (auc: 0.889 f1: 0.591)\n"
     ]
    },
    {
     "name": "stderr",
     "output_type": "stream",
     "text": [
      "100%|██████████████████████████████████████████| 16/16 [00:00<00:00, 101.43it/s]\n",
      " 80%|██████████████████████████████████▍        | 24/30 [00:09<00:02,  2.61it/s]"
     ]
    },
    {
     "name": "stdout",
     "output_type": "stream",
     "text": [
      "Epoch 23:  (best: False)train loss = 0.095 (auc: 0.904 f1: 0.674), validation loss = 0.098 (auc: 0.889 f1: 0.591)\n"
     ]
    },
    {
     "name": "stderr",
     "output_type": "stream",
     "text": [
      "100%|███████████████████████████████████████████| 16/16 [00:00<00:00, 81.54it/s]\n",
      " 83%|███████████████████████████████████▊       | 25/30 [00:09<00:02,  2.47it/s]"
     ]
    },
    {
     "name": "stdout",
     "output_type": "stream",
     "text": [
      "Epoch 24:  (best: False)train loss = 0.096 (auc: 0.904 f1: 0.675), validation loss = 0.098 (auc: 0.892 f1: 0.584)\n"
     ]
    },
    {
     "name": "stderr",
     "output_type": "stream",
     "text": [
      "100%|███████████████████████████████████████████| 16/16 [00:00<00:00, 94.52it/s]\n",
      " 87%|█████████████████████████████████████▎     | 26/30 [00:10<00:01,  2.49it/s]"
     ]
    },
    {
     "name": "stdout",
     "output_type": "stream",
     "text": [
      "Epoch 25:  (best: False)train loss = 0.095 (auc: 0.895 f1: 0.679), validation loss = 0.098 (auc: 0.883 f1: 0.591)\n"
     ]
    },
    {
     "name": "stderr",
     "output_type": "stream",
     "text": [
      "100%|██████████████████████████████████████████| 16/16 [00:00<00:00, 102.96it/s]\n",
      " 90%|██████████████████████████████████████▋    | 27/30 [00:10<00:01,  2.48it/s]"
     ]
    },
    {
     "name": "stdout",
     "output_type": "stream",
     "text": [
      "Epoch 26:  (best: False)train loss = 0.095 (auc: 0.891 f1: 0.679), validation loss = 0.098 (auc: 0.876 f1: 0.589)\n"
     ]
    },
    {
     "name": "stderr",
     "output_type": "stream",
     "text": [
      "100%|██████████████████████████████████████████| 16/16 [00:00<00:00, 107.73it/s]\n",
      " 93%|████████████████████████████████████████▏  | 28/30 [00:10<00:00,  2.53it/s]"
     ]
    },
    {
     "name": "stdout",
     "output_type": "stream",
     "text": [
      "Epoch 27:  (best: False)train loss = 0.095 (auc: 0.897 f1: 0.678), validation loss = 0.098 (auc: 0.881 f1: 0.592)\n"
     ]
    },
    {
     "name": "stderr",
     "output_type": "stream",
     "text": [
      "100%|██████████████████████████████████████████| 16/16 [00:00<00:00, 102.08it/s]\n",
      " 97%|█████████████████████████████████████████▌ | 29/30 [00:11<00:00,  2.50it/s]"
     ]
    },
    {
     "name": "stdout",
     "output_type": "stream",
     "text": [
      "Epoch 28:  (best: False)train loss = 0.095 (auc: 0.899 f1: 0.678), validation loss = 0.098 (auc: 0.883 f1: 0.591)\n"
     ]
    },
    {
     "name": "stderr",
     "output_type": "stream",
     "text": [
      "100%|███████████████████████████████████████████| 16/16 [00:00<00:00, 91.34it/s]\n",
      "100%|███████████████████████████████████████████| 30/30 [00:11<00:00,  2.57it/s]\n"
     ]
    },
    {
     "name": "stdout",
     "output_type": "stream",
     "text": [
      "Epoch 29:  (best: False)train loss = 0.095 (auc: 0.899 f1: 0.677), validation loss = 0.098 (auc: 0.882 f1: 0.588)\n"
     ]
    },
    {
     "name": "stderr",
     "output_type": "stream",
     "text": [
      "100%|███████████████████████████████████████████| 16/16 [00:00<00:00, 99.91it/s]\n",
      "  3%|█▍                                          | 1/30 [00:00<00:11,  2.60it/s]"
     ]
    },
    {
     "name": "stdout",
     "output_type": "stream",
     "text": [
      "Epoch 0:  (best: True)train loss = 0.112 (auc: 0.839 f1: 0.119), validation loss = 0.113 (auc: 0.860 f1: 0.076)\n"
     ]
    },
    {
     "name": "stderr",
     "output_type": "stream",
     "text": [
      "100%|██████████████████████████████████████████| 16/16 [00:00<00:00, 113.13it/s]\n",
      "  7%|██▉                                         | 2/30 [00:00<00:10,  2.65it/s]"
     ]
    },
    {
     "name": "stdout",
     "output_type": "stream",
     "text": [
      "Epoch 1:  (best: True)train loss = 0.105 (auc: 0.858 f1: 0.371), validation loss = 0.106 (auc: 0.872 f1: 0.362)\n"
     ]
    },
    {
     "name": "stderr",
     "output_type": "stream",
     "text": [
      "100%|██████████████████████████████████████████| 16/16 [00:00<00:00, 101.75it/s]\n",
      " 10%|████▍                                       | 3/30 [00:01<00:10,  2.47it/s]"
     ]
    },
    {
     "name": "stdout",
     "output_type": "stream",
     "text": [
      "Epoch 2:  (best: True)train loss = 0.101 (auc: 0.863 f1: 0.497), validation loss = 0.101 (auc: 0.881 f1: 0.479)\n"
     ]
    },
    {
     "name": "stderr",
     "output_type": "stream",
     "text": [
      "100%|██████████████████████████████████████████| 16/16 [00:00<00:00, 117.50it/s]\n",
      " 13%|█████▊                                      | 4/30 [00:01<00:10,  2.58it/s]"
     ]
    },
    {
     "name": "stdout",
     "output_type": "stream",
     "text": [
      "Epoch 3:  (best: True)train loss = 0.100 (auc: 0.868 f1: 0.499), validation loss = 0.100 (auc: 0.884 f1: 0.493)\n"
     ]
    },
    {
     "name": "stderr",
     "output_type": "stream",
     "text": [
      "100%|██████████████████████████████████████████| 16/16 [00:00<00:00, 104.78it/s]\n",
      " 17%|███████▎                                    | 5/30 [00:01<00:09,  2.59it/s]"
     ]
    },
    {
     "name": "stdout",
     "output_type": "stream",
     "text": [
      "Epoch 4:  (best: True)train loss = 0.099 (auc: 0.872 f1: 0.535), validation loss = 0.100 (auc: 0.888 f1: 0.512)\n"
     ]
    },
    {
     "name": "stderr",
     "output_type": "stream",
     "text": [
      "100%|███████████████████████████████████████████| 16/16 [00:00<00:00, 90.18it/s]\n",
      " 20%|████████▊                                   | 6/30 [00:02<00:09,  2.57it/s]"
     ]
    },
    {
     "name": "stdout",
     "output_type": "stream",
     "text": [
      "Epoch 5:  (best: True)train loss = 0.097 (auc: 0.881 f1: 0.615), validation loss = 0.099 (auc: 0.900 f1: 0.580)\n"
     ]
    },
    {
     "name": "stderr",
     "output_type": "stream",
     "text": [
      "100%|███████████████████████████████████████████| 16/16 [00:00<00:00, 97.29it/s]\n",
      " 23%|██████████▎                                 | 7/30 [00:02<00:09,  2.54it/s]"
     ]
    },
    {
     "name": "stdout",
     "output_type": "stream",
     "text": [
      "Epoch 6:  (best: True)train loss = 0.097 (auc: 0.886 f1: 0.620), validation loss = 0.098 (auc: 0.900 f1: 0.586)\n"
     ]
    },
    {
     "name": "stderr",
     "output_type": "stream",
     "text": [
      "100%|██████████████████████████████████████████| 16/16 [00:00<00:00, 104.91it/s]\n",
      " 27%|███████████▋                                | 8/30 [00:03<00:08,  2.51it/s]"
     ]
    },
    {
     "name": "stdout",
     "output_type": "stream",
     "text": [
      "Epoch 7:  (best: True)train loss = 0.096 (auc: 0.892 f1: 0.631), validation loss = 0.098 (auc: 0.903 f1: 0.586)\n"
     ]
    },
    {
     "name": "stderr",
     "output_type": "stream",
     "text": [
      "100%|██████████████████████████████████████████| 16/16 [00:00<00:00, 111.14it/s]\n",
      " 30%|█████████████▏                              | 9/30 [00:03<00:08,  2.51it/s]"
     ]
    },
    {
     "name": "stdout",
     "output_type": "stream",
     "text": [
      "Epoch 8:  (best: True)train loss = 0.096 (auc: 0.894 f1: 0.644), validation loss = 0.098 (auc: 0.903 f1: 0.605)\n"
     ]
    },
    {
     "name": "stderr",
     "output_type": "stream",
     "text": [
      "100%|██████████████████████████████████████████| 16/16 [00:00<00:00, 116.42it/s]\n",
      " 33%|██████████████▎                            | 10/30 [00:03<00:08,  2.46it/s]"
     ]
    },
    {
     "name": "stdout",
     "output_type": "stream",
     "text": [
      "Epoch 9:  (best: False)train loss = 0.096 (auc: 0.895 f1: 0.641), validation loss = 0.098 (auc: 0.901 f1: 0.596)\n"
     ]
    },
    {
     "name": "stderr",
     "output_type": "stream",
     "text": [
      "100%|███████████████████████████████████████████| 16/16 [00:00<00:00, 89.57it/s]\n",
      " 37%|███████████████▊                           | 11/30 [00:04<00:08,  2.35it/s]"
     ]
    },
    {
     "name": "stdout",
     "output_type": "stream",
     "text": [
      "Epoch 10:  (best: True)train loss = 0.096 (auc: 0.900 f1: 0.683), validation loss = 0.098 (auc: 0.899 f1: 0.626)\n"
     ]
    },
    {
     "name": "stderr",
     "output_type": "stream",
     "text": [
      "100%|███████████████████████████████████████████| 16/16 [00:00<00:00, 96.61it/s]\n",
      " 40%|█████████████████▏                         | 12/30 [00:04<00:07,  2.33it/s]"
     ]
    },
    {
     "name": "stdout",
     "output_type": "stream",
     "text": [
      "Epoch 11:  (best: False)train loss = 0.095 (auc: 0.902 f1: 0.681), validation loss = 0.098 (auc: 0.902 f1: 0.622)\n"
     ]
    },
    {
     "name": "stderr",
     "output_type": "stream",
     "text": [
      "100%|███████████████████████████████████████████| 16/16 [00:00<00:00, 91.23it/s]\n",
      " 43%|██████████████████▋                        | 13/30 [00:05<00:07,  2.30it/s]"
     ]
    },
    {
     "name": "stdout",
     "output_type": "stream",
     "text": [
      "Epoch 12:  (best: False)train loss = 0.095 (auc: 0.901 f1: 0.690), validation loss = 0.098 (auc: 0.897 f1: 0.624)\n"
     ]
    },
    {
     "name": "stderr",
     "output_type": "stream",
     "text": [
      "100%|██████████████████████████████████████████| 16/16 [00:00<00:00, 109.43it/s]\n",
      " 47%|████████████████████                       | 14/30 [00:05<00:06,  2.32it/s]"
     ]
    },
    {
     "name": "stdout",
     "output_type": "stream",
     "text": [
      "Epoch 13:  (best: False)train loss = 0.095 (auc: 0.903 f1: 0.691), validation loss = 0.098 (auc: 0.897 f1: 0.618)\n"
     ]
    },
    {
     "name": "stderr",
     "output_type": "stream",
     "text": [
      "100%|██████████████████████████████████████████| 16/16 [00:00<00:00, 109.24it/s]\n",
      " 50%|█████████████████████▌                     | 15/30 [00:06<00:06,  2.39it/s]"
     ]
    },
    {
     "name": "stdout",
     "output_type": "stream",
     "text": [
      "Epoch 14:  (best: False)train loss = 0.095 (auc: 0.905 f1: 0.693), validation loss = 0.098 (auc: 0.899 f1: 0.614)\n"
     ]
    },
    {
     "name": "stderr",
     "output_type": "stream",
     "text": [
      "100%|███████████████████████████████████████████| 16/16 [00:00<00:00, 99.05it/s]\n",
      " 53%|██████████████████████▉                    | 16/30 [00:06<00:05,  2.46it/s]"
     ]
    },
    {
     "name": "stdout",
     "output_type": "stream",
     "text": [
      "Epoch 15:  (best: False)train loss = 0.095 (auc: 0.909 f1: 0.694), validation loss = 0.098 (auc: 0.900 f1: 0.615)\n"
     ]
    },
    {
     "name": "stderr",
     "output_type": "stream",
     "text": [
      "100%|██████████████████████████████████████████| 16/16 [00:00<00:00, 110.49it/s]\n",
      " 57%|████████████████████████▎                  | 17/30 [00:06<00:05,  2.50it/s]"
     ]
    },
    {
     "name": "stdout",
     "output_type": "stream",
     "text": [
      "Epoch 16:  (best: False)train loss = 0.095 (auc: 0.908 f1: 0.694), validation loss = 0.098 (auc: 0.900 f1: 0.624)\n"
     ]
    },
    {
     "name": "stderr",
     "output_type": "stream",
     "text": [
      "100%|███████████████████████████████████████████| 16/16 [00:00<00:00, 99.29it/s]\n",
      " 60%|█████████████████████████▊                 | 18/30 [00:07<00:04,  2.44it/s]"
     ]
    },
    {
     "name": "stdout",
     "output_type": "stream",
     "text": [
      "Epoch 17:  (best: False)train loss = 0.094 (auc: 0.907 f1: 0.695), validation loss = 0.098 (auc: 0.897 f1: 0.616)\n"
     ]
    },
    {
     "name": "stderr",
     "output_type": "stream",
     "text": [
      "100%|██████████████████████████████████████████| 16/16 [00:00<00:00, 110.79it/s]\n",
      " 63%|███████████████████████████▏               | 19/30 [00:07<00:04,  2.49it/s]"
     ]
    },
    {
     "name": "stdout",
     "output_type": "stream",
     "text": [
      "Epoch 18:  (best: False)train loss = 0.094 (auc: 0.909 f1: 0.694), validation loss = 0.098 (auc: 0.897 f1: 0.613)\n"
     ]
    },
    {
     "name": "stderr",
     "output_type": "stream",
     "text": [
      "100%|███████████████████████████████████████████| 16/16 [00:00<00:00, 68.15it/s]\n",
      " 67%|████████████████████████████▋              | 20/30 [00:08<00:04,  2.34it/s]"
     ]
    },
    {
     "name": "stdout",
     "output_type": "stream",
     "text": [
      "Epoch 19:  (best: False)train loss = 0.094 (auc: 0.910 f1: 0.696), validation loss = 0.098 (auc: 0.898 f1: 0.620)\n"
     ]
    },
    {
     "name": "stderr",
     "output_type": "stream",
     "text": [
      "100%|███████████████████████████████████████████| 16/16 [00:00<00:00, 87.23it/s]\n",
      " 70%|██████████████████████████████             | 21/30 [00:08<00:03,  2.36it/s]"
     ]
    },
    {
     "name": "stdout",
     "output_type": "stream",
     "text": [
      "Epoch 20:  (best: False)train loss = 0.095 (auc: 0.910 f1: 0.696), validation loss = 0.098 (auc: 0.897 f1: 0.622)\n"
     ]
    },
    {
     "name": "stderr",
     "output_type": "stream",
     "text": [
      "100%|██████████████████████████████████████████| 16/16 [00:00<00:00, 117.50it/s]\n",
      " 73%|███████████████████████████████▌           | 22/30 [00:09<00:03,  2.39it/s]"
     ]
    },
    {
     "name": "stdout",
     "output_type": "stream",
     "text": [
      "Epoch 21:  (best: False)train loss = 0.094 (auc: 0.910 f1: 0.698), validation loss = 0.098 (auc: 0.896 f1: 0.609)\n"
     ]
    },
    {
     "name": "stderr",
     "output_type": "stream",
     "text": [
      "100%|███████████████████████████████████████████| 16/16 [00:00<00:00, 82.28it/s]\n",
      " 77%|████████████████████████████████▉          | 23/30 [00:09<00:02,  2.36it/s]"
     ]
    },
    {
     "name": "stdout",
     "output_type": "stream",
     "text": [
      "Epoch 22:  (best: False)train loss = 0.094 (auc: 0.910 f1: 0.695), validation loss = 0.098 (auc: 0.897 f1: 0.610)\n"
     ]
    },
    {
     "name": "stderr",
     "output_type": "stream",
     "text": [
      "100%|███████████████████████████████████████████| 16/16 [00:00<00:00, 97.21it/s]\n",
      " 80%|██████████████████████████████████▍        | 24/30 [00:09<00:02,  2.35it/s]"
     ]
    },
    {
     "name": "stdout",
     "output_type": "stream",
     "text": [
      "Epoch 23:  (best: False)train loss = 0.094 (auc: 0.911 f1: 0.696), validation loss = 0.098 (auc: 0.898 f1: 0.607)\n"
     ]
    },
    {
     "name": "stderr",
     "output_type": "stream",
     "text": [
      "100%|███████████████████████████████████████████| 16/16 [00:00<00:00, 89.03it/s]\n",
      " 83%|███████████████████████████████████▊       | 25/30 [00:10<00:02,  2.27it/s]"
     ]
    },
    {
     "name": "stdout",
     "output_type": "stream",
     "text": [
      "Epoch 24:  (best: False)train loss = 0.094 (auc: 0.912 f1: 0.703), validation loss = 0.098 (auc: 0.897 f1: 0.611)\n"
     ]
    },
    {
     "name": "stderr",
     "output_type": "stream",
     "text": [
      "100%|███████████████████████████████████████████| 16/16 [00:00<00:00, 73.86it/s]\n",
      " 87%|█████████████████████████████████████▎     | 26/30 [00:10<00:01,  2.16it/s]"
     ]
    },
    {
     "name": "stdout",
     "output_type": "stream",
     "text": [
      "Epoch 25:  (best: False)train loss = 0.094 (auc: 0.912 f1: 0.706), validation loss = 0.098 (auc: 0.902 f1: 0.606)\n"
     ]
    },
    {
     "name": "stderr",
     "output_type": "stream",
     "text": [
      "100%|███████████████████████████████████████████| 16/16 [00:00<00:00, 96.23it/s]\n",
      " 90%|██████████████████████████████████████▋    | 27/30 [00:11<00:01,  2.21it/s]"
     ]
    },
    {
     "name": "stdout",
     "output_type": "stream",
     "text": [
      "Epoch 26:  (best: False)train loss = 0.094 (auc: 0.908 f1: 0.720), validation loss = 0.098 (auc: 0.896 f1: 0.615)\n"
     ]
    },
    {
     "name": "stderr",
     "output_type": "stream",
     "text": [
      "100%|██████████████████████████████████████████| 16/16 [00:00<00:00, 102.29it/s]\n",
      " 93%|████████████████████████████████████████▏  | 28/30 [00:11<00:00,  2.21it/s]"
     ]
    },
    {
     "name": "stdout",
     "output_type": "stream",
     "text": [
      "Epoch 27:  (best: True)train loss = 0.094 (auc: 0.911 f1: 0.727), validation loss = 0.098 (auc: 0.903 f1: 0.626)\n"
     ]
    },
    {
     "name": "stderr",
     "output_type": "stream",
     "text": [
      "100%|██████████████████████████████████████████| 16/16 [00:00<00:00, 115.38it/s]\n",
      " 97%|█████████████████████████████████████████▌ | 29/30 [00:12<00:00,  2.18it/s]"
     ]
    },
    {
     "name": "stdout",
     "output_type": "stream",
     "text": [
      "Epoch 28:  (best: False)train loss = 0.094 (auc: 0.914 f1: 0.729), validation loss = 0.098 (auc: 0.899 f1: 0.616)\n"
     ]
    },
    {
     "name": "stderr",
     "output_type": "stream",
     "text": [
      "100%|███████████████████████████████████████████| 16/16 [00:00<00:00, 85.14it/s]\n",
      "100%|███████████████████████████████████████████| 30/30 [00:12<00:00,  2.36it/s]\n"
     ]
    },
    {
     "name": "stdout",
     "output_type": "stream",
     "text": [
      "Epoch 29:  (best: False)train loss = 0.094 (auc: 0.910 f1: 0.732), validation loss = 0.098 (auc: 0.903 f1: 0.626)\n"
     ]
    },
    {
     "name": "stderr",
     "output_type": "stream",
     "text": [
      "100%|██████████████████████████████████████████| 16/16 [00:00<00:00, 110.39it/s]\n",
      "  3%|█▍                                          | 1/30 [00:00<00:10,  2.67it/s]"
     ]
    },
    {
     "name": "stdout",
     "output_type": "stream",
     "text": [
      "Epoch 0:  (best: True)train loss = 0.112 (auc: 0.854 f1: 0.154), validation loss = 0.113 (auc: 0.855 f1: 0.146)\n"
     ]
    },
    {
     "name": "stderr",
     "output_type": "stream",
     "text": [
      "100%|███████████████████████████████████████████| 16/16 [00:00<00:00, 91.49it/s]\n",
      "  7%|██▉                                         | 2/30 [00:00<00:11,  2.40it/s]"
     ]
    },
    {
     "name": "stdout",
     "output_type": "stream",
     "text": [
      "Epoch 1:  (best: True)train loss = 0.105 (auc: 0.860 f1: 0.399), validation loss = 0.106 (auc: 0.857 f1: 0.342)\n"
     ]
    },
    {
     "name": "stderr",
     "output_type": "stream",
     "text": [
      "100%|██████████████████████████████████████████| 16/16 [00:00<00:00, 121.87it/s]\n",
      " 10%|████▍                                       | 3/30 [00:01<00:10,  2.55it/s]"
     ]
    },
    {
     "name": "stdout",
     "output_type": "stream",
     "text": [
      "Epoch 2:  (best: True)train loss = 0.102 (auc: 0.868 f1: 0.421), validation loss = 0.103 (auc: 0.872 f1: 0.412)\n"
     ]
    },
    {
     "name": "stderr",
     "output_type": "stream",
     "text": [
      "100%|██████████████████████████████████████████| 16/16 [00:00<00:00, 117.84it/s]\n",
      " 13%|█████▊                                      | 4/30 [00:01<00:10,  2.51it/s]"
     ]
    },
    {
     "name": "stdout",
     "output_type": "stream",
     "text": [
      "Epoch 3:  (best: True)train loss = 0.101 (auc: 0.872 f1: 0.486), validation loss = 0.101 (auc: 0.870 f1: 0.468)\n"
     ]
    },
    {
     "name": "stderr",
     "output_type": "stream",
     "text": [
      "100%|██████████████████████████████████████████| 16/16 [00:00<00:00, 110.97it/s]\n",
      " 17%|███████▎                                    | 5/30 [00:02<00:10,  2.40it/s]"
     ]
    },
    {
     "name": "stdout",
     "output_type": "stream",
     "text": [
      "Epoch 4:  (best: True)train loss = 0.099 (auc: 0.881 f1: 0.574), validation loss = 0.100 (auc: 0.887 f1: 0.550)\n"
     ]
    },
    {
     "name": "stderr",
     "output_type": "stream",
     "text": [
      "100%|██████████████████████████████████████████| 16/16 [00:00<00:00, 102.08it/s]\n",
      " 20%|████████▊                                   | 6/30 [00:02<00:09,  2.45it/s]"
     ]
    },
    {
     "name": "stdout",
     "output_type": "stream",
     "text": [
      "Epoch 5:  (best: True)train loss = 0.098 (auc: 0.887 f1: 0.599), validation loss = 0.099 (auc: 0.886 f1: 0.569)\n"
     ]
    },
    {
     "name": "stderr",
     "output_type": "stream",
     "text": [
      "100%|██████████████████████████████████████████| 16/16 [00:00<00:00, 122.52it/s]\n",
      " 23%|██████████▎                                 | 7/30 [00:02<00:09,  2.45it/s]"
     ]
    },
    {
     "name": "stdout",
     "output_type": "stream",
     "text": [
      "Epoch 6:  (best: True)train loss = 0.097 (auc: 0.895 f1: 0.626), validation loss = 0.099 (auc: 0.893 f1: 0.589)\n"
     ]
    },
    {
     "name": "stderr",
     "output_type": "stream",
     "text": [
      "100%|██████████████████████████████████████████| 16/16 [00:00<00:00, 101.94it/s]\n",
      " 27%|███████████▋                                | 8/30 [00:03<00:09,  2.41it/s]"
     ]
    },
    {
     "name": "stdout",
     "output_type": "stream",
     "text": [
      "Epoch 7:  (best: True)train loss = 0.096 (auc: 0.903 f1: 0.651), validation loss = 0.098 (auc: 0.897 f1: 0.607)\n"
     ]
    },
    {
     "name": "stderr",
     "output_type": "stream",
     "text": [
      "100%|███████████████████████████████████████████| 16/16 [00:00<00:00, 98.33it/s]\n",
      " 30%|█████████████▏                              | 9/30 [00:03<00:09,  2.31it/s]"
     ]
    },
    {
     "name": "stdout",
     "output_type": "stream",
     "text": [
      "Epoch 8:  (best: False)train loss = 0.096 (auc: 0.906 f1: 0.669), validation loss = 0.098 (auc: 0.900 f1: 0.604)\n"
     ]
    },
    {
     "name": "stderr",
     "output_type": "stream",
     "text": [
      "100%|██████████████████████████████████████████| 16/16 [00:00<00:00, 102.16it/s]\n",
      " 33%|██████████████▎                            | 10/30 [00:04<00:08,  2.36it/s]"
     ]
    },
    {
     "name": "stdout",
     "output_type": "stream",
     "text": [
      "Epoch 9:  (best: False)train loss = 0.095 (auc: 0.909 f1: 0.674), validation loss = 0.098 (auc: 0.901 f1: 0.602)\n"
     ]
    },
    {
     "name": "stderr",
     "output_type": "stream",
     "text": [
      "100%|██████████████████████████████████████████| 16/16 [00:00<00:00, 113.68it/s]\n",
      " 37%|███████████████▊                           | 11/30 [00:04<00:07,  2.43it/s]"
     ]
    },
    {
     "name": "stdout",
     "output_type": "stream",
     "text": [
      "Epoch 10:  (best: False)train loss = 0.095 (auc: 0.909 f1: 0.686), validation loss = 0.098 (auc: 0.901 f1: 0.595)\n"
     ]
    },
    {
     "name": "stderr",
     "output_type": "stream",
     "text": [
      "100%|██████████████████████████████████████████| 16/16 [00:00<00:00, 117.42it/s]\n",
      " 40%|█████████████████▏                         | 12/30 [00:04<00:07,  2.48it/s]"
     ]
    },
    {
     "name": "stdout",
     "output_type": "stream",
     "text": [
      "Epoch 11:  (best: True)train loss = 0.095 (auc: 0.912 f1: 0.707), validation loss = 0.098 (auc: 0.900 f1: 0.614)\n"
     ]
    },
    {
     "name": "stderr",
     "output_type": "stream",
     "text": [
      "100%|███████████████████████████████████████████| 16/16 [00:00<00:00, 93.67it/s]\n",
      " 43%|██████████████████▋                        | 13/30 [00:05<00:07,  2.40it/s]"
     ]
    },
    {
     "name": "stdout",
     "output_type": "stream",
     "text": [
      "Epoch 12:  (best: True)train loss = 0.095 (auc: 0.915 f1: 0.708), validation loss = 0.098 (auc: 0.898 f1: 0.624)\n"
     ]
    },
    {
     "name": "stderr",
     "output_type": "stream",
     "text": [
      "100%|██████████████████████████████████████████| 16/16 [00:00<00:00, 105.37it/s]\n",
      " 47%|████████████████████                       | 14/30 [00:05<00:06,  2.43it/s]"
     ]
    },
    {
     "name": "stdout",
     "output_type": "stream",
     "text": [
      "Epoch 13:  (best: True)train loss = 0.094 (auc: 0.916 f1: 0.717), validation loss = 0.098 (auc: 0.899 f1: 0.635)\n"
     ]
    },
    {
     "name": "stderr",
     "output_type": "stream",
     "text": [
      "100%|██████████████████████████████████████████| 16/16 [00:00<00:00, 103.69it/s]\n",
      " 50%|█████████████████████▌                     | 15/30 [00:06<00:06,  2.42it/s]"
     ]
    },
    {
     "name": "stdout",
     "output_type": "stream",
     "text": [
      "Epoch 14:  (best: True)train loss = 0.094 (auc: 0.915 f1: 0.721), validation loss = 0.098 (auc: 0.898 f1: 0.637)\n"
     ]
    },
    {
     "name": "stderr",
     "output_type": "stream",
     "text": [
      "100%|██████████████████████████████████████████| 16/16 [00:00<00:00, 111.30it/s]\n",
      " 53%|██████████████████████▉                    | 16/30 [00:06<00:05,  2.50it/s]"
     ]
    },
    {
     "name": "stdout",
     "output_type": "stream",
     "text": [
      "Epoch 15:  (best: False)train loss = 0.094 (auc: 0.915 f1: 0.719), validation loss = 0.098 (auc: 0.896 f1: 0.634)\n"
     ]
    },
    {
     "name": "stderr",
     "output_type": "stream",
     "text": [
      "100%|███████████████████████████████████████████| 16/16 [00:00<00:00, 93.64it/s]\n",
      " 57%|████████████████████████▎                  | 17/30 [00:07<00:05,  2.38it/s]"
     ]
    },
    {
     "name": "stdout",
     "output_type": "stream",
     "text": [
      "Epoch 16:  (best: False)train loss = 0.094 (auc: 0.918 f1: 0.720), validation loss = 0.097 (auc: 0.902 f1: 0.634)\n"
     ]
    },
    {
     "name": "stderr",
     "output_type": "stream",
     "text": [
      "100%|███████████████████████████████████████████| 16/16 [00:00<00:00, 96.03it/s]\n",
      " 60%|█████████████████████████▊                 | 18/30 [00:07<00:04,  2.43it/s]"
     ]
    },
    {
     "name": "stdout",
     "output_type": "stream",
     "text": [
      "Epoch 17:  (best: False)train loss = 0.094 (auc: 0.916 f1: 0.721), validation loss = 0.097 (auc: 0.897 f1: 0.627)\n"
     ]
    },
    {
     "name": "stderr",
     "output_type": "stream",
     "text": [
      "100%|███████████████████████████████████████████| 16/16 [00:00<00:00, 93.54it/s]\n",
      " 63%|███████████████████████████▏               | 19/30 [00:07<00:04,  2.40it/s]"
     ]
    },
    {
     "name": "stdout",
     "output_type": "stream",
     "text": [
      "Epoch 18:  (best: False)train loss = 0.094 (auc: 0.917 f1: 0.721), validation loss = 0.097 (auc: 0.901 f1: 0.630)\n"
     ]
    },
    {
     "name": "stderr",
     "output_type": "stream",
     "text": [
      "100%|███████████████████████████████████████████| 16/16 [00:00<00:00, 92.75it/s]\n",
      " 67%|████████████████████████████▋              | 20/30 [00:08<00:04,  2.40it/s]"
     ]
    },
    {
     "name": "stdout",
     "output_type": "stream",
     "text": [
      "Epoch 19:  (best: False)train loss = 0.094 (auc: 0.917 f1: 0.721), validation loss = 0.097 (auc: 0.899 f1: 0.634)\n"
     ]
    },
    {
     "name": "stderr",
     "output_type": "stream",
     "text": [
      "100%|██████████████████████████████████████████| 16/16 [00:00<00:00, 123.41it/s]\n",
      " 70%|██████████████████████████████             | 21/30 [00:08<00:03,  2.38it/s]"
     ]
    },
    {
     "name": "stdout",
     "output_type": "stream",
     "text": [
      "Epoch 20:  (best: False)train loss = 0.094 (auc: 0.918 f1: 0.723), validation loss = 0.097 (auc: 0.903 f1: 0.635)\n"
     ]
    },
    {
     "name": "stderr",
     "output_type": "stream",
     "text": [
      "100%|██████████████████████████████████████████| 16/16 [00:00<00:00, 119.79it/s]\n",
      " 73%|███████████████████████████████▌           | 22/30 [00:09<00:03,  2.47it/s]"
     ]
    },
    {
     "name": "stdout",
     "output_type": "stream",
     "text": [
      "Epoch 21:  (best: False)train loss = 0.094 (auc: 0.918 f1: 0.722), validation loss = 0.097 (auc: 0.901 f1: 0.621)\n"
     ]
    },
    {
     "name": "stderr",
     "output_type": "stream",
     "text": [
      "100%|███████████████████████████████████████████| 16/16 [00:00<00:00, 84.39it/s]\n",
      " 77%|████████████████████████████████▉          | 23/30 [00:09<00:02,  2.40it/s]"
     ]
    },
    {
     "name": "stdout",
     "output_type": "stream",
     "text": [
      "Epoch 22:  (best: False)train loss = 0.094 (auc: 0.918 f1: 0.720), validation loss = 0.097 (auc: 0.900 f1: 0.626)\n"
     ]
    },
    {
     "name": "stderr",
     "output_type": "stream",
     "text": [
      "100%|██████████████████████████████████████████| 16/16 [00:00<00:00, 100.55it/s]\n",
      " 80%|██████████████████████████████████▍        | 24/30 [00:09<00:02,  2.49it/s]"
     ]
    },
    {
     "name": "stdout",
     "output_type": "stream",
     "text": [
      "Epoch 23:  (best: False)train loss = 0.094 (auc: 0.918 f1: 0.721), validation loss = 0.097 (auc: 0.899 f1: 0.624)\n"
     ]
    },
    {
     "name": "stderr",
     "output_type": "stream",
     "text": [
      "100%|██████████████████████████████████████████| 16/16 [00:00<00:00, 109.79it/s]\n",
      " 83%|███████████████████████████████████▊       | 25/30 [00:10<00:02,  2.49it/s]"
     ]
    },
    {
     "name": "stdout",
     "output_type": "stream",
     "text": [
      "Epoch 24:  (best: False)train loss = 0.094 (auc: 0.917 f1: 0.720), validation loss = 0.098 (auc: 0.899 f1: 0.619)\n"
     ]
    },
    {
     "name": "stderr",
     "output_type": "stream",
     "text": [
      "100%|██████████████████████████████████████████| 16/16 [00:00<00:00, 106.37it/s]\n",
      " 87%|█████████████████████████████████████▎     | 26/30 [00:10<00:01,  2.46it/s]"
     ]
    },
    {
     "name": "stdout",
     "output_type": "stream",
     "text": [
      "Epoch 25:  (best: False)train loss = 0.094 (auc: 0.917 f1: 0.723), validation loss = 0.098 (auc: 0.899 f1: 0.620)\n"
     ]
    },
    {
     "name": "stderr",
     "output_type": "stream",
     "text": [
      "100%|██████████████████████████████████████████| 16/16 [00:00<00:00, 114.74it/s]\n",
      " 90%|██████████████████████████████████████▋    | 27/30 [00:11<00:01,  2.41it/s]"
     ]
    },
    {
     "name": "stdout",
     "output_type": "stream",
     "text": [
      "Epoch 26:  (best: False)train loss = 0.094 (auc: 0.920 f1: 0.721), validation loss = 0.097 (auc: 0.899 f1: 0.623)\n"
     ]
    },
    {
     "name": "stderr",
     "output_type": "stream",
     "text": [
      "100%|███████████████████████████████████████████| 16/16 [00:00<00:00, 84.98it/s]\n",
      " 93%|████████████████████████████████████████▏  | 28/30 [00:11<00:00,  2.28it/s]"
     ]
    },
    {
     "name": "stdout",
     "output_type": "stream",
     "text": [
      "Epoch 27:  (best: False)train loss = 0.094 (auc: 0.919 f1: 0.720), validation loss = 0.098 (auc: 0.900 f1: 0.621)\n"
     ]
    },
    {
     "name": "stderr",
     "output_type": "stream",
     "text": [
      "100%|██████████████████████████████████████████| 16/16 [00:00<00:00, 109.99it/s]\n",
      " 97%|█████████████████████████████████████████▌ | 29/30 [00:12<00:00,  2.25it/s]"
     ]
    },
    {
     "name": "stdout",
     "output_type": "stream",
     "text": [
      "Epoch 28:  (best: False)train loss = 0.094 (auc: 0.921 f1: 0.720), validation loss = 0.098 (auc: 0.901 f1: 0.619)\n"
     ]
    },
    {
     "name": "stderr",
     "output_type": "stream",
     "text": [
      "100%|███████████████████████████████████████████| 16/16 [00:00<00:00, 75.86it/s]\n",
      "100%|███████████████████████████████████████████| 30/30 [00:12<00:00,  2.38it/s]"
     ]
    },
    {
     "name": "stdout",
     "output_type": "stream",
     "text": [
      "Epoch 29:  (best: False)train loss = 0.094 (auc: 0.921 f1: 0.733), validation loss = 0.097 (auc: 0.900 f1: 0.620)\n"
     ]
    },
    {
     "name": "stderr",
     "output_type": "stream",
     "text": [
      "\n"
     ]
    }
   ],
   "source": [
    "data = {\n",
    "    \"test_auc\": [],\n",
    "    \"test_f1\": [],\n",
    "    \"model_name\": [],\n",
    "}\n",
    "\n",
    "hparams = {\n",
    "    \"num_epochs\": 30,\n",
    "    \"hidden_dim\":  64,\n",
    "    \"lr\": 1e-2,\n",
    "}\n",
    "embbeding_dims = [2, 4, 8, 16, 32, 64, 128]\n",
    "    \n",
    "for embbeding_size in embbeding_dims:\n",
    "    \n",
    "    hparams[\"model_name\"] = f\"Baseline_{embbeding_size}\"\n",
    "    hparams[\"emb_dim\"] = embbeding_size\n",
    "    \n",
    "    for _ in range(10):\n",
    "        train_dl, test_dl, val_dl = prepare_dataset(\n",
    "            embbeddings_size=embbeding_size,\n",
    "            split_val=0.5,\n",
    "            batch_size=32\n",
    "        )\n",
    "\n",
    "        baseline = Baseline(\n",
    "            in_dim=hparams[\"emb_dim\"],\n",
    "            hidden_dim=hparams[\"hidden_dim\"],\n",
    "            num_classes=NUM_CLASSES,\n",
    "            name=hparams[\"model_name\"]\n",
    "\n",
    "        ).to(device)\n",
    "\n",
    "        optimiser = torch.optim.Adam(baseline.parameters(), lr=hparams[\"lr\"])\n",
    "        loss_func = torch.nn.CrossEntropyLoss()\n",
    "\n",
    "        baseline = fit(\n",
    "            baseline,\n",
    "            optimiser,\n",
    "            loss_func,\n",
    "            train_dl,\n",
    "            test_dl,\n",
    "            epochs=hparams[\"num_epochs\"],\n",
    "            print_metrics=True\n",
    "        )\n",
    "        with torch.no_grad():\n",
    "            test_loss, test_f1, test_auc = validate(baseline, loss_func, test_dl)\n",
    "        data[\"test_f1\"].append(test_f1)\n",
    "        data[\"test_auc\"].append(test_auc)\n",
    "        data[\"model_name\"].append(hparams[\"model_name\"])\n"
   ]
  },
  {
   "cell_type": "code",
   "execution_count": 13,
   "id": "b7b7937e-7393-4ad6-85f4-0736cd93a12b",
   "metadata": {},
   "outputs": [],
   "source": [
    "pd.DataFrame(data).to_csv(RESULTS_DIR / \"baseline_stats.csv\", index=False)"
   ]
  }
 ],
 "metadata": {
  "kernelspec": {
   "display_name": "Python 3 (ipykernel)",
   "language": "python",
   "name": "python3"
  },
  "language_info": {
   "codemirror_mode": {
    "name": "ipython",
    "version": 3
   },
   "file_extension": ".py",
   "mimetype": "text/x-python",
   "name": "python",
   "nbconvert_exporter": "python",
   "pygments_lexer": "ipython3",
   "version": "3.10.8"
  },
  "widgets": {
   "application/vnd.jupyter.widget-state+json": {
    "state": {},
    "version_major": 2,
    "version_minor": 0
   }
  }
 },
 "nbformat": 4,
 "nbformat_minor": 5
}
